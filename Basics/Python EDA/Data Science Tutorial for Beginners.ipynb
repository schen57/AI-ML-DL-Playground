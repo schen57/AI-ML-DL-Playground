{
 "cells": [
  {
   "cell_type": "markdown",
   "metadata": {},
   "source": [
    "The notebook is originally found over here:\n",
    "https://www.kaggle.com/kanncaa1/data-sciencetutorial-for-beginners\n",
    "\n",
    "This is my learning path by going through this notbook. Browsing through the content and it seems to be pretty good"
   ]
  },
  {
   "cell_type": "markdown",
   "metadata": {},
   "source": [
    "# Basic Data Science Skills\n",
    "1. Basic Tools. Only need to know ython\n",
    "2. Basic Stats\n",
    "3. Data Wrangling. \n",
    "4. Data Visuzliation\n",
    "5. Machine Learning"
   ]
  },
  {
   "cell_type": "markdown",
   "metadata": {},
   "source": [
    "As a summary we will learn python to be data scientist !!!\n",
    "\n",
    "Content:\n",
    "\n",
    "1. Introduction to Python:\n",
    "Matplotlib\n",
    "Dictionaries\n",
    "Pandas\n",
    "Logic, control flow and filtering\n",
    "Loop data structures\n",
    "2. Python Data Science Toolbox:\n",
    "User defined function\n",
    "Scope\n",
    "Nested function\n",
    "Default and flexible arguments\n",
    "Lambda function\n",
    "Anonymous function\n",
    "Iterators\n",
    "List comprehension\n",
    "3. Cleaning Data\n",
    "Diagnose data for cleaning\n",
    "Explotary data analysis\n",
    "Visual exploratory data analysis\n",
    "Tidy data\n",
    "Pivoting data\n",
    "Concatenating data\n",
    "Data types\n",
    "Missing data and testing with assert\n",
    "4. Pandas Foundation\n",
    "Review of pandas\n",
    "Building data frames from scratch\n",
    "Visual exploratory data analysis\n",
    "Statistical explatory data analysis\n",
    "Indexing pandas time series\n",
    "Resampling pandas time series\n",
    "5. Manipulating Data Frames with Pandas\n",
    "Indexing data frames\n",
    "Slicing data frames\n",
    "Filtering data frames\n",
    "Transforming data frames\n",
    "Index objects and labeled data\n",
    "Hierarchical indexing\n",
    "Pivoting data frames\n",
    "Stacking and unstacking data frames\n",
    "Melting data frames\n",
    "Categoricals and groupby\n",
    "6. Data Visualization\n",
    "Seaborn: https://www.kaggle.com/kanncaa1/seaborn-for-beginners\n",
    "Bokeh: https://www.kaggle.com/kanncaa1/interactive-bokeh-tutorial-part-1\n",
    "Bokeh: https://www.kaggle.com/kanncaa1/interactive-bokeh-tutorial-part-2\n",
    "7. Machine Learning\n",
    "https://www.kaggle.com/kanncaa1/machine-learning-tutorial-for-beginners/"
   ]
  },
  {
   "cell_type": "code",
   "execution_count": 2,
   "metadata": {},
   "outputs": [],
   "source": [
    "import numpy as np #linear algebra\n",
    "import pandas as pd #data processing, csv file IO (Read_csv)\n",
    "import matplotlib.pyplot as plt\n",
    "import seaborn as sns\n",
    "from subprocess import check_output"
   ]
  },
  {
   "cell_type": "code",
   "execution_count": 5,
   "metadata": {},
   "outputs": [
    {
     "name": "stdout",
     "output_type": "stream",
     "text": [
      "combats.csv\n",
      "pokemon.csv\n",
      "tests.csv\n",
      "\n"
     ]
    }
   ],
   "source": [
    "print(check_output([\"ls\",\"../DS beg\"]).decode(\"utf8\"))"
   ]
  },
  {
   "cell_type": "code",
   "execution_count": 6,
   "metadata": {},
   "outputs": [],
   "source": [
    "data=pd.read_csv(\"../DS beg/pokemon.csv\")"
   ]
  },
  {
   "cell_type": "code",
   "execution_count": 7,
   "metadata": {},
   "outputs": [
    {
     "name": "stdout",
     "output_type": "stream",
     "text": [
      "<class 'pandas.core.frame.DataFrame'>\n",
      "RangeIndex: 800 entries, 0 to 799\n",
      "Data columns (total 12 columns):\n",
      "#             800 non-null int64\n",
      "Name          799 non-null object\n",
      "Type 1        800 non-null object\n",
      "Type 2        414 non-null object\n",
      "HP            800 non-null int64\n",
      "Attack        800 non-null int64\n",
      "Defense       800 non-null int64\n",
      "Sp. Atk       800 non-null int64\n",
      "Sp. Def       800 non-null int64\n",
      "Speed         800 non-null int64\n",
      "Generation    800 non-null int64\n",
      "Legendary     800 non-null bool\n",
      "dtypes: bool(1), int64(8), object(3)\n",
      "memory usage: 69.6+ KB\n"
     ]
    }
   ],
   "source": [
    "data.info()"
   ]
  },
  {
   "cell_type": "code",
   "execution_count": null,
   "metadata": {},
   "outputs": [],
   "source": []
  }
 ],
 "metadata": {
  "kernelspec": {
   "display_name": "Python [conda root]",
   "language": "python",
   "name": "conda-root-py"
  },
  "language_info": {
   "codemirror_mode": {
    "name": "ipython",
    "version": 3
   },
   "file_extension": ".py",
   "mimetype": "text/x-python",
   "name": "python",
   "nbconvert_exporter": "python",
   "pygments_lexer": "ipython3",
   "version": "3.6.3"
  }
 },
 "nbformat": 4,
 "nbformat_minor": 2
}
