{
 "cells": [
  {
   "cell_type": "markdown",
   "metadata": {},
   "source": [
    "# Class and Objects I\n",
    "\n",
    "https://www.hackerearth.com/practice/python/object-oriented-programming/classes-and-objects-ii-inheritance-and-composition/tutorial/\n",
    "\n",
    "Python is an “object-oriented programming language.” This means that almost all the code is implemented using a special construct called classes. Programmers use classes to keep related things together. This is done using the keyword “class,” which is a grouping of object-oriented constructs.\n",
    "\n",
    "#### Goals:\n",
    "1. Define what is a class\n",
    "2. Describe how to create a class\n",
    "3. Define what is a method \n",
    "4. Describe how to do object instantiation\n",
    "5. Describe how to create instance attributes in python"
   ]
  },
  {
   "cell_type": "markdown",
   "metadata": {},
   "source": [
    "# What is a class?\n",
    "A class is a code template for creating objects. Objects have member variables and have behaviour associated with them. In python a class is created by the keyword class.\n",
    "\n",
    "An object is created using the constructor of the class. This object will then be called the instance of the class. In Python we create instances in the following manner"
   ]
  },
  {
   "cell_type": "code",
   "execution_count": 1,
   "metadata": {},
   "outputs": [],
   "source": [
    "# Creating a simple class empty class with no functionalities\n",
    "class Snake:\n",
    "    pass\n"
   ]
  },
  {
   "cell_type": "code",
   "execution_count": 2,
   "metadata": {},
   "outputs": [],
   "source": [
    "snake=Snake()"
   ]
  },
  {
   "cell_type": "code",
   "execution_count": 3,
   "metadata": {},
   "outputs": [
    {
     "name": "stdout",
     "output_type": "stream",
     "text": [
      "<__main__.Snake object at 0x1097b31d0>\n"
     ]
    }
   ],
   "source": [
    "print(snake)"
   ]
  },
  {
   "cell_type": "markdown",
   "metadata": {},
   "source": [
    "# Attributes and Methods in class:\n",
    "### Attributes:\n",
    "A class by itself is of no use unless there is some functionality associated with it. Functionalities are defined by setting attributes, which act as containers for data and functions related to those attributes. Those functions are called methods."
   ]
  },
  {
   "cell_type": "code",
   "execution_count": 4,
   "metadata": {},
   "outputs": [],
   "source": [
    "# Define class with the name Snake. The class will have an attribute name\n",
    "class Snake:\n",
    "    name=\"python\""
   ]
  },
  {
   "cell_type": "markdown",
   "metadata": {},
   "source": [
    "Classes can be assigned to a variable. This is called object instantiation. Attributes can be accessed are present inside the class using the dot. operator. \n",
    "\n",
    "The format is: class.(attribute name)"
   ]
  },
  {
   "cell_type": "code",
   "execution_count": 5,
   "metadata": {},
   "outputs": [
    {
     "name": "stdout",
     "output_type": "stream",
     "text": [
      "python\n"
     ]
    }
   ],
   "source": [
    "snake=Snake()\n",
    "#accessing the class attribute name inside of the class:\n",
    "print(snake.name)"
   ]
  },
  {
   "cell_type": "markdown",
   "metadata": {},
   "source": [
    "### Methods:\n",
    "Once attributes that belong to the class, functions can be defined to access the class attributes. These functions are called methods. \n",
    "Attributes are like variables outside of the class. \n",
    "\n",
    "When defining methods, will need to always provide the first argument to the method with a self keyword. \n"
   ]
  },
  {
   "cell_type": "code",
   "execution_count": 6,
   "metadata": {},
   "outputs": [],
   "source": [
    "class Snake:\n",
    "    name=\"python\"\n",
    "    \n",
    "    def change_name(self ,new_name): #note the first argument is self\n",
    "        self.name=new_name #access the class attribute with the self keyword"
   ]
  },
  {
   "cell_type": "code",
   "execution_count": 7,
   "metadata": {},
   "outputs": [],
   "source": [
    "# Instantiate the class\n",
    "snake=Snake()"
   ]
  },
  {
   "cell_type": "code",
   "execution_count": 8,
   "metadata": {},
   "outputs": [
    {
     "name": "stdout",
     "output_type": "stream",
     "text": [
      "python\n"
     ]
    }
   ],
   "source": [
    "#print the current object name\n",
    "print(snake.name)"
   ]
  },
  {
   "cell_type": "code",
   "execution_count": 9,
   "metadata": {},
   "outputs": [
    {
     "name": "stdout",
     "output_type": "stream",
     "text": [
      "Anaconda\n"
     ]
    }
   ],
   "source": [
    "#change the name using the change_name method\n",
    "snake.change_name(\"Anaconda\")\n",
    "print(snake.name)"
   ]
  },
  {
   "cell_type": "markdown",
   "metadata": {},
   "source": [
    "### Instance attributes in python and the init method \n",
    "Values can be provided for the attributes at runtime. This is done by defining the attributes inside the init method. \n",
    "\n",
    "Important thing here is that this is to provide values for attributes at runtime. "
   ]
  },
  {
   "cell_type": "code",
   "execution_count": 10,
   "metadata": {},
   "outputs": [],
   "source": [
    "class Snake:\n",
    "    def __init__(self,name):\n",
    "        self.name=name\n",
    "        \n",
    "    def change_name(self,new_name):\n",
    "        self.name=new_name"
   ]
  },
  {
   "cell_type": "code",
   "execution_count": 11,
   "metadata": {},
   "outputs": [],
   "source": [
    "#Now to directly define separate attribute values for separate objects\n",
    "#two variables are instantiated \n",
    "python=Snake(\"python\")\n",
    "anaconda=Snake(\"anaconda\")"
   ]
  },
  {
   "cell_type": "code",
   "execution_count": 12,
   "metadata": {},
   "outputs": [
    {
     "name": "stdout",
     "output_type": "stream",
     "text": [
      "python\n",
      "anaconda\n"
     ]
    }
   ],
   "source": [
    "#print the names of the two variables \n",
    "print(python.name)\n",
    "print(anaconda.name)"
   ]
  },
  {
   "cell_type": "markdown",
   "metadata": {},
   "source": [
    "# Classes and Objects II (Inheritance and composition)"
   ]
  },
  {
   "cell_type": "markdown",
   "metadata": {},
   "source": [
    "Classes are writtent to organize and structure code into meaningful blocks, which can be used to implement the business logic. \n",
    "\n",
    "These implementations are used in such a way that more complex parts are abstracted away to provide for simpler interfaces which can then be used to build even simpler blocks. \n",
    "\n",
    "While doing this, there are lots of times when we need to establish relationships between the classes tht we build. These relationships can be established using either inheritance or composition. "
   ]
  },
  {
   "cell_type": "markdown",
   "metadata": {},
   "source": [
    "### Python Inheirtance \n",
    "#### What it is"
   ]
  },
  {
   "cell_type": "markdown",
   "metadata": {},
   "source": [
    "In inheritance an object is based on another object. When inheritance is implemented, the methods and attributes that were defined in the base class will also be present in the inherited class. \n",
    "\n",
    "This is generally done to abstract away similar code in multiple classes. The abstracted code will reside in the base class and the previous classes will now inheirt from the base class"
   ]
  },
  {
   "cell_type": "markdown",
   "metadata": {},
   "source": [
    "#### How to achieve inheritance in python\n",
    "Python allows the classes to inherit commonly used attributes and methods from other classes through inheritance through inheritance. Base classes can be defined in the following way:\n",
    "\n",
    "\n",
    "``` class DerivedClassName(BaseClassName):\n",
    "    pass```"
   ]
  },
  {
   "cell_type": "code",
   "execution_count": 18,
   "metadata": {},
   "outputs": [
    {
     "name": "stdout",
     "output_type": "stream",
     "text": [
      "simplet rocket has reached till stratosphere\n",
      "mars_rover has reached till Mars\n",
      "mars_rover launched by ISRO\n"
     ]
    }
   ],
   "source": [
    "class Rocket: #base class \n",
    "    def __init__(self ,name, distance):\n",
    "        self.name=name\n",
    "        self.distance=distance\n",
    "    \n",
    "    def launch(self):\n",
    "        return \"%s has reached %s\" %(self.name, self.distance)\n",
    "    \n",
    "class MarsRover(Rocket): #Inheriting from the base class \n",
    "    def __init__(self, name, distance, maker):\n",
    "        Rocket.__init__(self,name,distance)\n",
    "        self.maker=maker \n",
    "        \n",
    "    def get_maker(self):\n",
    "        return \"%s launched by %s\" %(self.name,self.maker)\n",
    "    \n",
    "if __name__==\"__main__\":\n",
    "    x=Rocket(\"simplet rocket\",\"till stratosphere\")\n",
    "    y=MarsRover(\"mars_rover\",\"till Mars\",\"ISRO\")\n",
    "    print(x.launch())\n",
    "    print(y.launch())\n",
    "    print(y.get_maker())"
   ]
  },
  {
   "cell_type": "code",
   "execution_count": null,
   "metadata": {},
   "outputs": [],
   "source": []
  }
 ],
 "metadata": {
  "kernelspec": {
   "display_name": "Python [conda root]",
   "language": "python",
   "name": "conda-root-py"
  },
  "language_info": {
   "codemirror_mode": {
    "name": "ipython",
    "version": 3
   },
   "file_extension": ".py",
   "mimetype": "text/x-python",
   "name": "python",
   "nbconvert_exporter": "python",
   "pygments_lexer": "ipython3",
   "version": "3.6.3"
  }
 },
 "nbformat": 4,
 "nbformat_minor": 2
}
