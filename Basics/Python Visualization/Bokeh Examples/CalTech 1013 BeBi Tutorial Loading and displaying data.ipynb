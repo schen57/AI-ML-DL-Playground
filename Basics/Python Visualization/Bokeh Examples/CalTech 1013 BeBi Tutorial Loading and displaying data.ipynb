{
 "cells": [
  {
   "cell_type": "code",
   "execution_count": 39,
   "metadata": {},
   "outputs": [],
   "source": [
    "# Importing everything that's needed\n",
    "from __future__ import division, absolute_import, \\\n",
    "                                    print_function, unicode_literals\n",
    "import numpy as np\n",
    "import matplotlib.pyplot as plt\n",
    "import pandas as pd\n",
    "\n",
    "%matplotlib inline"
   ]
  },
  {
   "cell_type": "markdown",
   "metadata": {},
   "source": [
    "The first lines all begin with # signs, signifying that they are comments and not data. They do give important information, though, such as the meaning of the ID data. The ID refers to which specific frog was tested.\n",
    "Immediately after the comments, we have a row of comma-separated headers. This row sets the number of columns in this data set and labels the meaning of the columns. So, we see that the first column is the date of the experiment, the second column is the ID of the frog, the third is the trial number, and so on.\n",
    "After this row, each row repesents a single experiment where the frog struck the target.\n",
    "CSV files are generally a good way to store data. Commas make better delimiters than white space (such as tabs) because they have no portability issues. Delimiter collision is avoided by putting the data fields in double quotes when necessary. There are other good ways to store data, such as JSON, but we will almost exclusively use CSV files in this class."
   ]
  },
  {
   "cell_type": "code",
   "execution_count": 45,
   "metadata": {},
   "outputs": [],
   "source": [
    "fname='../Bokeh Examples/frog_tongue_adhesion.csv'\n",
    "df=pd.read_csv(fname,comment=\"#\")"
   ]
  },
  {
   "cell_type": "markdown",
   "metadata": {},
   "source": [
    "Notice that we used the kwarg comment to specify that lines that begin with # are comments and are to be ignored. If you check out the doc string for pd.read_csv, you will see there are lots of options for reading in the data."
   ]
  },
  {
   "cell_type": "code",
   "execution_count": 8,
   "metadata": {},
   "outputs": [
    {
     "data": {
      "text/html": [
       "<div>\n",
       "<style scoped>\n",
       "    .dataframe tbody tr th:only-of-type {\n",
       "        vertical-align: middle;\n",
       "    }\n",
       "\n",
       "    .dataframe tbody tr th {\n",
       "        vertical-align: top;\n",
       "    }\n",
       "\n",
       "    .dataframe thead th {\n",
       "        text-align: right;\n",
       "    }\n",
       "</style>\n",
       "<table border=\"1\" class=\"dataframe\">\n",
       "  <thead>\n",
       "    <tr style=\"text-align: right;\">\n",
       "      <th></th>\n",
       "      <th>date</th>\n",
       "      <th>ID</th>\n",
       "      <th>trial number</th>\n",
       "      <th>impact force (mN)</th>\n",
       "      <th>impact time (ms)</th>\n",
       "      <th>impact force / body weight</th>\n",
       "      <th>adhesive force (mN)</th>\n",
       "      <th>time frog pulls on target (ms)</th>\n",
       "      <th>adhesive force / body weight</th>\n",
       "      <th>adhesive impulse (N-s)</th>\n",
       "      <th>total contact area (mm2)</th>\n",
       "      <th>contact area without mucus (mm2)</th>\n",
       "      <th>contact area with mucus / contact area without mucus</th>\n",
       "      <th>contact pressure (Pa)</th>\n",
       "      <th>adhesive strength (Pa)</th>\n",
       "    </tr>\n",
       "  </thead>\n",
       "  <tbody>\n",
       "    <tr>\n",
       "      <th>0</th>\n",
       "      <td>2013_02_26</td>\n",
       "      <td>I</td>\n",
       "      <td>3</td>\n",
       "      <td>1205</td>\n",
       "      <td>46</td>\n",
       "      <td>1.95</td>\n",
       "      <td>-785</td>\n",
       "      <td>884</td>\n",
       "      <td>1.27</td>\n",
       "      <td>-0.290</td>\n",
       "      <td>387</td>\n",
       "      <td>70</td>\n",
       "      <td>0.82</td>\n",
       "      <td>3117</td>\n",
       "      <td>-2030</td>\n",
       "    </tr>\n",
       "    <tr>\n",
       "      <th>1</th>\n",
       "      <td>2013_02_26</td>\n",
       "      <td>I</td>\n",
       "      <td>4</td>\n",
       "      <td>2527</td>\n",
       "      <td>44</td>\n",
       "      <td>4.08</td>\n",
       "      <td>-983</td>\n",
       "      <td>248</td>\n",
       "      <td>1.59</td>\n",
       "      <td>-0.181</td>\n",
       "      <td>101</td>\n",
       "      <td>94</td>\n",
       "      <td>0.07</td>\n",
       "      <td>24923</td>\n",
       "      <td>-9695</td>\n",
       "    </tr>\n",
       "    <tr>\n",
       "      <th>2</th>\n",
       "      <td>2013_03_01</td>\n",
       "      <td>I</td>\n",
       "      <td>1</td>\n",
       "      <td>1745</td>\n",
       "      <td>34</td>\n",
       "      <td>2.82</td>\n",
       "      <td>-850</td>\n",
       "      <td>211</td>\n",
       "      <td>1.37</td>\n",
       "      <td>-0.157</td>\n",
       "      <td>83</td>\n",
       "      <td>79</td>\n",
       "      <td>0.05</td>\n",
       "      <td>21020</td>\n",
       "      <td>-10239</td>\n",
       "    </tr>\n",
       "    <tr>\n",
       "      <th>3</th>\n",
       "      <td>2013_03_01</td>\n",
       "      <td>I</td>\n",
       "      <td>2</td>\n",
       "      <td>1556</td>\n",
       "      <td>41</td>\n",
       "      <td>2.51</td>\n",
       "      <td>-455</td>\n",
       "      <td>1025</td>\n",
       "      <td>0.74</td>\n",
       "      <td>-0.170</td>\n",
       "      <td>330</td>\n",
       "      <td>158</td>\n",
       "      <td>0.52</td>\n",
       "      <td>4718</td>\n",
       "      <td>-1381</td>\n",
       "    </tr>\n",
       "    <tr>\n",
       "      <th>4</th>\n",
       "      <td>2013_03_01</td>\n",
       "      <td>I</td>\n",
       "      <td>3</td>\n",
       "      <td>493</td>\n",
       "      <td>36</td>\n",
       "      <td>0.80</td>\n",
       "      <td>-974</td>\n",
       "      <td>499</td>\n",
       "      <td>1.57</td>\n",
       "      <td>-0.423</td>\n",
       "      <td>245</td>\n",
       "      <td>216</td>\n",
       "      <td>0.12</td>\n",
       "      <td>2012</td>\n",
       "      <td>-3975</td>\n",
       "    </tr>\n",
       "    <tr>\n",
       "      <th>5</th>\n",
       "      <td>2013_03_01</td>\n",
       "      <td>I</td>\n",
       "      <td>4</td>\n",
       "      <td>2276</td>\n",
       "      <td>31</td>\n",
       "      <td>3.68</td>\n",
       "      <td>-592</td>\n",
       "      <td>969</td>\n",
       "      <td>0.96</td>\n",
       "      <td>-0.176</td>\n",
       "      <td>341</td>\n",
       "      <td>106</td>\n",
       "      <td>0.69</td>\n",
       "      <td>6676</td>\n",
       "      <td>-1737</td>\n",
       "    </tr>\n",
       "    <tr>\n",
       "      <th>6</th>\n",
       "      <td>2013_03_05</td>\n",
       "      <td>I</td>\n",
       "      <td>1</td>\n",
       "      <td>556</td>\n",
       "      <td>43</td>\n",
       "      <td>0.90</td>\n",
       "      <td>-512</td>\n",
       "      <td>835</td>\n",
       "      <td>0.83</td>\n",
       "      <td>-0.285</td>\n",
       "      <td>359</td>\n",
       "      <td>110</td>\n",
       "      <td>0.69</td>\n",
       "      <td>1550</td>\n",
       "      <td>-1427</td>\n",
       "    </tr>\n",
       "    <tr>\n",
       "      <th>7</th>\n",
       "      <td>2013_03_05</td>\n",
       "      <td>I</td>\n",
       "      <td>2</td>\n",
       "      <td>1928</td>\n",
       "      <td>46</td>\n",
       "      <td>3.11</td>\n",
       "      <td>-804</td>\n",
       "      <td>508</td>\n",
       "      <td>1.30</td>\n",
       "      <td>-0.285</td>\n",
       "      <td>246</td>\n",
       "      <td>178</td>\n",
       "      <td>0.28</td>\n",
       "      <td>7832</td>\n",
       "      <td>-3266</td>\n",
       "    </tr>\n",
       "    <tr>\n",
       "      <th>8</th>\n",
       "      <td>2013_03_05</td>\n",
       "      <td>I</td>\n",
       "      <td>3</td>\n",
       "      <td>2641</td>\n",
       "      <td>50</td>\n",
       "      <td>4.27</td>\n",
       "      <td>-690</td>\n",
       "      <td>491</td>\n",
       "      <td>1.12</td>\n",
       "      <td>-0.239</td>\n",
       "      <td>269</td>\n",
       "      <td>224</td>\n",
       "      <td>0.17</td>\n",
       "      <td>9824</td>\n",
       "      <td>-2568</td>\n",
       "    </tr>\n",
       "    <tr>\n",
       "      <th>9</th>\n",
       "      <td>2013_03_05</td>\n",
       "      <td>I</td>\n",
       "      <td>4</td>\n",
       "      <td>1897</td>\n",
       "      <td>41</td>\n",
       "      <td>3.06</td>\n",
       "      <td>-462</td>\n",
       "      <td>839</td>\n",
       "      <td>0.75</td>\n",
       "      <td>-0.328</td>\n",
       "      <td>266</td>\n",
       "      <td>176</td>\n",
       "      <td>0.34</td>\n",
       "      <td>7122</td>\n",
       "      <td>-1733</td>\n",
       "    </tr>\n",
       "  </tbody>\n",
       "</table>\n",
       "</div>"
      ],
      "text/plain": [
       "         date ID  trial number  impact force (mN)  impact time (ms)  \\\n",
       "0  2013_02_26  I             3               1205                46   \n",
       "1  2013_02_26  I             4               2527                44   \n",
       "2  2013_03_01  I             1               1745                34   \n",
       "3  2013_03_01  I             2               1556                41   \n",
       "4  2013_03_01  I             3                493                36   \n",
       "5  2013_03_01  I             4               2276                31   \n",
       "6  2013_03_05  I             1                556                43   \n",
       "7  2013_03_05  I             2               1928                46   \n",
       "8  2013_03_05  I             3               2641                50   \n",
       "9  2013_03_05  I             4               1897                41   \n",
       "\n",
       "   impact force / body weight  adhesive force (mN)  \\\n",
       "0                        1.95                 -785   \n",
       "1                        4.08                 -983   \n",
       "2                        2.82                 -850   \n",
       "3                        2.51                 -455   \n",
       "4                        0.80                 -974   \n",
       "5                        3.68                 -592   \n",
       "6                        0.90                 -512   \n",
       "7                        3.11                 -804   \n",
       "8                        4.27                 -690   \n",
       "9                        3.06                 -462   \n",
       "\n",
       "   time frog pulls on target (ms)  adhesive force / body weight  \\\n",
       "0                             884                          1.27   \n",
       "1                             248                          1.59   \n",
       "2                             211                          1.37   \n",
       "3                            1025                          0.74   \n",
       "4                             499                          1.57   \n",
       "5                             969                          0.96   \n",
       "6                             835                          0.83   \n",
       "7                             508                          1.30   \n",
       "8                             491                          1.12   \n",
       "9                             839                          0.75   \n",
       "\n",
       "   adhesive impulse (N-s)  total contact area (mm2)  \\\n",
       "0                  -0.290                       387   \n",
       "1                  -0.181                       101   \n",
       "2                  -0.157                        83   \n",
       "3                  -0.170                       330   \n",
       "4                  -0.423                       245   \n",
       "5                  -0.176                       341   \n",
       "6                  -0.285                       359   \n",
       "7                  -0.285                       246   \n",
       "8                  -0.239                       269   \n",
       "9                  -0.328                       266   \n",
       "\n",
       "   contact area without mucus (mm2)  \\\n",
       "0                                70   \n",
       "1                                94   \n",
       "2                                79   \n",
       "3                               158   \n",
       "4                               216   \n",
       "5                               106   \n",
       "6                               110   \n",
       "7                               178   \n",
       "8                               224   \n",
       "9                               176   \n",
       "\n",
       "   contact area with mucus / contact area without mucus  \\\n",
       "0                                               0.82      \n",
       "1                                               0.07      \n",
       "2                                               0.05      \n",
       "3                                               0.52      \n",
       "4                                               0.12      \n",
       "5                                               0.69      \n",
       "6                                               0.69      \n",
       "7                                               0.28      \n",
       "8                                               0.17      \n",
       "9                                               0.34      \n",
       "\n",
       "   contact pressure (Pa)  adhesive strength (Pa)  \n",
       "0                   3117                   -2030  \n",
       "1                  24923                   -9695  \n",
       "2                  21020                  -10239  \n",
       "3                   4718                   -1381  \n",
       "4                   2012                   -3975  \n",
       "5                   6676                   -1737  \n",
       "6                   1550                   -1427  \n",
       "7                   7832                   -3266  \n",
       "8                   9824                   -2568  \n",
       "9                   7122                   -1733  "
      ]
     },
     "execution_count": 8,
     "metadata": {},
     "output_type": "execute_result"
    }
   ],
   "source": [
    "df[:10] #row selections only in this mode for pandas library"
   ]
  },
  {
   "cell_type": "code",
   "execution_count": 10,
   "metadata": {},
   "outputs": [
    {
     "data": {
      "text/plain": [
       "0    1205\n",
       "1    2527\n",
       "2    1745\n",
       "3    1556\n",
       "4     493\n",
       "Name: impact force (mN), dtype: int64"
      ]
     },
     "execution_count": 10,
     "metadata": {},
     "output_type": "execute_result"
    }
   ],
   "source": [
    "# Slicing column out of the dataframe by way of specifying the column name\n",
    "df['impact force (mN)'][:5]"
   ]
  },
  {
   "cell_type": "markdown",
   "metadata": {},
   "source": [
    "The indexing of the rows is preserved, and we can see that we can easily extract all of the impact forces. Note, though, that pd.read_csv interpreted the data to be integer (dtype = int64), so we may want to convert these to floats."
   ]
  },
  {
   "cell_type": "code",
   "execution_count": 11,
   "metadata": {},
   "outputs": [
    {
     "data": {
      "text/plain": [
       "dtype('float64')"
      ]
     },
     "execution_count": 11,
     "metadata": {},
     "output_type": "execute_result"
    }
   ],
   "source": [
    "#Use .astype method to convert the column to a specific data type\n",
    "df['impact force (mN)']=df['impact force (mN)'].astype(np.float64)\n",
    "\n",
    "#check the result\n",
    "df['impact force (mN)'].dtype"
   ]
  },
  {
   "cell_type": "code",
   "execution_count": 12,
   "metadata": {},
   "outputs": [
    {
     "data": {
      "text/html": [
       "<div>\n",
       "<style scoped>\n",
       "    .dataframe tbody tr th:only-of-type {\n",
       "        vertical-align: middle;\n",
       "    }\n",
       "\n",
       "    .dataframe tbody tr th {\n",
       "        vertical-align: top;\n",
       "    }\n",
       "\n",
       "    .dataframe thead th {\n",
       "        text-align: right;\n",
       "    }\n",
       "</style>\n",
       "<table border=\"1\" class=\"dataframe\">\n",
       "  <thead>\n",
       "    <tr style=\"text-align: right;\">\n",
       "      <th></th>\n",
       "      <th>date</th>\n",
       "      <th>ID</th>\n",
       "      <th>trial number</th>\n",
       "      <th>impact force (mN)</th>\n",
       "      <th>impact time (ms)</th>\n",
       "      <th>impact force / body weight</th>\n",
       "      <th>adhesive force (mN)</th>\n",
       "      <th>time frog pulls on target (ms)</th>\n",
       "      <th>adhesive force / body weight</th>\n",
       "      <th>adhesive impulse (N-s)</th>\n",
       "      <th>total contact area (mm2)</th>\n",
       "      <th>contact area without mucus (mm2)</th>\n",
       "      <th>contact area with mucus / contact area without mucus</th>\n",
       "      <th>contact pressure (Pa)</th>\n",
       "      <th>adhesive strength (Pa)</th>\n",
       "    </tr>\n",
       "  </thead>\n",
       "  <tbody>\n",
       "    <tr>\n",
       "      <th>0</th>\n",
       "      <td>2013_02_26</td>\n",
       "      <td>I</td>\n",
       "      <td>3</td>\n",
       "      <td>1205.0</td>\n",
       "      <td>46</td>\n",
       "      <td>1.95</td>\n",
       "      <td>-785</td>\n",
       "      <td>884</td>\n",
       "      <td>1.27</td>\n",
       "      <td>-0.290</td>\n",
       "      <td>387</td>\n",
       "      <td>70</td>\n",
       "      <td>0.82</td>\n",
       "      <td>3117</td>\n",
       "      <td>-2030</td>\n",
       "    </tr>\n",
       "    <tr>\n",
       "      <th>1</th>\n",
       "      <td>2013_02_26</td>\n",
       "      <td>I</td>\n",
       "      <td>4</td>\n",
       "      <td>2527.0</td>\n",
       "      <td>44</td>\n",
       "      <td>4.08</td>\n",
       "      <td>-983</td>\n",
       "      <td>248</td>\n",
       "      <td>1.59</td>\n",
       "      <td>-0.181</td>\n",
       "      <td>101</td>\n",
       "      <td>94</td>\n",
       "      <td>0.07</td>\n",
       "      <td>24923</td>\n",
       "      <td>-9695</td>\n",
       "    </tr>\n",
       "    <tr>\n",
       "      <th>2</th>\n",
       "      <td>2013_03_01</td>\n",
       "      <td>I</td>\n",
       "      <td>1</td>\n",
       "      <td>1745.0</td>\n",
       "      <td>34</td>\n",
       "      <td>2.82</td>\n",
       "      <td>-850</td>\n",
       "      <td>211</td>\n",
       "      <td>1.37</td>\n",
       "      <td>-0.157</td>\n",
       "      <td>83</td>\n",
       "      <td>79</td>\n",
       "      <td>0.05</td>\n",
       "      <td>21020</td>\n",
       "      <td>-10239</td>\n",
       "    </tr>\n",
       "    <tr>\n",
       "      <th>3</th>\n",
       "      <td>2013_03_01</td>\n",
       "      <td>I</td>\n",
       "      <td>2</td>\n",
       "      <td>1556.0</td>\n",
       "      <td>41</td>\n",
       "      <td>2.51</td>\n",
       "      <td>-455</td>\n",
       "      <td>1025</td>\n",
       "      <td>0.74</td>\n",
       "      <td>-0.170</td>\n",
       "      <td>330</td>\n",
       "      <td>158</td>\n",
       "      <td>0.52</td>\n",
       "      <td>4718</td>\n",
       "      <td>-1381</td>\n",
       "    </tr>\n",
       "    <tr>\n",
       "      <th>5</th>\n",
       "      <td>2013_03_01</td>\n",
       "      <td>I</td>\n",
       "      <td>4</td>\n",
       "      <td>2276.0</td>\n",
       "      <td>31</td>\n",
       "      <td>3.68</td>\n",
       "      <td>-592</td>\n",
       "      <td>969</td>\n",
       "      <td>0.96</td>\n",
       "      <td>-0.176</td>\n",
       "      <td>341</td>\n",
       "      <td>106</td>\n",
       "      <td>0.69</td>\n",
       "      <td>6676</td>\n",
       "      <td>-1737</td>\n",
       "    </tr>\n",
       "  </tbody>\n",
       "</table>\n",
       "</div>"
      ],
      "text/plain": [
       "         date ID  trial number  impact force (mN)  impact time (ms)  \\\n",
       "0  2013_02_26  I             3             1205.0                46   \n",
       "1  2013_02_26  I             4             2527.0                44   \n",
       "2  2013_03_01  I             1             1745.0                34   \n",
       "3  2013_03_01  I             2             1556.0                41   \n",
       "5  2013_03_01  I             4             2276.0                31   \n",
       "\n",
       "   impact force / body weight  adhesive force (mN)  \\\n",
       "0                        1.95                 -785   \n",
       "1                        4.08                 -983   \n",
       "2                        2.82                 -850   \n",
       "3                        2.51                 -455   \n",
       "5                        3.68                 -592   \n",
       "\n",
       "   time frog pulls on target (ms)  adhesive force / body weight  \\\n",
       "0                             884                          1.27   \n",
       "1                             248                          1.59   \n",
       "2                             211                          1.37   \n",
       "3                            1025                          0.74   \n",
       "5                             969                          0.96   \n",
       "\n",
       "   adhesive impulse (N-s)  total contact area (mm2)  \\\n",
       "0                  -0.290                       387   \n",
       "1                  -0.181                       101   \n",
       "2                  -0.157                        83   \n",
       "3                  -0.170                       330   \n",
       "5                  -0.176                       341   \n",
       "\n",
       "   contact area without mucus (mm2)  \\\n",
       "0                                70   \n",
       "1                                94   \n",
       "2                                79   \n",
       "3                               158   \n",
       "5                               106   \n",
       "\n",
       "   contact area with mucus / contact area without mucus  \\\n",
       "0                                               0.82      \n",
       "1                                               0.07      \n",
       "2                                               0.05      \n",
       "3                                               0.52      \n",
       "5                                               0.69      \n",
       "\n",
       "   contact pressure (Pa)  adhesive strength (Pa)  \n",
       "0                   3117                   -2030  \n",
       "1                  24923                   -9695  \n",
       "2                  21020                  -10239  \n",
       "3                   4718                   -1381  \n",
       "5                   6676                   -1737  "
      ]
     },
     "execution_count": 12,
     "metadata": {},
     "output_type": "execute_result"
    }
   ],
   "source": [
    "#Slicing and dicing based on boolean values \n",
    "df_big_force=df[df['impact force (mN)']>1000.]\n",
    "df_big_force.head()"
   ]
  },
  {
   "cell_type": "markdown",
   "metadata": {},
   "source": [
    "So now we only have the strikes of high force. Note, though, that the original indexing of rows was retained! In our new DataFrame with only the big force strikes, there is no index 4, for example."
   ]
  },
  {
   "cell_type": "code",
   "execution_count": 13,
   "metadata": {},
   "outputs": [
    {
     "ename": "KeyError",
     "evalue": "4",
     "output_type": "error",
     "traceback": [
      "\u001b[0;31m---------------------------------------------------------------------------\u001b[0m",
      "\u001b[0;31mKeyError\u001b[0m                                  Traceback (most recent call last)",
      "\u001b[0;32m<ipython-input-13-49d6e1395014>\u001b[0m in \u001b[0;36m<module>\u001b[0;34m()\u001b[0m\n\u001b[0;32m----> 1\u001b[0;31m \u001b[0mdf_big_force\u001b[0m\u001b[0;34m[\u001b[0m\u001b[0;34m'impact force (mN)'\u001b[0m\u001b[0;34m]\u001b[0m\u001b[0;34m[\u001b[0m\u001b[0;36m4\u001b[0m\u001b[0;34m]\u001b[0m\u001b[0;34m\u001b[0m\u001b[0m\n\u001b[0m",
      "\u001b[0;32m/anaconda/lib/python3.6/site-packages/pandas/core/series.py\u001b[0m in \u001b[0;36m__getitem__\u001b[0;34m(self, key)\u001b[0m\n\u001b[1;32m    621\u001b[0m         \u001b[0mkey\u001b[0m \u001b[0;34m=\u001b[0m \u001b[0mcom\u001b[0m\u001b[0;34m.\u001b[0m\u001b[0m_apply_if_callable\u001b[0m\u001b[0;34m(\u001b[0m\u001b[0mkey\u001b[0m\u001b[0;34m,\u001b[0m \u001b[0mself\u001b[0m\u001b[0;34m)\u001b[0m\u001b[0;34m\u001b[0m\u001b[0m\n\u001b[1;32m    622\u001b[0m         \u001b[0;32mtry\u001b[0m\u001b[0;34m:\u001b[0m\u001b[0;34m\u001b[0m\u001b[0m\n\u001b[0;32m--> 623\u001b[0;31m             \u001b[0mresult\u001b[0m \u001b[0;34m=\u001b[0m \u001b[0mself\u001b[0m\u001b[0;34m.\u001b[0m\u001b[0mindex\u001b[0m\u001b[0;34m.\u001b[0m\u001b[0mget_value\u001b[0m\u001b[0;34m(\u001b[0m\u001b[0mself\u001b[0m\u001b[0;34m,\u001b[0m \u001b[0mkey\u001b[0m\u001b[0;34m)\u001b[0m\u001b[0;34m\u001b[0m\u001b[0m\n\u001b[0m\u001b[1;32m    624\u001b[0m \u001b[0;34m\u001b[0m\u001b[0m\n\u001b[1;32m    625\u001b[0m             \u001b[0;32mif\u001b[0m \u001b[0;32mnot\u001b[0m \u001b[0mis_scalar\u001b[0m\u001b[0;34m(\u001b[0m\u001b[0mresult\u001b[0m\u001b[0;34m)\u001b[0m\u001b[0;34m:\u001b[0m\u001b[0;34m\u001b[0m\u001b[0m\n",
      "\u001b[0;32m/anaconda/lib/python3.6/site-packages/pandas/core/indexes/base.py\u001b[0m in \u001b[0;36mget_value\u001b[0;34m(self, series, key)\u001b[0m\n\u001b[1;32m   2555\u001b[0m         \u001b[0;32mtry\u001b[0m\u001b[0;34m:\u001b[0m\u001b[0;34m\u001b[0m\u001b[0m\n\u001b[1;32m   2556\u001b[0m             return self._engine.get_value(s, k,\n\u001b[0;32m-> 2557\u001b[0;31m                                           tz=getattr(series.dtype, 'tz', None))\n\u001b[0m\u001b[1;32m   2558\u001b[0m         \u001b[0;32mexcept\u001b[0m \u001b[0mKeyError\u001b[0m \u001b[0;32mas\u001b[0m \u001b[0me1\u001b[0m\u001b[0;34m:\u001b[0m\u001b[0;34m\u001b[0m\u001b[0m\n\u001b[1;32m   2559\u001b[0m             \u001b[0;32mif\u001b[0m \u001b[0mlen\u001b[0m\u001b[0;34m(\u001b[0m\u001b[0mself\u001b[0m\u001b[0;34m)\u001b[0m \u001b[0;34m>\u001b[0m \u001b[0;36m0\u001b[0m \u001b[0;32mand\u001b[0m \u001b[0mself\u001b[0m\u001b[0;34m.\u001b[0m\u001b[0minferred_type\u001b[0m \u001b[0;32min\u001b[0m \u001b[0;34m[\u001b[0m\u001b[0;34m'integer'\u001b[0m\u001b[0;34m,\u001b[0m \u001b[0;34m'boolean'\u001b[0m\u001b[0;34m]\u001b[0m\u001b[0;34m:\u001b[0m\u001b[0;34m\u001b[0m\u001b[0m\n",
      "\u001b[0;32mpandas/_libs/index.pyx\u001b[0m in \u001b[0;36mpandas._libs.index.IndexEngine.get_value\u001b[0;34m()\u001b[0m\n",
      "\u001b[0;32mpandas/_libs/index.pyx\u001b[0m in \u001b[0;36mpandas._libs.index.IndexEngine.get_value\u001b[0;34m()\u001b[0m\n",
      "\u001b[0;32mpandas/_libs/index.pyx\u001b[0m in \u001b[0;36mpandas._libs.index.IndexEngine.get_loc\u001b[0;34m()\u001b[0m\n",
      "\u001b[0;32mpandas/_libs/hashtable_class_helper.pxi\u001b[0m in \u001b[0;36mpandas._libs.hashtable.Int64HashTable.get_item\u001b[0;34m()\u001b[0m\n",
      "\u001b[0;32mpandas/_libs/hashtable_class_helper.pxi\u001b[0m in \u001b[0;36mpandas._libs.hashtable.Int64HashTable.get_item\u001b[0;34m()\u001b[0m\n",
      "\u001b[0;31mKeyError\u001b[0m: 4"
     ]
    }
   ],
   "source": [
    "df_big_force['impact force (mN)'][4]\n",
    "#after slicing, the original dataframe's index is preserved, therefore\n",
    "#referring to something that doesn't exsit such as using the key value 4\n",
    "# doesn't make sense in the new data frame "
   ]
  },
  {
   "cell_type": "markdown",
   "metadata": {},
   "source": [
    "So now we only have the strikes of high force. Note, though, that the original indexing of rows was retained! In our new DataFrame with only the big force strikes, there is no index 4, for example."
   ]
  },
  {
   "cell_type": "code",
   "execution_count": 14,
   "metadata": {},
   "outputs": [
    {
     "data": {
      "text/plain": [
       "2276.0"
      ]
     },
     "execution_count": 14,
     "metadata": {},
     "output_type": "execute_result"
    }
   ],
   "source": [
    "df_big_force['impact force (mN)'].iloc[4]"
   ]
  },
  {
   "cell_type": "markdown",
   "metadata": {},
   "source": [
    "One column represents many experiments of the same kind of measurement (e.g., impact force). One row represents a single experiment and many kinds of measurements. We have extracted a column out of the DataFrame, but how do we extract a row? This is also very easy with DataFrames using their ix method."
   ]
  },
  {
   "cell_type": "code",
   "execution_count": 16,
   "metadata": {},
   "outputs": [
    {
     "data": {
      "text/plain": [
       "date                                                    2013_05_27\n",
       "ID                                                             III\n",
       "trial number                                                     3\n",
       "impact force (mN)                                              324\n",
       "impact time (ms)                                               105\n",
       "impact force / body weight                                    2.61\n",
       "adhesive force (mN)                                           -172\n",
       "time frog pulls on target (ms)                                 619\n",
       "adhesive force / body weight                                  1.38\n",
       "adhesive impulse (N-s)                                      -0.079\n",
       "total contact area (mm2)                                        55\n",
       "contact area without mucus (mm2)                                23\n",
       "contact area with mucus / contact area without mucus          0.37\n",
       "contact pressure (Pa)                                         5946\n",
       "adhesive strength (Pa)                                       -3149\n",
       "Name: 42, dtype: object"
      ]
     },
     "execution_count": 16,
     "metadata": {},
     "output_type": "execute_result"
    }
   ],
   "source": [
    "exp_42=df.iloc[42,:]\n",
    "exp_42"
   ]
  },
  {
   "cell_type": "markdown",
   "metadata": {},
   "source": [
    "Notice how clever the DataFrame is. We sliced a row out, and now the indices describing its elements are the column headings.\n",
    "You may take issue with the rather lengthy syntax of access column names. I.e., if you were trying to access the ratio of the contact area with mucus to the contact area without mucus for trial number 3 on May 27, 2013, you would do the following."
   ]
  },
  {
   "cell_type": "code",
   "execution_count": 21,
   "metadata": {},
   "outputs": [
    {
     "data": {
      "text/plain": [
       "42    0.37\n",
       "Name: contact area with mucus / contact area without mucus, dtype: float64"
      ]
     },
     "execution_count": 21,
     "metadata": {},
     "output_type": "execute_result"
    }
   ],
   "source": [
    "# Set up criteria for search of the dataframe\n",
    "date=(df['date']==\"2013_05_27\")\n",
    "trial=(df['trial number']==3)\n",
    "ID=(df['ID']=='III')\n",
    "\n",
    "#When indexing dataframes, use & for boolean and | for or , ~ for note\n",
    "df['contact area with mucus / contact area without mucus'][date & trial & ID]"
   ]
  },
  {
   "cell_type": "markdown",
   "metadata": {},
   "source": [
    "Yeesh. That syntax is clunky. But many would argue that this is prefered because there is no ambiguity about what you are asking for. However, you may want to use shorter names. Conveniently, when your column names do not have spaces, you can use attribute access. For example...."
   ]
  },
  {
   "cell_type": "code",
   "execution_count": 22,
   "metadata": {},
   "outputs": [
    {
     "data": {
      "text/plain": [
       "0    2013_02_26\n",
       "1    2013_02_26\n",
       "2    2013_03_01\n",
       "3    2013_03_01\n",
       "4    2013_03_01\n",
       "5    2013_03_01\n",
       "6    2013_03_05\n",
       "7    2013_03_05\n",
       "8    2013_03_05\n",
       "9    2013_03_05\n",
       "Name: date, dtype: object"
      ]
     },
     "execution_count": 22,
     "metadata": {},
     "output_type": "execute_result"
    }
   ],
   "source": [
    "# attribute acces\n",
    "df.date[:10]"
   ]
  },
  {
   "cell_type": "markdown",
   "metadata": {},
   "source": [
    "Attribute access is really for convenience and is not the default, but if can make writing the code much less cumbersome. So, let's change the name of the colums as\n",
    "𝚝𝚛𝚒𝚊𝚕 𝚗𝚞𝚖𝚋𝚎𝚛𝚌𝚘𝚗𝚝𝚊𝚌𝚝 𝚊𝚛𝚎𝚊 𝚠𝚒𝚝𝚑 𝚖𝚞𝚌𝚞𝚜 / 𝚌𝚘𝚗𝚝𝚊𝚌𝚝 𝚊𝚛𝚎𝚊 𝚠𝚒𝚝𝚑𝚘𝚞𝚝 𝚖𝚞𝚌𝚞𝚜→𝚝𝚛𝚒𝚊𝚕→𝚌𝚊_𝚛𝚊𝚝𝚒𝚘.\n",
    "trial number→trialcontact area with mucus / contact area without mucus→ca_ratio.\n",
    " \n",
    "DataFrames have a nice rename method to do this."
   ]
  },
  {
   "cell_type": "code",
   "execution_count": 46,
   "metadata": {},
   "outputs": [
    {
     "data": {
      "text/plain": [
       "0.37"
      ]
     },
     "execution_count": 46,
     "metadata": {},
     "output_type": "execute_result"
    }
   ],
   "source": [
    "# Make a dictionary to rename columns\n",
    "rename_dict={'trial number':'trial',\n",
    "            'contact area with mucus / contact area without mucus':'ca_ratio'}\n",
    "\n",
    "#Rename in-place; otherwise this command returns a new DataFrame\n",
    "df.rename(columns=rename_dict,inplace=True)\n",
    "\n",
    "#Try out our new column name\n",
    "df.ca_ratio[42]"
   ]
  },
  {
   "cell_type": "code",
   "execution_count": 29,
   "metadata": {},
   "outputs": [
    {
     "data": {
      "text/plain": [
       "'trial'"
      ]
     },
     "execution_count": 29,
     "metadata": {},
     "output_type": "execute_result"
    }
   ],
   "source": [
    "# Indexing of dictionaries look syntactically similar to cols in dataframe\n",
    "rename_dict['trial number']"
   ]
  },
  {
   "cell_type": "markdown",
   "metadata": {},
   "source": [
    "# Playing with data: important part of data analysis\n",
    "\"Exploratory data analysis\" is the time during data analysis where you explore your data. You look at numbers, plot various quantities, and think about what analysis techniques you would like to use.  pandas DataFrames help you do this.\n",
    "As we go through the interactive analysis, we will learn about syntax for various matplotlib plot styles.\n",
    "The first thing we'll do is look at strike forces. We'll rename the column for impact force for convenient attribute access because we'll access it many times.\n"
   ]
  },
  {
   "cell_type": "code",
   "execution_count": 47,
   "metadata": {},
   "outputs": [],
   "source": [
    "df.rename(columns={'impact force (mN)':'impf'},inplace=True)"
   ]
  },
  {
   "cell_type": "code",
   "execution_count": 48,
   "metadata": {},
   "outputs": [
    {
     "data": {
      "text/plain": [
       "Text(0,0.5,'impact force (mN)')"
      ]
     },
     "execution_count": 48,
     "metadata": {},
     "output_type": "execute_result"
    },
    {
     "data": {
      "image/png": "[encoded data removed]",
      "text/plain": [
       "<matplotlib.figure.Figure at 0x10b372b38>"
      ]
     },
     "metadata": {},
     "output_type": "display_data"
    }
   ],
   "source": [
    "plt.plot(df.impf, 'k.')\n",
    "plt.margins(x=0.02, y=0.02)\n",
    "plt.xlabel('order in DataFrame')\n",
    "plt.ylabel('impact force (mN)')"
   ]
  },
  {
   "cell_type": "markdown",
   "metadata": {},
   "source": [
    "The x axis plotted above is pretty meaningless. Plotting something else such as a histogram"
   ]
  },
  {
   "cell_type": "code",
   "execution_count": 51,
   "metadata": {},
   "outputs": [
    {
     "data": {
      "image/png": "[encoded data removed]",
      "text/plain": [
       "<matplotlib.figure.Figure at 0x114291198>"
      ]
     },
     "metadata": {},
     "output_type": "display_data"
    }
   ],
   "source": [
    "# Make a histogram plot; bins kwarg gives the number of bars\n",
    "plt.grid(True, axis='y')\n",
    "plt.xlabel('impact force (mN)')\n",
    "plt.ylabel('number of observations')\n",
    "n, bin_edges, patches = plt.hist(df.impf, bins=20, normed=False)\n"
   ]
  },
  {
   "cell_type": "markdown",
   "metadata": {},
   "source": [
    "This is a better way to look at the impact force measurements. We see that there are a few high-force impacts, but that most of the impacts are about 500 mN or so.\n",
    "This is still only part of the story. We would like to know how the impacts vary from frog to frog. First, let's see how many trials we have for each frog."
   ]
  },
  {
   "cell_type": "code",
   "execution_count": 54,
   "metadata": {},
   "outputs": [
    {
     "name": "stdout",
     "output_type": "stream",
     "text": [
      "\n",
      "Frog ID      Number of samples\n",
      "=======      =================\n",
      "   I               20\n",
      "  II               20\n",
      " III               20\n",
      "  IV               20\n",
      "\n"
     ]
    }
   ],
   "source": [
    "# a fancy way to do string formatting; unnecessary but nice to be visualized like this:\n",
    "print(\"\"\"\n",
    "Frog ID      Number of samples\n",
    "=======      =================\n",
    "   I               {0:d}\n",
    "  II               {1:d}\n",
    " III               {2:d}\n",
    "  IV               {3:d}\n",
    "\"\"\".format(df.ID[df.ID=='I'].count(), df.ID[df.ID=='II'].count(),\n",
    "           df.ID[df.ID=='III'].count(), df.ID[df.ID=='IV'].count()))"
   ]
  },
  {
   "cell_type": "code",
   "execution_count": null,
   "metadata": {},
   "outputs": [],
   "source": []
  }
 ],
 "metadata": {
  "kernelspec": {
   "display_name": "Python [conda root]",
   "language": "python",
   "name": "conda-root-py"
  },
  "language_info": {
   "codemirror_mode": {
    "name": "ipython",
    "version": 3
   },
   "file_extension": ".py",
   "mimetype": "text/x-python",
   "name": "python",
   "nbconvert_exporter": "python",
   "pygments_lexer": "ipython3",
   "version": "3.6.3"
  }
 },
 "nbformat": 4,
 "nbformat_minor": 2
}
