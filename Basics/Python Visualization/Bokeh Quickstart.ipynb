{
 "cells": [
  {
   "cell_type": "markdown",
   "metadata": {},
   "source": [
    "## Getting Started \n",
    "Plotting data in basic Python lists as a line plot including zoom, pan, save, and other tools is simple and straightforward:"
   ]
  },
  {
   "cell_type": "code",
   "execution_count": 1,
   "metadata": {},
   "outputs": [],
   "source": [
    "from bokeh.plotting import figure, output_file, show\n",
    "\n",
    "x=[1,2,3,4,5]\n",
    "y = [6, 7, 2, 4, 5]\n",
    "output_file(\"lines.html\")"
   ]
  },
  {
   "cell_type": "code",
   "execution_count": 2,
   "metadata": {},
   "outputs": [],
   "source": [
    "p=figure(title=\"simple line example\",x_axis_label='x',y_axis_label='y')\n",
    "p.line(x,y,legend=\"Temp.\",line_width=2)\n",
    "show(p)"
   ]
  },
  {
   "cell_type": "markdown",
   "metadata": {},
   "source": [
    "The basic steps to creating plots with the bokeh.plotting interface are:\n",
    "\n",
    "Prepare some data (in this case plain python lists).\n",
    "Tell Bokeh where to generate output (in this case using output_file(), with the filename \"lines.html\").\n",
    "Call figure() to create a plot with some overall options like title, tools and axes labels.\n",
    "Add renderers (in this case, Figure.line) for our data, with visual customizations like colors, legends and widths to the plot.\n",
    "Ask Bokeh to show() or save() the results."
   ]
  },
  {
   "cell_type": "code",
   "execution_count": 3,
   "metadata": {},
   "outputs": [],
   "source": [
    "from bokeh.plotting import figure, output_file,show\n",
    "\n",
    "x = [0.1, 0.5, 1.0, 1.5, 2.0, 2.5, 3.0]\n",
    "y0=[i**2 for i in x]\n",
    "y1=[10**i for i in x]\n",
    "y2=[10**(i**2) for i in x]"
   ]
  },
  {
   "cell_type": "code",
   "execution_count": 4,
   "metadata": {},
   "outputs": [],
   "source": [
    "output_file(\"log_lines.html\")\n",
    "p=figure(\n",
    "    tools=\"pan,box_zoom,reset,save\",\n",
    "    y_axis_type=\"log\",y_range=[0.001, 10**11],title=\"log axis example\",\n",
    "    x_axis_label='sections',y_axis_label='particles'\n",
    ")"
   ]
  },
  {
   "cell_type": "code",
   "execution_count": 10,
   "metadata": {},
   "outputs": [],
   "source": [
    "#Add some renders\n",
    "p.line(x,x,legend=\"y=x\")\n",
    "p.circle(x, x, legend=\"y=x\", fill_color=\"white\", size=8)\n",
    "p.line(x, y0, legend=\"y=x^2\", line_width=3)\n",
    "p.line(x, y1, legend=\"y=10^x\", line_color=\"red\")\n",
    "p.circle(x, y1, legend=\"y=10^x\", fill_color=\"red\", line_color=\"red\", size=6)\n",
    "p.line(x, y2, legend=\"y=10^x^2\", line_color=\"orange\", line_dash=\"4 4\")\n",
    "\n",
    "show(p)"
   ]
  },
  {
   "cell_type": "markdown",
   "metadata": {},
   "source": [
    "# Vectorized Colors and sizes \n",
    "This example shows how it is possible to provide sequences of data values for glyph attributes like fill_color and radius. Other things to look out for in this example:\n",
    "\n",
    "supplying an explicit list of tool names to figure()\n",
    "fetching BokehJS resources from CDN using the mode argument\n",
    "setting the x_range and y_range explicitly\n",
    "turning a line off (by setting its value to None)\n",
    "using NumPy arrays for supplying data"
   ]
  },
  {
   "cell_type": "code",
   "execution_count": 12,
   "metadata": {},
   "outputs": [],
   "source": [
    "zip?"
   ]
  },
  {
   "cell_type": "code",
   "execution_count": 20,
   "metadata": {},
   "outputs": [],
   "source": [
    "import numpy as np\n",
    "from bokeh.plotting import figure, output_file, show\n",
    "\n",
    "#prepare some data\n",
    "N=4000\n",
    "x=np.random.random(size=N)*100\n",
    "y=np.random.random(size=N)*100\n",
    "radii=np.random.random(size=N)*1.5\n",
    "\n",
    "colors=[\n",
    "     \"#%02x%02x%02x\" % (int(r), int(g), 150) for r, g in zip(50+2*x, 30+2*y)\n",
    "]"
   ]
  },
  {
   "cell_type": "code",
   "execution_count": 21,
   "metadata": {},
   "outputs": [],
   "source": [
    "output_file(\"color_scatter.html\",title=\"color_scatter.py example\",mode=\"cdn\")\n",
    "TOOLS=\"crosshair,pan,wheel_zoom,box_zoom,reset,box_select,lasso_select\"\n",
    "\n",
    "#Create a new plot with the tools above and explicit ranges\n",
    "p=figure(tools=TOOLS,x_range=(0,100),y_range=(0,100))\n",
    "\n",
    "#adding a circle renderer with vectorized colors and sizes \n",
    "p.circle(x,y,radius=radii,fill_color=colors,fill_alpha=0.6,line_color=None)\n",
    "\n",
    "#show the result\n",
    "show(p)"
   ]
  },
  {
   "cell_type": "markdown",
   "metadata": {},
   "source": [
    "# Linked Panning and brushing\n",
    "Linking together various aspects of different plots can be a useful technique for data visualization. In Bokeh, such linkages are typically accomplished by sharing some plot component between plots. Below is an example that demonstrates linked panning (where changing the range of one plot causes others to update) by sharing range objects between the plots. Some other things to look out for in this example:\n",
    "\n",
    "calling figure() multiple times to create multiple plots\n",
    "using gridplot() to arrange several plots in an array\n",
    "showing new glyphs using new glyph methods Figure.triangle and Figure.square\n",
    "hiding the toolbar by setting toolbar_location to None\n",
    "setting convenience arguments color (sets both line_color and fill_color) and alpha (sets both line_alpha and fill_alpha)"
   ]
  },
  {
   "cell_type": "code",
   "execution_count": null,
   "metadata": {},
   "outputs": [],
   "source": []
  }
 ],
 "metadata": {
  "kernelspec": {
   "display_name": "Python [conda root]",
   "language": "python",
   "name": "conda-root-py"
  },
  "language_info": {
   "codemirror_mode": {
    "name": "ipython",
    "version": 3
   },
   "file_extension": ".py",
   "mimetype": "text/x-python",
   "name": "python",
   "nbconvert_exporter": "python",
   "pygments_lexer": "ipython3",
   "version": "3.6.3"
  }
 },
 "nbformat": 4,
 "nbformat_minor": 2
}
