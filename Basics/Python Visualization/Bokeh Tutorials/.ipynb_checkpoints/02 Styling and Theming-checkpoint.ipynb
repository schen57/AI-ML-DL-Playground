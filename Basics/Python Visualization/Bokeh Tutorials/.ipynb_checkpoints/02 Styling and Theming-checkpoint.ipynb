{
 "cells": [
  {
   "cell_type": "code",
   "execution_count": 3,
   "metadata": {},
   "outputs": [
    {
     "data": {
      "text/html": [
       "\n",
       "    <div class=\"bk-root\">\n",
       "        <a href=\"https://bokeh.pydata.org\" target=\"_blank\" class=\"bk-logo bk-logo-small bk-logo-notebook\"></a>\n",
       "        <span id=\"1b2a3581-7eff-4b8d-bb47-08be27517526\">Loading BokehJS ...</span>\n",
       "    </div>"
      ]
     },
     "metadata": {},
     "output_type": "display_data"
    },
    {
     "data": {
      "application/javascript": [
       "\n",
       "(function(root) {\n",
       "  function now() {\n",
       "    return new Date();\n",
       "  }\n",
       "\n",
       "  var force = true;\n",
       "\n",
       "  if (typeof (root._bokeh_onload_callbacks) === \"undefined\" || force === true) {\n",
       "    root._bokeh_onload_callbacks = [];\n",
       "    root._bokeh_is_loading = undefined;\n",
       "  }\n",
       "\n",
       "  var JS_MIME_TYPE = 'application/javascript';\n",
       "  var HTML_MIME_TYPE = 'text/html';\n",
       "  var EXEC_MIME_TYPE = 'application/vnd.bokehjs_exec.v0+json';\n",
       "  var CLASS_NAME = 'output_bokeh rendered_html';\n",
       "\n",
       "  /**\n",
       "   * Render data to the DOM node\n",
       "   */\n",
       "  function render(props, node) {\n",
       "    var script = document.createElement(\"script\");\n",
       "    node.appendChild(script);\n",
       "  }\n",
       "\n",
       "  /**\n",
       "   * Handle when an output is cleared or removed\n",
       "   */\n",
       "  function handleClearOutput(event, handle) {\n",
       "    var cell = handle.cell;\n",
       "\n",
       "    var id = cell.output_area._bokeh_element_id;\n",
       "    var server_id = cell.output_area._bokeh_server_id;\n",
       "    // Clean up Bokeh references\n",
       "    if (id !== undefined) {\n",
       "      Bokeh.index[id].model.document.clear();\n",
       "      delete Bokeh.index[id];\n",
       "    }\n",
       "\n",
       "    if (server_id !== undefined) {\n",
       "      // Clean up Bokeh references\n",
       "      var cmd = \"from bokeh.io.state import curstate; print(curstate().uuid_to_server['\" + server_id + \"'].get_sessions()[0].document.roots[0]._id)\";\n",
       "      cell.notebook.kernel.execute(cmd, {\n",
       "        iopub: {\n",
       "          output: function(msg) {\n",
       "            var element_id = msg.content.text.trim();\n",
       "            Bokeh.index[element_id].model.document.clear();\n",
       "            delete Bokeh.index[element_id];\n",
       "          }\n",
       "        }\n",
       "      });\n",
       "      // Destroy server and session\n",
       "      var cmd = \"import bokeh.io.notebook as ion; ion.destroy_server('\" + server_id + \"')\";\n",
       "      cell.notebook.kernel.execute(cmd);\n",
       "    }\n",
       "  }\n",
       "\n",
       "  /**\n",
       "   * Handle when a new output is added\n",
       "   */\n",
       "  function handleAddOutput(event, handle) {\n",
       "    var output_area = handle.output_area;\n",
       "    var output = handle.output;\n",
       "\n",
       "    // limit handleAddOutput to display_data with EXEC_MIME_TYPE content only\n",
       "    if ((output.output_type != \"display_data\") || (!output.data.hasOwnProperty(EXEC_MIME_TYPE))) {\n",
       "      return\n",
       "    }\n",
       "\n",
       "    var toinsert = output_area.element.find(`.${CLASS_NAME.split(' ')[0]}`);\n",
       "\n",
       "    if (output.metadata[EXEC_MIME_TYPE][\"id\"] !== undefined) {\n",
       "      toinsert[0].firstChild.textContent = output.data[JS_MIME_TYPE];\n",
       "      // store reference to embed id on output_area\n",
       "      output_area._bokeh_element_id = output.metadata[EXEC_MIME_TYPE][\"id\"];\n",
       "    }\n",
       "    if (output.metadata[EXEC_MIME_TYPE][\"server_id\"] !== undefined) {\n",
       "      var bk_div = document.createElement(\"div\");\n",
       "      bk_div.innerHTML = output.data[HTML_MIME_TYPE];\n",
       "      var script_attrs = bk_div.children[0].attributes;\n",
       "      for (var i = 0; i < script_attrs.length; i++) {\n",
       "        toinsert[0].firstChild.setAttribute(script_attrs[i].name, script_attrs[i].value);\n",
       "      }\n",
       "      // store reference to server id on output_area\n",
       "      output_area._bokeh_server_id = output.metadata[EXEC_MIME_TYPE][\"server_id\"];\n",
       "    }\n",
       "  }\n",
       "\n",
       "  function register_renderer(events, OutputArea) {\n",
       "\n",
       "    function append_mime(data, metadata, element) {\n",
       "      // create a DOM node to render to\n",
       "      var toinsert = this.create_output_subarea(\n",
       "        metadata,\n",
       "        CLASS_NAME,\n",
       "        EXEC_MIME_TYPE\n",
       "      );\n",
       "      this.keyboard_manager.register_events(toinsert);\n",
       "      // Render to node\n",
       "      var props = {data: data, metadata: metadata[EXEC_MIME_TYPE]};\n",
       "      render(props, toinsert[0]);\n",
       "      element.append(toinsert);\n",
       "      return toinsert\n",
       "    }\n",
       "\n",
       "    /* Handle when an output is cleared or removed */\n",
       "    events.on('clear_output.CodeCell', handleClearOutput);\n",
       "    events.on('delete.Cell', handleClearOutput);\n",
       "\n",
       "    /* Handle when a new output is added */\n",
       "    events.on('output_added.OutputArea', handleAddOutput);\n",
       "\n",
       "    /**\n",
       "     * Register the mime type and append_mime function with output_area\n",
       "     */\n",
       "    OutputArea.prototype.register_mime_type(EXEC_MIME_TYPE, append_mime, {\n",
       "      /* Is output safe? */\n",
       "      safe: true,\n",
       "      /* Index of renderer in `output_area.display_order` */\n",
       "      index: 0\n",
       "    });\n",
       "  }\n",
       "\n",
       "  // register the mime type if in Jupyter Notebook environment and previously unregistered\n",
       "  if (root.Jupyter !== undefined) {\n",
       "    var events = require('base/js/events');\n",
       "    var OutputArea = require('notebook/js/outputarea').OutputArea;\n",
       "\n",
       "    if (OutputArea.prototype.mime_types().indexOf(EXEC_MIME_TYPE) == -1) {\n",
       "      register_renderer(events, OutputArea);\n",
       "    }\n",
       "  }\n",
       "\n",
       "  \n",
       "  if (typeof (root._bokeh_timeout) === \"undefined\" || force === true) {\n",
       "    root._bokeh_timeout = Date.now() + 5000;\n",
       "    root._bokeh_failed_load = false;\n",
       "  }\n",
       "\n",
       "  var NB_LOAD_WARNING = {'data': {'text/html':\n",
       "     \"<div style='background-color: #fdd'>\\n\"+\n",
       "     \"<p>\\n\"+\n",
       "     \"BokehJS does not appear to have successfully loaded. If loading BokehJS from CDN, this \\n\"+\n",
       "     \"may be due to a slow or bad network connection. Possible fixes:\\n\"+\n",
       "     \"</p>\\n\"+\n",
       "     \"<ul>\\n\"+\n",
       "     \"<li>re-rerun `output_notebook()` to attempt to load from CDN again, or</li>\\n\"+\n",
       "     \"<li>use INLINE resources instead, as so:</li>\\n\"+\n",
       "     \"</ul>\\n\"+\n",
       "     \"<code>\\n\"+\n",
       "     \"from bokeh.resources import INLINE\\n\"+\n",
       "     \"output_notebook(resources=INLINE)\\n\"+\n",
       "     \"</code>\\n\"+\n",
       "     \"</div>\"}};\n",
       "\n",
       "  function display_loaded() {\n",
       "    var el = document.getElementById(\"1b2a3581-7eff-4b8d-bb47-08be27517526\");\n",
       "    if (el != null) {\n",
       "      el.textContent = \"BokehJS is loading...\";\n",
       "    }\n",
       "    if (root.Bokeh !== undefined) {\n",
       "      if (el != null) {\n",
       "        el.textContent = \"BokehJS \" + root.Bokeh.version + \" successfully loaded.\";\n",
       "      }\n",
       "    } else if (Date.now() < root._bokeh_timeout) {\n",
       "      setTimeout(display_loaded, 100)\n",
       "    }\n",
       "  }\n",
       "\n",
       "\n",
       "  function run_callbacks() {\n",
       "    try {\n",
       "      root._bokeh_onload_callbacks.forEach(function(callback) { callback() });\n",
       "    }\n",
       "    finally {\n",
       "      delete root._bokeh_onload_callbacks\n",
       "    }\n",
       "    console.info(\"Bokeh: all callbacks have finished\");\n",
       "  }\n",
       "\n",
       "  function load_libs(js_urls, callback) {\n",
       "    root._bokeh_onload_callbacks.push(callback);\n",
       "    if (root._bokeh_is_loading > 0) {\n",
       "      console.log(\"Bokeh: BokehJS is being loaded, scheduling callback at\", now());\n",
       "      return null;\n",
       "    }\n",
       "    if (js_urls == null || js_urls.length === 0) {\n",
       "      run_callbacks();\n",
       "      return null;\n",
       "    }\n",
       "    console.log(\"Bokeh: BokehJS not loaded, scheduling load and callback at\", now());\n",
       "    root._bokeh_is_loading = js_urls.length;\n",
       "    for (var i = 0; i < js_urls.length; i++) {\n",
       "      var url = js_urls[i];\n",
       "      var s = document.createElement('script');\n",
       "      s.src = url;\n",
       "      s.async = false;\n",
       "      s.onreadystatechange = s.onload = function() {\n",
       "        root._bokeh_is_loading--;\n",
       "        if (root._bokeh_is_loading === 0) {\n",
       "          console.log(\"Bokeh: all BokehJS libraries loaded\");\n",
       "          run_callbacks()\n",
       "        }\n",
       "      };\n",
       "      s.onerror = function() {\n",
       "        console.warn(\"failed to load library \" + url);\n",
       "      };\n",
       "      console.log(\"Bokeh: injecting script tag for BokehJS library: \", url);\n",
       "      document.getElementsByTagName(\"head\")[0].appendChild(s);\n",
       "    }\n",
       "  };var element = document.getElementById(\"1b2a3581-7eff-4b8d-bb47-08be27517526\");\n",
       "  if (element == null) {\n",
       "    console.log(\"Bokeh: ERROR: autoload.js configured with elementid '1b2a3581-7eff-4b8d-bb47-08be27517526' but no matching script tag was found. \")\n",
       "    return false;\n",
       "  }\n",
       "\n",
       "  var js_urls = [\"https://cdn.pydata.org/bokeh/release/bokeh-0.12.10.min.js\", \"https://cdn.pydata.org/bokeh/release/bokeh-widgets-0.12.10.min.js\", \"https://cdn.pydata.org/bokeh/release/bokeh-tables-0.12.10.min.js\", \"https://cdn.pydata.org/bokeh/release/bokeh-gl-0.12.10.min.js\"];\n",
       "\n",
       "  var inline_js = [\n",
       "    function(Bokeh) {\n",
       "      Bokeh.set_log_level(\"info\");\n",
       "    },\n",
       "    \n",
       "    function(Bokeh) {\n",
       "      \n",
       "    },\n",
       "    function(Bokeh) {\n",
       "      console.log(\"Bokeh: injecting CSS: https://cdn.pydata.org/bokeh/release/bokeh-0.12.10.min.css\");\n",
       "      Bokeh.embed.inject_css(\"https://cdn.pydata.org/bokeh/release/bokeh-0.12.10.min.css\");\n",
       "      console.log(\"Bokeh: injecting CSS: https://cdn.pydata.org/bokeh/release/bokeh-widgets-0.12.10.min.css\");\n",
       "      Bokeh.embed.inject_css(\"https://cdn.pydata.org/bokeh/release/bokeh-widgets-0.12.10.min.css\");\n",
       "      console.log(\"Bokeh: injecting CSS: https://cdn.pydata.org/bokeh/release/bokeh-tables-0.12.10.min.css\");\n",
       "      Bokeh.embed.inject_css(\"https://cdn.pydata.org/bokeh/release/bokeh-tables-0.12.10.min.css\");\n",
       "    }\n",
       "  ];\n",
       "\n",
       "  function run_inline_js() {\n",
       "    \n",
       "    if ((root.Bokeh !== undefined) || (force === true)) {\n",
       "      for (var i = 0; i < inline_js.length; i++) {\n",
       "        inline_js[i].call(root, root.Bokeh);\n",
       "      }if (force === true) {\n",
       "        display_loaded();\n",
       "      }} else if (Date.now() < root._bokeh_timeout) {\n",
       "      setTimeout(run_inline_js, 100);\n",
       "    } else if (!root._bokeh_failed_load) {\n",
       "      console.log(\"Bokeh: BokehJS failed to load within specified timeout.\");\n",
       "      root._bokeh_failed_load = true;\n",
       "    } else if (force !== true) {\n",
       "      var cell = $(document.getElementById(\"1b2a3581-7eff-4b8d-bb47-08be27517526\")).parents('.cell').data().cell;\n",
       "      cell.output_area.append_execute_result(NB_LOAD_WARNING)\n",
       "    }\n",
       "\n",
       "  }\n",
       "\n",
       "  if (root._bokeh_is_loading === 0) {\n",
       "    console.log(\"Bokeh: BokehJS loaded, going straight to plotting\");\n",
       "    run_inline_js();\n",
       "  } else {\n",
       "    load_libs(js_urls, function() {\n",
       "      console.log(\"Bokeh: BokehJS plotting callback run at\", now());\n",
       "      run_inline_js();\n",
       "    });\n",
       "  }\n",
       "}(window));"
      ],
      "application/vnd.bokehjs_load.v0+json": "\n(function(root) {\n  function now() {\n    return new Date();\n  }\n\n  var force = true;\n\n  if (typeof (root._bokeh_onload_callbacks) === \"undefined\" || force === true) {\n    root._bokeh_onload_callbacks = [];\n    root._bokeh_is_loading = undefined;\n  }\n\n  \n\n  \n  if (typeof (root._bokeh_timeout) === \"undefined\" || force === true) {\n    root._bokeh_timeout = Date.now() + 5000;\n    root._bokeh_failed_load = false;\n  }\n\n  var NB_LOAD_WARNING = {'data': {'text/html':\n     \"<div style='background-color: #fdd'>\\n\"+\n     \"<p>\\n\"+\n     \"BokehJS does not appear to have successfully loaded. If loading BokehJS from CDN, this \\n\"+\n     \"may be due to a slow or bad network connection. Possible fixes:\\n\"+\n     \"</p>\\n\"+\n     \"<ul>\\n\"+\n     \"<li>re-rerun `output_notebook()` to attempt to load from CDN again, or</li>\\n\"+\n     \"<li>use INLINE resources instead, as so:</li>\\n\"+\n     \"</ul>\\n\"+\n     \"<code>\\n\"+\n     \"from bokeh.resources import INLINE\\n\"+\n     \"output_notebook(resources=INLINE)\\n\"+\n     \"</code>\\n\"+\n     \"</div>\"}};\n\n  function display_loaded() {\n    var el = document.getElementById(\"1b2a3581-7eff-4b8d-bb47-08be27517526\");\n    if (el != null) {\n      el.textContent = \"BokehJS is loading...\";\n    }\n    if (root.Bokeh !== undefined) {\n      if (el != null) {\n        el.textContent = \"BokehJS \" + root.Bokeh.version + \" successfully loaded.\";\n      }\n    } else if (Date.now() < root._bokeh_timeout) {\n      setTimeout(display_loaded, 100)\n    }\n  }\n\n\n  function run_callbacks() {\n    try {\n      root._bokeh_onload_callbacks.forEach(function(callback) { callback() });\n    }\n    finally {\n      delete root._bokeh_onload_callbacks\n    }\n    console.info(\"Bokeh: all callbacks have finished\");\n  }\n\n  function load_libs(js_urls, callback) {\n    root._bokeh_onload_callbacks.push(callback);\n    if (root._bokeh_is_loading > 0) {\n      console.log(\"Bokeh: BokehJS is being loaded, scheduling callback at\", now());\n      return null;\n    }\n    if (js_urls == null || js_urls.length === 0) {\n      run_callbacks();\n      return null;\n    }\n    console.log(\"Bokeh: BokehJS not loaded, scheduling load and callback at\", now());\n    root._bokeh_is_loading = js_urls.length;\n    for (var i = 0; i < js_urls.length; i++) {\n      var url = js_urls[i];\n      var s = document.createElement('script');\n      s.src = url;\n      s.async = false;\n      s.onreadystatechange = s.onload = function() {\n        root._bokeh_is_loading--;\n        if (root._bokeh_is_loading === 0) {\n          console.log(\"Bokeh: all BokehJS libraries loaded\");\n          run_callbacks()\n        }\n      };\n      s.onerror = function() {\n        console.warn(\"failed to load library \" + url);\n      };\n      console.log(\"Bokeh: injecting script tag for BokehJS library: \", url);\n      document.getElementsByTagName(\"head\")[0].appendChild(s);\n    }\n  };var element = document.getElementById(\"1b2a3581-7eff-4b8d-bb47-08be27517526\");\n  if (element == null) {\n    console.log(\"Bokeh: ERROR: autoload.js configured with elementid '1b2a3581-7eff-4b8d-bb47-08be27517526' but no matching script tag was found. \")\n    return false;\n  }\n\n  var js_urls = [\"https://cdn.pydata.org/bokeh/release/bokeh-0.12.10.min.js\", \"https://cdn.pydata.org/bokeh/release/bokeh-widgets-0.12.10.min.js\", \"https://cdn.pydata.org/bokeh/release/bokeh-tables-0.12.10.min.js\", \"https://cdn.pydata.org/bokeh/release/bokeh-gl-0.12.10.min.js\"];\n\n  var inline_js = [\n    function(Bokeh) {\n      Bokeh.set_log_level(\"info\");\n    },\n    \n    function(Bokeh) {\n      \n    },\n    function(Bokeh) {\n      console.log(\"Bokeh: injecting CSS: https://cdn.pydata.org/bokeh/release/bokeh-0.12.10.min.css\");\n      Bokeh.embed.inject_css(\"https://cdn.pydata.org/bokeh/release/bokeh-0.12.10.min.css\");\n      console.log(\"Bokeh: injecting CSS: https://cdn.pydata.org/bokeh/release/bokeh-widgets-0.12.10.min.css\");\n      Bokeh.embed.inject_css(\"https://cdn.pydata.org/bokeh/release/bokeh-widgets-0.12.10.min.css\");\n      console.log(\"Bokeh: injecting CSS: https://cdn.pydata.org/bokeh/release/bokeh-tables-0.12.10.min.css\");\n      Bokeh.embed.inject_css(\"https://cdn.pydata.org/bokeh/release/bokeh-tables-0.12.10.min.css\");\n    }\n  ];\n\n  function run_inline_js() {\n    \n    if ((root.Bokeh !== undefined) || (force === true)) {\n      for (var i = 0; i < inline_js.length; i++) {\n        inline_js[i].call(root, root.Bokeh);\n      }if (force === true) {\n        display_loaded();\n      }} else if (Date.now() < root._bokeh_timeout) {\n      setTimeout(run_inline_js, 100);\n    } else if (!root._bokeh_failed_load) {\n      console.log(\"Bokeh: BokehJS failed to load within specified timeout.\");\n      root._bokeh_failed_load = true;\n    } else if (force !== true) {\n      var cell = $(document.getElementById(\"1b2a3581-7eff-4b8d-bb47-08be27517526\")).parents('.cell').data().cell;\n      cell.output_area.append_execute_result(NB_LOAD_WARNING)\n    }\n\n  }\n\n  if (root._bokeh_is_loading === 0) {\n    console.log(\"Bokeh: BokehJS loaded, going straight to plotting\");\n    run_inline_js();\n  } else {\n    load_libs(js_urls, function() {\n      console.log(\"Bokeh: BokehJS plotting callback run at\", now());\n      run_inline_js();\n    });\n  }\n}(window));"
     },
     "metadata": {},
     "output_type": "display_data"
    }
   ],
   "source": [
    "from bokeh.io import output_notebook, show\n",
    "from bokeh.plotting import figure\n",
    "output_notebook()"
   ]
  },
  {
   "cell_type": "markdown",
   "metadata": {},
   "source": [
    "# Colors and Properties\n",
    "\n",
    "Colors\n",
    "There are many places where you may need to specify colors. Bokeh can accept colors in a variety of different ways:\n",
    "\n",
    "any of the 147 named CSS colors, e.g 'green', 'indigo'\n",
    "an RGB(A) hex value, e.g., '#FF0000', '#44444444'\n",
    "a 3-tuple of integers (r,g,b) between 0 and 255\n",
    "a 4-tuple of (r,g,b,a) where r, g, b are integers between 0 and 255 and a is a floating point value between 0 and 1\n",
    "\n",
    "Properties\n",
    "Regardless of what API (models, plotting, or charts) is used to create a Bokeh plot, styling the visual aspects of the plot can always be accomplished by setting attributes on the Bokeh model objects that comprise the resulting plot. Visual properties come in three kinds: line, fill, and text properties. For full information with code and examples see the Styling Visual Properties section of the user guide.\n",
    "\n",
    "Line Properties\n",
    "Set the visual appearance of lines. The most common are line_color, line_alpha, line_width and line_dash.\n",
    "\n",
    "Fill Properties\n",
    "Set the visual appearance of filled areas: fill_color and fill_alpha.\n",
    "\n",
    "Text Properties\n",
    "Set the visual appearance of lines of text. The most common are text_font, text_font_size, text_color, and text_alpha.\n",
    "\n",
    "Sometimes a prefix is used with property names, e.g. to distinguish between different line properties on the same object, or to give a more meaningful name. For example, to set the line width of the plot outline, you would say myplot.outline_line_width = 2."
   ]
  },
  {
   "cell_type": "markdown",
   "metadata": {},
   "source": [
    "# Plots\n",
    "Many top-level attributes of plots (outline, border, etc.) can be configured. See the Plots section of the styling guide for full information.\n",
    "\n",
    "Here is an example that tweaks the plot outline:"
   ]
  },
  {
   "cell_type": "code",
   "execution_count": 4,
   "metadata": {},
   "outputs": [
    {
     "data": {
      "text/html": [
       "\n",
       "<div class=\"bk-root\">\n",
       "    <div class=\"bk-plotdiv\" id=\"d860faa0-e673-4e59-bd17-3bbdfd6cc64c\"></div>\n",
       "</div>"
      ]
     },
     "metadata": {},
     "output_type": "display_data"
    },
    {
     "data": {
      "application/javascript": [
       "(function(root) {\n",
       "  function embed_document(root) {\n",
       "    var docs_json = {\"10b49f9d-4e96-43be-ae20-5a71ca7ed597\":{\"roots\":{\"references\":[{\"attributes\":{},\"id\":\"adc009c7-61b2-437e-9690-fc996efde487\",\"type\":\"BasicTickFormatter\"},{\"attributes\":{\"below\":[{\"id\":\"31b0f200-84d8-4457-9148-bfeee2e4a0f3\",\"type\":\"LinearAxis\"}],\"left\":[{\"id\":\"d1d3b689-92f7-4f91-80f5-b9eacd636c72\",\"type\":\"LinearAxis\"}],\"outline_line_alpha\":{\"value\":0.3},\"outline_line_color\":{\"value\":\"navy\"},\"outline_line_width\":{\"value\":7},\"plot_height\":400,\"plot_width\":400,\"renderers\":[{\"id\":\"31b0f200-84d8-4457-9148-bfeee2e4a0f3\",\"type\":\"LinearAxis\"},{\"id\":\"a4e3ca98-2f5b-4067-bad1-fc9c11a2affc\",\"type\":\"Grid\"},{\"id\":\"d1d3b689-92f7-4f91-80f5-b9eacd636c72\",\"type\":\"LinearAxis\"},{\"id\":\"d6f45f39-8b6a-4d33-88d1-a91bf3f31957\",\"type\":\"Grid\"},{\"id\":\"9d55b1dc-a8e9-473f-8b2c-d1e0b4b1b419\",\"type\":\"BoxAnnotation\"},{\"id\":\"f55646e1-bbd6-46f4-b505-53fc8955aa56\",\"type\":\"GlyphRenderer\"}],\"title\":{\"id\":\"5ec82534-79a1-4922-9caf-95da895950b2\",\"type\":\"Title\"},\"toolbar\":{\"id\":\"2aa2bcb1-0d14-4933-8007-044e876f5d8a\",\"type\":\"Toolbar\"},\"x_range\":{\"id\":\"ca7a0812-8549-4668-b16f-9cdc0dee1556\",\"type\":\"DataRange1d\"},\"x_scale\":{\"id\":\"5853dcb1-cc4f-44ca-9f9d-ca7e0a8cfba7\",\"type\":\"LinearScale\"},\"y_range\":{\"id\":\"d207c4b9-e3ae-483e-83ef-757d094fc709\",\"type\":\"DataRange1d\"},\"y_scale\":{\"id\":\"2a7fbcb4-bf5c-4ffd-9b63-f490b20fab22\",\"type\":\"LinearScale\"}},\"id\":\"200cee42-fcfd-41a0-9245-db8e992f2b58\",\"subtype\":\"Figure\",\"type\":\"Plot\"},{\"attributes\":{},\"id\":\"0f873c02-117c-405f-bee6-40a5df82a7a9\",\"type\":\"BasicTickFormatter\"},{\"attributes\":{\"callback\":null,\"column_names\":[\"x\",\"y\"],\"data\":{\"x\":[1,2,3,4,5],\"y\":[2,5,8,2,7]}},\"id\":\"7efb7799-c61b-4d8b-b11e-3b5fb87fd64f\",\"type\":\"ColumnDataSource\"},{\"attributes\":{\"fill_alpha\":{\"value\":0.1},\"fill_color\":{\"value\":\"#1f77b4\"},\"line_alpha\":{\"value\":0.1},\"line_color\":{\"value\":\"#1f77b4\"},\"size\":{\"units\":\"screen\",\"value\":10},\"x\":{\"field\":\"x\"},\"y\":{\"field\":\"y\"}},\"id\":\"afa650b2-7dc9-4d6f-b7cf-6a7267432829\",\"type\":\"Circle\"},{\"attributes\":{\"source\":{\"id\":\"7efb7799-c61b-4d8b-b11e-3b5fb87fd64f\",\"type\":\"ColumnDataSource\"}},\"id\":\"1d02fd29-27c9-48d5-a98c-b50c7e09dd61\",\"type\":\"CDSView\"},{\"attributes\":{},\"id\":\"0320b367-e8dd-4e8b-ac05-b4cbf219e131\",\"type\":\"PanTool\"},{\"attributes\":{\"active_drag\":\"auto\",\"active_inspect\":\"auto\",\"active_scroll\":\"auto\",\"active_tap\":\"auto\",\"tools\":[{\"id\":\"0320b367-e8dd-4e8b-ac05-b4cbf219e131\",\"type\":\"PanTool\"},{\"id\":\"3be31265-80f7-45a7-ab50-aef2d9341e5e\",\"type\":\"WheelZoomTool\"},{\"id\":\"d6efa1a0-c5bc-4293-b14d-7327ddd40108\",\"type\":\"BoxZoomTool\"},{\"id\":\"a1988edc-c545-476e-ac1e-fbd905ea8bb6\",\"type\":\"SaveTool\"},{\"id\":\"bf3dc8fd-af3d-456a-9bc0-371d3e1e9111\",\"type\":\"ResetTool\"},{\"id\":\"941b9d87-1f33-4dc4-85c1-39bebff4f258\",\"type\":\"HelpTool\"}]},\"id\":\"2aa2bcb1-0d14-4933-8007-044e876f5d8a\",\"type\":\"Toolbar\"},{\"attributes\":{},\"id\":\"3be31265-80f7-45a7-ab50-aef2d9341e5e\",\"type\":\"WheelZoomTool\"},{\"attributes\":{\"callback\":null},\"id\":\"ca7a0812-8549-4668-b16f-9cdc0dee1556\",\"type\":\"DataRange1d\"},{\"attributes\":{\"plot\":null,\"text\":\"\"},\"id\":\"5ec82534-79a1-4922-9caf-95da895950b2\",\"type\":\"Title\"},{\"attributes\":{\"callback\":null},\"id\":\"d207c4b9-e3ae-483e-83ef-757d094fc709\",\"type\":\"DataRange1d\"},{\"attributes\":{},\"id\":\"a1988edc-c545-476e-ac1e-fbd905ea8bb6\",\"type\":\"SaveTool\"},{\"attributes\":{},\"id\":\"5853dcb1-cc4f-44ca-9f9d-ca7e0a8cfba7\",\"type\":\"LinearScale\"},{\"attributes\":{},\"id\":\"bf3dc8fd-af3d-456a-9bc0-371d3e1e9111\",\"type\":\"ResetTool\"},{\"attributes\":{},\"id\":\"2a7fbcb4-bf5c-4ffd-9b63-f490b20fab22\",\"type\":\"LinearScale\"},{\"attributes\":{},\"id\":\"941b9d87-1f33-4dc4-85c1-39bebff4f258\",\"type\":\"HelpTool\"},{\"attributes\":{\"fill_color\":{\"value\":\"#1f77b4\"},\"line_color\":{\"value\":\"#1f77b4\"},\"size\":{\"units\":\"screen\",\"value\":10},\"x\":{\"field\":\"x\"},\"y\":{\"field\":\"y\"}},\"id\":\"c4a6a754-d081-4de6-9de3-df1d7eca8f52\",\"type\":\"Circle\"},{\"attributes\":{\"formatter\":{\"id\":\"adc009c7-61b2-437e-9690-fc996efde487\",\"type\":\"BasicTickFormatter\"},\"plot\":{\"id\":\"200cee42-fcfd-41a0-9245-db8e992f2b58\",\"subtype\":\"Figure\",\"type\":\"Plot\"},\"ticker\":{\"id\":\"1e879414-6de6-44b2-baea-83b87e512035\",\"type\":\"BasicTicker\"}},\"id\":\"31b0f200-84d8-4457-9148-bfeee2e4a0f3\",\"type\":\"LinearAxis\"},{\"attributes\":{\"data_source\":{\"id\":\"7efb7799-c61b-4d8b-b11e-3b5fb87fd64f\",\"type\":\"ColumnDataSource\"},\"glyph\":{\"id\":\"c4a6a754-d081-4de6-9de3-df1d7eca8f52\",\"type\":\"Circle\"},\"hover_glyph\":null,\"muted_glyph\":null,\"nonselection_glyph\":{\"id\":\"afa650b2-7dc9-4d6f-b7cf-6a7267432829\",\"type\":\"Circle\"},\"selection_glyph\":null,\"view\":{\"id\":\"1d02fd29-27c9-48d5-a98c-b50c7e09dd61\",\"type\":\"CDSView\"}},\"id\":\"f55646e1-bbd6-46f4-b505-53fc8955aa56\",\"type\":\"GlyphRenderer\"},{\"attributes\":{},\"id\":\"1e879414-6de6-44b2-baea-83b87e512035\",\"type\":\"BasicTicker\"},{\"attributes\":{\"overlay\":{\"id\":\"9d55b1dc-a8e9-473f-8b2c-d1e0b4b1b419\",\"type\":\"BoxAnnotation\"}},\"id\":\"d6efa1a0-c5bc-4293-b14d-7327ddd40108\",\"type\":\"BoxZoomTool\"},{\"attributes\":{\"plot\":{\"id\":\"200cee42-fcfd-41a0-9245-db8e992f2b58\",\"subtype\":\"Figure\",\"type\":\"Plot\"},\"ticker\":{\"id\":\"1e879414-6de6-44b2-baea-83b87e512035\",\"type\":\"BasicTicker\"}},\"id\":\"a4e3ca98-2f5b-4067-bad1-fc9c11a2affc\",\"type\":\"Grid\"},{\"attributes\":{\"formatter\":{\"id\":\"0f873c02-117c-405f-bee6-40a5df82a7a9\",\"type\":\"BasicTickFormatter\"},\"plot\":{\"id\":\"200cee42-fcfd-41a0-9245-db8e992f2b58\",\"subtype\":\"Figure\",\"type\":\"Plot\"},\"ticker\":{\"id\":\"0e20168c-9723-429c-946b-960508d710ff\",\"type\":\"BasicTicker\"}},\"id\":\"d1d3b689-92f7-4f91-80f5-b9eacd636c72\",\"type\":\"LinearAxis\"},{\"attributes\":{},\"id\":\"0e20168c-9723-429c-946b-960508d710ff\",\"type\":\"BasicTicker\"},{\"attributes\":{\"dimension\":1,\"plot\":{\"id\":\"200cee42-fcfd-41a0-9245-db8e992f2b58\",\"subtype\":\"Figure\",\"type\":\"Plot\"},\"ticker\":{\"id\":\"0e20168c-9723-429c-946b-960508d710ff\",\"type\":\"BasicTicker\"}},\"id\":\"d6f45f39-8b6a-4d33-88d1-a91bf3f31957\",\"type\":\"Grid\"},{\"attributes\":{\"bottom_units\":\"screen\",\"fill_alpha\":{\"value\":0.5},\"fill_color\":{\"value\":\"lightgrey\"},\"left_units\":\"screen\",\"level\":\"overlay\",\"line_alpha\":{\"value\":1.0},\"line_color\":{\"value\":\"black\"},\"line_dash\":[4,4],\"line_width\":{\"value\":2},\"plot\":null,\"render_mode\":\"css\",\"right_units\":\"screen\",\"top_units\":\"screen\"},\"id\":\"9d55b1dc-a8e9-473f-8b2c-d1e0b4b1b419\",\"type\":\"BoxAnnotation\"}],\"root_ids\":[\"200cee42-fcfd-41a0-9245-db8e992f2b58\"]},\"title\":\"Bokeh Application\",\"version\":\"0.12.10\"}};\n",
       "    var render_items = [{\"docid\":\"10b49f9d-4e96-43be-ae20-5a71ca7ed597\",\"elementid\":\"d860faa0-e673-4e59-bd17-3bbdfd6cc64c\",\"modelid\":\"200cee42-fcfd-41a0-9245-db8e992f2b58\"}];\n",
       "\n",
       "    root.Bokeh.embed.embed_items(docs_json, render_items);\n",
       "  }\n",
       "\n",
       "  if (root.Bokeh !== undefined) {\n",
       "    embed_document(root);\n",
       "  } else {\n",
       "    var attempts = 0;\n",
       "    var timer = setInterval(function(root) {\n",
       "      if (root.Bokeh !== undefined) {\n",
       "        embed_document(root);\n",
       "        clearInterval(timer);\n",
       "      }\n",
       "      attempts++;\n",
       "      if (attempts > 100) {\n",
       "        console.log(\"Bokeh: ERROR: Unable to embed document because BokehJS library is missing\")\n",
       "        clearInterval(timer);\n",
       "      }\n",
       "    }, 10, root)\n",
       "  }\n",
       "})(window);"
      ],
      "application/vnd.bokehjs_exec.v0+json": ""
     },
     "metadata": {
      "application/vnd.bokehjs_exec.v0+json": {
       "id": "200cee42-fcfd-41a0-9245-db8e992f2b58"
      }
     },
     "output_type": "display_data"
    }
   ],
   "source": [
    "p=figure(plot_width=400,plot_height=400)\n",
    "p.outline_line_width=7\n",
    "p.outline_line_alpha=0.3\n",
    "p.outline_line_color=\"navy\"\n",
    "p.circle([1,2,3,4,5], [2,5,8,2,7], size=10)\n",
    "show(p)"
   ]
  },
  {
   "cell_type": "code",
   "execution_count": 8,
   "metadata": {},
   "outputs": [
    {
     "data": {
      "text/html": [
       "\n",
       "<div class=\"bk-root\">\n",
       "    <div class=\"bk-plotdiv\" id=\"37d144d1-2b03-4e7a-b81f-b4ffcde6fa4c\"></div>\n",
       "</div>"
      ]
     },
     "metadata": {},
     "output_type": "display_data"
    },
    {
     "data": {
      "application/javascript": [
       "(function(root) {\n",
       "  function embed_document(root) {\n",
       "    var docs_json = {\"34eca4be-f238-4570-a9a4-e315e3cc03a7\":{\"roots\":{\"references\":[{\"attributes\":{},\"id\":\"ba0a3cbb-79d3-4fe2-96b6-d979fe5808f8\",\"type\":\"HelpTool\"},{\"attributes\":{\"data_source\":{\"id\":\"49b4658b-3d32-4c5a-b61d-be02aab87f4c\",\"type\":\"ColumnDataSource\"},\"glyph\":{\"id\":\"1e2065b6-c586-4e72-b5f9-ab2af728a6cf\",\"type\":\"Circle\"},\"hover_glyph\":null,\"muted_glyph\":null,\"nonselection_glyph\":{\"id\":\"e546f0d2-e0b9-4a65-8b1c-8b1a1a6a2e1b\",\"type\":\"Circle\"},\"selection_glyph\":null,\"view\":{\"id\":\"bbfb676c-d2b1-4aa3-ac01-6b0ea9efe4fd\",\"type\":\"CDSView\"}},\"id\":\"43b5c778-6c54-4154-be0b-3db417653c84\",\"type\":\"GlyphRenderer\"},{\"attributes\":{\"source\":{\"id\":\"49b4658b-3d32-4c5a-b61d-be02aab87f4c\",\"type\":\"ColumnDataSource\"}},\"id\":\"bbfb676c-d2b1-4aa3-ac01-6b0ea9efe4fd\",\"type\":\"CDSView\"},{\"attributes\":{\"plot\":{\"id\":\"3b038675-a9b6-4190-ab5a-f1a4fbffd07b\",\"subtype\":\"Figure\",\"type\":\"Plot\"},\"ticker\":{\"id\":\"5c35d116-a209-493f-b96a-cabd1de0d11e\",\"type\":\"BasicTicker\"}},\"id\":\"8ef96603-8c53-47fa-9aa4-b8f7e7aa4856\",\"type\":\"Grid\"},{\"attributes\":{},\"id\":\"3cdda0ab-6eae-463b-ae64-83af681abf69\",\"type\":\"LinearScale\"},{\"attributes\":{\"formatter\":{\"id\":\"0b76bb3a-d024-45f3-be63-b488583ff6ae\",\"type\":\"BasicTickFormatter\"},\"plot\":{\"id\":\"3b038675-a9b6-4190-ab5a-f1a4fbffd07b\",\"subtype\":\"Figure\",\"type\":\"Plot\"},\"ticker\":{\"id\":\"5c35d116-a209-493f-b96a-cabd1de0d11e\",\"type\":\"BasicTicker\"}},\"id\":\"c9afc9cf-5088-478f-b82c-d3854cce04e7\",\"type\":\"LinearAxis\"},{\"attributes\":{\"fill_alpha\":{\"value\":0.5},\"fill_color\":{\"value\":\"#1f77b4\"},\"line_color\":{\"value\":\"#1f77b4\"},\"radius\":{\"units\":\"data\",\"value\":1},\"size\":{\"units\":\"screen\",\"value\":20},\"x\":{\"field\":\"x\"},\"y\":{\"field\":\"y\"}},\"id\":\"1e2065b6-c586-4e72-b5f9-ab2af728a6cf\",\"type\":\"Circle\"},{\"attributes\":{},\"id\":\"0b76bb3a-d024-45f3-be63-b488583ff6ae\",\"type\":\"BasicTickFormatter\"},{\"attributes\":{},\"id\":\"5c35d116-a209-493f-b96a-cabd1de0d11e\",\"type\":\"BasicTicker\"},{\"attributes\":{\"active_drag\":\"auto\",\"active_inspect\":\"auto\",\"active_scroll\":\"auto\",\"active_tap\":\"auto\",\"tools\":[{\"id\":\"e8b59db1-a573-4617-963a-d2fd1ddfa50b\",\"type\":\"PanTool\"},{\"id\":\"59539d91-77f5-4173-8ef5-e963ce1725d6\",\"type\":\"WheelZoomTool\"},{\"id\":\"9c921a87-fd82-4c76-8240-64d9efc0ae37\",\"type\":\"BoxZoomTool\"},{\"id\":\"ce507072-488b-4f21-bd31-49420be3262f\",\"type\":\"SaveTool\"},{\"id\":\"e4a2c4b2-a8cc-4f89-bc1b-c86f26227726\",\"type\":\"ResetTool\"},{\"id\":\"ba0a3cbb-79d3-4fe2-96b6-d979fe5808f8\",\"type\":\"HelpTool\"}]},\"id\":\"e682bb69-f337-48ae-b124-7955bee60284\",\"type\":\"Toolbar\"},{\"attributes\":{\"formatter\":{\"id\":\"c9303db3-75d3-4718-9a23-9b415830ad67\",\"type\":\"BasicTickFormatter\"},\"plot\":{\"id\":\"3b038675-a9b6-4190-ab5a-f1a4fbffd07b\",\"subtype\":\"Figure\",\"type\":\"Plot\"},\"ticker\":{\"id\":\"1d132123-dcf4-4e84-90f2-0c13c17d4cac\",\"type\":\"BasicTicker\"}},\"id\":\"f601df73-31b0-4bd4-acb5-582e85c2b0ff\",\"type\":\"LinearAxis\"},{\"attributes\":{\"callback\":null},\"id\":\"3b0ae32c-0a4f-4b16-97e7-ba62064917ac\",\"type\":\"DataRange1d\"},{\"attributes\":{},\"id\":\"1d132123-dcf4-4e84-90f2-0c13c17d4cac\",\"type\":\"BasicTicker\"},{\"attributes\":{},\"id\":\"8586915d-62a9-4819-a11a-1b3682f7b640\",\"type\":\"LinearScale\"},{\"attributes\":{\"dimension\":1,\"plot\":{\"id\":\"3b038675-a9b6-4190-ab5a-f1a4fbffd07b\",\"subtype\":\"Figure\",\"type\":\"Plot\"},\"ticker\":{\"id\":\"1d132123-dcf4-4e84-90f2-0c13c17d4cac\",\"type\":\"BasicTicker\"}},\"id\":\"5b9f877c-a0c1-4d58-93d1-9ba36f8a15d9\",\"type\":\"Grid\"},{\"attributes\":{\"callback\":null},\"id\":\"95842441-faaf-42ef-b8da-ee399a90505b\",\"type\":\"DataRange1d\"},{\"attributes\":{},\"id\":\"c9303db3-75d3-4718-9a23-9b415830ad67\",\"type\":\"BasicTickFormatter\"},{\"attributes\":{\"bottom_units\":\"screen\",\"fill_alpha\":{\"value\":0.5},\"fill_color\":{\"value\":\"lightgrey\"},\"left_units\":\"screen\",\"level\":\"overlay\",\"line_alpha\":{\"value\":1.0},\"line_color\":{\"value\":\"black\"},\"line_dash\":[4,4],\"line_width\":{\"value\":2},\"plot\":null,\"render_mode\":\"css\",\"right_units\":\"screen\",\"top_units\":\"screen\"},\"id\":\"05a94452-8bbe-42a4-b6f2-0f110f54c757\",\"type\":\"BoxAnnotation\"},{\"attributes\":{},\"id\":\"e8b59db1-a573-4617-963a-d2fd1ddfa50b\",\"type\":\"PanTool\"},{\"attributes\":{\"plot\":null,\"text\":\"\"},\"id\":\"94795226-c237-471d-8a07-9ce5b2b99b77\",\"type\":\"Title\"},{\"attributes\":{\"callback\":null,\"column_names\":[\"x\",\"y\"],\"data\":{\"x\":{\"__ndarray__\":\"HV9tI7bwHkC441EwemcYQGBO6vpdqOo/hy/pksppG0Aw5l8gk6gHQI454vatDhxA+AhoGWJ7GUB8WaYncOIiQKTEjI99L/4/wD2LXyd3E0DI28wksBEKQGIrMOhvUyFAZKELPnRKFUDg8Y7Tt5cXQLt3n2gk/BdAlleTRKhzC0BAQtxsjWETQHG6F5ygpB1AivB+ORrbGEC3eGVjMTgQQM6fR4TdTwNArI31Z7Ec0z/4ebhu1hL0P0VxxtPkzhRA5GOHMf/DA0DUH2lpTVcVQN1TqpPReCNAvIJADmEgIECkaLgwER/7P0faso5wigpA\",\"dtype\":\"float64\",\"shape\":[30]},\"y\":{\"__ndarray__\":\"zE5ZRs1GOUDFW7jBnBggQMxc06OcHCdA+KK7GQ/QIEAav9cCnOklQKaTSVECrTFA4sVWMC47MEAIXKrD7roSQA2rdTKvqjJAgL1TLsbO9D+D9pRyoqQ1QCc9K8ZwtglAHGZp+bJ/N0Cj2/dsIYs4QGpxU21L6ihAybdHE3jmN0BheGVrbyIwQEi6hApBfiBADQSVkC79BUCIR6YdyXwuQI4cWH3bahNALpgdx88ZO0D+GMLwGOD+P9Pw6KEbvDlA8q915duxA0B6eSpmZNg0QESvvudfUjVAQRrrFx4A+j8AN3rw9y8cQCzIOHsozjVA\",\"dtype\":\"float64\",\"shape\":[30]}}},\"id\":\"49b4658b-3d32-4c5a-b61d-be02aab87f4c\",\"type\":\"ColumnDataSource\"},{\"attributes\":{},\"id\":\"59539d91-77f5-4173-8ef5-e963ce1725d6\",\"type\":\"WheelZoomTool\"},{\"attributes\":{\"fill_alpha\":{\"value\":0.1},\"fill_color\":{\"value\":\"#1f77b4\"},\"line_alpha\":{\"value\":0.1},\"line_color\":{\"value\":\"#1f77b4\"},\"radius\":{\"units\":\"data\",\"value\":1},\"size\":{\"units\":\"screen\",\"value\":20},\"x\":{\"field\":\"x\"},\"y\":{\"field\":\"y\"}},\"id\":\"e546f0d2-e0b9-4a65-8b1c-8b1a1a6a2e1b\",\"type\":\"Circle\"},{\"attributes\":{\"below\":[{\"id\":\"c9afc9cf-5088-478f-b82c-d3854cce04e7\",\"type\":\"LinearAxis\"}],\"left\":[{\"id\":\"f601df73-31b0-4bd4-acb5-582e85c2b0ff\",\"type\":\"LinearAxis\"}],\"outline_line_alpha\":{\"value\":0.6},\"outline_line_width\":{\"value\":3},\"plot_height\":500,\"plot_width\":500,\"renderers\":[{\"id\":\"c9afc9cf-5088-478f-b82c-d3854cce04e7\",\"type\":\"LinearAxis\"},{\"id\":\"8ef96603-8c53-47fa-9aa4-b8f7e7aa4856\",\"type\":\"Grid\"},{\"id\":\"f601df73-31b0-4bd4-acb5-582e85c2b0ff\",\"type\":\"LinearAxis\"},{\"id\":\"5b9f877c-a0c1-4d58-93d1-9ba36f8a15d9\",\"type\":\"Grid\"},{\"id\":\"05a94452-8bbe-42a4-b6f2-0f110f54c757\",\"type\":\"BoxAnnotation\"},{\"id\":\"43b5c778-6c54-4154-be0b-3db417653c84\",\"type\":\"GlyphRenderer\"}],\"title\":{\"id\":\"94795226-c237-471d-8a07-9ce5b2b99b77\",\"type\":\"Title\"},\"toolbar\":{\"id\":\"e682bb69-f337-48ae-b124-7955bee60284\",\"type\":\"Toolbar\"},\"x_range\":{\"id\":\"3b0ae32c-0a4f-4b16-97e7-ba62064917ac\",\"type\":\"DataRange1d\"},\"x_scale\":{\"id\":\"3cdda0ab-6eae-463b-ae64-83af681abf69\",\"type\":\"LinearScale\"},\"y_range\":{\"id\":\"95842441-faaf-42ef-b8da-ee399a90505b\",\"type\":\"DataRange1d\"},\"y_scale\":{\"id\":\"8586915d-62a9-4819-a11a-1b3682f7b640\",\"type\":\"LinearScale\"}},\"id\":\"3b038675-a9b6-4190-ab5a-f1a4fbffd07b\",\"subtype\":\"Figure\",\"type\":\"Plot\"},{\"attributes\":{\"overlay\":{\"id\":\"05a94452-8bbe-42a4-b6f2-0f110f54c757\",\"type\":\"BoxAnnotation\"}},\"id\":\"9c921a87-fd82-4c76-8240-64d9efc0ae37\",\"type\":\"BoxZoomTool\"},{\"attributes\":{},\"id\":\"ce507072-488b-4f21-bd31-49420be3262f\",\"type\":\"SaveTool\"},{\"attributes\":{},\"id\":\"e4a2c4b2-a8cc-4f89-bc1b-c86f26227726\",\"type\":\"ResetTool\"}],\"root_ids\":[\"3b038675-a9b6-4190-ab5a-f1a4fbffd07b\"]},\"title\":\"Bokeh Application\",\"version\":\"0.12.10\"}};\n",
       "    var render_items = [{\"docid\":\"34eca4be-f238-4570-a9a4-e315e3cc03a7\",\"elementid\":\"37d144d1-2b03-4e7a-b81f-b4ffcde6fa4c\",\"modelid\":\"3b038675-a9b6-4190-ab5a-f1a4fbffd07b\"}];\n",
       "\n",
       "    root.Bokeh.embed.embed_items(docs_json, render_items);\n",
       "  }\n",
       "\n",
       "  if (root.Bokeh !== undefined) {\n",
       "    embed_document(root);\n",
       "  } else {\n",
       "    var attempts = 0;\n",
       "    var timer = setInterval(function(root) {\n",
       "      if (root.Bokeh !== undefined) {\n",
       "        embed_document(root);\n",
       "        clearInterval(timer);\n",
       "      }\n",
       "      attempts++;\n",
       "      if (attempts > 100) {\n",
       "        console.log(\"Bokeh: ERROR: Unable to embed document because BokehJS library is missing\")\n",
       "        clearInterval(timer);\n",
       "      }\n",
       "    }, 10, root)\n",
       "  }\n",
       "})(window);"
      ],
      "application/vnd.bokehjs_exec.v0+json": ""
     },
     "metadata": {
      "application/vnd.bokehjs_exec.v0+json": {
       "id": "3b038675-a9b6-4190-ab5a-f1a4fbffd07b"
      }
     },
     "output_type": "display_data"
    }
   ],
   "source": [
    "import numpy as np\n",
    "a=np.random.random(30)*10\n",
    "b=np.random.random(30)*30\n",
    "p=figure(plot_width=500,plot_height=500)\n",
    "p.outline_line_width=3\n",
    "p.outline_line_alpha=0.6\n",
    "p.circle(a,b,size=20,fill_alpha=0.5,radius=1)\n",
    "show(p)"
   ]
  },
  {
   "cell_type": "markdown",
   "metadata": {},
   "source": [
    "# Glyphs\n",
    "It's also possible to style the visual properties of glyphs. When using bokeh.plotting this is often done when calling the glyph methods:\n",
    "\n",
    "p.circle(line_color=\"red\", fill_alpha=0.2, ...)\n",
    "But it is also possible to set these properties directly on glyph objects. Glyph objects are found on GlyphRenderer objects, which are returned by the Plot.add_glyph and bokeh.plotting glyph methods like circle, rect, etc. Let's look at an example:"
   ]
  },
  {
   "cell_type": "code",
   "execution_count": 20,
   "metadata": {},
   "outputs": [
    {
     "data": {
      "text/html": [
       "\n",
       "<div class=\"bk-root\">\n",
       "    <div class=\"bk-plotdiv\" id=\"9ff3cedf-0fca-4654-a2e3-3d9d193dff63\"></div>\n",
       "</div>"
      ]
     },
     "metadata": {},
     "output_type": "display_data"
    },
    {
     "data": {
      "application/javascript": [
       "(function(root) {\n",
       "  function embed_document(root) {\n",
       "    var docs_json = {\"7b8ccdbd-6304-4f9e-9e89-8bc9b7aa1238\":{\"roots\":{\"references\":[{\"attributes\":{},\"id\":\"aaf4eb04-c5a7-4c7b-bcb1-16519c2b8199\",\"type\":\"BasicTickFormatter\"},{\"attributes\":{},\"id\":\"5117d56a-159d-4663-b57c-be78517e7e27\",\"type\":\"BasicTicker\"},{\"attributes\":{\"fill_alpha\":{\"value\":0.2},\"fill_color\":{\"value\":\"#1f77b4\"},\"line_color\":{\"value\":\"firebrick\"},\"line_dash\":[9,1],\"line_width\":{\"value\":2},\"size\":{\"units\":\"screen\",\"value\":50},\"x\":{\"field\":\"x\"},\"y\":{\"field\":\"y\"}},\"id\":\"efbbf441-c4eb-42c4-ac04-a41969e857bf\",\"type\":\"Circle\"},{\"attributes\":{},\"id\":\"96b6458e-7de9-4206-a497-e3f5a9ead9cc\",\"type\":\"BasicTicker\"},{\"attributes\":{\"overlay\":{\"id\":\"920b1eee-6928-4441-9843-5916ed7904b4\",\"type\":\"BoxAnnotation\"}},\"id\":\"24b798fb-be6e-47dd-81f4-ae04c7cbc9f0\",\"type\":\"BoxZoomTool\"},{\"attributes\":{},\"id\":\"de04dc74-b58c-4b4e-8ce0-efe64f8c096d\",\"type\":\"LinearScale\"},{\"attributes\":{},\"id\":\"71ce60d2-1a28-4e22-88c4-11d40176de0c\",\"type\":\"WheelZoomTool\"},{\"attributes\":{\"dimension\":1,\"plot\":{\"id\":\"22ccfafa-ba5e-4102-be17-d14fd9b0a78c\",\"subtype\":\"Figure\",\"type\":\"Plot\"},\"ticker\":{\"id\":\"96b6458e-7de9-4206-a497-e3f5a9ead9cc\",\"type\":\"BasicTicker\"}},\"id\":\"2ae1080f-dfc4-478c-94fa-7614f3227f21\",\"type\":\"Grid\"},{\"attributes\":{\"below\":[{\"id\":\"8989d02a-06b3-41dd-99f3-94283eed3d38\",\"type\":\"LinearAxis\"}],\"left\":[{\"id\":\"35eed5d0-07cb-4356-8388-734a95e384a0\",\"type\":\"LinearAxis\"}],\"plot_height\":400,\"plot_width\":400,\"renderers\":[{\"id\":\"8989d02a-06b3-41dd-99f3-94283eed3d38\",\"type\":\"LinearAxis\"},{\"id\":\"04950e8c-571a-45b7-824a-bb3b7b84659e\",\"type\":\"Grid\"},{\"id\":\"35eed5d0-07cb-4356-8388-734a95e384a0\",\"type\":\"LinearAxis\"},{\"id\":\"2ae1080f-dfc4-478c-94fa-7614f3227f21\",\"type\":\"Grid\"},{\"id\":\"920b1eee-6928-4441-9843-5916ed7904b4\",\"type\":\"BoxAnnotation\"},{\"id\":\"3a313f18-b749-4d53-a2d0-d96e0885604e\",\"type\":\"GlyphRenderer\"}],\"title\":{\"id\":\"e8af0191-48e8-425b-b6cf-f523e2d47865\",\"type\":\"Title\"},\"toolbar\":{\"id\":\"66fba823-6f73-477d-babc-bca312b5b895\",\"type\":\"Toolbar\"},\"x_range\":{\"id\":\"3959d7d8-62c1-4e31-8544-e9dc29e25e0b\",\"type\":\"DataRange1d\"},\"x_scale\":{\"id\":\"a02b64be-606e-436a-ae47-6dd0adfbab19\",\"type\":\"LinearScale\"},\"y_range\":{\"id\":\"e9fdb330-5dab-485f-acb2-ed8b6e0ba81a\",\"type\":\"DataRange1d\"},\"y_scale\":{\"id\":\"de04dc74-b58c-4b4e-8ce0-efe64f8c096d\",\"type\":\"LinearScale\"}},\"id\":\"22ccfafa-ba5e-4102-be17-d14fd9b0a78c\",\"subtype\":\"Figure\",\"type\":\"Plot\"},{\"attributes\":{},\"id\":\"a02b64be-606e-436a-ae47-6dd0adfbab19\",\"type\":\"LinearScale\"},{\"attributes\":{\"plot\":null,\"text\":\"\"},\"id\":\"e8af0191-48e8-425b-b6cf-f523e2d47865\",\"type\":\"Title\"},{\"attributes\":{},\"id\":\"36be8df6-e8df-4ac6-be39-5ff0d1171235\",\"type\":\"ResetTool\"},{\"attributes\":{\"callback\":null},\"id\":\"e9fdb330-5dab-485f-acb2-ed8b6e0ba81a\",\"type\":\"DataRange1d\"},{\"attributes\":{\"fill_alpha\":{\"value\":0.1},\"fill_color\":{\"value\":\"#1f77b4\"},\"line_alpha\":{\"value\":0.1},\"line_color\":{\"value\":\"#1f77b4\"},\"x\":{\"field\":\"x\"},\"y\":{\"field\":\"y\"}},\"id\":\"34f3fddb-cdac-4456-ae03-8ece7e7eff54\",\"type\":\"Circle\"},{\"attributes\":{\"data_source\":{\"id\":\"b6840eb2-c645-4ad9-91a4-4e8ecfb4352c\",\"type\":\"ColumnDataSource\"},\"glyph\":{\"id\":\"efbbf441-c4eb-42c4-ac04-a41969e857bf\",\"type\":\"Circle\"},\"hover_glyph\":null,\"muted_glyph\":null,\"nonselection_glyph\":{\"id\":\"34f3fddb-cdac-4456-ae03-8ece7e7eff54\",\"type\":\"Circle\"},\"selection_glyph\":null,\"view\":{\"id\":\"4260b931-5817-4cdf-9205-baf8cbd6ce28\",\"type\":\"CDSView\"}},\"id\":\"3a313f18-b749-4d53-a2d0-d96e0885604e\",\"type\":\"GlyphRenderer\"},{\"attributes\":{},\"id\":\"0016f660-e8d8-4f3f-8dd7-f4bac7432480\",\"type\":\"SaveTool\"},{\"attributes\":{},\"id\":\"d0d90d64-b671-4c80-9ba3-b30bfc49ff27\",\"type\":\"HelpTool\"},{\"attributes\":{\"callback\":null},\"id\":\"3959d7d8-62c1-4e31-8544-e9dc29e25e0b\",\"type\":\"DataRange1d\"},{\"attributes\":{\"active_drag\":\"auto\",\"active_inspect\":\"auto\",\"active_scroll\":\"auto\",\"active_tap\":\"auto\",\"tools\":[{\"id\":\"28a921cc-56f9-4c12-b607-8d9f62671063\",\"type\":\"PanTool\"},{\"id\":\"71ce60d2-1a28-4e22-88c4-11d40176de0c\",\"type\":\"WheelZoomTool\"},{\"id\":\"24b798fb-be6e-47dd-81f4-ae04c7cbc9f0\",\"type\":\"BoxZoomTool\"},{\"id\":\"0016f660-e8d8-4f3f-8dd7-f4bac7432480\",\"type\":\"SaveTool\"},{\"id\":\"36be8df6-e8df-4ac6-be39-5ff0d1171235\",\"type\":\"ResetTool\"},{\"id\":\"d0d90d64-b671-4c80-9ba3-b30bfc49ff27\",\"type\":\"HelpTool\"}]},\"id\":\"66fba823-6f73-477d-babc-bca312b5b895\",\"type\":\"Toolbar\"},{\"attributes\":{\"callback\":null,\"column_names\":[\"x\",\"y\"],\"data\":{\"x\":[1,2,3,4,5],\"y\":[2,5,8,2,7]}},\"id\":\"b6840eb2-c645-4ad9-91a4-4e8ecfb4352c\",\"type\":\"ColumnDataSource\"},{\"attributes\":{\"formatter\":{\"id\":\"aaf4eb04-c5a7-4c7b-bcb1-16519c2b8199\",\"type\":\"BasicTickFormatter\"},\"plot\":{\"id\":\"22ccfafa-ba5e-4102-be17-d14fd9b0a78c\",\"subtype\":\"Figure\",\"type\":\"Plot\"},\"ticker\":{\"id\":\"96b6458e-7de9-4206-a497-e3f5a9ead9cc\",\"type\":\"BasicTicker\"}},\"id\":\"35eed5d0-07cb-4356-8388-734a95e384a0\",\"type\":\"LinearAxis\"},{\"attributes\":{\"source\":{\"id\":\"b6840eb2-c645-4ad9-91a4-4e8ecfb4352c\",\"type\":\"ColumnDataSource\"}},\"id\":\"4260b931-5817-4cdf-9205-baf8cbd6ce28\",\"type\":\"CDSView\"},{\"attributes\":{},\"id\":\"28a921cc-56f9-4c12-b607-8d9f62671063\",\"type\":\"PanTool\"},{\"attributes\":{\"formatter\":{\"id\":\"1c12927c-63d9-491d-84d9-cfc93f81e04b\",\"type\":\"BasicTickFormatter\"},\"plot\":{\"id\":\"22ccfafa-ba5e-4102-be17-d14fd9b0a78c\",\"subtype\":\"Figure\",\"type\":\"Plot\"},\"ticker\":{\"id\":\"5117d56a-159d-4663-b57c-be78517e7e27\",\"type\":\"BasicTicker\"}},\"id\":\"8989d02a-06b3-41dd-99f3-94283eed3d38\",\"type\":\"LinearAxis\"},{\"attributes\":{},\"id\":\"1c12927c-63d9-491d-84d9-cfc93f81e04b\",\"type\":\"BasicTickFormatter\"},{\"attributes\":{\"bottom_units\":\"screen\",\"fill_alpha\":{\"value\":0.5},\"fill_color\":{\"value\":\"lightgrey\"},\"left_units\":\"screen\",\"level\":\"overlay\",\"line_alpha\":{\"value\":1.0},\"line_color\":{\"value\":\"black\"},\"line_dash\":[4,4],\"line_width\":{\"value\":2},\"plot\":null,\"render_mode\":\"css\",\"right_units\":\"screen\",\"top_units\":\"screen\"},\"id\":\"920b1eee-6928-4441-9843-5916ed7904b4\",\"type\":\"BoxAnnotation\"},{\"attributes\":{\"plot\":{\"id\":\"22ccfafa-ba5e-4102-be17-d14fd9b0a78c\",\"subtype\":\"Figure\",\"type\":\"Plot\"},\"ticker\":{\"id\":\"5117d56a-159d-4663-b57c-be78517e7e27\",\"type\":\"BasicTicker\"}},\"id\":\"04950e8c-571a-45b7-824a-bb3b7b84659e\",\"type\":\"Grid\"}],\"root_ids\":[\"22ccfafa-ba5e-4102-be17-d14fd9b0a78c\"]},\"title\":\"Bokeh Application\",\"version\":\"0.12.10\"}};\n",
       "    var render_items = [{\"docid\":\"7b8ccdbd-6304-4f9e-9e89-8bc9b7aa1238\",\"elementid\":\"9ff3cedf-0fca-4654-a2e3-3d9d193dff63\",\"modelid\":\"22ccfafa-ba5e-4102-be17-d14fd9b0a78c\"}];\n",
       "\n",
       "    root.Bokeh.embed.embed_items(docs_json, render_items);\n",
       "  }\n",
       "\n",
       "  if (root.Bokeh !== undefined) {\n",
       "    embed_document(root);\n",
       "  } else {\n",
       "    var attempts = 0;\n",
       "    var timer = setInterval(function(root) {\n",
       "      if (root.Bokeh !== undefined) {\n",
       "        embed_document(root);\n",
       "        clearInterval(timer);\n",
       "      }\n",
       "      attempts++;\n",
       "      if (attempts > 100) {\n",
       "        console.log(\"Bokeh: ERROR: Unable to embed document because BokehJS library is missing\")\n",
       "        clearInterval(timer);\n",
       "      }\n",
       "    }, 10, root)\n",
       "  }\n",
       "})(window);"
      ],
      "application/vnd.bokehjs_exec.v0+json": ""
     },
     "metadata": {
      "application/vnd.bokehjs_exec.v0+json": {
       "id": "22ccfafa-ba5e-4102-be17-d14fd9b0a78c"
      }
     },
     "output_type": "display_data"
    }
   ],
   "source": [
    "p=figure(plot_width=400,plot_height=400)\n",
    "\n",
    "#keep a reference to the returned GlyphyRenderer\n",
    "r=p.circle([1,2,3,4,5],[2,5,8,2,7])\n",
    "\n",
    "r.glyph.size=50\n",
    "r.glyph.fill_alpha=0.2\n",
    "r.glyph.line_color=\"firebrick\"\n",
    "r.glyph.line_dash=[9,1]\n",
    "\n",
    "r.glyph.line_width=2\n",
    "show(p)"
   ]
  },
  {
   "cell_type": "markdown",
   "metadata": {},
   "source": [
    "# Selection and non-selection visuals\n",
    "You can also control how glyphs look when there are selections involved. The set of \"selected\" points is displayed according to the optional .selection_glyph property of a GlyphRenderer:\n",
    "\n",
    "r.selection_glyph = Circle(fill_alpha=1, fill_color=\"firebrick\", line_color=None)\n",
    "When there is a non-empty selection, the set of \"unselected: points is displayed according to the optional .nonselection_glyph property of a GlyphRenderer:\n",
    "\n",
    "r.nonselection_glyph = Circle(fill_alpha=0.2, fill_color=\"grey\", line_color=None)\n",
    "When using the bokeh.plotting interface, it is easier to pass these visual properties to the glyph methods as shown below. The glyph method will create the selection or nonselection glyphs and attach them to the renderer for you."
   ]
  },
  {
   "cell_type": "code",
   "execution_count": 27,
   "metadata": {},
   "outputs": [
    {
     "data": {
      "text/html": [
       "\n",
       "<div class=\"bk-root\">\n",
       "    <div class=\"bk-plotdiv\" id=\"78219f1b-ad64-45b0-b35e-b06e83181f53\"></div>\n",
       "</div>"
      ]
     },
     "metadata": {},
     "output_type": "display_data"
    },
    {
     "data": {
      "application/javascript": [
       "(function(root) {\n",
       "  function embed_document(root) {\n",
       "    var docs_json = {\"5d3a6450-e80d-4528-9d8d-93ef3d5426b6\":{\"roots\":{\"references\":[{\"attributes\":{\"fill_alpha\":{\"value\":0.2},\"fill_color\":{\"value\":\"grey\"},\"line_color\":{\"value\":\"firebrick\"},\"size\":{\"units\":\"screen\",\"value\":50},\"x\":{\"field\":\"x\"},\"y\":{\"field\":\"y\"}},\"id\":\"9ab09eb8-fadc-4835-b811-edba0f2d407c\",\"type\":\"Circle\"},{\"attributes\":{},\"id\":\"e8db5de6-7ef0-401a-b756-0e865db97ca6\",\"type\":\"BasicTickFormatter\"},{\"attributes\":{\"active_drag\":\"auto\",\"active_inspect\":\"auto\",\"active_scroll\":\"auto\",\"active_tap\":\"auto\",\"tools\":[{\"id\":\"4b86870e-ccab-4c25-99c7-4b40fddf0ebf\",\"type\":\"TapTool\"}]},\"id\":\"1d7e8dd9-63ba-4a7a-9d85-96d4940fb866\",\"type\":\"Toolbar\"},{\"attributes\":{\"fill_color\":{\"value\":\"firebrick\"},\"line_color\":{\"value\":\"firebrick\"},\"size\":{\"units\":\"screen\",\"value\":50},\"x\":{\"field\":\"x\"},\"y\":{\"field\":\"y\"}},\"id\":\"c3604dc5-52fe-497a-8832-53395e9a3bd0\",\"type\":\"Circle\"},{\"attributes\":{\"callback\":null},\"id\":\"4e29f092-f1d6-4cd1-b95c-686b31ed70fa\",\"type\":\"DataRange1d\"},{\"attributes\":{\"data_source\":{\"id\":\"22eea801-c258-4845-a1a4-6d7e1eda366a\",\"type\":\"ColumnDataSource\"},\"glyph\":{\"id\":\"666dc4a2-6b55-4b1a-b9ae-72c5c745f6a7\",\"type\":\"Circle\"},\"hover_glyph\":null,\"muted_glyph\":null,\"nonselection_glyph\":{\"id\":\"9ab09eb8-fadc-4835-b811-edba0f2d407c\",\"type\":\"Circle\"},\"selection_glyph\":{\"id\":\"c3604dc5-52fe-497a-8832-53395e9a3bd0\",\"type\":\"Circle\"},\"view\":{\"id\":\"a2885cb9-9157-461d-bb28-c2d0c9bc96a8\",\"type\":\"CDSView\"}},\"id\":\"b0fa30b8-23bf-467c-9d15-36074ba4f4fd\",\"type\":\"GlyphRenderer\"},{\"attributes\":{},\"id\":\"d572053f-9289-41b1-99d3-991968c1b380\",\"type\":\"LinearScale\"},{\"attributes\":{},\"id\":\"9cab5c9c-10e9-4f02-a1e2-f37cbed4b6d6\",\"type\":\"BasicTickFormatter\"},{\"attributes\":{\"callback\":null},\"id\":\"519a314b-64a7-4d79-8895-927961c2fdee\",\"type\":\"DataRange1d\"},{\"attributes\":{\"source\":{\"id\":\"22eea801-c258-4845-a1a4-6d7e1eda366a\",\"type\":\"ColumnDataSource\"}},\"id\":\"a2885cb9-9157-461d-bb28-c2d0c9bc96a8\",\"type\":\"CDSView\"},{\"attributes\":{},\"id\":\"f8e4c8d8-9a6e-45f6-8614-4bdca51d3f56\",\"type\":\"LinearScale\"},{\"attributes\":{\"formatter\":{\"id\":\"e8db5de6-7ef0-401a-b756-0e865db97ca6\",\"type\":\"BasicTickFormatter\"},\"plot\":{\"id\":\"b0040b0b-8694-4fc6-b177-a6a2ed8d7ace\",\"subtype\":\"Figure\",\"type\":\"Plot\"},\"ticker\":{\"id\":\"a3b7eee8-519a-454e-801d-eb7cda4cd5c6\",\"type\":\"BasicTicker\"}},\"id\":\"1a6ea6b2-b2d2-40c1-912c-405972326996\",\"type\":\"LinearAxis\"},{\"attributes\":{\"callback\":null},\"id\":\"4b86870e-ccab-4c25-99c7-4b40fddf0ebf\",\"type\":\"TapTool\"},{\"attributes\":{\"plot\":{\"id\":\"b0040b0b-8694-4fc6-b177-a6a2ed8d7ace\",\"subtype\":\"Figure\",\"type\":\"Plot\"},\"ticker\":{\"id\":\"a3b7eee8-519a-454e-801d-eb7cda4cd5c6\",\"type\":\"BasicTicker\"}},\"id\":\"f049fee5-afda-4735-aef3-5e34be6cd971\",\"type\":\"Grid\"},{\"attributes\":{},\"id\":\"a3b7eee8-519a-454e-801d-eb7cda4cd5c6\",\"type\":\"BasicTicker\"},{\"attributes\":{\"formatter\":{\"id\":\"9cab5c9c-10e9-4f02-a1e2-f37cbed4b6d6\",\"type\":\"BasicTickFormatter\"},\"plot\":{\"id\":\"b0040b0b-8694-4fc6-b177-a6a2ed8d7ace\",\"subtype\":\"Figure\",\"type\":\"Plot\"},\"ticker\":{\"id\":\"83e81450-47a7-4361-b1ba-bb5828c5d7c5\",\"type\":\"BasicTicker\"}},\"id\":\"770377fe-70eb-406f-ba9f-533664f0a71d\",\"type\":\"LinearAxis\"},{\"attributes\":{\"fill_color\":{\"value\":\"#1f77b4\"},\"line_color\":{\"value\":\"#1f77b4\"},\"size\":{\"units\":\"screen\",\"value\":50},\"x\":{\"field\":\"x\"},\"y\":{\"field\":\"y\"}},\"id\":\"666dc4a2-6b55-4b1a-b9ae-72c5c745f6a7\",\"type\":\"Circle\"},{\"attributes\":{\"below\":[{\"id\":\"1a6ea6b2-b2d2-40c1-912c-405972326996\",\"type\":\"LinearAxis\"}],\"left\":[{\"id\":\"770377fe-70eb-406f-ba9f-533664f0a71d\",\"type\":\"LinearAxis\"}],\"plot_height\":400,\"plot_width\":400,\"renderers\":[{\"id\":\"1a6ea6b2-b2d2-40c1-912c-405972326996\",\"type\":\"LinearAxis\"},{\"id\":\"f049fee5-afda-4735-aef3-5e34be6cd971\",\"type\":\"Grid\"},{\"id\":\"770377fe-70eb-406f-ba9f-533664f0a71d\",\"type\":\"LinearAxis\"},{\"id\":\"df8a8a93-899f-4a7d-b976-fb15ae44b598\",\"type\":\"Grid\"},{\"id\":\"b0fa30b8-23bf-467c-9d15-36074ba4f4fd\",\"type\":\"GlyphRenderer\"}],\"title\":{\"id\":\"8dbdaa19-485a-4fb1-a6aa-16f66669ec67\",\"type\":\"Title\"},\"toolbar\":{\"id\":\"1d7e8dd9-63ba-4a7a-9d85-96d4940fb866\",\"type\":\"Toolbar\"},\"x_range\":{\"id\":\"4e29f092-f1d6-4cd1-b95c-686b31ed70fa\",\"type\":\"DataRange1d\"},\"x_scale\":{\"id\":\"d572053f-9289-41b1-99d3-991968c1b380\",\"type\":\"LinearScale\"},\"y_range\":{\"id\":\"519a314b-64a7-4d79-8895-927961c2fdee\",\"type\":\"DataRange1d\"},\"y_scale\":{\"id\":\"f8e4c8d8-9a6e-45f6-8614-4bdca51d3f56\",\"type\":\"LinearScale\"}},\"id\":\"b0040b0b-8694-4fc6-b177-a6a2ed8d7ace\",\"subtype\":\"Figure\",\"type\":\"Plot\"},{\"attributes\":{},\"id\":\"83e81450-47a7-4361-b1ba-bb5828c5d7c5\",\"type\":\"BasicTicker\"},{\"attributes\":{\"callback\":null,\"column_names\":[\"x\",\"y\"],\"data\":{\"x\":[1,2,3,4,5],\"y\":[2,5,8,2,7]}},\"id\":\"22eea801-c258-4845-a1a4-6d7e1eda366a\",\"type\":\"ColumnDataSource\"},{\"attributes\":{\"dimension\":1,\"plot\":{\"id\":\"b0040b0b-8694-4fc6-b177-a6a2ed8d7ace\",\"subtype\":\"Figure\",\"type\":\"Plot\"},\"ticker\":{\"id\":\"83e81450-47a7-4361-b1ba-bb5828c5d7c5\",\"type\":\"BasicTicker\"}},\"id\":\"df8a8a93-899f-4a7d-b976-fb15ae44b598\",\"type\":\"Grid\"},{\"attributes\":{\"plot\":null,\"text\":\"Select a Cicle\"},\"id\":\"8dbdaa19-485a-4fb1-a6aa-16f66669ec67\",\"type\":\"Title\"}],\"root_ids\":[\"b0040b0b-8694-4fc6-b177-a6a2ed8d7ace\"]},\"title\":\"Bokeh Application\",\"version\":\"0.12.10\"}};\n",
       "    var render_items = [{\"docid\":\"5d3a6450-e80d-4528-9d8d-93ef3d5426b6\",\"elementid\":\"78219f1b-ad64-45b0-b35e-b06e83181f53\",\"modelid\":\"b0040b0b-8694-4fc6-b177-a6a2ed8d7ace\"}];\n",
       "\n",
       "    root.Bokeh.embed.embed_items(docs_json, render_items);\n",
       "  }\n",
       "\n",
       "  if (root.Bokeh !== undefined) {\n",
       "    embed_document(root);\n",
       "  } else {\n",
       "    var attempts = 0;\n",
       "    var timer = setInterval(function(root) {\n",
       "      if (root.Bokeh !== undefined) {\n",
       "        embed_document(root);\n",
       "        clearInterval(timer);\n",
       "      }\n",
       "      attempts++;\n",
       "      if (attempts > 100) {\n",
       "        console.log(\"Bokeh: ERROR: Unable to embed document because BokehJS library is missing\")\n",
       "        clearInterval(timer);\n",
       "      }\n",
       "    }, 10, root)\n",
       "  }\n",
       "})(window);"
      ],
      "application/vnd.bokehjs_exec.v0+json": ""
     },
     "metadata": {
      "application/vnd.bokehjs_exec.v0+json": {
       "id": "b0040b0b-8694-4fc6-b177-a6a2ed8d7ace"
      }
     },
     "output_type": "display_data"
    }
   ],
   "source": [
    "p=figure(plot_width=400,plot_height=400, tools=\"tap\",title=\"Select a Cicle\")\n",
    "\n",
    "#Selections and nonselections styles \n",
    "renderer=p.circle([1,2,3,4,5],[2,5,8,2,7],size=50,\n",
    "                 #set visual properties for selected glyphs\n",
    "                 selection_color=\"firebrick\",\n",
    "                 \n",
    "                 #set visual properties for non-selected glyphs\n",
    "                 nonselection_fill_alpha=.2,\n",
    "                 nonselection_fill_color=\"grey\",\n",
    "                 nonselection_line_color=\"firebrick\",\n",
    "                 nonselection_line_alpha=1.0)\n",
    "\n",
    "\n",
    "show(p)\n"
   ]
  },
  {
   "cell_type": "markdown",
   "metadata": {},
   "source": [
    "It is also possible to specify the visual appearance of glyphs when they are \"inspected\", e.g. by a hover tool. This is accomplished by setting an optional hover_glyph on the glyph renderer:\n",
    "\n",
    "r.hover_glyph = Circle(fill_alpha=1, fill_color=\"firebrick\", line_color=None)\n",
    "Or if using bokeh.plotting glyph methods, by passing hover_fill_alpha, etc. to the glyph method. Lets look at an example that works together with a HoverTool configured for \"hline\" hit-testing.\n",
    "\n"
   ]
  },
  {
   "cell_type": "code",
   "execution_count": 32,
   "metadata": {},
   "outputs": [],
   "source": [
    "from bokeh.models.tools import HoverTool\n",
    "from bokeh.sampledata.glucose import data\n",
    "\n",
    "subset=data.loc['2010-10-06']\n",
    "x,y=subset.index.to_series(),subset['glucose']\n",
    "z=subset['isig']"
   ]
  },
  {
   "cell_type": "code",
   "execution_count": 33,
   "metadata": {},
   "outputs": [
    {
     "data": {
      "text/html": [
       "<div>\n",
       "<style scoped>\n",
       "    .dataframe tbody tr th:only-of-type {\n",
       "        vertical-align: middle;\n",
       "    }\n",
       "\n",
       "    .dataframe tbody tr th {\n",
       "        vertical-align: top;\n",
       "    }\n",
       "\n",
       "    .dataframe thead th {\n",
       "        text-align: right;\n",
       "    }\n",
       "</style>\n",
       "<table border=\"1\" class=\"dataframe\">\n",
       "  <thead>\n",
       "    <tr style=\"text-align: right;\">\n",
       "      <th></th>\n",
       "      <th>isig</th>\n",
       "      <th>glucose</th>\n",
       "    </tr>\n",
       "    <tr>\n",
       "      <th>datetime</th>\n",
       "      <th></th>\n",
       "      <th></th>\n",
       "    </tr>\n",
       "  </thead>\n",
       "  <tbody>\n",
       "    <tr>\n",
       "      <th>2010-10-06 00:03:00</th>\n",
       "      <td>20.12</td>\n",
       "      <td>143</td>\n",
       "    </tr>\n",
       "    <tr>\n",
       "      <th>2010-10-06 00:08:00</th>\n",
       "      <td>20.84</td>\n",
       "      <td>147</td>\n",
       "    </tr>\n",
       "    <tr>\n",
       "      <th>2010-10-06 00:13:00</th>\n",
       "      <td>20.88</td>\n",
       "      <td>150</td>\n",
       "    </tr>\n",
       "    <tr>\n",
       "      <th>2010-10-06 00:18:00</th>\n",
       "      <td>20.9</td>\n",
       "      <td>152</td>\n",
       "    </tr>\n",
       "    <tr>\n",
       "      <th>2010-10-06 00:23:00</th>\n",
       "      <td>20.84</td>\n",
       "      <td>152</td>\n",
       "    </tr>\n",
       "  </tbody>\n",
       "</table>\n",
       "</div>"
      ],
      "text/plain": [
       "                      isig  glucose\n",
       "datetime                           \n",
       "2010-10-06 00:03:00  20.12      143\n",
       "2010-10-06 00:08:00  20.84      147\n",
       "2010-10-06 00:13:00  20.88      150\n",
       "2010-10-06 00:18:00   20.9      152\n",
       "2010-10-06 00:23:00  20.84      152"
      ]
     },
     "execution_count": 33,
     "metadata": {},
     "output_type": "execute_result"
    }
   ],
   "source": [
    "subset.head()"
   ]
  },
  {
   "cell_type": "code",
   "execution_count": 34,
   "metadata": {},
   "outputs": [
    {
     "data": {
      "text/html": [
       "\n",
       "<div class=\"bk-root\">\n",
       "    <div class=\"bk-plotdiv\" id=\"d61db4a1-c276-4942-82ed-718e8bc2ac6d\"></div>\n",
       "</div>"
      ]
     },
     "metadata": {},
     "output_type": "display_data"
    },
    {
     "data": {
      "application/javascript": [
       "(function(root) {\n",
       "  function embed_document(root) {\n",
       "    var docs_json = {\"3fcf4089-1b75-47c9-bf4f-4f9bbf385421\":{\"roots\":{\"references\":[{\"attributes\":{\"days\":[1,2,3,4,5,6,7,8,9,10,11,12,13,14,15,16,17,18,19,20,21,22,23,24,25,26,27,28,29,30,31]},\"id\":\"bfa1d37e-2db9-4b74-b83c-467f43dd2bf5\",\"type\":\"DaysTicker\"},{\"attributes\":{\"days\":[1,4,7,10,13,16,19,22,25,28]},\"id\":\"70203400-125a-4269-a02e-3b2931cb808b\",\"type\":\"DaysTicker\"},{\"attributes\":{\"months\":[0,2,4,6,8,10]},\"id\":\"dbdecf5f-79c2-4fef-8559-cb25b6a2aca3\",\"type\":\"MonthsTicker\"},{\"attributes\":{\"months\":[0,1,2,3,4,5,6,7,8,9,10,11]},\"id\":\"874efeee-fe4d-45be-8945-c65c95218c35\",\"type\":\"MonthsTicker\"},{\"attributes\":{},\"id\":\"ab6a88e4-fcde-4970-a564-1c37fceaf3de\",\"type\":\"WheelZoomTool\"},{\"attributes\":{\"line_alpha\":{\"value\":0.1},\"line_color\":{\"value\":\"#1f77b4\"},\"line_dash\":[4,4],\"x\":{\"field\":\"x\"},\"y\":{\"field\":\"y\"}},\"id\":\"3157bf2c-0f8b-47a0-959f-70335a4e510c\",\"type\":\"Line\"},{\"attributes\":{\"callback\":null},\"id\":\"8ec81fb1-fceb-470e-b72c-dc5baa0358f1\",\"type\":\"DataRange1d\"},{\"attributes\":{},\"id\":\"e5ce708e-d634-4939-bf92-e72bb34a0fd1\",\"type\":\"HelpTool\"},{\"attributes\":{\"source\":{\"id\":\"80acffef-cd43-4bac-8ec4-3b874ce43815\",\"type\":\"ColumnDataSource\"}},\"id\":\"139a8ebd-bfb5-4323-a845-7ca1dfeab7f3\",\"type\":\"CDSView\"},{\"attributes\":{},\"id\":\"1e7b428c-f482-4cf9-8be3-3916f300ea3a\",\"type\":\"LinearScale\"},{\"attributes\":{},\"id\":\"5b1ea7ac-549c-42d2-81ea-fb3a22b39eb1\",\"type\":\"SaveTool\"},{\"attributes\":{},\"id\":\"635b42f9-eb80-48fe-b744-015418fc4a6b\",\"type\":\"BasicTicker\"},{\"attributes\":{\"formatter\":{\"id\":\"f4d71c21-1500-402a-8700-7f7432404a08\",\"type\":\"BasicTickFormatter\"},\"plot\":{\"id\":\"576a310c-3c05-4d9b-b5e5-726970229c1f\",\"subtype\":\"Figure\",\"type\":\"Plot\"},\"ticker\":{\"id\":\"635b42f9-eb80-48fe-b744-015418fc4a6b\",\"type\":\"BasicTicker\"}},\"id\":\"a67afc57-9e32-4aec-a225-b4a9249253a5\",\"type\":\"LinearAxis\"},{\"attributes\":{},\"id\":\"4e910e99-8f1c-47ca-b33d-fc7a2061b04d\",\"type\":\"ResetTool\"},{\"attributes\":{\"bottom_units\":\"screen\",\"fill_alpha\":{\"value\":0.5},\"fill_color\":{\"value\":\"lightgrey\"},\"left_units\":\"screen\",\"level\":\"overlay\",\"line_alpha\":{\"value\":1.0},\"line_color\":{\"value\":\"black\"},\"line_dash\":[4,4],\"line_width\":{\"value\":2},\"plot\":null,\"render_mode\":\"css\",\"right_units\":\"screen\",\"top_units\":\"screen\"},\"id\":\"8e4f7331-f6ff-4714-b656-8558e02e39ff\",\"type\":\"BoxAnnotation\"},{\"attributes\":{\"months\":[0,4,8]},\"id\":\"759fefc1-cdeb-47ec-a8a3-ac3e65f0884a\",\"type\":\"MonthsTicker\"},{\"attributes\":{},\"id\":\"48fd4c66-89be-4524-a106-300f65c31f5a\",\"type\":\"PanTool\"},{\"attributes\":{\"base\":60,\"mantissas\":[1,2,5,10,15,20,30],\"max_interval\":1800000.0,\"min_interval\":1000.0,\"num_minor_ticks\":0},\"id\":\"e6f4ac87-0ceb-40ab-a767-cb56604277a7\",\"type\":\"AdaptiveTicker\"},{\"attributes\":{\"mantissas\":[1,2,5],\"max_interval\":500.0,\"num_minor_ticks\":0},\"id\":\"9f687b5d-03f9-4ae4-918e-f3f1f06eea3f\",\"type\":\"AdaptiveTicker\"},{\"attributes\":{\"months\":[0,6]},\"id\":\"d29e1967-3c62-4cd4-a440-5352a75deaeb\",\"type\":\"MonthsTicker\"},{\"attributes\":{\"num_minor_ticks\":5,\"tickers\":[{\"id\":\"9f687b5d-03f9-4ae4-918e-f3f1f06eea3f\",\"type\":\"AdaptiveTicker\"},{\"id\":\"e6f4ac87-0ceb-40ab-a767-cb56604277a7\",\"type\":\"AdaptiveTicker\"},{\"id\":\"08e41f7b-ea8a-477d-8dbc-520e62130f2f\",\"type\":\"AdaptiveTicker\"},{\"id\":\"bfa1d37e-2db9-4b74-b83c-467f43dd2bf5\",\"type\":\"DaysTicker\"},{\"id\":\"70203400-125a-4269-a02e-3b2931cb808b\",\"type\":\"DaysTicker\"},{\"id\":\"89c59d3f-78ee-4db6-9cdd-8e5c04cf98c9\",\"type\":\"DaysTicker\"},{\"id\":\"9ad922df-1855-40bd-be6f-277ca6f09d97\",\"type\":\"DaysTicker\"},{\"id\":\"874efeee-fe4d-45be-8945-c65c95218c35\",\"type\":\"MonthsTicker\"},{\"id\":\"dbdecf5f-79c2-4fef-8559-cb25b6a2aca3\",\"type\":\"MonthsTicker\"},{\"id\":\"759fefc1-cdeb-47ec-a8a3-ac3e65f0884a\",\"type\":\"MonthsTicker\"},{\"id\":\"d29e1967-3c62-4cd4-a440-5352a75deaeb\",\"type\":\"MonthsTicker\"},{\"id\":\"0d50ddb0-9280-4fe9-8aea-f847c26bd376\",\"type\":\"YearsTicker\"}]},\"id\":\"bdd0cd1d-67f6-4972-b291-599900f9f5ca\",\"type\":\"DatetimeTicker\"},{\"attributes\":{\"data_source\":{\"id\":\"80acffef-cd43-4bac-8ec4-3b874ce43815\",\"type\":\"ColumnDataSource\"},\"glyph\":{\"id\":\"f90900f2-3a03-4e6b-8fbc-38e4d8cf9b6c\",\"type\":\"Line\"},\"hover_glyph\":null,\"muted_glyph\":null,\"nonselection_glyph\":{\"id\":\"3157bf2c-0f8b-47a0-959f-70335a4e510c\",\"type\":\"Line\"},\"selection_glyph\":null,\"view\":{\"id\":\"139a8ebd-bfb5-4323-a845-7ca1dfeab7f3\",\"type\":\"CDSView\"}},\"id\":\"9dbf7549-b804-41ba-a0d5-2b4b9fa91287\",\"type\":\"GlyphRenderer\"},{\"attributes\":{},\"id\":\"4e23790b-44ed-40ae-be43-8e8573092f99\",\"type\":\"DatetimeTickFormatter\"},{\"attributes\":{\"plot\":null,\"text\":\"Hover over points\"},\"id\":\"0d155cdc-9ecd-4f47-a032-2c84d825ad9b\",\"type\":\"Title\"},{\"attributes\":{\"formatter\":{\"id\":\"4e23790b-44ed-40ae-be43-8e8573092f99\",\"type\":\"DatetimeTickFormatter\"},\"plot\":{\"id\":\"576a310c-3c05-4d9b-b5e5-726970229c1f\",\"subtype\":\"Figure\",\"type\":\"Plot\"},\"ticker\":{\"id\":\"bdd0cd1d-67f6-4972-b291-599900f9f5ca\",\"type\":\"DatetimeTicker\"}},\"id\":\"530e3f9d-1bc6-4165-ab27-f04f579d6002\",\"type\":\"DatetimeAxis\"},{\"attributes\":{},\"id\":\"0d50ddb0-9280-4fe9-8aea-f847c26bd376\",\"type\":\"YearsTicker\"},{\"attributes\":{\"base\":24,\"mantissas\":[1,2,4,6,8,12],\"max_interval\":43200000.0,\"min_interval\":3600000.0,\"num_minor_ticks\":0},\"id\":\"08e41f7b-ea8a-477d-8dbc-520e62130f2f\",\"type\":\"AdaptiveTicker\"},{\"attributes\":{\"days\":[1,15]},\"id\":\"9ad922df-1855-40bd-be6f-277ca6f09d97\",\"type\":\"DaysTicker\"},{\"attributes\":{\"line_color\":{\"value\":\"gray\"},\"line_dash\":[4,4],\"x\":{\"field\":\"x\"},\"y\":{\"field\":\"y\"}},\"id\":\"f90900f2-3a03-4e6b-8fbc-38e4d8cf9b6c\",\"type\":\"Line\"},{\"attributes\":{},\"id\":\"f4d71c21-1500-402a-8700-7f7432404a08\",\"type\":\"BasicTickFormatter\"},{\"attributes\":{\"active_drag\":\"auto\",\"active_inspect\":\"auto\",\"active_scroll\":\"auto\",\"active_tap\":\"auto\",\"tools\":[{\"id\":\"48fd4c66-89be-4524-a106-300f65c31f5a\",\"type\":\"PanTool\"},{\"id\":\"ab6a88e4-fcde-4970-a564-1c37fceaf3de\",\"type\":\"WheelZoomTool\"},{\"id\":\"e07cb5e3-cb49-42e3-9c83-e1396bcc4fd7\",\"type\":\"BoxZoomTool\"},{\"id\":\"5b1ea7ac-549c-42d2-81ea-fb3a22b39eb1\",\"type\":\"SaveTool\"},{\"id\":\"4e910e99-8f1c-47ca-b33d-fc7a2061b04d\",\"type\":\"ResetTool\"},{\"id\":\"e5ce708e-d634-4939-bf92-e72bb34a0fd1\",\"type\":\"HelpTool\"}]},\"id\":\"0ee3b0b6-bfe3-43e8-919e-9d4567db3cad\",\"type\":\"Toolbar\"},{\"attributes\":{\"dimension\":1,\"plot\":{\"id\":\"576a310c-3c05-4d9b-b5e5-726970229c1f\",\"subtype\":\"Figure\",\"type\":\"Plot\"},\"ticker\":{\"id\":\"635b42f9-eb80-48fe-b744-015418fc4a6b\",\"type\":\"BasicTicker\"}},\"id\":\"4781b428-ca09-41be-9c38-1cd72e1df3c2\",\"type\":\"Grid\"},{\"attributes\":{\"overlay\":{\"id\":\"8e4f7331-f6ff-4714-b656-8558e02e39ff\",\"type\":\"BoxAnnotation\"}},\"id\":\"e07cb5e3-cb49-42e3-9c83-e1396bcc4fd7\",\"type\":\"BoxZoomTool\"},{\"attributes\":{\"callback\":null},\"id\":\"fd78588e-a0cc-4b82-aec9-b4ac07fdc6c7\",\"type\":\"DataRange1d\"},{\"attributes\":{\"days\":[1,8,15,22]},\"id\":\"89c59d3f-78ee-4db6-9cdd-8e5c04cf98c9\",\"type\":\"DaysTicker\"},{\"attributes\":{\"below\":[{\"id\":\"530e3f9d-1bc6-4165-ab27-f04f579d6002\",\"type\":\"DatetimeAxis\"}],\"left\":[{\"id\":\"a67afc57-9e32-4aec-a225-b4a9249253a5\",\"type\":\"LinearAxis\"}],\"plot_height\":300,\"renderers\":[{\"id\":\"530e3f9d-1bc6-4165-ab27-f04f579d6002\",\"type\":\"DatetimeAxis\"},{\"id\":\"cbb27cce-6fcd-48c2-ac1a-795b4c8fdb9f\",\"type\":\"Grid\"},{\"id\":\"a67afc57-9e32-4aec-a225-b4a9249253a5\",\"type\":\"LinearAxis\"},{\"id\":\"4781b428-ca09-41be-9c38-1cd72e1df3c2\",\"type\":\"Grid\"},{\"id\":\"8e4f7331-f6ff-4714-b656-8558e02e39ff\",\"type\":\"BoxAnnotation\"},{\"id\":\"9dbf7549-b804-41ba-a0d5-2b4b9fa91287\",\"type\":\"GlyphRenderer\"}],\"title\":{\"id\":\"0d155cdc-9ecd-4f47-a032-2c84d825ad9b\",\"type\":\"Title\"},\"toolbar\":{\"id\":\"0ee3b0b6-bfe3-43e8-919e-9d4567db3cad\",\"type\":\"Toolbar\"},\"x_range\":{\"id\":\"8ec81fb1-fceb-470e-b72c-dc5baa0358f1\",\"type\":\"DataRange1d\"},\"x_scale\":{\"id\":\"1e7b428c-f482-4cf9-8be3-3916f300ea3a\",\"type\":\"LinearScale\"},\"y_range\":{\"id\":\"fd78588e-a0cc-4b82-aec9-b4ac07fdc6c7\",\"type\":\"DataRange1d\"},\"y_scale\":{\"id\":\"2a30662d-04ce-4327-8dde-91d8942be71b\",\"type\":\"LinearScale\"}},\"id\":\"576a310c-3c05-4d9b-b5e5-726970229c1f\",\"subtype\":\"Figure\",\"type\":\"Plot\"},{\"attributes\":{},\"id\":\"2a30662d-04ce-4327-8dde-91d8942be71b\",\"type\":\"LinearScale\"},{\"attributes\":{\"callback\":null,\"column_names\":[\"x\",\"y\"],\"data\":{\"x\":{\"__ndarray__\":\"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\",\"dtype\":\"float64\",\"shape\":[288]},\"y\":[\"20.12\",\"20.84\",\"20.88\",\"20.9\",\"20.84\",\"20.92\",\"21.44\",\"21.3\",\"20.3\",\"20.44\",\"19.88\",\"19.08\",\"19.02\",\"18.98\",\"18.6\",\"18.48\",\"18.52\",\"18.52\",\"18.52\",\"18.66\",\"18.88\",\"19.2\",\"19.5\",\"19.64\",\"20.02\",\"20.16\",\"20.12\",\"20.08\",\"20.02\",\"19.72\",\"19.42\",\"19.2\",\"18.9\",\"19.2\",\"19.2\",\"18.84\",\"18.62\",\"18.44\",\"18.3\",\"18.18\",\"18.04\",\"18.04\",\"17.92\",\"17.66\",\"17.46\",\"16.92\",\"16.46\",\"16.24\",\"16.28\",\"16.22\",\"16.18\",\"16.04\",\"15.88\",\"15.76\",\"15.68\",\"15.7\",\"15.92\",\"15.86\",\"15.52\",\"15.34\",\"15.36\",\"15.38\",\"15.48\",\"15.32\",\"15.02\",\"14.64\",\"14.34\",\"14.08\",\"13.8\",\"13.74\",\"13.7\",\"13.66\",\"13.66\",\"13.44\",\"13.34\",\"13.72\",\"14.04\",\"14.14\",\"14.3\",\"14.52\",\"14.86\",\"15.44\",\"15.72\",\"15.62\",\"15.46\",\"15.34\",\"15.22\",\"15.1\",\"14.28\",\"14.14\",\"14.6\",\"14.5\",\"13.88\",\"13.1\",\"12.88\",\"12.92\",\"13.4\",\"15.4\",\"17.42\",\"19.82\",\"22.18\",\"24.06\",\"25.72\",\"27.12\",\"28.52\",\"29.36\",\"29.34\",\"30.08\",\"31.08\",\"32.3\",\"33.48\",\"34.18\",\"35.28\",\"36.04\",\"36.68\",\"37.36\",\"37.42\",\"37.6\",\"37.68\",\"37.48\",\"37.26\",\"36.64\",\"36.16\",\"35.52\",\"34.88\",\"34.62\",\"34.06\",\"33.62\",\"33.52\",\"32.78\",\"32.14\",\"31.7\",\"31.1\",\"30.72\",\"30.44\",\"29.82\",\"29.28\",\"28.72\",\"28.24\",\"27.7\",\"27.12\",\"26.54\",\"26\",\"25.66\",\"24.88\",\"24.44\",\"23.7\",\"22.66\",\"22.48\",\"22.06\",\"21.62\",\"21.02\",\"20.3\",\"20.26\",\"22.5\",\"26\",\"29.9\",\"33.88\",\"36.46\",\"38.06\",\"38.82\",\"38.86\",\"38.58\",\"39.36\",\"40\",\"40.56\",\"41.12\",\"40.86\",\"40.88\",\"40.4\",\"39.32\",\"38.22\",\"36.74\",\"33.86\",\"30.66\",\"28.34\",\"27.58\",\"26.92\",\"26.2\",\"25.28\",\"24.36\",\"23.98\",\"22.88\",\"21.42\",\"20.06\",\"19.54\",\"19.58\",\"19.26\",\"18.28\",\"16.54\",\"16\",\"15.42\",\"15.74\",\"15.66\",\"14.66\",\"13.38\",\"12.56\",\"11.74\",\"11.3\",\"11.04\",\"10.78\",\"10.48\",\"10.2\",\"10.16\",\"10.14\",\"10.2\",\"10.58\",\"10.92\",\"10.88\",\"10.64\",\"10.4\",\"10.44\",\"10.22\",\"10.16\",\"10.24\",\"10.14\",\"9.98\",\"10.36\",\"10.78\",\"11.14\",\"11.76\",\"11.88\",\"12.06\",\"12.38\",\"12.04\",\"12.04\",\"12.22\",\"12.18\",\"12.32\",\"12.74\",\"13.22\",\"13.72\",\"14.08\",\"14.08\",\"14.06\",\"13.88\",\"13.8\",\"13.84\",\"13.6\",\"13.84\",\"14.1\",\"14.02\",\"13.78\",\"13.44\",\"12.84\",\"13.26\",\"13.5\",\"14.6\",\"16.94\",\"19.16\",\"20.7\",\"22.82\",\"24.1\",\"25.12\",\"26.54\",\"27.2\",\"28.76\",\"31.72\",\"33.18\",\"33.32\",\"33.3\",\"34.56\",\"34.14\",\"33.22\",\"31.48\",\"30.68\",\"29.64\",\"27.84\",\"27.12\",\"26.5\",\"25.98\",\"25.58\",\"25.92\",\"26.12\",\"25.54\",\"25.12\",\"24.72\",\"24.44\",\"23.12\",\"21.12\",\"22.4\",\"22.84\",\"22.78\",\"22.64\",\"22.08\",\"21.88\",\"21.98\",\"22.16\"]}},\"id\":\"80acffef-cd43-4bac-8ec4-3b874ce43815\",\"type\":\"ColumnDataSource\"},{\"attributes\":{\"plot\":{\"id\":\"576a310c-3c05-4d9b-b5e5-726970229c1f\",\"subtype\":\"Figure\",\"type\":\"Plot\"},\"ticker\":{\"id\":\"bdd0cd1d-67f6-4972-b291-599900f9f5ca\",\"type\":\"DatetimeTicker\"}},\"id\":\"cbb27cce-6fcd-48c2-ac1a-795b4c8fdb9f\",\"type\":\"Grid\"}],\"root_ids\":[\"576a310c-3c05-4d9b-b5e5-726970229c1f\"]},\"title\":\"Bokeh Application\",\"version\":\"0.12.10\"}};\n",
       "    var render_items = [{\"docid\":\"3fcf4089-1b75-47c9-bf4f-4f9bbf385421\",\"elementid\":\"d61db4a1-c276-4942-82ed-718e8bc2ac6d\",\"modelid\":\"576a310c-3c05-4d9b-b5e5-726970229c1f\"}];\n",
       "\n",
       "    root.Bokeh.embed.embed_items(docs_json, render_items);\n",
       "  }\n",
       "\n",
       "  if (root.Bokeh !== undefined) {\n",
       "    embed_document(root);\n",
       "  } else {\n",
       "    var attempts = 0;\n",
       "    var timer = setInterval(function(root) {\n",
       "      if (root.Bokeh !== undefined) {\n",
       "        embed_document(root);\n",
       "        clearInterval(timer);\n",
       "      }\n",
       "      attempts++;\n",
       "      if (attempts > 100) {\n",
       "        console.log(\"Bokeh: ERROR: Unable to embed document because BokehJS library is missing\")\n",
       "        clearInterval(timer);\n",
       "      }\n",
       "    }, 10, root)\n",
       "  }\n",
       "})(window);"
      ],
      "application/vnd.bokehjs_exec.v0+json": ""
     },
     "metadata": {
      "application/vnd.bokehjs_exec.v0+json": {
       "id": "576a310c-3c05-4d9b-b5e5-726970229c1f"
      }
     },
     "output_type": "display_data"
    }
   ],
   "source": [
    "p=figure(width=600,height=300,x_axis_type=\"datetime\",\n",
    "        title='No Hover')\n",
    "p.line(x,z,line_dash=\"4 4\",line_width=1,color='gray')\n",
    "show(p)"
   ]
  },
  {
   "cell_type": "code",
   "execution_count": 42,
   "metadata": {},
   "outputs": [
    {
     "data": {
      "text/html": [
       "\n",
       "<div class=\"bk-root\">\n",
       "    <div class=\"bk-plotdiv\" id=\"74f206b3-8ea4-454d-a1e4-4e3da405247e\"></div>\n",
       "</div>"
      ]
     },
     "metadata": {},
     "output_type": "display_data"
    },
    {
     "data": {
      "application/javascript": [
       "(function(root) {\n",
       "  function embed_document(root) {\n",
       "    var docs_json = {\"20c73877-cbd9-4a54-a019-3abeca6c24e4\":{\"roots\":{\"references\":[{\"attributes\":{\"fill_alpha\":{\"value\":0.3},\"fill_color\":{\"value\":\"firebrick\"},\"line_alpha\":{\"value\":0.3},\"line_color\":{\"value\":\"white\"},\"size\":{\"units\":\"screen\",\"value\":20},\"x\":{\"field\":\"x\"},\"y\":{\"field\":\"y\"}},\"id\":\"2c8d9073-cc9d-4716-80a2-97d78b017d69\",\"type\":\"Circle\"},{\"attributes\":{},\"id\":\"54eada9f-a151-4f9a-aa83-0edb1cb3a9ef\",\"type\":\"DatetimeTickFormatter\"},{\"attributes\":{\"fill_color\":{\"value\":\"blue\"},\"line_color\":{\"value\":\"blue\"},\"size\":{\"units\":\"screen\",\"value\":20},\"x\":{\"field\":\"x\"},\"y\":{\"field\":\"y\"}},\"id\":\"f553f39f-f998-4d9a-951e-f40a6ee4fabe\",\"type\":\"Circle\"},{\"attributes\":{\"data_source\":{\"id\":\"d32c0702-30ff-4cd4-8b96-6c89fac9a822\",\"type\":\"ColumnDataSource\"},\"glyph\":{\"id\":\"36bcaf86-a97c-4cfe-b2bc-f54b9d8f0de5\",\"type\":\"Circle\"},\"hover_glyph\":{\"id\":\"2c8d9073-cc9d-4716-80a2-97d78b017d69\",\"type\":\"Circle\"},\"muted_glyph\":null,\"nonselection_glyph\":{\"id\":\"e7cb570a-ee43-46e9-badc-f4095306191a\",\"type\":\"Circle\"},\"selection_glyph\":{\"id\":\"f553f39f-f998-4d9a-951e-f40a6ee4fabe\",\"type\":\"Circle\"},\"view\":{\"id\":\"85e68029-c05f-429d-84cc-fb2e37a74d5a\",\"type\":\"CDSView\"}},\"id\":\"6feae2fe-974a-4c75-8294-b8d4e30ee842\",\"type\":\"GlyphRenderer\"},{\"attributes\":{\"dimension\":1,\"plot\":{\"id\":\"fcd27097-c464-4b02-8f1e-d29de304490e\",\"subtype\":\"Figure\",\"type\":\"Plot\"},\"ticker\":{\"id\":\"4e226d98-0ec3-4059-92a0-0c3a21cb35db\",\"type\":\"BasicTicker\"}},\"id\":\"ed3cf35c-7948-4a6c-998f-816cfe622f9a\",\"type\":\"Grid\"},{\"attributes\":{\"source\":{\"id\":\"d32c0702-30ff-4cd4-8b96-6c89fac9a822\",\"type\":\"ColumnDataSource\"}},\"id\":\"85e68029-c05f-429d-84cc-fb2e37a74d5a\",\"type\":\"CDSView\"},{\"attributes\":{\"data_source\":{\"id\":\"65406e33-1d09-48e1-949f-ba6b2435190e\",\"type\":\"ColumnDataSource\"},\"glyph\":{\"id\":\"ba259de7-ed75-4d12-84d4-f52196f57eef\",\"type\":\"Line\"},\"hover_glyph\":null,\"muted_glyph\":null,\"nonselection_glyph\":{\"id\":\"d8f3bdd7-6a6d-49d6-8ca2-b2359ac529f8\",\"type\":\"Line\"},\"selection_glyph\":null,\"view\":{\"id\":\"dea05d5d-b130-4059-b668-d2160acc02b2\",\"type\":\"CDSView\"}},\"id\":\"80a40c00-ca76-4aac-815d-4df63911a569\",\"type\":\"GlyphRenderer\"},{\"attributes\":{\"bottom_units\":\"screen\",\"fill_alpha\":{\"value\":0.5},\"fill_color\":{\"value\":\"lightgrey\"},\"left_units\":\"screen\",\"level\":\"overlay\",\"line_alpha\":{\"value\":1.0},\"line_color\":{\"value\":\"black\"},\"line_dash\":[4,4],\"line_width\":{\"value\":2},\"plot\":null,\"render_mode\":\"css\",\"right_units\":\"screen\",\"top_units\":\"screen\"},\"id\":\"2e539abe-7bd6-4a04-bc48-d51a91fade6b\",\"type\":\"BoxAnnotation\"},{\"attributes\":{},\"id\":\"4389033c-8077-4be3-8b66-2659d1a444e0\",\"type\":\"PanTool\"},{\"attributes\":{\"source\":{\"id\":\"65406e33-1d09-48e1-949f-ba6b2435190e\",\"type\":\"ColumnDataSource\"}},\"id\":\"dea05d5d-b130-4059-b668-d2160acc02b2\",\"type\":\"CDSView\"},{\"attributes\":{},\"id\":\"558aa4e9-ec3d-498a-80f6-4f27f85dc0ad\",\"type\":\"WheelZoomTool\"},{\"attributes\":{\"overlay\":{\"id\":\"2e539abe-7bd6-4a04-bc48-d51a91fade6b\",\"type\":\"BoxAnnotation\"}},\"id\":\"cdec846e-20ab-4473-a50a-676481dc9c70\",\"type\":\"BoxZoomTool\"},{\"attributes\":{},\"id\":\"ff93d31c-0c93-4cc5-8820-9d62e4cb54c5\",\"type\":\"SaveTool\"},{\"attributes\":{},\"id\":\"34591e8b-41b6-4aad-8b04-5f2679687054\",\"type\":\"LinearScale\"},{\"attributes\":{},\"id\":\"80c96ecf-2381-41dd-9fa1-30a483672d72\",\"type\":\"ResetTool\"},{\"attributes\":{},\"id\":\"0f8a75db-44db-4c54-9e94-138c0d1129c4\",\"type\":\"HelpTool\"},{\"attributes\":{\"days\":[1,15]},\"id\":\"e8dbaaa6-3b44-4c8d-b653-cad8317dbcd1\",\"type\":\"DaysTicker\"},{\"attributes\":{\"mantissas\":[1,2,5],\"max_interval\":500.0,\"num_minor_ticks\":0},\"id\":\"645c6224-446b-4638-ba3d-6d78941406ea\",\"type\":\"AdaptiveTicker\"},{\"attributes\":{\"formatter\":{\"id\":\"9d286c28-d384-40d2-b73a-744974eebed0\",\"type\":\"BasicTickFormatter\"},\"plot\":{\"id\":\"fcd27097-c464-4b02-8f1e-d29de304490e\",\"subtype\":\"Figure\",\"type\":\"Plot\"},\"ticker\":{\"id\":\"4e226d98-0ec3-4059-92a0-0c3a21cb35db\",\"type\":\"BasicTicker\"}},\"id\":\"e514bf47-c231-4c44-8f91-1bbc998835dd\",\"type\":\"LinearAxis\"},{\"attributes\":{},\"id\":\"9d286c28-d384-40d2-b73a-744974eebed0\",\"type\":\"BasicTickFormatter\"},{\"attributes\":{\"base\":24,\"mantissas\":[1,2,4,6,8,12],\"max_interval\":43200000.0,\"min_interval\":3600000.0,\"num_minor_ticks\":0},\"id\":\"968f6be7-0499-482f-90c0-2bc015a85152\",\"type\":\"AdaptiveTicker\"},{\"attributes\":{\"days\":[1,2,3,4,5,6,7,8,9,10,11,12,13,14,15,16,17,18,19,20,21,22,23,24,25,26,27,28,29,30,31]},\"id\":\"3e884b38-9d8c-4c80-8896-f13cc14cf3d6\",\"type\":\"DaysTicker\"},{\"attributes\":{\"base\":60,\"mantissas\":[1,2,5,10,15,20,30],\"max_interval\":1800000.0,\"min_interval\":1000.0,\"num_minor_ticks\":0},\"id\":\"3f595572-9990-4e35-ad10-e4d993a4ddef\",\"type\":\"AdaptiveTicker\"},{\"attributes\":{\"callback\":null,\"column_names\":[\"x\",\"y\"],\"data\":{\"x\":{\"__ndarray__\":\"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\",\"dtype\":\"float64\",\"shape\":[288]},\"y\":[143,147,150,152,152,152,154,155,142,140,138,134,131,130,128,127,126,126,126,126,127,129,131,132,134,136,136,136,136,135,134,132,130,130,130,129,128,127,125,124,123,123,122,121,120,118,115,112,111,111,110,110,109,108,107,107,107,108,107,105,105,105,105,104,103,102,99,97,96,94,94,93,93,92,91,92,94,95,96,97,99,102,104,112,112,112,111,110,107,104,105,105,103,99,96,94,95,102,114,128,144,160,173,185,196,205,209,214,219,226,234,241,248,255,260,265,268,270,272,271,271,268,265,261,256,253,250,246,244,241,237,233,229,225,222,204,200,197,193,190,186,182,179,175,171,168,164,158,154,151,148,145,141,133,139,152,173,196,217,233,244,249,250,253,256,260,263,265,265,264,260,254,246,234,217,200,188,181,175,169,164,159,154,147,138,132,129,127,123,117,111,106,104,103,100,94,88,83,78,75,73,71,69,68,67,67,68,70,71,71,70,69,68,67,67,67,66,67,69,71,74,76,78,80,80,80,80,80,80,82,84,87,90,92,87,87,86,86,86,86,87,87,87,85,83,82,83,87,95,107,118,130,141,149,172,179,187,201,214,221,225,230,232,230,223,216,208,199,191,185,181,177,176,177,176,173,171,169,163,154,152,153,154,154,153,151,150,150]}},\"id\":\"d32c0702-30ff-4cd4-8b96-6c89fac9a822\",\"type\":\"ColumnDataSource\"},{\"attributes\":{\"active_drag\":\"auto\",\"active_inspect\":\"auto\",\"active_scroll\":\"auto\",\"active_tap\":\"auto\",\"tools\":[{\"id\":\"4389033c-8077-4be3-8b66-2659d1a444e0\",\"type\":\"PanTool\"},{\"id\":\"558aa4e9-ec3d-498a-80f6-4f27f85dc0ad\",\"type\":\"WheelZoomTool\"},{\"id\":\"cdec846e-20ab-4473-a50a-676481dc9c70\",\"type\":\"BoxZoomTool\"},{\"id\":\"ff93d31c-0c93-4cc5-8820-9d62e4cb54c5\",\"type\":\"SaveTool\"},{\"id\":\"80c96ecf-2381-41dd-9fa1-30a483672d72\",\"type\":\"ResetTool\"},{\"id\":\"0f8a75db-44db-4c54-9e94-138c0d1129c4\",\"type\":\"HelpTool\"},{\"id\":\"49e2df84-69f0-445f-ba48-48f669656bad\",\"type\":\"HoverTool\"}]},\"id\":\"5dbb960a-2c8c-4b29-8903-5ea22476fab6\",\"type\":\"Toolbar\"},{\"attributes\":{\"days\":[1,8,15,22]},\"id\":\"e7e98a7e-940c-42d9-ac6a-75bf751c1ee0\",\"type\":\"DaysTicker\"},{\"attributes\":{\"callback\":null},\"id\":\"be424c30-567d-4beb-92f1-7dc08d26b7c4\",\"type\":\"DataRange1d\"},{\"attributes\":{\"days\":[1,4,7,10,13,16,19,22,25,28]},\"id\":\"21fb9e9d-5a09-4d24-ad0b-d58abeddaeac\",\"type\":\"DaysTicker\"},{\"attributes\":{\"num_minor_ticks\":5,\"tickers\":[{\"id\":\"645c6224-446b-4638-ba3d-6d78941406ea\",\"type\":\"AdaptiveTicker\"},{\"id\":\"3f595572-9990-4e35-ad10-e4d993a4ddef\",\"type\":\"AdaptiveTicker\"},{\"id\":\"968f6be7-0499-482f-90c0-2bc015a85152\",\"type\":\"AdaptiveTicker\"},{\"id\":\"3e884b38-9d8c-4c80-8896-f13cc14cf3d6\",\"type\":\"DaysTicker\"},{\"id\":\"21fb9e9d-5a09-4d24-ad0b-d58abeddaeac\",\"type\":\"DaysTicker\"},{\"id\":\"e7e98a7e-940c-42d9-ac6a-75bf751c1ee0\",\"type\":\"DaysTicker\"},{\"id\":\"e8dbaaa6-3b44-4c8d-b653-cad8317dbcd1\",\"type\":\"DaysTicker\"},{\"id\":\"a89900b9-5e2e-4687-9e33-31ea7b793706\",\"type\":\"MonthsTicker\"},{\"id\":\"8de52c90-4028-44f3-99fa-7eeee7578600\",\"type\":\"MonthsTicker\"},{\"id\":\"c575fd36-8036-487b-9860-6e6d22b924a0\",\"type\":\"MonthsTicker\"},{\"id\":\"55746c57-4ed1-44b3-a282-90bbe02ec696\",\"type\":\"MonthsTicker\"},{\"id\":\"95d39510-65dc-48f2-a2da-f411dbba7ead\",\"type\":\"YearsTicker\"}]},\"id\":\"356aa37f-ed2e-4677-a67e-2a8fd689a5cf\",\"type\":\"DatetimeTicker\"},{\"attributes\":{\"line_alpha\":{\"value\":0.1},\"line_color\":{\"value\":\"#1f77b4\"},\"line_dash\":[4,4],\"x\":{\"field\":\"x\"},\"y\":{\"field\":\"y\"}},\"id\":\"d8f3bdd7-6a6d-49d6-8ca2-b2359ac529f8\",\"type\":\"Line\"},{\"attributes\":{\"months\":[0,1,2,3,4,5,6,7,8,9,10,11]},\"id\":\"a89900b9-5e2e-4687-9e33-31ea7b793706\",\"type\":\"MonthsTicker\"},{\"attributes\":{\"months\":[0,2,4,6,8,10]},\"id\":\"8de52c90-4028-44f3-99fa-7eeee7578600\",\"type\":\"MonthsTicker\"},{\"attributes\":{\"line_color\":{\"value\":\"gray\"},\"line_dash\":[4,4],\"x\":{\"field\":\"x\"},\"y\":{\"field\":\"y\"}},\"id\":\"ba259de7-ed75-4d12-84d4-f52196f57eef\",\"type\":\"Line\"},{\"attributes\":{\"months\":[0,4,8]},\"id\":\"c575fd36-8036-487b-9860-6e6d22b924a0\",\"type\":\"MonthsTicker\"},{\"attributes\":{\"plot\":{\"id\":\"fcd27097-c464-4b02-8f1e-d29de304490e\",\"subtype\":\"Figure\",\"type\":\"Plot\"},\"ticker\":{\"id\":\"356aa37f-ed2e-4677-a67e-2a8fd689a5cf\",\"type\":\"DatetimeTicker\"}},\"id\":\"b82ae97b-3c5f-46a3-93b8-43d37f1a65a6\",\"type\":\"Grid\"},{\"attributes\":{\"callback\":null,\"column_names\":[\"x\",\"y\"],\"data\":{\"x\":{\"__ndarray__\":\"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\",\"dtype\":\"float64\",\"shape\":[288]},\"y\":[143,147,150,152,152,152,154,155,142,140,138,134,131,130,128,127,126,126,126,126,127,129,131,132,134,136,136,136,136,135,134,132,130,130,130,129,128,127,125,124,123,123,122,121,120,118,115,112,111,111,110,110,109,108,107,107,107,108,107,105,105,105,105,104,103,102,99,97,96,94,94,93,93,92,91,92,94,95,96,97,99,102,104,112,112,112,111,110,107,104,105,105,103,99,96,94,95,102,114,128,144,160,173,185,196,205,209,214,219,226,234,241,248,255,260,265,268,270,272,271,271,268,265,261,256,253,250,246,244,241,237,233,229,225,222,204,200,197,193,190,186,182,179,175,171,168,164,158,154,151,148,145,141,133,139,152,173,196,217,233,244,249,250,253,256,260,263,265,265,264,260,254,246,234,217,200,188,181,175,169,164,159,154,147,138,132,129,127,123,117,111,106,104,103,100,94,88,83,78,75,73,71,69,68,67,67,68,70,71,71,70,69,68,67,67,67,66,67,69,71,74,76,78,80,80,80,80,80,80,82,84,87,90,92,87,87,86,86,86,86,87,87,87,85,83,82,83,87,95,107,118,130,141,149,172,179,187,201,214,221,225,230,232,230,223,216,208,199,191,185,181,177,176,177,176,173,171,169,163,154,152,153,154,154,153,151,150,150]}},\"id\":\"65406e33-1d09-48e1-949f-ba6b2435190e\",\"type\":\"ColumnDataSource\"},{\"attributes\":{\"months\":[0,6]},\"id\":\"55746c57-4ed1-44b3-a282-90bbe02ec696\",\"type\":\"MonthsTicker\"},{\"attributes\":{},\"id\":\"95d39510-65dc-48f2-a2da-f411dbba7ead\",\"type\":\"YearsTicker\"},{\"attributes\":{\"callback\":null},\"id\":\"8d086579-dc14-44e8-91d5-218a09316b33\",\"type\":\"DataRange1d\"},{\"attributes\":{\"formatter\":{\"id\":\"54eada9f-a151-4f9a-aa83-0edb1cb3a9ef\",\"type\":\"DatetimeTickFormatter\"},\"plot\":{\"id\":\"fcd27097-c464-4b02-8f1e-d29de304490e\",\"subtype\":\"Figure\",\"type\":\"Plot\"},\"ticker\":{\"id\":\"356aa37f-ed2e-4677-a67e-2a8fd689a5cf\",\"type\":\"DatetimeTicker\"}},\"id\":\"698f98d0-43c3-41b8-a9e9-0902315d2f82\",\"type\":\"DatetimeAxis\"},{\"attributes\":{},\"id\":\"4e226d98-0ec3-4059-92a0-0c3a21cb35db\",\"type\":\"BasicTicker\"},{\"attributes\":{\"fill_alpha\":{\"value\":0.05},\"fill_color\":{\"value\":\"grey\"},\"line_color\":{\"value\":null},\"size\":{\"units\":\"screen\",\"value\":20},\"x\":{\"field\":\"x\"},\"y\":{\"field\":\"y\"}},\"id\":\"36bcaf86-a97c-4cfe-b2bc-f54b9d8f0de5\",\"type\":\"Circle\"},{\"attributes\":{},\"id\":\"8f8cb8b5-3b33-4e16-ada7-393cf0d62f04\",\"type\":\"LinearScale\"},{\"attributes\":{\"fill_alpha\":{\"value\":0.2},\"fill_color\":{\"value\":\"grey\"},\"line_color\":{\"value\":\"firebrick\"},\"size\":{\"units\":\"screen\",\"value\":20},\"x\":{\"field\":\"x\"},\"y\":{\"field\":\"y\"}},\"id\":\"e7cb570a-ee43-46e9-badc-f4095306191a\",\"type\":\"Circle\"},{\"attributes\":{\"plot\":null,\"text\":\"Hover over points\"},\"id\":\"afd6b549-6326-472e-b0db-35d014b5d184\",\"type\":\"Title\"},{\"attributes\":{\"callback\":null,\"mode\":\"hline\",\"renderers\":[{\"id\":\"6feae2fe-974a-4c75-8294-b8d4e30ee842\",\"type\":\"GlyphRenderer\"}],\"tooltips\":null},\"id\":\"49e2df84-69f0-445f-ba48-48f669656bad\",\"type\":\"HoverTool\"},{\"attributes\":{\"below\":[{\"id\":\"698f98d0-43c3-41b8-a9e9-0902315d2f82\",\"type\":\"DatetimeAxis\"}],\"left\":[{\"id\":\"e514bf47-c231-4c44-8f91-1bbc998835dd\",\"type\":\"LinearAxis\"}],\"plot_height\":300,\"renderers\":[{\"id\":\"698f98d0-43c3-41b8-a9e9-0902315d2f82\",\"type\":\"DatetimeAxis\"},{\"id\":\"b82ae97b-3c5f-46a3-93b8-43d37f1a65a6\",\"type\":\"Grid\"},{\"id\":\"e514bf47-c231-4c44-8f91-1bbc998835dd\",\"type\":\"LinearAxis\"},{\"id\":\"ed3cf35c-7948-4a6c-998f-816cfe622f9a\",\"type\":\"Grid\"},{\"id\":\"2e539abe-7bd6-4a04-bc48-d51a91fade6b\",\"type\":\"BoxAnnotation\"},{\"id\":\"80a40c00-ca76-4aac-815d-4df63911a569\",\"type\":\"GlyphRenderer\"},{\"id\":\"6feae2fe-974a-4c75-8294-b8d4e30ee842\",\"type\":\"GlyphRenderer\"}],\"title\":{\"id\":\"afd6b549-6326-472e-b0db-35d014b5d184\",\"type\":\"Title\"},\"toolbar\":{\"id\":\"5dbb960a-2c8c-4b29-8903-5ea22476fab6\",\"type\":\"Toolbar\"},\"x_range\":{\"id\":\"8d086579-dc14-44e8-91d5-218a09316b33\",\"type\":\"DataRange1d\"},\"x_scale\":{\"id\":\"8f8cb8b5-3b33-4e16-ada7-393cf0d62f04\",\"type\":\"LinearScale\"},\"y_range\":{\"id\":\"be424c30-567d-4beb-92f1-7dc08d26b7c4\",\"type\":\"DataRange1d\"},\"y_scale\":{\"id\":\"34591e8b-41b6-4aad-8b04-5f2679687054\",\"type\":\"LinearScale\"}},\"id\":\"fcd27097-c464-4b02-8f1e-d29de304490e\",\"subtype\":\"Figure\",\"type\":\"Plot\"}],\"root_ids\":[\"fcd27097-c464-4b02-8f1e-d29de304490e\"]},\"title\":\"Bokeh Application\",\"version\":\"0.12.10\"}};\n",
       "    var render_items = [{\"docid\":\"20c73877-cbd9-4a54-a019-3abeca6c24e4\",\"elementid\":\"74f206b3-8ea4-454d-a1e4-4e3da405247e\",\"modelid\":\"fcd27097-c464-4b02-8f1e-d29de304490e\"}];\n",
       "\n",
       "    root.Bokeh.embed.embed_items(docs_json, render_items);\n",
       "  }\n",
       "\n",
       "  if (root.Bokeh !== undefined) {\n",
       "    embed_document(root);\n",
       "  } else {\n",
       "    var attempts = 0;\n",
       "    var timer = setInterval(function(root) {\n",
       "      if (root.Bokeh !== undefined) {\n",
       "        embed_document(root);\n",
       "        clearInterval(timer);\n",
       "      }\n",
       "      attempts++;\n",
       "      if (attempts > 100) {\n",
       "        console.log(\"Bokeh: ERROR: Unable to embed document because BokehJS library is missing\")\n",
       "        clearInterval(timer);\n",
       "      }\n",
       "    }, 10, root)\n",
       "  }\n",
       "})(window);"
      ],
      "application/vnd.bokehjs_exec.v0+json": ""
     },
     "metadata": {
      "application/vnd.bokehjs_exec.v0+json": {
       "id": "fcd27097-c464-4b02-8f1e-d29de304490e"
      }
     },
     "output_type": "display_data"
    }
   ],
   "source": [
    "p=figure(width=600,height=300,\n",
    "         x_axis_type='datetime',title=\"Hover over points\")\n",
    "p.line(x,y,line_dash='4 4', line_width=1,color='gray')\n",
    "cr=p.circle(x,y,size=20,\n",
    "           fill_color=\"grey\",hover_fill_color=\"firebrick\",\n",
    "           fill_alpha=0.05,hover_alpha=.3,\n",
    "           line_color=None, hover_line_color=\"white\",\n",
    "            #set visual properties for selected glyphs\n",
    "                 selection_color=\"blue\",\n",
    "                 \n",
    "                 #set visual properties for non-selected glyphs\n",
    "                 nonselection_fill_alpha=.2,\n",
    "                 nonselection_fill_color=\"grey\",\n",
    "                 nonselection_line_color=\"firebrick\",\n",
    "                 nonselection_line_alpha=1.0\n",
    "           \n",
    "           )\n",
    "\n",
    "p.add_tools(HoverTool(tooltips=None,renderers=[cr],mode=\"hline\"))\n",
    "\n",
    "show(p)"
   ]
  },
  {
   "cell_type": "markdown",
   "metadata": {},
   "source": [
    "# Axes\n",
    "To style axes, you first must get ahold of Axis objects. The simplest way is to use some convenience methods on Plot: axis, xaxis, and yaxis. These methods return lists of axis objects:\n",
    "\n",
    "p.xaxis\n",
    "[<bokeh.models.axes.LinearAxis at 0x106fa2390>]\n",
    "However, you can set properties on all the elements of the list as if it was a single object:\n",
    "\n",
    "p.xaxis.axis_label = \"Temperature\"\n",
    "p.axis.major_label_text_color = \"orange\"\n",
    "These are referred to as \"splattable\" lists, and tab completion works on them as well.\n",
    "\n",
    "A simple example of changing the orientation of the major tick labels on axes"
   ]
  },
  {
   "cell_type": "code",
   "execution_count": 43,
   "metadata": {},
   "outputs": [
    {
     "data": {
      "text/html": [
       "\n",
       "<div class=\"bk-root\">\n",
       "    <div class=\"bk-plotdiv\" id=\"8bb268f7-879c-4cf1-910c-b7d33dcbffd4\"></div>\n",
       "</div>"
      ]
     },
     "metadata": {},
     "output_type": "display_data"
    },
    {
     "data": {
      "application/javascript": [
       "(function(root) {\n",
       "  function embed_document(root) {\n",
       "    var docs_json = {\"49dff934-c9fe-4354-91f6-4f745f7f83c6\":{\"roots\":{\"references\":[{\"attributes\":{\"fill_color\":{\"value\":\"#1f77b4\"},\"line_color\":{\"value\":\"#1f77b4\"},\"line_width\":{\"value\":2},\"size\":{\"units\":\"screen\",\"value\":10},\"x\":{\"field\":\"x\"},\"y\":{\"field\":\"y\"}},\"id\":\"bb05e046-d852-4155-a1a9-c6e543f9d17b\",\"type\":\"X\"},{\"attributes\":{},\"id\":\"b7eeda60-2740-4c63-a66d-2d308cee93b0\",\"type\":\"HelpTool\"},{\"attributes\":{\"source\":{\"id\":\"5044c90a-ab76-4093-a532-53f08cbb61c3\",\"type\":\"ColumnDataSource\"}},\"id\":\"844eb4b6-9fe5-4571-a1bd-dd9bb3a3a009\",\"type\":\"CDSView\"},{\"attributes\":{\"formatter\":{\"id\":\"822b9dd6-1816-4d12-9d26-8314af318456\",\"type\":\"BasicTickFormatter\"},\"major_label_orientation\":0.7853981633974483,\"plot\":{\"id\":\"4e69117a-6342-47af-8544-be3b3d1ec2de\",\"subtype\":\"Figure\",\"type\":\"Plot\"},\"ticker\":{\"id\":\"4980b1aa-40b4-4423-b987-7dfda42aafb7\",\"type\":\"BasicTicker\"}},\"id\":\"c433c7b8-f960-46e0-b5c1-8b44621cd7fe\",\"type\":\"LinearAxis\"},{\"attributes\":{\"callback\":null,\"column_names\":[\"x\",\"y\"],\"data\":{\"x\":[1,2,3,4,5],\"y\":[2,5,8,2,7]}},\"id\":\"5044c90a-ab76-4093-a532-53f08cbb61c3\",\"type\":\"ColumnDataSource\"},{\"attributes\":{\"plot\":{\"id\":\"4e69117a-6342-47af-8544-be3b3d1ec2de\",\"subtype\":\"Figure\",\"type\":\"Plot\"},\"ticker\":{\"id\":\"4980b1aa-40b4-4423-b987-7dfda42aafb7\",\"type\":\"BasicTicker\"}},\"id\":\"934177a9-f47d-49fe-819c-b2c407fc89a6\",\"type\":\"Grid\"},{\"attributes\":{\"overlay\":{\"id\":\"bf4bec02-1c57-4d71-baa4-b52705c5d7b9\",\"type\":\"BoxAnnotation\"}},\"id\":\"9b5b1ad3-f567-44ad-bc0e-1f99466aba94\",\"type\":\"BoxZoomTool\"},{\"attributes\":{},\"id\":\"5fba9836-e9cd-4166-98af-1d38ef036d94\",\"type\":\"LinearScale\"},{\"attributes\":{\"active_drag\":\"auto\",\"active_inspect\":\"auto\",\"active_scroll\":\"auto\",\"active_tap\":\"auto\",\"tools\":[{\"id\":\"7a664303-0d9d-49b0-b8c8-d3a3ec3e6ce5\",\"type\":\"PanTool\"},{\"id\":\"e2a2fbc3-cb3a-4af4-b37e-26f549c9ce5f\",\"type\":\"WheelZoomTool\"},{\"id\":\"9b5b1ad3-f567-44ad-bc0e-1f99466aba94\",\"type\":\"BoxZoomTool\"},{\"id\":\"ce968e20-3b49-4133-8a0c-f1762e4f6b9e\",\"type\":\"SaveTool\"},{\"id\":\"eab9fff7-6f4b-48e9-a637-2aeb37d80b82\",\"type\":\"ResetTool\"},{\"id\":\"b7eeda60-2740-4c63-a66d-2d308cee93b0\",\"type\":\"HelpTool\"}]},\"id\":\"783fda1a-478e-407d-9727-17d886bdcac7\",\"type\":\"Toolbar\"},{\"attributes\":{},\"id\":\"e2a2fbc3-cb3a-4af4-b37e-26f549c9ce5f\",\"type\":\"WheelZoomTool\"},{\"attributes\":{\"data_source\":{\"id\":\"5044c90a-ab76-4093-a532-53f08cbb61c3\",\"type\":\"ColumnDataSource\"},\"glyph\":{\"id\":\"bb05e046-d852-4155-a1a9-c6e543f9d17b\",\"type\":\"X\"},\"hover_glyph\":null,\"muted_glyph\":null,\"nonselection_glyph\":{\"id\":\"2353f27a-6935-4724-8f44-3cb6bd900481\",\"type\":\"X\"},\"selection_glyph\":null,\"view\":{\"id\":\"844eb4b6-9fe5-4571-a1bd-dd9bb3a3a009\",\"type\":\"CDSView\"}},\"id\":\"81f29857-2744-476c-b6aa-01b2e388189b\",\"type\":\"GlyphRenderer\"},{\"attributes\":{},\"id\":\"7a664303-0d9d-49b0-b8c8-d3a3ec3e6ce5\",\"type\":\"PanTool\"},{\"attributes\":{\"formatter\":{\"id\":\"1b34c267-6071-4b3c-8733-6e914b060e60\",\"type\":\"BasicTickFormatter\"},\"major_label_orientation\":\"vertical\",\"plot\":{\"id\":\"4e69117a-6342-47af-8544-be3b3d1ec2de\",\"subtype\":\"Figure\",\"type\":\"Plot\"},\"ticker\":{\"id\":\"e9e0802f-bf47-425b-83dc-c9166ce67d7d\",\"type\":\"BasicTicker\"}},\"id\":\"5b587cf2-e493-4dda-8dce-94d1f408f4b6\",\"type\":\"LinearAxis\"},{\"attributes\":{},\"id\":\"ce968e20-3b49-4133-8a0c-f1762e4f6b9e\",\"type\":\"SaveTool\"},{\"attributes\":{\"callback\":null},\"id\":\"39d8de40-27d3-47b6-af73-6f00a2c6a64b\",\"type\":\"DataRange1d\"},{\"attributes\":{},\"id\":\"1b34c267-6071-4b3c-8733-6e914b060e60\",\"type\":\"BasicTickFormatter\"},{\"attributes\":{},\"id\":\"4980b1aa-40b4-4423-b987-7dfda42aafb7\",\"type\":\"BasicTicker\"},{\"attributes\":{\"bottom_units\":\"screen\",\"fill_alpha\":{\"value\":0.5},\"fill_color\":{\"value\":\"lightgrey\"},\"left_units\":\"screen\",\"level\":\"overlay\",\"line_alpha\":{\"value\":1.0},\"line_color\":{\"value\":\"black\"},\"line_dash\":[4,4],\"line_width\":{\"value\":2},\"plot\":null,\"render_mode\":\"css\",\"right_units\":\"screen\",\"top_units\":\"screen\"},\"id\":\"bf4bec02-1c57-4d71-baa4-b52705c5d7b9\",\"type\":\"BoxAnnotation\"},{\"attributes\":{},\"id\":\"1bd26061-0a05-4d4f-9ac5-0bbeba3b6ecb\",\"type\":\"LinearScale\"},{\"attributes\":{\"plot\":null,\"text\":\"\"},\"id\":\"98cce3f7-a30d-4a51-8dac-b76bb5c1f712\",\"type\":\"Title\"},{\"attributes\":{\"callback\":null},\"id\":\"4cc7de37-2636-4fe9-867e-1d2acb1f1b4e\",\"type\":\"DataRange1d\"},{\"attributes\":{},\"id\":\"822b9dd6-1816-4d12-9d26-8314af318456\",\"type\":\"BasicTickFormatter\"},{\"attributes\":{\"dimension\":1,\"plot\":{\"id\":\"4e69117a-6342-47af-8544-be3b3d1ec2de\",\"subtype\":\"Figure\",\"type\":\"Plot\"},\"ticker\":{\"id\":\"e9e0802f-bf47-425b-83dc-c9166ce67d7d\",\"type\":\"BasicTicker\"}},\"id\":\"44aa512f-5e38-4b93-bf2f-2737a66d9dbd\",\"type\":\"Grid\"},{\"attributes\":{},\"id\":\"e9e0802f-bf47-425b-83dc-c9166ce67d7d\",\"type\":\"BasicTicker\"},{\"attributes\":{\"below\":[{\"id\":\"c433c7b8-f960-46e0-b5c1-8b44621cd7fe\",\"type\":\"LinearAxis\"}],\"left\":[{\"id\":\"5b587cf2-e493-4dda-8dce-94d1f408f4b6\",\"type\":\"LinearAxis\"}],\"plot_height\":400,\"plot_width\":500,\"renderers\":[{\"id\":\"c433c7b8-f960-46e0-b5c1-8b44621cd7fe\",\"type\":\"LinearAxis\"},{\"id\":\"934177a9-f47d-49fe-819c-b2c407fc89a6\",\"type\":\"Grid\"},{\"id\":\"5b587cf2-e493-4dda-8dce-94d1f408f4b6\",\"type\":\"LinearAxis\"},{\"id\":\"44aa512f-5e38-4b93-bf2f-2737a66d9dbd\",\"type\":\"Grid\"},{\"id\":\"bf4bec02-1c57-4d71-baa4-b52705c5d7b9\",\"type\":\"BoxAnnotation\"},{\"id\":\"81f29857-2744-476c-b6aa-01b2e388189b\",\"type\":\"GlyphRenderer\"}],\"title\":{\"id\":\"98cce3f7-a30d-4a51-8dac-b76bb5c1f712\",\"type\":\"Title\"},\"toolbar\":{\"id\":\"783fda1a-478e-407d-9727-17d886bdcac7\",\"type\":\"Toolbar\"},\"x_range\":{\"id\":\"39d8de40-27d3-47b6-af73-6f00a2c6a64b\",\"type\":\"DataRange1d\"},\"x_scale\":{\"id\":\"1bd26061-0a05-4d4f-9ac5-0bbeba3b6ecb\",\"type\":\"LinearScale\"},\"y_range\":{\"id\":\"4cc7de37-2636-4fe9-867e-1d2acb1f1b4e\",\"type\":\"DataRange1d\"},\"y_scale\":{\"id\":\"5fba9836-e9cd-4166-98af-1d38ef036d94\",\"type\":\"LinearScale\"}},\"id\":\"4e69117a-6342-47af-8544-be3b3d1ec2de\",\"subtype\":\"Figure\",\"type\":\"Plot\"},{\"attributes\":{},\"id\":\"eab9fff7-6f4b-48e9-a637-2aeb37d80b82\",\"type\":\"ResetTool\"},{\"attributes\":{\"fill_alpha\":{\"value\":0.1},\"fill_color\":{\"value\":\"#1f77b4\"},\"line_alpha\":{\"value\":0.1},\"line_color\":{\"value\":\"#1f77b4\"},\"line_width\":{\"value\":2},\"size\":{\"units\":\"screen\",\"value\":10},\"x\":{\"field\":\"x\"},\"y\":{\"field\":\"y\"}},\"id\":\"2353f27a-6935-4724-8f44-3cb6bd900481\",\"type\":\"X\"}],\"root_ids\":[\"4e69117a-6342-47af-8544-be3b3d1ec2de\"]},\"title\":\"Bokeh Application\",\"version\":\"0.12.10\"}};\n",
       "    var render_items = [{\"docid\":\"49dff934-c9fe-4354-91f6-4f745f7f83c6\",\"elementid\":\"8bb268f7-879c-4cf1-910c-b7d33dcbffd4\",\"modelid\":\"4e69117a-6342-47af-8544-be3b3d1ec2de\"}];\n",
       "\n",
       "    root.Bokeh.embed.embed_items(docs_json, render_items);\n",
       "  }\n",
       "\n",
       "  if (root.Bokeh !== undefined) {\n",
       "    embed_document(root);\n",
       "  } else {\n",
       "    var attempts = 0;\n",
       "    var timer = setInterval(function(root) {\n",
       "      if (root.Bokeh !== undefined) {\n",
       "        embed_document(root);\n",
       "        clearInterval(timer);\n",
       "      }\n",
       "      attempts++;\n",
       "      if (attempts > 100) {\n",
       "        console.log(\"Bokeh: ERROR: Unable to embed document because BokehJS library is missing\")\n",
       "        clearInterval(timer);\n",
       "      }\n",
       "    }, 10, root)\n",
       "  }\n",
       "})(window);"
      ],
      "application/vnd.bokehjs_exec.v0+json": ""
     },
     "metadata": {
      "application/vnd.bokehjs_exec.v0+json": {
       "id": "4e69117a-6342-47af-8544-be3b3d1ec2de"
      }
     },
     "output_type": "display_data"
    }
   ],
   "source": [
    "from math import pi\n",
    "p=figure(plot_width=500,plot_height=400)\n",
    "p.x([1,2,3,4,5],[2,5,8,2,7],size=10,line_width=2)\n",
    "\n",
    "p.xaxis.major_label_orientation=pi/4\n",
    "p.yaxis.major_label_orientation=\"vertical\"\n",
    "\n",
    "show(p)"
   ]
  },
  {
   "cell_type": "code",
   "execution_count": 50,
   "metadata": {},
   "outputs": [
    {
     "data": {
      "text/html": [
       "\n",
       "<div class=\"bk-root\">\n",
       "    <div class=\"bk-plotdiv\" id=\"a570a2b7-94ef-4713-95cd-690dd26f73b3\"></div>\n",
       "</div>"
      ]
     },
     "metadata": {},
     "output_type": "display_data"
    },
    {
     "data": {
      "application/javascript": [
       "(function(root) {\n",
       "  function embed_document(root) {\n",
       "    var docs_json = {\"a289f215-f26b-440b-ba89-0b66064527c2\":{\"roots\":{\"references\":[{\"attributes\":{\"bottom_units\":\"screen\",\"fill_alpha\":{\"value\":0.5},\"fill_color\":{\"value\":\"lightgrey\"},\"left_units\":\"screen\",\"level\":\"overlay\",\"line_alpha\":{\"value\":1.0},\"line_color\":{\"value\":\"black\"},\"line_dash\":[4,4],\"line_width\":{\"value\":2},\"plot\":null,\"render_mode\":\"css\",\"right_units\":\"screen\",\"top_units\":\"screen\"},\"id\":\"c01d3833-1ac8-4b46-9537-8889d49059cd\",\"type\":\"BoxAnnotation\"},{\"attributes\":{\"data_source\":{\"id\":\"6d727559-2096-498e-9270-33326e519b8d\",\"type\":\"ColumnDataSource\"},\"glyph\":{\"id\":\"20c2e971-7354-4c9b-9efa-f0d5ee18430e\",\"type\":\"Asterisk\"},\"hover_glyph\":null,\"muted_glyph\":null,\"nonselection_glyph\":{\"id\":\"2423a9a2-4237-4196-8b57-f2ed6e8a8716\",\"type\":\"Asterisk\"},\"selection_glyph\":null,\"view\":{\"id\":\"f776e78d-f2f0-42b6-b690-be83565e71d9\",\"type\":\"CDSView\"}},\"id\":\"3d6b8f37-f342-4fbd-9e32-f751d1c572f5\",\"type\":\"GlyphRenderer\"},{\"attributes\":{\"overlay\":{\"id\":\"c01d3833-1ac8-4b46-9537-8889d49059cd\",\"type\":\"BoxAnnotation\"}},\"id\":\"748b8eef-123b-472d-acfa-00d17d3f9cb1\",\"type\":\"BoxZoomTool\"},{\"attributes\":{},\"id\":\"0f543fa0-471a-4ef5-b03c-8b1554987b4f\",\"type\":\"PanTool\"},{\"attributes\":{\"below\":[{\"id\":\"3459b0d9-7362-4783-a2ff-a14227540b80\",\"type\":\"LinearAxis\"}],\"left\":[{\"id\":\"b99a276f-053d-4b5d-a20e-8380f6570002\",\"type\":\"LinearAxis\"}],\"plot_height\":400,\"plot_width\":400,\"renderers\":[{\"id\":\"3459b0d9-7362-4783-a2ff-a14227540b80\",\"type\":\"LinearAxis\"},{\"id\":\"0667d118-8af1-4a65-a733-a344370900c8\",\"type\":\"Grid\"},{\"id\":\"b99a276f-053d-4b5d-a20e-8380f6570002\",\"type\":\"LinearAxis\"},{\"id\":\"80da8201-450d-4382-a6b0-f8ed1374b5ed\",\"type\":\"Grid\"},{\"id\":\"c01d3833-1ac8-4b46-9537-8889d49059cd\",\"type\":\"BoxAnnotation\"},{\"id\":\"3d6b8f37-f342-4fbd-9e32-f751d1c572f5\",\"type\":\"GlyphRenderer\"}],\"title\":{\"id\":\"f708054f-c5e0-40bf-a289-3b785916f192\",\"type\":\"Title\"},\"toolbar\":{\"id\":\"77802207-cfcd-4f99-810d-caea6c8f50ad\",\"type\":\"Toolbar\"},\"x_range\":{\"id\":\"69066023-3333-4ebd-b9a3-a1fcf3a97279\",\"type\":\"DataRange1d\"},\"x_scale\":{\"id\":\"2393ba0a-62a6-4eeb-ac93-7c9e5499e313\",\"type\":\"LinearScale\"},\"y_range\":{\"id\":\"88493316-3553-4141-b428-9119399575f3\",\"type\":\"DataRange1d\"},\"y_scale\":{\"id\":\"e7a96a87-6c6b-4335-a9aa-63a7b363b10e\",\"type\":\"LinearScale\"}},\"id\":\"094593bd-ed69-4278-88d0-643239f2f20c\",\"subtype\":\"Figure\",\"type\":\"Plot\"},{\"attributes\":{},\"id\":\"1749e4db-7d35-4f47-acb9-3fdf136152ce\",\"type\":\"SaveTool\"},{\"attributes\":{\"active_drag\":\"auto\",\"active_inspect\":\"auto\",\"active_scroll\":\"auto\",\"active_tap\":\"auto\",\"tools\":[{\"id\":\"0f543fa0-471a-4ef5-b03c-8b1554987b4f\",\"type\":\"PanTool\"},{\"id\":\"7ebda88d-6cf4-412e-b452-55f9653ba7d1\",\"type\":\"WheelZoomTool\"},{\"id\":\"748b8eef-123b-472d-acfa-00d17d3f9cb1\",\"type\":\"BoxZoomTool\"},{\"id\":\"1749e4db-7d35-4f47-acb9-3fdf136152ce\",\"type\":\"SaveTool\"},{\"id\":\"c82d480d-107c-4f03-bd05-92fb676a1401\",\"type\":\"ResetTool\"},{\"id\":\"bac649e8-36e4-47b6-a0c7-00b2ccba9999\",\"type\":\"HelpTool\"}]},\"id\":\"77802207-cfcd-4f99-810d-caea6c8f50ad\",\"type\":\"Toolbar\"},{\"attributes\":{},\"id\":\"bac649e8-36e4-47b6-a0c7-00b2ccba9999\",\"type\":\"HelpTool\"},{\"attributes\":{\"source\":{\"id\":\"6d727559-2096-498e-9270-33326e519b8d\",\"type\":\"ColumnDataSource\"}},\"id\":\"f776e78d-f2f0-42b6-b690-be83565e71d9\",\"type\":\"CDSView\"},{\"attributes\":{\"plot\":null,\"text\":\"\"},\"id\":\"f708054f-c5e0-40bf-a289-3b785916f192\",\"type\":\"Title\"},{\"attributes\":{\"callback\":null},\"id\":\"88493316-3553-4141-b428-9119399575f3\",\"type\":\"DataRange1d\"},{\"attributes\":{},\"id\":\"c82d480d-107c-4f03-bd05-92fb676a1401\",\"type\":\"ResetTool\"},{\"attributes\":{\"callback\":null},\"id\":\"69066023-3333-4ebd-b9a3-a1fcf3a97279\",\"type\":\"DataRange1d\"},{\"attributes\":{\"axis_label\":\"Pressure\",\"formatter\":{\"id\":\"598bc6f8-ea4a-4f6c-b39c-ce127e2bef3c\",\"type\":\"BasicTickFormatter\"},\"major_label_orientation\":\"vertical\",\"major_label_text_color\":{\"value\":\"orange\"},\"minor_tick_in\":-10,\"minor_tick_out\":5,\"plot\":{\"id\":\"094593bd-ed69-4278-88d0-643239f2f20c\",\"subtype\":\"Figure\",\"type\":\"Plot\"},\"ticker\":{\"id\":\"761cf329-4555-40fe-8289-84dce1653a1a\",\"type\":\"BasicTicker\"}},\"id\":\"b99a276f-053d-4b5d-a20e-8380f6570002\",\"type\":\"LinearAxis\"},{\"attributes\":{\"dimension\":1,\"plot\":{\"id\":\"094593bd-ed69-4278-88d0-643239f2f20c\",\"subtype\":\"Figure\",\"type\":\"Plot\"},\"ticker\":{\"id\":\"761cf329-4555-40fe-8289-84dce1653a1a\",\"type\":\"BasicTicker\"}},\"id\":\"80da8201-450d-4382-a6b0-f8ed1374b5ed\",\"type\":\"Grid\"},{\"attributes\":{},\"id\":\"58b83812-02d9-4c72-b4c1-244598838c9e\",\"type\":\"BasicTickFormatter\"},{\"attributes\":{\"fill_color\":{\"value\":\"olive\"},\"line_color\":{\"value\":\"olive\"},\"size\":{\"units\":\"screen\",\"value\":12},\"x\":{\"field\":\"x\"},\"y\":{\"field\":\"y\"}},\"id\":\"20c2e971-7354-4c9b-9efa-f0d5ee18430e\",\"type\":\"Asterisk\"},{\"attributes\":{},\"id\":\"2393ba0a-62a6-4eeb-ac93-7c9e5499e313\",\"type\":\"LinearScale\"},{\"attributes\":{},\"id\":\"598bc6f8-ea4a-4f6c-b39c-ce127e2bef3c\",\"type\":\"BasicTickFormatter\"},{\"attributes\":{},\"id\":\"d3061dd6-b43a-465e-a3cb-1cc400f4ecec\",\"type\":\"BasicTicker\"},{\"attributes\":{\"axis_label\":\"Temp\",\"axis_line_color\":{\"value\":\"firebrick\"},\"axis_line_width\":{\"value\":3},\"formatter\":{\"id\":\"58b83812-02d9-4c72-b4c1-244598838c9e\",\"type\":\"BasicTickFormatter\"},\"minor_tick_in\":-10,\"minor_tick_out\":5,\"plot\":{\"id\":\"094593bd-ed69-4278-88d0-643239f2f20c\",\"subtype\":\"Figure\",\"type\":\"Plot\"},\"ticker\":{\"id\":\"d3061dd6-b43a-465e-a3cb-1cc400f4ecec\",\"type\":\"BasicTicker\"}},\"id\":\"3459b0d9-7362-4783-a2ff-a14227540b80\",\"type\":\"LinearAxis\"},{\"attributes\":{},\"id\":\"7ebda88d-6cf4-412e-b452-55f9653ba7d1\",\"type\":\"WheelZoomTool\"},{\"attributes\":{\"callback\":null,\"column_names\":[\"x\",\"y\"],\"data\":{\"x\":[1,2,3,4,5],\"y\":[2,5,8,2,7]}},\"id\":\"6d727559-2096-498e-9270-33326e519b8d\",\"type\":\"ColumnDataSource\"},{\"attributes\":{},\"id\":\"761cf329-4555-40fe-8289-84dce1653a1a\",\"type\":\"BasicTicker\"},{\"attributes\":{},\"id\":\"e7a96a87-6c6b-4335-a9aa-63a7b363b10e\",\"type\":\"LinearScale\"},{\"attributes\":{\"plot\":{\"id\":\"094593bd-ed69-4278-88d0-643239f2f20c\",\"subtype\":\"Figure\",\"type\":\"Plot\"},\"ticker\":{\"id\":\"d3061dd6-b43a-465e-a3cb-1cc400f4ecec\",\"type\":\"BasicTicker\"}},\"id\":\"0667d118-8af1-4a65-a733-a344370900c8\",\"type\":\"Grid\"},{\"attributes\":{\"fill_alpha\":{\"value\":0.1},\"fill_color\":{\"value\":\"#1f77b4\"},\"line_alpha\":{\"value\":0.1},\"line_color\":{\"value\":\"#1f77b4\"},\"size\":{\"units\":\"screen\",\"value\":12},\"x\":{\"field\":\"x\"},\"y\":{\"field\":\"y\"}},\"id\":\"2423a9a2-4237-4196-8b57-f2ed6e8a8716\",\"type\":\"Asterisk\"}],\"root_ids\":[\"094593bd-ed69-4278-88d0-643239f2f20c\"]},\"title\":\"Bokeh Application\",\"version\":\"0.12.10\"}};\n",
       "    var render_items = [{\"docid\":\"a289f215-f26b-440b-ba89-0b66064527c2\",\"elementid\":\"a570a2b7-94ef-4713-95cd-690dd26f73b3\",\"modelid\":\"094593bd-ed69-4278-88d0-643239f2f20c\"}];\n",
       "\n",
       "    root.Bokeh.embed.embed_items(docs_json, render_items);\n",
       "  }\n",
       "\n",
       "  if (root.Bokeh !== undefined) {\n",
       "    embed_document(root);\n",
       "  } else {\n",
       "    var attempts = 0;\n",
       "    var timer = setInterval(function(root) {\n",
       "      if (root.Bokeh !== undefined) {\n",
       "        embed_document(root);\n",
       "        clearInterval(timer);\n",
       "      }\n",
       "      attempts++;\n",
       "      if (attempts > 100) {\n",
       "        console.log(\"Bokeh: ERROR: Unable to embed document because BokehJS library is missing\")\n",
       "        clearInterval(timer);\n",
       "      }\n",
       "    }, 10, root)\n",
       "  }\n",
       "})(window);"
      ],
      "application/vnd.bokehjs_exec.v0+json": ""
     },
     "metadata": {
      "application/vnd.bokehjs_exec.v0+json": {
       "id": "094593bd-ed69-4278-88d0-643239f2f20c"
      }
     },
     "output_type": "display_data"
    }
   ],
   "source": [
    "#Customization of several different axis properties at once:\n",
    "p = figure(plot_width=400, plot_height=400)\n",
    "p.asterisk([1,2,3,4,5], [2,5,8,2,7], size=12, color=\"olive\")\n",
    "\n",
    "#change just some things about the x axes\n",
    "p.xaxis.axis_label=\"Temp\"\n",
    "p.xaxis.axis_line_width=3\n",
    "p.xaxis.axis_line_color=\"firebrick\"\n",
    "\n",
    "#Change somethings about the y axis\n",
    "p.yaxis.axis_label=\"Pressure\"\n",
    "p.yaxis.major_label_text_color=\"orange\"\n",
    "p.yaxis.major_label_orientation=\"vertical\"\n",
    "\n",
    "#change things on all axes\n",
    "p.axis.minor_tick_in=-10\n",
    "p.axis.minor_tick_out=5\n",
    "\n",
    "show(p)"
   ]
  },
  {
   "cell_type": "code",
   "execution_count": 57,
   "metadata": {},
   "outputs": [
    {
     "data": {
      "text/html": [
       "\n",
       "<div class=\"bk-root\">\n",
       "    <div class=\"bk-plotdiv\" id=\"a9d92243-221f-425a-9914-e72a456aa109\"></div>\n",
       "</div>"
      ]
     },
     "metadata": {},
     "output_type": "display_data"
    },
    {
     "data": {
      "application/javascript": [
       "(function(root) {\n",
       "  function embed_document(root) {\n",
       "    var docs_json = {\"f69c4788-79ea-4b42-a31d-7146c2a7f6d2\":{\"roots\":{\"references\":[{\"attributes\":{\"fill_alpha\":{\"value\":0.1},\"fill_color\":{\"value\":\"#1f77b4\"},\"line_alpha\":{\"value\":0.1},\"line_color\":{\"value\":\"#1f77b4\"},\"line_dash\":[4,2],\"line_width\":{\"value\":2},\"size\":{\"units\":\"screen\",\"value\":20},\"x\":{\"field\":\"x\"},\"y\":{\"field\":\"y\"}},\"id\":\"5b1dbc03-0436-48d2-ac8c-56c0c189a8d1\",\"type\":\"Circle\"},{\"attributes\":{\"below\":[{\"id\":\"69250c18-2bb5-4d8c-9f5a-cb0ebcac5e3d\",\"type\":\"LinearAxis\"}],\"left\":[{\"id\":\"96d787c6-4dca-4b36-bf62-4e97113acd97\",\"type\":\"LinearAxis\"}],\"plot_height\":500,\"plot_width\":500,\"renderers\":[{\"id\":\"69250c18-2bb5-4d8c-9f5a-cb0ebcac5e3d\",\"type\":\"LinearAxis\"},{\"id\":\"c126900c-5a78-4ca0-aaef-653c1214f7b7\",\"type\":\"Grid\"},{\"id\":\"96d787c6-4dca-4b36-bf62-4e97113acd97\",\"type\":\"LinearAxis\"},{\"id\":\"a225e4e4-3c10-4bc9-99fc-95b82a060dcb\",\"type\":\"Grid\"},{\"id\":\"7f949c98-010c-4429-a5a6-d2f61a4657e2\",\"type\":\"BoxAnnotation\"},{\"id\":\"2db6ac40-cec5-4e49-9f3a-51cf614cdd4f\",\"type\":\"GlyphRenderer\"}],\"title\":{\"id\":\"3a219958-57a5-4540-81ae-355022534568\",\"type\":\"Title\"},\"toolbar\":{\"id\":\"7dd90a6c-e258-402a-8ebc-a767939e0bf2\",\"type\":\"Toolbar\"},\"x_range\":{\"id\":\"e0598151-6a41-46e2-8ebc-ca789c2db012\",\"type\":\"DataRange1d\"},\"x_scale\":{\"id\":\"79061f4d-b9ff-463f-87a3-3bb04254e8f3\",\"type\":\"LinearScale\"},\"y_range\":{\"id\":\"35919337-be9f-4002-887b-9557ea7b31de\",\"type\":\"DataRange1d\"},\"y_scale\":{\"id\":\"e52d9edd-49fb-4aa9-8c89-0df9dcefb288\",\"type\":\"LinearScale\"}},\"id\":\"a2eab59d-a3c0-4e80-bd49-8f7a7417bbdc\",\"subtype\":\"Figure\",\"type\":\"Plot\"},{\"attributes\":{},\"id\":\"7173ca4d-18c2-4b2d-8ba9-cd127cc0cf16\",\"type\":\"HelpTool\"},{\"attributes\":{\"plot\":null,\"text\":\"My Random Plot\"},\"id\":\"3a219958-57a5-4540-81ae-355022534568\",\"type\":\"Title\"},{\"attributes\":{\"active_drag\":\"auto\",\"active_inspect\":\"auto\",\"active_scroll\":\"auto\",\"active_tap\":\"auto\",\"tools\":[{\"id\":\"1b032bd6-1dfe-4fa1-a920-356161974e39\",\"type\":\"PanTool\"},{\"id\":\"c731a4f4-f77c-4e64-8ac9-29f979dbd151\",\"type\":\"WheelZoomTool\"},{\"id\":\"ffba27f9-9bec-468e-a7c0-6a6d91c8f2a1\",\"type\":\"BoxZoomTool\"},{\"id\":\"dd481363-801b-43b8-864f-1fd1adaab50c\",\"type\":\"SaveTool\"},{\"id\":\"6d3f2453-0bb7-4975-b049-80f3b2adff35\",\"type\":\"ResetTool\"},{\"id\":\"7173ca4d-18c2-4b2d-8ba9-cd127cc0cf16\",\"type\":\"HelpTool\"}]},\"id\":\"7dd90a6c-e258-402a-8ebc-a767939e0bf2\",\"type\":\"Toolbar\"},{\"attributes\":{\"axis_label\":\"Your mom's head\",\"formatter\":{\"id\":\"38f4ff22-cf14-4f84-8c79-f72d47ccd84d\",\"type\":\"BasicTickFormatter\"},\"plot\":{\"id\":\"a2eab59d-a3c0-4e80-bd49-8f7a7417bbdc\",\"subtype\":\"Figure\",\"type\":\"Plot\"},\"ticker\":{\"id\":\"71539c60-b3ae-4d6c-86fd-20420bcadb87\",\"type\":\"BasicTicker\"}},\"id\":\"69250c18-2bb5-4d8c-9f5a-cb0ebcac5e3d\",\"type\":\"LinearAxis\"},{\"attributes\":{\"callback\":null},\"id\":\"35919337-be9f-4002-887b-9557ea7b31de\",\"type\":\"DataRange1d\"},{\"attributes\":{},\"id\":\"1b032bd6-1dfe-4fa1-a920-356161974e39\",\"type\":\"PanTool\"},{\"attributes\":{\"plot\":{\"id\":\"a2eab59d-a3c0-4e80-bd49-8f7a7417bbdc\",\"subtype\":\"Figure\",\"type\":\"Plot\"},\"ticker\":{\"id\":\"71539c60-b3ae-4d6c-86fd-20420bcadb87\",\"type\":\"BasicTicker\"}},\"id\":\"c126900c-5a78-4ca0-aaef-653c1214f7b7\",\"type\":\"Grid\"},{\"attributes\":{},\"id\":\"71539c60-b3ae-4d6c-86fd-20420bcadb87\",\"type\":\"BasicTicker\"},{\"attributes\":{\"data_source\":{\"id\":\"573cfc04-f803-4e0c-a3bf-bf312a4b0f3b\",\"type\":\"ColumnDataSource\"},\"glyph\":{\"id\":\"4f2b7c51-52c7-456b-a7a2-5420069aff9f\",\"type\":\"Circle\"},\"hover_glyph\":null,\"muted_glyph\":null,\"nonselection_glyph\":{\"id\":\"5b1dbc03-0436-48d2-ac8c-56c0c189a8d1\",\"type\":\"Circle\"},\"selection_glyph\":null,\"view\":{\"id\":\"eab027e3-73f6-433f-9ace-e0b0bd7cf4aa\",\"type\":\"CDSView\"}},\"id\":\"2db6ac40-cec5-4e49-9f3a-51cf614cdd4f\",\"type\":\"GlyphRenderer\"},{\"attributes\":{},\"id\":\"d29e938b-d943-4026-934a-5e3af7399716\",\"type\":\"BasicTickFormatter\"},{\"attributes\":{\"overlay\":{\"id\":\"7f949c98-010c-4429-a5a6-d2f61a4657e2\",\"type\":\"BoxAnnotation\"}},\"id\":\"ffba27f9-9bec-468e-a7c0-6a6d91c8f2a1\",\"type\":\"BoxZoomTool\"},{\"attributes\":{\"dimension\":1,\"plot\":{\"id\":\"a2eab59d-a3c0-4e80-bd49-8f7a7417bbdc\",\"subtype\":\"Figure\",\"type\":\"Plot\"},\"ticker\":{\"id\":\"01c7712e-adf2-42b3-a78a-3fca252a49c4\",\"type\":\"BasicTicker\"}},\"id\":\"a225e4e4-3c10-4bc9-99fc-95b82a060dcb\",\"type\":\"Grid\"},{\"attributes\":{\"callback\":null,\"column_names\":[\"x\",\"y\"],\"data\":{\"x\":{\"__ndarray__\":\"cB491t1p2D92yIO6sefbP47HikdYC+g/NNwg8QHZ3j+CoFqM2EzRPwilPsk2/N8/8NjjMvKE0T+kn8RJv5DWP/APsrxFW8E/0JC7F66h2D8=\",\"dtype\":\"float64\",\"shape\":[10]},\"y\":{\"__ndarray__\":\"JfQGMl/n6D+L1pYcYWHoP6KkHv1WAt4/ECw9zOtGwD+80BD6+eHIP8RHdP5FcNw/VQRqiqnm7j8hTFANY0DqP6/D71qvF+E/Bry5aElJ3D8=\",\"dtype\":\"float64\",\"shape\":[10]}}},\"id\":\"573cfc04-f803-4e0c-a3bf-bf312a4b0f3b\",\"type\":\"ColumnDataSource\"},{\"attributes\":{},\"id\":\"79061f4d-b9ff-463f-87a3-3bb04254e8f3\",\"type\":\"LinearScale\"},{\"attributes\":{\"callback\":null},\"id\":\"e0598151-6a41-46e2-8ebc-ca789c2db012\",\"type\":\"DataRange1d\"},{\"attributes\":{},\"id\":\"6d3f2453-0bb7-4975-b049-80f3b2adff35\",\"type\":\"ResetTool\"},{\"attributes\":{},\"id\":\"e52d9edd-49fb-4aa9-8c89-0df9dcefb288\",\"type\":\"LinearScale\"},{\"attributes\":{},\"id\":\"01c7712e-adf2-42b3-a78a-3fca252a49c4\",\"type\":\"BasicTicker\"},{\"attributes\":{},\"id\":\"38f4ff22-cf14-4f84-8c79-f72d47ccd84d\",\"type\":\"BasicTickFormatter\"},{\"attributes\":{\"axis_label\":\"you dad's IQ\",\"formatter\":{\"id\":\"d29e938b-d943-4026-934a-5e3af7399716\",\"type\":\"BasicTickFormatter\"},\"plot\":{\"id\":\"a2eab59d-a3c0-4e80-bd49-8f7a7417bbdc\",\"subtype\":\"Figure\",\"type\":\"Plot\"},\"ticker\":{\"id\":\"01c7712e-adf2-42b3-a78a-3fca252a49c4\",\"type\":\"BasicTicker\"}},\"id\":\"96d787c6-4dca-4b36-bf62-4e97113acd97\",\"type\":\"LinearAxis\"},{\"attributes\":{},\"id\":\"c731a4f4-f77c-4e64-8ac9-29f979dbd151\",\"type\":\"WheelZoomTool\"},{\"attributes\":{\"fill_alpha\":{\"value\":0.4},\"fill_color\":{\"value\":\"#1f77b4\"},\"line_color\":{\"value\":\"firebrick\"},\"line_dash\":[4,2],\"line_width\":{\"value\":2},\"size\":{\"units\":\"screen\",\"value\":20},\"x\":{\"field\":\"x\"},\"y\":{\"field\":\"y\"}},\"id\":\"4f2b7c51-52c7-456b-a7a2-5420069aff9f\",\"type\":\"Circle\"},{\"attributes\":{\"bottom_units\":\"screen\",\"fill_alpha\":{\"value\":0.5},\"fill_color\":{\"value\":\"lightgrey\"},\"left_units\":\"screen\",\"level\":\"overlay\",\"line_alpha\":{\"value\":1.0},\"line_color\":{\"value\":\"black\"},\"line_dash\":[4,4],\"line_width\":{\"value\":2},\"plot\":null,\"render_mode\":\"css\",\"right_units\":\"screen\",\"top_units\":\"screen\"},\"id\":\"7f949c98-010c-4429-a5a6-d2f61a4657e2\",\"type\":\"BoxAnnotation\"},{\"attributes\":{\"source\":{\"id\":\"573cfc04-f803-4e0c-a3bf-bf312a4b0f3b\",\"type\":\"ColumnDataSource\"}},\"id\":\"eab027e3-73f6-433f-9ace-e0b0bd7cf4aa\",\"type\":\"CDSView\"},{\"attributes\":{},\"id\":\"dd481363-801b-43b8-864f-1fd1adaab50c\",\"type\":\"SaveTool\"}],\"root_ids\":[\"a2eab59d-a3c0-4e80-bd49-8f7a7417bbdc\"]},\"title\":\"Bokeh Application\",\"version\":\"0.12.10\"}};\n",
       "    var render_items = [{\"docid\":\"f69c4788-79ea-4b42-a31d-7146c2a7f6d2\",\"elementid\":\"a9d92243-221f-425a-9914-e72a456aa109\",\"modelid\":\"a2eab59d-a3c0-4e80-bd49-8f7a7417bbdc\"}];\n",
       "\n",
       "    root.Bokeh.embed.embed_items(docs_json, render_items);\n",
       "  }\n",
       "\n",
       "  if (root.Bokeh !== undefined) {\n",
       "    embed_document(root);\n",
       "  } else {\n",
       "    var attempts = 0;\n",
       "    var timer = setInterval(function(root) {\n",
       "      if (root.Bokeh !== undefined) {\n",
       "        embed_document(root);\n",
       "        clearInterval(timer);\n",
       "      }\n",
       "      attempts++;\n",
       "      if (attempts > 100) {\n",
       "        console.log(\"Bokeh: ERROR: Unable to embed document because BokehJS library is missing\")\n",
       "        clearInterval(timer);\n",
       "      }\n",
       "    }, 10, root)\n",
       "  }\n",
       "})(window);"
      ],
      "application/vnd.bokehjs_exec.v0+json": ""
     },
     "metadata": {
      "application/vnd.bokehjs_exec.v0+json": {
       "id": "a2eab59d-a3c0-4e80-bd49-8f7a7417bbdc"
      }
     },
     "output_type": "display_data"
    }
   ],
   "source": [
    "x=np.random.random(10)\n",
    "y=np.random.random(10)\n",
    "p=figure(plot_width=500,plot_height=500,title='My Random Plot')\n",
    "p.circle(x,y,size=20,fill_alpha=0.4,line_color=\"firebrick\",line_width=2,\n",
    "        line_dash=[4,2])\n",
    "\n",
    "p.xaxis.axis_label=\"Your mom's head\"\n",
    "p.yaxis.axis_label=\"you dad's IQ\"\n",
    "\n",
    "show(p)"
   ]
  },
  {
   "cell_type": "markdown",
   "metadata": {},
   "source": [
    "# Grids"
   ]
  },
  {
   "cell_type": "code",
   "execution_count": 58,
   "metadata": {},
   "outputs": [
    {
     "data": {
      "text/html": [
       "\n",
       "<div class=\"bk-root\">\n",
       "    <div class=\"bk-plotdiv\" id=\"cbd94656-b12d-47ad-8c31-a1392e587822\"></div>\n",
       "</div>"
      ]
     },
     "metadata": {},
     "output_type": "display_data"
    },
    {
     "data": {
      "application/javascript": [
       "(function(root) {\n",
       "  function embed_document(root) {\n",
       "    var docs_json = {\"94a3035d-4c5a-4f10-ac1b-1a336aa1d39e\":{\"roots\":{\"references\":[{\"attributes\":{},\"id\":\"60616d2b-9e21-4c06-9613-301ad5ab825c\",\"type\":\"BasicTicker\"},{\"attributes\":{},\"id\":\"eb277d1a-66a1-47d6-a3a5-8f56e1f38c37\",\"type\":\"LinearScale\"},{\"attributes\":{},\"id\":\"d3cac1d6-b861-4398-ad92-ca98ba529c6f\",\"type\":\"BasicTicker\"},{\"attributes\":{\"overlay\":{\"id\":\"2e4961a8-d9b7-4c24-a644-52a59310b62e\",\"type\":\"BoxAnnotation\"}},\"id\":\"804e9371-1941-49a6-83f3-3e5ffff6e8c2\",\"type\":\"BoxZoomTool\"},{\"attributes\":{\"active_drag\":\"auto\",\"active_inspect\":\"auto\",\"active_scroll\":\"auto\",\"active_tap\":\"auto\",\"tools\":[{\"id\":\"29557471-7af5-450f-a7df-f32dd4cc996e\",\"type\":\"PanTool\"},{\"id\":\"8668b934-1dbc-4505-8a61-c5637fdfcf59\",\"type\":\"WheelZoomTool\"},{\"id\":\"804e9371-1941-49a6-83f3-3e5ffff6e8c2\",\"type\":\"BoxZoomTool\"},{\"id\":\"9f93f760-9019-4417-9918-5331d47d4be8\",\"type\":\"SaveTool\"},{\"id\":\"2a7d4bd2-4187-4867-9c5f-6f248690587b\",\"type\":\"ResetTool\"},{\"id\":\"c3f6904b-a413-44ef-babb-ea93b92cf85e\",\"type\":\"HelpTool\"}]},\"id\":\"4ff6f2bf-4fec-4d51-90aa-b25837eece1f\",\"type\":\"Toolbar\"},{\"attributes\":{},\"id\":\"9f93f760-9019-4417-9918-5331d47d4be8\",\"type\":\"SaveTool\"},{\"attributes\":{},\"id\":\"c3f6904b-a413-44ef-babb-ea93b92cf85e\",\"type\":\"HelpTool\"},{\"attributes\":{\"dimension\":1,\"grid_line_alpha\":{\"value\":0.5},\"grid_line_dash\":[6,4],\"plot\":{\"id\":\"ff67e217-abbd-4736-89e8-a413ab639762\",\"subtype\":\"Figure\",\"type\":\"Plot\"},\"ticker\":{\"id\":\"60616d2b-9e21-4c06-9613-301ad5ab825c\",\"type\":\"BasicTicker\"}},\"id\":\"a964972a-84e0-4850-9ced-893c90114f31\",\"type\":\"Grid\"},{\"attributes\":{},\"id\":\"3009753a-cfd3-4359-af0a-fda7a54ca7a7\",\"type\":\"BasicTickFormatter\"},{\"attributes\":{\"callback\":null},\"id\":\"be5b1ece-6f72-4462-8d69-41f53afd43ef\",\"type\":\"DataRange1d\"},{\"attributes\":{\"data_source\":{\"id\":\"e884644d-024f-49af-80bd-fc4252254ec1\",\"type\":\"ColumnDataSource\"},\"glyph\":{\"id\":\"93425ae3-6305-4500-af21-153515793886\",\"type\":\"Circle\"},\"hover_glyph\":null,\"muted_glyph\":null,\"nonselection_glyph\":{\"id\":\"bfd02bd3-3504-4ee9-b3ea-ed52af1cb736\",\"type\":\"Circle\"},\"selection_glyph\":null,\"view\":{\"id\":\"a18d85fe-7c73-4186-870f-cce77dfe4caf\",\"type\":\"CDSView\"}},\"id\":\"d6f30c44-85f1-4aca-8a6c-ef1d5cc3dc42\",\"type\":\"GlyphRenderer\"},{\"attributes\":{},\"id\":\"288425b5-572b-4151-bf08-8dc9dc00c39b\",\"type\":\"LinearScale\"},{\"attributes\":{\"fill_alpha\":{\"value\":0.1},\"fill_color\":{\"value\":\"#1f77b4\"},\"line_alpha\":{\"value\":0.1},\"line_color\":{\"value\":\"#1f77b4\"},\"size\":{\"units\":\"screen\",\"value\":10},\"x\":{\"field\":\"x\"},\"y\":{\"field\":\"y\"}},\"id\":\"bfd02bd3-3504-4ee9-b3ea-ed52af1cb736\",\"type\":\"Circle\"},{\"attributes\":{},\"id\":\"697f54a2-2274-40fb-ada0-b08ddbd22c6d\",\"type\":\"BasicTickFormatter\"},{\"attributes\":{\"source\":{\"id\":\"e884644d-024f-49af-80bd-fc4252254ec1\",\"type\":\"ColumnDataSource\"}},\"id\":\"a18d85fe-7c73-4186-870f-cce77dfe4caf\",\"type\":\"CDSView\"},{\"attributes\":{\"grid_line_color\":{\"value\":null},\"plot\":{\"id\":\"ff67e217-abbd-4736-89e8-a413ab639762\",\"subtype\":\"Figure\",\"type\":\"Plot\"},\"ticker\":{\"id\":\"d3cac1d6-b861-4398-ad92-ca98ba529c6f\",\"type\":\"BasicTicker\"}},\"id\":\"eed06dd1-85fc-41bf-9336-091dadc4b5dc\",\"type\":\"Grid\"},{\"attributes\":{\"fill_color\":{\"value\":\"#1f77b4\"},\"line_color\":{\"value\":\"#1f77b4\"},\"size\":{\"units\":\"screen\",\"value\":10},\"x\":{\"field\":\"x\"},\"y\":{\"field\":\"y\"}},\"id\":\"93425ae3-6305-4500-af21-153515793886\",\"type\":\"Circle\"},{\"attributes\":{\"callback\":null},\"id\":\"5fbc055b-c523-4076-b91d-d1881778f539\",\"type\":\"DataRange1d\"},{\"attributes\":{\"plot\":null,\"text\":\"\"},\"id\":\"3cfd8035-5a3a-4260-8384-59731eda4dcd\",\"type\":\"Title\"},{\"attributes\":{\"below\":[{\"id\":\"3be1cad1-7c92-4a3d-bc87-338c0b8edee5\",\"type\":\"LinearAxis\"}],\"left\":[{\"id\":\"52bb0ace-48c5-4a66-9d82-303bf4946bf9\",\"type\":\"LinearAxis\"}],\"plot_height\":400,\"plot_width\":400,\"renderers\":[{\"id\":\"3be1cad1-7c92-4a3d-bc87-338c0b8edee5\",\"type\":\"LinearAxis\"},{\"id\":\"eed06dd1-85fc-41bf-9336-091dadc4b5dc\",\"type\":\"Grid\"},{\"id\":\"52bb0ace-48c5-4a66-9d82-303bf4946bf9\",\"type\":\"LinearAxis\"},{\"id\":\"a964972a-84e0-4850-9ced-893c90114f31\",\"type\":\"Grid\"},{\"id\":\"2e4961a8-d9b7-4c24-a644-52a59310b62e\",\"type\":\"BoxAnnotation\"},{\"id\":\"d6f30c44-85f1-4aca-8a6c-ef1d5cc3dc42\",\"type\":\"GlyphRenderer\"}],\"title\":{\"id\":\"3cfd8035-5a3a-4260-8384-59731eda4dcd\",\"type\":\"Title\"},\"toolbar\":{\"id\":\"4ff6f2bf-4fec-4d51-90aa-b25837eece1f\",\"type\":\"Toolbar\"},\"x_range\":{\"id\":\"be5b1ece-6f72-4462-8d69-41f53afd43ef\",\"type\":\"DataRange1d\"},\"x_scale\":{\"id\":\"288425b5-572b-4151-bf08-8dc9dc00c39b\",\"type\":\"LinearScale\"},\"y_range\":{\"id\":\"5fbc055b-c523-4076-b91d-d1881778f539\",\"type\":\"DataRange1d\"},\"y_scale\":{\"id\":\"eb277d1a-66a1-47d6-a3a5-8f56e1f38c37\",\"type\":\"LinearScale\"}},\"id\":\"ff67e217-abbd-4736-89e8-a413ab639762\",\"subtype\":\"Figure\",\"type\":\"Plot\"},{\"attributes\":{},\"id\":\"29557471-7af5-450f-a7df-f32dd4cc996e\",\"type\":\"PanTool\"},{\"attributes\":{},\"id\":\"2a7d4bd2-4187-4867-9c5f-6f248690587b\",\"type\":\"ResetTool\"},{\"attributes\":{\"formatter\":{\"id\":\"697f54a2-2274-40fb-ada0-b08ddbd22c6d\",\"type\":\"BasicTickFormatter\"},\"plot\":{\"id\":\"ff67e217-abbd-4736-89e8-a413ab639762\",\"subtype\":\"Figure\",\"type\":\"Plot\"},\"ticker\":{\"id\":\"60616d2b-9e21-4c06-9613-301ad5ab825c\",\"type\":\"BasicTicker\"}},\"id\":\"52bb0ace-48c5-4a66-9d82-303bf4946bf9\",\"type\":\"LinearAxis\"},{\"attributes\":{\"callback\":null,\"column_names\":[\"x\",\"y\"],\"data\":{\"x\":[1,2,3,4,5],\"y\":[2,5,8,2,7]}},\"id\":\"e884644d-024f-49af-80bd-fc4252254ec1\",\"type\":\"ColumnDataSource\"},{\"attributes\":{},\"id\":\"8668b934-1dbc-4505-8a61-c5637fdfcf59\",\"type\":\"WheelZoomTool\"},{\"attributes\":{\"formatter\":{\"id\":\"3009753a-cfd3-4359-af0a-fda7a54ca7a7\",\"type\":\"BasicTickFormatter\"},\"plot\":{\"id\":\"ff67e217-abbd-4736-89e8-a413ab639762\",\"subtype\":\"Figure\",\"type\":\"Plot\"},\"ticker\":{\"id\":\"d3cac1d6-b861-4398-ad92-ca98ba529c6f\",\"type\":\"BasicTicker\"}},\"id\":\"3be1cad1-7c92-4a3d-bc87-338c0b8edee5\",\"type\":\"LinearAxis\"},{\"attributes\":{\"bottom_units\":\"screen\",\"fill_alpha\":{\"value\":0.5},\"fill_color\":{\"value\":\"lightgrey\"},\"left_units\":\"screen\",\"level\":\"overlay\",\"line_alpha\":{\"value\":1.0},\"line_color\":{\"value\":\"black\"},\"line_dash\":[4,4],\"line_width\":{\"value\":2},\"plot\":null,\"render_mode\":\"css\",\"right_units\":\"screen\",\"top_units\":\"screen\"},\"id\":\"2e4961a8-d9b7-4c24-a644-52a59310b62e\",\"type\":\"BoxAnnotation\"}],\"root_ids\":[\"ff67e217-abbd-4736-89e8-a413ab639762\"]},\"title\":\"Bokeh Application\",\"version\":\"0.12.10\"}};\n",
       "    var render_items = [{\"docid\":\"94a3035d-4c5a-4f10-ac1b-1a336aa1d39e\",\"elementid\":\"cbd94656-b12d-47ad-8c31-a1392e587822\",\"modelid\":\"ff67e217-abbd-4736-89e8-a413ab639762\"}];\n",
       "\n",
       "    root.Bokeh.embed.embed_items(docs_json, render_items);\n",
       "  }\n",
       "\n",
       "  if (root.Bokeh !== undefined) {\n",
       "    embed_document(root);\n",
       "  } else {\n",
       "    var attempts = 0;\n",
       "    var timer = setInterval(function(root) {\n",
       "      if (root.Bokeh !== undefined) {\n",
       "        embed_document(root);\n",
       "        clearInterval(timer);\n",
       "      }\n",
       "      attempts++;\n",
       "      if (attempts > 100) {\n",
       "        console.log(\"Bokeh: ERROR: Unable to embed document because BokehJS library is missing\")\n",
       "        clearInterval(timer);\n",
       "      }\n",
       "    }, 10, root)\n",
       "  }\n",
       "})(window);"
      ],
      "application/vnd.bokehjs_exec.v0+json": ""
     },
     "metadata": {
      "application/vnd.bokehjs_exec.v0+json": {
       "id": "ff67e217-abbd-4736-89e8-a413ab639762"
      }
     },
     "output_type": "display_data"
    }
   ],
   "source": [
    "p = figure(plot_width=400, plot_height=400)\n",
    "p.circle([1,2,3,4,5], [2,5,8,2,7], size=10)\n",
    "\n",
    "#change some things about the x-grid\n",
    "p.xgrid.grid_line_color=None\n",
    "\n",
    "#change some things about the y-grid\n",
    "p.ygrid.grid_line_alpha=0.5\n",
    "p.ygrid.grid_line_dash=[6,4]\n",
    "\n",
    "show(p)"
   ]
  },
  {
   "cell_type": "code",
   "execution_count": 67,
   "metadata": {},
   "outputs": [
    {
     "data": {
      "text/html": [
       "\n",
       "<div class=\"bk-root\">\n",
       "    <div class=\"bk-plotdiv\" id=\"599205e3-bf9c-4ab8-8c15-df6ffdf9d3ae\"></div>\n",
       "</div>"
      ]
     },
     "metadata": {},
     "output_type": "display_data"
    },
    {
     "data": {
      "application/javascript": [
       "(function(root) {\n",
       "  function embed_document(root) {\n",
       "    var docs_json = {\"88fc776d-ce2f-4163-bd35-c57af7167990\":{\"roots\":{\"references\":[{\"attributes\":{\"band_fill_alpha\":{\"value\":0.05},\"band_fill_color\":{\"value\":\"firebrick\"},\"dimension\":1,\"plot\":{\"id\":\"f8f55f15-f86a-4916-ac3f-28a6a98d58f7\",\"subtype\":\"Figure\",\"type\":\"Plot\"},\"ticker\":{\"id\":\"b2ccf5d9-54ce-4a12-b434-a9c1286e5dd1\",\"type\":\"BasicTicker\"}},\"id\":\"c4c85bc0-5d37-4010-a8f8-d0bd288bcabf\",\"type\":\"Grid\"},{\"attributes\":{\"formatter\":{\"id\":\"adafcb09-10c2-4f60-aa50-8c067933e781\",\"type\":\"BasicTickFormatter\"},\"plot\":{\"id\":\"f8f55f15-f86a-4916-ac3f-28a6a98d58f7\",\"subtype\":\"Figure\",\"type\":\"Plot\"},\"ticker\":{\"id\":\"b2ccf5d9-54ce-4a12-b434-a9c1286e5dd1\",\"type\":\"BasicTicker\"}},\"id\":\"53a9ecc6-87d9-46fc-84a8-b7d9539e9b16\",\"type\":\"LinearAxis\"},{\"attributes\":{},\"id\":\"a5db3e8c-cc46-4557-bdbc-3da3b69c21c1\",\"type\":\"SaveTool\"},{\"attributes\":{\"grid_line_color\":{\"value\":\"white\"},\"plot\":{\"id\":\"f8f55f15-f86a-4916-ac3f-28a6a98d58f7\",\"subtype\":\"Figure\",\"type\":\"Plot\"},\"ticker\":{\"id\":\"2193ab1e-42db-4ce9-b425-a4694a79181b\",\"type\":\"BasicTicker\"}},\"id\":\"69d9ab09-eeb0-4aac-b542-cd5c02a979b5\",\"type\":\"Grid\"},{\"attributes\":{\"plot\":null,\"text\":\"\"},\"id\":\"1245a2df-9e53-484a-9323-4af415448507\",\"type\":\"Title\"},{\"attributes\":{},\"id\":\"8927ad43-d0c1-4041-bb17-4d2c6a7721cf\",\"type\":\"HelpTool\"},{\"attributes\":{},\"id\":\"cdd278a2-8674-4a33-8daa-dc4dde32b6ad\",\"type\":\"ResetTool\"},{\"attributes\":{\"fill_alpha\":{\"value\":0.1},\"fill_color\":{\"value\":\"#1f77b4\"},\"line_alpha\":{\"value\":0.1},\"line_color\":{\"value\":\"#1f77b4\"},\"size\":{\"units\":\"screen\",\"value\":10},\"x\":{\"field\":\"x\"},\"y\":{\"field\":\"y\"}},\"id\":\"306be53d-8571-4b3b-b0f6-3a6c2eec792b\",\"type\":\"Circle\"},{\"attributes\":{},\"id\":\"b2ccf5d9-54ce-4a12-b434-a9c1286e5dd1\",\"type\":\"BasicTicker\"},{\"attributes\":{},\"id\":\"35604a7a-fcc5-4d1d-89b3-a0fd4a797b83\",\"type\":\"BasicTickFormatter\"},{\"attributes\":{\"callback\":null},\"id\":\"6597d3d2-8882-4117-b274-99edd5d3e1ed\",\"type\":\"DataRange1d\"},{\"attributes\":{\"active_drag\":\"auto\",\"active_inspect\":\"auto\",\"active_scroll\":\"auto\",\"active_tap\":\"auto\",\"tools\":[{\"id\":\"f0ea1f5e-e446-409d-8dfa-379a398a3d31\",\"type\":\"PanTool\"},{\"id\":\"7cfbf5df-ddaf-484b-bc38-beeb03d2a2c6\",\"type\":\"WheelZoomTool\"},{\"id\":\"d31dff8a-b809-461c-be1b-af36764a44aa\",\"type\":\"BoxZoomTool\"},{\"id\":\"a5db3e8c-cc46-4557-bdbc-3da3b69c21c1\",\"type\":\"SaveTool\"},{\"id\":\"cdd278a2-8674-4a33-8daa-dc4dde32b6ad\",\"type\":\"ResetTool\"},{\"id\":\"8927ad43-d0c1-4041-bb17-4d2c6a7721cf\",\"type\":\"HelpTool\"}]},\"id\":\"42efa393-5ca3-4434-ba5d-a30200fe612e\",\"type\":\"Toolbar\"},{\"attributes\":{},\"id\":\"adafcb09-10c2-4f60-aa50-8c067933e781\",\"type\":\"BasicTickFormatter\"},{\"attributes\":{},\"id\":\"2193ab1e-42db-4ce9-b425-a4694a79181b\",\"type\":\"BasicTicker\"},{\"attributes\":{},\"id\":\"f55630c4-5a0b-4710-bef7-65b5406095d9\",\"type\":\"LinearScale\"},{\"attributes\":{\"source\":{\"id\":\"f8a9eb94-1a64-4d8f-846b-6349cab92788\",\"type\":\"ColumnDataSource\"}},\"id\":\"d443658d-57b7-4698-aa3c-1bc904629a6e\",\"type\":\"CDSView\"},{\"attributes\":{},\"id\":\"13cfb264-33c2-4ed9-9aca-5bd39d606755\",\"type\":\"LinearScale\"},{\"attributes\":{\"formatter\":{\"id\":\"35604a7a-fcc5-4d1d-89b3-a0fd4a797b83\",\"type\":\"BasicTickFormatter\"},\"plot\":{\"id\":\"f8f55f15-f86a-4916-ac3f-28a6a98d58f7\",\"subtype\":\"Figure\",\"type\":\"Plot\"},\"ticker\":{\"id\":\"2193ab1e-42db-4ce9-b425-a4694a79181b\",\"type\":\"BasicTicker\"}},\"id\":\"a190c767-a6ff-499f-8c89-ae7ee8dfa4b2\",\"type\":\"LinearAxis\"},{\"attributes\":{\"callback\":null,\"column_names\":[\"x\",\"y\"],\"data\":{\"x\":[1,2,3,4,5],\"y\":[2,5,8,2,7]}},\"id\":\"f8a9eb94-1a64-4d8f-846b-6349cab92788\",\"type\":\"ColumnDataSource\"},{\"attributes\":{\"data_source\":{\"id\":\"f8a9eb94-1a64-4d8f-846b-6349cab92788\",\"type\":\"ColumnDataSource\"},\"glyph\":{\"id\":\"22aec9d0-bccc-4e32-bb96-b1bb768a3c99\",\"type\":\"Circle\"},\"hover_glyph\":null,\"muted_glyph\":null,\"nonselection_glyph\":{\"id\":\"306be53d-8571-4b3b-b0f6-3a6c2eec792b\",\"type\":\"Circle\"},\"selection_glyph\":null,\"view\":{\"id\":\"d443658d-57b7-4698-aa3c-1bc904629a6e\",\"type\":\"CDSView\"}},\"id\":\"8c5cc5e3-9ae5-4c20-82dd-717b2bb68aa8\",\"type\":\"GlyphRenderer\"},{\"attributes\":{\"bottom_units\":\"screen\",\"fill_alpha\":{\"value\":0.5},\"fill_color\":{\"value\":\"lightgrey\"},\"left_units\":\"screen\",\"level\":\"overlay\",\"line_alpha\":{\"value\":1.0},\"line_color\":{\"value\":\"black\"},\"line_dash\":[4,4],\"line_width\":{\"value\":2},\"plot\":null,\"render_mode\":\"css\",\"right_units\":\"screen\",\"top_units\":\"screen\"},\"id\":\"c883da5a-2b66-4a56-9c84-6bcd88874679\",\"type\":\"BoxAnnotation\"},{\"attributes\":{\"callback\":null},\"id\":\"79a8706a-3c5e-4be0-ad3c-e1fd3025c389\",\"type\":\"DataRange1d\"},{\"attributes\":{},\"id\":\"f0ea1f5e-e446-409d-8dfa-379a398a3d31\",\"type\":\"PanTool\"},{\"attributes\":{\"below\":[{\"id\":\"a190c767-a6ff-499f-8c89-ae7ee8dfa4b2\",\"type\":\"LinearAxis\"}],\"left\":[{\"id\":\"53a9ecc6-87d9-46fc-84a8-b7d9539e9b16\",\"type\":\"LinearAxis\"}],\"plot_height\":400,\"plot_width\":400,\"renderers\":[{\"id\":\"a190c767-a6ff-499f-8c89-ae7ee8dfa4b2\",\"type\":\"LinearAxis\"},{\"id\":\"69d9ab09-eeb0-4aac-b542-cd5c02a979b5\",\"type\":\"Grid\"},{\"id\":\"53a9ecc6-87d9-46fc-84a8-b7d9539e9b16\",\"type\":\"LinearAxis\"},{\"id\":\"c4c85bc0-5d37-4010-a8f8-d0bd288bcabf\",\"type\":\"Grid\"},{\"id\":\"c883da5a-2b66-4a56-9c84-6bcd88874679\",\"type\":\"BoxAnnotation\"},{\"id\":\"8c5cc5e3-9ae5-4c20-82dd-717b2bb68aa8\",\"type\":\"GlyphRenderer\"}],\"title\":{\"id\":\"1245a2df-9e53-484a-9323-4af415448507\",\"type\":\"Title\"},\"toolbar\":{\"id\":\"42efa393-5ca3-4434-ba5d-a30200fe612e\",\"type\":\"Toolbar\"},\"x_range\":{\"id\":\"6597d3d2-8882-4117-b274-99edd5d3e1ed\",\"type\":\"DataRange1d\"},\"x_scale\":{\"id\":\"13cfb264-33c2-4ed9-9aca-5bd39d606755\",\"type\":\"LinearScale\"},\"y_range\":{\"id\":\"79a8706a-3c5e-4be0-ad3c-e1fd3025c389\",\"type\":\"DataRange1d\"},\"y_scale\":{\"id\":\"f55630c4-5a0b-4710-bef7-65b5406095d9\",\"type\":\"LinearScale\"}},\"id\":\"f8f55f15-f86a-4916-ac3f-28a6a98d58f7\",\"subtype\":\"Figure\",\"type\":\"Plot\"},{\"attributes\":{\"overlay\":{\"id\":\"c883da5a-2b66-4a56-9c84-6bcd88874679\",\"type\":\"BoxAnnotation\"}},\"id\":\"d31dff8a-b809-461c-be1b-af36764a44aa\",\"type\":\"BoxZoomTool\"},{\"attributes\":{\"fill_color\":{\"value\":\"#1f77b4\"},\"line_color\":{\"value\":\"#1f77b4\"},\"size\":{\"units\":\"screen\",\"value\":10},\"x\":{\"field\":\"x\"},\"y\":{\"field\":\"y\"}},\"id\":\"22aec9d0-bccc-4e32-bb96-b1bb768a3c99\",\"type\":\"Circle\"},{\"attributes\":{},\"id\":\"7cfbf5df-ddaf-484b-bc38-beeb03d2a2c6\",\"type\":\"WheelZoomTool\"}],\"root_ids\":[\"f8f55f15-f86a-4916-ac3f-28a6a98d58f7\"]},\"title\":\"Bokeh Application\",\"version\":\"0.12.10\"}};\n",
       "    var render_items = [{\"docid\":\"88fc776d-ce2f-4163-bd35-c57af7167990\",\"elementid\":\"599205e3-bf9c-4ab8-8c15-df6ffdf9d3ae\",\"modelid\":\"f8f55f15-f86a-4916-ac3f-28a6a98d58f7\"}];\n",
       "\n",
       "    root.Bokeh.embed.embed_items(docs_json, render_items);\n",
       "  }\n",
       "\n",
       "  if (root.Bokeh !== undefined) {\n",
       "    embed_document(root);\n",
       "  } else {\n",
       "    var attempts = 0;\n",
       "    var timer = setInterval(function(root) {\n",
       "      if (root.Bokeh !== undefined) {\n",
       "        embed_document(root);\n",
       "        clearInterval(timer);\n",
       "      }\n",
       "      attempts++;\n",
       "      if (attempts > 100) {\n",
       "        console.log(\"Bokeh: ERROR: Unable to embed document because BokehJS library is missing\")\n",
       "        clearInterval(timer);\n",
       "      }\n",
       "    }, 10, root)\n",
       "  }\n",
       "})(window);"
      ],
      "application/vnd.bokehjs_exec.v0+json": ""
     },
     "metadata": {
      "application/vnd.bokehjs_exec.v0+json": {
       "id": "f8f55f15-f86a-4916-ac3f-28a6a98d58f7"
      }
     },
     "output_type": "display_data"
    }
   ],
   "source": [
    "p=figure(plot_width=400,plot_height=400)\n",
    "p.circle([1,2,3,4,5], [2,5,8,2,7], size=10)\n",
    "\n",
    "#Change just some things about the x-grid\n",
    "p.xgrid.grid_line_color=\"white\"\n",
    "\n",
    "#change just some things about the y-grid\n",
    "p.ygrid.band_fill_alpha=0.05\n",
    "p.ygrid.band_fill_color=\"firebrick\"\n",
    "\n",
    "show(p)"
   ]
  },
  {
   "cell_type": "code",
   "execution_count": null,
   "metadata": {},
   "outputs": [],
   "source": []
  }
 ],
 "metadata": {
  "kernelspec": {
   "display_name": "Python [conda root]",
   "language": "python",
   "name": "conda-root-py"
  },
  "language_info": {
   "codemirror_mode": {
    "name": "ipython",
    "version": 3
   },
   "file_extension": ".py",
   "mimetype": "text/x-python",
   "name": "python",
   "nbconvert_exporter": "python",
   "pygments_lexer": "ipython3",
   "version": "3.6.3"
  }
 },
 "nbformat": 4,
 "nbformat_minor": 2
}
