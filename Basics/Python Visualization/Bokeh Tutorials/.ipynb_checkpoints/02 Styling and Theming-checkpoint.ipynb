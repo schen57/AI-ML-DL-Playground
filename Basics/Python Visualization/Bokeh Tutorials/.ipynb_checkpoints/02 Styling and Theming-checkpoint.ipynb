{
 "cells": [
  {
   "cell_type": "code",
   "execution_count": 3,
   "metadata": {},
   "outputs": [
    {
     "data": {
      "text/html": [
       "\n",
       "    <div class=\"bk-root\">\n",
       "        <a href=\"https://bokeh.pydata.org\" target=\"_blank\" class=\"bk-logo bk-logo-small bk-logo-notebook\"></a>\n",
       "        <span id=\"1b2a3581-7eff-4b8d-bb47-08be27517526\">Loading BokehJS ...</span>\n",
       "    </div>"
      ]
     },
     "metadata": {},
     "output_type": "display_data"
    },
    {
     "data": {
      "application/javascript": [
       "\n",
       "(function(root) {\n",
       "  function now() {\n",
       "    return new Date();\n",
       "  }\n",
       "\n",
       "  var force = true;\n",
       "\n",
       "  if (typeof (root._bokeh_onload_callbacks) === \"undefined\" || force === true) {\n",
       "    root._bokeh_onload_callbacks = [];\n",
       "    root._bokeh_is_loading = undefined;\n",
       "  }\n",
       "\n",
       "  var JS_MIME_TYPE = 'application/javascript';\n",
       "  var HTML_MIME_TYPE = 'text/html';\n",
       "  var EXEC_MIME_TYPE = 'application/vnd.bokehjs_exec.v0+json';\n",
       "  var CLASS_NAME = 'output_bokeh rendered_html';\n",
       "\n",
       "  /**\n",
       "   * Render data to the DOM node\n",
       "   */\n",
       "  function render(props, node) {\n",
       "    var script = document.createElement(\"script\");\n",
       "    node.appendChild(script);\n",
       "  }\n",
       "\n",
       "  /**\n",
       "   * Handle when an output is cleared or removed\n",
       "   */\n",
       "  function handleClearOutput(event, handle) {\n",
       "    var cell = handle.cell;\n",
       "\n",
       "    var id = cell.output_area._bokeh_element_id;\n",
       "    var server_id = cell.output_area._bokeh_server_id;\n",
       "    // Clean up Bokeh references\n",
       "    if (id !== undefined) {\n",
       "      Bokeh.index[id].model.document.clear();\n",
       "      delete Bokeh.index[id];\n",
       "    }\n",
       "\n",
       "    if (server_id !== undefined) {\n",
       "      // Clean up Bokeh references\n",
       "      var cmd = \"from bokeh.io.state import curstate; print(curstate().uuid_to_server['\" + server_id + \"'].get_sessions()[0].document.roots[0]._id)\";\n",
       "      cell.notebook.kernel.execute(cmd, {\n",
       "        iopub: {\n",
       "          output: function(msg) {\n",
       "            var element_id = msg.content.text.trim();\n",
       "            Bokeh.index[element_id].model.document.clear();\n",
       "            delete Bokeh.index[element_id];\n",
       "          }\n",
       "        }\n",
       "      });\n",
       "      // Destroy server and session\n",
       "      var cmd = \"import bokeh.io.notebook as ion; ion.destroy_server('\" + server_id + \"')\";\n",
       "      cell.notebook.kernel.execute(cmd);\n",
       "    }\n",
       "  }\n",
       "\n",
       "  /**\n",
       "   * Handle when a new output is added\n",
       "   */\n",
       "  function handleAddOutput(event, handle) {\n",
       "    var output_area = handle.output_area;\n",
       "    var output = handle.output;\n",
       "\n",
       "    // limit handleAddOutput to display_data with EXEC_MIME_TYPE content only\n",
       "    if ((output.output_type != \"display_data\") || (!output.data.hasOwnProperty(EXEC_MIME_TYPE))) {\n",
       "      return\n",
       "    }\n",
       "\n",
       "    var toinsert = output_area.element.find(`.${CLASS_NAME.split(' ')[0]}`);\n",
       "\n",
       "    if (output.metadata[EXEC_MIME_TYPE][\"id\"] !== undefined) {\n",
       "      toinsert[0].firstChild.textContent = output.data[JS_MIME_TYPE];\n",
       "      // store reference to embed id on output_area\n",
       "      output_area._bokeh_element_id = output.metadata[EXEC_MIME_TYPE][\"id\"];\n",
       "    }\n",
       "    if (output.metadata[EXEC_MIME_TYPE][\"server_id\"] !== undefined) {\n",
       "      var bk_div = document.createElement(\"div\");\n",
       "      bk_div.innerHTML = output.data[HTML_MIME_TYPE];\n",
       "      var script_attrs = bk_div.children[0].attributes;\n",
       "      for (var i = 0; i < script_attrs.length; i++) {\n",
       "        toinsert[0].firstChild.setAttribute(script_attrs[i].name, script_attrs[i].value);\n",
       "      }\n",
       "      // store reference to server id on output_area\n",
       "      output_area._bokeh_server_id = output.metadata[EXEC_MIME_TYPE][\"server_id\"];\n",
       "    }\n",
       "  }\n",
       "\n",
       "  function register_renderer(events, OutputArea) {\n",
       "\n",
       "    function append_mime(data, metadata, element) {\n",
       "      // create a DOM node to render to\n",
       "      var toinsert = this.create_output_subarea(\n",
       "        metadata,\n",
       "        CLASS_NAME,\n",
       "        EXEC_MIME_TYPE\n",
       "      );\n",
       "      this.keyboard_manager.register_events(toinsert);\n",
       "      // Render to node\n",
       "      var props = {data: data, metadata: metadata[EXEC_MIME_TYPE]};\n",
       "      render(props, toinsert[0]);\n",
       "      element.append(toinsert);\n",
       "      return toinsert\n",
       "    }\n",
       "\n",
       "    /* Handle when an output is cleared or removed */\n",
       "    events.on('clear_output.CodeCell', handleClearOutput);\n",
       "    events.on('delete.Cell', handleClearOutput);\n",
       "\n",
       "    /* Handle when a new output is added */\n",
       "    events.on('output_added.OutputArea', handleAddOutput);\n",
       "\n",
       "    /**\n",
       "     * Register the mime type and append_mime function with output_area\n",
       "     */\n",
       "    OutputArea.prototype.register_mime_type(EXEC_MIME_TYPE, append_mime, {\n",
       "      /* Is output safe? */\n",
       "      safe: true,\n",
       "      /* Index of renderer in `output_area.display_order` */\n",
       "      index: 0\n",
       "    });\n",
       "  }\n",
       "\n",
       "  // register the mime type if in Jupyter Notebook environment and previously unregistered\n",
       "  if (root.Jupyter !== undefined) {\n",
       "    var events = require('base/js/events');\n",
       "    var OutputArea = require('notebook/js/outputarea').OutputArea;\n",
       "\n",
       "    if (OutputArea.prototype.mime_types().indexOf(EXEC_MIME_TYPE) == -1) {\n",
       "      register_renderer(events, OutputArea);\n",
       "    }\n",
       "  }\n",
       "\n",
       "  \n",
       "  if (typeof (root._bokeh_timeout) === \"undefined\" || force === true) {\n",
       "    root._bokeh_timeout = Date.now() + 5000;\n",
       "    root._bokeh_failed_load = false;\n",
       "  }\n",
       "\n",
       "  var NB_LOAD_WARNING = {'data': {'text/html':\n",
       "     \"<div style='background-color: #fdd'>\\n\"+\n",
       "     \"<p>\\n\"+\n",
       "     \"BokehJS does not appear to have successfully loaded. If loading BokehJS from CDN, this \\n\"+\n",
       "     \"may be due to a slow or bad network connection. Possible fixes:\\n\"+\n",
       "     \"</p>\\n\"+\n",
       "     \"<ul>\\n\"+\n",
       "     \"<li>re-rerun `output_notebook()` to attempt to load from CDN again, or</li>\\n\"+\n",
       "     \"<li>use INLINE resources instead, as so:</li>\\n\"+\n",
       "     \"</ul>\\n\"+\n",
       "     \"<code>\\n\"+\n",
       "     \"from bokeh.resources import INLINE\\n\"+\n",
       "     \"output_notebook(resources=INLINE)\\n\"+\n",
       "     \"</code>\\n\"+\n",
       "     \"</div>\"}};\n",
       "\n",
       "  function display_loaded() {\n",
       "    var el = document.getElementById(\"1b2a3581-7eff-4b8d-bb47-08be27517526\");\n",
       "    if (el != null) {\n",
       "      el.textContent = \"BokehJS is loading...\";\n",
       "    }\n",
       "    if (root.Bokeh !== undefined) {\n",
       "      if (el != null) {\n",
       "        el.textContent = \"BokehJS \" + root.Bokeh.version + \" successfully loaded.\";\n",
       "      }\n",
       "    } else if (Date.now() < root._bokeh_timeout) {\n",
       "      setTimeout(display_loaded, 100)\n",
       "    }\n",
       "  }\n",
       "\n",
       "\n",
       "  function run_callbacks() {\n",
       "    try {\n",
       "      root._bokeh_onload_callbacks.forEach(function(callback) { callback() });\n",
       "    }\n",
       "    finally {\n",
       "      delete root._bokeh_onload_callbacks\n",
       "    }\n",
       "    console.info(\"Bokeh: all callbacks have finished\");\n",
       "  }\n",
       "\n",
       "  function load_libs(js_urls, callback) {\n",
       "    root._bokeh_onload_callbacks.push(callback);\n",
       "    if (root._bokeh_is_loading > 0) {\n",
       "      console.log(\"Bokeh: BokehJS is being loaded, scheduling callback at\", now());\n",
       "      return null;\n",
       "    }\n",
       "    if (js_urls == null || js_urls.length === 0) {\n",
       "      run_callbacks();\n",
       "      return null;\n",
       "    }\n",
       "    console.log(\"Bokeh: BokehJS not loaded, scheduling load and callback at\", now());\n",
       "    root._bokeh_is_loading = js_urls.length;\n",
       "    for (var i = 0; i < js_urls.length; i++) {\n",
       "      var url = js_urls[i];\n",
       "      var s = document.createElement('script');\n",
       "      s.src = url;\n",
       "      s.async = false;\n",
       "      s.onreadystatechange = s.onload = function() {\n",
       "        root._bokeh_is_loading--;\n",
       "        if (root._bokeh_is_loading === 0) {\n",
       "          console.log(\"Bokeh: all BokehJS libraries loaded\");\n",
       "          run_callbacks()\n",
       "        }\n",
       "      };\n",
       "      s.onerror = function() {\n",
       "        console.warn(\"failed to load library \" + url);\n",
       "      };\n",
       "      console.log(\"Bokeh: injecting script tag for BokehJS library: \", url);\n",
       "      document.getElementsByTagName(\"head\")[0].appendChild(s);\n",
       "    }\n",
       "  };var element = document.getElementById(\"1b2a3581-7eff-4b8d-bb47-08be27517526\");\n",
       "  if (element == null) {\n",
       "    console.log(\"Bokeh: ERROR: autoload.js configured with elementid '1b2a3581-7eff-4b8d-bb47-08be27517526' but no matching script tag was found. \")\n",
       "    return false;\n",
       "  }\n",
       "\n",
       "  var js_urls = [\"https://cdn.pydata.org/bokeh/release/bokeh-0.12.10.min.js\", \"https://cdn.pydata.org/bokeh/release/bokeh-widgets-0.12.10.min.js\", \"https://cdn.pydata.org/bokeh/release/bokeh-tables-0.12.10.min.js\", \"https://cdn.pydata.org/bokeh/release/bokeh-gl-0.12.10.min.js\"];\n",
       "\n",
       "  var inline_js = [\n",
       "    function(Bokeh) {\n",
       "      Bokeh.set_log_level(\"info\");\n",
       "    },\n",
       "    \n",
       "    function(Bokeh) {\n",
       "      \n",
       "    },\n",
       "    function(Bokeh) {\n",
       "      console.log(\"Bokeh: injecting CSS: https://cdn.pydata.org/bokeh/release/bokeh-0.12.10.min.css\");\n",
       "      Bokeh.embed.inject_css(\"https://cdn.pydata.org/bokeh/release/bokeh-0.12.10.min.css\");\n",
       "      console.log(\"Bokeh: injecting CSS: https://cdn.pydata.org/bokeh/release/bokeh-widgets-0.12.10.min.css\");\n",
       "      Bokeh.embed.inject_css(\"https://cdn.pydata.org/bokeh/release/bokeh-widgets-0.12.10.min.css\");\n",
       "      console.log(\"Bokeh: injecting CSS: https://cdn.pydata.org/bokeh/release/bokeh-tables-0.12.10.min.css\");\n",
       "      Bokeh.embed.inject_css(\"https://cdn.pydata.org/bokeh/release/bokeh-tables-0.12.10.min.css\");\n",
       "    }\n",
       "  ];\n",
       "\n",
       "  function run_inline_js() {\n",
       "    \n",
       "    if ((root.Bokeh !== undefined) || (force === true)) {\n",
       "      for (var i = 0; i < inline_js.length; i++) {\n",
       "        inline_js[i].call(root, root.Bokeh);\n",
       "      }if (force === true) {\n",
       "        display_loaded();\n",
       "      }} else if (Date.now() < root._bokeh_timeout) {\n",
       "      setTimeout(run_inline_js, 100);\n",
       "    } else if (!root._bokeh_failed_load) {\n",
       "      console.log(\"Bokeh: BokehJS failed to load within specified timeout.\");\n",
       "      root._bokeh_failed_load = true;\n",
       "    } else if (force !== true) {\n",
       "      var cell = $(document.getElementById(\"1b2a3581-7eff-4b8d-bb47-08be27517526\")).parents('.cell').data().cell;\n",
       "      cell.output_area.append_execute_result(NB_LOAD_WARNING)\n",
       "    }\n",
       "\n",
       "  }\n",
       "\n",
       "  if (root._bokeh_is_loading === 0) {\n",
       "    console.log(\"Bokeh: BokehJS loaded, going straight to plotting\");\n",
       "    run_inline_js();\n",
       "  } else {\n",
       "    load_libs(js_urls, function() {\n",
       "      console.log(\"Bokeh: BokehJS plotting callback run at\", now());\n",
       "      run_inline_js();\n",
       "    });\n",
       "  }\n",
       "}(window));"
      ],
      "application/vnd.bokehjs_load.v0+json": "\n(function(root) {\n  function now() {\n    return new Date();\n  }\n\n  var force = true;\n\n  if (typeof (root._bokeh_onload_callbacks) === \"undefined\" || force === true) {\n    root._bokeh_onload_callbacks = [];\n    root._bokeh_is_loading = undefined;\n  }\n\n  \n\n  \n  if (typeof (root._bokeh_timeout) === \"undefined\" || force === true) {\n    root._bokeh_timeout = Date.now() + 5000;\n    root._bokeh_failed_load = false;\n  }\n\n  var NB_LOAD_WARNING = {'data': {'text/html':\n     \"<div style='background-color: #fdd'>\\n\"+\n     \"<p>\\n\"+\n     \"BokehJS does not appear to have successfully loaded. If loading BokehJS from CDN, this \\n\"+\n     \"may be due to a slow or bad network connection. Possible fixes:\\n\"+\n     \"</p>\\n\"+\n     \"<ul>\\n\"+\n     \"<li>re-rerun `output_notebook()` to attempt to load from CDN again, or</li>\\n\"+\n     \"<li>use INLINE resources instead, as so:</li>\\n\"+\n     \"</ul>\\n\"+\n     \"<code>\\n\"+\n     \"from bokeh.resources import INLINE\\n\"+\n     \"output_notebook(resources=INLINE)\\n\"+\n     \"</code>\\n\"+\n     \"</div>\"}};\n\n  function display_loaded() {\n    var el = document.getElementById(\"1b2a3581-7eff-4b8d-bb47-08be27517526\");\n    if (el != null) {\n      el.textContent = \"BokehJS is loading...\";\n    }\n    if (root.Bokeh !== undefined) {\n      if (el != null) {\n        el.textContent = \"BokehJS \" + root.Bokeh.version + \" successfully loaded.\";\n      }\n    } else if (Date.now() < root._bokeh_timeout) {\n      setTimeout(display_loaded, 100)\n    }\n  }\n\n\n  function run_callbacks() {\n    try {\n      root._bokeh_onload_callbacks.forEach(function(callback) { callback() });\n    }\n    finally {\n      delete root._bokeh_onload_callbacks\n    }\n    console.info(\"Bokeh: all callbacks have finished\");\n  }\n\n  function load_libs(js_urls, callback) {\n    root._bokeh_onload_callbacks.push(callback);\n    if (root._bokeh_is_loading > 0) {\n      console.log(\"Bokeh: BokehJS is being loaded, scheduling callback at\", now());\n      return null;\n    }\n    if (js_urls == null || js_urls.length === 0) {\n      run_callbacks();\n      return null;\n    }\n    console.log(\"Bokeh: BokehJS not loaded, scheduling load and callback at\", now());\n    root._bokeh_is_loading = js_urls.length;\n    for (var i = 0; i < js_urls.length; i++) {\n      var url = js_urls[i];\n      var s = document.createElement('script');\n      s.src = url;\n      s.async = false;\n      s.onreadystatechange = s.onload = function() {\n        root._bokeh_is_loading--;\n        if (root._bokeh_is_loading === 0) {\n          console.log(\"Bokeh: all BokehJS libraries loaded\");\n          run_callbacks()\n        }\n      };\n      s.onerror = function() {\n        console.warn(\"failed to load library \" + url);\n      };\n      console.log(\"Bokeh: injecting script tag for BokehJS library: \", url);\n      document.getElementsByTagName(\"head\")[0].appendChild(s);\n    }\n  };var element = document.getElementById(\"1b2a3581-7eff-4b8d-bb47-08be27517526\");\n  if (element == null) {\n    console.log(\"Bokeh: ERROR: autoload.js configured with elementid '1b2a3581-7eff-4b8d-bb47-08be27517526' but no matching script tag was found. \")\n    return false;\n  }\n\n  var js_urls = [\"https://cdn.pydata.org/bokeh/release/bokeh-0.12.10.min.js\", \"https://cdn.pydata.org/bokeh/release/bokeh-widgets-0.12.10.min.js\", \"https://cdn.pydata.org/bokeh/release/bokeh-tables-0.12.10.min.js\", \"https://cdn.pydata.org/bokeh/release/bokeh-gl-0.12.10.min.js\"];\n\n  var inline_js = [\n    function(Bokeh) {\n      Bokeh.set_log_level(\"info\");\n    },\n    \n    function(Bokeh) {\n      \n    },\n    function(Bokeh) {\n      console.log(\"Bokeh: injecting CSS: https://cdn.pydata.org/bokeh/release/bokeh-0.12.10.min.css\");\n      Bokeh.embed.inject_css(\"https://cdn.pydata.org/bokeh/release/bokeh-0.12.10.min.css\");\n      console.log(\"Bokeh: injecting CSS: https://cdn.pydata.org/bokeh/release/bokeh-widgets-0.12.10.min.css\");\n      Bokeh.embed.inject_css(\"https://cdn.pydata.org/bokeh/release/bokeh-widgets-0.12.10.min.css\");\n      console.log(\"Bokeh: injecting CSS: https://cdn.pydata.org/bokeh/release/bokeh-tables-0.12.10.min.css\");\n      Bokeh.embed.inject_css(\"https://cdn.pydata.org/bokeh/release/bokeh-tables-0.12.10.min.css\");\n    }\n  ];\n\n  function run_inline_js() {\n    \n    if ((root.Bokeh !== undefined) || (force === true)) {\n      for (var i = 0; i < inline_js.length; i++) {\n        inline_js[i].call(root, root.Bokeh);\n      }if (force === true) {\n        display_loaded();\n      }} else if (Date.now() < root._bokeh_timeout) {\n      setTimeout(run_inline_js, 100);\n    } else if (!root._bokeh_failed_load) {\n      console.log(\"Bokeh: BokehJS failed to load within specified timeout.\");\n      root._bokeh_failed_load = true;\n    } else if (force !== true) {\n      var cell = $(document.getElementById(\"1b2a3581-7eff-4b8d-bb47-08be27517526\")).parents('.cell').data().cell;\n      cell.output_area.append_execute_result(NB_LOAD_WARNING)\n    }\n\n  }\n\n  if (root._bokeh_is_loading === 0) {\n    console.log(\"Bokeh: BokehJS loaded, going straight to plotting\");\n    run_inline_js();\n  } else {\n    load_libs(js_urls, function() {\n      console.log(\"Bokeh: BokehJS plotting callback run at\", now());\n      run_inline_js();\n    });\n  }\n}(window));"
     },
     "metadata": {},
     "output_type": "display_data"
    }
   ],
   "source": [
    "from bokeh.io import output_notebook, show\n",
    "from bokeh.plotting import figure\n",
    "output_notebook()"
   ]
  },
  {
   "cell_type": "markdown",
   "metadata": {},
   "source": [
    "# Colors and Properties\n",
    "\n",
    "Colors\n",
    "There are many places where you may need to specify colors. Bokeh can accept colors in a variety of different ways:\n",
    "\n",
    "any of the 147 named CSS colors, e.g 'green', 'indigo'\n",
    "an RGB(A) hex value, e.g., '#FF0000', '#44444444'\n",
    "a 3-tuple of integers (r,g,b) between 0 and 255\n",
    "a 4-tuple of (r,g,b,a) where r, g, b are integers between 0 and 255 and a is a floating point value between 0 and 1\n",
    "\n",
    "Properties\n",
    "Regardless of what API (models, plotting, or charts) is used to create a Bokeh plot, styling the visual aspects of the plot can always be accomplished by setting attributes on the Bokeh model objects that comprise the resulting plot. Visual properties come in three kinds: line, fill, and text properties. For full information with code and examples see the Styling Visual Properties section of the user guide.\n",
    "\n",
    "Line Properties\n",
    "Set the visual appearance of lines. The most common are line_color, line_alpha, line_width and line_dash.\n",
    "\n",
    "Fill Properties\n",
    "Set the visual appearance of filled areas: fill_color and fill_alpha.\n",
    "\n",
    "Text Properties\n",
    "Set the visual appearance of lines of text. The most common are text_font, text_font_size, text_color, and text_alpha.\n",
    "\n",
    "Sometimes a prefix is used with property names, e.g. to distinguish between different line properties on the same object, or to give a more meaningful name. For example, to set the line width of the plot outline, you would say myplot.outline_line_width = 2."
   ]
  },
  {
   "cell_type": "markdown",
   "metadata": {},
   "source": [
    "# Plots\n",
    "Many top-level attributes of plots (outline, border, etc.) can be configured. See the Plots section of the styling guide for full information.\n",
    "\n",
    "Here is an example that tweaks the plot outline:"
   ]
  },
  {
   "cell_type": "code",
   "execution_count": 4,
   "metadata": {},
   "outputs": [
    {
     "data": {
      "text/html": [
       "\n",
       "<div class=\"bk-root\">\n",
       "    <div class=\"bk-plotdiv\" id=\"d860faa0-e673-4e59-bd17-3bbdfd6cc64c\"></div>\n",
       "</div>"
      ]
     },
     "metadata": {},
     "output_type": "display_data"
    },
    {
     "data": {
      "application/javascript": [
       "(function(root) {\n",
       "  function embed_document(root) {\n",
       "    var docs_json = {\"10b49f9d-4e96-43be-ae20-5a71ca7ed597\":{\"roots\":{\"references\":[{\"attributes\":{},\"id\":\"adc009c7-61b2-437e-9690-fc996efde487\",\"type\":\"BasicTickFormatter\"},{\"attributes\":{\"below\":[{\"id\":\"31b0f200-84d8-4457-9148-bfeee2e4a0f3\",\"type\":\"LinearAxis\"}],\"left\":[{\"id\":\"d1d3b689-92f7-4f91-80f5-b9eacd636c72\",\"type\":\"LinearAxis\"}],\"outline_line_alpha\":{\"value\":0.3},\"outline_line_color\":{\"value\":\"navy\"},\"outline_line_width\":{\"value\":7},\"plot_height\":400,\"plot_width\":400,\"renderers\":[{\"id\":\"31b0f200-84d8-4457-9148-bfeee2e4a0f3\",\"type\":\"LinearAxis\"},{\"id\":\"a4e3ca98-2f5b-4067-bad1-fc9c11a2affc\",\"type\":\"Grid\"},{\"id\":\"d1d3b689-92f7-4f91-80f5-b9eacd636c72\",\"type\":\"LinearAxis\"},{\"id\":\"d6f45f39-8b6a-4d33-88d1-a91bf3f31957\",\"type\":\"Grid\"},{\"id\":\"9d55b1dc-a8e9-473f-8b2c-d1e0b4b1b419\",\"type\":\"BoxAnnotation\"},{\"id\":\"f55646e1-bbd6-46f4-b505-53fc8955aa56\",\"type\":\"GlyphRenderer\"}],\"title\":{\"id\":\"5ec82534-79a1-4922-9caf-95da895950b2\",\"type\":\"Title\"},\"toolbar\":{\"id\":\"2aa2bcb1-0d14-4933-8007-044e876f5d8a\",\"type\":\"Toolbar\"},\"x_range\":{\"id\":\"ca7a0812-8549-4668-b16f-9cdc0dee1556\",\"type\":\"DataRange1d\"},\"x_scale\":{\"id\":\"5853dcb1-cc4f-44ca-9f9d-ca7e0a8cfba7\",\"type\":\"LinearScale\"},\"y_range\":{\"id\":\"d207c4b9-e3ae-483e-83ef-757d094fc709\",\"type\":\"DataRange1d\"},\"y_scale\":{\"id\":\"2a7fbcb4-bf5c-4ffd-9b63-f490b20fab22\",\"type\":\"LinearScale\"}},\"id\":\"200cee42-fcfd-41a0-9245-db8e992f2b58\",\"subtype\":\"Figure\",\"type\":\"Plot\"},{\"attributes\":{},\"id\":\"0f873c02-117c-405f-bee6-40a5df82a7a9\",\"type\":\"BasicTickFormatter\"},{\"attributes\":{\"callback\":null,\"column_names\":[\"x\",\"y\"],\"data\":{\"x\":[1,2,3,4,5],\"y\":[2,5,8,2,7]}},\"id\":\"7efb7799-c61b-4d8b-b11e-3b5fb87fd64f\",\"type\":\"ColumnDataSource\"},{\"attributes\":{\"fill_alpha\":{\"value\":0.1},\"fill_color\":{\"value\":\"#1f77b4\"},\"line_alpha\":{\"value\":0.1},\"line_color\":{\"value\":\"#1f77b4\"},\"size\":{\"units\":\"screen\",\"value\":10},\"x\":{\"field\":\"x\"},\"y\":{\"field\":\"y\"}},\"id\":\"afa650b2-7dc9-4d6f-b7cf-6a7267432829\",\"type\":\"Circle\"},{\"attributes\":{\"source\":{\"id\":\"7efb7799-c61b-4d8b-b11e-3b5fb87fd64f\",\"type\":\"ColumnDataSource\"}},\"id\":\"1d02fd29-27c9-48d5-a98c-b50c7e09dd61\",\"type\":\"CDSView\"},{\"attributes\":{},\"id\":\"0320b367-e8dd-4e8b-ac05-b4cbf219e131\",\"type\":\"PanTool\"},{\"attributes\":{\"active_drag\":\"auto\",\"active_inspect\":\"auto\",\"active_scroll\":\"auto\",\"active_tap\":\"auto\",\"tools\":[{\"id\":\"0320b367-e8dd-4e8b-ac05-b4cbf219e131\",\"type\":\"PanTool\"},{\"id\":\"3be31265-80f7-45a7-ab50-aef2d9341e5e\",\"type\":\"WheelZoomTool\"},{\"id\":\"d6efa1a0-c5bc-4293-b14d-7327ddd40108\",\"type\":\"BoxZoomTool\"},{\"id\":\"a1988edc-c545-476e-ac1e-fbd905ea8bb6\",\"type\":\"SaveTool\"},{\"id\":\"bf3dc8fd-af3d-456a-9bc0-371d3e1e9111\",\"type\":\"ResetTool\"},{\"id\":\"941b9d87-1f33-4dc4-85c1-39bebff4f258\",\"type\":\"HelpTool\"}]},\"id\":\"2aa2bcb1-0d14-4933-8007-044e876f5d8a\",\"type\":\"Toolbar\"},{\"attributes\":{},\"id\":\"3be31265-80f7-45a7-ab50-aef2d9341e5e\",\"type\":\"WheelZoomTool\"},{\"attributes\":{\"callback\":null},\"id\":\"ca7a0812-8549-4668-b16f-9cdc0dee1556\",\"type\":\"DataRange1d\"},{\"attributes\":{\"plot\":null,\"text\":\"\"},\"id\":\"5ec82534-79a1-4922-9caf-95da895950b2\",\"type\":\"Title\"},{\"attributes\":{\"callback\":null},\"id\":\"d207c4b9-e3ae-483e-83ef-757d094fc709\",\"type\":\"DataRange1d\"},{\"attributes\":{},\"id\":\"a1988edc-c545-476e-ac1e-fbd905ea8bb6\",\"type\":\"SaveTool\"},{\"attributes\":{},\"id\":\"5853dcb1-cc4f-44ca-9f9d-ca7e0a8cfba7\",\"type\":\"LinearScale\"},{\"attributes\":{},\"id\":\"bf3dc8fd-af3d-456a-9bc0-371d3e1e9111\",\"type\":\"ResetTool\"},{\"attributes\":{},\"id\":\"2a7fbcb4-bf5c-4ffd-9b63-f490b20fab22\",\"type\":\"LinearScale\"},{\"attributes\":{},\"id\":\"941b9d87-1f33-4dc4-85c1-39bebff4f258\",\"type\":\"HelpTool\"},{\"attributes\":{\"fill_color\":{\"value\":\"#1f77b4\"},\"line_color\":{\"value\":\"#1f77b4\"},\"size\":{\"units\":\"screen\",\"value\":10},\"x\":{\"field\":\"x\"},\"y\":{\"field\":\"y\"}},\"id\":\"c4a6a754-d081-4de6-9de3-df1d7eca8f52\",\"type\":\"Circle\"},{\"attributes\":{\"formatter\":{\"id\":\"adc009c7-61b2-437e-9690-fc996efde487\",\"type\":\"BasicTickFormatter\"},\"plot\":{\"id\":\"200cee42-fcfd-41a0-9245-db8e992f2b58\",\"subtype\":\"Figure\",\"type\":\"Plot\"},\"ticker\":{\"id\":\"1e879414-6de6-44b2-baea-83b87e512035\",\"type\":\"BasicTicker\"}},\"id\":\"31b0f200-84d8-4457-9148-bfeee2e4a0f3\",\"type\":\"LinearAxis\"},{\"attributes\":{\"data_source\":{\"id\":\"7efb7799-c61b-4d8b-b11e-3b5fb87fd64f\",\"type\":\"ColumnDataSource\"},\"glyph\":{\"id\":\"c4a6a754-d081-4de6-9de3-df1d7eca8f52\",\"type\":\"Circle\"},\"hover_glyph\":null,\"muted_glyph\":null,\"nonselection_glyph\":{\"id\":\"afa650b2-7dc9-4d6f-b7cf-6a7267432829\",\"type\":\"Circle\"},\"selection_glyph\":null,\"view\":{\"id\":\"1d02fd29-27c9-48d5-a98c-b50c7e09dd61\",\"type\":\"CDSView\"}},\"id\":\"f55646e1-bbd6-46f4-b505-53fc8955aa56\",\"type\":\"GlyphRenderer\"},{\"attributes\":{},\"id\":\"1e879414-6de6-44b2-baea-83b87e512035\",\"type\":\"BasicTicker\"},{\"attributes\":{\"overlay\":{\"id\":\"9d55b1dc-a8e9-473f-8b2c-d1e0b4b1b419\",\"type\":\"BoxAnnotation\"}},\"id\":\"d6efa1a0-c5bc-4293-b14d-7327ddd40108\",\"type\":\"BoxZoomTool\"},{\"attributes\":{\"plot\":{\"id\":\"200cee42-fcfd-41a0-9245-db8e992f2b58\",\"subtype\":\"Figure\",\"type\":\"Plot\"},\"ticker\":{\"id\":\"1e879414-6de6-44b2-baea-83b87e512035\",\"type\":\"BasicTicker\"}},\"id\":\"a4e3ca98-2f5b-4067-bad1-fc9c11a2affc\",\"type\":\"Grid\"},{\"attributes\":{\"formatter\":{\"id\":\"0f873c02-117c-405f-bee6-40a5df82a7a9\",\"type\":\"BasicTickFormatter\"},\"plot\":{\"id\":\"200cee42-fcfd-41a0-9245-db8e992f2b58\",\"subtype\":\"Figure\",\"type\":\"Plot\"},\"ticker\":{\"id\":\"0e20168c-9723-429c-946b-960508d710ff\",\"type\":\"BasicTicker\"}},\"id\":\"d1d3b689-92f7-4f91-80f5-b9eacd636c72\",\"type\":\"LinearAxis\"},{\"attributes\":{},\"id\":\"0e20168c-9723-429c-946b-960508d710ff\",\"type\":\"BasicTicker\"},{\"attributes\":{\"dimension\":1,\"plot\":{\"id\":\"200cee42-fcfd-41a0-9245-db8e992f2b58\",\"subtype\":\"Figure\",\"type\":\"Plot\"},\"ticker\":{\"id\":\"0e20168c-9723-429c-946b-960508d710ff\",\"type\":\"BasicTicker\"}},\"id\":\"d6f45f39-8b6a-4d33-88d1-a91bf3f31957\",\"type\":\"Grid\"},{\"attributes\":{\"bottom_units\":\"screen\",\"fill_alpha\":{\"value\":0.5},\"fill_color\":{\"value\":\"lightgrey\"},\"left_units\":\"screen\",\"level\":\"overlay\",\"line_alpha\":{\"value\":1.0},\"line_color\":{\"value\":\"black\"},\"line_dash\":[4,4],\"line_width\":{\"value\":2},\"plot\":null,\"render_mode\":\"css\",\"right_units\":\"screen\",\"top_units\":\"screen\"},\"id\":\"9d55b1dc-a8e9-473f-8b2c-d1e0b4b1b419\",\"type\":\"BoxAnnotation\"}],\"root_ids\":[\"200cee42-fcfd-41a0-9245-db8e992f2b58\"]},\"title\":\"Bokeh Application\",\"version\":\"0.12.10\"}};\n",
       "    var render_items = [{\"docid\":\"10b49f9d-4e96-43be-ae20-5a71ca7ed597\",\"elementid\":\"d860faa0-e673-4e59-bd17-3bbdfd6cc64c\",\"modelid\":\"200cee42-fcfd-41a0-9245-db8e992f2b58\"}];\n",
       "\n",
       "    root.Bokeh.embed.embed_items(docs_json, render_items);\n",
       "  }\n",
       "\n",
       "  if (root.Bokeh !== undefined) {\n",
       "    embed_document(root);\n",
       "  } else {\n",
       "    var attempts = 0;\n",
       "    var timer = setInterval(function(root) {\n",
       "      if (root.Bokeh !== undefined) {\n",
       "        embed_document(root);\n",
       "        clearInterval(timer);\n",
       "      }\n",
       "      attempts++;\n",
       "      if (attempts > 100) {\n",
       "        console.log(\"Bokeh: ERROR: Unable to embed document because BokehJS library is missing\")\n",
       "        clearInterval(timer);\n",
       "      }\n",
       "    }, 10, root)\n",
       "  }\n",
       "})(window);"
      ],
      "application/vnd.bokehjs_exec.v0+json": ""
     },
     "metadata": {
      "application/vnd.bokehjs_exec.v0+json": {
       "id": "200cee42-fcfd-41a0-9245-db8e992f2b58"
      }
     },
     "output_type": "display_data"
    }
   ],
   "source": [
    "p=figure(plot_width=400,plot_height=400)\n",
    "p.outline_line_width=7\n",
    "p.outline_line_alpha=0.3\n",
    "p.outline_line_color=\"navy\"\n",
    "p.circle([1,2,3,4,5], [2,5,8,2,7], size=10)\n",
    "show(p)"
   ]
  },
  {
   "cell_type": "code",
   "execution_count": 8,
   "metadata": {},
   "outputs": [
    {
     "data": {
      "text/html": [
       "\n",
       "<div class=\"bk-root\">\n",
       "    <div class=\"bk-plotdiv\" id=\"37d144d1-2b03-4e7a-b81f-b4ffcde6fa4c\"></div>\n",
       "</div>"
      ]
     },
     "metadata": {},
     "output_type": "display_data"
    },
    {
     "data": {
      "application/javascript": [
       "(function(root) {\n",
       "  function embed_document(root) {\n",
       "    var docs_json = {\"34eca4be-f238-4570-a9a4-e315e3cc03a7\":{\"roots\":{\"references\":[{\"attributes\":{},\"id\":\"ba0a3cbb-79d3-4fe2-96b6-d979fe5808f8\",\"type\":\"HelpTool\"},{\"attributes\":{\"data_source\":{\"id\":\"49b4658b-3d32-4c5a-b61d-be02aab87f4c\",\"type\":\"ColumnDataSource\"},\"glyph\":{\"id\":\"1e2065b6-c586-4e72-b5f9-ab2af728a6cf\",\"type\":\"Circle\"},\"hover_glyph\":null,\"muted_glyph\":null,\"nonselection_glyph\":{\"id\":\"e546f0d2-e0b9-4a65-8b1c-8b1a1a6a2e1b\",\"type\":\"Circle\"},\"selection_glyph\":null,\"view\":{\"id\":\"bbfb676c-d2b1-4aa3-ac01-6b0ea9efe4fd\",\"type\":\"CDSView\"}},\"id\":\"43b5c778-6c54-4154-be0b-3db417653c84\",\"type\":\"GlyphRenderer\"},{\"attributes\":{\"source\":{\"id\":\"49b4658b-3d32-4c5a-b61d-be02aab87f4c\",\"type\":\"ColumnDataSource\"}},\"id\":\"bbfb676c-d2b1-4aa3-ac01-6b0ea9efe4fd\",\"type\":\"CDSView\"},{\"attributes\":{\"plot\":{\"id\":\"3b038675-a9b6-4190-ab5a-f1a4fbffd07b\",\"subtype\":\"Figure\",\"type\":\"Plot\"},\"ticker\":{\"id\":\"5c35d116-a209-493f-b96a-cabd1de0d11e\",\"type\":\"BasicTicker\"}},\"id\":\"8ef96603-8c53-47fa-9aa4-b8f7e7aa4856\",\"type\":\"Grid\"},{\"attributes\":{},\"id\":\"3cdda0ab-6eae-463b-ae64-83af681abf69\",\"type\":\"LinearScale\"},{\"attributes\":{\"formatter\":{\"id\":\"0b76bb3a-d024-45f3-be63-b488583ff6ae\",\"type\":\"BasicTickFormatter\"},\"plot\":{\"id\":\"3b038675-a9b6-4190-ab5a-f1a4fbffd07b\",\"subtype\":\"Figure\",\"type\":\"Plot\"},\"ticker\":{\"id\":\"5c35d116-a209-493f-b96a-cabd1de0d11e\",\"type\":\"BasicTicker\"}},\"id\":\"c9afc9cf-5088-478f-b82c-d3854cce04e7\",\"type\":\"LinearAxis\"},{\"attributes\":{\"fill_alpha\":{\"value\":0.5},\"fill_color\":{\"value\":\"#1f77b4\"},\"line_color\":{\"value\":\"#1f77b4\"},\"radius\":{\"units\":\"data\",\"value\":1},\"size\":{\"units\":\"screen\",\"value\":20},\"x\":{\"field\":\"x\"},\"y\":{\"field\":\"y\"}},\"id\":\"1e2065b6-c586-4e72-b5f9-ab2af728a6cf\",\"type\":\"Circle\"},{\"attributes\":{},\"id\":\"0b76bb3a-d024-45f3-be63-b488583ff6ae\",\"type\":\"BasicTickFormatter\"},{\"attributes\":{},\"id\":\"5c35d116-a209-493f-b96a-cabd1de0d11e\",\"type\":\"BasicTicker\"},{\"attributes\":{\"active_drag\":\"auto\",\"active_inspect\":\"auto\",\"active_scroll\":\"auto\",\"active_tap\":\"auto\",\"tools\":[{\"id\":\"e8b59db1-a573-4617-963a-d2fd1ddfa50b\",\"type\":\"PanTool\"},{\"id\":\"59539d91-77f5-4173-8ef5-e963ce1725d6\",\"type\":\"WheelZoomTool\"},{\"id\":\"9c921a87-fd82-4c76-8240-64d9efc0ae37\",\"type\":\"BoxZoomTool\"},{\"id\":\"ce507072-488b-4f21-bd31-49420be3262f\",\"type\":\"SaveTool\"},{\"id\":\"e4a2c4b2-a8cc-4f89-bc1b-c86f26227726\",\"type\":\"ResetTool\"},{\"id\":\"ba0a3cbb-79d3-4fe2-96b6-d979fe5808f8\",\"type\":\"HelpTool\"}]},\"id\":\"e682bb69-f337-48ae-b124-7955bee60284\",\"type\":\"Toolbar\"},{\"attributes\":{\"formatter\":{\"id\":\"c9303db3-75d3-4718-9a23-9b415830ad67\",\"type\":\"BasicTickFormatter\"},\"plot\":{\"id\":\"3b038675-a9b6-4190-ab5a-f1a4fbffd07b\",\"subtype\":\"Figure\",\"type\":\"Plot\"},\"ticker\":{\"id\":\"1d132123-dcf4-4e84-90f2-0c13c17d4cac\",\"type\":\"BasicTicker\"}},\"id\":\"f601df73-31b0-4bd4-acb5-582e85c2b0ff\",\"type\":\"LinearAxis\"},{\"attributes\":{\"callback\":null},\"id\":\"3b0ae32c-0a4f-4b16-97e7-ba62064917ac\",\"type\":\"DataRange1d\"},{\"attributes\":{},\"id\":\"1d132123-dcf4-4e84-90f2-0c13c17d4cac\",\"type\":\"BasicTicker\"},{\"attributes\":{},\"id\":\"8586915d-62a9-4819-a11a-1b3682f7b640\",\"type\":\"LinearScale\"},{\"attributes\":{\"dimension\":1,\"plot\":{\"id\":\"3b038675-a9b6-4190-ab5a-f1a4fbffd07b\",\"subtype\":\"Figure\",\"type\":\"Plot\"},\"ticker\":{\"id\":\"1d132123-dcf4-4e84-90f2-0c13c17d4cac\",\"type\":\"BasicTicker\"}},\"id\":\"5b9f877c-a0c1-4d58-93d1-9ba36f8a15d9\",\"type\":\"Grid\"},{\"attributes\":{\"callback\":null},\"id\":\"95842441-faaf-42ef-b8da-ee399a90505b\",\"type\":\"DataRange1d\"},{\"attributes\":{},\"id\":\"c9303db3-75d3-4718-9a23-9b415830ad67\",\"type\":\"BasicTickFormatter\"},{\"attributes\":{\"bottom_units\":\"screen\",\"fill_alpha\":{\"value\":0.5},\"fill_color\":{\"value\":\"lightgrey\"},\"left_units\":\"screen\",\"level\":\"overlay\",\"line_alpha\":{\"value\":1.0},\"line_color\":{\"value\":\"black\"},\"line_dash\":[4,4],\"line_width\":{\"value\":2},\"plot\":null,\"render_mode\":\"css\",\"right_units\":\"screen\",\"top_units\":\"screen\"},\"id\":\"05a94452-8bbe-42a4-b6f2-0f110f54c757\",\"type\":\"BoxAnnotation\"},{\"attributes\":{},\"id\":\"e8b59db1-a573-4617-963a-d2fd1ddfa50b\",\"type\":\"PanTool\"},{\"attributes\":{\"plot\":null,\"text\":\"\"},\"id\":\"94795226-c237-471d-8a07-9ce5b2b99b77\",\"type\":\"Title\"},{\"attributes\":{\"callback\":null,\"column_names\":[\"x\",\"y\"],\"data\":{\"x\":{\"__ndarray__\":\"HV9tI7bwHkC441EwemcYQGBO6vpdqOo/hy/pksppG0Aw5l8gk6gHQI454vatDhxA+AhoGWJ7GUB8WaYncOIiQKTEjI99L/4/wD2LXyd3E0DI28wksBEKQGIrMOhvUyFAZKELPnRKFUDg8Y7Tt5cXQLt3n2gk/BdAlleTRKhzC0BAQtxsjWETQHG6F5ygpB1AivB+ORrbGEC3eGVjMTgQQM6fR4TdTwNArI31Z7Ec0z/4ebhu1hL0P0VxxtPkzhRA5GOHMf/DA0DUH2lpTVcVQN1TqpPReCNAvIJADmEgIECkaLgwER/7P0faso5wigpA\",\"dtype\":\"float64\",\"shape\":[30]},\"y\":{\"__ndarray__\":\"zE5ZRs1GOUDFW7jBnBggQMxc06OcHCdA+KK7GQ/QIEAav9cCnOklQKaTSVECrTFA4sVWMC47MEAIXKrD7roSQA2rdTKvqjJAgL1TLsbO9D+D9pRyoqQ1QCc9K8ZwtglAHGZp+bJ/N0Cj2/dsIYs4QGpxU21L6ihAybdHE3jmN0BheGVrbyIwQEi6hApBfiBADQSVkC79BUCIR6YdyXwuQI4cWH3bahNALpgdx88ZO0D+GMLwGOD+P9Pw6KEbvDlA8q915duxA0B6eSpmZNg0QESvvudfUjVAQRrrFx4A+j8AN3rw9y8cQCzIOHsozjVA\",\"dtype\":\"float64\",\"shape\":[30]}}},\"id\":\"49b4658b-3d32-4c5a-b61d-be02aab87f4c\",\"type\":\"ColumnDataSource\"},{\"attributes\":{},\"id\":\"59539d91-77f5-4173-8ef5-e963ce1725d6\",\"type\":\"WheelZoomTool\"},{\"attributes\":{\"fill_alpha\":{\"value\":0.1},\"fill_color\":{\"value\":\"#1f77b4\"},\"line_alpha\":{\"value\":0.1},\"line_color\":{\"value\":\"#1f77b4\"},\"radius\":{\"units\":\"data\",\"value\":1},\"size\":{\"units\":\"screen\",\"value\":20},\"x\":{\"field\":\"x\"},\"y\":{\"field\":\"y\"}},\"id\":\"e546f0d2-e0b9-4a65-8b1c-8b1a1a6a2e1b\",\"type\":\"Circle\"},{\"attributes\":{\"below\":[{\"id\":\"c9afc9cf-5088-478f-b82c-d3854cce04e7\",\"type\":\"LinearAxis\"}],\"left\":[{\"id\":\"f601df73-31b0-4bd4-acb5-582e85c2b0ff\",\"type\":\"LinearAxis\"}],\"outline_line_alpha\":{\"value\":0.6},\"outline_line_width\":{\"value\":3},\"plot_height\":500,\"plot_width\":500,\"renderers\":[{\"id\":\"c9afc9cf-5088-478f-b82c-d3854cce04e7\",\"type\":\"LinearAxis\"},{\"id\":\"8ef96603-8c53-47fa-9aa4-b8f7e7aa4856\",\"type\":\"Grid\"},{\"id\":\"f601df73-31b0-4bd4-acb5-582e85c2b0ff\",\"type\":\"LinearAxis\"},{\"id\":\"5b9f877c-a0c1-4d58-93d1-9ba36f8a15d9\",\"type\":\"Grid\"},{\"id\":\"05a94452-8bbe-42a4-b6f2-0f110f54c757\",\"type\":\"BoxAnnotation\"},{\"id\":\"43b5c778-6c54-4154-be0b-3db417653c84\",\"type\":\"GlyphRenderer\"}],\"title\":{\"id\":\"94795226-c237-471d-8a07-9ce5b2b99b77\",\"type\":\"Title\"},\"toolbar\":{\"id\":\"e682bb69-f337-48ae-b124-7955bee60284\",\"type\":\"Toolbar\"},\"x_range\":{\"id\":\"3b0ae32c-0a4f-4b16-97e7-ba62064917ac\",\"type\":\"DataRange1d\"},\"x_scale\":{\"id\":\"3cdda0ab-6eae-463b-ae64-83af681abf69\",\"type\":\"LinearScale\"},\"y_range\":{\"id\":\"95842441-faaf-42ef-b8da-ee399a90505b\",\"type\":\"DataRange1d\"},\"y_scale\":{\"id\":\"8586915d-62a9-4819-a11a-1b3682f7b640\",\"type\":\"LinearScale\"}},\"id\":\"3b038675-a9b6-4190-ab5a-f1a4fbffd07b\",\"subtype\":\"Figure\",\"type\":\"Plot\"},{\"attributes\":{\"overlay\":{\"id\":\"05a94452-8bbe-42a4-b6f2-0f110f54c757\",\"type\":\"BoxAnnotation\"}},\"id\":\"9c921a87-fd82-4c76-8240-64d9efc0ae37\",\"type\":\"BoxZoomTool\"},{\"attributes\":{},\"id\":\"ce507072-488b-4f21-bd31-49420be3262f\",\"type\":\"SaveTool\"},{\"attributes\":{},\"id\":\"e4a2c4b2-a8cc-4f89-bc1b-c86f26227726\",\"type\":\"ResetTool\"}],\"root_ids\":[\"3b038675-a9b6-4190-ab5a-f1a4fbffd07b\"]},\"title\":\"Bokeh Application\",\"version\":\"0.12.10\"}};\n",
       "    var render_items = [{\"docid\":\"34eca4be-f238-4570-a9a4-e315e3cc03a7\",\"elementid\":\"37d144d1-2b03-4e7a-b81f-b4ffcde6fa4c\",\"modelid\":\"3b038675-a9b6-4190-ab5a-f1a4fbffd07b\"}];\n",
       "\n",
       "    root.Bokeh.embed.embed_items(docs_json, render_items);\n",
       "  }\n",
       "\n",
       "  if (root.Bokeh !== undefined) {\n",
       "    embed_document(root);\n",
       "  } else {\n",
       "    var attempts = 0;\n",
       "    var timer = setInterval(function(root) {\n",
       "      if (root.Bokeh !== undefined) {\n",
       "        embed_document(root);\n",
       "        clearInterval(timer);\n",
       "      }\n",
       "      attempts++;\n",
       "      if (attempts > 100) {\n",
       "        console.log(\"Bokeh: ERROR: Unable to embed document because BokehJS library is missing\")\n",
       "        clearInterval(timer);\n",
       "      }\n",
       "    }, 10, root)\n",
       "  }\n",
       "})(window);"
      ],
      "application/vnd.bokehjs_exec.v0+json": ""
     },
     "metadata": {
      "application/vnd.bokehjs_exec.v0+json": {
       "id": "3b038675-a9b6-4190-ab5a-f1a4fbffd07b"
      }
     },
     "output_type": "display_data"
    }
   ],
   "source": [
    "import numpy as np\n",
    "a=np.random.random(30)*10\n",
    "b=np.random.random(30)*30\n",
    "p=figure(plot_width=500,plot_height=500)\n",
    "p.outline_line_width=3\n",
    "p.outline_line_alpha=0.6\n",
    "p.circle(a,b,size=20,fill_alpha=0.5,radius=1)\n",
    "show(p)"
   ]
  },
  {
   "cell_type": "markdown",
   "metadata": {},
   "source": [
    "# Glyphs\n",
    "It's also possible to style the visual properties of glyphs. When using bokeh.plotting this is often done when calling the glyph methods:\n",
    "\n",
    "p.circle(line_color=\"red\", fill_alpha=0.2, ...)\n",
    "But it is also possible to set these properties directly on glyph objects. Glyph objects are found on GlyphRenderer objects, which are returned by the Plot.add_glyph and bokeh.plotting glyph methods like circle, rect, etc. Let's look at an example:"
   ]
  },
  {
   "cell_type": "code",
   "execution_count": 20,
   "metadata": {},
   "outputs": [
    {
     "data": {
      "text/html": [
       "\n",
       "<div class=\"bk-root\">\n",
       "    <div class=\"bk-plotdiv\" id=\"9ff3cedf-0fca-4654-a2e3-3d9d193dff63\"></div>\n",
       "</div>"
      ]
     },
     "metadata": {},
     "output_type": "display_data"
    },
    {
     "data": {
      "application/javascript": [
       "(function(root) {\n",
       "  function embed_document(root) {\n",
       "    var docs_json = {\"7b8ccdbd-6304-4f9e-9e89-8bc9b7aa1238\":{\"roots\":{\"references\":[{\"attributes\":{},\"id\":\"aaf4eb04-c5a7-4c7b-bcb1-16519c2b8199\",\"type\":\"BasicTickFormatter\"},{\"attributes\":{},\"id\":\"5117d56a-159d-4663-b57c-be78517e7e27\",\"type\":\"BasicTicker\"},{\"attributes\":{\"fill_alpha\":{\"value\":0.2},\"fill_color\":{\"value\":\"#1f77b4\"},\"line_color\":{\"value\":\"firebrick\"},\"line_dash\":[9,1],\"line_width\":{\"value\":2},\"size\":{\"units\":\"screen\",\"value\":50},\"x\":{\"field\":\"x\"},\"y\":{\"field\":\"y\"}},\"id\":\"efbbf441-c4eb-42c4-ac04-a41969e857bf\",\"type\":\"Circle\"},{\"attributes\":{},\"id\":\"96b6458e-7de9-4206-a497-e3f5a9ead9cc\",\"type\":\"BasicTicker\"},{\"attributes\":{\"overlay\":{\"id\":\"920b1eee-6928-4441-9843-5916ed7904b4\",\"type\":\"BoxAnnotation\"}},\"id\":\"24b798fb-be6e-47dd-81f4-ae04c7cbc9f0\",\"type\":\"BoxZoomTool\"},{\"attributes\":{},\"id\":\"de04dc74-b58c-4b4e-8ce0-efe64f8c096d\",\"type\":\"LinearScale\"},{\"attributes\":{},\"id\":\"71ce60d2-1a28-4e22-88c4-11d40176de0c\",\"type\":\"WheelZoomTool\"},{\"attributes\":{\"dimension\":1,\"plot\":{\"id\":\"22ccfafa-ba5e-4102-be17-d14fd9b0a78c\",\"subtype\":\"Figure\",\"type\":\"Plot\"},\"ticker\":{\"id\":\"96b6458e-7de9-4206-a497-e3f5a9ead9cc\",\"type\":\"BasicTicker\"}},\"id\":\"2ae1080f-dfc4-478c-94fa-7614f3227f21\",\"type\":\"Grid\"},{\"attributes\":{\"below\":[{\"id\":\"8989d02a-06b3-41dd-99f3-94283eed3d38\",\"type\":\"LinearAxis\"}],\"left\":[{\"id\":\"35eed5d0-07cb-4356-8388-734a95e384a0\",\"type\":\"LinearAxis\"}],\"plot_height\":400,\"plot_width\":400,\"renderers\":[{\"id\":\"8989d02a-06b3-41dd-99f3-94283eed3d38\",\"type\":\"LinearAxis\"},{\"id\":\"04950e8c-571a-45b7-824a-bb3b7b84659e\",\"type\":\"Grid\"},{\"id\":\"35eed5d0-07cb-4356-8388-734a95e384a0\",\"type\":\"LinearAxis\"},{\"id\":\"2ae1080f-dfc4-478c-94fa-7614f3227f21\",\"type\":\"Grid\"},{\"id\":\"920b1eee-6928-4441-9843-5916ed7904b4\",\"type\":\"BoxAnnotation\"},{\"id\":\"3a313f18-b749-4d53-a2d0-d96e0885604e\",\"type\":\"GlyphRenderer\"}],\"title\":{\"id\":\"e8af0191-48e8-425b-b6cf-f523e2d47865\",\"type\":\"Title\"},\"toolbar\":{\"id\":\"66fba823-6f73-477d-babc-bca312b5b895\",\"type\":\"Toolbar\"},\"x_range\":{\"id\":\"3959d7d8-62c1-4e31-8544-e9dc29e25e0b\",\"type\":\"DataRange1d\"},\"x_scale\":{\"id\":\"a02b64be-606e-436a-ae47-6dd0adfbab19\",\"type\":\"LinearScale\"},\"y_range\":{\"id\":\"e9fdb330-5dab-485f-acb2-ed8b6e0ba81a\",\"type\":\"DataRange1d\"},\"y_scale\":{\"id\":\"de04dc74-b58c-4b4e-8ce0-efe64f8c096d\",\"type\":\"LinearScale\"}},\"id\":\"22ccfafa-ba5e-4102-be17-d14fd9b0a78c\",\"subtype\":\"Figure\",\"type\":\"Plot\"},{\"attributes\":{},\"id\":\"a02b64be-606e-436a-ae47-6dd0adfbab19\",\"type\":\"LinearScale\"},{\"attributes\":{\"plot\":null,\"text\":\"\"},\"id\":\"e8af0191-48e8-425b-b6cf-f523e2d47865\",\"type\":\"Title\"},{\"attributes\":{},\"id\":\"36be8df6-e8df-4ac6-be39-5ff0d1171235\",\"type\":\"ResetTool\"},{\"attributes\":{\"callback\":null},\"id\":\"e9fdb330-5dab-485f-acb2-ed8b6e0ba81a\",\"type\":\"DataRange1d\"},{\"attributes\":{\"fill_alpha\":{\"value\":0.1},\"fill_color\":{\"value\":\"#1f77b4\"},\"line_alpha\":{\"value\":0.1},\"line_color\":{\"value\":\"#1f77b4\"},\"x\":{\"field\":\"x\"},\"y\":{\"field\":\"y\"}},\"id\":\"34f3fddb-cdac-4456-ae03-8ece7e7eff54\",\"type\":\"Circle\"},{\"attributes\":{\"data_source\":{\"id\":\"b6840eb2-c645-4ad9-91a4-4e8ecfb4352c\",\"type\":\"ColumnDataSource\"},\"glyph\":{\"id\":\"efbbf441-c4eb-42c4-ac04-a41969e857bf\",\"type\":\"Circle\"},\"hover_glyph\":null,\"muted_glyph\":null,\"nonselection_glyph\":{\"id\":\"34f3fddb-cdac-4456-ae03-8ece7e7eff54\",\"type\":\"Circle\"},\"selection_glyph\":null,\"view\":{\"id\":\"4260b931-5817-4cdf-9205-baf8cbd6ce28\",\"type\":\"CDSView\"}},\"id\":\"3a313f18-b749-4d53-a2d0-d96e0885604e\",\"type\":\"GlyphRenderer\"},{\"attributes\":{},\"id\":\"0016f660-e8d8-4f3f-8dd7-f4bac7432480\",\"type\":\"SaveTool\"},{\"attributes\":{},\"id\":\"d0d90d64-b671-4c80-9ba3-b30bfc49ff27\",\"type\":\"HelpTool\"},{\"attributes\":{\"callback\":null},\"id\":\"3959d7d8-62c1-4e31-8544-e9dc29e25e0b\",\"type\":\"DataRange1d\"},{\"attributes\":{\"active_drag\":\"auto\",\"active_inspect\":\"auto\",\"active_scroll\":\"auto\",\"active_tap\":\"auto\",\"tools\":[{\"id\":\"28a921cc-56f9-4c12-b607-8d9f62671063\",\"type\":\"PanTool\"},{\"id\":\"71ce60d2-1a28-4e22-88c4-11d40176de0c\",\"type\":\"WheelZoomTool\"},{\"id\":\"24b798fb-be6e-47dd-81f4-ae04c7cbc9f0\",\"type\":\"BoxZoomTool\"},{\"id\":\"0016f660-e8d8-4f3f-8dd7-f4bac7432480\",\"type\":\"SaveTool\"},{\"id\":\"36be8df6-e8df-4ac6-be39-5ff0d1171235\",\"type\":\"ResetTool\"},{\"id\":\"d0d90d64-b671-4c80-9ba3-b30bfc49ff27\",\"type\":\"HelpTool\"}]},\"id\":\"66fba823-6f73-477d-babc-bca312b5b895\",\"type\":\"Toolbar\"},{\"attributes\":{\"callback\":null,\"column_names\":[\"x\",\"y\"],\"data\":{\"x\":[1,2,3,4,5],\"y\":[2,5,8,2,7]}},\"id\":\"b6840eb2-c645-4ad9-91a4-4e8ecfb4352c\",\"type\":\"ColumnDataSource\"},{\"attributes\":{\"formatter\":{\"id\":\"aaf4eb04-c5a7-4c7b-bcb1-16519c2b8199\",\"type\":\"BasicTickFormatter\"},\"plot\":{\"id\":\"22ccfafa-ba5e-4102-be17-d14fd9b0a78c\",\"subtype\":\"Figure\",\"type\":\"Plot\"},\"ticker\":{\"id\":\"96b6458e-7de9-4206-a497-e3f5a9ead9cc\",\"type\":\"BasicTicker\"}},\"id\":\"35eed5d0-07cb-4356-8388-734a95e384a0\",\"type\":\"LinearAxis\"},{\"attributes\":{\"source\":{\"id\":\"b6840eb2-c645-4ad9-91a4-4e8ecfb4352c\",\"type\":\"ColumnDataSource\"}},\"id\":\"4260b931-5817-4cdf-9205-baf8cbd6ce28\",\"type\":\"CDSView\"},{\"attributes\":{},\"id\":\"28a921cc-56f9-4c12-b607-8d9f62671063\",\"type\":\"PanTool\"},{\"attributes\":{\"formatter\":{\"id\":\"1c12927c-63d9-491d-84d9-cfc93f81e04b\",\"type\":\"BasicTickFormatter\"},\"plot\":{\"id\":\"22ccfafa-ba5e-4102-be17-d14fd9b0a78c\",\"subtype\":\"Figure\",\"type\":\"Plot\"},\"ticker\":{\"id\":\"5117d56a-159d-4663-b57c-be78517e7e27\",\"type\":\"BasicTicker\"}},\"id\":\"8989d02a-06b3-41dd-99f3-94283eed3d38\",\"type\":\"LinearAxis\"},{\"attributes\":{},\"id\":\"1c12927c-63d9-491d-84d9-cfc93f81e04b\",\"type\":\"BasicTickFormatter\"},{\"attributes\":{\"bottom_units\":\"screen\",\"fill_alpha\":{\"value\":0.5},\"fill_color\":{\"value\":\"lightgrey\"},\"left_units\":\"screen\",\"level\":\"overlay\",\"line_alpha\":{\"value\":1.0},\"line_color\":{\"value\":\"black\"},\"line_dash\":[4,4],\"line_width\":{\"value\":2},\"plot\":null,\"render_mode\":\"css\",\"right_units\":\"screen\",\"top_units\":\"screen\"},\"id\":\"920b1eee-6928-4441-9843-5916ed7904b4\",\"type\":\"BoxAnnotation\"},{\"attributes\":{\"plot\":{\"id\":\"22ccfafa-ba5e-4102-be17-d14fd9b0a78c\",\"subtype\":\"Figure\",\"type\":\"Plot\"},\"ticker\":{\"id\":\"5117d56a-159d-4663-b57c-be78517e7e27\",\"type\":\"BasicTicker\"}},\"id\":\"04950e8c-571a-45b7-824a-bb3b7b84659e\",\"type\":\"Grid\"}],\"root_ids\":[\"22ccfafa-ba5e-4102-be17-d14fd9b0a78c\"]},\"title\":\"Bokeh Application\",\"version\":\"0.12.10\"}};\n",
       "    var render_items = [{\"docid\":\"7b8ccdbd-6304-4f9e-9e89-8bc9b7aa1238\",\"elementid\":\"9ff3cedf-0fca-4654-a2e3-3d9d193dff63\",\"modelid\":\"22ccfafa-ba5e-4102-be17-d14fd9b0a78c\"}];\n",
       "\n",
       "    root.Bokeh.embed.embed_items(docs_json, render_items);\n",
       "  }\n",
       "\n",
       "  if (root.Bokeh !== undefined) {\n",
       "    embed_document(root);\n",
       "  } else {\n",
       "    var attempts = 0;\n",
       "    var timer = setInterval(function(root) {\n",
       "      if (root.Bokeh !== undefined) {\n",
       "        embed_document(root);\n",
       "        clearInterval(timer);\n",
       "      }\n",
       "      attempts++;\n",
       "      if (attempts > 100) {\n",
       "        console.log(\"Bokeh: ERROR: Unable to embed document because BokehJS library is missing\")\n",
       "        clearInterval(timer);\n",
       "      }\n",
       "    }, 10, root)\n",
       "  }\n",
       "})(window);"
      ],
      "application/vnd.bokehjs_exec.v0+json": ""
     },
     "metadata": {
      "application/vnd.bokehjs_exec.v0+json": {
       "id": "22ccfafa-ba5e-4102-be17-d14fd9b0a78c"
      }
     },
     "output_type": "display_data"
    }
   ],
   "source": [
    "p=figure(plot_width=400,plot_height=400)\n",
    "\n",
    "#keep a reference to the returned GlyphyRenderer\n",
    "r=p.circle([1,2,3,4,5],[2,5,8,2,7])\n",
    "\n",
    "r.glyph.size=50\n",
    "r.glyph.fill_alpha=0.2\n",
    "r.glyph.line_color=\"firebrick\"\n",
    "r.glyph.line_dash=[9,1]\n",
    "\n",
    "r.glyph.line_width=2\n",
    "show(p)"
   ]
  },
  {
   "cell_type": "markdown",
   "metadata": {},
   "source": [
    "# Selection and non-selection visuals\n",
    "You can also control how glyphs look when there are selections involved. The set of \"selected\" points is displayed according to the optional .selection_glyph property of a GlyphRenderer:\n",
    "\n",
    "r.selection_glyph = Circle(fill_alpha=1, fill_color=\"firebrick\", line_color=None)\n",
    "When there is a non-empty selection, the set of \"unselected: points is displayed according to the optional .nonselection_glyph property of a GlyphRenderer:\n",
    "\n",
    "r.nonselection_glyph = Circle(fill_alpha=0.2, fill_color=\"grey\", line_color=None)\n",
    "When using the bokeh.plotting interface, it is easier to pass these visual properties to the glyph methods as shown below. The glyph method will create the selection or nonselection glyphs and attach them to the renderer for you."
   ]
  },
  {
   "cell_type": "code",
   "execution_count": 27,
   "metadata": {},
   "outputs": [
    {
     "data": {
      "text/html": [
       "\n",
       "<div class=\"bk-root\">\n",
       "    <div class=\"bk-plotdiv\" id=\"78219f1b-ad64-45b0-b35e-b06e83181f53\"></div>\n",
       "</div>"
      ]
     },
     "metadata": {},
     "output_type": "display_data"
    },
    {
     "data": {
      "application/javascript": [
       "(function(root) {\n",
       "  function embed_document(root) {\n",
       "    var docs_json = {\"5d3a6450-e80d-4528-9d8d-93ef3d5426b6\":{\"roots\":{\"references\":[{\"attributes\":{\"fill_alpha\":{\"value\":0.2},\"fill_color\":{\"value\":\"grey\"},\"line_color\":{\"value\":\"firebrick\"},\"size\":{\"units\":\"screen\",\"value\":50},\"x\":{\"field\":\"x\"},\"y\":{\"field\":\"y\"}},\"id\":\"9ab09eb8-fadc-4835-b811-edba0f2d407c\",\"type\":\"Circle\"},{\"attributes\":{},\"id\":\"e8db5de6-7ef0-401a-b756-0e865db97ca6\",\"type\":\"BasicTickFormatter\"},{\"attributes\":{\"active_drag\":\"auto\",\"active_inspect\":\"auto\",\"active_scroll\":\"auto\",\"active_tap\":\"auto\",\"tools\":[{\"id\":\"4b86870e-ccab-4c25-99c7-4b40fddf0ebf\",\"type\":\"TapTool\"}]},\"id\":\"1d7e8dd9-63ba-4a7a-9d85-96d4940fb866\",\"type\":\"Toolbar\"},{\"attributes\":{\"fill_color\":{\"value\":\"firebrick\"},\"line_color\":{\"value\":\"firebrick\"},\"size\":{\"units\":\"screen\",\"value\":50},\"x\":{\"field\":\"x\"},\"y\":{\"field\":\"y\"}},\"id\":\"c3604dc5-52fe-497a-8832-53395e9a3bd0\",\"type\":\"Circle\"},{\"attributes\":{\"callback\":null},\"id\":\"4e29f092-f1d6-4cd1-b95c-686b31ed70fa\",\"type\":\"DataRange1d\"},{\"attributes\":{\"data_source\":{\"id\":\"22eea801-c258-4845-a1a4-6d7e1eda366a\",\"type\":\"ColumnDataSource\"},\"glyph\":{\"id\":\"666dc4a2-6b55-4b1a-b9ae-72c5c745f6a7\",\"type\":\"Circle\"},\"hover_glyph\":null,\"muted_glyph\":null,\"nonselection_glyph\":{\"id\":\"9ab09eb8-fadc-4835-b811-edba0f2d407c\",\"type\":\"Circle\"},\"selection_glyph\":{\"id\":\"c3604dc5-52fe-497a-8832-53395e9a3bd0\",\"type\":\"Circle\"},\"view\":{\"id\":\"a2885cb9-9157-461d-bb28-c2d0c9bc96a8\",\"type\":\"CDSView\"}},\"id\":\"b0fa30b8-23bf-467c-9d15-36074ba4f4fd\",\"type\":\"GlyphRenderer\"},{\"attributes\":{},\"id\":\"d572053f-9289-41b1-99d3-991968c1b380\",\"type\":\"LinearScale\"},{\"attributes\":{},\"id\":\"9cab5c9c-10e9-4f02-a1e2-f37cbed4b6d6\",\"type\":\"BasicTickFormatter\"},{\"attributes\":{\"callback\":null},\"id\":\"519a314b-64a7-4d79-8895-927961c2fdee\",\"type\":\"DataRange1d\"},{\"attributes\":{\"source\":{\"id\":\"22eea801-c258-4845-a1a4-6d7e1eda366a\",\"type\":\"ColumnDataSource\"}},\"id\":\"a2885cb9-9157-461d-bb28-c2d0c9bc96a8\",\"type\":\"CDSView\"},{\"attributes\":{},\"id\":\"f8e4c8d8-9a6e-45f6-8614-4bdca51d3f56\",\"type\":\"LinearScale\"},{\"attributes\":{\"formatter\":{\"id\":\"e8db5de6-7ef0-401a-b756-0e865db97ca6\",\"type\":\"BasicTickFormatter\"},\"plot\":{\"id\":\"b0040b0b-8694-4fc6-b177-a6a2ed8d7ace\",\"subtype\":\"Figure\",\"type\":\"Plot\"},\"ticker\":{\"id\":\"a3b7eee8-519a-454e-801d-eb7cda4cd5c6\",\"type\":\"BasicTicker\"}},\"id\":\"1a6ea6b2-b2d2-40c1-912c-405972326996\",\"type\":\"LinearAxis\"},{\"attributes\":{\"callback\":null},\"id\":\"4b86870e-ccab-4c25-99c7-4b40fddf0ebf\",\"type\":\"TapTool\"},{\"attributes\":{\"plot\":{\"id\":\"b0040b0b-8694-4fc6-b177-a6a2ed8d7ace\",\"subtype\":\"Figure\",\"type\":\"Plot\"},\"ticker\":{\"id\":\"a3b7eee8-519a-454e-801d-eb7cda4cd5c6\",\"type\":\"BasicTicker\"}},\"id\":\"f049fee5-afda-4735-aef3-5e34be6cd971\",\"type\":\"Grid\"},{\"attributes\":{},\"id\":\"a3b7eee8-519a-454e-801d-eb7cda4cd5c6\",\"type\":\"BasicTicker\"},{\"attributes\":{\"formatter\":{\"id\":\"9cab5c9c-10e9-4f02-a1e2-f37cbed4b6d6\",\"type\":\"BasicTickFormatter\"},\"plot\":{\"id\":\"b0040b0b-8694-4fc6-b177-a6a2ed8d7ace\",\"subtype\":\"Figure\",\"type\":\"Plot\"},\"ticker\":{\"id\":\"83e81450-47a7-4361-b1ba-bb5828c5d7c5\",\"type\":\"BasicTicker\"}},\"id\":\"770377fe-70eb-406f-ba9f-533664f0a71d\",\"type\":\"LinearAxis\"},{\"attributes\":{\"fill_color\":{\"value\":\"#1f77b4\"},\"line_color\":{\"value\":\"#1f77b4\"},\"size\":{\"units\":\"screen\",\"value\":50},\"x\":{\"field\":\"x\"},\"y\":{\"field\":\"y\"}},\"id\":\"666dc4a2-6b55-4b1a-b9ae-72c5c745f6a7\",\"type\":\"Circle\"},{\"attributes\":{\"below\":[{\"id\":\"1a6ea6b2-b2d2-40c1-912c-405972326996\",\"type\":\"LinearAxis\"}],\"left\":[{\"id\":\"770377fe-70eb-406f-ba9f-533664f0a71d\",\"type\":\"LinearAxis\"}],\"plot_height\":400,\"plot_width\":400,\"renderers\":[{\"id\":\"1a6ea6b2-b2d2-40c1-912c-405972326996\",\"type\":\"LinearAxis\"},{\"id\":\"f049fee5-afda-4735-aef3-5e34be6cd971\",\"type\":\"Grid\"},{\"id\":\"770377fe-70eb-406f-ba9f-533664f0a71d\",\"type\":\"LinearAxis\"},{\"id\":\"df8a8a93-899f-4a7d-b976-fb15ae44b598\",\"type\":\"Grid\"},{\"id\":\"b0fa30b8-23bf-467c-9d15-36074ba4f4fd\",\"type\":\"GlyphRenderer\"}],\"title\":{\"id\":\"8dbdaa19-485a-4fb1-a6aa-16f66669ec67\",\"type\":\"Title\"},\"toolbar\":{\"id\":\"1d7e8dd9-63ba-4a7a-9d85-96d4940fb866\",\"type\":\"Toolbar\"},\"x_range\":{\"id\":\"4e29f092-f1d6-4cd1-b95c-686b31ed70fa\",\"type\":\"DataRange1d\"},\"x_scale\":{\"id\":\"d572053f-9289-41b1-99d3-991968c1b380\",\"type\":\"LinearScale\"},\"y_range\":{\"id\":\"519a314b-64a7-4d79-8895-927961c2fdee\",\"type\":\"DataRange1d\"},\"y_scale\":{\"id\":\"f8e4c8d8-9a6e-45f6-8614-4bdca51d3f56\",\"type\":\"LinearScale\"}},\"id\":\"b0040b0b-8694-4fc6-b177-a6a2ed8d7ace\",\"subtype\":\"Figure\",\"type\":\"Plot\"},{\"attributes\":{},\"id\":\"83e81450-47a7-4361-b1ba-bb5828c5d7c5\",\"type\":\"BasicTicker\"},{\"attributes\":{\"callback\":null,\"column_names\":[\"x\",\"y\"],\"data\":{\"x\":[1,2,3,4,5],\"y\":[2,5,8,2,7]}},\"id\":\"22eea801-c258-4845-a1a4-6d7e1eda366a\",\"type\":\"ColumnDataSource\"},{\"attributes\":{\"dimension\":1,\"plot\":{\"id\":\"b0040b0b-8694-4fc6-b177-a6a2ed8d7ace\",\"subtype\":\"Figure\",\"type\":\"Plot\"},\"ticker\":{\"id\":\"83e81450-47a7-4361-b1ba-bb5828c5d7c5\",\"type\":\"BasicTicker\"}},\"id\":\"df8a8a93-899f-4a7d-b976-fb15ae44b598\",\"type\":\"Grid\"},{\"attributes\":{\"plot\":null,\"text\":\"Select a Cicle\"},\"id\":\"8dbdaa19-485a-4fb1-a6aa-16f66669ec67\",\"type\":\"Title\"}],\"root_ids\":[\"b0040b0b-8694-4fc6-b177-a6a2ed8d7ace\"]},\"title\":\"Bokeh Application\",\"version\":\"0.12.10\"}};\n",
       "    var render_items = [{\"docid\":\"5d3a6450-e80d-4528-9d8d-93ef3d5426b6\",\"elementid\":\"78219f1b-ad64-45b0-b35e-b06e83181f53\",\"modelid\":\"b0040b0b-8694-4fc6-b177-a6a2ed8d7ace\"}];\n",
       "\n",
       "    root.Bokeh.embed.embed_items(docs_json, render_items);\n",
       "  }\n",
       "\n",
       "  if (root.Bokeh !== undefined) {\n",
       "    embed_document(root);\n",
       "  } else {\n",
       "    var attempts = 0;\n",
       "    var timer = setInterval(function(root) {\n",
       "      if (root.Bokeh !== undefined) {\n",
       "        embed_document(root);\n",
       "        clearInterval(timer);\n",
       "      }\n",
       "      attempts++;\n",
       "      if (attempts > 100) {\n",
       "        console.log(\"Bokeh: ERROR: Unable to embed document because BokehJS library is missing\")\n",
       "        clearInterval(timer);\n",
       "      }\n",
       "    }, 10, root)\n",
       "  }\n",
       "})(window);"
      ],
      "application/vnd.bokehjs_exec.v0+json": ""
     },
     "metadata": {
      "application/vnd.bokehjs_exec.v0+json": {
       "id": "b0040b0b-8694-4fc6-b177-a6a2ed8d7ace"
      }
     },
     "output_type": "display_data"
    }
   ],
   "source": [
    "p=figure(plot_width=400,plot_height=400, tools=\"tap\",title=\"Select a Cicle\")\n",
    "\n",
    "#Selections and nonselections styles \n",
    "renderer=p.circle([1,2,3,4,5],[2,5,8,2,7],size=50,\n",
    "                 #set visual properties for selected glyphs\n",
    "                 selection_color=\"firebrick\",\n",
    "                 \n",
    "                 #set visual properties for non-selected glyphs\n",
    "                 nonselection_fill_alpha=.2,\n",
    "                 nonselection_fill_color=\"grey\",\n",
    "                 nonselection_line_color=\"firebrick\",\n",
    "                 nonselection_line_alpha=1.0)\n",
    "\n",
    "\n",
    "show(p)\n"
   ]
  },
  {
   "cell_type": "markdown",
   "metadata": {},
   "source": [
    "It is also possible to specify the visual appearance of glyphs when they are \"inspected\", e.g. by a hover tool. This is accomplished by setting an optional hover_glyph on the glyph renderer:\n",
    "\n",
    "r.hover_glyph = Circle(fill_alpha=1, fill_color=\"firebrick\", line_color=None)\n",
    "Or if using bokeh.plotting glyph methods, by passing hover_fill_alpha, etc. to the glyph method. Lets look at an example that works together with a HoverTool configured for \"hline\" hit-testing.\n",
    "\n"
   ]
  },
  {
   "cell_type": "code",
   "execution_count": 28,
   "metadata": {},
   "outputs": [],
   "source": [
    "from bokeh.models.tools import HoverTool\n",
    "from bokeh.sampledata.glucose import data\n",
    "\n",
    "subset=data.loc['2010-10-06']\n",
    "x,y=subset.index.to_series(),subset['glucose']"
   ]
  },
  {
   "cell_type": "code",
   "execution_count": 31,
   "metadata": {},
   "outputs": [
    {
     "data": {
      "text/html": [
       "<div>\n",
       "<style scoped>\n",
       "    .dataframe tbody tr th:only-of-type {\n",
       "        vertical-align: middle;\n",
       "    }\n",
       "\n",
       "    .dataframe tbody tr th {\n",
       "        vertical-align: top;\n",
       "    }\n",
       "\n",
       "    .dataframe thead th {\n",
       "        text-align: right;\n",
       "    }\n",
       "</style>\n",
       "<table border=\"1\" class=\"dataframe\">\n",
       "  <thead>\n",
       "    <tr style=\"text-align: right;\">\n",
       "      <th></th>\n",
       "      <th>isig</th>\n",
       "      <th>glucose</th>\n",
       "    </tr>\n",
       "    <tr>\n",
       "      <th>datetime</th>\n",
       "      <th></th>\n",
       "      <th></th>\n",
       "    </tr>\n",
       "  </thead>\n",
       "  <tbody>\n",
       "    <tr>\n",
       "      <th>2010-10-06 00:03:00</th>\n",
       "      <td>20.12</td>\n",
       "      <td>143</td>\n",
       "    </tr>\n",
       "    <tr>\n",
       "      <th>2010-10-06 00:08:00</th>\n",
       "      <td>20.84</td>\n",
       "      <td>147</td>\n",
       "    </tr>\n",
       "    <tr>\n",
       "      <th>2010-10-06 00:13:00</th>\n",
       "      <td>20.88</td>\n",
       "      <td>150</td>\n",
       "    </tr>\n",
       "    <tr>\n",
       "      <th>2010-10-06 00:18:00</th>\n",
       "      <td>20.9</td>\n",
       "      <td>152</td>\n",
       "    </tr>\n",
       "    <tr>\n",
       "      <th>2010-10-06 00:23:00</th>\n",
       "      <td>20.84</td>\n",
       "      <td>152</td>\n",
       "    </tr>\n",
       "  </tbody>\n",
       "</table>\n",
       "</div>"
      ],
      "text/plain": [
       "                      isig  glucose\n",
       "datetime                           \n",
       "2010-10-06 00:03:00  20.12      143\n",
       "2010-10-06 00:08:00  20.84      147\n",
       "2010-10-06 00:13:00  20.88      150\n",
       "2010-10-06 00:18:00   20.9      152\n",
       "2010-10-06 00:23:00  20.84      152"
      ]
     },
     "execution_count": 31,
     "metadata": {},
     "output_type": "execute_result"
    }
   ],
   "source": [
    "subset.head()"
   ]
  },
  {
   "cell_type": "code",
   "execution_count": null,
   "metadata": {},
   "outputs": [],
   "source": []
  }
 ],
 "metadata": {
  "kernelspec": {
   "display_name": "Python [conda root]",
   "language": "python",
   "name": "conda-root-py"
  },
  "language_info": {
   "codemirror_mode": {
    "name": "ipython",
    "version": 3
   },
   "file_extension": ".py",
   "mimetype": "text/x-python",
   "name": "python",
   "nbconvert_exporter": "python",
   "pygments_lexer": "ipython3",
   "version": "3.6.3"
  }
 },
 "nbformat": 4,
 "nbformat_minor": 2
}
