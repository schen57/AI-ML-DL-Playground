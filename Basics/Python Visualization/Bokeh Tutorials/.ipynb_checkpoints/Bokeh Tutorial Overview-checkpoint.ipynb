{
 "cells": [
  {
   "cell_type": "markdown",
   "metadata": {},
   "source": [
    "# What is Bokeh\n",
    "Bokeh is an interactive visualization library that targets modern web browsers for presentation. It is good for:\n",
    "1. interactive visualization in modern browsers\n",
    "2. Standalone HTML documents or server-backed apps\n",
    "3. Expressive and versatile graphics\n",
    "4. Large dynamic or streaming data\n",
    "5. Easy usage from python (scala, r or more)"
   ]
  },
  {
   "cell_type": "code",
   "execution_count": null,
   "metadata": {},
   "outputs": [],
   "source": []
  }
 ],
 "metadata": {
  "kernelspec": {
   "display_name": "Python [conda root]",
   "language": "python",
   "name": "conda-root-py"
  },
  "language_info": {
   "codemirror_mode": {
    "name": "ipython",
    "version": 3
   },
   "file_extension": ".py",
   "mimetype": "text/x-python",
   "name": "python",
   "nbconvert_exporter": "python",
   "pygments_lexer": "ipython3",
   "version": "3.6.3"
  }
 },
 "nbformat": 4,
 "nbformat_minor": 2
}
