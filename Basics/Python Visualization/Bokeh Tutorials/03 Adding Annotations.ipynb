{
 "cells": [
  {
   "cell_type": "markdown",
   "metadata": {},
   "source": [
    "# Adding annotations"
   ]
  },
  {
   "cell_type": "code",
   "execution_count": 1,
   "metadata": {},
   "outputs": [],
   "source": [
    "from bokeh.io import output_notebook, show\n",
    "from bokeh.plotting import figure"
   ]
  },
  {
   "cell_type": "code",
   "execution_count": 2,
   "metadata": {},
   "outputs": [
    {
     "data": {
      "text/html": [
       "\n",
       "    <div class=\"bk-root\">\n",
       "        <a href=\"https://bokeh.pydata.org\" target=\"_blank\" class=\"bk-logo bk-logo-small bk-logo-notebook\"></a>\n",
       "        <span id=\"31d8230c-7cff-40fb-bcc4-e1e0ba23b9d9\">Loading BokehJS ...</span>\n",
       "    </div>"
      ]
     },
     "metadata": {},
     "output_type": "display_data"
    },
    {
     "data": {
      "application/javascript": [
       "\n",
       "(function(root) {\n",
       "  function now() {\n",
       "    return new Date();\n",
       "  }\n",
       "\n",
       "  var force = true;\n",
       "\n",
       "  if (typeof (root._bokeh_onload_callbacks) === \"undefined\" || force === true) {\n",
       "    root._bokeh_onload_callbacks = [];\n",
       "    root._bokeh_is_loading = undefined;\n",
       "  }\n",
       "\n",
       "  var JS_MIME_TYPE = 'application/javascript';\n",
       "  var HTML_MIME_TYPE = 'text/html';\n",
       "  var EXEC_MIME_TYPE = 'application/vnd.bokehjs_exec.v0+json';\n",
       "  var CLASS_NAME = 'output_bokeh rendered_html';\n",
       "\n",
       "  /**\n",
       "   * Render data to the DOM node\n",
       "   */\n",
       "  function render(props, node) {\n",
       "    var script = document.createElement(\"script\");\n",
       "    node.appendChild(script);\n",
       "  }\n",
       "\n",
       "  /**\n",
       "   * Handle when an output is cleared or removed\n",
       "   */\n",
       "  function handleClearOutput(event, handle) {\n",
       "    var cell = handle.cell;\n",
       "\n",
       "    var id = cell.output_area._bokeh_element_id;\n",
       "    var server_id = cell.output_area._bokeh_server_id;\n",
       "    // Clean up Bokeh references\n",
       "    if (id !== undefined) {\n",
       "      Bokeh.index[id].model.document.clear();\n",
       "      delete Bokeh.index[id];\n",
       "    }\n",
       "\n",
       "    if (server_id !== undefined) {\n",
       "      // Clean up Bokeh references\n",
       "      var cmd = \"from bokeh.io.state import curstate; print(curstate().uuid_to_server['\" + server_id + \"'].get_sessions()[0].document.roots[0]._id)\";\n",
       "      cell.notebook.kernel.execute(cmd, {\n",
       "        iopub: {\n",
       "          output: function(msg) {\n",
       "            var element_id = msg.content.text.trim();\n",
       "            Bokeh.index[element_id].model.document.clear();\n",
       "            delete Bokeh.index[element_id];\n",
       "          }\n",
       "        }\n",
       "      });\n",
       "      // Destroy server and session\n",
       "      var cmd = \"import bokeh.io.notebook as ion; ion.destroy_server('\" + server_id + \"')\";\n",
       "      cell.notebook.kernel.execute(cmd);\n",
       "    }\n",
       "  }\n",
       "\n",
       "  /**\n",
       "   * Handle when a new output is added\n",
       "   */\n",
       "  function handleAddOutput(event, handle) {\n",
       "    var output_area = handle.output_area;\n",
       "    var output = handle.output;\n",
       "\n",
       "    // limit handleAddOutput to display_data with EXEC_MIME_TYPE content only\n",
       "    if ((output.output_type != \"display_data\") || (!output.data.hasOwnProperty(EXEC_MIME_TYPE))) {\n",
       "      return\n",
       "    }\n",
       "\n",
       "    var toinsert = output_area.element.find(`.${CLASS_NAME.split(' ')[0]}`);\n",
       "\n",
       "    if (output.metadata[EXEC_MIME_TYPE][\"id\"] !== undefined) {\n",
       "      toinsert[0].firstChild.textContent = output.data[JS_MIME_TYPE];\n",
       "      // store reference to embed id on output_area\n",
       "      output_area._bokeh_element_id = output.metadata[EXEC_MIME_TYPE][\"id\"];\n",
       "    }\n",
       "    if (output.metadata[EXEC_MIME_TYPE][\"server_id\"] !== undefined) {\n",
       "      var bk_div = document.createElement(\"div\");\n",
       "      bk_div.innerHTML = output.data[HTML_MIME_TYPE];\n",
       "      var script_attrs = bk_div.children[0].attributes;\n",
       "      for (var i = 0; i < script_attrs.length; i++) {\n",
       "        toinsert[0].firstChild.setAttribute(script_attrs[i].name, script_attrs[i].value);\n",
       "      }\n",
       "      // store reference to server id on output_area\n",
       "      output_area._bokeh_server_id = output.metadata[EXEC_MIME_TYPE][\"server_id\"];\n",
       "    }\n",
       "  }\n",
       "\n",
       "  function register_renderer(events, OutputArea) {\n",
       "\n",
       "    function append_mime(data, metadata, element) {\n",
       "      // create a DOM node to render to\n",
       "      var toinsert = this.create_output_subarea(\n",
       "        metadata,\n",
       "        CLASS_NAME,\n",
       "        EXEC_MIME_TYPE\n",
       "      );\n",
       "      this.keyboard_manager.register_events(toinsert);\n",
       "      // Render to node\n",
       "      var props = {data: data, metadata: metadata[EXEC_MIME_TYPE]};\n",
       "      render(props, toinsert[0]);\n",
       "      element.append(toinsert);\n",
       "      return toinsert\n",
       "    }\n",
       "\n",
       "    /* Handle when an output is cleared or removed */\n",
       "    events.on('clear_output.CodeCell', handleClearOutput);\n",
       "    events.on('delete.Cell', handleClearOutput);\n",
       "\n",
       "    /* Handle when a new output is added */\n",
       "    events.on('output_added.OutputArea', handleAddOutput);\n",
       "\n",
       "    /**\n",
       "     * Register the mime type and append_mime function with output_area\n",
       "     */\n",
       "    OutputArea.prototype.register_mime_type(EXEC_MIME_TYPE, append_mime, {\n",
       "      /* Is output safe? */\n",
       "      safe: true,\n",
       "      /* Index of renderer in `output_area.display_order` */\n",
       "      index: 0\n",
       "    });\n",
       "  }\n",
       "\n",
       "  // register the mime type if in Jupyter Notebook environment and previously unregistered\n",
       "  if (root.Jupyter !== undefined) {\n",
       "    var events = require('base/js/events');\n",
       "    var OutputArea = require('notebook/js/outputarea').OutputArea;\n",
       "\n",
       "    if (OutputArea.prototype.mime_types().indexOf(EXEC_MIME_TYPE) == -1) {\n",
       "      register_renderer(events, OutputArea);\n",
       "    }\n",
       "  }\n",
       "\n",
       "  \n",
       "  if (typeof (root._bokeh_timeout) === \"undefined\" || force === true) {\n",
       "    root._bokeh_timeout = Date.now() + 5000;\n",
       "    root._bokeh_failed_load = false;\n",
       "  }\n",
       "\n",
       "  var NB_LOAD_WARNING = {'data': {'text/html':\n",
       "     \"<div style='background-color: #fdd'>\\n\"+\n",
       "     \"<p>\\n\"+\n",
       "     \"BokehJS does not appear to have successfully loaded. If loading BokehJS from CDN, this \\n\"+\n",
       "     \"may be due to a slow or bad network connection. Possible fixes:\\n\"+\n",
       "     \"</p>\\n\"+\n",
       "     \"<ul>\\n\"+\n",
       "     \"<li>re-rerun `output_notebook()` to attempt to load from CDN again, or</li>\\n\"+\n",
       "     \"<li>use INLINE resources instead, as so:</li>\\n\"+\n",
       "     \"</ul>\\n\"+\n",
       "     \"<code>\\n\"+\n",
       "     \"from bokeh.resources import INLINE\\n\"+\n",
       "     \"output_notebook(resources=INLINE)\\n\"+\n",
       "     \"</code>\\n\"+\n",
       "     \"</div>\"}};\n",
       "\n",
       "  function display_loaded() {\n",
       "    var el = document.getElementById(\"31d8230c-7cff-40fb-bcc4-e1e0ba23b9d9\");\n",
       "    if (el != null) {\n",
       "      el.textContent = \"BokehJS is loading...\";\n",
       "    }\n",
       "    if (root.Bokeh !== undefined) {\n",
       "      if (el != null) {\n",
       "        el.textContent = \"BokehJS \" + root.Bokeh.version + \" successfully loaded.\";\n",
       "      }\n",
       "    } else if (Date.now() < root._bokeh_timeout) {\n",
       "      setTimeout(display_loaded, 100)\n",
       "    }\n",
       "  }\n",
       "\n",
       "\n",
       "  function run_callbacks() {\n",
       "    try {\n",
       "      root._bokeh_onload_callbacks.forEach(function(callback) { callback() });\n",
       "    }\n",
       "    finally {\n",
       "      delete root._bokeh_onload_callbacks\n",
       "    }\n",
       "    console.info(\"Bokeh: all callbacks have finished\");\n",
       "  }\n",
       "\n",
       "  function load_libs(js_urls, callback) {\n",
       "    root._bokeh_onload_callbacks.push(callback);\n",
       "    if (root._bokeh_is_loading > 0) {\n",
       "      console.log(\"Bokeh: BokehJS is being loaded, scheduling callback at\", now());\n",
       "      return null;\n",
       "    }\n",
       "    if (js_urls == null || js_urls.length === 0) {\n",
       "      run_callbacks();\n",
       "      return null;\n",
       "    }\n",
       "    console.log(\"Bokeh: BokehJS not loaded, scheduling load and callback at\", now());\n",
       "    root._bokeh_is_loading = js_urls.length;\n",
       "    for (var i = 0; i < js_urls.length; i++) {\n",
       "      var url = js_urls[i];\n",
       "      var s = document.createElement('script');\n",
       "      s.src = url;\n",
       "      s.async = false;\n",
       "      s.onreadystatechange = s.onload = function() {\n",
       "        root._bokeh_is_loading--;\n",
       "        if (root._bokeh_is_loading === 0) {\n",
       "          console.log(\"Bokeh: all BokehJS libraries loaded\");\n",
       "          run_callbacks()\n",
       "        }\n",
       "      };\n",
       "      s.onerror = function() {\n",
       "        console.warn(\"failed to load library \" + url);\n",
       "      };\n",
       "      console.log(\"Bokeh: injecting script tag for BokehJS library: \", url);\n",
       "      document.getElementsByTagName(\"head\")[0].appendChild(s);\n",
       "    }\n",
       "  };var element = document.getElementById(\"31d8230c-7cff-40fb-bcc4-e1e0ba23b9d9\");\n",
       "  if (element == null) {\n",
       "    console.log(\"Bokeh: ERROR: autoload.js configured with elementid '31d8230c-7cff-40fb-bcc4-e1e0ba23b9d9' but no matching script tag was found. \")\n",
       "    return false;\n",
       "  }\n",
       "\n",
       "  var js_urls = [\"https://cdn.pydata.org/bokeh/release/bokeh-0.12.10.min.js\", \"https://cdn.pydata.org/bokeh/release/bokeh-widgets-0.12.10.min.js\", \"https://cdn.pydata.org/bokeh/release/bokeh-tables-0.12.10.min.js\", \"https://cdn.pydata.org/bokeh/release/bokeh-gl-0.12.10.min.js\"];\n",
       "\n",
       "  var inline_js = [\n",
       "    function(Bokeh) {\n",
       "      Bokeh.set_log_level(\"info\");\n",
       "    },\n",
       "    \n",
       "    function(Bokeh) {\n",
       "      \n",
       "    },\n",
       "    function(Bokeh) {\n",
       "      console.log(\"Bokeh: injecting CSS: https://cdn.pydata.org/bokeh/release/bokeh-0.12.10.min.css\");\n",
       "      Bokeh.embed.inject_css(\"https://cdn.pydata.org/bokeh/release/bokeh-0.12.10.min.css\");\n",
       "      console.log(\"Bokeh: injecting CSS: https://cdn.pydata.org/bokeh/release/bokeh-widgets-0.12.10.min.css\");\n",
       "      Bokeh.embed.inject_css(\"https://cdn.pydata.org/bokeh/release/bokeh-widgets-0.12.10.min.css\");\n",
       "      console.log(\"Bokeh: injecting CSS: https://cdn.pydata.org/bokeh/release/bokeh-tables-0.12.10.min.css\");\n",
       "      Bokeh.embed.inject_css(\"https://cdn.pydata.org/bokeh/release/bokeh-tables-0.12.10.min.css\");\n",
       "    }\n",
       "  ];\n",
       "\n",
       "  function run_inline_js() {\n",
       "    \n",
       "    if ((root.Bokeh !== undefined) || (force === true)) {\n",
       "      for (var i = 0; i < inline_js.length; i++) {\n",
       "        inline_js[i].call(root, root.Bokeh);\n",
       "      }if (force === true) {\n",
       "        display_loaded();\n",
       "      }} else if (Date.now() < root._bokeh_timeout) {\n",
       "      setTimeout(run_inline_js, 100);\n",
       "    } else if (!root._bokeh_failed_load) {\n",
       "      console.log(\"Bokeh: BokehJS failed to load within specified timeout.\");\n",
       "      root._bokeh_failed_load = true;\n",
       "    } else if (force !== true) {\n",
       "      var cell = $(document.getElementById(\"31d8230c-7cff-40fb-bcc4-e1e0ba23b9d9\")).parents('.cell').data().cell;\n",
       "      cell.output_area.append_execute_result(NB_LOAD_WARNING)\n",
       "    }\n",
       "\n",
       "  }\n",
       "\n",
       "  if (root._bokeh_is_loading === 0) {\n",
       "    console.log(\"Bokeh: BokehJS loaded, going straight to plotting\");\n",
       "    run_inline_js();\n",
       "  } else {\n",
       "    load_libs(js_urls, function() {\n",
       "      console.log(\"Bokeh: BokehJS plotting callback run at\", now());\n",
       "      run_inline_js();\n",
       "    });\n",
       "  }\n",
       "}(window));"
      ],
      "application/vnd.bokehjs_load.v0+json": "\n(function(root) {\n  function now() {\n    return new Date();\n  }\n\n  var force = true;\n\n  if (typeof (root._bokeh_onload_callbacks) === \"undefined\" || force === true) {\n    root._bokeh_onload_callbacks = [];\n    root._bokeh_is_loading = undefined;\n  }\n\n  \n\n  \n  if (typeof (root._bokeh_timeout) === \"undefined\" || force === true) {\n    root._bokeh_timeout = Date.now() + 5000;\n    root._bokeh_failed_load = false;\n  }\n\n  var NB_LOAD_WARNING = {'data': {'text/html':\n     \"<div style='background-color: #fdd'>\\n\"+\n     \"<p>\\n\"+\n     \"BokehJS does not appear to have successfully loaded. If loading BokehJS from CDN, this \\n\"+\n     \"may be due to a slow or bad network connection. Possible fixes:\\n\"+\n     \"</p>\\n\"+\n     \"<ul>\\n\"+\n     \"<li>re-rerun `output_notebook()` to attempt to load from CDN again, or</li>\\n\"+\n     \"<li>use INLINE resources instead, as so:</li>\\n\"+\n     \"</ul>\\n\"+\n     \"<code>\\n\"+\n     \"from bokeh.resources import INLINE\\n\"+\n     \"output_notebook(resources=INLINE)\\n\"+\n     \"</code>\\n\"+\n     \"</div>\"}};\n\n  function display_loaded() {\n    var el = document.getElementById(\"31d8230c-7cff-40fb-bcc4-e1e0ba23b9d9\");\n    if (el != null) {\n      el.textContent = \"BokehJS is loading...\";\n    }\n    if (root.Bokeh !== undefined) {\n      if (el != null) {\n        el.textContent = \"BokehJS \" + root.Bokeh.version + \" successfully loaded.\";\n      }\n    } else if (Date.now() < root._bokeh_timeout) {\n      setTimeout(display_loaded, 100)\n    }\n  }\n\n\n  function run_callbacks() {\n    try {\n      root._bokeh_onload_callbacks.forEach(function(callback) { callback() });\n    }\n    finally {\n      delete root._bokeh_onload_callbacks\n    }\n    console.info(\"Bokeh: all callbacks have finished\");\n  }\n\n  function load_libs(js_urls, callback) {\n    root._bokeh_onload_callbacks.push(callback);\n    if (root._bokeh_is_loading > 0) {\n      console.log(\"Bokeh: BokehJS is being loaded, scheduling callback at\", now());\n      return null;\n    }\n    if (js_urls == null || js_urls.length === 0) {\n      run_callbacks();\n      return null;\n    }\n    console.log(\"Bokeh: BokehJS not loaded, scheduling load and callback at\", now());\n    root._bokeh_is_loading = js_urls.length;\n    for (var i = 0; i < js_urls.length; i++) {\n      var url = js_urls[i];\n      var s = document.createElement('script');\n      s.src = url;\n      s.async = false;\n      s.onreadystatechange = s.onload = function() {\n        root._bokeh_is_loading--;\n        if (root._bokeh_is_loading === 0) {\n          console.log(\"Bokeh: all BokehJS libraries loaded\");\n          run_callbacks()\n        }\n      };\n      s.onerror = function() {\n        console.warn(\"failed to load library \" + url);\n      };\n      console.log(\"Bokeh: injecting script tag for BokehJS library: \", url);\n      document.getElementsByTagName(\"head\")[0].appendChild(s);\n    }\n  };var element = document.getElementById(\"31d8230c-7cff-40fb-bcc4-e1e0ba23b9d9\");\n  if (element == null) {\n    console.log(\"Bokeh: ERROR: autoload.js configured with elementid '31d8230c-7cff-40fb-bcc4-e1e0ba23b9d9' but no matching script tag was found. \")\n    return false;\n  }\n\n  var js_urls = [\"https://cdn.pydata.org/bokeh/release/bokeh-0.12.10.min.js\", \"https://cdn.pydata.org/bokeh/release/bokeh-widgets-0.12.10.min.js\", \"https://cdn.pydata.org/bokeh/release/bokeh-tables-0.12.10.min.js\", \"https://cdn.pydata.org/bokeh/release/bokeh-gl-0.12.10.min.js\"];\n\n  var inline_js = [\n    function(Bokeh) {\n      Bokeh.set_log_level(\"info\");\n    },\n    \n    function(Bokeh) {\n      \n    },\n    function(Bokeh) {\n      console.log(\"Bokeh: injecting CSS: https://cdn.pydata.org/bokeh/release/bokeh-0.12.10.min.css\");\n      Bokeh.embed.inject_css(\"https://cdn.pydata.org/bokeh/release/bokeh-0.12.10.min.css\");\n      console.log(\"Bokeh: injecting CSS: https://cdn.pydata.org/bokeh/release/bokeh-widgets-0.12.10.min.css\");\n      Bokeh.embed.inject_css(\"https://cdn.pydata.org/bokeh/release/bokeh-widgets-0.12.10.min.css\");\n      console.log(\"Bokeh: injecting CSS: https://cdn.pydata.org/bokeh/release/bokeh-tables-0.12.10.min.css\");\n      Bokeh.embed.inject_css(\"https://cdn.pydata.org/bokeh/release/bokeh-tables-0.12.10.min.css\");\n    }\n  ];\n\n  function run_inline_js() {\n    \n    if ((root.Bokeh !== undefined) || (force === true)) {\n      for (var i = 0; i < inline_js.length; i++) {\n        inline_js[i].call(root, root.Bokeh);\n      }if (force === true) {\n        display_loaded();\n      }} else if (Date.now() < root._bokeh_timeout) {\n      setTimeout(run_inline_js, 100);\n    } else if (!root._bokeh_failed_load) {\n      console.log(\"Bokeh: BokehJS failed to load within specified timeout.\");\n      root._bokeh_failed_load = true;\n    } else if (force !== true) {\n      var cell = $(document.getElementById(\"31d8230c-7cff-40fb-bcc4-e1e0ba23b9d9\")).parents('.cell').data().cell;\n      cell.output_area.append_execute_result(NB_LOAD_WARNING)\n    }\n\n  }\n\n  if (root._bokeh_is_loading === 0) {\n    console.log(\"Bokeh: BokehJS loaded, going straight to plotting\");\n    run_inline_js();\n  } else {\n    load_libs(js_urls, function() {\n      console.log(\"Bokeh: BokehJS plotting callback run at\", now());\n      run_inline_js();\n    });\n  }\n}(window));"
     },
     "metadata": {},
     "output_type": "display_data"
    }
   ],
   "source": [
    "output_notebook()"
   ]
  },
  {
   "cell_type": "markdown",
   "metadata": {},
   "source": [
    "# Overview\n",
    "Sometimes we want to add visual cues (boundary lines, shaded regions, labels and arrows, etc.) to our plots to call out some feature or other. Bokeh has several annotation types available for uses like this. Typically to add annotations we create the \"low level\" annotation object directly, and add it to our Plot, Figure or Chart using add_layout. Let's take a look at some specific examples.\n",
    "\n",
    "# Spans\n",
    "Spans are \"infinite\" vertical or horizonal lines. When creating them, you specify the dimension that should be spanned (i.e., width or height), any visual line properties for the appearance, and the location along the dimension where the line should be drawn. Let's look at an example that adds two horizontal spans to a simple plot:"
   ]
  },
  {
   "cell_type": "code",
   "execution_count": 7,
   "metadata": {},
   "outputs": [
    {
     "data": {
      "text/html": [
       "\n",
       "<div class=\"bk-root\">\n",
       "    <div class=\"bk-plotdiv\" id=\"28f8c1b7-f1e4-4893-b39b-109666326845\"></div>\n",
       "</div>"
      ]
     },
     "metadata": {},
     "output_type": "display_data"
    },
    {
     "data": {
      "application/javascript": [
       "(function(root) {\n",
       "  function embed_document(root) {\n",
       "    var docs_json = {\"f4244f61-9d86-4894-8f15-678d08c4a71f\":{\"roots\":{\"references\":[{\"attributes\":{\"data_source\":{\"id\":\"a5eb841b-1a20-4997-96c6-a7496a242c85\",\"type\":\"ColumnDataSource\"},\"glyph\":{\"id\":\"82b88cc1-f161-48d3-a717-a6e67726be78\",\"type\":\"Line\"},\"hover_glyph\":null,\"muted_glyph\":null,\"nonselection_glyph\":{\"id\":\"71fbc4fd-6d7c-412e-9658-020ed48b4666\",\"type\":\"Line\"},\"selection_glyph\":null,\"view\":{\"id\":\"0f3849e6-fb64-445e-89d7-08e7e93daeba\",\"type\":\"CDSView\"}},\"id\":\"6608daa4-4e84-4ddf-a278-8cbb4b41180c\",\"type\":\"GlyphRenderer\"},{\"attributes\":{},\"id\":\"d0d73c8f-cd19-4a0c-b05f-177bfd8fcb53\",\"type\":\"PanTool\"},{\"attributes\":{\"active_drag\":\"auto\",\"active_inspect\":\"auto\",\"active_scroll\":\"auto\",\"active_tap\":\"auto\",\"tools\":[{\"id\":\"d0d73c8f-cd19-4a0c-b05f-177bfd8fcb53\",\"type\":\"PanTool\"},{\"id\":\"9162f1ec-0f5f-4f2a-974d-4466c0e8c5a9\",\"type\":\"WheelZoomTool\"},{\"id\":\"da2e6d9f-ea7c-462c-8654-c02ddad982a2\",\"type\":\"BoxZoomTool\"},{\"id\":\"9226504c-28af-4486-9679-1b8b420c1120\",\"type\":\"SaveTool\"},{\"id\":\"3088114b-b69f-431c-82b0-d108db2a7acb\",\"type\":\"ResetTool\"},{\"id\":\"07f84ffe-155c-4428-b691-e6920c58919f\",\"type\":\"HelpTool\"}]},\"id\":\"1169b66e-351e-47d9-90f7-490ef6e2dbaa\",\"type\":\"Toolbar\"},{\"attributes\":{\"bottom_units\":\"screen\",\"fill_alpha\":{\"value\":0.5},\"fill_color\":{\"value\":\"lightgrey\"},\"left_units\":\"screen\",\"level\":\"overlay\",\"line_alpha\":{\"value\":1.0},\"line_color\":{\"value\":\"black\"},\"line_dash\":[4,4],\"line_width\":{\"value\":2},\"plot\":null,\"render_mode\":\"css\",\"right_units\":\"screen\",\"top_units\":\"screen\"},\"id\":\"4e43091a-9d56-4e42-9124-8e6de9c0cb5d\",\"type\":\"BoxAnnotation\"},{\"attributes\":{\"below\":[{\"id\":\"aa050db6-38fc-4fa8-96be-dd6d08e0dad6\",\"type\":\"LinearAxis\"}],\"left\":[{\"id\":\"7dc4cbc1-6213-4c58-b8d3-218bbd6145bf\",\"type\":\"LinearAxis\"}],\"renderers\":[{\"id\":\"aa050db6-38fc-4fa8-96be-dd6d08e0dad6\",\"type\":\"LinearAxis\"},{\"id\":\"8c45612c-dbc1-4ad6-9eb2-0534d7a39c88\",\"type\":\"Grid\"},{\"id\":\"7dc4cbc1-6213-4c58-b8d3-218bbd6145bf\",\"type\":\"LinearAxis\"},{\"id\":\"1acc5225-5539-4bdd-a324-8114c9e5545d\",\"type\":\"Grid\"},{\"id\":\"4e43091a-9d56-4e42-9124-8e6de9c0cb5d\",\"type\":\"BoxAnnotation\"},{\"id\":\"6608daa4-4e84-4ddf-a278-8cbb4b41180c\",\"type\":\"GlyphRenderer\"},{\"id\":\"d54f18c9-55aa-4a3f-912f-bbeb668c49dd\",\"type\":\"Span\"},{\"id\":\"9f368f1c-0a6c-4bb6-b9f9-4ff064b31576\",\"type\":\"Span\"}],\"title\":{\"id\":\"ac1c5125-176d-403b-a466-c486ba6b54bf\",\"type\":\"Title\"},\"toolbar\":{\"id\":\"1169b66e-351e-47d9-90f7-490ef6e2dbaa\",\"type\":\"Toolbar\"},\"x_range\":{\"id\":\"202a41ef-2f06-4937-a66e-f69e96410494\",\"type\":\"DataRange1d\"},\"x_scale\":{\"id\":\"18d5e210-020b-4084-a32a-c8d3625698f2\",\"type\":\"LinearScale\"},\"y_range\":{\"id\":\"b363f642-401b-4538-94ea-ad97c4929b73\",\"type\":\"Range1d\"},\"y_scale\":{\"id\":\"64bed74f-e960-4a15-8537-b9aa4fb049c8\",\"type\":\"LinearScale\"}},\"id\":\"95816a0c-f7aa-4998-b769-df2f452f2072\",\"subtype\":\"Figure\",\"type\":\"Plot\"},{\"attributes\":{},\"id\":\"9162f1ec-0f5f-4f2a-974d-4466c0e8c5a9\",\"type\":\"WheelZoomTool\"},{\"attributes\":{\"callback\":null},\"id\":\"202a41ef-2f06-4937-a66e-f69e96410494\",\"type\":\"DataRange1d\"},{\"attributes\":{\"overlay\":{\"id\":\"4e43091a-9d56-4e42-9124-8e6de9c0cb5d\",\"type\":\"BoxAnnotation\"}},\"id\":\"da2e6d9f-ea7c-462c-8654-c02ddad982a2\",\"type\":\"BoxZoomTool\"},{\"attributes\":{\"callback\":null,\"column_names\":[\"x\",\"y\"],\"data\":{\"x\":{\"__ndarray__\":\"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\",\"dtype\":\"float64\",\"shape\":[200]},\"y\":{\"__ndarray__\":\"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\",\"dtype\":\"float64\",\"shape\":[200]}}},\"id\":\"a5eb841b-1a20-4997-96c6-a7496a242c85\",\"type\":\"ColumnDataSource\"},{\"attributes\":{},\"id\":\"9226504c-28af-4486-9679-1b8b420c1120\",\"type\":\"SaveTool\"},{\"attributes\":{\"line_color\":{\"value\":\"#1f77b4\"},\"x\":{\"field\":\"x\"},\"y\":{\"field\":\"y\"}},\"id\":\"82b88cc1-f161-48d3-a717-a6e67726be78\",\"type\":\"Line\"},{\"attributes\":{},\"id\":\"3088114b-b69f-431c-82b0-d108db2a7acb\",\"type\":\"ResetTool\"},{\"attributes\":{\"callback\":null,\"end\":2,\"start\":-2},\"id\":\"b363f642-401b-4538-94ea-ad97c4929b73\",\"type\":\"Range1d\"},{\"attributes\":{\"source\":{\"id\":\"a5eb841b-1a20-4997-96c6-a7496a242c85\",\"type\":\"ColumnDataSource\"}},\"id\":\"0f3849e6-fb64-445e-89d7-08e7e93daeba\",\"type\":\"CDSView\"},{\"attributes\":{},\"id\":\"18d5e210-020b-4084-a32a-c8d3625698f2\",\"type\":\"LinearScale\"},{\"attributes\":{},\"id\":\"64bed74f-e960-4a15-8537-b9aa4fb049c8\",\"type\":\"LinearScale\"},{\"attributes\":{},\"id\":\"07f84ffe-155c-4428-b691-e6920c58919f\",\"type\":\"HelpTool\"},{\"attributes\":{\"plot\":{\"id\":\"95816a0c-f7aa-4998-b769-df2f452f2072\",\"subtype\":\"Figure\",\"type\":\"Plot\"},\"ticker\":{\"id\":\"63424b95-1746-467d-ba2e-baacdaf48a00\",\"type\":\"BasicTicker\"}},\"id\":\"8c45612c-dbc1-4ad6-9eb2-0534d7a39c88\",\"type\":\"Grid\"},{\"attributes\":{\"line_color\":{\"value\":\"firebrick\"},\"line_width\":{\"value\":4},\"location\":-1,\"plot\":{\"id\":\"95816a0c-f7aa-4998-b769-df2f452f2072\",\"subtype\":\"Figure\",\"type\":\"Plot\"}},\"id\":\"9f368f1c-0a6c-4bb6-b9f9-4ff064b31576\",\"type\":\"Span\"},{\"attributes\":{\"formatter\":{\"id\":\"8e404b78-88dd-4c8c-b475-e60dfa5ef993\",\"type\":\"BasicTickFormatter\"},\"plot\":{\"id\":\"95816a0c-f7aa-4998-b769-df2f452f2072\",\"subtype\":\"Figure\",\"type\":\"Plot\"},\"ticker\":{\"id\":\"63424b95-1746-467d-ba2e-baacdaf48a00\",\"type\":\"BasicTicker\"}},\"id\":\"aa050db6-38fc-4fa8-96be-dd6d08e0dad6\",\"type\":\"LinearAxis\"},{\"attributes\":{\"line_color\":{\"value\":\"olive\"},\"line_width\":{\"value\":4},\"location\":1,\"plot\":{\"id\":\"95816a0c-f7aa-4998-b769-df2f452f2072\",\"subtype\":\"Figure\",\"type\":\"Plot\"}},\"id\":\"d54f18c9-55aa-4a3f-912f-bbeb668c49dd\",\"type\":\"Span\"},{\"attributes\":{},\"id\":\"63424b95-1746-467d-ba2e-baacdaf48a00\",\"type\":\"BasicTicker\"},{\"attributes\":{\"formatter\":{\"id\":\"2a139046-2f03-4f71-aa56-81bac4537cc6\",\"type\":\"BasicTickFormatter\"},\"plot\":{\"id\":\"95816a0c-f7aa-4998-b769-df2f452f2072\",\"subtype\":\"Figure\",\"type\":\"Plot\"},\"ticker\":{\"id\":\"477c3f7f-1070-451f-90e6-4d21ecf00813\",\"type\":\"BasicTicker\"}},\"id\":\"7dc4cbc1-6213-4c58-b8d3-218bbd6145bf\",\"type\":\"LinearAxis\"},{\"attributes\":{},\"id\":\"477c3f7f-1070-451f-90e6-4d21ecf00813\",\"type\":\"BasicTicker\"},{\"attributes\":{\"dimension\":1,\"plot\":{\"id\":\"95816a0c-f7aa-4998-b769-df2f452f2072\",\"subtype\":\"Figure\",\"type\":\"Plot\"},\"ticker\":{\"id\":\"477c3f7f-1070-451f-90e6-4d21ecf00813\",\"type\":\"BasicTicker\"}},\"id\":\"1acc5225-5539-4bdd-a324-8114c9e5545d\",\"type\":\"Grid\"},{\"attributes\":{},\"id\":\"2a139046-2f03-4f71-aa56-81bac4537cc6\",\"type\":\"BasicTickFormatter\"},{\"attributes\":{\"line_alpha\":{\"value\":0.1},\"line_color\":{\"value\":\"#1f77b4\"},\"x\":{\"field\":\"x\"},\"y\":{\"field\":\"y\"}},\"id\":\"71fbc4fd-6d7c-412e-9658-020ed48b4666\",\"type\":\"Line\"},{\"attributes\":{},\"id\":\"8e404b78-88dd-4c8c-b475-e60dfa5ef993\",\"type\":\"BasicTickFormatter\"},{\"attributes\":{\"plot\":null,\"text\":\"\"},\"id\":\"ac1c5125-176d-403b-a466-c486ba6b54bf\",\"type\":\"Title\"}],\"root_ids\":[\"95816a0c-f7aa-4998-b769-df2f452f2072\"]},\"title\":\"Bokeh Application\",\"version\":\"0.12.10\"}};\n",
       "    var render_items = [{\"docid\":\"f4244f61-9d86-4894-8f15-678d08c4a71f\",\"elementid\":\"28f8c1b7-f1e4-4893-b39b-109666326845\",\"modelid\":\"95816a0c-f7aa-4998-b769-df2f452f2072\"}];\n",
       "\n",
       "    root.Bokeh.embed.embed_items(docs_json, render_items);\n",
       "  }\n",
       "\n",
       "  if (root.Bokeh !== undefined) {\n",
       "    embed_document(root);\n",
       "  } else {\n",
       "    var attempts = 0;\n",
       "    var timer = setInterval(function(root) {\n",
       "      if (root.Bokeh !== undefined) {\n",
       "        embed_document(root);\n",
       "        clearInterval(timer);\n",
       "      }\n",
       "      attempts++;\n",
       "      if (attempts > 100) {\n",
       "        console.log(\"Bokeh: ERROR: Unable to embed document because BokehJS library is missing\")\n",
       "        clearInterval(timer);\n",
       "      }\n",
       "    }, 10, root)\n",
       "  }\n",
       "})(window);"
      ],
      "application/vnd.bokehjs_exec.v0+json": ""
     },
     "metadata": {
      "application/vnd.bokehjs_exec.v0+json": {
       "id": "95816a0c-f7aa-4998-b769-df2f452f2072"
      }
     },
     "output_type": "display_data"
    }
   ],
   "source": [
    "import numpy as np \n",
    "from bokeh.models.annotations import Span\n",
    "\n",
    "x=np.linspace(0,20,200)\n",
    "y=np.sin(x)\n",
    "\n",
    "p=figure(y_range=(-2,2))\n",
    "p.line(x,y)\n",
    "\n",
    "upper=Span(location=1,dimension=\"width\",line_color='olive',\n",
    "          line_width=4)\n",
    "p.add_layout(upper)\n",
    "\n",
    "lower=Span(location=-1,dimension='width',line_color=\"firebrick\",\n",
    "           line_width=4)\n",
    "p.add_layout(lower)\n",
    "\n",
    "show(p)"
   ]
  },
  {
   "cell_type": "code",
   "execution_count": 9,
   "metadata": {},
   "outputs": [
    {
     "data": {
      "text/html": [
       "\n",
       "<div class=\"bk-root\">\n",
       "    <div class=\"bk-plotdiv\" id=\"a1477dd8-18b4-4edd-b2e9-ad353b1cd6e4\"></div>\n",
       "</div>"
      ]
     },
     "metadata": {},
     "output_type": "display_data"
    },
    {
     "data": {
      "application/javascript": [
       "(function(root) {\n",
       "  function embed_document(root) {\n",
       "    var docs_json = {\"0d9aee78-9c69-43a3-bf1e-96b6fbc01651\":{\"roots\":{\"references\":[{\"attributes\":{\"data_source\":{\"id\":\"a5eb841b-1a20-4997-96c6-a7496a242c85\",\"type\":\"ColumnDataSource\"},\"glyph\":{\"id\":\"82b88cc1-f161-48d3-a717-a6e67726be78\",\"type\":\"Line\"},\"hover_glyph\":null,\"muted_glyph\":null,\"nonselection_glyph\":{\"id\":\"71fbc4fd-6d7c-412e-9658-020ed48b4666\",\"type\":\"Line\"},\"selection_glyph\":null,\"view\":{\"id\":\"0f3849e6-fb64-445e-89d7-08e7e93daeba\",\"type\":\"CDSView\"}},\"id\":\"6608daa4-4e84-4ddf-a278-8cbb4b41180c\",\"type\":\"GlyphRenderer\"},{\"attributes\":{},\"id\":\"d0d73c8f-cd19-4a0c-b05f-177bfd8fcb53\",\"type\":\"PanTool\"},{\"attributes\":{\"active_drag\":\"auto\",\"active_inspect\":\"auto\",\"active_scroll\":\"auto\",\"active_tap\":\"auto\",\"tools\":[{\"id\":\"d0d73c8f-cd19-4a0c-b05f-177bfd8fcb53\",\"type\":\"PanTool\"},{\"id\":\"9162f1ec-0f5f-4f2a-974d-4466c0e8c5a9\",\"type\":\"WheelZoomTool\"},{\"id\":\"da2e6d9f-ea7c-462c-8654-c02ddad982a2\",\"type\":\"BoxZoomTool\"},{\"id\":\"9226504c-28af-4486-9679-1b8b420c1120\",\"type\":\"SaveTool\"},{\"id\":\"3088114b-b69f-431c-82b0-d108db2a7acb\",\"type\":\"ResetTool\"},{\"id\":\"07f84ffe-155c-4428-b691-e6920c58919f\",\"type\":\"HelpTool\"}]},\"id\":\"1169b66e-351e-47d9-90f7-490ef6e2dbaa\",\"type\":\"Toolbar\"},{\"attributes\":{\"bottom_units\":\"screen\",\"fill_alpha\":{\"value\":0.5},\"fill_color\":{\"value\":\"lightgrey\"},\"left_units\":\"screen\",\"level\":\"overlay\",\"line_alpha\":{\"value\":1.0},\"line_color\":{\"value\":\"black\"},\"line_dash\":[4,4],\"line_width\":{\"value\":2},\"plot\":null,\"render_mode\":\"css\",\"right_units\":\"screen\",\"top_units\":\"screen\"},\"id\":\"4e43091a-9d56-4e42-9124-8e6de9c0cb5d\",\"type\":\"BoxAnnotation\"},{\"attributes\":{\"below\":[{\"id\":\"aa050db6-38fc-4fa8-96be-dd6d08e0dad6\",\"type\":\"LinearAxis\"}],\"left\":[{\"id\":\"7dc4cbc1-6213-4c58-b8d3-218bbd6145bf\",\"type\":\"LinearAxis\"}],\"renderers\":[{\"id\":\"aa050db6-38fc-4fa8-96be-dd6d08e0dad6\",\"type\":\"LinearAxis\"},{\"id\":\"8c45612c-dbc1-4ad6-9eb2-0534d7a39c88\",\"type\":\"Grid\"},{\"id\":\"7dc4cbc1-6213-4c58-b8d3-218bbd6145bf\",\"type\":\"LinearAxis\"},{\"id\":\"1acc5225-5539-4bdd-a324-8114c9e5545d\",\"type\":\"Grid\"},{\"id\":\"4e43091a-9d56-4e42-9124-8e6de9c0cb5d\",\"type\":\"BoxAnnotation\"},{\"id\":\"6608daa4-4e84-4ddf-a278-8cbb4b41180c\",\"type\":\"GlyphRenderer\"},{\"id\":\"d54f18c9-55aa-4a3f-912f-bbeb668c49dd\",\"type\":\"Span\"},{\"id\":\"9f368f1c-0a6c-4bb6-b9f9-4ff064b31576\",\"type\":\"Span\"},{\"id\":\"a58b1de3-5ecb-4b40-b160-2f8b97871e45\",\"type\":\"Span\"},{\"id\":\"9d66bbfd-6a02-4ef9-9771-6dd7f4c0bfed\",\"type\":\"Span\"}],\"title\":{\"id\":\"ac1c5125-176d-403b-a466-c486ba6b54bf\",\"type\":\"Title\"},\"toolbar\":{\"id\":\"1169b66e-351e-47d9-90f7-490ef6e2dbaa\",\"type\":\"Toolbar\"},\"x_range\":{\"id\":\"202a41ef-2f06-4937-a66e-f69e96410494\",\"type\":\"DataRange1d\"},\"x_scale\":{\"id\":\"18d5e210-020b-4084-a32a-c8d3625698f2\",\"type\":\"LinearScale\"},\"y_range\":{\"id\":\"b363f642-401b-4538-94ea-ad97c4929b73\",\"type\":\"Range1d\"},\"y_scale\":{\"id\":\"64bed74f-e960-4a15-8537-b9aa4fb049c8\",\"type\":\"LinearScale\"}},\"id\":\"95816a0c-f7aa-4998-b769-df2f452f2072\",\"subtype\":\"Figure\",\"type\":\"Plot\"},{\"attributes\":{},\"id\":\"9162f1ec-0f5f-4f2a-974d-4466c0e8c5a9\",\"type\":\"WheelZoomTool\"},{\"attributes\":{\"callback\":null},\"id\":\"202a41ef-2f06-4937-a66e-f69e96410494\",\"type\":\"DataRange1d\"},{\"attributes\":{\"overlay\":{\"id\":\"4e43091a-9d56-4e42-9124-8e6de9c0cb5d\",\"type\":\"BoxAnnotation\"}},\"id\":\"da2e6d9f-ea7c-462c-8654-c02ddad982a2\",\"type\":\"BoxZoomTool\"},{\"attributes\":{\"callback\":null,\"column_names\":[\"x\",\"y\"],\"data\":{\"x\":{\"__ndarray__\":\"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\",\"dtype\":\"float64\",\"shape\":[200]},\"y\":{\"__ndarray__\":\"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\",\"dtype\":\"float64\",\"shape\":[200]}}},\"id\":\"a5eb841b-1a20-4997-96c6-a7496a242c85\",\"type\":\"ColumnDataSource\"},{\"attributes\":{},\"id\":\"9226504c-28af-4486-9679-1b8b420c1120\",\"type\":\"SaveTool\"},{\"attributes\":{\"line_color\":{\"value\":\"#1f77b4\"},\"x\":{\"field\":\"x\"},\"y\":{\"field\":\"y\"}},\"id\":\"82b88cc1-f161-48d3-a717-a6e67726be78\",\"type\":\"Line\"},{\"attributes\":{},\"id\":\"3088114b-b69f-431c-82b0-d108db2a7acb\",\"type\":\"ResetTool\"},{\"attributes\":{\"callback\":null,\"end\":2,\"start\":-2},\"id\":\"b363f642-401b-4538-94ea-ad97c4929b73\",\"type\":\"Range1d\"},{\"attributes\":{\"source\":{\"id\":\"a5eb841b-1a20-4997-96c6-a7496a242c85\",\"type\":\"ColumnDataSource\"}},\"id\":\"0f3849e6-fb64-445e-89d7-08e7e93daeba\",\"type\":\"CDSView\"},{\"attributes\":{},\"id\":\"18d5e210-020b-4084-a32a-c8d3625698f2\",\"type\":\"LinearScale\"},{\"attributes\":{},\"id\":\"64bed74f-e960-4a15-8537-b9aa4fb049c8\",\"type\":\"LinearScale\"},{\"attributes\":{},\"id\":\"07f84ffe-155c-4428-b691-e6920c58919f\",\"type\":\"HelpTool\"},{\"attributes\":{\"plot\":{\"id\":\"95816a0c-f7aa-4998-b769-df2f452f2072\",\"subtype\":\"Figure\",\"type\":\"Plot\"},\"ticker\":{\"id\":\"63424b95-1746-467d-ba2e-baacdaf48a00\",\"type\":\"BasicTicker\"}},\"id\":\"8c45612c-dbc1-4ad6-9eb2-0534d7a39c88\",\"type\":\"Grid\"},{\"attributes\":{\"line_color\":{\"value\":\"firebrick\"},\"line_width\":{\"value\":4},\"location\":-1,\"plot\":{\"id\":\"95816a0c-f7aa-4998-b769-df2f452f2072\",\"subtype\":\"Figure\",\"type\":\"Plot\"}},\"id\":\"9f368f1c-0a6c-4bb6-b9f9-4ff064b31576\",\"type\":\"Span\"},{\"attributes\":{\"formatter\":{\"id\":\"8e404b78-88dd-4c8c-b475-e60dfa5ef993\",\"type\":\"BasicTickFormatter\"},\"plot\":{\"id\":\"95816a0c-f7aa-4998-b769-df2f452f2072\",\"subtype\":\"Figure\",\"type\":\"Plot\"},\"ticker\":{\"id\":\"63424b95-1746-467d-ba2e-baacdaf48a00\",\"type\":\"BasicTicker\"}},\"id\":\"aa050db6-38fc-4fa8-96be-dd6d08e0dad6\",\"type\":\"LinearAxis\"},{\"attributes\":{\"line_color\":{\"value\":\"olive\"},\"line_width\":{\"value\":4},\"location\":1,\"plot\":{\"id\":\"95816a0c-f7aa-4998-b769-df2f452f2072\",\"subtype\":\"Figure\",\"type\":\"Plot\"}},\"id\":\"d54f18c9-55aa-4a3f-912f-bbeb668c49dd\",\"type\":\"Span\"},{\"attributes\":{},\"id\":\"63424b95-1746-467d-ba2e-baacdaf48a00\",\"type\":\"BasicTicker\"},{\"attributes\":{\"formatter\":{\"id\":\"2a139046-2f03-4f71-aa56-81bac4537cc6\",\"type\":\"BasicTickFormatter\"},\"plot\":{\"id\":\"95816a0c-f7aa-4998-b769-df2f452f2072\",\"subtype\":\"Figure\",\"type\":\"Plot\"},\"ticker\":{\"id\":\"477c3f7f-1070-451f-90e6-4d21ecf00813\",\"type\":\"BasicTicker\"}},\"id\":\"7dc4cbc1-6213-4c58-b8d3-218bbd6145bf\",\"type\":\"LinearAxis\"},{\"attributes\":{\"line_width\":{\"value\":3},\"location\":10,\"plot\":{\"id\":\"95816a0c-f7aa-4998-b769-df2f452f2072\",\"subtype\":\"Figure\",\"type\":\"Plot\"}},\"id\":\"a58b1de3-5ecb-4b40-b160-2f8b97871e45\",\"type\":\"Span\"},{\"attributes\":{},\"id\":\"477c3f7f-1070-451f-90e6-4d21ecf00813\",\"type\":\"BasicTicker\"},{\"attributes\":{\"dimension\":1,\"plot\":{\"id\":\"95816a0c-f7aa-4998-b769-df2f452f2072\",\"subtype\":\"Figure\",\"type\":\"Plot\"},\"ticker\":{\"id\":\"477c3f7f-1070-451f-90e6-4d21ecf00813\",\"type\":\"BasicTicker\"}},\"id\":\"1acc5225-5539-4bdd-a324-8114c9e5545d\",\"type\":\"Grid\"},{\"attributes\":{},\"id\":\"2a139046-2f03-4f71-aa56-81bac4537cc6\",\"type\":\"BasicTickFormatter\"},{\"attributes\":{\"line_alpha\":{\"value\":0.1},\"line_color\":{\"value\":\"#1f77b4\"},\"x\":{\"field\":\"x\"},\"y\":{\"field\":\"y\"}},\"id\":\"71fbc4fd-6d7c-412e-9658-020ed48b4666\",\"type\":\"Line\"},{\"attributes\":{\"dimension\":\"height\",\"line_width\":{\"value\":4},\"location\":10,\"plot\":{\"id\":\"95816a0c-f7aa-4998-b769-df2f452f2072\",\"subtype\":\"Figure\",\"type\":\"Plot\"}},\"id\":\"9d66bbfd-6a02-4ef9-9771-6dd7f4c0bfed\",\"type\":\"Span\"},{\"attributes\":{},\"id\":\"8e404b78-88dd-4c8c-b475-e60dfa5ef993\",\"type\":\"BasicTickFormatter\"},{\"attributes\":{\"plot\":null,\"text\":\"\"},\"id\":\"ac1c5125-176d-403b-a466-c486ba6b54bf\",\"type\":\"Title\"}],\"root_ids\":[\"95816a0c-f7aa-4998-b769-df2f452f2072\"]},\"title\":\"Bokeh Application\",\"version\":\"0.12.10\"}};\n",
       "    var render_items = [{\"docid\":\"0d9aee78-9c69-43a3-bf1e-96b6fbc01651\",\"elementid\":\"a1477dd8-18b4-4edd-b2e9-ad353b1cd6e4\",\"modelid\":\"95816a0c-f7aa-4998-b769-df2f452f2072\"}];\n",
       "\n",
       "    root.Bokeh.embed.embed_items(docs_json, render_items);\n",
       "  }\n",
       "\n",
       "  if (root.Bokeh !== undefined) {\n",
       "    embed_document(root);\n",
       "  } else {\n",
       "    var attempts = 0;\n",
       "    var timer = setInterval(function(root) {\n",
       "      if (root.Bokeh !== undefined) {\n",
       "        embed_document(root);\n",
       "        clearInterval(timer);\n",
       "      }\n",
       "      attempts++;\n",
       "      if (attempts > 100) {\n",
       "        console.log(\"Bokeh: ERROR: Unable to embed document because BokehJS library is missing\")\n",
       "        clearInterval(timer);\n",
       "      }\n",
       "    }, 10, root)\n",
       "  }\n",
       "})(window);"
      ],
      "application/vnd.bokehjs_exec.v0+json": ""
     },
     "metadata": {
      "application/vnd.bokehjs_exec.v0+json": {
       "id": "95816a0c-f7aa-4998-b769-df2f452f2072"
      }
     },
     "output_type": "display_data"
    }
   ],
   "source": [
    "vertical=Span(location=10,dimension=\"height\",line_width=4)\n",
    "p.add_layout(vertical)\n",
    "show(p)"
   ]
  },
  {
   "cell_type": "markdown",
   "metadata": {},
   "source": [
    "# Box Annocations\n",
    "Sometimes you might want to call out some region of the plot by drawing a shaded box. This can be done with the BoxAnnotation, which is configured with the coordinate properties:\n",
    "\n",
    "top\n",
    "left\n",
    "bottom\n",
    "right\n",
    "as well as any visual line or fill properties to control the appearance.\n",
    "\n",
    "\"Infinite\" boxes can be made by leaving any of the coordinates unspecified. E.g., if top is not given, the box will always extend to the top of the plot area, regardless of any panning or zooming that happens.\n",
    "\n",
    "Let's take a look at an example that adds a few shaded boxes to a plot:"
   ]
  },
  {
   "cell_type": "code",
   "execution_count": 11,
   "metadata": {},
   "outputs": [],
   "source": [
    "import numpy as np\n",
    "from bokeh.models.annotations import BoxAnnotation\n",
    "\n",
    "x=np.linspace(0,20,200)\n",
    "y=np.sin(x)"
   ]
  },
  {
   "cell_type": "code",
   "execution_count": 15,
   "metadata": {},
   "outputs": [
    {
     "data": {
      "text/html": [
       "\n",
       "<div class=\"bk-root\">\n",
       "    <div class=\"bk-plotdiv\" id=\"75799aad-4678-46e1-98dd-9a96beda1718\"></div>\n",
       "</div>"
      ]
     },
     "metadata": {},
     "output_type": "display_data"
    },
    {
     "data": {
      "application/javascript": [
       "(function(root) {\n",
       "  function embed_document(root) {\n",
       "    var docs_json = {\"214e33cc-5a73-4deb-a983-13845ded7f06\":{\"roots\":{\"references\":[{\"attributes\":{\"callback\":null},\"id\":\"befcd243-f5f7-41a9-8647-6d6620e3325a\",\"type\":\"DataRange1d\"},{\"attributes\":{},\"id\":\"9e33b4ce-95b5-4913-85a5-0a4413b41033\",\"type\":\"WheelZoomTool\"},{\"attributes\":{\"bottom\":1,\"fill_alpha\":{\"value\":0.1},\"fill_color\":{\"value\":\"olive\"},\"plot\":{\"id\":\"5286531d-87e4-4bf8-ad2b-3aba9f8547d3\",\"subtype\":\"Figure\",\"type\":\"Plot\"}},\"id\":\"736fd210-e454-45d5-9ba8-c5cddbf71bf7\",\"type\":\"BoxAnnotation\"},{\"attributes\":{\"overlay\":{\"id\":\"8e60b75d-3429-41ee-903e-a588eca15c3e\",\"type\":\"BoxAnnotation\"}},\"id\":\"becb3ce1-afda-40b5-976f-a6fa821db3c8\",\"type\":\"BoxZoomTool\"},{\"attributes\":{\"callback\":null,\"end\":2,\"start\":-2},\"id\":\"ae878822-97c7-4a2a-836d-12baa551b3b9\",\"type\":\"Range1d\"},{\"attributes\":{},\"id\":\"45c69628-4214-47e7-a498-1fdb3704bee1\",\"type\":\"SaveTool\"},{\"attributes\":{\"plot\":{\"id\":\"5286531d-87e4-4bf8-ad2b-3aba9f8547d3\",\"subtype\":\"Figure\",\"type\":\"Plot\"},\"ticker\":{\"id\":\"8f3ce21f-eade-4a34-bada-5ae8a77bc222\",\"type\":\"BasicTicker\"}},\"id\":\"a114451c-067c-48ef-a93f-35266e47591d\",\"type\":\"Grid\"},{\"attributes\":{},\"id\":\"df2302a6-4dec-4950-967b-509bea6d02a9\",\"type\":\"ResetTool\"},{\"attributes\":{\"formatter\":{\"id\":\"2367e3b8-b80a-4271-b570-d6d9bab90d8b\",\"type\":\"BasicTickFormatter\"},\"plot\":{\"id\":\"5286531d-87e4-4bf8-ad2b-3aba9f8547d3\",\"subtype\":\"Figure\",\"type\":\"Plot\"},\"ticker\":{\"id\":\"8f3ce21f-eade-4a34-bada-5ae8a77bc222\",\"type\":\"BasicTicker\"}},\"id\":\"6b838617-8fdc-411c-82ac-b7951d3dfee7\",\"type\":\"LinearAxis\"},{\"attributes\":{\"data_source\":{\"id\":\"34ab86d5-3fa5-46ca-8e42-d5047501e0c2\",\"type\":\"ColumnDataSource\"},\"glyph\":{\"id\":\"898b4ffc-ea7a-431c-a4d6-0c2ea083bd2f\",\"type\":\"Line\"},\"hover_glyph\":null,\"muted_glyph\":null,\"nonselection_glyph\":{\"id\":\"946fa6a5-e086-48b6-b3ce-eb4fe306e7ba\",\"type\":\"Line\"},\"selection_glyph\":null,\"view\":{\"id\":\"f1bcb8bd-c87d-4dbc-bfc7-8b34b4b7a117\",\"type\":\"CDSView\"}},\"id\":\"32ee1c6f-4ca0-478b-a150-a7e73b927af8\",\"type\":\"GlyphRenderer\"},{\"attributes\":{\"source\":{\"id\":\"34ab86d5-3fa5-46ca-8e42-d5047501e0c2\",\"type\":\"ColumnDataSource\"}},\"id\":\"f1bcb8bd-c87d-4dbc-bfc7-8b34b4b7a117\",\"type\":\"CDSView\"},{\"attributes\":{},\"id\":\"8f3ce21f-eade-4a34-bada-5ae8a77bc222\",\"type\":\"BasicTicker\"},{\"attributes\":{\"formatter\":{\"id\":\"3a914b4d-e2dc-4834-b41f-497ce0761c99\",\"type\":\"BasicTickFormatter\"},\"plot\":{\"id\":\"5286531d-87e4-4bf8-ad2b-3aba9f8547d3\",\"subtype\":\"Figure\",\"type\":\"Plot\"},\"ticker\":{\"id\":\"5dc065a1-44fb-4831-a190-23fdd8e2aeac\",\"type\":\"BasicTicker\"}},\"id\":\"5fb1d597-052c-4fd0-ac5e-5e11b895c796\",\"type\":\"LinearAxis\"},{\"attributes\":{\"plot\":null,\"text\":\"\"},\"id\":\"f5271f41-0513-42d9-a0f7-34081e61fa05\",\"type\":\"Title\"},{\"attributes\":{},\"id\":\"5dc065a1-44fb-4831-a190-23fdd8e2aeac\",\"type\":\"BasicTicker\"},{\"attributes\":{},\"id\":\"2367e3b8-b80a-4271-b570-d6d9bab90d8b\",\"type\":\"BasicTickFormatter\"},{\"attributes\":{},\"id\":\"5de8ab37-365b-4dc2-b33b-09ce5ac2d000\",\"type\":\"HelpTool\"},{\"attributes\":{},\"id\":\"4f245c91-1900-4fdc-bc0d-6444cd8193f9\",\"type\":\"LinearScale\"},{\"attributes\":{\"fill_alpha\":{\"value\":0.1},\"fill_color\":{\"value\":\"firebrick\"},\"plot\":{\"id\":\"5286531d-87e4-4bf8-ad2b-3aba9f8547d3\",\"subtype\":\"Figure\",\"type\":\"Plot\"},\"top\":-1},\"id\":\"a1e20cf4-97f9-4d18-aff0-62d0a5fd0056\",\"type\":\"BoxAnnotation\"},{\"attributes\":{\"dimension\":1,\"plot\":{\"id\":\"5286531d-87e4-4bf8-ad2b-3aba9f8547d3\",\"subtype\":\"Figure\",\"type\":\"Plot\"},\"ticker\":{\"id\":\"5dc065a1-44fb-4831-a190-23fdd8e2aeac\",\"type\":\"BasicTicker\"}},\"id\":\"e0a76c20-392c-4e24-a3a3-bf1825641390\",\"type\":\"Grid\"},{\"attributes\":{},\"id\":\"3a914b4d-e2dc-4834-b41f-497ce0761c99\",\"type\":\"BasicTickFormatter\"},{\"attributes\":{},\"id\":\"744a229e-6735-4f5f-b792-0a56dfab290b\",\"type\":\"LinearScale\"},{\"attributes\":{\"callback\":null,\"column_names\":[\"x\",\"y\"],\"data\":{\"x\":{\"__ndarray__\":\"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\",\"dtype\":\"float64\",\"shape\":[200]},\"y\":{\"__ndarray__\":\"AAAAAAAAAADosPQ5c6+5PyTroQBFjsk/UqC71WQB0z/17xLajArZPwd+kHUC094/TRquW+ol4j+Qsd03cLPkP4RSVFt6C+c/hx87gPon6T9y6jY0fAPrPxWKSvAymew/1EXifgbl7T/00v+PnePuP2cCMmBmku8/BX79W53v7z+89Y+uUfrvP1Bu969nsu8/HyCWLJkY7z/TShqFcy7uP+010qtT9uw/RuW4CWBz6z9SkgFbgKnpPxbEKJhTnec/jlWcBSRU5T/D1tKI2dPiPwcgImbqIuA/7DyCHZWQ2j91bS5Us5bUP8f9CSNAz8w/TEI0yqomwD9+2y5b2KKaP6G5N7kdDbO/qeyAd9xIxr+BbUVyy2jRv7LmsAEugNe/sjpMD9la3b9bY21P1nThvydDKlMmD+S/9FywE6N15r+uX1v3GKLov69tz0/qjuq/iB5k3B037L8ze72ja5btv9HkXwNIqe6/Vi+r2Oxs779iZ5KrYN/vv+oNjMh7/++/7b2MPOvM77/uZ1arMUjvv3px8v2lcu6/lcC+7G9O7b8Gp/5tgt7rvzZ0UheUJuq//xvFhRUr6L9bLDnlJfHlvzwO2LSFfuO/xb2z6ofZ4L98BAA6AxLcvx2vM7ZwKNa/O6jwx54F0L+WakSqz3LDv3Q/vLKJoKq/muwql/bOqD9gXtmal//CPwD8eOZbms8/h2bB5rzx1T/22UzEmd3bP2NrhBG8wOA/aXq8zWJn4z9wNrW259vlP4ouB/LyF+g/rTlnjr4V6j/EpRZuJdDrP0Tez5GwQu0/a6/XoaJp7j+BjWWXAULvP1OJbG2eye8/q1vmxBr/7z96Bw1u7OHvP0NRYM1ecu8/yqPcGJKx7j88olpveKHtP5Y8m9HQROw/lET9CSCf6j/oHDGVp7ToP9tbZ6NaiuY/5spiTtEl5D9PWHglOo3hP7O6qGmUjt0/Mt+RYle21z8FVtXq1qDRPza3Pf+Vu8Y/FtCnJoX1sz9tSknzyv6Wv7gVLFIQZr+/VSqpT6ddzL89GzqQfl/Uv/Tv8qCGW9q/7IyG1boJ4L9J6+23Qrziv7mna+ZiPuW/VVgnX6CJ578Oh/HtDZjpv5aJI3xbZOu/IkqSyuPp7L8sTh1yuCTuvzOq1wusEe+/8RCNZlqu778DeG20Lvnvv53j6KBn8e+/AEAtRBmX77/9yTvvLOvuv0ooHNFe7+2/e51Cezmm7L/USL5QDxPrvwAOJvHxOem/MYpwtacf57/ZAeBZn8nkv0OL4fThPeK/q3VFvgYG379KzE5qIkDZv1SZjjwBOdO/Lf6gIGwAyr83SORDUJe6v79A3v+YIm2/n8805YDHuD/B9lOxCBzJP+y4q624ydI/p/+4h+LU2D9s8n2f5J/eP9JQLrfjDeI/QcLP7C+d5D8+KMPmOffmP7v8zDTuFek/n8L+stLz6j+DLE+wFIzsP22akmSV2u0/o0SilfTb7j/MUjFQmY3vP3QWx5247e8/TNCHJlr77z8eY9SyWrbvP68+R4ZsH+8/em4jkxU47j+auduKqwLtPwrA3NVNgus/fLsvgt266T89AM4987DnP072iXbTaeU/0Pg7vmDr4j9y+luWDDzgP7zPoJSNxdo/DLrpBtfN1D/1+5gUwUDNP+qf1AdAmsA/theArs9Gnj9aE9OApiSyv0nBo3YQ1sW/nmgvi7Ew0b+DIp0l8UnXv81CZV8FJ92/jbzgAGRc4b+9mha3avjjvxDluuXYYOa/z/f97XWP6L+iqpKRnn7qv/I9eINTKey/gKwzUUaL7b/H7xyD5KDuv/5MAddgZ++/kIRCfbrc779mI79Fwv/vvxvnJK8d0O+/7mfF0EdO778p55AckHvuv1XmbPwWWu2/M6elU8js67+UlKzyUzfqv3bLoxAkPui/gstS41EG5r8KmPxymJXjv4+oH8xF8uC/BHTAalVG3L9lymUnEl/Wv0AEjFQCPtC/k7Ftmvflw79e36K7BnKsv1/D4OpO/aY/h7uvy0+Mwj+mLHIKYCnPP22ZZ+b2utU/7IwZNRmp2z841R9V4qfgP5m819AvUOM/yPhiaZfG5T//wUZlvAToP1hY32XTBOo/cb3VX7HB6z/gPF312DbtPw==\",\"dtype\":\"float64\",\"shape\":[200]}}},\"id\":\"34ab86d5-3fa5-46ca-8e42-d5047501e0c2\",\"type\":\"ColumnDataSource\"},{\"attributes\":{\"below\":[{\"id\":\"6b838617-8fdc-411c-82ac-b7951d3dfee7\",\"type\":\"LinearAxis\"}],\"left\":[{\"id\":\"5fb1d597-052c-4fd0-ac5e-5e11b895c796\",\"type\":\"LinearAxis\"}],\"renderers\":[{\"id\":\"6b838617-8fdc-411c-82ac-b7951d3dfee7\",\"type\":\"LinearAxis\"},{\"id\":\"a114451c-067c-48ef-a93f-35266e47591d\",\"type\":\"Grid\"},{\"id\":\"5fb1d597-052c-4fd0-ac5e-5e11b895c796\",\"type\":\"LinearAxis\"},{\"id\":\"e0a76c20-392c-4e24-a3a3-bf1825641390\",\"type\":\"Grid\"},{\"id\":\"8e60b75d-3429-41ee-903e-a588eca15c3e\",\"type\":\"BoxAnnotation\"},{\"id\":\"32ee1c6f-4ca0-478b-a150-a7e73b927af8\",\"type\":\"GlyphRenderer\"},{\"id\":\"736fd210-e454-45d5-9ba8-c5cddbf71bf7\",\"type\":\"BoxAnnotation\"},{\"id\":\"a1e20cf4-97f9-4d18-aff0-62d0a5fd0056\",\"type\":\"BoxAnnotation\"},{\"id\":\"f107c589-e563-436d-b065-db47386b1f6c\",\"type\":\"BoxAnnotation\"}],\"title\":{\"id\":\"f5271f41-0513-42d9-a0f7-34081e61fa05\",\"type\":\"Title\"},\"toolbar\":{\"id\":\"45705b0f-d2a9-4df7-bd0c-f5dcd18d31ef\",\"type\":\"Toolbar\"},\"x_range\":{\"id\":\"befcd243-f5f7-41a9-8647-6d6620e3325a\",\"type\":\"DataRange1d\"},\"x_scale\":{\"id\":\"744a229e-6735-4f5f-b792-0a56dfab290b\",\"type\":\"LinearScale\"},\"y_range\":{\"id\":\"ae878822-97c7-4a2a-836d-12baa551b3b9\",\"type\":\"Range1d\"},\"y_scale\":{\"id\":\"4f245c91-1900-4fdc-bc0d-6444cd8193f9\",\"type\":\"LinearScale\"}},\"id\":\"5286531d-87e4-4bf8-ad2b-3aba9f8547d3\",\"subtype\":\"Figure\",\"type\":\"Plot\"},{\"attributes\":{\"bottom_units\":\"screen\",\"fill_alpha\":{\"value\":0.5},\"fill_color\":{\"value\":\"lightgrey\"},\"left_units\":\"screen\",\"level\":\"overlay\",\"line_alpha\":{\"value\":1.0},\"line_color\":{\"value\":\"black\"},\"line_dash\":[4,4],\"line_width\":{\"value\":2},\"plot\":null,\"render_mode\":\"css\",\"right_units\":\"screen\",\"top_units\":\"screen\"},\"id\":\"8e60b75d-3429-41ee-903e-a588eca15c3e\",\"type\":\"BoxAnnotation\"},{\"attributes\":{\"line_color\":{\"value\":\"#1f77b4\"},\"x\":{\"field\":\"x\"},\"y\":{\"field\":\"y\"}},\"id\":\"898b4ffc-ea7a-431c-a4d6-0c2ea083bd2f\",\"type\":\"Line\"},{\"attributes\":{},\"id\":\"aa909d3a-e710-4cbb-bd23-08452a65b81b\",\"type\":\"PanTool\"},{\"attributes\":{\"active_drag\":\"auto\",\"active_inspect\":\"auto\",\"active_scroll\":\"auto\",\"active_tap\":\"auto\",\"tools\":[{\"id\":\"aa909d3a-e710-4cbb-bd23-08452a65b81b\",\"type\":\"PanTool\"},{\"id\":\"9e33b4ce-95b5-4913-85a5-0a4413b41033\",\"type\":\"WheelZoomTool\"},{\"id\":\"becb3ce1-afda-40b5-976f-a6fa821db3c8\",\"type\":\"BoxZoomTool\"},{\"id\":\"45c69628-4214-47e7-a498-1fdb3704bee1\",\"type\":\"SaveTool\"},{\"id\":\"df2302a6-4dec-4950-967b-509bea6d02a9\",\"type\":\"ResetTool\"},{\"id\":\"5de8ab37-365b-4dc2-b33b-09ce5ac2d000\",\"type\":\"HelpTool\"}]},\"id\":\"45705b0f-d2a9-4df7-bd0c-f5dcd18d31ef\",\"type\":\"Toolbar\"},{\"attributes\":{\"bottom\":-0.3,\"fill_alpha\":{\"value\":0.1},\"fill_color\":{\"value\":\"navy\"},\"left\":7,\"plot\":{\"id\":\"5286531d-87e4-4bf8-ad2b-3aba9f8547d3\",\"subtype\":\"Figure\",\"type\":\"Plot\"},\"right\":12,\"top\":0.6},\"id\":\"f107c589-e563-436d-b065-db47386b1f6c\",\"type\":\"BoxAnnotation\"},{\"attributes\":{\"line_alpha\":{\"value\":0.1},\"line_color\":{\"value\":\"#1f77b4\"},\"x\":{\"field\":\"x\"},\"y\":{\"field\":\"y\"}},\"id\":\"946fa6a5-e086-48b6-b3ce-eb4fe306e7ba\",\"type\":\"Line\"}],\"root_ids\":[\"5286531d-87e4-4bf8-ad2b-3aba9f8547d3\"]},\"title\":\"Bokeh Application\",\"version\":\"0.12.10\"}};\n",
       "    var render_items = [{\"docid\":\"214e33cc-5a73-4deb-a983-13845ded7f06\",\"elementid\":\"75799aad-4678-46e1-98dd-9a96beda1718\",\"modelid\":\"5286531d-87e4-4bf8-ad2b-3aba9f8547d3\"}];\n",
       "\n",
       "    root.Bokeh.embed.embed_items(docs_json, render_items);\n",
       "  }\n",
       "\n",
       "  if (root.Bokeh !== undefined) {\n",
       "    embed_document(root);\n",
       "  } else {\n",
       "    var attempts = 0;\n",
       "    var timer = setInterval(function(root) {\n",
       "      if (root.Bokeh !== undefined) {\n",
       "        embed_document(root);\n",
       "        clearInterval(timer);\n",
       "      }\n",
       "      attempts++;\n",
       "      if (attempts > 100) {\n",
       "        console.log(\"Bokeh: ERROR: Unable to embed document because BokehJS library is missing\")\n",
       "        clearInterval(timer);\n",
       "      }\n",
       "    }, 10, root)\n",
       "  }\n",
       "})(window);"
      ],
      "application/vnd.bokehjs_exec.v0+json": ""
     },
     "metadata": {
      "application/vnd.bokehjs_exec.v0+json": {
       "id": "5286531d-87e4-4bf8-ad2b-3aba9f8547d3"
      }
     },
     "output_type": "display_data"
    }
   ],
   "source": [
    "p=figure(y_range=(-2,2))\n",
    "p.line(x,y)\n",
    "\n",
    "#region that always fills the top of the plot\n",
    "upper=BoxAnnotation(bottom=1,fill_alpha=0.1,fill_color=\"olive\")\n",
    "p.add_layout(upper)\n",
    "\n",
    "#region that always fills the bottom of the plot\n",
    "lower=BoxAnnotation(top=-1,fill_alpha=0.1,fill_color=\"firebrick\")\n",
    "p.add_layout(lower)\n",
    "\n",
    "#a finite region\n",
    "center=BoxAnnotation(top=0.6,bottom=-.3,left=7,right=12,fill_color='navy',\n",
    "                    fill_alpha=0.1)\n",
    "p.add_layout(center)\n",
    "show(p)"
   ]
  },
  {
   "cell_type": "markdown",
   "metadata": {},
   "source": [
    "# Label\n",
    "The Label annotation allows you to easily attach single text labels to plots. The position and text to display are configured as x, y, and text:\n",
    "\n",
    "Label(x=10, y=5, text=\"Some Label\")\n",
    "By default the units are in \"data space\" but x_units and y_units maybe set to \"screen\" to position the label relative to the canvas. Labels can also accept x_offset and y_offset to offset the final position from x and y by a given screen space distance.\n",
    "\n",
    "Label objects also have standard text, line (border_line) and fill (background_fill) properties. The line and fill properties apply to a bounding box around the text:\n",
    "\n",
    "Label(x=10, y=5, text=\"Some Label\", text_font_size=\"12pt\", \n",
    "      border_line_color=\"red\", background_fill_color=\"blue\")"
   ]
  },
  {
   "cell_type": "code",
   "execution_count": 17,
   "metadata": {},
   "outputs": [
    {
     "data": {
      "text/html": [
       "<div style=\"display: table;\"><div style=\"display: table-row;\"><div style=\"display: table-cell;\"><b title=\"bokeh.models.renderers.GlyphRenderer\">GlyphRenderer</b>(</div><div style=\"display: table-cell;\">id&nbsp;=&nbsp;'d29ccd1d-5ba2-41ed-844c-567af5f06a37', <span id=\"caf73b2d-f003-43a5-abd7-bafafd883585\" style=\"cursor: pointer;\">&hellip;)</span></div></div><div class=\"512d1d8b-9e2b-49b2-8330-952bf0b91b9c\" style=\"display: none;\"><div style=\"display: table-cell;\"></div><div style=\"display: table-cell;\">data_source&nbsp;=&nbsp;ColumnDataSource(id='b742fe40-75d6-4f33-824e-b6bf513c5027', ...),</div></div><div class=\"512d1d8b-9e2b-49b2-8330-952bf0b91b9c\" style=\"display: none;\"><div style=\"display: table-cell;\"></div><div style=\"display: table-cell;\">glyph&nbsp;=&nbsp;Circle(id='c50a9734-6adb-4473-8079-4a1a2c5885d0', ...),</div></div><div class=\"512d1d8b-9e2b-49b2-8330-952bf0b91b9c\" style=\"display: none;\"><div style=\"display: table-cell;\"></div><div style=\"display: table-cell;\">hover_glyph&nbsp;=&nbsp;None,</div></div><div class=\"512d1d8b-9e2b-49b2-8330-952bf0b91b9c\" style=\"display: none;\"><div style=\"display: table-cell;\"></div><div style=\"display: table-cell;\">js_event_callbacks&nbsp;=&nbsp;{},</div></div><div class=\"512d1d8b-9e2b-49b2-8330-952bf0b91b9c\" style=\"display: none;\"><div style=\"display: table-cell;\"></div><div style=\"display: table-cell;\">js_property_callbacks&nbsp;=&nbsp;{},</div></div><div class=\"512d1d8b-9e2b-49b2-8330-952bf0b91b9c\" style=\"display: none;\"><div style=\"display: table-cell;\"></div><div style=\"display: table-cell;\">level&nbsp;=&nbsp;'glyph',</div></div><div class=\"512d1d8b-9e2b-49b2-8330-952bf0b91b9c\" style=\"display: none;\"><div style=\"display: table-cell;\"></div><div style=\"display: table-cell;\">muted&nbsp;=&nbsp;False,</div></div><div class=\"512d1d8b-9e2b-49b2-8330-952bf0b91b9c\" style=\"display: none;\"><div style=\"display: table-cell;\"></div><div style=\"display: table-cell;\">muted_glyph&nbsp;=&nbsp;None,</div></div><div class=\"512d1d8b-9e2b-49b2-8330-952bf0b91b9c\" style=\"display: none;\"><div style=\"display: table-cell;\"></div><div style=\"display: table-cell;\">name&nbsp;=&nbsp;None,</div></div><div class=\"512d1d8b-9e2b-49b2-8330-952bf0b91b9c\" style=\"display: none;\"><div style=\"display: table-cell;\"></div><div style=\"display: table-cell;\">nonselection_glyph&nbsp;=&nbsp;Circle(id='9927e18a-ba8d-4b01-ae5a-1958e728bb14', ...),</div></div><div class=\"512d1d8b-9e2b-49b2-8330-952bf0b91b9c\" style=\"display: none;\"><div style=\"display: table-cell;\"></div><div style=\"display: table-cell;\">selection_glyph&nbsp;=&nbsp;None,</div></div><div class=\"512d1d8b-9e2b-49b2-8330-952bf0b91b9c\" style=\"display: none;\"><div style=\"display: table-cell;\"></div><div style=\"display: table-cell;\">subscribed_events&nbsp;=&nbsp;[],</div></div><div class=\"512d1d8b-9e2b-49b2-8330-952bf0b91b9c\" style=\"display: none;\"><div style=\"display: table-cell;\"></div><div style=\"display: table-cell;\">tags&nbsp;=&nbsp;[],</div></div><div class=\"512d1d8b-9e2b-49b2-8330-952bf0b91b9c\" style=\"display: none;\"><div style=\"display: table-cell;\"></div><div style=\"display: table-cell;\">view&nbsp;=&nbsp;CDSView(id='cfa9849e-6a6e-4817-a37c-3296c4adbaf6', ...),</div></div><div class=\"512d1d8b-9e2b-49b2-8330-952bf0b91b9c\" style=\"display: none;\"><div style=\"display: table-cell;\"></div><div style=\"display: table-cell;\">visible&nbsp;=&nbsp;True,</div></div><div class=\"512d1d8b-9e2b-49b2-8330-952bf0b91b9c\" style=\"display: none;\"><div style=\"display: table-cell;\"></div><div style=\"display: table-cell;\">x_range_name&nbsp;=&nbsp;'default',</div></div><div class=\"512d1d8b-9e2b-49b2-8330-952bf0b91b9c\" style=\"display: none;\"><div style=\"display: table-cell;\"></div><div style=\"display: table-cell;\">y_range_name&nbsp;=&nbsp;'default')</div></div></div>\n",
       "<script>\n",
       "(function() {\n",
       "  var expanded = false;\n",
       "  var ellipsis = document.getElementById(\"caf73b2d-f003-43a5-abd7-bafafd883585\");\n",
       "  ellipsis.addEventListener(\"click\", function() {\n",
       "    var rows = document.getElementsByClassName(\"512d1d8b-9e2b-49b2-8330-952bf0b91b9c\");\n",
       "    for (var i = 0; i < rows.length; i++) {\n",
       "      var el = rows[i];\n",
       "      el.style.display = expanded ? \"none\" : \"table-row\";\n",
       "    }\n",
       "    ellipsis.innerHTML = expanded ? \"&hellip;)\" : \"&lsaquo;&lsaquo;&lsaquo;\";\n",
       "    expanded = !expanded;\n",
       "  });\n",
       "})();\n",
       "</script>\n"
      ],
      "text/plain": [
       "GlyphRenderer(id='d29ccd1d-5ba2-41ed-844c-567af5f06a37', ...)"
      ]
     },
     "execution_count": 17,
     "metadata": {},
     "output_type": "execute_result"
    }
   ],
   "source": [
    "from bokeh.models.annotations import Label\n",
    "from bokeh.plotting import figure\n",
    "\n",
    "p=figure(x_range=(0,10),y_range=(0,10))\n",
    "p.circle([2,5,8],[4,7, 6],color=\"olive\",size=10)"
   ]
  },
  {
   "cell_type": "code",
   "execution_count": 18,
   "metadata": {},
   "outputs": [
    {
     "data": {
      "text/html": [
       "\n",
       "<div class=\"bk-root\">\n",
       "    <div class=\"bk-plotdiv\" id=\"782e255f-c402-4aad-bf6b-1deee524fd62\"></div>\n",
       "</div>"
      ]
     },
     "metadata": {},
     "output_type": "display_data"
    },
    {
     "data": {
      "application/javascript": [
       "(function(root) {\n",
       "  function embed_document(root) {\n",
       "    var docs_json = {\"6461052c-e91b-4d33-abb4-3c4fb092b9c3\":{\"roots\":{\"references\":[{\"attributes\":{},\"id\":\"8e0f89b5-5f23-4504-b5c8-c53414fdb691\",\"type\":\"WheelZoomTool\"},{\"attributes\":{\"data_source\":{\"id\":\"b742fe40-75d6-4f33-824e-b6bf513c5027\",\"type\":\"ColumnDataSource\"},\"glyph\":{\"id\":\"c50a9734-6adb-4473-8079-4a1a2c5885d0\",\"type\":\"Circle\"},\"hover_glyph\":null,\"muted_glyph\":null,\"nonselection_glyph\":{\"id\":\"9927e18a-ba8d-4b01-ae5a-1958e728bb14\",\"type\":\"Circle\"},\"selection_glyph\":null,\"view\":{\"id\":\"cfa9849e-6a6e-4817-a37c-3296c4adbaf6\",\"type\":\"CDSView\"}},\"id\":\"d29ccd1d-5ba2-41ed-844c-567af5f06a37\",\"type\":\"GlyphRenderer\"},{\"attributes\":{\"callback\":null,\"end\":10},\"id\":\"dc6395a1-a868-49b2-ba9d-9ca254940c6b\",\"type\":\"Range1d\"},{\"attributes\":{\"callback\":null,\"end\":10},\"id\":\"db17a08a-d466-4d55-9780-2eb6e6701fed\",\"type\":\"Range1d\"},{\"attributes\":{\"overlay\":{\"id\":\"d3f96c33-d785-4b89-a6db-83f58b05e2ca\",\"type\":\"BoxAnnotation\"}},\"id\":\"501f51f1-7b39-4ea9-8afa-d0ce27470d43\",\"type\":\"BoxZoomTool\"},{\"attributes\":{\"callback\":null,\"column_names\":[\"x\",\"y\"],\"data\":{\"x\":[2,5,8],\"y\":[4,7,6]}},\"id\":\"b742fe40-75d6-4f33-824e-b6bf513c5027\",\"type\":\"ColumnDataSource\"},{\"attributes\":{},\"id\":\"d9c891eb-3755-4763-b948-2959b2009ae1\",\"type\":\"LinearScale\"},{\"attributes\":{},\"id\":\"5b78c507-27d8-4098-bada-450762c2e2a1\",\"type\":\"SaveTool\"},{\"attributes\":{\"active_drag\":\"auto\",\"active_inspect\":\"auto\",\"active_scroll\":\"auto\",\"active_tap\":\"auto\",\"tools\":[{\"id\":\"55733a60-ef60-4c77-8996-d36ab8dce77b\",\"type\":\"PanTool\"},{\"id\":\"8e0f89b5-5f23-4504-b5c8-c53414fdb691\",\"type\":\"WheelZoomTool\"},{\"id\":\"501f51f1-7b39-4ea9-8afa-d0ce27470d43\",\"type\":\"BoxZoomTool\"},{\"id\":\"5b78c507-27d8-4098-bada-450762c2e2a1\",\"type\":\"SaveTool\"},{\"id\":\"b9b82e02-5a0a-4dfe-99fa-e9eb6480e0d9\",\"type\":\"ResetTool\"},{\"id\":\"1c6843cf-b13c-4293-9c8a-f57c72ba404f\",\"type\":\"HelpTool\"}]},\"id\":\"2094ffbc-6e0b-4fe0-9396-98397fa366f8\",\"type\":\"Toolbar\"},{\"attributes\":{},\"id\":\"b9b82e02-5a0a-4dfe-99fa-e9eb6480e0d9\",\"type\":\"ResetTool\"},{\"attributes\":{},\"id\":\"0091f228-1cf5-41b1-b750-cab4f1a7de91\",\"type\":\"LinearScale\"},{\"attributes\":{},\"id\":\"1c6843cf-b13c-4293-9c8a-f57c72ba404f\",\"type\":\"HelpTool\"},{\"attributes\":{\"plot\":{\"id\":\"e3f3d861-40f6-4379-b774-5ca86badd2f5\",\"subtype\":\"Figure\",\"type\":\"Plot\"},\"ticker\":{\"id\":\"cefa4fda-9947-445d-8aea-55c658ed4c51\",\"type\":\"BasicTicker\"}},\"id\":\"04fc042b-4c7b-4b7d-a696-80100288265f\",\"type\":\"Grid\"},{\"attributes\":{\"formatter\":{\"id\":\"cbb3fcc4-9d0c-4d1b-81e5-d185da246003\",\"type\":\"BasicTickFormatter\"},\"plot\":{\"id\":\"e3f3d861-40f6-4379-b774-5ca86badd2f5\",\"subtype\":\"Figure\",\"type\":\"Plot\"},\"ticker\":{\"id\":\"cefa4fda-9947-445d-8aea-55c658ed4c51\",\"type\":\"BasicTicker\"}},\"id\":\"4a3e9332-3fd0-4d5d-9816-567b7d30eb0d\",\"type\":\"LinearAxis\"},{\"attributes\":{},\"id\":\"cefa4fda-9947-445d-8aea-55c658ed4c51\",\"type\":\"BasicTicker\"},{\"attributes\":{\"plot\":null,\"text\":\"\"},\"id\":\"ca56fac2-8527-4769-8919-ea000f5ddfb5\",\"type\":\"Title\"},{\"attributes\":{\"formatter\":{\"id\":\"e918d087-7ba7-4a2b-b307-7bb691673843\",\"type\":\"BasicTickFormatter\"},\"plot\":{\"id\":\"e3f3d861-40f6-4379-b774-5ca86badd2f5\",\"subtype\":\"Figure\",\"type\":\"Plot\"},\"ticker\":{\"id\":\"1b006a4e-3483-4b36-91ad-5093f226c579\",\"type\":\"BasicTicker\"}},\"id\":\"3953ad3a-0270-48d2-8b4a-cecb63867168\",\"type\":\"LinearAxis\"},{\"attributes\":{},\"id\":\"1b006a4e-3483-4b36-91ad-5093f226c579\",\"type\":\"BasicTicker\"},{\"attributes\":{\"dimension\":1,\"plot\":{\"id\":\"e3f3d861-40f6-4379-b774-5ca86badd2f5\",\"subtype\":\"Figure\",\"type\":\"Plot\"},\"ticker\":{\"id\":\"1b006a4e-3483-4b36-91ad-5093f226c579\",\"type\":\"BasicTicker\"}},\"id\":\"70d56db4-e15c-4441-9158-93c13f2bf5d4\",\"type\":\"Grid\"},{\"attributes\":{\"below\":[{\"id\":\"4a3e9332-3fd0-4d5d-9816-567b7d30eb0d\",\"type\":\"LinearAxis\"}],\"left\":[{\"id\":\"3953ad3a-0270-48d2-8b4a-cecb63867168\",\"type\":\"LinearAxis\"}],\"renderers\":[{\"id\":\"4a3e9332-3fd0-4d5d-9816-567b7d30eb0d\",\"type\":\"LinearAxis\"},{\"id\":\"04fc042b-4c7b-4b7d-a696-80100288265f\",\"type\":\"Grid\"},{\"id\":\"3953ad3a-0270-48d2-8b4a-cecb63867168\",\"type\":\"LinearAxis\"},{\"id\":\"70d56db4-e15c-4441-9158-93c13f2bf5d4\",\"type\":\"Grid\"},{\"id\":\"d3f96c33-d785-4b89-a6db-83f58b05e2ca\",\"type\":\"BoxAnnotation\"},{\"id\":\"d29ccd1d-5ba2-41ed-844c-567af5f06a37\",\"type\":\"GlyphRenderer\"},{\"id\":\"4ade6be6-69dd-4479-a7b4-ac1effd82dda\",\"type\":\"Label\"}],\"title\":{\"id\":\"ca56fac2-8527-4769-8919-ea000f5ddfb5\",\"type\":\"Title\"},\"toolbar\":{\"id\":\"2094ffbc-6e0b-4fe0-9396-98397fa366f8\",\"type\":\"Toolbar\"},\"x_range\":{\"id\":\"dc6395a1-a868-49b2-ba9d-9ca254940c6b\",\"type\":\"Range1d\"},\"x_scale\":{\"id\":\"d9c891eb-3755-4763-b948-2959b2009ae1\",\"type\":\"LinearScale\"},\"y_range\":{\"id\":\"db17a08a-d466-4d55-9780-2eb6e6701fed\",\"type\":\"Range1d\"},\"y_scale\":{\"id\":\"0091f228-1cf5-41b1-b750-cab4f1a7de91\",\"type\":\"LinearScale\"}},\"id\":\"e3f3d861-40f6-4379-b774-5ca86badd2f5\",\"subtype\":\"Figure\",\"type\":\"Plot\"},{\"attributes\":{\"source\":{\"id\":\"b742fe40-75d6-4f33-824e-b6bf513c5027\",\"type\":\"ColumnDataSource\"}},\"id\":\"cfa9849e-6a6e-4817-a37c-3296c4adbaf6\",\"type\":\"CDSView\"},{\"attributes\":{\"plot\":{\"id\":\"e3f3d861-40f6-4379-b774-5ca86badd2f5\",\"subtype\":\"Figure\",\"type\":\"Plot\"},\"text\":\"Second Point\",\"text_baseline\":\"middle\",\"x\":5,\"x_offset\":12,\"y\":7},\"id\":\"4ade6be6-69dd-4479-a7b4-ac1effd82dda\",\"type\":\"Label\"},{\"attributes\":{},\"id\":\"e918d087-7ba7-4a2b-b307-7bb691673843\",\"type\":\"BasicTickFormatter\"},{\"attributes\":{\"fill_alpha\":{\"value\":0.1},\"fill_color\":{\"value\":\"#1f77b4\"},\"line_alpha\":{\"value\":0.1},\"line_color\":{\"value\":\"#1f77b4\"},\"size\":{\"units\":\"screen\",\"value\":10},\"x\":{\"field\":\"x\"},\"y\":{\"field\":\"y\"}},\"id\":\"9927e18a-ba8d-4b01-ae5a-1958e728bb14\",\"type\":\"Circle\"},{\"attributes\":{},\"id\":\"cbb3fcc4-9d0c-4d1b-81e5-d185da246003\",\"type\":\"BasicTickFormatter\"},{\"attributes\":{\"bottom_units\":\"screen\",\"fill_alpha\":{\"value\":0.5},\"fill_color\":{\"value\":\"lightgrey\"},\"left_units\":\"screen\",\"level\":\"overlay\",\"line_alpha\":{\"value\":1.0},\"line_color\":{\"value\":\"black\"},\"line_dash\":[4,4],\"line_width\":{\"value\":2},\"plot\":null,\"render_mode\":\"css\",\"right_units\":\"screen\",\"top_units\":\"screen\"},\"id\":\"d3f96c33-d785-4b89-a6db-83f58b05e2ca\",\"type\":\"BoxAnnotation\"},{\"attributes\":{},\"id\":\"55733a60-ef60-4c77-8996-d36ab8dce77b\",\"type\":\"PanTool\"},{\"attributes\":{\"fill_color\":{\"value\":\"olive\"},\"line_color\":{\"value\":\"olive\"},\"size\":{\"units\":\"screen\",\"value\":10},\"x\":{\"field\":\"x\"},\"y\":{\"field\":\"y\"}},\"id\":\"c50a9734-6adb-4473-8079-4a1a2c5885d0\",\"type\":\"Circle\"}],\"root_ids\":[\"e3f3d861-40f6-4379-b774-5ca86badd2f5\"]},\"title\":\"Bokeh Application\",\"version\":\"0.12.10\"}};\n",
       "    var render_items = [{\"docid\":\"6461052c-e91b-4d33-abb4-3c4fb092b9c3\",\"elementid\":\"782e255f-c402-4aad-bf6b-1deee524fd62\",\"modelid\":\"e3f3d861-40f6-4379-b774-5ca86badd2f5\"}];\n",
       "\n",
       "    root.Bokeh.embed.embed_items(docs_json, render_items);\n",
       "  }\n",
       "\n",
       "  if (root.Bokeh !== undefined) {\n",
       "    embed_document(root);\n",
       "  } else {\n",
       "    var attempts = 0;\n",
       "    var timer = setInterval(function(root) {\n",
       "      if (root.Bokeh !== undefined) {\n",
       "        embed_document(root);\n",
       "        clearInterval(timer);\n",
       "      }\n",
       "      attempts++;\n",
       "      if (attempts > 100) {\n",
       "        console.log(\"Bokeh: ERROR: Unable to embed document because BokehJS library is missing\")\n",
       "        clearInterval(timer);\n",
       "      }\n",
       "    }, 10, root)\n",
       "  }\n",
       "})(window);"
      ],
      "application/vnd.bokehjs_exec.v0+json": ""
     },
     "metadata": {
      "application/vnd.bokehjs_exec.v0+json": {
       "id": "e3f3d861-40f6-4379-b774-5ca86badd2f5"
      }
     },
     "output_type": "display_data"
    }
   ],
   "source": [
    "label=Label(x=5,y=7,x_offset=12,text='Second Point',text_baseline=\"middle\")\n",
    "p.add_layout(label)\n",
    "\n",
    "show(p)"
   ]
  },
  {
   "cell_type": "code",
   "execution_count": 20,
   "metadata": {},
   "outputs": [
    {
     "data": {
      "text/html": [
       "\n",
       "<div class=\"bk-root\">\n",
       "    <div class=\"bk-plotdiv\" id=\"ecc3c467-36f9-41be-9dc9-777359361a26\"></div>\n",
       "</div>"
      ]
     },
     "metadata": {},
     "output_type": "display_data"
    },
    {
     "data": {
      "application/javascript": [
       "(function(root) {\n",
       "  function embed_document(root) {\n",
       "    var docs_json = {\"f4bc3eff-0cda-47a6-b422-6d24bc8acfba\":{\"roots\":{\"references\":[{\"attributes\":{},\"id\":\"8e0f89b5-5f23-4504-b5c8-c53414fdb691\",\"type\":\"WheelZoomTool\"},{\"attributes\":{\"data_source\":{\"id\":\"b742fe40-75d6-4f33-824e-b6bf513c5027\",\"type\":\"ColumnDataSource\"},\"glyph\":{\"id\":\"c50a9734-6adb-4473-8079-4a1a2c5885d0\",\"type\":\"Circle\"},\"hover_glyph\":null,\"muted_glyph\":null,\"nonselection_glyph\":{\"id\":\"9927e18a-ba8d-4b01-ae5a-1958e728bb14\",\"type\":\"Circle\"},\"selection_glyph\":null,\"view\":{\"id\":\"cfa9849e-6a6e-4817-a37c-3296c4adbaf6\",\"type\":\"CDSView\"}},\"id\":\"d29ccd1d-5ba2-41ed-844c-567af5f06a37\",\"type\":\"GlyphRenderer\"},{\"attributes\":{\"callback\":null,\"end\":10},\"id\":\"dc6395a1-a868-49b2-ba9d-9ca254940c6b\",\"type\":\"Range1d\"},{\"attributes\":{\"callback\":null,\"end\":10},\"id\":\"db17a08a-d466-4d55-9780-2eb6e6701fed\",\"type\":\"Range1d\"},{\"attributes\":{\"overlay\":{\"id\":\"d3f96c33-d785-4b89-a6db-83f58b05e2ca\",\"type\":\"BoxAnnotation\"}},\"id\":\"501f51f1-7b39-4ea9-8afa-d0ce27470d43\",\"type\":\"BoxZoomTool\"},{\"attributes\":{\"callback\":null,\"column_names\":[\"x\",\"y\"],\"data\":{\"x\":[2,5,8],\"y\":[4,7,6]}},\"id\":\"b742fe40-75d6-4f33-824e-b6bf513c5027\",\"type\":\"ColumnDataSource\"},{\"attributes\":{},\"id\":\"d9c891eb-3755-4763-b948-2959b2009ae1\",\"type\":\"LinearScale\"},{\"attributes\":{},\"id\":\"5b78c507-27d8-4098-bada-450762c2e2a1\",\"type\":\"SaveTool\"},{\"attributes\":{\"active_drag\":\"auto\",\"active_inspect\":\"auto\",\"active_scroll\":\"auto\",\"active_tap\":\"auto\",\"tools\":[{\"id\":\"55733a60-ef60-4c77-8996-d36ab8dce77b\",\"type\":\"PanTool\"},{\"id\":\"8e0f89b5-5f23-4504-b5c8-c53414fdb691\",\"type\":\"WheelZoomTool\"},{\"id\":\"501f51f1-7b39-4ea9-8afa-d0ce27470d43\",\"type\":\"BoxZoomTool\"},{\"id\":\"5b78c507-27d8-4098-bada-450762c2e2a1\",\"type\":\"SaveTool\"},{\"id\":\"b9b82e02-5a0a-4dfe-99fa-e9eb6480e0d9\",\"type\":\"ResetTool\"},{\"id\":\"1c6843cf-b13c-4293-9c8a-f57c72ba404f\",\"type\":\"HelpTool\"}]},\"id\":\"2094ffbc-6e0b-4fe0-9396-98397fa366f8\",\"type\":\"Toolbar\"},{\"attributes\":{},\"id\":\"b9b82e02-5a0a-4dfe-99fa-e9eb6480e0d9\",\"type\":\"ResetTool\"},{\"attributes\":{},\"id\":\"0091f228-1cf5-41b1-b750-cab4f1a7de91\",\"type\":\"LinearScale\"},{\"attributes\":{},\"id\":\"1c6843cf-b13c-4293-9c8a-f57c72ba404f\",\"type\":\"HelpTool\"},{\"attributes\":{\"plot\":{\"id\":\"e3f3d861-40f6-4379-b774-5ca86badd2f5\",\"subtype\":\"Figure\",\"type\":\"Plot\"},\"ticker\":{\"id\":\"cefa4fda-9947-445d-8aea-55c658ed4c51\",\"type\":\"BasicTicker\"}},\"id\":\"04fc042b-4c7b-4b7d-a696-80100288265f\",\"type\":\"Grid\"},{\"attributes\":{\"formatter\":{\"id\":\"cbb3fcc4-9d0c-4d1b-81e5-d185da246003\",\"type\":\"BasicTickFormatter\"},\"plot\":{\"id\":\"e3f3d861-40f6-4379-b774-5ca86badd2f5\",\"subtype\":\"Figure\",\"type\":\"Plot\"},\"ticker\":{\"id\":\"cefa4fda-9947-445d-8aea-55c658ed4c51\",\"type\":\"BasicTicker\"}},\"id\":\"4a3e9332-3fd0-4d5d-9816-567b7d30eb0d\",\"type\":\"LinearAxis\"},{\"attributes\":{},\"id\":\"cefa4fda-9947-445d-8aea-55c658ed4c51\",\"type\":\"BasicTicker\"},{\"attributes\":{\"plot\":null,\"text\":\"\"},\"id\":\"ca56fac2-8527-4769-8919-ea000f5ddfb5\",\"type\":\"Title\"},{\"attributes\":{\"formatter\":{\"id\":\"e918d087-7ba7-4a2b-b307-7bb691673843\",\"type\":\"BasicTickFormatter\"},\"plot\":{\"id\":\"e3f3d861-40f6-4379-b774-5ca86badd2f5\",\"subtype\":\"Figure\",\"type\":\"Plot\"},\"ticker\":{\"id\":\"1b006a4e-3483-4b36-91ad-5093f226c579\",\"type\":\"BasicTicker\"}},\"id\":\"3953ad3a-0270-48d2-8b4a-cecb63867168\",\"type\":\"LinearAxis\"},{\"attributes\":{},\"id\":\"1b006a4e-3483-4b36-91ad-5093f226c579\",\"type\":\"BasicTicker\"},{\"attributes\":{\"dimension\":1,\"plot\":{\"id\":\"e3f3d861-40f6-4379-b774-5ca86badd2f5\",\"subtype\":\"Figure\",\"type\":\"Plot\"},\"ticker\":{\"id\":\"1b006a4e-3483-4b36-91ad-5093f226c579\",\"type\":\"BasicTicker\"}},\"id\":\"70d56db4-e15c-4441-9158-93c13f2bf5d4\",\"type\":\"Grid\"},{\"attributes\":{\"plot\":{\"id\":\"e3f3d861-40f6-4379-b774-5ca86badd2f5\",\"subtype\":\"Figure\",\"type\":\"Plot\"},\"text\":\"Third Point\",\"text_baseline\":\"middle\",\"x\":8,\"x_offset\":12,\"y\":6},\"id\":\"9efa9c3b-12be-4438-9c45-5996f83292ec\",\"type\":\"Label\"},{\"attributes\":{\"below\":[{\"id\":\"4a3e9332-3fd0-4d5d-9816-567b7d30eb0d\",\"type\":\"LinearAxis\"}],\"left\":[{\"id\":\"3953ad3a-0270-48d2-8b4a-cecb63867168\",\"type\":\"LinearAxis\"}],\"renderers\":[{\"id\":\"4a3e9332-3fd0-4d5d-9816-567b7d30eb0d\",\"type\":\"LinearAxis\"},{\"id\":\"04fc042b-4c7b-4b7d-a696-80100288265f\",\"type\":\"Grid\"},{\"id\":\"3953ad3a-0270-48d2-8b4a-cecb63867168\",\"type\":\"LinearAxis\"},{\"id\":\"70d56db4-e15c-4441-9158-93c13f2bf5d4\",\"type\":\"Grid\"},{\"id\":\"d3f96c33-d785-4b89-a6db-83f58b05e2ca\",\"type\":\"BoxAnnotation\"},{\"id\":\"d29ccd1d-5ba2-41ed-844c-567af5f06a37\",\"type\":\"GlyphRenderer\"},{\"id\":\"4ade6be6-69dd-4479-a7b4-ac1effd82dda\",\"type\":\"Label\"},{\"id\":\"9efa9c3b-12be-4438-9c45-5996f83292ec\",\"type\":\"Label\"}],\"title\":{\"id\":\"ca56fac2-8527-4769-8919-ea000f5ddfb5\",\"type\":\"Title\"},\"toolbar\":{\"id\":\"2094ffbc-6e0b-4fe0-9396-98397fa366f8\",\"type\":\"Toolbar\"},\"x_range\":{\"id\":\"dc6395a1-a868-49b2-ba9d-9ca254940c6b\",\"type\":\"Range1d\"},\"x_scale\":{\"id\":\"d9c891eb-3755-4763-b948-2959b2009ae1\",\"type\":\"LinearScale\"},\"y_range\":{\"id\":\"db17a08a-d466-4d55-9780-2eb6e6701fed\",\"type\":\"Range1d\"},\"y_scale\":{\"id\":\"0091f228-1cf5-41b1-b750-cab4f1a7de91\",\"type\":\"LinearScale\"}},\"id\":\"e3f3d861-40f6-4379-b774-5ca86badd2f5\",\"subtype\":\"Figure\",\"type\":\"Plot\"},{\"attributes\":{\"source\":{\"id\":\"b742fe40-75d6-4f33-824e-b6bf513c5027\",\"type\":\"ColumnDataSource\"}},\"id\":\"cfa9849e-6a6e-4817-a37c-3296c4adbaf6\",\"type\":\"CDSView\"},{\"attributes\":{\"plot\":{\"id\":\"e3f3d861-40f6-4379-b774-5ca86badd2f5\",\"subtype\":\"Figure\",\"type\":\"Plot\"},\"text\":\"Second Point\",\"text_baseline\":\"middle\",\"x\":5,\"x_offset\":12,\"y\":7},\"id\":\"4ade6be6-69dd-4479-a7b4-ac1effd82dda\",\"type\":\"Label\"},{\"attributes\":{},\"id\":\"e918d087-7ba7-4a2b-b307-7bb691673843\",\"type\":\"BasicTickFormatter\"},{\"attributes\":{\"fill_alpha\":{\"value\":0.1},\"fill_color\":{\"value\":\"#1f77b4\"},\"line_alpha\":{\"value\":0.1},\"line_color\":{\"value\":\"#1f77b4\"},\"size\":{\"units\":\"screen\",\"value\":10},\"x\":{\"field\":\"x\"},\"y\":{\"field\":\"y\"}},\"id\":\"9927e18a-ba8d-4b01-ae5a-1958e728bb14\",\"type\":\"Circle\"},{\"attributes\":{},\"id\":\"cbb3fcc4-9d0c-4d1b-81e5-d185da246003\",\"type\":\"BasicTickFormatter\"},{\"attributes\":{\"bottom_units\":\"screen\",\"fill_alpha\":{\"value\":0.5},\"fill_color\":{\"value\":\"lightgrey\"},\"left_units\":\"screen\",\"level\":\"overlay\",\"line_alpha\":{\"value\":1.0},\"line_color\":{\"value\":\"black\"},\"line_dash\":[4,4],\"line_width\":{\"value\":2},\"plot\":null,\"render_mode\":\"css\",\"right_units\":\"screen\",\"top_units\":\"screen\"},\"id\":\"d3f96c33-d785-4b89-a6db-83f58b05e2ca\",\"type\":\"BoxAnnotation\"},{\"attributes\":{},\"id\":\"55733a60-ef60-4c77-8996-d36ab8dce77b\",\"type\":\"PanTool\"},{\"attributes\":{\"fill_color\":{\"value\":\"olive\"},\"line_color\":{\"value\":\"olive\"},\"size\":{\"units\":\"screen\",\"value\":10},\"x\":{\"field\":\"x\"},\"y\":{\"field\":\"y\"}},\"id\":\"c50a9734-6adb-4473-8079-4a1a2c5885d0\",\"type\":\"Circle\"}],\"root_ids\":[\"e3f3d861-40f6-4379-b774-5ca86badd2f5\"]},\"title\":\"Bokeh Application\",\"version\":\"0.12.10\"}};\n",
       "    var render_items = [{\"docid\":\"f4bc3eff-0cda-47a6-b422-6d24bc8acfba\",\"elementid\":\"ecc3c467-36f9-41be-9dc9-777359361a26\",\"modelid\":\"e3f3d861-40f6-4379-b774-5ca86badd2f5\"}];\n",
       "\n",
       "    root.Bokeh.embed.embed_items(docs_json, render_items);\n",
       "  }\n",
       "\n",
       "  if (root.Bokeh !== undefined) {\n",
       "    embed_document(root);\n",
       "  } else {\n",
       "    var attempts = 0;\n",
       "    var timer = setInterval(function(root) {\n",
       "      if (root.Bokeh !== undefined) {\n",
       "        embed_document(root);\n",
       "        clearInterval(timer);\n",
       "      }\n",
       "      attempts++;\n",
       "      if (attempts > 100) {\n",
       "        console.log(\"Bokeh: ERROR: Unable to embed document because BokehJS library is missing\")\n",
       "        clearInterval(timer);\n",
       "      }\n",
       "    }, 10, root)\n",
       "  }\n",
       "})(window);"
      ],
      "application/vnd.bokehjs_exec.v0+json": ""
     },
     "metadata": {
      "application/vnd.bokehjs_exec.v0+json": {
       "id": "e3f3d861-40f6-4379-b774-5ca86badd2f5"
      }
     },
     "output_type": "display_data"
    }
   ],
   "source": [
    "label=Label(x=8,y=6,x_offset=12,text='Third Point',text_baseline=\"middle\")\n",
    "p.add_layout(label)\n",
    "show(p)"
   ]
  },
  {
   "cell_type": "markdown",
   "metadata": {},
   "source": [
    "# LabelSet\n",
    "he LabelSet annotation allows you to create many labels at once, for instance if you want to label an entire set of scatter markers. They are similar to Label, but they can also accept a ColumnDataSource as the source property, and then x and y may refer to columns in the data source, e.g. x=\"col2\" (but may also still be fixed values, e.g. x=10)."
   ]
  },
  {
   "cell_type": "code",
   "execution_count": 21,
   "metadata": {},
   "outputs": [],
   "source": [
    "from bokeh.plotting import figure \n",
    "from bokeh.models import ColumnDataSource, LabelSet\n",
    "\n",
    "source=ColumnDataSource(data=dict(\n",
    "    temp=[166, 171, 172, 168, 174, 162],\n",
    "    pressure=[165, 189, 220, 141, 260, 174],\n",
    "    names=['A', 'B', 'C', 'D', 'E', 'F']))"
   ]
  },
  {
   "cell_type": "code",
   "execution_count": 22,
   "metadata": {},
   "outputs": [
    {
     "data": {
      "text/html": [
       "<div style=\"display: table;\"><div style=\"display: table-row;\"><div style=\"display: table-cell;\"><b title=\"bokeh.models.sources.ColumnDataSource\">ColumnDataSource</b>(</div><div style=\"display: table-cell;\">id&nbsp;=&nbsp;'caa859df-b1d9-485b-92df-f5db0c742b2a', <span id=\"621df83f-618e-47ad-8842-817ffa616110\" style=\"cursor: pointer;\">&hellip;)</span></div></div><div class=\"0e8f26ae-855e-4481-961a-4658773d8076\" style=\"display: none;\"><div style=\"display: table-cell;\"></div><div style=\"display: table-cell;\">callback&nbsp;=&nbsp;None,</div></div><div class=\"0e8f26ae-855e-4481-961a-4658773d8076\" style=\"display: none;\"><div style=\"display: table-cell;\"></div><div style=\"display: table-cell;\">column_names&nbsp;=&nbsp;['temp', 'pressure', 'names'],</div></div><div class=\"0e8f26ae-855e-4481-961a-4658773d8076\" style=\"display: none;\"><div style=\"display: table-cell;\"></div><div style=\"display: table-cell;\">data&nbsp;=&nbsp;{'temp': [166, 171, 172, 168, 174, 162], 'names': ['A', 'B', 'C', 'D', 'E', 'F'], 'pressure': [165, 189, 220, 141, 260, 174]},</div></div><div class=\"0e8f26ae-855e-4481-961a-4658773d8076\" style=\"display: none;\"><div style=\"display: table-cell;\"></div><div style=\"display: table-cell;\">js_event_callbacks&nbsp;=&nbsp;{},</div></div><div class=\"0e8f26ae-855e-4481-961a-4658773d8076\" style=\"display: none;\"><div style=\"display: table-cell;\"></div><div style=\"display: table-cell;\">js_property_callbacks&nbsp;=&nbsp;{},</div></div><div class=\"0e8f26ae-855e-4481-961a-4658773d8076\" style=\"display: none;\"><div style=\"display: table-cell;\"></div><div style=\"display: table-cell;\">name&nbsp;=&nbsp;None,</div></div><div class=\"0e8f26ae-855e-4481-961a-4658773d8076\" style=\"display: none;\"><div style=\"display: table-cell;\"></div><div style=\"display: table-cell;\">selected&nbsp;=&nbsp;{'0d': {'glyph': None, 'indices': []}, '1d': {'indices': []}, '2d': {'indices': {}}},</div></div><div class=\"0e8f26ae-855e-4481-961a-4658773d8076\" style=\"display: none;\"><div style=\"display: table-cell;\"></div><div style=\"display: table-cell;\">subscribed_events&nbsp;=&nbsp;[],</div></div><div class=\"0e8f26ae-855e-4481-961a-4658773d8076\" style=\"display: none;\"><div style=\"display: table-cell;\"></div><div style=\"display: table-cell;\">tags&nbsp;=&nbsp;[])</div></div></div>\n",
       "<script>\n",
       "(function() {\n",
       "  var expanded = false;\n",
       "  var ellipsis = document.getElementById(\"621df83f-618e-47ad-8842-817ffa616110\");\n",
       "  ellipsis.addEventListener(\"click\", function() {\n",
       "    var rows = document.getElementsByClassName(\"0e8f26ae-855e-4481-961a-4658773d8076\");\n",
       "    for (var i = 0; i < rows.length; i++) {\n",
       "      var el = rows[i];\n",
       "      el.style.display = expanded ? \"none\" : \"table-row\";\n",
       "    }\n",
       "    ellipsis.innerHTML = expanded ? \"&hellip;)\" : \"&lsaquo;&lsaquo;&lsaquo;\";\n",
       "    expanded = !expanded;\n",
       "  });\n",
       "})();\n",
       "</script>\n"
      ],
      "text/plain": [
       "ColumnDataSource(id='caa859df-b1d9-485b-92df-f5db0c742b2a', ...)"
      ]
     },
     "execution_count": 22,
     "metadata": {},
     "output_type": "execute_result"
    }
   ],
   "source": [
    "source"
   ]
  },
  {
   "cell_type": "code",
   "execution_count": 24,
   "metadata": {},
   "outputs": [
    {
     "data": {
      "text/html": [
       "\n",
       "<div class=\"bk-root\">\n",
       "    <div class=\"bk-plotdiv\" id=\"f784ff81-8759-4209-8fd7-cf10e5883456\"></div>\n",
       "</div>"
      ]
     },
     "metadata": {},
     "output_type": "display_data"
    },
    {
     "data": {
      "application/javascript": [
       "(function(root) {\n",
       "  function embed_document(root) {\n",
       "    var docs_json = {\"24ee699e-98e5-4f47-8d8a-1f023bdd2ff7\":{\"roots\":{\"references\":[{\"attributes\":{},\"id\":\"fb1a1cb2-cc7b-46de-9640-beec7a2ddff8\",\"type\":\"BasicTickFormatter\"},{\"attributes\":{},\"id\":\"638269dc-ae42-483b-b27b-2f036bfdb462\",\"type\":\"BasicTickFormatter\"},{\"attributes\":{\"fill_color\":{\"value\":\"#1f77b4\"},\"line_color\":{\"value\":\"#1f77b4\"},\"size\":{\"units\":\"screen\",\"value\":8},\"x\":{\"field\":\"temp\"},\"y\":{\"field\":\"pressure\"}},\"id\":\"16ce7c51-95a4-4c0b-a59f-0041a5781c5b\",\"type\":\"Circle\"},{\"attributes\":{\"dimension\":1,\"plot\":{\"id\":\"a513b48c-3b99-4be8-90bf-c1d3f67e91a3\",\"subtype\":\"Figure\",\"type\":\"Plot\"},\"ticker\":{\"id\":\"dfcc3782-85a7-4aaf-9b16-70f0eb3c73a0\",\"type\":\"BasicTicker\"}},\"id\":\"ce36e89e-46c0-43ba-be83-7b2de6471079\",\"type\":\"Grid\"},{\"attributes\":{\"bottom_units\":\"screen\",\"fill_alpha\":{\"value\":0.5},\"fill_color\":{\"value\":\"lightgrey\"},\"left_units\":\"screen\",\"level\":\"overlay\",\"line_alpha\":{\"value\":1.0},\"line_color\":{\"value\":\"black\"},\"line_dash\":[4,4],\"line_width\":{\"value\":2},\"plot\":null,\"render_mode\":\"css\",\"right_units\":\"screen\",\"top_units\":\"screen\"},\"id\":\"69f1ea0d-598e-4cf5-817c-5ad59a96dcf3\",\"type\":\"BoxAnnotation\"},{\"attributes\":{},\"id\":\"81ac3278-f602-4239-b19b-1dbc0cf4690a\",\"type\":\"PanTool\"},{\"attributes\":{},\"id\":\"8dcc8002-2387-4d32-b23e-a03048d5a55d\",\"type\":\"SaveTool\"},{\"attributes\":{\"below\":[{\"id\":\"3695aae5-b0a2-4345-8813-ad81033da01c\",\"type\":\"LinearAxis\"}],\"left\":[{\"id\":\"4db19c38-3464-4033-9d28-c2d4c7192627\",\"type\":\"LinearAxis\"}],\"renderers\":[{\"id\":\"3695aae5-b0a2-4345-8813-ad81033da01c\",\"type\":\"LinearAxis\"},{\"id\":\"2d38385e-7def-49c2-a25d-a4e3345c08f4\",\"type\":\"Grid\"},{\"id\":\"4db19c38-3464-4033-9d28-c2d4c7192627\",\"type\":\"LinearAxis\"},{\"id\":\"ce36e89e-46c0-43ba-be83-7b2de6471079\",\"type\":\"Grid\"},{\"id\":\"69f1ea0d-598e-4cf5-817c-5ad59a96dcf3\",\"type\":\"BoxAnnotation\"},{\"id\":\"7f5ef1be-c9b5-4c88-90ba-340b643a9917\",\"type\":\"GlyphRenderer\"},{\"id\":\"fbe2fb38-b96e-4027-bb2b-b6635782d26f\",\"type\":\"LabelSet\"}],\"title\":{\"id\":\"59784a84-3028-40ba-a77b-367974e82bcc\",\"type\":\"Title\"},\"toolbar\":{\"id\":\"380400aa-106c-495d-b32c-16f587705fd3\",\"type\":\"Toolbar\"},\"x_range\":{\"id\":\"762df505-614c-4ed0-9ac6-eb5fea8c0e09\",\"type\":\"Range1d\"},\"x_scale\":{\"id\":\"37757f60-6ee3-41c3-8547-9e23e20e8032\",\"type\":\"LinearScale\"},\"y_range\":{\"id\":\"dde0c82e-3ec5-4bff-bd51-1715895d5a81\",\"type\":\"DataRange1d\"},\"y_scale\":{\"id\":\"53d2d925-d374-435d-9315-f7ae24249d4e\",\"type\":\"LinearScale\"}},\"id\":\"a513b48c-3b99-4be8-90bf-c1d3f67e91a3\",\"subtype\":\"Figure\",\"type\":\"Plot\"},{\"attributes\":{},\"id\":\"2f03d327-d3fb-4263-9e64-b47e16d32327\",\"type\":\"WheelZoomTool\"},{\"attributes\":{\"fill_alpha\":{\"value\":0.1},\"fill_color\":{\"value\":\"#1f77b4\"},\"line_alpha\":{\"value\":0.1},\"line_color\":{\"value\":\"#1f77b4\"},\"size\":{\"units\":\"screen\",\"value\":8},\"x\":{\"field\":\"temp\"},\"y\":{\"field\":\"pressure\"}},\"id\":\"8d16bab3-0728-407f-b9ca-83bd2bf20ebc\",\"type\":\"Circle\"},{\"attributes\":{\"active_drag\":\"auto\",\"active_inspect\":\"auto\",\"active_scroll\":\"auto\",\"active_tap\":\"auto\",\"tools\":[{\"id\":\"81ac3278-f602-4239-b19b-1dbc0cf4690a\",\"type\":\"PanTool\"},{\"id\":\"2f03d327-d3fb-4263-9e64-b47e16d32327\",\"type\":\"WheelZoomTool\"},{\"id\":\"c571edf1-ca0b-4c10-8fac-3fe2e228bdfa\",\"type\":\"BoxZoomTool\"},{\"id\":\"8dcc8002-2387-4d32-b23e-a03048d5a55d\",\"type\":\"SaveTool\"},{\"id\":\"a825b724-ca12-4e71-9ecb-9ff12b6b19ea\",\"type\":\"ResetTool\"},{\"id\":\"790dc4a3-d1fc-4ddc-8e9e-066efd4e7bb4\",\"type\":\"HelpTool\"}]},\"id\":\"380400aa-106c-495d-b32c-16f587705fd3\",\"type\":\"Toolbar\"},{\"attributes\":{\"callback\":null,\"end\":175,\"start\":160},\"id\":\"762df505-614c-4ed0-9ac6-eb5fea8c0e09\",\"type\":\"Range1d\"},{\"attributes\":{\"data_source\":{\"id\":\"caa859df-b1d9-485b-92df-f5db0c742b2a\",\"type\":\"ColumnDataSource\"},\"glyph\":{\"id\":\"16ce7c51-95a4-4c0b-a59f-0041a5781c5b\",\"type\":\"Circle\"},\"hover_glyph\":null,\"muted_glyph\":null,\"nonselection_glyph\":{\"id\":\"8d16bab3-0728-407f-b9ca-83bd2bf20ebc\",\"type\":\"Circle\"},\"selection_glyph\":null,\"view\":{\"id\":\"dca7cca4-2e5b-4408-b052-499d30ce6a03\",\"type\":\"CDSView\"}},\"id\":\"7f5ef1be-c9b5-4c88-90ba-340b643a9917\",\"type\":\"GlyphRenderer\"},{\"attributes\":{\"level\":\"glyph\",\"plot\":{\"id\":\"a513b48c-3b99-4be8-90bf-c1d3f67e91a3\",\"subtype\":\"Figure\",\"type\":\"Plot\"},\"source\":{\"id\":\"caa859df-b1d9-485b-92df-f5db0c742b2a\",\"type\":\"ColumnDataSource\"},\"text\":{\"field\":\"names\"},\"x\":{\"field\":\"temp\"},\"x_offset\":{\"value\":5},\"y\":{\"field\":\"pressure\"},\"y_offset\":{\"value\":5}},\"id\":\"fbe2fb38-b96e-4027-bb2b-b6635782d26f\",\"type\":\"LabelSet\"},{\"attributes\":{},\"id\":\"a825b724-ca12-4e71-9ecb-9ff12b6b19ea\",\"type\":\"ResetTool\"},{\"attributes\":{\"callback\":null},\"id\":\"dde0c82e-3ec5-4bff-bd51-1715895d5a81\",\"type\":\"DataRange1d\"},{\"attributes\":{\"callback\":null,\"column_names\":[\"temp\",\"pressure\",\"names\"],\"data\":{\"names\":[\"A\",\"B\",\"C\",\"D\",\"E\",\"F\"],\"pressure\":[165,189,220,141,260,174],\"temp\":[166,171,172,168,174,162]}},\"id\":\"caa859df-b1d9-485b-92df-f5db0c742b2a\",\"type\":\"ColumnDataSource\"},{\"attributes\":{\"plot\":null,\"text\":\"\"},\"id\":\"59784a84-3028-40ba-a77b-367974e82bcc\",\"type\":\"Title\"},{\"attributes\":{},\"id\":\"37757f60-6ee3-41c3-8547-9e23e20e8032\",\"type\":\"LinearScale\"},{\"attributes\":{\"overlay\":{\"id\":\"69f1ea0d-598e-4cf5-817c-5ad59a96dcf3\",\"type\":\"BoxAnnotation\"}},\"id\":\"c571edf1-ca0b-4c10-8fac-3fe2e228bdfa\",\"type\":\"BoxZoomTool\"},{\"attributes\":{\"source\":{\"id\":\"caa859df-b1d9-485b-92df-f5db0c742b2a\",\"type\":\"ColumnDataSource\"}},\"id\":\"dca7cca4-2e5b-4408-b052-499d30ce6a03\",\"type\":\"CDSView\"},{\"attributes\":{},\"id\":\"53d2d925-d374-435d-9315-f7ae24249d4e\",\"type\":\"LinearScale\"},{\"attributes\":{\"plot\":{\"id\":\"a513b48c-3b99-4be8-90bf-c1d3f67e91a3\",\"subtype\":\"Figure\",\"type\":\"Plot\"},\"ticker\":{\"id\":\"f2effab9-e51d-4d41-912c-306270c4c895\",\"type\":\"BasicTicker\"}},\"id\":\"2d38385e-7def-49c2-a25d-a4e3345c08f4\",\"type\":\"Grid\"},{\"attributes\":{\"axis_label\":\"Temperature (C)\",\"formatter\":{\"id\":\"fb1a1cb2-cc7b-46de-9640-beec7a2ddff8\",\"type\":\"BasicTickFormatter\"},\"plot\":{\"id\":\"a513b48c-3b99-4be8-90bf-c1d3f67e91a3\",\"subtype\":\"Figure\",\"type\":\"Plot\"},\"ticker\":{\"id\":\"f2effab9-e51d-4d41-912c-306270c4c895\",\"type\":\"BasicTicker\"}},\"id\":\"3695aae5-b0a2-4345-8813-ad81033da01c\",\"type\":\"LinearAxis\"},{\"attributes\":{},\"id\":\"f2effab9-e51d-4d41-912c-306270c4c895\",\"type\":\"BasicTicker\"},{\"attributes\":{},\"id\":\"790dc4a3-d1fc-4ddc-8e9e-066efd4e7bb4\",\"type\":\"HelpTool\"},{\"attributes\":{\"axis_label\":\"Pressure (lbs)\",\"formatter\":{\"id\":\"638269dc-ae42-483b-b27b-2f036bfdb462\",\"type\":\"BasicTickFormatter\"},\"plot\":{\"id\":\"a513b48c-3b99-4be8-90bf-c1d3f67e91a3\",\"subtype\":\"Figure\",\"type\":\"Plot\"},\"ticker\":{\"id\":\"dfcc3782-85a7-4aaf-9b16-70f0eb3c73a0\",\"type\":\"BasicTicker\"}},\"id\":\"4db19c38-3464-4033-9d28-c2d4c7192627\",\"type\":\"LinearAxis\"},{\"attributes\":{},\"id\":\"dfcc3782-85a7-4aaf-9b16-70f0eb3c73a0\",\"type\":\"BasicTicker\"}],\"root_ids\":[\"a513b48c-3b99-4be8-90bf-c1d3f67e91a3\"]},\"title\":\"Bokeh Application\",\"version\":\"0.12.10\"}};\n",
       "    var render_items = [{\"docid\":\"24ee699e-98e5-4f47-8d8a-1f023bdd2ff7\",\"elementid\":\"f784ff81-8759-4209-8fd7-cf10e5883456\",\"modelid\":\"a513b48c-3b99-4be8-90bf-c1d3f67e91a3\"}];\n",
       "\n",
       "    root.Bokeh.embed.embed_items(docs_json, render_items);\n",
       "  }\n",
       "\n",
       "  if (root.Bokeh !== undefined) {\n",
       "    embed_document(root);\n",
       "  } else {\n",
       "    var attempts = 0;\n",
       "    var timer = setInterval(function(root) {\n",
       "      if (root.Bokeh !== undefined) {\n",
       "        embed_document(root);\n",
       "        clearInterval(timer);\n",
       "      }\n",
       "      attempts++;\n",
       "      if (attempts > 100) {\n",
       "        console.log(\"Bokeh: ERROR: Unable to embed document because BokehJS library is missing\")\n",
       "        clearInterval(timer);\n",
       "      }\n",
       "    }, 10, root)\n",
       "  }\n",
       "})(window);"
      ],
      "application/vnd.bokehjs_exec.v0+json": ""
     },
     "metadata": {
      "application/vnd.bokehjs_exec.v0+json": {
       "id": "a513b48c-3b99-4be8-90bf-c1d3f67e91a3"
      }
     },
     "output_type": "display_data"
    }
   ],
   "source": [
    "p=figure(x_range=(160,175))\n",
    "p.scatter(x='temp',y='pressure',size=8,source=source)\n",
    "p.xaxis.axis_label = 'Temperature (C)'\n",
    "p.yaxis.axis_label = 'Pressure (lbs)'\n",
    "\n",
    "labels=LabelSet(x='temp',y='pressure',text='names',level='glyph',\n",
    "               x_offset=5,y_offset=5,source=source,render_mode='canvas')\n",
    "\n",
    "p.add_layout(labels)\n",
    "show(p)"
   ]
  },
  {
   "cell_type": "markdown",
   "metadata": {},
   "source": [
    "# Arrows\n",
    "The Arrow annotation allows you to \"point\" at different things on your plot, and can be especially useful in conjuction with labels.\n",
    "\n",
    "For example, to create an arrow that points from (0,0) to (1,1):\n",
    "\n",
    "p.add_layout(Arrow(x_start=0, y_start=0, x_end=1, y_end=0))\n",
    "This arrow will have the default OpenHead arrow head at the end of the arrow. Other kinds of arrow heads include NormalHead and VeeHead. The arrow head type can be controlled by setting the start and end properties of Arrow objects:\n",
    "\n",
    "p.add_layout(Arrow(start=OpenHead(), end=VeeHead(), \n",
    "             x_start=0, y_start=0, x_end=1, y_end=0))\n",
    "This will create a double-ended arrow with an \"open\" head at the start, and a \"vee\" head at the end. Arrowheads have the standard set of line and fill properties to control their appearance. As an example\n",
    "\n",
    "OpenHead(line_color=\"firebrick\", line_width=4)\n",
    "The code and plot below shows several of these configurations together."
   ]
  },
  {
   "cell_type": "code",
   "execution_count": 25,
   "metadata": {},
   "outputs": [],
   "source": [
    "from bokeh.models.annotations import Arrow\n",
    "from bokeh.models.arrow_heads import OpenHead, NormalHead, VeeHead"
   ]
  },
  {
   "cell_type": "code",
   "execution_count": 26,
   "metadata": {},
   "outputs": [],
   "source": [
    "p=figure(plot_width=600,plot_height=600)\n",
    "\n",
    "p.circle(x=[0,1,0.5],y=[0,0,0.7],radius=0.1,\n",
    "        color=[\"navy\",\"yellow\",\"red\"],fill_alpha=0.1)\n",
    "\n",
    "p.add_layout(Arrow(end=OpenHead(line_color=\"firebrick\", line_width=4),\n",
    "                   x_start=0, y_start=0, x_end=1, y_end=0))\n",
    "\n",
    "p.add_layout(Arrow(end=NormalHead(fill_color=\"orange\"),\n",
    "                   x_start=1, y_start=0, x_end=0.5, y_end=0.7))\n",
    "\n",
    "p.add_layout(Arrow(end=VeeHead(size=35), line_color=\"red\",\n",
    "                   x_start=0.5, y_start=0.7, x_end=0, y_end=0))"
   ]
  },
  {
   "cell_type": "code",
   "execution_count": 27,
   "metadata": {},
   "outputs": [
    {
     "data": {
      "text/html": [
       "\n",
       "<div class=\"bk-root\">\n",
       "    <div class=\"bk-plotdiv\" id=\"7aa8f913-0d24-43dd-9317-0f220628bad6\"></div>\n",
       "</div>"
      ]
     },
     "metadata": {},
     "output_type": "display_data"
    },
    {
     "data": {
      "application/javascript": [
       "(function(root) {\n",
       "  function embed_document(root) {\n",
       "    var docs_json = {\"2b635e88-e09e-4e9c-8ba9-cbd6bbe7e6df\":{\"roots\":{\"references\":[{\"attributes\":{\"plot\":null,\"text\":\"\"},\"id\":\"713944cd-e3d9-4023-b0aa-2577ac3ce8c6\",\"type\":\"Title\"},{\"attributes\":{},\"id\":\"b0a667dd-8c9c-4080-9618-d8a482e9dad1\",\"type\":\"BasicTickFormatter\"},{\"attributes\":{\"end\":{\"id\":\"8937a4a7-7562-4e6d-b165-d65850012803\",\"type\":\"NormalHead\"},\"plot\":{\"id\":\"7977450d-3ddd-457a-91f5-843d949d7761\",\"subtype\":\"Figure\",\"type\":\"Plot\"},\"source\":null,\"start\":null,\"x_end\":{\"value\":0.5},\"x_start\":{\"value\":1},\"y_end\":{\"value\":0.7},\"y_start\":{\"value\":0}},\"id\":\"13e5b721-5c27-4cc8-8fd2-c3f7868740ed\",\"type\":\"Arrow\"},{\"attributes\":{},\"id\":\"e3d6b4ef-9707-410a-8ebc-dc00f034ef8e\",\"type\":\"BasicTickFormatter\"},{\"attributes\":{\"below\":[{\"id\":\"5e56b55f-b308-4c0d-afcb-d9ef33dce689\",\"type\":\"LinearAxis\"}],\"left\":[{\"id\":\"2c33cc46-2518-46d6-90bb-013128d85f20\",\"type\":\"LinearAxis\"}],\"renderers\":[{\"id\":\"5e56b55f-b308-4c0d-afcb-d9ef33dce689\",\"type\":\"LinearAxis\"},{\"id\":\"c1cd2f2a-c6d5-4240-80d2-2977b35fd43c\",\"type\":\"Grid\"},{\"id\":\"2c33cc46-2518-46d6-90bb-013128d85f20\",\"type\":\"LinearAxis\"},{\"id\":\"fd9c985a-c444-45ba-8254-4cb15b73cde5\",\"type\":\"Grid\"},{\"id\":\"b84986cd-a966-49aa-bcbb-7152b62d8129\",\"type\":\"BoxAnnotation\"},{\"id\":\"6c2e7abe-c6eb-4d47-9757-4c5227c86ab0\",\"type\":\"GlyphRenderer\"},{\"id\":\"fcff4965-8b7f-48db-949c-fd5de0181521\",\"type\":\"Arrow\"},{\"id\":\"13e5b721-5c27-4cc8-8fd2-c3f7868740ed\",\"type\":\"Arrow\"},{\"id\":\"63619da4-3d61-452a-b312-a6897e1bb9ee\",\"type\":\"Arrow\"}],\"title\":{\"id\":\"713944cd-e3d9-4023-b0aa-2577ac3ce8c6\",\"type\":\"Title\"},\"toolbar\":{\"id\":\"ece03007-bd07-4c5d-8640-b95391b5997b\",\"type\":\"Toolbar\"},\"x_range\":{\"id\":\"49d4237b-31e3-42fc-b735-3c6b2b9e7fbd\",\"type\":\"DataRange1d\"},\"x_scale\":{\"id\":\"7d7bba17-7f4b-4121-83ab-209fbd1cbc7e\",\"type\":\"LinearScale\"},\"y_range\":{\"id\":\"0a156382-71e3-409b-ad57-6c16d7d02654\",\"type\":\"DataRange1d\"},\"y_scale\":{\"id\":\"5dbfaa6f-dc7b-4340-ab07-296fc65de0b8\",\"type\":\"LinearScale\"}},\"id\":\"7977450d-3ddd-457a-91f5-843d949d7761\",\"subtype\":\"Figure\",\"type\":\"Plot\"},{\"attributes\":{\"callback\":null,\"column_names\":[\"x\",\"y\",\"fill_color\",\"line_color\"],\"data\":{\"fill_color\":[\"navy\",\"yellow\",\"red\"],\"line_color\":[\"navy\",\"yellow\",\"red\"],\"x\":[0,1,0.5],\"y\":[0,0,0.7]}},\"id\":\"4aee9cbf-9a8f-4a92-a66f-99c4a16dbf8a\",\"type\":\"ColumnDataSource\"},{\"attributes\":{\"data_source\":{\"id\":\"4aee9cbf-9a8f-4a92-a66f-99c4a16dbf8a\",\"type\":\"ColumnDataSource\"},\"glyph\":{\"id\":\"8acbf367-7626-4288-a950-e5351f46dff5\",\"type\":\"Circle\"},\"hover_glyph\":null,\"muted_glyph\":null,\"nonselection_glyph\":{\"id\":\"ad00300b-7b3a-4b0a-a249-505f88c190f9\",\"type\":\"Circle\"},\"selection_glyph\":null,\"view\":{\"id\":\"c3658c23-3f2f-435b-8d74-645351c2136e\",\"type\":\"CDSView\"}},\"id\":\"6c2e7abe-c6eb-4d47-9757-4c5227c86ab0\",\"type\":\"GlyphRenderer\"},{\"attributes\":{\"fill_color\":{\"value\":\"orange\"},\"plot\":null},\"id\":\"8937a4a7-7562-4e6d-b165-d65850012803\",\"type\":\"NormalHead\"},{\"attributes\":{\"active_drag\":\"auto\",\"active_inspect\":\"auto\",\"active_scroll\":\"auto\",\"active_tap\":\"auto\",\"tools\":[{\"id\":\"e81587be-5c2d-4573-9d32-614c5d80088a\",\"type\":\"PanTool\"},{\"id\":\"ee5eb8b7-f680-4f2b-82dd-a4412c76e7d5\",\"type\":\"WheelZoomTool\"},{\"id\":\"d0d064f1-d728-4fd2-8c68-b0b635049f9a\",\"type\":\"BoxZoomTool\"},{\"id\":\"931e45ca-a6c2-48ea-bf7d-a7f384965ef7\",\"type\":\"SaveTool\"},{\"id\":\"dfa5fb3e-9378-4861-8021-607506f4e6f3\",\"type\":\"ResetTool\"},{\"id\":\"71f7b270-793b-4d87-b617-efa55530cd25\",\"type\":\"HelpTool\"}]},\"id\":\"ece03007-bd07-4c5d-8640-b95391b5997b\",\"type\":\"Toolbar\"},{\"attributes\":{\"callback\":null},\"id\":\"49d4237b-31e3-42fc-b735-3c6b2b9e7fbd\",\"type\":\"DataRange1d\"},{\"attributes\":{\"fill_alpha\":{\"value\":0.1},\"fill_color\":{\"value\":\"#1f77b4\"},\"line_alpha\":{\"value\":0.1},\"line_color\":{\"value\":\"#1f77b4\"},\"radius\":{\"units\":\"data\",\"value\":0.1},\"x\":{\"field\":\"x\"},\"y\":{\"field\":\"y\"}},\"id\":\"ad00300b-7b3a-4b0a-a249-505f88c190f9\",\"type\":\"Circle\"},{\"attributes\":{\"callback\":null},\"id\":\"0a156382-71e3-409b-ad57-6c16d7d02654\",\"type\":\"DataRange1d\"},{\"attributes\":{},\"id\":\"7d7bba17-7f4b-4121-83ab-209fbd1cbc7e\",\"type\":\"LinearScale\"},{\"attributes\":{},\"id\":\"5dbfaa6f-dc7b-4340-ab07-296fc65de0b8\",\"type\":\"LinearScale\"},{\"attributes\":{\"plot\":{\"id\":\"7977450d-3ddd-457a-91f5-843d949d7761\",\"subtype\":\"Figure\",\"type\":\"Plot\"},\"ticker\":{\"id\":\"8d6076e6-ab87-48f3-aef3-c583a56ed0ea\",\"type\":\"BasicTicker\"}},\"id\":\"c1cd2f2a-c6d5-4240-80d2-2977b35fd43c\",\"type\":\"Grid\"},{\"attributes\":{\"formatter\":{\"id\":\"e3d6b4ef-9707-410a-8ebc-dc00f034ef8e\",\"type\":\"BasicTickFormatter\"},\"plot\":{\"id\":\"7977450d-3ddd-457a-91f5-843d949d7761\",\"subtype\":\"Figure\",\"type\":\"Plot\"},\"ticker\":{\"id\":\"8d6076e6-ab87-48f3-aef3-c583a56ed0ea\",\"type\":\"BasicTicker\"}},\"id\":\"5e56b55f-b308-4c0d-afcb-d9ef33dce689\",\"type\":\"LinearAxis\"},{\"attributes\":{},\"id\":\"8d6076e6-ab87-48f3-aef3-c583a56ed0ea\",\"type\":\"BasicTicker\"},{\"attributes\":{\"plot\":null,\"size\":35},\"id\":\"6950d8d5-fd43-4021-b63c-789cb200a29a\",\"type\":\"VeeHead\"},{\"attributes\":{\"formatter\":{\"id\":\"b0a667dd-8c9c-4080-9618-d8a482e9dad1\",\"type\":\"BasicTickFormatter\"},\"plot\":{\"id\":\"7977450d-3ddd-457a-91f5-843d949d7761\",\"subtype\":\"Figure\",\"type\":\"Plot\"},\"ticker\":{\"id\":\"c49188d0-273c-4fa8-bb90-93149ea8c033\",\"type\":\"BasicTicker\"}},\"id\":\"2c33cc46-2518-46d6-90bb-013128d85f20\",\"type\":\"LinearAxis\"},{\"attributes\":{\"line_color\":{\"value\":\"firebrick\"},\"line_width\":{\"value\":4},\"plot\":null},\"id\":\"25637a68-373c-46bb-adc8-209c02a44ae2\",\"type\":\"OpenHead\"},{\"attributes\":{\"end\":{\"id\":\"6950d8d5-fd43-4021-b63c-789cb200a29a\",\"type\":\"VeeHead\"},\"line_color\":{\"value\":\"red\"},\"plot\":{\"id\":\"7977450d-3ddd-457a-91f5-843d949d7761\",\"subtype\":\"Figure\",\"type\":\"Plot\"},\"source\":null,\"start\":null,\"x_end\":{\"value\":0},\"x_start\":{\"value\":0.5},\"y_end\":{\"value\":0},\"y_start\":{\"value\":0.7}},\"id\":\"63619da4-3d61-452a-b312-a6897e1bb9ee\",\"type\":\"Arrow\"},{\"attributes\":{},\"id\":\"c49188d0-273c-4fa8-bb90-93149ea8c033\",\"type\":\"BasicTicker\"},{\"attributes\":{\"end\":{\"id\":\"25637a68-373c-46bb-adc8-209c02a44ae2\",\"type\":\"OpenHead\"},\"plot\":{\"id\":\"7977450d-3ddd-457a-91f5-843d949d7761\",\"subtype\":\"Figure\",\"type\":\"Plot\"},\"source\":null,\"start\":null,\"x_end\":{\"value\":1},\"x_start\":{\"value\":0},\"y_end\":{\"value\":0},\"y_start\":{\"value\":0}},\"id\":\"fcff4965-8b7f-48db-949c-fd5de0181521\",\"type\":\"Arrow\"},{\"attributes\":{\"dimension\":1,\"plot\":{\"id\":\"7977450d-3ddd-457a-91f5-843d949d7761\",\"subtype\":\"Figure\",\"type\":\"Plot\"},\"ticker\":{\"id\":\"c49188d0-273c-4fa8-bb90-93149ea8c033\",\"type\":\"BasicTicker\"}},\"id\":\"fd9c985a-c444-45ba-8254-4cb15b73cde5\",\"type\":\"Grid\"},{\"attributes\":{\"fill_alpha\":{\"value\":0.1},\"fill_color\":{\"field\":\"fill_color\"},\"line_color\":{\"field\":\"line_color\"},\"radius\":{\"units\":\"data\",\"value\":0.1},\"x\":{\"field\":\"x\"},\"y\":{\"field\":\"y\"}},\"id\":\"8acbf367-7626-4288-a950-e5351f46dff5\",\"type\":\"Circle\"},{\"attributes\":{\"bottom_units\":\"screen\",\"fill_alpha\":{\"value\":0.5},\"fill_color\":{\"value\":\"lightgrey\"},\"left_units\":\"screen\",\"level\":\"overlay\",\"line_alpha\":{\"value\":1.0},\"line_color\":{\"value\":\"black\"},\"line_dash\":[4,4],\"line_width\":{\"value\":2},\"plot\":null,\"render_mode\":\"css\",\"right_units\":\"screen\",\"top_units\":\"screen\"},\"id\":\"b84986cd-a966-49aa-bcbb-7152b62d8129\",\"type\":\"BoxAnnotation\"},{\"attributes\":{},\"id\":\"e81587be-5c2d-4573-9d32-614c5d80088a\",\"type\":\"PanTool\"},{\"attributes\":{\"source\":{\"id\":\"4aee9cbf-9a8f-4a92-a66f-99c4a16dbf8a\",\"type\":\"ColumnDataSource\"}},\"id\":\"c3658c23-3f2f-435b-8d74-645351c2136e\",\"type\":\"CDSView\"},{\"attributes\":{},\"id\":\"ee5eb8b7-f680-4f2b-82dd-a4412c76e7d5\",\"type\":\"WheelZoomTool\"},{\"attributes\":{\"overlay\":{\"id\":\"b84986cd-a966-49aa-bcbb-7152b62d8129\",\"type\":\"BoxAnnotation\"}},\"id\":\"d0d064f1-d728-4fd2-8c68-b0b635049f9a\",\"type\":\"BoxZoomTool\"},{\"attributes\":{},\"id\":\"931e45ca-a6c2-48ea-bf7d-a7f384965ef7\",\"type\":\"SaveTool\"},{\"attributes\":{},\"id\":\"dfa5fb3e-9378-4861-8021-607506f4e6f3\",\"type\":\"ResetTool\"},{\"attributes\":{},\"id\":\"71f7b270-793b-4d87-b617-efa55530cd25\",\"type\":\"HelpTool\"}],\"root_ids\":[\"7977450d-3ddd-457a-91f5-843d949d7761\"]},\"title\":\"Bokeh Application\",\"version\":\"0.12.10\"}};\n",
       "    var render_items = [{\"docid\":\"2b635e88-e09e-4e9c-8ba9-cbd6bbe7e6df\",\"elementid\":\"7aa8f913-0d24-43dd-9317-0f220628bad6\",\"modelid\":\"7977450d-3ddd-457a-91f5-843d949d7761\"}];\n",
       "\n",
       "    root.Bokeh.embed.embed_items(docs_json, render_items);\n",
       "  }\n",
       "\n",
       "  if (root.Bokeh !== undefined) {\n",
       "    embed_document(root);\n",
       "  } else {\n",
       "    var attempts = 0;\n",
       "    var timer = setInterval(function(root) {\n",
       "      if (root.Bokeh !== undefined) {\n",
       "        embed_document(root);\n",
       "        clearInterval(timer);\n",
       "      }\n",
       "      attempts++;\n",
       "      if (attempts > 100) {\n",
       "        console.log(\"Bokeh: ERROR: Unable to embed document because BokehJS library is missing\")\n",
       "        clearInterval(timer);\n",
       "      }\n",
       "    }, 10, root)\n",
       "  }\n",
       "})(window);"
      ],
      "application/vnd.bokehjs_exec.v0+json": ""
     },
     "metadata": {
      "application/vnd.bokehjs_exec.v0+json": {
       "id": "7977450d-3ddd-457a-91f5-843d949d7761"
      }
     },
     "output_type": "display_data"
    }
   ],
   "source": [
    "show(p)"
   ]
  },
  {
   "cell_type": "markdown",
   "metadata": {},
   "source": [
    "# Legend\n",
    "Simple Legends"
   ]
  },
  {
   "cell_type": "code",
   "execution_count": 28,
   "metadata": {},
   "outputs": [],
   "source": [
    "import numpy as np\n",
    "x=np.linspace(0,4*np.pi,100)\n",
    "y=np.sin(x)"
   ]
  },
  {
   "cell_type": "code",
   "execution_count": 29,
   "metadata": {},
   "outputs": [
    {
     "data": {
      "text/html": [
       "\n",
       "<div class=\"bk-root\">\n",
       "    <div class=\"bk-plotdiv\" id=\"54c0ad87-8a23-4157-bc24-64f2faa3de28\"></div>\n",
       "</div>"
      ]
     },
     "metadata": {},
     "output_type": "display_data"
    },
    {
     "data": {
      "application/javascript": [
       "(function(root) {\n",
       "  function embed_document(root) {\n",
       "    var docs_json = {\"8b535cf4-0bae-4a0f-8dc9-cef646bf236a\":{\"roots\":{\"references\":[{\"attributes\":{},\"id\":\"6f481885-f5b4-431a-b06a-5a43bba81867\",\"type\":\"LinearScale\"},{\"attributes\":{},\"id\":\"ae697e20-f517-4060-889c-3c8093544c29\",\"type\":\"ResetTool\"},{\"attributes\":{\"plot\":{\"id\":\"c86dab68-412f-48d1-9eea-bb94934001a4\",\"subtype\":\"Figure\",\"type\":\"Plot\"},\"ticker\":{\"id\":\"46313ff5-5e12-4413-89cc-19de0cf4629e\",\"type\":\"BasicTicker\"}},\"id\":\"5d67d792-395f-4c44-ae04-a65bdb8629cb\",\"type\":\"Grid\"},{\"attributes\":{\"plot\":null,\"text\":\"\"},\"id\":\"fc31a023-c28b-4750-9944-6e88f5e8abcf\",\"type\":\"Title\"},{\"attributes\":{},\"id\":\"55c8714c-0f7d-464e-98ce-73651a29eead\",\"type\":\"LinearScale\"},{\"attributes\":{\"callback\":null},\"id\":\"3b576356-2ee0-4efc-ac68-0eda1669cce2\",\"type\":\"DataRange1d\"},{\"attributes\":{\"data_source\":{\"id\":\"3b478f42-a3a1-43da-bfe2-2a21f2bc5083\",\"type\":\"ColumnDataSource\"},\"glyph\":{\"id\":\"7c8f9ebf-3821-48f3-8234-c6d6f8c3f1f1\",\"type\":\"Line\"},\"hover_glyph\":null,\"muted_glyph\":null,\"nonselection_glyph\":{\"id\":\"e135042d-7ea4-4631-9772-e3c64d98ef2d\",\"type\":\"Line\"},\"selection_glyph\":null,\"view\":{\"id\":\"0bfa5158-4ffc-4e71-b9b3-81c38db608fd\",\"type\":\"CDSView\"}},\"id\":\"39ca7bb3-de3b-4809-a1a5-ebf173e7dbec\",\"type\":\"GlyphRenderer\"},{\"attributes\":{\"fill_color\":{\"value\":\"#1f77b4\"},\"line_color\":{\"value\":\"#1f77b4\"},\"x\":{\"field\":\"x\"},\"y\":{\"field\":\"y\"}},\"id\":\"fd9b0f9a-969c-4e8a-ab4d-6da375eaa5de\",\"type\":\"Circle\"},{\"attributes\":{},\"id\":\"0ec989d1-ae7b-4028-b4ea-38ff7990b96d\",\"type\":\"BasicTickFormatter\"},{\"attributes\":{\"fill_alpha\":{\"value\":0.1},\"fill_color\":{\"value\":\"#1f77b4\"},\"line_alpha\":{\"value\":0.1},\"line_color\":{\"value\":\"#1f77b4\"},\"x\":{\"field\":\"x\"},\"y\":{\"field\":\"y\"}},\"id\":\"8f486a1a-9621-4125-9dbc-e28ef4bbbacf\",\"type\":\"Circle\"},{\"attributes\":{},\"id\":\"be09c0c6-74f0-43b8-9db6-e07c8c12b006\",\"type\":\"WheelZoomTool\"},{\"attributes\":{\"formatter\":{\"id\":\"0ec989d1-ae7b-4028-b4ea-38ff7990b96d\",\"type\":\"BasicTickFormatter\"},\"plot\":{\"id\":\"c86dab68-412f-48d1-9eea-bb94934001a4\",\"subtype\":\"Figure\",\"type\":\"Plot\"},\"ticker\":{\"id\":\"3b546fdf-0894-4e03-8c71-571bc7a85e4c\",\"type\":\"BasicTicker\"}},\"id\":\"7cf60c41-a75d-4b6f-a01c-b834398f9d2f\",\"type\":\"LinearAxis\"},{\"attributes\":{\"label\":{\"value\":\"sin(x)\"},\"renderers\":[{\"id\":\"93fdf49a-8e63-41e6-9fb5-6c1f22620494\",\"type\":\"GlyphRenderer\"}]},\"id\":\"b66dc982-88d2-431f-9ab2-c8db98f9a7f8\",\"type\":\"LegendItem\"},{\"attributes\":{\"callback\":null},\"id\":\"76ce2000-4576-43c7-8090-a47dbbdd7bba\",\"type\":\"DataRange1d\"},{\"attributes\":{\"active_drag\":\"auto\",\"active_inspect\":\"auto\",\"active_scroll\":\"auto\",\"active_tap\":\"auto\",\"tools\":[{\"id\":\"c822716b-5e3d-4620-b921-a3fbb0312a3a\",\"type\":\"PanTool\"},{\"id\":\"be09c0c6-74f0-43b8-9db6-e07c8c12b006\",\"type\":\"WheelZoomTool\"},{\"id\":\"28e5dd89-f037-40df-aba6-2aa692341b09\",\"type\":\"BoxZoomTool\"},{\"id\":\"fb9c48bc-e12f-4e31-b4a8-e4b951149b3c\",\"type\":\"SaveTool\"},{\"id\":\"ae697e20-f517-4060-889c-3c8093544c29\",\"type\":\"ResetTool\"},{\"id\":\"6c42601d-01da-4e37-807a-0668e5fb0b6a\",\"type\":\"HelpTool\"}]},\"id\":\"b492b0db-3533-40cb-8ae0-ed994eb1639a\",\"type\":\"Toolbar\"},{\"attributes\":{},\"id\":\"c4a3938a-4986-45eb-a8f5-47df065b543f\",\"type\":\"BasicTickFormatter\"},{\"attributes\":{\"line_color\":{\"value\":\"orange\"},\"line_dash\":[4,4],\"line_width\":{\"value\":2},\"x\":{\"field\":\"x\"},\"y\":{\"field\":\"y\"}},\"id\":\"7c8f9ebf-3821-48f3-8234-c6d6f8c3f1f1\",\"type\":\"Line\"},{\"attributes\":{\"callback\":null,\"column_names\":[\"x\",\"y\"],\"data\":{\"x\":{\"__ndarray__\":\"AAAAAAAAAACRGkt8Vz/AP5EaS3xXP9A/2qdwOgNf2D+RGkt8Vz/gPzXhXVstT+Q/2qdwOgNf6D9+boMZ2W7sP5EaS3xXP/A/433Ua0JH8j814V1bLU/0P4dE50oYV/Y/2qdwOgNf+D8sC/op7mb6P35ugxnZbvw/0NEMCcR2/j+RGkt8Vz8AQDrMD/RMQwFA433Ua0JHAkCML5njN0sDQDXhXVstTwRA3pIi0yJTBUCHROdKGFcGQDD2q8INWwdA2qdwOgNfCECDWTWy+GIJQCwL+inuZgpA1by+oeNqC0B+boMZ2W4MQCcgSJHOcg1A0NEMCcR2DkB5g9GAuXoPQJEaS3xXPxBAZnMtOFLBEEA6zA/0TEMRQA8l8q9HxRFA433Ua0JHEkC41rYnPckSQIwvmeM3SxNAYYh7nzLNE0A14V1bLU8UQAo6QBco0RRA3pIi0yJTFUCz6wSPHdUVQIdE50oYVxZAXJ3JBhPZFkAw9qvCDVsXQAVPjn4I3RdA2qdwOgNfGECuAFP2/eAYQINZNbL4YhlAV7IXbvPkGUAsC/op7mYaQABk3OXo6BpA1by+oeNqG0CpFaFd3uwbQH5ugxnZbhxAUsdl1dPwHEAnIEiRznIdQPt4Kk3J9B1A0NEMCcR2HkCkKu/EvvgeQHmD0YC5eh9ATdyzPLT8H0CRGkt8Vz8gQPtGPNpUgCBAZnMtOFLBIEDQnx6WTwIhQDrMD/RMQyFApPgAUkqEIUAPJfKvR8UhQHlR4w1FBiJA433Ua0JHIkBNqsXJP4giQLjWtic9ySJAIgOohToKI0CML5njN0sjQPZbikE1jCNAYYh7nzLNI0DLtGz9Lw4kQDXhXVstTyRAoA1PuSqQJEAKOkAXKNEkQHRmMXUlEiVA3pIi0yJTJUBJvxMxIJQlQLPrBI8d1SVAHRj27BoWJkCHROdKGFcmQPJw2KgVmCZAXJ3JBhPZJkDGybpkEBonQDD2q8INWydAmyKdIAucJ0AFT45+CN0nQG97f9wFHihA2qdwOgNfKEBE1GGYAKAoQK4AU/b94ChAGC1EVPshKUA=\",\"dtype\":\"float64\",\"shape\":[100]},\"y\":{\"__ndarray__\":\"AAAAAAAAAADwgwJ4LjTQP5qI2QHPEuA/+5MNU1HJ5z8ZTT7q2B3vP0aFmgwa+fI/ABg/lCAV9j+IQCEcMdb4P3fOhmLzMPs/EyzujrQb/T/9Izwlj47+PxccgYyLg/8/g6xao7j2/z9mZrL8O+b/P7+X94FZUv8/xVNiW3I9/j9RB8Ai+6v8P5FWKYlppPo/oig6uxkv+D/Sh2bxK1b1PyZGRbpaJfI/8qg+VZVT7T/4C4p0qOPlP+UppLIiM9w/3FNHxZdVyD/I23zJpD6wv+3ENsZjOdS/wo12/ecH4r/egWKM2Kjpv2MTsJELcPC/83ixWvXH87+258MBZM72v5eCD4nhdvm/rExY6Hq2+7+TIxAn7YP9vwSssILL1/6/70I4BJ6s/7/vOc8G+P7/vzTGy1KGzf+/3176khQZ/7/C8a4NiuT9vzGcHq/dNPy/mEFFlgER+r+EGZN4xoH3vx8WPFK3kfS/Cli7+O1M8b+HQNqEwoHrv9kfIiFb+OO/gKyggGI52L8EhrXMjDzAvyCGtcyMPMA/jqyggGI52D/gHyIhW/jjP4BA2oTCges/Dli7+O1M8T8cFjxSt5H0P4cZk3jGgfc/lEFFlgER+j8ynB6v3TT8P8Hxrg2K5P0/4F76khQZ/z80xstShs3/P+85zwb4/v8/8EI4BJ6s/z8DrLCCy9f+P5UjECftg/0/p0xY6Hq2+z+Vgg+J4Xb5P7fnwwFkzvY/9nixWvXH8z9cE7CRC3DwP9eBYozYqOk/w412/ecH4j/+xDbGYznUP0/bfMmkPrA/+VNHxZdVyL/UKaSyIjPcv+gLinSo4+W/+Kg+VZVT7b8mRkW6WiXyv8+HZvErVvW/pig6uxkv+L+TVimJaaT6v1EHwCL7q/y/xFNiW3I9/r/Al/eBWVL/v2Zmsvw75v+/g6xao7j2/78YHIGMi4P/v/sjPCWPjv6/EyzujrQb/b94zoZi8zD7v4xAIRwx1vi//Bc/lCAV9r9GhZoMGvnyvx5NPurYHe+/65MNU1HJ57+SiNkBzxLgv/GDAnguNNC/B1wUMyam0bw=\",\"dtype\":\"float64\",\"shape\":[100]}}},\"id\":\"3b478f42-a3a1-43da-bfe2-2a21f2bc5083\",\"type\":\"ColumnDataSource\"},{\"attributes\":{},\"id\":\"c822716b-5e3d-4620-b921-a3fbb0312a3a\",\"type\":\"PanTool\"},{\"attributes\":{\"callback\":null,\"column_names\":[\"x\",\"y\"],\"data\":{\"x\":{\"__ndarray__\":\"AAAAAAAAAACRGkt8Vz/AP5EaS3xXP9A/2qdwOgNf2D+RGkt8Vz/gPzXhXVstT+Q/2qdwOgNf6D9+boMZ2W7sP5EaS3xXP/A/433Ua0JH8j814V1bLU/0P4dE50oYV/Y/2qdwOgNf+D8sC/op7mb6P35ugxnZbvw/0NEMCcR2/j+RGkt8Vz8AQDrMD/RMQwFA433Ua0JHAkCML5njN0sDQDXhXVstTwRA3pIi0yJTBUCHROdKGFcGQDD2q8INWwdA2qdwOgNfCECDWTWy+GIJQCwL+inuZgpA1by+oeNqC0B+boMZ2W4MQCcgSJHOcg1A0NEMCcR2DkB5g9GAuXoPQJEaS3xXPxBAZnMtOFLBEEA6zA/0TEMRQA8l8q9HxRFA433Ua0JHEkC41rYnPckSQIwvmeM3SxNAYYh7nzLNE0A14V1bLU8UQAo6QBco0RRA3pIi0yJTFUCz6wSPHdUVQIdE50oYVxZAXJ3JBhPZFkAw9qvCDVsXQAVPjn4I3RdA2qdwOgNfGECuAFP2/eAYQINZNbL4YhlAV7IXbvPkGUAsC/op7mYaQABk3OXo6BpA1by+oeNqG0CpFaFd3uwbQH5ugxnZbhxAUsdl1dPwHEAnIEiRznIdQPt4Kk3J9B1A0NEMCcR2HkCkKu/EvvgeQHmD0YC5eh9ATdyzPLT8H0CRGkt8Vz8gQPtGPNpUgCBAZnMtOFLBIEDQnx6WTwIhQDrMD/RMQyFApPgAUkqEIUAPJfKvR8UhQHlR4w1FBiJA433Ua0JHIkBNqsXJP4giQLjWtic9ySJAIgOohToKI0CML5njN0sjQPZbikE1jCNAYYh7nzLNI0DLtGz9Lw4kQDXhXVstTyRAoA1PuSqQJEAKOkAXKNEkQHRmMXUlEiVA3pIi0yJTJUBJvxMxIJQlQLPrBI8d1SVAHRj27BoWJkCHROdKGFcmQPJw2KgVmCZAXJ3JBhPZJkDGybpkEBonQDD2q8INWydAmyKdIAucJ0AFT45+CN0nQG97f9wFHihA2qdwOgNfKEBE1GGYAKAoQK4AU/b94ChAGC1EVPshKUA=\",\"dtype\":\"float64\",\"shape\":[100]},\"y\":{\"__ndarray__\":\"AAAAAAAAAADwgwJ4LjTAP5qI2QHPEtA/+5MNU1HJ1z8ZTT7q2B3fP0aFmgwa+eI/ABg/lCAV5j+IQCEcMdboP3fOhmLzMOs/EyzujrQb7T/9Izwlj47uPxccgYyLg+8/g6xao7j27z9mZrL8O+bvP7+X94FZUu8/xVNiW3I97j9RB8Ai+6vsP5FWKYlppOo/oig6uxkv6D/Sh2bxK1blPyZGRbpaJeI/8qg+VZVT3T/4C4p0qOPVP+UppLIiM8w/3FNHxZdVuD/I23zJpD6gv+3ENsZjOcS/wo12/ecH0r/egWKM2KjZv2MTsJELcOC/83ixWvXH47+258MBZM7mv5eCD4nhdum/rExY6Hq267+TIxAn7YPtvwSssILL1+6/70I4BJ6s77/vOc8G+P7vvzTGy1KGze+/3176khQZ77/C8a4NiuTtvzGcHq/dNOy/mEFFlgER6r+EGZN4xoHnvx8WPFK3keS/Cli7+O1M4b+HQNqEwoHbv9kfIiFb+NO/gKyggGI5yL8EhrXMjDywvyCGtcyMPLA/jqyggGI5yD/gHyIhW/jTP4BA2oTCgds/Dli7+O1M4T8cFjxSt5HkP4cZk3jGgec/lEFFlgER6j8ynB6v3TTsP8Hxrg2K5O0/4F76khQZ7z80xstShs3vP+85zwb4/u8/8EI4BJ6s7z8DrLCCy9fuP5UjECftg+0/p0xY6Hq26z+Vgg+J4XbpP7fnwwFkzuY/9nixWvXH4z9cE7CRC3DgP9eBYozYqNk/w412/ecH0j/+xDbGYznEP0/bfMmkPqA/+VNHxZdVuL/UKaSyIjPMv+gLinSo49W/+Kg+VZVT3b8mRkW6WiXiv8+HZvErVuW/pig6uxkv6L+TVimJaaTqv1EHwCL7q+y/xFNiW3I97r/Al/eBWVLvv2Zmsvw75u+/g6xao7j2778YHIGMi4Pvv/sjPCWPju6/EyzujrQb7b94zoZi8zDrv4xAIRwx1ui//Bc/lCAV5r9GhZoMGvnivx5NPurYHd+/65MNU1HJ17+SiNkBzxLQv/GDAnguNMC/B1wUMyamwbw=\",\"dtype\":\"float64\",\"shape\":[100]}}},\"id\":\"1bde4fcd-f936-479c-b14a-6dbbeb6e8452\",\"type\":\"ColumnDataSource\"},{\"attributes\":{\"items\":[{\"id\":\"b66dc982-88d2-431f-9ab2-c8db98f9a7f8\",\"type\":\"LegendItem\"},{\"id\":\"e99dcbf8-6492-452b-847c-4e2e9ed5d9c1\",\"type\":\"LegendItem\"}],\"plot\":{\"id\":\"c86dab68-412f-48d1-9eea-bb94934001a4\",\"subtype\":\"Figure\",\"type\":\"Plot\"}},\"id\":\"6e6f53dc-cf1c-4fb1-bd3f-622d008cdba0\",\"type\":\"Legend\"},{\"attributes\":{},\"id\":\"3b546fdf-0894-4e03-8c71-571bc7a85e4c\",\"type\":\"BasicTicker\"},{\"attributes\":{\"formatter\":{\"id\":\"c4a3938a-4986-45eb-a8f5-47df065b543f\",\"type\":\"BasicTickFormatter\"},\"plot\":{\"id\":\"c86dab68-412f-48d1-9eea-bb94934001a4\",\"subtype\":\"Figure\",\"type\":\"Plot\"},\"ticker\":{\"id\":\"46313ff5-5e12-4413-89cc-19de0cf4629e\",\"type\":\"BasicTicker\"}},\"id\":\"f4e801c4-23aa-4ff1-8ca0-53c94c68153f\",\"type\":\"LinearAxis\"},{\"attributes\":{\"source\":{\"id\":\"3b478f42-a3a1-43da-bfe2-2a21f2bc5083\",\"type\":\"ColumnDataSource\"}},\"id\":\"0bfa5158-4ffc-4e71-b9b3-81c38db608fd\",\"type\":\"CDSView\"},{\"attributes\":{\"data_source\":{\"id\":\"1bde4fcd-f936-479c-b14a-6dbbeb6e8452\",\"type\":\"ColumnDataSource\"},\"glyph\":{\"id\":\"fd9b0f9a-969c-4e8a-ab4d-6da375eaa5de\",\"type\":\"Circle\"},\"hover_glyph\":null,\"muted_glyph\":null,\"nonselection_glyph\":{\"id\":\"8f486a1a-9621-4125-9dbc-e28ef4bbbacf\",\"type\":\"Circle\"},\"selection_glyph\":null,\"view\":{\"id\":\"a960c578-5a2a-4837-ae40-88b07874f34e\",\"type\":\"CDSView\"}},\"id\":\"93fdf49a-8e63-41e6-9fb5-6c1f22620494\",\"type\":\"GlyphRenderer\"},{\"attributes\":{\"line_alpha\":{\"value\":0.1},\"line_color\":{\"value\":\"#1f77b4\"},\"line_dash\":[4,4],\"line_width\":{\"value\":2},\"x\":{\"field\":\"x\"},\"y\":{\"field\":\"y\"}},\"id\":\"e135042d-7ea4-4631-9772-e3c64d98ef2d\",\"type\":\"Line\"},{\"attributes\":{\"below\":[{\"id\":\"f4e801c4-23aa-4ff1-8ca0-53c94c68153f\",\"type\":\"LinearAxis\"}],\"left\":[{\"id\":\"7cf60c41-a75d-4b6f-a01c-b834398f9d2f\",\"type\":\"LinearAxis\"}],\"plot_height\":400,\"renderers\":[{\"id\":\"f4e801c4-23aa-4ff1-8ca0-53c94c68153f\",\"type\":\"LinearAxis\"},{\"id\":\"5d67d792-395f-4c44-ae04-a65bdb8629cb\",\"type\":\"Grid\"},{\"id\":\"7cf60c41-a75d-4b6f-a01c-b834398f9d2f\",\"type\":\"LinearAxis\"},{\"id\":\"aa3471cf-6e54-4c93-8f8b-e0a6e5651941\",\"type\":\"Grid\"},{\"id\":\"3221c58a-c052-4ec1-af7f-44bc705aace4\",\"type\":\"BoxAnnotation\"},{\"id\":\"6e6f53dc-cf1c-4fb1-bd3f-622d008cdba0\",\"type\":\"Legend\"},{\"id\":\"93fdf49a-8e63-41e6-9fb5-6c1f22620494\",\"type\":\"GlyphRenderer\"},{\"id\":\"39ca7bb3-de3b-4809-a1a5-ebf173e7dbec\",\"type\":\"GlyphRenderer\"}],\"title\":{\"id\":\"fc31a023-c28b-4750-9944-6e88f5e8abcf\",\"type\":\"Title\"},\"toolbar\":{\"id\":\"b492b0db-3533-40cb-8ae0-ed994eb1639a\",\"type\":\"Toolbar\"},\"x_range\":{\"id\":\"76ce2000-4576-43c7-8090-a47dbbdd7bba\",\"type\":\"DataRange1d\"},\"x_scale\":{\"id\":\"6f481885-f5b4-431a-b06a-5a43bba81867\",\"type\":\"LinearScale\"},\"y_range\":{\"id\":\"3b576356-2ee0-4efc-ac68-0eda1669cce2\",\"type\":\"DataRange1d\"},\"y_scale\":{\"id\":\"55c8714c-0f7d-464e-98ce-73651a29eead\",\"type\":\"LinearScale\"}},\"id\":\"c86dab68-412f-48d1-9eea-bb94934001a4\",\"subtype\":\"Figure\",\"type\":\"Plot\"},{\"attributes\":{\"label\":{\"value\":\"2*sin(x)\"},\"renderers\":[{\"id\":\"39ca7bb3-de3b-4809-a1a5-ebf173e7dbec\",\"type\":\"GlyphRenderer\"}]},\"id\":\"e99dcbf8-6492-452b-847c-4e2e9ed5d9c1\",\"type\":\"LegendItem\"},{\"attributes\":{},\"id\":\"6c42601d-01da-4e37-807a-0668e5fb0b6a\",\"type\":\"HelpTool\"},{\"attributes\":{},\"id\":\"46313ff5-5e12-4413-89cc-19de0cf4629e\",\"type\":\"BasicTicker\"},{\"attributes\":{\"overlay\":{\"id\":\"3221c58a-c052-4ec1-af7f-44bc705aace4\",\"type\":\"BoxAnnotation\"}},\"id\":\"28e5dd89-f037-40df-aba6-2aa692341b09\",\"type\":\"BoxZoomTool\"},{\"attributes\":{},\"id\":\"fb9c48bc-e12f-4e31-b4a8-e4b951149b3c\",\"type\":\"SaveTool\"},{\"attributes\":{\"dimension\":1,\"plot\":{\"id\":\"c86dab68-412f-48d1-9eea-bb94934001a4\",\"subtype\":\"Figure\",\"type\":\"Plot\"},\"ticker\":{\"id\":\"3b546fdf-0894-4e03-8c71-571bc7a85e4c\",\"type\":\"BasicTicker\"}},\"id\":\"aa3471cf-6e54-4c93-8f8b-e0a6e5651941\",\"type\":\"Grid\"},{\"attributes\":{\"bottom_units\":\"screen\",\"fill_alpha\":{\"value\":0.5},\"fill_color\":{\"value\":\"lightgrey\"},\"left_units\":\"screen\",\"level\":\"overlay\",\"line_alpha\":{\"value\":1.0},\"line_color\":{\"value\":\"black\"},\"line_dash\":[4,4],\"line_width\":{\"value\":2},\"plot\":null,\"render_mode\":\"css\",\"right_units\":\"screen\",\"top_units\":\"screen\"},\"id\":\"3221c58a-c052-4ec1-af7f-44bc705aace4\",\"type\":\"BoxAnnotation\"},{\"attributes\":{\"source\":{\"id\":\"1bde4fcd-f936-479c-b14a-6dbbeb6e8452\",\"type\":\"ColumnDataSource\"}},\"id\":\"a960c578-5a2a-4837-ae40-88b07874f34e\",\"type\":\"CDSView\"}],\"root_ids\":[\"c86dab68-412f-48d1-9eea-bb94934001a4\"]},\"title\":\"Bokeh Application\",\"version\":\"0.12.10\"}};\n",
       "    var render_items = [{\"docid\":\"8b535cf4-0bae-4a0f-8dc9-cef646bf236a\",\"elementid\":\"54c0ad87-8a23-4157-bc24-64f2faa3de28\",\"modelid\":\"c86dab68-412f-48d1-9eea-bb94934001a4\"}];\n",
       "\n",
       "    root.Bokeh.embed.embed_items(docs_json, render_items);\n",
       "  }\n",
       "\n",
       "  if (root.Bokeh !== undefined) {\n",
       "    embed_document(root);\n",
       "  } else {\n",
       "    var attempts = 0;\n",
       "    var timer = setInterval(function(root) {\n",
       "      if (root.Bokeh !== undefined) {\n",
       "        embed_document(root);\n",
       "        clearInterval(timer);\n",
       "      }\n",
       "      attempts++;\n",
       "      if (attempts > 100) {\n",
       "        console.log(\"Bokeh: ERROR: Unable to embed document because BokehJS library is missing\")\n",
       "        clearInterval(timer);\n",
       "      }\n",
       "    }, 10, root)\n",
       "  }\n",
       "})(window);"
      ],
      "application/vnd.bokehjs_exec.v0+json": ""
     },
     "metadata": {
      "application/vnd.bokehjs_exec.v0+json": {
       "id": "c86dab68-412f-48d1-9eea-bb94934001a4"
      }
     },
     "output_type": "display_data"
    }
   ],
   "source": [
    "p=figure(height=400)\n",
    "\n",
    "p.circle(x,y,legend=\"sin(x)\")\n",
    "p.line(x,2*y,legend=\"2*sin(x)\",line_dash=[4,4],line_color=\"orange\",line_width=2)\n",
    "\n",
    "show(p)"
   ]
  },
  {
   "cell_type": "code",
   "execution_count": 31,
   "metadata": {},
   "outputs": [
    {
     "data": {
      "text/html": [
       "\n",
       "<div class=\"bk-root\">\n",
       "    <div class=\"bk-plotdiv\" id=\"15aefd9b-fdbf-4148-a30c-60fa27113754\"></div>\n",
       "</div>"
      ]
     },
     "metadata": {},
     "output_type": "display_data"
    },
    {
     "data": {
      "application/javascript": [
       "(function(root) {\n",
       "  function embed_document(root) {\n",
       "    var docs_json = {\"13c2926f-993a-43ca-826b-e378fb0cfa0b\":{\"roots\":{\"references\":[{\"attributes\":{},\"id\":\"6f481885-f5b4-431a-b06a-5a43bba81867\",\"type\":\"LinearScale\"},{\"attributes\":{\"callback\":null,\"column_names\":[\"x\",\"y\"],\"data\":{\"x\":{\"__ndarray__\":\"AAAAAAAAAACRGkt8Vz/AP5EaS3xXP9A/2qdwOgNf2D+RGkt8Vz/gPzXhXVstT+Q/2qdwOgNf6D9+boMZ2W7sP5EaS3xXP/A/433Ua0JH8j814V1bLU/0P4dE50oYV/Y/2qdwOgNf+D8sC/op7mb6P35ugxnZbvw/0NEMCcR2/j+RGkt8Vz8AQDrMD/RMQwFA433Ua0JHAkCML5njN0sDQDXhXVstTwRA3pIi0yJTBUCHROdKGFcGQDD2q8INWwdA2qdwOgNfCECDWTWy+GIJQCwL+inuZgpA1by+oeNqC0B+boMZ2W4MQCcgSJHOcg1A0NEMCcR2DkB5g9GAuXoPQJEaS3xXPxBAZnMtOFLBEEA6zA/0TEMRQA8l8q9HxRFA433Ua0JHEkC41rYnPckSQIwvmeM3SxNAYYh7nzLNE0A14V1bLU8UQAo6QBco0RRA3pIi0yJTFUCz6wSPHdUVQIdE50oYVxZAXJ3JBhPZFkAw9qvCDVsXQAVPjn4I3RdA2qdwOgNfGECuAFP2/eAYQINZNbL4YhlAV7IXbvPkGUAsC/op7mYaQABk3OXo6BpA1by+oeNqG0CpFaFd3uwbQH5ugxnZbhxAUsdl1dPwHEAnIEiRznIdQPt4Kk3J9B1A0NEMCcR2HkCkKu/EvvgeQHmD0YC5eh9ATdyzPLT8H0CRGkt8Vz8gQPtGPNpUgCBAZnMtOFLBIEDQnx6WTwIhQDrMD/RMQyFApPgAUkqEIUAPJfKvR8UhQHlR4w1FBiJA433Ua0JHIkBNqsXJP4giQLjWtic9ySJAIgOohToKI0CML5njN0sjQPZbikE1jCNAYYh7nzLNI0DLtGz9Lw4kQDXhXVstTyRAoA1PuSqQJEAKOkAXKNEkQHRmMXUlEiVA3pIi0yJTJUBJvxMxIJQlQLPrBI8d1SVAHRj27BoWJkCHROdKGFcmQPJw2KgVmCZAXJ3JBhPZJkDGybpkEBonQDD2q8INWydAmyKdIAucJ0AFT45+CN0nQG97f9wFHihA2qdwOgNfKEBE1GGYAKAoQK4AU/b94ChAGC1EVPshKUA=\",\"dtype\":\"float64\",\"shape\":[100]},\"y\":{\"__ndarray__\":\"AAAAAAAAAADwgwJ4LjTQP5qI2QHPEuA/+5MNU1HJ5z8ZTT7q2B3vP0aFmgwa+fI/ABg/lCAV9j+IQCEcMdb4P3fOhmLzMPs/EyzujrQb/T/9Izwlj47+PxccgYyLg/8/g6xao7j2/z9mZrL8O+b/P7+X94FZUv8/xVNiW3I9/j9RB8Ai+6v8P5FWKYlppPo/oig6uxkv+D/Sh2bxK1b1PyZGRbpaJfI/8qg+VZVT7T/4C4p0qOPlP+UppLIiM9w/3FNHxZdVyD/I23zJpD6wv+3ENsZjOdS/wo12/ecH4r/egWKM2Kjpv2MTsJELcPC/83ixWvXH87+258MBZM72v5eCD4nhdvm/rExY6Hq2+7+TIxAn7YP9vwSssILL1/6/70I4BJ6s/7/vOc8G+P7/vzTGy1KGzf+/3176khQZ/7/C8a4NiuT9vzGcHq/dNPy/mEFFlgER+r+EGZN4xoH3vx8WPFK3kfS/Cli7+O1M8b+HQNqEwoHrv9kfIiFb+OO/gKyggGI52L8EhrXMjDzAvyCGtcyMPMA/jqyggGI52D/gHyIhW/jjP4BA2oTCges/Dli7+O1M8T8cFjxSt5H0P4cZk3jGgfc/lEFFlgER+j8ynB6v3TT8P8Hxrg2K5P0/4F76khQZ/z80xstShs3/P+85zwb4/v8/8EI4BJ6s/z8DrLCCy9f+P5UjECftg/0/p0xY6Hq2+z+Vgg+J4Xb5P7fnwwFkzvY/9nixWvXH8z9cE7CRC3DwP9eBYozYqOk/w412/ecH4j/+xDbGYznUP0/bfMmkPrA/+VNHxZdVyL/UKaSyIjPcv+gLinSo4+W/+Kg+VZVT7b8mRkW6WiXyv8+HZvErVvW/pig6uxkv+L+TVimJaaT6v1EHwCL7q/y/xFNiW3I9/r/Al/eBWVL/v2Zmsvw75v+/g6xao7j2/78YHIGMi4P/v/sjPCWPjv6/EyzujrQb/b94zoZi8zD7v4xAIRwx1vi//Bc/lCAV9r9GhZoMGvnyvx5NPurYHe+/65MNU1HJ57+SiNkBzxLgv/GDAnguNNC/B1wUMyam0bw=\",\"dtype\":\"float64\",\"shape\":[100]}}},\"id\":\"53c8e826-47d8-4511-88aa-c51080434529\",\"type\":\"ColumnDataSource\"},{\"attributes\":{},\"id\":\"ae697e20-f517-4060-889c-3c8093544c29\",\"type\":\"ResetTool\"},{\"attributes\":{\"source\":{\"id\":\"329fbcad-056f-40b5-92ec-afa8f405d93c\",\"type\":\"ColumnDataSource\"}},\"id\":\"15ea0d43-7478-4fc5-9493-332f6466c9e6\",\"type\":\"CDSView\"},{\"attributes\":{\"plot\":{\"id\":\"c86dab68-412f-48d1-9eea-bb94934001a4\",\"subtype\":\"Figure\",\"type\":\"Plot\"},\"ticker\":{\"id\":\"46313ff5-5e12-4413-89cc-19de0cf4629e\",\"type\":\"BasicTicker\"}},\"id\":\"5d67d792-395f-4c44-ae04-a65bdb8629cb\",\"type\":\"Grid\"},{\"attributes\":{\"plot\":null,\"text\":\"\"},\"id\":\"fc31a023-c28b-4750-9944-6e88f5e8abcf\",\"type\":\"Title\"},{\"attributes\":{},\"id\":\"55c8714c-0f7d-464e-98ce-73651a29eead\",\"type\":\"LinearScale\"},{\"attributes\":{\"callback\":null},\"id\":\"3b576356-2ee0-4efc-ac68-0eda1669cce2\",\"type\":\"DataRange1d\"},{\"attributes\":{\"fill_color\":{\"value\":\"#1f77b4\"},\"line_color\":{\"value\":\"#1f77b4\"},\"x\":{\"field\":\"x\"},\"y\":{\"field\":\"y\"}},\"id\":\"fd9b0f9a-969c-4e8a-ab4d-6da375eaa5de\",\"type\":\"Circle\"},{\"attributes\":{},\"id\":\"0ec989d1-ae7b-4028-b4ea-38ff7990b96d\",\"type\":\"BasicTickFormatter\"},{\"attributes\":{\"line_color\":{\"value\":\"grey\"},\"x\":{\"field\":\"x\"},\"y\":{\"field\":\"y\"}},\"id\":\"c03e0621-fa5e-407e-8c7c-7dce15f0f9d2\",\"type\":\"Line\"},{\"attributes\":{\"source\":{\"id\":\"c674aec6-4d30-49a2-a75e-9455013e47c4\",\"type\":\"ColumnDataSource\"}},\"id\":\"f48fb4e3-7168-42a7-aaf2-3dcd88de5315\",\"type\":\"CDSView\"},{\"attributes\":{\"fill_alpha\":{\"value\":0.1},\"fill_color\":{\"value\":\"#1f77b4\"},\"line_alpha\":{\"value\":0.1},\"line_color\":{\"value\":\"#1f77b4\"},\"x\":{\"field\":\"x\"},\"y\":{\"field\":\"y\"}},\"id\":\"8f486a1a-9621-4125-9dbc-e28ef4bbbacf\",\"type\":\"Circle\"},{\"attributes\":{\"callback\":null,\"column_names\":[\"x\",\"y\"],\"data\":{\"x\":{\"__ndarray__\":\"AAAAAAAAAACRGkt8Vz/AP5EaS3xXP9A/2qdwOgNf2D+RGkt8Vz/gPzXhXVstT+Q/2qdwOgNf6D9+boMZ2W7sP5EaS3xXP/A/433Ua0JH8j814V1bLU/0P4dE50oYV/Y/2qdwOgNf+D8sC/op7mb6P35ugxnZbvw/0NEMCcR2/j+RGkt8Vz8AQDrMD/RMQwFA433Ua0JHAkCML5njN0sDQDXhXVstTwRA3pIi0yJTBUCHROdKGFcGQDD2q8INWwdA2qdwOgNfCECDWTWy+GIJQCwL+inuZgpA1by+oeNqC0B+boMZ2W4MQCcgSJHOcg1A0NEMCcR2DkB5g9GAuXoPQJEaS3xXPxBAZnMtOFLBEEA6zA/0TEMRQA8l8q9HxRFA433Ua0JHEkC41rYnPckSQIwvmeM3SxNAYYh7nzLNE0A14V1bLU8UQAo6QBco0RRA3pIi0yJTFUCz6wSPHdUVQIdE50oYVxZAXJ3JBhPZFkAw9qvCDVsXQAVPjn4I3RdA2qdwOgNfGECuAFP2/eAYQINZNbL4YhlAV7IXbvPkGUAsC/op7mYaQABk3OXo6BpA1by+oeNqG0CpFaFd3uwbQH5ugxnZbhxAUsdl1dPwHEAnIEiRznIdQPt4Kk3J9B1A0NEMCcR2HkCkKu/EvvgeQHmD0YC5eh9ATdyzPLT8H0CRGkt8Vz8gQPtGPNpUgCBAZnMtOFLBIEDQnx6WTwIhQDrMD/RMQyFApPgAUkqEIUAPJfKvR8UhQHlR4w1FBiJA433Ua0JHIkBNqsXJP4giQLjWtic9ySJAIgOohToKI0CML5njN0sjQPZbikE1jCNAYYh7nzLNI0DLtGz9Lw4kQDXhXVstTyRAoA1PuSqQJEAKOkAXKNEkQHRmMXUlEiVA3pIi0yJTJUBJvxMxIJQlQLPrBI8d1SVAHRj27BoWJkCHROdKGFcmQPJw2KgVmCZAXJ3JBhPZJkDGybpkEBonQDD2q8INWydAmyKdIAucJ0AFT45+CN0nQG97f9wFHihA2qdwOgNfKEBE1GGYAKAoQK4AU/b94ChAGC1EVPshKUA=\",\"dtype\":\"float64\",\"shape\":[100]},\"y\":{\"__ndarray__\":\"AAAAAAAAAADwgwJ4LjTAP5qI2QHPEtA/+5MNU1HJ1z8ZTT7q2B3fP0aFmgwa+eI/ABg/lCAV5j+IQCEcMdboP3fOhmLzMOs/EyzujrQb7T/9Izwlj47uPxccgYyLg+8/g6xao7j27z9mZrL8O+bvP7+X94FZUu8/xVNiW3I97j9RB8Ai+6vsP5FWKYlppOo/oig6uxkv6D/Sh2bxK1blPyZGRbpaJeI/8qg+VZVT3T/4C4p0qOPVP+UppLIiM8w/3FNHxZdVuD/I23zJpD6gv+3ENsZjOcS/wo12/ecH0r/egWKM2KjZv2MTsJELcOC/83ixWvXH47+258MBZM7mv5eCD4nhdum/rExY6Hq267+TIxAn7YPtvwSssILL1+6/70I4BJ6s77/vOc8G+P7vvzTGy1KGze+/3176khQZ77/C8a4NiuTtvzGcHq/dNOy/mEFFlgER6r+EGZN4xoHnvx8WPFK3keS/Cli7+O1M4b+HQNqEwoHbv9kfIiFb+NO/gKyggGI5yL8EhrXMjDywvyCGtcyMPLA/jqyggGI5yD/gHyIhW/jTP4BA2oTCgds/Dli7+O1M4T8cFjxSt5HkP4cZk3jGgec/lEFFlgER6j8ynB6v3TTsP8Hxrg2K5O0/4F76khQZ7z80xstShs3vP+85zwb4/u8/8EI4BJ6s7z8DrLCCy9fuP5UjECftg+0/p0xY6Hq26z+Vgg+J4XbpP7fnwwFkzuY/9nixWvXH4z9cE7CRC3DgP9eBYozYqNk/w412/ecH0j/+xDbGYznEP0/bfMmkPqA/+VNHxZdVuL/UKaSyIjPMv+gLinSo49W/+Kg+VZVT3b8mRkW6WiXiv8+HZvErVuW/pig6uxkv6L+TVimJaaTqv1EHwCL7q+y/xFNiW3I97r/Al/eBWVLvv2Zmsvw75u+/g6xao7j2778YHIGMi4Pvv/sjPCWPju6/EyzujrQb7b94zoZi8zDrv4xAIRwx1ui//Bc/lCAV5r9GhZoMGvnivx5NPurYHd+/65MNU1HJ17+SiNkBzxLQv/GDAnguNMC/B1wUMyamwbw=\",\"dtype\":\"float64\",\"shape\":[100]}}},\"id\":\"329fbcad-056f-40b5-92ec-afa8f405d93c\",\"type\":\"ColumnDataSource\"},{\"attributes\":{\"formatter\":{\"id\":\"0ec989d1-ae7b-4028-b4ea-38ff7990b96d\",\"type\":\"BasicTickFormatter\"},\"plot\":{\"id\":\"c86dab68-412f-48d1-9eea-bb94934001a4\",\"subtype\":\"Figure\",\"type\":\"Plot\"},\"ticker\":{\"id\":\"3b546fdf-0894-4e03-8c71-571bc7a85e4c\",\"type\":\"BasicTicker\"}},\"id\":\"7cf60c41-a75d-4b6f-a01c-b834398f9d2f\",\"type\":\"LinearAxis\"},{\"attributes\":{\"callback\":null},\"id\":\"76ce2000-4576-43c7-8090-a47dbbdd7bba\",\"type\":\"DataRange1d\"},{\"attributes\":{\"active_drag\":\"auto\",\"active_inspect\":\"auto\",\"active_scroll\":\"auto\",\"active_tap\":\"auto\",\"tools\":[{\"id\":\"c822716b-5e3d-4620-b921-a3fbb0312a3a\",\"type\":\"PanTool\"},{\"id\":\"be09c0c6-74f0-43b8-9db6-e07c8c12b006\",\"type\":\"WheelZoomTool\"},{\"id\":\"28e5dd89-f037-40df-aba6-2aa692341b09\",\"type\":\"BoxZoomTool\"},{\"id\":\"fb9c48bc-e12f-4e31-b4a8-e4b951149b3c\",\"type\":\"SaveTool\"},{\"id\":\"ae697e20-f517-4060-889c-3c8093544c29\",\"type\":\"ResetTool\"},{\"id\":\"6c42601d-01da-4e37-807a-0668e5fb0b6a\",\"type\":\"HelpTool\"}]},\"id\":\"b492b0db-3533-40cb-8ae0-ed994eb1639a\",\"type\":\"Toolbar\"},{\"attributes\":{},\"id\":\"c4a3938a-4986-45eb-a8f5-47df065b543f\",\"type\":\"BasicTickFormatter\"},{\"attributes\":{\"line_alpha\":{\"value\":0.1},\"line_color\":{\"value\":\"#1f77b4\"},\"x\":{\"field\":\"x\"},\"y\":{\"field\":\"y\"}},\"id\":\"9309330d-d5eb-427f-b2e6-c8e9d34d66aa\",\"type\":\"Line\"},{\"attributes\":{\"line_color\":{\"value\":\"orange\"},\"line_dash\":[4,4],\"line_width\":{\"value\":2},\"x\":{\"field\":\"x\"},\"y\":{\"field\":\"y\"}},\"id\":\"7c8f9ebf-3821-48f3-8234-c6d6f8c3f1f1\",\"type\":\"Line\"},{\"attributes\":{\"fill_color\":{\"value\":\"#1f77b4\"},\"line_color\":{\"value\":\"#1f77b4\"},\"x\":{\"field\":\"x\"},\"y\":{\"field\":\"y\"}},\"id\":\"a14df0e4-2c0f-40d5-b686-04c9a96fc8d7\",\"type\":\"Circle\"},{\"attributes\":{\"source\":{\"id\":\"500a1c35-d20e-433b-af9f-e7da64771e88\",\"type\":\"ColumnDataSource\"}},\"id\":\"87dbd296-3e39-4778-93f3-a2e59e4e46c4\",\"type\":\"CDSView\"},{\"attributes\":{},\"id\":\"c822716b-5e3d-4620-b921-a3fbb0312a3a\",\"type\":\"PanTool\"},{\"attributes\":{\"callback\":null,\"column_names\":[\"x\",\"y\"],\"data\":{\"x\":{\"__ndarray__\":\"AAAAAAAAAACRGkt8Vz/AP5EaS3xXP9A/2qdwOgNf2D+RGkt8Vz/gPzXhXVstT+Q/2qdwOgNf6D9+boMZ2W7sP5EaS3xXP/A/433Ua0JH8j814V1bLU/0P4dE50oYV/Y/2qdwOgNf+D8sC/op7mb6P35ugxnZbvw/0NEMCcR2/j+RGkt8Vz8AQDrMD/RMQwFA433Ua0JHAkCML5njN0sDQDXhXVstTwRA3pIi0yJTBUCHROdKGFcGQDD2q8INWwdA2qdwOgNfCECDWTWy+GIJQCwL+inuZgpA1by+oeNqC0B+boMZ2W4MQCcgSJHOcg1A0NEMCcR2DkB5g9GAuXoPQJEaS3xXPxBAZnMtOFLBEEA6zA/0TEMRQA8l8q9HxRFA433Ua0JHEkC41rYnPckSQIwvmeM3SxNAYYh7nzLNE0A14V1bLU8UQAo6QBco0RRA3pIi0yJTFUCz6wSPHdUVQIdE50oYVxZAXJ3JBhPZFkAw9qvCDVsXQAVPjn4I3RdA2qdwOgNfGECuAFP2/eAYQINZNbL4YhlAV7IXbvPkGUAsC/op7mYaQABk3OXo6BpA1by+oeNqG0CpFaFd3uwbQH5ugxnZbhxAUsdl1dPwHEAnIEiRznIdQPt4Kk3J9B1A0NEMCcR2HkCkKu/EvvgeQHmD0YC5eh9ATdyzPLT8H0CRGkt8Vz8gQPtGPNpUgCBAZnMtOFLBIEDQnx6WTwIhQDrMD/RMQyFApPgAUkqEIUAPJfKvR8UhQHlR4w1FBiJA433Ua0JHIkBNqsXJP4giQLjWtic9ySJAIgOohToKI0CML5njN0sjQPZbikE1jCNAYYh7nzLNI0DLtGz9Lw4kQDXhXVstTyRAoA1PuSqQJEAKOkAXKNEkQHRmMXUlEiVA3pIi0yJTJUBJvxMxIJQlQLPrBI8d1SVAHRj27BoWJkCHROdKGFcmQPJw2KgVmCZAXJ3JBhPZJkDGybpkEBonQDD2q8INWydAmyKdIAucJ0AFT45+CN0nQG97f9wFHihA2qdwOgNfKEBE1GGYAKAoQK4AU/b94ChAGC1EVPshKUA=\",\"dtype\":\"float64\",\"shape\":[100]},\"y\":{\"__ndarray__\":\"AAAAAAAAAADwgwJ4LjTAP5qI2QHPEtA/+5MNU1HJ1z8ZTT7q2B3fP0aFmgwa+eI/ABg/lCAV5j+IQCEcMdboP3fOhmLzMOs/EyzujrQb7T/9Izwlj47uPxccgYyLg+8/g6xao7j27z9mZrL8O+bvP7+X94FZUu8/xVNiW3I97j9RB8Ai+6vsP5FWKYlppOo/oig6uxkv6D/Sh2bxK1blPyZGRbpaJeI/8qg+VZVT3T/4C4p0qOPVP+UppLIiM8w/3FNHxZdVuD/I23zJpD6gv+3ENsZjOcS/wo12/ecH0r/egWKM2KjZv2MTsJELcOC/83ixWvXH47+258MBZM7mv5eCD4nhdum/rExY6Hq267+TIxAn7YPtvwSssILL1+6/70I4BJ6s77/vOc8G+P7vvzTGy1KGze+/3176khQZ77/C8a4NiuTtvzGcHq/dNOy/mEFFlgER6r+EGZN4xoHnvx8WPFK3keS/Cli7+O1M4b+HQNqEwoHbv9kfIiFb+NO/gKyggGI5yL8EhrXMjDywvyCGtcyMPLA/jqyggGI5yD/gHyIhW/jTP4BA2oTCgds/Dli7+O1M4T8cFjxSt5HkP4cZk3jGgec/lEFFlgER6j8ynB6v3TTsP8Hxrg2K5O0/4F76khQZ7z80xstShs3vP+85zwb4/u8/8EI4BJ6s7z8DrLCCy9fuP5UjECftg+0/p0xY6Hq26z+Vgg+J4XbpP7fnwwFkzuY/9nixWvXH4z9cE7CRC3DgP9eBYozYqNk/w412/ecH0j/+xDbGYznEP0/bfMmkPqA/+VNHxZdVuL/UKaSyIjPMv+gLinSo49W/+Kg+VZVT3b8mRkW6WiXiv8+HZvErVuW/pig6uxkv6L+TVimJaaTqv1EHwCL7q+y/xFNiW3I97r/Al/eBWVLvv2Zmsvw75u+/g6xao7j2778YHIGMi4Pvv/sjPCWPju6/EyzujrQb7b94zoZi8zDrv4xAIRwx1ui//Bc/lCAV5r9GhZoMGvnivx5NPurYHd+/65MNU1HJ17+SiNkBzxLQv/GDAnguNMC/B1wUMyamwbw=\",\"dtype\":\"float64\",\"shape\":[100]}}},\"id\":\"1bde4fcd-f936-479c-b14a-6dbbeb6e8452\",\"type\":\"ColumnDataSource\"},{\"attributes\":{\"source\":{\"id\":\"040a3ce3-f241-48b5-9dc0-2ad4cf37acf1\",\"type\":\"ColumnDataSource\"}},\"id\":\"2d20e8cc-dc2d-42c6-9566-ed102411d13f\",\"type\":\"CDSView\"},{\"attributes\":{\"data_source\":{\"id\":\"329fbcad-056f-40b5-92ec-afa8f405d93c\",\"type\":\"ColumnDataSource\"},\"glyph\":{\"id\":\"318a5a3a-858e-4856-9172-fff264f887e7\",\"type\":\"Line\"},\"hover_glyph\":null,\"muted_glyph\":null,\"nonselection_glyph\":{\"id\":\"9309330d-d5eb-427f-b2e6-c8e9d34d66aa\",\"type\":\"Line\"},\"selection_glyph\":null,\"view\":{\"id\":\"15ea0d43-7478-4fc5-9493-332f6466c9e6\",\"type\":\"CDSView\"}},\"id\":\"c1217306-a0cc-41fe-b3e4-891e5f28ac61\",\"type\":\"GlyphRenderer\"},{\"attributes\":{\"callback\":null,\"column_names\":[\"x\",\"y\"],\"data\":{\"x\":{\"__ndarray__\":\"AAAAAAAAAACRGkt8Vz/AP5EaS3xXP9A/2qdwOgNf2D+RGkt8Vz/gPzXhXVstT+Q/2qdwOgNf6D9+boMZ2W7sP5EaS3xXP/A/433Ua0JH8j814V1bLU/0P4dE50oYV/Y/2qdwOgNf+D8sC/op7mb6P35ugxnZbvw/0NEMCcR2/j+RGkt8Vz8AQDrMD/RMQwFA433Ua0JHAkCML5njN0sDQDXhXVstTwRA3pIi0yJTBUCHROdKGFcGQDD2q8INWwdA2qdwOgNfCECDWTWy+GIJQCwL+inuZgpA1by+oeNqC0B+boMZ2W4MQCcgSJHOcg1A0NEMCcR2DkB5g9GAuXoPQJEaS3xXPxBAZnMtOFLBEEA6zA/0TEMRQA8l8q9HxRFA433Ua0JHEkC41rYnPckSQIwvmeM3SxNAYYh7nzLNE0A14V1bLU8UQAo6QBco0RRA3pIi0yJTFUCz6wSPHdUVQIdE50oYVxZAXJ3JBhPZFkAw9qvCDVsXQAVPjn4I3RdA2qdwOgNfGECuAFP2/eAYQINZNbL4YhlAV7IXbvPkGUAsC/op7mYaQABk3OXo6BpA1by+oeNqG0CpFaFd3uwbQH5ugxnZbhxAUsdl1dPwHEAnIEiRznIdQPt4Kk3J9B1A0NEMCcR2HkCkKu/EvvgeQHmD0YC5eh9ATdyzPLT8H0CRGkt8Vz8gQPtGPNpUgCBAZnMtOFLBIEDQnx6WTwIhQDrMD/RMQyFApPgAUkqEIUAPJfKvR8UhQHlR4w1FBiJA433Ua0JHIkBNqsXJP4giQLjWtic9ySJAIgOohToKI0CML5njN0sjQPZbikE1jCNAYYh7nzLNI0DLtGz9Lw4kQDXhXVstTyRAoA1PuSqQJEAKOkAXKNEkQHRmMXUlEiVA3pIi0yJTJUBJvxMxIJQlQLPrBI8d1SVAHRj27BoWJkCHROdKGFcmQPJw2KgVmCZAXJ3JBhPZJkDGybpkEBonQDD2q8INWydAmyKdIAucJ0AFT45+CN0nQG97f9wFHihA2qdwOgNfKEBE1GGYAKAoQK4AU/b94ChAGC1EVPshKUA=\",\"dtype\":\"float64\",\"shape\":[100]},\"y\":{\"__ndarray__\":\"AAAAAAAAAADwgwJ4LjTAP5qI2QHPEtA/+5MNU1HJ1z8ZTT7q2B3fP0aFmgwa+eI/ABg/lCAV5j+IQCEcMdboP3fOhmLzMOs/EyzujrQb7T/9Izwlj47uPxccgYyLg+8/g6xao7j27z9mZrL8O+bvP7+X94FZUu8/xVNiW3I97j9RB8Ai+6vsP5FWKYlppOo/oig6uxkv6D/Sh2bxK1blPyZGRbpaJeI/8qg+VZVT3T/4C4p0qOPVP+UppLIiM8w/3FNHxZdVuD/I23zJpD6gv+3ENsZjOcS/wo12/ecH0r/egWKM2KjZv2MTsJELcOC/83ixWvXH47+258MBZM7mv5eCD4nhdum/rExY6Hq267+TIxAn7YPtvwSssILL1+6/70I4BJ6s77/vOc8G+P7vvzTGy1KGze+/3176khQZ77/C8a4NiuTtvzGcHq/dNOy/mEFFlgER6r+EGZN4xoHnvx8WPFK3keS/Cli7+O1M4b+HQNqEwoHbv9kfIiFb+NO/gKyggGI5yL8EhrXMjDywvyCGtcyMPLA/jqyggGI5yD/gHyIhW/jTP4BA2oTCgds/Dli7+O1M4T8cFjxSt5HkP4cZk3jGgec/lEFFlgER6j8ynB6v3TTsP8Hxrg2K5O0/4F76khQZ7z80xstShs3vP+85zwb4/u8/8EI4BJ6s7z8DrLCCy9fuP5UjECftg+0/p0xY6Hq26z+Vgg+J4XbpP7fnwwFkzuY/9nixWvXH4z9cE7CRC3DgP9eBYozYqNk/w412/ecH0j/+xDbGYznEP0/bfMmkPqA/+VNHxZdVuL/UKaSyIjPMv+gLinSo49W/+Kg+VZVT3b8mRkW6WiXiv8+HZvErVuW/pig6uxkv6L+TVimJaaTqv1EHwCL7q+y/xFNiW3I97r/Al/eBWVLvv2Zmsvw75u+/g6xao7j2778YHIGMi4Pvv/sjPCWPju6/EyzujrQb7b94zoZi8zDrv4xAIRwx1ui//Bc/lCAV5r9GhZoMGvnivx5NPurYHd+/65MNU1HJ17+SiNkBzxLQv/GDAnguNMC/B1wUMyamwbw=\",\"dtype\":\"float64\",\"shape\":[100]}}},\"id\":\"500a1c35-d20e-433b-af9f-e7da64771e88\",\"type\":\"ColumnDataSource\"},{\"attributes\":{\"fill_color\":{\"value\":\"#1f77b4\"},\"line_color\":{\"value\":\"#1f77b4\"},\"x\":{\"field\":\"x\"},\"y\":{\"field\":\"y\"}},\"id\":\"d2eb20e2-0dbc-4671-bc46-4feabb5d2d5f\",\"type\":\"Circle\"},{\"attributes\":{\"data_source\":{\"id\":\"040a3ce3-f241-48b5-9dc0-2ad4cf37acf1\",\"type\":\"ColumnDataSource\"},\"glyph\":{\"id\":\"a14df0e4-2c0f-40d5-b686-04c9a96fc8d7\",\"type\":\"Circle\"},\"hover_glyph\":null,\"muted_glyph\":null,\"nonselection_glyph\":{\"id\":\"29fd7ec9-b852-4a0e-a152-48b7b56fe87b\",\"type\":\"Circle\"},\"selection_glyph\":null,\"view\":{\"id\":\"2d20e8cc-dc2d-42c6-9566-ed102411d13f\",\"type\":\"CDSView\"}},\"id\":\"e542efee-b015-4241-a45f-07c1d07b5d56\",\"type\":\"GlyphRenderer\"},{\"attributes\":{\"formatter\":{\"id\":\"c4a3938a-4986-45eb-a8f5-47df065b543f\",\"type\":\"BasicTickFormatter\"},\"plot\":{\"id\":\"c86dab68-412f-48d1-9eea-bb94934001a4\",\"subtype\":\"Figure\",\"type\":\"Plot\"},\"ticker\":{\"id\":\"46313ff5-5e12-4413-89cc-19de0cf4629e\",\"type\":\"BasicTicker\"}},\"id\":\"f4e801c4-23aa-4ff1-8ca0-53c94c68153f\",\"type\":\"LinearAxis\"},{\"attributes\":{\"source\":{\"id\":\"3b478f42-a3a1-43da-bfe2-2a21f2bc5083\",\"type\":\"ColumnDataSource\"}},\"id\":\"0bfa5158-4ffc-4e71-b9b3-81c38db608fd\",\"type\":\"CDSView\"},{\"attributes\":{\"data_source\":{\"id\":\"1bde4fcd-f936-479c-b14a-6dbbeb6e8452\",\"type\":\"ColumnDataSource\"},\"glyph\":{\"id\":\"fd9b0f9a-969c-4e8a-ab4d-6da375eaa5de\",\"type\":\"Circle\"},\"hover_glyph\":null,\"muted_glyph\":null,\"nonselection_glyph\":{\"id\":\"8f486a1a-9621-4125-9dbc-e28ef4bbbacf\",\"type\":\"Circle\"},\"selection_glyph\":null,\"view\":{\"id\":\"a960c578-5a2a-4837-ae40-88b07874f34e\",\"type\":\"CDSView\"}},\"id\":\"93fdf49a-8e63-41e6-9fb5-6c1f22620494\",\"type\":\"GlyphRenderer\"},{\"attributes\":{\"below\":[{\"id\":\"f4e801c4-23aa-4ff1-8ca0-53c94c68153f\",\"type\":\"LinearAxis\"}],\"left\":[{\"id\":\"7cf60c41-a75d-4b6f-a01c-b834398f9d2f\",\"type\":\"LinearAxis\"}],\"plot_height\":400,\"renderers\":[{\"id\":\"f4e801c4-23aa-4ff1-8ca0-53c94c68153f\",\"type\":\"LinearAxis\"},{\"id\":\"5d67d792-395f-4c44-ae04-a65bdb8629cb\",\"type\":\"Grid\"},{\"id\":\"7cf60c41-a75d-4b6f-a01c-b834398f9d2f\",\"type\":\"LinearAxis\"},{\"id\":\"aa3471cf-6e54-4c93-8f8b-e0a6e5651941\",\"type\":\"Grid\"},{\"id\":\"3221c58a-c052-4ec1-af7f-44bc705aace4\",\"type\":\"BoxAnnotation\"},{\"id\":\"6e6f53dc-cf1c-4fb1-bd3f-622d008cdba0\",\"type\":\"Legend\"},{\"id\":\"93fdf49a-8e63-41e6-9fb5-6c1f22620494\",\"type\":\"GlyphRenderer\"},{\"id\":\"39ca7bb3-de3b-4809-a1a5-ebf173e7dbec\",\"type\":\"GlyphRenderer\"},{\"id\":\"e542efee-b015-4241-a45f-07c1d07b5d56\",\"type\":\"GlyphRenderer\"},{\"id\":\"c1217306-a0cc-41fe-b3e4-891e5f28ac61\",\"type\":\"GlyphRenderer\"},{\"id\":\"3dda2747-3b73-413c-ab0b-1228ca6d6171\",\"type\":\"GlyphRenderer\"},{\"id\":\"0543792d-f2f3-42e7-ad46-643359a93bb9\",\"type\":\"GlyphRenderer\"},{\"id\":\"b8fc3efc-9cb0-4b30-be6c-fa50262e5441\",\"type\":\"GlyphRenderer\"},{\"id\":\"93f8f132-850f-4b6c-88e9-1657f9224a6d\",\"type\":\"GlyphRenderer\"}],\"title\":{\"id\":\"fc31a023-c28b-4750-9944-6e88f5e8abcf\",\"type\":\"Title\"},\"toolbar\":{\"id\":\"b492b0db-3533-40cb-8ae0-ed994eb1639a\",\"type\":\"Toolbar\"},\"x_range\":{\"id\":\"76ce2000-4576-43c7-8090-a47dbbdd7bba\",\"type\":\"DataRange1d\"},\"x_scale\":{\"id\":\"6f481885-f5b4-431a-b06a-5a43bba81867\",\"type\":\"LinearScale\"},\"y_range\":{\"id\":\"3b576356-2ee0-4efc-ac68-0eda1669cce2\",\"type\":\"DataRange1d\"},\"y_scale\":{\"id\":\"55c8714c-0f7d-464e-98ce-73651a29eead\",\"type\":\"LinearScale\"}},\"id\":\"c86dab68-412f-48d1-9eea-bb94934001a4\",\"subtype\":\"Figure\",\"type\":\"Plot\"},{\"attributes\":{},\"id\":\"6c42601d-01da-4e37-807a-0668e5fb0b6a\",\"type\":\"HelpTool\"},{\"attributes\":{\"overlay\":{\"id\":\"3221c58a-c052-4ec1-af7f-44bc705aace4\",\"type\":\"BoxAnnotation\"}},\"id\":\"28e5dd89-f037-40df-aba6-2aa692341b09\",\"type\":\"BoxZoomTool\"},{\"attributes\":{},\"id\":\"fb9c48bc-e12f-4e31-b4a8-e4b951149b3c\",\"type\":\"SaveTool\"},{\"attributes\":{\"bottom_units\":\"screen\",\"fill_alpha\":{\"value\":0.5},\"fill_color\":{\"value\":\"lightgrey\"},\"left_units\":\"screen\",\"level\":\"overlay\",\"line_alpha\":{\"value\":1.0},\"line_color\":{\"value\":\"black\"},\"line_dash\":[4,4],\"line_width\":{\"value\":2},\"plot\":null,\"render_mode\":\"css\",\"right_units\":\"screen\",\"top_units\":\"screen\"},\"id\":\"3221c58a-c052-4ec1-af7f-44bc705aace4\",\"type\":\"BoxAnnotation\"},{\"attributes\":{\"source\":{\"id\":\"1bde4fcd-f936-479c-b14a-6dbbeb6e8452\",\"type\":\"ColumnDataSource\"}},\"id\":\"a960c578-5a2a-4837-ae40-88b07874f34e\",\"type\":\"CDSView\"},{\"attributes\":{\"line_color\":{\"value\":\"orange\"},\"line_dash\":[4,4],\"line_width\":{\"value\":2},\"x\":{\"field\":\"x\"},\"y\":{\"field\":\"y\"}},\"id\":\"d08cfbad-9d7d-4362-ab80-9a67e4975c06\",\"type\":\"Line\"},{\"attributes\":{\"callback\":null,\"column_names\":[\"x\",\"y\"],\"data\":{\"x\":{\"__ndarray__\":\"AAAAAAAAAACRGkt8Vz/AP5EaS3xXP9A/2qdwOgNf2D+RGkt8Vz/gPzXhXVstT+Q/2qdwOgNf6D9+boMZ2W7sP5EaS3xXP/A/433Ua0JH8j814V1bLU/0P4dE50oYV/Y/2qdwOgNf+D8sC/op7mb6P35ugxnZbvw/0NEMCcR2/j+RGkt8Vz8AQDrMD/RMQwFA433Ua0JHAkCML5njN0sDQDXhXVstTwRA3pIi0yJTBUCHROdKGFcGQDD2q8INWwdA2qdwOgNfCECDWTWy+GIJQCwL+inuZgpA1by+oeNqC0B+boMZ2W4MQCcgSJHOcg1A0NEMCcR2DkB5g9GAuXoPQJEaS3xXPxBAZnMtOFLBEEA6zA/0TEMRQA8l8q9HxRFA433Ua0JHEkC41rYnPckSQIwvmeM3SxNAYYh7nzLNE0A14V1bLU8UQAo6QBco0RRA3pIi0yJTFUCz6wSPHdUVQIdE50oYVxZAXJ3JBhPZFkAw9qvCDVsXQAVPjn4I3RdA2qdwOgNfGECuAFP2/eAYQINZNbL4YhlAV7IXbvPkGUAsC/op7mYaQABk3OXo6BpA1by+oeNqG0CpFaFd3uwbQH5ugxnZbhxAUsdl1dPwHEAnIEiRznIdQPt4Kk3J9B1A0NEMCcR2HkCkKu/EvvgeQHmD0YC5eh9ATdyzPLT8H0CRGkt8Vz8gQPtGPNpUgCBAZnMtOFLBIEDQnx6WTwIhQDrMD/RMQyFApPgAUkqEIUAPJfKvR8UhQHlR4w1FBiJA433Ua0JHIkBNqsXJP4giQLjWtic9ySJAIgOohToKI0CML5njN0sjQPZbikE1jCNAYYh7nzLNI0DLtGz9Lw4kQDXhXVstTyRAoA1PuSqQJEAKOkAXKNEkQHRmMXUlEiVA3pIi0yJTJUBJvxMxIJQlQLPrBI8d1SVAHRj27BoWJkCHROdKGFcmQPJw2KgVmCZAXJ3JBhPZJkDGybpkEBonQDD2q8INWydAmyKdIAucJ0AFT45+CN0nQG97f9wFHihA2qdwOgNfKEBE1GGYAKAoQK4AU/b94ChAGC1EVPshKUA=\",\"dtype\":\"float64\",\"shape\":[100]},\"y\":{\"__ndarray__\":\"AAAAAAAAAADwgwJ4LjTAP5qI2QHPEtA/+5MNU1HJ1z8ZTT7q2B3fP0aFmgwa+eI/ABg/lCAV5j+IQCEcMdboP3fOhmLzMOs/EyzujrQb7T/9Izwlj47uPxccgYyLg+8/g6xao7j27z9mZrL8O+bvP7+X94FZUu8/xVNiW3I97j9RB8Ai+6vsP5FWKYlppOo/oig6uxkv6D/Sh2bxK1blPyZGRbpaJeI/8qg+VZVT3T/4C4p0qOPVP+UppLIiM8w/3FNHxZdVuD/I23zJpD6gv+3ENsZjOcS/wo12/ecH0r/egWKM2KjZv2MTsJELcOC/83ixWvXH47+258MBZM7mv5eCD4nhdum/rExY6Hq267+TIxAn7YPtvwSssILL1+6/70I4BJ6s77/vOc8G+P7vvzTGy1KGze+/3176khQZ77/C8a4NiuTtvzGcHq/dNOy/mEFFlgER6r+EGZN4xoHnvx8WPFK3keS/Cli7+O1M4b+HQNqEwoHbv9kfIiFb+NO/gKyggGI5yL8EhrXMjDywvyCGtcyMPLA/jqyggGI5yD/gHyIhW/jTP4BA2oTCgds/Dli7+O1M4T8cFjxSt5HkP4cZk3jGgec/lEFFlgER6j8ynB6v3TTsP8Hxrg2K5O0/4F76khQZ7z80xstShs3vP+85zwb4/u8/8EI4BJ6s7z8DrLCCy9fuP5UjECftg+0/p0xY6Hq26z+Vgg+J4XbpP7fnwwFkzuY/9nixWvXH4z9cE7CRC3DgP9eBYozYqNk/w412/ecH0j/+xDbGYznEP0/bfMmkPqA/+VNHxZdVuL/UKaSyIjPMv+gLinSo49W/+Kg+VZVT3b8mRkW6WiXiv8+HZvErVuW/pig6uxkv6L+TVimJaaTqv1EHwCL7q+y/xFNiW3I97r/Al/eBWVLvv2Zmsvw75u+/g6xao7j2778YHIGMi4Pvv/sjPCWPju6/EyzujrQb7b94zoZi8zDrv4xAIRwx1ui//Bc/lCAV5r9GhZoMGvnivx5NPurYHd+/65MNU1HJ17+SiNkBzxLQv/GDAnguNMC/B1wUMyamwbw=\",\"dtype\":\"float64\",\"shape\":[100]}}},\"id\":\"040a3ce3-f241-48b5-9dc0-2ad4cf37acf1\",\"type\":\"ColumnDataSource\"},{\"attributes\":{\"data_source\":{\"id\":\"3b478f42-a3a1-43da-bfe2-2a21f2bc5083\",\"type\":\"ColumnDataSource\"},\"glyph\":{\"id\":\"7c8f9ebf-3821-48f3-8234-c6d6f8c3f1f1\",\"type\":\"Line\"},\"hover_glyph\":null,\"muted_glyph\":null,\"nonselection_glyph\":{\"id\":\"e135042d-7ea4-4631-9772-e3c64d98ef2d\",\"type\":\"Line\"},\"selection_glyph\":null,\"view\":{\"id\":\"0bfa5158-4ffc-4e71-b9b3-81c38db608fd\",\"type\":\"CDSView\"}},\"id\":\"39ca7bb3-de3b-4809-a1a5-ebf173e7dbec\",\"type\":\"GlyphRenderer\"},{\"attributes\":{},\"id\":\"be09c0c6-74f0-43b8-9db6-e07c8c12b006\",\"type\":\"WheelZoomTool\"},{\"attributes\":{\"label\":{\"value\":\"sin(x)\"},\"renderers\":[{\"id\":\"93fdf49a-8e63-41e6-9fb5-6c1f22620494\",\"type\":\"GlyphRenderer\"},{\"id\":\"e542efee-b015-4241-a45f-07c1d07b5d56\",\"type\":\"GlyphRenderer\"},{\"id\":\"c1217306-a0cc-41fe-b3e4-891e5f28ac61\",\"type\":\"GlyphRenderer\"},{\"id\":\"0543792d-f2f3-42e7-ad46-643359a93bb9\",\"type\":\"GlyphRenderer\"},{\"id\":\"b8fc3efc-9cb0-4b30-be6c-fa50262e5441\",\"type\":\"GlyphRenderer\"}]},\"id\":\"b66dc982-88d2-431f-9ab2-c8db98f9a7f8\",\"type\":\"LegendItem\"},{\"attributes\":{\"callback\":null,\"column_names\":[\"x\",\"y\"],\"data\":{\"x\":{\"__ndarray__\":\"AAAAAAAAAACRGkt8Vz/AP5EaS3xXP9A/2qdwOgNf2D+RGkt8Vz/gPzXhXVstT+Q/2qdwOgNf6D9+boMZ2W7sP5EaS3xXP/A/433Ua0JH8j814V1bLU/0P4dE50oYV/Y/2qdwOgNf+D8sC/op7mb6P35ugxnZbvw/0NEMCcR2/j+RGkt8Vz8AQDrMD/RMQwFA433Ua0JHAkCML5njN0sDQDXhXVstTwRA3pIi0yJTBUCHROdKGFcGQDD2q8INWwdA2qdwOgNfCECDWTWy+GIJQCwL+inuZgpA1by+oeNqC0B+boMZ2W4MQCcgSJHOcg1A0NEMCcR2DkB5g9GAuXoPQJEaS3xXPxBAZnMtOFLBEEA6zA/0TEMRQA8l8q9HxRFA433Ua0JHEkC41rYnPckSQIwvmeM3SxNAYYh7nzLNE0A14V1bLU8UQAo6QBco0RRA3pIi0yJTFUCz6wSPHdUVQIdE50oYVxZAXJ3JBhPZFkAw9qvCDVsXQAVPjn4I3RdA2qdwOgNfGECuAFP2/eAYQINZNbL4YhlAV7IXbvPkGUAsC/op7mYaQABk3OXo6BpA1by+oeNqG0CpFaFd3uwbQH5ugxnZbhxAUsdl1dPwHEAnIEiRznIdQPt4Kk3J9B1A0NEMCcR2HkCkKu/EvvgeQHmD0YC5eh9ATdyzPLT8H0CRGkt8Vz8gQPtGPNpUgCBAZnMtOFLBIEDQnx6WTwIhQDrMD/RMQyFApPgAUkqEIUAPJfKvR8UhQHlR4w1FBiJA433Ua0JHIkBNqsXJP4giQLjWtic9ySJAIgOohToKI0CML5njN0sjQPZbikE1jCNAYYh7nzLNI0DLtGz9Lw4kQDXhXVstTyRAoA1PuSqQJEAKOkAXKNEkQHRmMXUlEiVA3pIi0yJTJUBJvxMxIJQlQLPrBI8d1SVAHRj27BoWJkCHROdKGFcmQPJw2KgVmCZAXJ3JBhPZJkDGybpkEBonQDD2q8INWydAmyKdIAucJ0AFT45+CN0nQG97f9wFHihA2qdwOgNfKEBE1GGYAKAoQK4AU/b94ChAGC1EVPshKUA=\",\"dtype\":\"float64\",\"shape\":[100]},\"y\":{\"__ndarray__\":\"AAAAAAAAAADwgwJ4LjTQP5qI2QHPEuA/+5MNU1HJ5z8ZTT7q2B3vP0aFmgwa+fI/ABg/lCAV9j+IQCEcMdb4P3fOhmLzMPs/EyzujrQb/T/9Izwlj47+PxccgYyLg/8/g6xao7j2/z9mZrL8O+b/P7+X94FZUv8/xVNiW3I9/j9RB8Ai+6v8P5FWKYlppPo/oig6uxkv+D/Sh2bxK1b1PyZGRbpaJfI/8qg+VZVT7T/4C4p0qOPlP+UppLIiM9w/3FNHxZdVyD/I23zJpD6wv+3ENsZjOdS/wo12/ecH4r/egWKM2Kjpv2MTsJELcPC/83ixWvXH87+258MBZM72v5eCD4nhdvm/rExY6Hq2+7+TIxAn7YP9vwSssILL1/6/70I4BJ6s/7/vOc8G+P7/vzTGy1KGzf+/3176khQZ/7/C8a4NiuT9vzGcHq/dNPy/mEFFlgER+r+EGZN4xoH3vx8WPFK3kfS/Cli7+O1M8b+HQNqEwoHrv9kfIiFb+OO/gKyggGI52L8EhrXMjDzAvyCGtcyMPMA/jqyggGI52D/gHyIhW/jjP4BA2oTCges/Dli7+O1M8T8cFjxSt5H0P4cZk3jGgfc/lEFFlgER+j8ynB6v3TT8P8Hxrg2K5P0/4F76khQZ/z80xstShs3/P+85zwb4/v8/8EI4BJ6s/z8DrLCCy9f+P5UjECftg/0/p0xY6Hq2+z+Vgg+J4Xb5P7fnwwFkzvY/9nixWvXH8z9cE7CRC3DwP9eBYozYqOk/w412/ecH4j/+xDbGYznUP0/bfMmkPrA/+VNHxZdVyL/UKaSyIjPcv+gLinSo4+W/+Kg+VZVT7b8mRkW6WiXyv8+HZvErVvW/pig6uxkv+L+TVimJaaT6v1EHwCL7q/y/xFNiW3I9/r/Al/eBWVL/v2Zmsvw75v+/g6xao7j2/78YHIGMi4P/v/sjPCWPjv6/EyzujrQb/b94zoZi8zD7v4xAIRwx1vi//Bc/lCAV9r9GhZoMGvnyvx5NPurYHe+/65MNU1HJ57+SiNkBzxLgv/GDAnguNNC/B1wUMyam0bw=\",\"dtype\":\"float64\",\"shape\":[100]}}},\"id\":\"3b478f42-a3a1-43da-bfe2-2a21f2bc5083\",\"type\":\"ColumnDataSource\"},{\"attributes\":{\"callback\":null,\"column_names\":[\"x\",\"y\"],\"data\":{\"x\":{\"__ndarray__\":\"AAAAAAAAAACRGkt8Vz/AP5EaS3xXP9A/2qdwOgNf2D+RGkt8Vz/gPzXhXVstT+Q/2qdwOgNf6D9+boMZ2W7sP5EaS3xXP/A/433Ua0JH8j814V1bLU/0P4dE50oYV/Y/2qdwOgNf+D8sC/op7mb6P35ugxnZbvw/0NEMCcR2/j+RGkt8Vz8AQDrMD/RMQwFA433Ua0JHAkCML5njN0sDQDXhXVstTwRA3pIi0yJTBUCHROdKGFcGQDD2q8INWwdA2qdwOgNfCECDWTWy+GIJQCwL+inuZgpA1by+oeNqC0B+boMZ2W4MQCcgSJHOcg1A0NEMCcR2DkB5g9GAuXoPQJEaS3xXPxBAZnMtOFLBEEA6zA/0TEMRQA8l8q9HxRFA433Ua0JHEkC41rYnPckSQIwvmeM3SxNAYYh7nzLNE0A14V1bLU8UQAo6QBco0RRA3pIi0yJTFUCz6wSPHdUVQIdE50oYVxZAXJ3JBhPZFkAw9qvCDVsXQAVPjn4I3RdA2qdwOgNfGECuAFP2/eAYQINZNbL4YhlAV7IXbvPkGUAsC/op7mYaQABk3OXo6BpA1by+oeNqG0CpFaFd3uwbQH5ugxnZbhxAUsdl1dPwHEAnIEiRznIdQPt4Kk3J9B1A0NEMCcR2HkCkKu/EvvgeQHmD0YC5eh9ATdyzPLT8H0CRGkt8Vz8gQPtGPNpUgCBAZnMtOFLBIEDQnx6WTwIhQDrMD/RMQyFApPgAUkqEIUAPJfKvR8UhQHlR4w1FBiJA433Ua0JHIkBNqsXJP4giQLjWtic9ySJAIgOohToKI0CML5njN0sjQPZbikE1jCNAYYh7nzLNI0DLtGz9Lw4kQDXhXVstTyRAoA1PuSqQJEAKOkAXKNEkQHRmMXUlEiVA3pIi0yJTJUBJvxMxIJQlQLPrBI8d1SVAHRj27BoWJkCHROdKGFcmQPJw2KgVmCZAXJ3JBhPZJkDGybpkEBonQDD2q8INWydAmyKdIAucJ0AFT45+CN0nQG97f9wFHihA2qdwOgNfKEBE1GGYAKAoQK4AU/b94ChAGC1EVPshKUA=\",\"dtype\":\"float64\",\"shape\":[100]},\"y\":{\"__ndarray__\":\"AAAAAAAAAADwgwJ4LjTAP5qI2QHPEtA/+5MNU1HJ1z8ZTT7q2B3fP0aFmgwa+eI/ABg/lCAV5j+IQCEcMdboP3fOhmLzMOs/EyzujrQb7T/9Izwlj47uPxccgYyLg+8/g6xao7j27z9mZrL8O+bvP7+X94FZUu8/xVNiW3I97j9RB8Ai+6vsP5FWKYlppOo/oig6uxkv6D/Sh2bxK1blPyZGRbpaJeI/8qg+VZVT3T/4C4p0qOPVP+UppLIiM8w/3FNHxZdVuD/I23zJpD6gv+3ENsZjOcS/wo12/ecH0r/egWKM2KjZv2MTsJELcOC/83ixWvXH47+258MBZM7mv5eCD4nhdum/rExY6Hq267+TIxAn7YPtvwSssILL1+6/70I4BJ6s77/vOc8G+P7vvzTGy1KGze+/3176khQZ77/C8a4NiuTtvzGcHq/dNOy/mEFFlgER6r+EGZN4xoHnvx8WPFK3keS/Cli7+O1M4b+HQNqEwoHbv9kfIiFb+NO/gKyggGI5yL8EhrXMjDywvyCGtcyMPLA/jqyggGI5yD/gHyIhW/jTP4BA2oTCgds/Dli7+O1M4T8cFjxSt5HkP4cZk3jGgec/lEFFlgER6j8ynB6v3TTsP8Hxrg2K5O0/4F76khQZ7z80xstShs3vP+85zwb4/u8/8EI4BJ6s7z8DrLCCy9fuP5UjECftg+0/p0xY6Hq26z+Vgg+J4XbpP7fnwwFkzuY/9nixWvXH4z9cE7CRC3DgP9eBYozYqNk/w412/ecH0j/+xDbGYznEP0/bfMmkPqA/+VNHxZdVuL/UKaSyIjPMv+gLinSo49W/+Kg+VZVT3b8mRkW6WiXiv8+HZvErVuW/pig6uxkv6L+TVimJaaTqv1EHwCL7q+y/xFNiW3I97r/Al/eBWVLvv2Zmsvw75u+/g6xao7j2778YHIGMi4Pvv/sjPCWPju6/EyzujrQb7b94zoZi8zDrv4xAIRwx1ui//Bc/lCAV5r9GhZoMGvnivx5NPurYHd+/65MNU1HJ17+SiNkBzxLQv/GDAnguNMC/B1wUMyamwbw=\",\"dtype\":\"float64\",\"shape\":[100]}}},\"id\":\"c674aec6-4d30-49a2-a75e-9455013e47c4\",\"type\":\"ColumnDataSource\"},{\"attributes\":{\"callback\":null,\"column_names\":[\"x\",\"y\"],\"data\":{\"x\":{\"__ndarray__\":\"AAAAAAAAAACRGkt8Vz/AP5EaS3xXP9A/2qdwOgNf2D+RGkt8Vz/gPzXhXVstT+Q/2qdwOgNf6D9+boMZ2W7sP5EaS3xXP/A/433Ua0JH8j814V1bLU/0P4dE50oYV/Y/2qdwOgNf+D8sC/op7mb6P35ugxnZbvw/0NEMCcR2/j+RGkt8Vz8AQDrMD/RMQwFA433Ua0JHAkCML5njN0sDQDXhXVstTwRA3pIi0yJTBUCHROdKGFcGQDD2q8INWwdA2qdwOgNfCECDWTWy+GIJQCwL+inuZgpA1by+oeNqC0B+boMZ2W4MQCcgSJHOcg1A0NEMCcR2DkB5g9GAuXoPQJEaS3xXPxBAZnMtOFLBEEA6zA/0TEMRQA8l8q9HxRFA433Ua0JHEkC41rYnPckSQIwvmeM3SxNAYYh7nzLNE0A14V1bLU8UQAo6QBco0RRA3pIi0yJTFUCz6wSPHdUVQIdE50oYVxZAXJ3JBhPZFkAw9qvCDVsXQAVPjn4I3RdA2qdwOgNfGECuAFP2/eAYQINZNbL4YhlAV7IXbvPkGUAsC/op7mYaQABk3OXo6BpA1by+oeNqG0CpFaFd3uwbQH5ugxnZbhxAUsdl1dPwHEAnIEiRznIdQPt4Kk3J9B1A0NEMCcR2HkCkKu/EvvgeQHmD0YC5eh9ATdyzPLT8H0CRGkt8Vz8gQPtGPNpUgCBAZnMtOFLBIEDQnx6WTwIhQDrMD/RMQyFApPgAUkqEIUAPJfKvR8UhQHlR4w1FBiJA433Ua0JHIkBNqsXJP4giQLjWtic9ySJAIgOohToKI0CML5njN0sjQPZbikE1jCNAYYh7nzLNI0DLtGz9Lw4kQDXhXVstTyRAoA1PuSqQJEAKOkAXKNEkQHRmMXUlEiVA3pIi0yJTJUBJvxMxIJQlQLPrBI8d1SVAHRj27BoWJkCHROdKGFcmQPJw2KgVmCZAXJ3JBhPZJkDGybpkEBonQDD2q8INWydAmyKdIAucJ0AFT45+CN0nQG97f9wFHihA2qdwOgNfKEBE1GGYAKAoQK4AU/b94ChAGC1EVPshKUA=\",\"dtype\":\"float64\",\"shape\":[100]},\"y\":{\"__ndarray__\":\"AAAAAAAAAADwgwJ4LjTQP5qI2QHPEuA/+5MNU1HJ5z8ZTT7q2B3vP0aFmgwa+fI/ABg/lCAV9j+IQCEcMdb4P3fOhmLzMPs/EyzujrQb/T/9Izwlj47+PxccgYyLg/8/g6xao7j2/z9mZrL8O+b/P7+X94FZUv8/xVNiW3I9/j9RB8Ai+6v8P5FWKYlppPo/oig6uxkv+D/Sh2bxK1b1PyZGRbpaJfI/8qg+VZVT7T/4C4p0qOPlP+UppLIiM9w/3FNHxZdVyD/I23zJpD6wv+3ENsZjOdS/wo12/ecH4r/egWKM2Kjpv2MTsJELcPC/83ixWvXH87+258MBZM72v5eCD4nhdvm/rExY6Hq2+7+TIxAn7YP9vwSssILL1/6/70I4BJ6s/7/vOc8G+P7/vzTGy1KGzf+/3176khQZ/7/C8a4NiuT9vzGcHq/dNPy/mEFFlgER+r+EGZN4xoH3vx8WPFK3kfS/Cli7+O1M8b+HQNqEwoHrv9kfIiFb+OO/gKyggGI52L8EhrXMjDzAvyCGtcyMPMA/jqyggGI52D/gHyIhW/jjP4BA2oTCges/Dli7+O1M8T8cFjxSt5H0P4cZk3jGgfc/lEFFlgER+j8ynB6v3TT8P8Hxrg2K5P0/4F76khQZ/z80xstShs3/P+85zwb4/v8/8EI4BJ6s/z8DrLCCy9f+P5UjECftg/0/p0xY6Hq2+z+Vgg+J4Xb5P7fnwwFkzvY/9nixWvXH8z9cE7CRC3DwP9eBYozYqOk/w412/ecH4j/+xDbGYznUP0/bfMmkPrA/+VNHxZdVyL/UKaSyIjPcv+gLinSo4+W/+Kg+VZVT7b8mRkW6WiXyv8+HZvErVvW/pig6uxkv+L+TVimJaaT6v1EHwCL7q/y/xFNiW3I9/r/Al/eBWVL/v2Zmsvw75v+/g6xao7j2/78YHIGMi4P/v/sjPCWPjv6/EyzujrQb/b94zoZi8zD7v4xAIRwx1vi//Bc/lCAV9r9GhZoMGvnyvx5NPurYHe+/65MNU1HJ57+SiNkBzxLgv/GDAnguNNC/B1wUMyam0bw=\",\"dtype\":\"float64\",\"shape\":[100]}}},\"id\":\"065dde6b-a5e7-4c76-b391-4d7bb8288e9f\",\"type\":\"ColumnDataSource\"},{\"attributes\":{\"items\":[{\"id\":\"b66dc982-88d2-431f-9ab2-c8db98f9a7f8\",\"type\":\"LegendItem\"},{\"id\":\"e99dcbf8-6492-452b-847c-4e2e9ed5d9c1\",\"type\":\"LegendItem\"}],\"plot\":{\"id\":\"c86dab68-412f-48d1-9eea-bb94934001a4\",\"subtype\":\"Figure\",\"type\":\"Plot\"}},\"id\":\"6e6f53dc-cf1c-4fb1-bd3f-622d008cdba0\",\"type\":\"Legend\"},{\"attributes\":{},\"id\":\"3b546fdf-0894-4e03-8c71-571bc7a85e4c\",\"type\":\"BasicTicker\"},{\"attributes\":{\"data_source\":{\"id\":\"065dde6b-a5e7-4c76-b391-4d7bb8288e9f\",\"type\":\"ColumnDataSource\"},\"glyph\":{\"id\":\"d08cfbad-9d7d-4362-ab80-9a67e4975c06\",\"type\":\"Line\"},\"hover_glyph\":null,\"muted_glyph\":null,\"nonselection_glyph\":{\"id\":\"6c39c9d3-c8f9-4c76-bdad-8e3c5c7223c8\",\"type\":\"Line\"},\"selection_glyph\":null,\"view\":{\"id\":\"25833eeb-c207-4fa4-93cf-dc658ac1336f\",\"type\":\"CDSView\"}},\"id\":\"93f8f132-850f-4b6c-88e9-1657f9224a6d\",\"type\":\"GlyphRenderer\"},{\"attributes\":{\"line_color\":{\"value\":\"grey\"},\"x\":{\"field\":\"x\"},\"y\":{\"field\":\"y\"}},\"id\":\"318a5a3a-858e-4856-9172-fff264f887e7\",\"type\":\"Line\"},{\"attributes\":{\"fill_alpha\":{\"value\":0.1},\"fill_color\":{\"value\":\"#1f77b4\"},\"line_alpha\":{\"value\":0.1},\"line_color\":{\"value\":\"#1f77b4\"},\"x\":{\"field\":\"x\"},\"y\":{\"field\":\"y\"}},\"id\":\"29fd7ec9-b852-4a0e-a152-48b7b56fe87b\",\"type\":\"Circle\"},{\"attributes\":{\"fill_alpha\":{\"value\":0.1},\"fill_color\":{\"value\":\"#1f77b4\"},\"line_alpha\":{\"value\":0.1},\"line_color\":{\"value\":\"#1f77b4\"},\"x\":{\"field\":\"x\"},\"y\":{\"field\":\"y\"}},\"id\":\"3a781772-82bc-4595-868d-7f64bce67831\",\"type\":\"Circle\"},{\"attributes\":{\"line_alpha\":{\"value\":0.1},\"line_color\":{\"value\":\"#1f77b4\"},\"x\":{\"field\":\"x\"},\"y\":{\"field\":\"y\"}},\"id\":\"51b97c77-a76f-4668-b1e1-d0ce3b2a6ab0\",\"type\":\"Line\"},{\"attributes\":{\"line_color\":{\"value\":\"orange\"},\"line_dash\":[4,4],\"line_width\":{\"value\":2},\"x\":{\"field\":\"x\"},\"y\":{\"field\":\"y\"}},\"id\":\"bf08cd5d-c49e-434e-8a6b-bbf1095d7f88\",\"type\":\"Line\"},{\"attributes\":{\"source\":{\"id\":\"065dde6b-a5e7-4c76-b391-4d7bb8288e9f\",\"type\":\"ColumnDataSource\"}},\"id\":\"25833eeb-c207-4fa4-93cf-dc658ac1336f\",\"type\":\"CDSView\"},{\"attributes\":{\"source\":{\"id\":\"53c8e826-47d8-4511-88aa-c51080434529\",\"type\":\"ColumnDataSource\"}},\"id\":\"66be70b2-694a-4944-a7f0-c6a524238fad\",\"type\":\"CDSView\"},{\"attributes\":{\"line_alpha\":{\"value\":0.1},\"line_color\":{\"value\":\"#1f77b4\"},\"line_dash\":[4,4],\"line_width\":{\"value\":2},\"x\":{\"field\":\"x\"},\"y\":{\"field\":\"y\"}},\"id\":\"e135042d-7ea4-4631-9772-e3c64d98ef2d\",\"type\":\"Line\"},{\"attributes\":{\"label\":{\"value\":\"2*sin(x)\"},\"renderers\":[{\"id\":\"39ca7bb3-de3b-4809-a1a5-ebf173e7dbec\",\"type\":\"GlyphRenderer\"},{\"id\":\"3dda2747-3b73-413c-ab0b-1228ca6d6171\",\"type\":\"GlyphRenderer\"},{\"id\":\"93f8f132-850f-4b6c-88e9-1657f9224a6d\",\"type\":\"GlyphRenderer\"}]},\"id\":\"e99dcbf8-6492-452b-847c-4e2e9ed5d9c1\",\"type\":\"LegendItem\"},{\"attributes\":{\"data_source\":{\"id\":\"c674aec6-4d30-49a2-a75e-9455013e47c4\",\"type\":\"ColumnDataSource\"},\"glyph\":{\"id\":\"d2eb20e2-0dbc-4671-bc46-4feabb5d2d5f\",\"type\":\"Circle\"},\"hover_glyph\":null,\"muted_glyph\":null,\"nonselection_glyph\":{\"id\":\"3a781772-82bc-4595-868d-7f64bce67831\",\"type\":\"Circle\"},\"selection_glyph\":null,\"view\":{\"id\":\"f48fb4e3-7168-42a7-aaf2-3dcd88de5315\",\"type\":\"CDSView\"}},\"id\":\"b8fc3efc-9cb0-4b30-be6c-fa50262e5441\",\"type\":\"GlyphRenderer\"},{\"attributes\":{\"line_alpha\":{\"value\":0.1},\"line_color\":{\"value\":\"#1f77b4\"},\"line_dash\":[4,4],\"line_width\":{\"value\":2},\"x\":{\"field\":\"x\"},\"y\":{\"field\":\"y\"}},\"id\":\"6839a033-5c65-4d47-b1f5-5604d3cb3b44\",\"type\":\"Line\"},{\"attributes\":{},\"id\":\"46313ff5-5e12-4413-89cc-19de0cf4629e\",\"type\":\"BasicTicker\"},{\"attributes\":{\"data_source\":{\"id\":\"500a1c35-d20e-433b-af9f-e7da64771e88\",\"type\":\"ColumnDataSource\"},\"glyph\":{\"id\":\"c03e0621-fa5e-407e-8c7c-7dce15f0f9d2\",\"type\":\"Line\"},\"hover_glyph\":null,\"muted_glyph\":null,\"nonselection_glyph\":{\"id\":\"51b97c77-a76f-4668-b1e1-d0ce3b2a6ab0\",\"type\":\"Line\"},\"selection_glyph\":null,\"view\":{\"id\":\"87dbd296-3e39-4778-93f3-a2e59e4e46c4\",\"type\":\"CDSView\"}},\"id\":\"0543792d-f2f3-42e7-ad46-643359a93bb9\",\"type\":\"GlyphRenderer\"},{\"attributes\":{\"dimension\":1,\"plot\":{\"id\":\"c86dab68-412f-48d1-9eea-bb94934001a4\",\"subtype\":\"Figure\",\"type\":\"Plot\"},\"ticker\":{\"id\":\"3b546fdf-0894-4e03-8c71-571bc7a85e4c\",\"type\":\"BasicTicker\"}},\"id\":\"aa3471cf-6e54-4c93-8f8b-e0a6e5651941\",\"type\":\"Grid\"},{\"attributes\":{\"data_source\":{\"id\":\"53c8e826-47d8-4511-88aa-c51080434529\",\"type\":\"ColumnDataSource\"},\"glyph\":{\"id\":\"bf08cd5d-c49e-434e-8a6b-bbf1095d7f88\",\"type\":\"Line\"},\"hover_glyph\":null,\"muted_glyph\":null,\"nonselection_glyph\":{\"id\":\"6839a033-5c65-4d47-b1f5-5604d3cb3b44\",\"type\":\"Line\"},\"selection_glyph\":null,\"view\":{\"id\":\"66be70b2-694a-4944-a7f0-c6a524238fad\",\"type\":\"CDSView\"}},\"id\":\"3dda2747-3b73-413c-ab0b-1228ca6d6171\",\"type\":\"GlyphRenderer\"},{\"attributes\":{\"line_alpha\":{\"value\":0.1},\"line_color\":{\"value\":\"#1f77b4\"},\"line_dash\":[4,4],\"line_width\":{\"value\":2},\"x\":{\"field\":\"x\"},\"y\":{\"field\":\"y\"}},\"id\":\"6c39c9d3-c8f9-4c76-bdad-8e3c5c7223c8\",\"type\":\"Line\"}],\"root_ids\":[\"c86dab68-412f-48d1-9eea-bb94934001a4\"]},\"title\":\"Bokeh Application\",\"version\":\"0.12.10\"}};\n",
       "    var render_items = [{\"docid\":\"13c2926f-993a-43ca-826b-e378fb0cfa0b\",\"elementid\":\"15aefd9b-fdbf-4148-a30c-60fa27113754\",\"modelid\":\"c86dab68-412f-48d1-9eea-bb94934001a4\"}];\n",
       "\n",
       "    root.Bokeh.embed.embed_items(docs_json, render_items);\n",
       "  }\n",
       "\n",
       "  if (root.Bokeh !== undefined) {\n",
       "    embed_document(root);\n",
       "  } else {\n",
       "    var attempts = 0;\n",
       "    var timer = setInterval(function(root) {\n",
       "      if (root.Bokeh !== undefined) {\n",
       "        embed_document(root);\n",
       "        clearInterval(timer);\n",
       "      }\n",
       "      attempts++;\n",
       "      if (attempts > 100) {\n",
       "        console.log(\"Bokeh: ERROR: Unable to embed document because BokehJS library is missing\")\n",
       "        clearInterval(timer);\n",
       "      }\n",
       "    }, 10, root)\n",
       "  }\n",
       "})(window);"
      ],
      "application/vnd.bokehjs_exec.v0+json": ""
     },
     "metadata": {
      "application/vnd.bokehjs_exec.v0+json": {
       "id": "c86dab68-412f-48d1-9eea-bb94934001a4"
      }
     },
     "output_type": "display_data"
    }
   ],
   "source": [
    "p.line(x,y,color=\"grey\",legend=\"sin(x)\")\n",
    "p.circle(x,y,legend=\"sin(x)\")\n",
    "p.line(x,2*y,legend=\"2*sin(x)\",line_dash=[4,4],line_color=\"orange\",line_width=2)\n",
    "show(p)"
   ]
  },
  {
   "cell_type": "markdown",
   "metadata": {},
   "source": [
    "# Color bars"
   ]
  },
  {
   "cell_type": "code",
   "execution_count": 32,
   "metadata": {},
   "outputs": [],
   "source": [
    "from bokeh.sampledata.autompg import autompg\n",
    "from bokeh.models import LinearColorMapper, ColorBar\n",
    "from bokeh.palettes import Viridis256\n",
    "\n",
    "source=ColumnDataSource(autompg)\n",
    "color_mapper=LinearColorMapper(palette=Viridis256,\n",
    "                              low=autompg.weight.min(),\n",
    "                               high=autompg.weight.max())\n",
    "p=figure(x_axis_label='Year',y_axis_label='MPG',tools='',\n",
    "         toolbar_location='above')\n"
   ]
  },
  {
   "cell_type": "code",
   "execution_count": 33,
   "metadata": {},
   "outputs": [],
   "source": [
    "p.circle(x='yr',y='mpg',color={'field':'weight',\n",
    "                               'transform':color_mapper},\n",
    "         size=20,alpha=.6,source=source)\n",
    "color_bar=ColorBar(color_mapper=color_mapper,label_standoff=12,\n",
    "                  location=(0,0),title=\"Weight\")\n"
   ]
  },
  {
   "cell_type": "code",
   "execution_count": 34,
   "metadata": {},
   "outputs": [
    {
     "data": {
      "text/html": [
       "\n",
       "<div class=\"bk-root\">\n",
       "    <div class=\"bk-plotdiv\" id=\"7dc6ff13-1f72-4249-b62c-df868c5553ee\"></div>\n",
       "</div>"
      ]
     },
     "metadata": {},
     "output_type": "display_data"
    },
    {
     "data": {
      "application/javascript": [
       "(function(root) {\n",
       "  function embed_document(root) {\n",
       "    var docs_json = {\"8ba2f8d2-25e8-4f58-9518-27f6b8c15394\":{\"roots\":{\"references\":[{\"attributes\":{},\"id\":\"f2394e5d-a5d4-4140-970d-49425b3cd2e1\",\"type\":\"BasicTickFormatter\"},{\"attributes\":{\"dimension\":1,\"plot\":{\"id\":\"fe4e74c6-fdae-4a6c-90b1-0bbfd806ab75\",\"subtype\":\"Figure\",\"type\":\"Plot\"},\"ticker\":{\"id\":\"bfbebd8f-c13b-4d0a-a155-1da551a2b453\",\"type\":\"BasicTicker\"}},\"id\":\"6cad009b-2be8-46b4-98e2-4e041990b002\",\"type\":\"Grid\"},{\"attributes\":{\"source\":{\"id\":\"3cff6708-7f9a-4dd9-b017-9ba36029fdd8\",\"type\":\"ColumnDataSource\"}},\"id\":\"07728e8d-6f08-4df2-99b5-111effba36d1\",\"type\":\"CDSView\"},{\"attributes\":{\"color_mapper\":{\"id\":\"eeccc795-8fb2-4062-9b74-d4164cc1445c\",\"type\":\"LinearColorMapper\"},\"formatter\":{\"id\":\"7c043899-cfbe-4d91-b160-3194ee7a4ae0\",\"type\":\"BasicTickFormatter\"},\"label_standoff\":12,\"location\":[0,0],\"plot\":{\"id\":\"fe4e74c6-fdae-4a6c-90b1-0bbfd806ab75\",\"subtype\":\"Figure\",\"type\":\"Plot\"},\"ticker\":{\"id\":\"0e663b40-dda6-4932-b09e-51e0e7b36c39\",\"type\":\"BasicTicker\"},\"title\":\"Weight\"},\"id\":\"6b7af127-d3f2-4f81-97cd-1166e513f39a\",\"type\":\"ColorBar\"},{\"attributes\":{\"below\":[{\"id\":\"e0faf03d-683f-4d53-bea3-5e25e367abf9\",\"type\":\"LinearAxis\"}],\"left\":[{\"id\":\"464f29da-fd4e-490c-b081-6e557503c43c\",\"type\":\"LinearAxis\"}],\"renderers\":[{\"id\":\"e0faf03d-683f-4d53-bea3-5e25e367abf9\",\"type\":\"LinearAxis\"},{\"id\":\"06920231-5894-4f71-9f97-298f56cd6a13\",\"type\":\"Grid\"},{\"id\":\"464f29da-fd4e-490c-b081-6e557503c43c\",\"type\":\"LinearAxis\"},{\"id\":\"6cad009b-2be8-46b4-98e2-4e041990b002\",\"type\":\"Grid\"},{\"id\":\"65b8330c-2080-4f3b-94c6-8464935dddfc\",\"type\":\"GlyphRenderer\"},{\"id\":\"6b7af127-d3f2-4f81-97cd-1166e513f39a\",\"type\":\"ColorBar\"}],\"right\":[{\"id\":\"6b7af127-d3f2-4f81-97cd-1166e513f39a\",\"type\":\"ColorBar\"}],\"title\":{\"id\":\"65758a89-d186-4597-87f2-a2279719f5c1\",\"type\":\"Title\"},\"toolbar\":{\"id\":\"9693283e-3622-4e67-81cd-957957b89137\",\"type\":\"Toolbar\"},\"toolbar_location\":\"above\",\"x_range\":{\"id\":\"48482ede-8648-4c96-bfa9-c7bd697bd57a\",\"type\":\"DataRange1d\"},\"x_scale\":{\"id\":\"ad3295ea-bd9c-41e8-adc1-2ae64954dd9a\",\"type\":\"LinearScale\"},\"y_range\":{\"id\":\"d45de39b-b0b3-4a55-a7e2-dbe5554b9d2a\",\"type\":\"DataRange1d\"},\"y_scale\":{\"id\":\"8926b13b-4c5d-4d32-bc27-f5ead7338446\",\"type\":\"LinearScale\"}},\"id\":\"fe4e74c6-fdae-4a6c-90b1-0bbfd806ab75\",\"subtype\":\"Figure\",\"type\":\"Plot\"},{\"attributes\":{\"callback\":null},\"id\":\"d45de39b-b0b3-4a55-a7e2-dbe5554b9d2a\",\"type\":\"DataRange1d\"},{\"attributes\":{\"data_source\":{\"id\":\"3cff6708-7f9a-4dd9-b017-9ba36029fdd8\",\"type\":\"ColumnDataSource\"},\"glyph\":{\"id\":\"4da9cbd9-87ea-4510-b3e6-1e783b116352\",\"type\":\"Circle\"},\"hover_glyph\":null,\"muted_glyph\":null,\"nonselection_glyph\":{\"id\":\"ea8e841e-a0f8-4c8a-a4fa-9f7a722b1dff\",\"type\":\"Circle\"},\"selection_glyph\":null,\"view\":{\"id\":\"07728e8d-6f08-4df2-99b5-111effba36d1\",\"type\":\"CDSView\"}},\"id\":\"65b8330c-2080-4f3b-94c6-8464935dddfc\",\"type\":\"GlyphRenderer\"},{\"attributes\":{},\"id\":\"a426a425-07bd-4713-9738-c0d1b7e8c62d\",\"type\":\"BasicTicker\"},{\"attributes\":{\"callback\":null},\"id\":\"48482ede-8648-4c96-bfa9-c7bd697bd57a\",\"type\":\"DataRange1d\"},{\"attributes\":{\"axis_label\":\"MPG\",\"formatter\":{\"id\":\"f2394e5d-a5d4-4140-970d-49425b3cd2e1\",\"type\":\"BasicTickFormatter\"},\"plot\":{\"id\":\"fe4e74c6-fdae-4a6c-90b1-0bbfd806ab75\",\"subtype\":\"Figure\",\"type\":\"Plot\"},\"ticker\":{\"id\":\"bfbebd8f-c13b-4d0a-a155-1da551a2b453\",\"type\":\"BasicTicker\"}},\"id\":\"464f29da-fd4e-490c-b081-6e557503c43c\",\"type\":\"LinearAxis\"},{\"attributes\":{\"axis_label\":\"Year\",\"formatter\":{\"id\":\"b3ffd63b-8861-4229-a47a-7c3c0b26ab3a\",\"type\":\"BasicTickFormatter\"},\"plot\":{\"id\":\"fe4e74c6-fdae-4a6c-90b1-0bbfd806ab75\",\"subtype\":\"Figure\",\"type\":\"Plot\"},\"ticker\":{\"id\":\"a426a425-07bd-4713-9738-c0d1b7e8c62d\",\"type\":\"BasicTicker\"}},\"id\":\"e0faf03d-683f-4d53-bea3-5e25e367abf9\",\"type\":\"LinearAxis\"},{\"attributes\":{\"callback\":null,\"column_names\":[\"mpg\",\"cyl\",\"displ\",\"hp\",\"weight\",\"accel\",\"yr\",\"origin\",\"name\",\"index\"],\"data\":{\"accel\":{\"__ndarray__\":\"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\",\"dtype\":\"float64\",\"shape\":[392]},\"cyl\":[8,8,8,8,8,8,8,8,8,8,8,8,8,8,4,6,6,6,4,4,4,4,4,4,6,8,8,8,8,4,4,4,6,6,6,6,6,8,8,8,8,8,8,8,6,4,6,6,4,4,4,4,4,4,4,4,4,4,4,4,4,8,8,8,8,8,8,8,8,8,3,8,8,8,8,4,4,4,4,4,4,4,4,4,8,8,8,8,8,8,8,8,8,8,8,8,6,6,6,6,6,4,8,8,8,8,6,4,4,4,3,4,6,4,8,8,4,4,4,4,8,4,6,8,6,6,6,4,4,4,4,6,6,6,8,8,8,8,8,4,4,4,4,4,4,4,4,4,4,4,6,6,6,6,8,8,8,8,6,6,6,6,6,8,8,4,4,6,4,4,4,4,6,4,6,4,4,4,4,4,4,4,4,4,4,8,8,8,8,6,6,6,6,4,4,4,4,6,6,6,6,4,4,4,4,4,8,4,6,6,8,8,8,8,4,4,4,4,4,8,8,8,8,6,6,6,6,8,8,8,8,4,4,4,4,4,4,4,4,6,4,3,4,4,4,4,4,8,8,8,6,6,6,4,6,6,6,6,6,6,8,6,8,8,4,4,4,4,4,4,4,4,5,6,4,6,4,4,6,6,4,6,6,8,8,8,8,8,8,8,8,4,4,4,4,5,8,4,8,4,4,4,4,4,6,6,4,4,4,4,4,4,4,4,6,4,4,4,4,4,4,4,4,4,4,5,4,4,4,4,6,3,4,4,4,4,4,6,4,4,4,4,4,4,4,4,4,4,4,4,4,4,4,4,4,6,6,6,6,8,6,6,4,4,4,4,4,4,4,4,4,4,4,4,4,4,4,4,4,4,6,6,4,6,4,4,4,4,4,4,4,4],\"displ\":{\"__ndarray__\":\"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\",\"dtype\":\"float64\",\"shape\":[392]},\"hp\":[130,165,150,150,140,198,220,215,225,190,170,160,150,225,95,95,97,85,88,46,87,90,95,113,90,215,200,210,193,88,90,95,100,105,100,88,100,165,175,153,150,180,170,175,110,72,100,88,86,90,70,76,65,69,60,70,95,80,54,90,86,165,175,150,153,150,208,155,160,190,97,150,130,140,150,112,76,87,69,86,92,97,80,88,175,150,145,137,150,198,150,158,150,215,225,175,105,100,100,88,95,46,150,167,170,180,100,88,72,94,90,85,107,90,145,230,49,75,91,112,150,110,122,180,95,100,100,67,80,65,75,100,110,105,140,150,150,140,150,83,67,78,52,61,75,75,75,97,93,67,95,105,72,72,170,145,150,148,110,105,110,95,110,110,129,75,83,100,78,96,71,97,97,70,90,95,88,98,115,53,86,81,92,79,83,140,150,120,152,100,105,81,90,52,60,70,53,100,78,110,95,71,70,75,72,102,150,88,108,120,180,145,130,150,68,80,58,96,70,145,110,145,130,110,105,100,98,180,170,190,149,78,88,75,89,63,83,67,78,97,110,110,48,66,52,70,60,110,140,139,105,95,85,88,100,90,105,85,110,120,145,165,139,140,68,95,97,75,95,105,85,97,103,125,115,133,71,68,115,85,88,90,110,130,129,138,135,155,142,125,150,71,65,80,80,77,125,71,90,70,70,65,69,90,115,115,90,76,60,70,65,90,88,90,90,78,90,75,92,75,65,105,65,48,48,67,67,67,67,62,132,100,88,72,84,84,92,110,84,58,64,60,67,65,62,68,63,65,65,74,75,75,100,74,80,76,116,120,110,105,88,85,88,88,88,85,84,90,92,74,68,68,63,70,88,75,70,67,67,67,110,85,92,112,96,84,90,86,52,84,79,82],\"index\":[0,1,2,3,4,5,6,7,8,9,10,11,12,13,14,15,16,17,18,19,20,21,22,23,24,25,26,27,28,29,30,31,32,33,34,35,36,37,38,39,40,41,42,43,44,45,46,47,48,49,50,51,52,53,54,55,56,57,58,59,60,61,62,63,64,65,66,67,68,69,70,71,72,73,74,75,76,77,78,79,80,81,82,83,84,85,86,87,88,89,90,91,92,93,94,95,96,97,98,99,100,101,102,103,104,105,106,107,108,109,110,111,112,113,114,115,116,117,118,119,120,121,122,123,124,125,126,127,128,129,130,131,132,133,134,135,136,137,138,139,140,141,142,143,144,145,146,147,148,149,150,151,152,153,154,155,156,157,158,159,160,161,162,163,164,165,166,167,168,169,170,171,172,173,174,175,176,177,178,179,180,181,182,183,184,185,186,187,188,189,190,191,192,193,194,195,196,197,198,199,200,201,202,203,204,205,206,207,208,209,210,211,212,213,214,215,216,217,218,219,220,221,222,223,224,225,226,227,228,229,230,231,232,233,234,235,236,237,238,239,240,241,242,243,244,245,246,247,248,249,250,251,252,253,254,255,256,257,258,259,260,261,262,263,264,265,266,267,268,269,270,271,272,273,274,275,276,277,278,279,280,281,282,283,284,285,286,287,288,289,290,291,292,293,294,295,296,297,298,299,300,301,302,303,304,305,306,307,308,309,310,311,312,313,314,315,316,317,318,319,320,321,322,323,324,325,326,327,328,329,330,331,332,333,334,335,336,337,338,339,340,341,342,343,344,345,346,347,348,349,350,351,352,353,354,355,356,357,358,359,360,361,362,363,364,365,366,367,368,369,370,371,372,373,374,375,376,377,378,379,380,381,382,383,384,385,386,387,388,389,390,391],\"mpg\":{\"__ndarray__\":\"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\",\"dtype\":\"float64\",\"shape\":[392]},\"name\":[\"chevrolet chevelle malibu\",\"buick skylark 320\",\"plymouth satellite\",\"amc rebel sst\",\"ford torino\",\"ford galaxie 500\",\"chevrolet impala\",\"plymouth fury iii\",\"pontiac catalina\",\"amc ambassador dpl\",\"dodge challenger se\",\"plymouth 'cuda 340\",\"chevrolet monte carlo\",\"buick estate wagon (sw)\",\"toyota corona mark ii\",\"plymouth duster\",\"amc hornet\",\"ford maverick\",\"datsun pl510\",\"volkswagen 1131 deluxe sedan\",\"peugeot 504\",\"audi 100 ls\",\"saab 99e\",\"bmw 2002\",\"amc gremlin\",\"ford f250\",\"chevy c20\",\"dodge d200\",\"hi 1200d\",\"datsun pl510\",\"chevrolet vega 2300\",\"toyota corona\",\"amc gremlin\",\"plymouth satellite custom\",\"chevrolet chevelle malibu\",\"ford torino 500\",\"amc matador\",\"chevrolet impala\",\"pontiac catalina brougham\",\"ford galaxie 500\",\"plymouth fury iii\",\"dodge monaco (sw)\",\"ford country squire (sw)\",\"pontiac safari (sw)\",\"amc hornet sportabout (sw)\",\"chevrolet vega (sw)\",\"pontiac firebird\",\"ford mustang\",\"mercury capri 2000\",\"opel 1900\",\"peugeot 304\",\"fiat 124b\",\"toyota corolla 1200\",\"datsun 1200\",\"volkswagen model 111\",\"plymouth cricket\",\"toyota corona hardtop\",\"dodge colt hardtop\",\"volkswagen type 3\",\"chevrolet vega\",\"ford pinto runabout\",\"chevrolet impala\",\"pontiac catalina\",\"plymouth fury iii\",\"ford galaxie 500\",\"amc ambassador sst\",\"mercury marquis\",\"buick lesabre custom\",\"oldsmobile delta 88 royale\",\"chrysler newport royal\",\"mazda rx2 coupe\",\"amc matador (sw)\",\"chevrolet chevelle concours (sw)\",\"ford gran torino (sw)\",\"plymouth satellite custom (sw)\",\"volvo 145e (sw)\",\"volkswagen 411 (sw)\",\"peugeot 504 (sw)\",\"renault 12 (sw)\",\"ford pinto (sw)\",\"datsun 510 (sw)\",\"toyouta corona mark ii (sw)\",\"dodge colt (sw)\",\"toyota corolla 1600 (sw)\",\"buick century 350\",\"amc matador\",\"chevrolet malibu\",\"ford gran torino\",\"dodge coronet custom\",\"mercury marquis brougham\",\"chevrolet caprice classic\",\"ford ltd\",\"plymouth fury gran sedan\",\"chrysler new yorker brougham\",\"buick electra 225 custom\",\"amc ambassador brougham\",\"plymouth valiant\",\"chevrolet nova custom\",\"amc hornet\",\"ford maverick\",\"plymouth duster\",\"volkswagen super beetle\",\"chevrolet impala\",\"ford country\",\"plymouth custom suburb\",\"oldsmobile vista cruiser\",\"amc gremlin\",\"toyota carina\",\"chevrolet vega\",\"datsun 610\",\"maxda rx3\",\"ford pinto\",\"mercury capri v6\",\"fiat 124 sport coupe\",\"chevrolet monte carlo s\",\"pontiac grand prix\",\"fiat 128\",\"opel manta\",\"audi 100ls\",\"volvo 144ea\",\"dodge dart custom\",\"saab 99le\",\"toyota mark ii\",\"oldsmobile omega\",\"plymouth duster\",\"amc hornet\",\"chevrolet nova\",\"datsun b210\",\"ford pinto\",\"toyota corolla 1200\",\"chevrolet vega\",\"chevrolet chevelle malibu classic\",\"amc matador\",\"plymouth satellite sebring\",\"ford gran torino\",\"buick century luxus (sw)\",\"dodge coronet custom (sw)\",\"ford gran torino (sw)\",\"amc matador (sw)\",\"audi fox\",\"volkswagen dasher\",\"opel manta\",\"toyota corona\",\"datsun 710\",\"dodge colt\",\"fiat 128\",\"fiat 124 tc\",\"honda civic\",\"subaru\",\"fiat x1.9\",\"plymouth valiant custom\",\"chevrolet nova\",\"mercury monarch\",\"ford maverick\",\"pontiac catalina\",\"chevrolet bel air\",\"plymouth grand fury\",\"ford ltd\",\"buick century\",\"chevroelt chevelle malibu\",\"amc matador\",\"plymouth fury\",\"buick skyhawk\",\"chevrolet monza 2+2\",\"ford mustang ii\",\"toyota corolla\",\"ford pinto\",\"amc gremlin\",\"pontiac astro\",\"toyota corona\",\"volkswagen dasher\",\"datsun 710\",\"ford pinto\",\"volkswagen rabbit\",\"amc pacer\",\"audi 100ls\",\"peugeot 504\",\"volvo 244dl\",\"saab 99le\",\"honda civic cvcc\",\"fiat 131\",\"opel 1900\",\"capri ii\",\"dodge colt\",\"renault 12tl\",\"chevrolet chevelle malibu classic\",\"dodge coronet brougham\",\"amc matador\",\"ford gran torino\",\"plymouth valiant\",\"chevrolet nova\",\"ford maverick\",\"amc hornet\",\"chevrolet chevette\",\"chevrolet woody\",\"vw rabbit\",\"honda civic\",\"dodge aspen se\",\"ford granada ghia\",\"pontiac ventura sj\",\"amc pacer d/l\",\"volkswagen rabbit\",\"datsun b-210\",\"toyota corolla\",\"ford pinto\",\"volvo 245\",\"plymouth volare premier v8\",\"peugeot 504\",\"toyota mark ii\",\"mercedes-benz 280s\",\"cadillac seville\",\"chevy c10\",\"ford f108\",\"dodge d100\",\"honda accord cvcc\",\"buick opel isuzu deluxe\",\"renault 5 gtl\",\"plymouth arrow gs\",\"datsun f-10 hatchback\",\"chevrolet caprice classic\",\"oldsmobile cutlass supreme\",\"dodge monaco brougham\",\"mercury cougar brougham\",\"chevrolet concours\",\"buick skylark\",\"plymouth volare custom\",\"ford granada\",\"pontiac grand prix lj\",\"chevrolet monte carlo landau\",\"chrysler cordoba\",\"ford thunderbird\",\"volkswagen rabbit custom\",\"pontiac sunbird coupe\",\"toyota corolla liftback\",\"ford mustang ii 2+2\",\"chevrolet chevette\",\"dodge colt m/m\",\"subaru dl\",\"volkswagen dasher\",\"datsun 810\",\"bmw 320i\",\"mazda rx-4\",\"volkswagen rabbit custom diesel\",\"ford fiesta\",\"mazda glc deluxe\",\"datsun b210 gx\",\"honda civic cvcc\",\"oldsmobile cutlass salon brougham\",\"dodge diplomat\",\"mercury monarch ghia\",\"pontiac phoenix lj\",\"chevrolet malibu\",\"ford fairmont (auto)\",\"ford fairmont (man)\",\"plymouth volare\",\"amc concord\",\"buick century special\",\"mercury zephyr\",\"dodge aspen\",\"amc concord d/l\",\"chevrolet monte carlo landau\",\"buick regal sport coupe (turbo)\",\"ford futura\",\"dodge magnum xe\",\"chevrolet chevette\",\"toyota corona\",\"datsun 510\",\"dodge omni\",\"toyota celica gt liftback\",\"plymouth sapporo\",\"oldsmobile starfire sx\",\"datsun 200-sx\",\"audi 5000\",\"volvo 264gl\",\"saab 99gle\",\"peugeot 604sl\",\"volkswagen scirocco\",\"honda accord lx\",\"pontiac lemans v6\",\"mercury zephyr 6\",\"ford fairmont 4\",\"amc concord dl 6\",\"dodge aspen 6\",\"chevrolet caprice classic\",\"ford ltd landau\",\"mercury grand marquis\",\"dodge st. regis\",\"buick estate wagon (sw)\",\"ford country squire (sw)\",\"chevrolet malibu classic (sw)\",\"chrysler lebaron town @ country (sw)\",\"vw rabbit custom\",\"maxda glc deluxe\",\"dodge colt hatchback custom\",\"amc spirit dl\",\"mercedes benz 300d\",\"cadillac eldorado\",\"peugeot 504\",\"oldsmobile cutlass salon brougham\",\"plymouth horizon\",\"plymouth horizon tc3\",\"datsun 210\",\"fiat strada custom\",\"buick skylark limited\",\"chevrolet citation\",\"oldsmobile omega brougham\",\"pontiac phoenix\",\"vw rabbit\",\"toyota corolla tercel\",\"chevrolet chevette\",\"datsun 310\",\"chevrolet citation\",\"ford fairmont\",\"amc concord\",\"dodge aspen\",\"audi 4000\",\"toyota corona liftback\",\"mazda 626\",\"datsun 510 hatchback\",\"toyota corolla\",\"mazda glc\",\"dodge colt\",\"datsun 210\",\"vw rabbit c (diesel)\",\"vw dasher (diesel)\",\"audi 5000s (diesel)\",\"mercedes-benz 240d\",\"honda civic 1500 gl\",\"subaru dl\",\"vokswagen rabbit\",\"datsun 280-zx\",\"mazda rx-7 gs\",\"triumph tr7 coupe\",\"honda accord\",\"plymouth reliant\",\"buick skylark\",\"dodge aries wagon (sw)\",\"chevrolet citation\",\"plymouth reliant\",\"toyota starlet\",\"plymouth champ\",\"honda civic 1300\",\"subaru\",\"datsun 210 mpg\",\"toyota tercel\",\"mazda glc 4\",\"plymouth horizon 4\",\"ford escort 4w\",\"ford escort 2h\",\"volkswagen jetta\",\"honda prelude\",\"toyota corolla\",\"datsun 200sx\",\"mazda 626\",\"peugeot 505s turbo diesel\",\"volvo diesel\",\"toyota cressida\",\"datsun 810 maxima\",\"buick century\",\"oldsmobile cutlass ls\",\"ford granada gl\",\"chrysler lebaron salon\",\"chevrolet cavalier\",\"chevrolet cavalier wagon\",\"chevrolet cavalier 2-door\",\"pontiac j2000 se hatchback\",\"dodge aries se\",\"pontiac phoenix\",\"ford fairmont futura\",\"volkswagen rabbit l\",\"mazda glc custom l\",\"mazda glc custom\",\"plymouth horizon miser\",\"mercury lynx l\",\"nissan stanza xe\",\"honda accord\",\"toyota corolla\",\"honda civic\",\"honda civic (auto)\",\"datsun 310 gx\",\"buick century limited\",\"oldsmobile cutlass ciera (diesel)\",\"chrysler lebaron medallion\",\"ford granada l\",\"toyota celica gt\",\"dodge charger 2.2\",\"chevrolet camaro\",\"ford mustang gl\",\"vw pickup\",\"dodge rampage\",\"ford ranger\",\"chevy s-10\"],\"origin\":[1,1,1,1,1,1,1,1,1,1,1,1,1,1,3,1,1,1,3,2,2,2,2,2,1,1,1,1,1,3,1,3,1,1,1,1,1,1,1,1,1,1,1,1,1,1,1,1,1,2,2,2,3,3,2,1,3,1,2,1,1,1,1,1,1,1,1,1,1,1,3,1,1,1,1,2,2,2,2,1,3,3,1,3,1,1,1,1,1,1,1,1,1,1,1,1,1,1,1,1,1,2,1,1,1,1,1,3,1,3,3,1,1,2,1,1,2,2,2,2,1,2,3,1,1,1,1,3,1,3,1,1,1,1,1,1,1,1,1,2,2,2,3,3,1,2,2,3,3,2,1,1,1,1,1,1,1,1,1,1,1,1,1,1,1,3,1,1,1,3,2,3,1,2,1,2,2,2,2,3,2,2,1,1,2,1,1,1,1,1,1,1,1,1,1,2,3,1,1,1,1,2,3,3,1,2,1,2,3,2,1,1,1,1,3,1,2,1,3,1,1,1,1,1,1,1,1,1,1,1,1,2,1,3,1,1,1,3,2,3,2,3,2,1,3,3,3,1,1,1,1,1,1,1,1,1,1,1,1,1,1,1,1,1,1,3,3,1,3,1,1,3,2,2,2,2,2,3,1,1,1,1,1,1,1,1,1,1,1,1,1,2,3,1,1,2,1,2,1,1,1,3,2,1,1,1,1,2,3,1,3,1,1,1,1,2,3,3,3,3,3,1,3,2,2,2,2,3,3,2,3,3,2,3,1,1,1,1,1,3,1,3,3,3,3,3,1,1,1,2,3,3,3,3,2,2,3,3,1,1,1,1,1,1,1,1,1,1,1,2,3,3,1,1,3,3,3,3,3,3,1,1,1,1,3,1,1,1,2,1,1,1],\"weight\":[3504,3693,3436,3433,3449,4341,4354,4312,4425,3850,3563,3609,3761,3086,2372,2833,2774,2587,2130,1835,2672,2430,2375,2234,2648,4615,4376,4382,4732,2130,2264,2228,2634,3439,3329,3302,3288,4209,4464,4154,4096,4955,4746,5140,2962,2408,3282,3139,2220,2123,2074,2065,1773,1613,1834,1955,2278,2126,2254,2408,2226,4274,4385,4135,4129,3672,4633,4502,4456,4422,2330,3892,4098,4294,4077,2933,2511,2979,2189,2395,2288,2506,2164,2100,4100,3672,3988,4042,3777,4952,4464,4363,4237,4735,4951,3821,3121,3278,2945,3021,2904,1950,4997,4906,4654,4499,2789,2279,2401,2379,2124,2310,2472,2265,4082,4278,1867,2158,2582,2868,3399,2660,2807,3664,3102,2901,3336,1950,2451,1836,2542,3781,3632,3613,4141,4699,4457,4638,4257,2219,1963,2300,1649,2003,2125,2108,2246,2489,2391,2000,3264,3459,3432,3158,4668,4440,4498,4657,3907,3897,3730,3785,3039,3221,3169,2171,2639,2914,2592,2702,2223,2545,2984,1937,3211,2694,2957,2945,2671,1795,2464,2220,2572,2255,2202,4215,4190,3962,4215,3233,3353,3012,3085,2035,2164,1937,1795,3651,3574,3645,3193,1825,1990,2155,2565,3150,3940,3270,2930,3820,4380,4055,3870,3755,2045,2155,1825,2300,1945,3880,4060,4140,4295,3520,3425,3630,3525,4220,4165,4325,4335,1940,2740,2265,2755,2051,2075,1985,2190,2815,2600,2720,1985,1800,1985,2070,1800,3365,3735,3570,3535,3155,2965,2720,3430,3210,3380,3070,3620,3410,3425,3445,3205,4080,2155,2560,2300,2230,2515,2745,2855,2405,2830,3140,2795,3410,1990,2135,3245,2990,2890,3265,3360,3840,3725,3955,3830,4360,4054,3605,3940,1925,1975,1915,2670,3530,3900,3190,3420,2200,2150,2020,2130,2670,2595,2700,2556,2144,1968,2120,2019,2678,2870,3003,3381,2188,2711,2542,2434,2265,2110,2800,2110,2085,2335,2950,3250,1850,2145,1845,2910,2420,2500,2290,2490,2635,2620,2725,2385,1755,1875,1760,2065,1975,2050,1985,2215,2045,2380,2190,2210,2350,2615,2635,3230,3160,2900,2930,3415,3725,3060,3465,2605,2640,2395,2575,2525,2735,2865,1980,2025,1970,2125,2125,2160,2205,2245,1965,1965,1995,2945,3015,2585,2835,2665,2370,2950,2790,2130,2295,2625,2720],\"yr\":[70,70,70,70,70,70,70,70,70,70,70,70,70,70,70,70,70,70,70,70,70,70,70,70,70,70,70,70,70,71,71,71,71,71,71,71,71,71,71,71,71,71,71,71,71,71,71,71,71,71,71,71,71,71,71,71,72,72,72,72,72,72,72,72,72,72,72,72,72,72,72,72,72,72,72,72,72,72,72,72,72,72,72,72,73,73,73,73,73,73,73,73,73,73,73,73,73,73,73,73,73,73,73,73,73,73,73,73,73,73,73,73,73,73,73,73,73,73,73,73,73,73,73,73,74,74,74,74,74,74,74,74,74,74,74,74,74,74,74,74,74,74,74,74,74,74,74,74,74,74,75,75,75,75,75,75,75,75,75,75,75,75,75,75,75,75,75,75,75,75,75,75,75,75,75,75,75,75,75,75,76,76,76,76,76,76,76,76,76,76,76,76,76,76,76,76,76,76,76,76,76,76,76,76,76,76,76,76,76,76,76,76,76,76,77,77,77,77,77,77,77,77,77,77,77,77,77,77,77,77,77,77,77,77,77,77,77,77,77,77,77,77,78,78,78,78,78,78,78,78,78,78,78,78,78,78,78,78,78,78,78,78,78,78,78,78,78,78,78,78,78,78,78,78,78,78,78,78,79,79,79,79,79,79,79,79,79,79,79,79,79,79,79,79,79,79,79,79,79,79,79,79,79,79,79,79,79,80,80,80,80,80,80,80,80,80,80,80,80,80,80,80,80,80,80,80,80,80,80,80,80,80,80,80,81,81,81,81,81,81,81,81,81,81,81,81,81,81,81,81,81,81,81,81,81,81,81,81,81,81,81,81,82,82,82,82,82,82,82,82,82,82,82,82,82,82,82,82,82,82,82,82,82,82,82,82,82,82,82,82,82,82]}},\"id\":\"3cff6708-7f9a-4dd9-b017-9ba36029fdd8\",\"type\":\"ColumnDataSource\"},{\"attributes\":{\"active_drag\":\"auto\",\"active_inspect\":\"auto\",\"active_scroll\":\"auto\",\"active_tap\":\"auto\"},\"id\":\"9693283e-3622-4e67-81cd-957957b89137\",\"type\":\"Toolbar\"},{\"attributes\":{},\"id\":\"bfbebd8f-c13b-4d0a-a155-1da551a2b453\",\"type\":\"BasicTicker\"},{\"attributes\":{},\"id\":\"b3ffd63b-8861-4229-a47a-7c3c0b26ab3a\",\"type\":\"BasicTickFormatter\"},{\"attributes\":{\"high\":5140,\"low\":1613,\"palette\":[\"#440154\",\"#440255\",\"#440357\",\"#450558\",\"#45065A\",\"#45085B\",\"#46095C\",\"#460B5E\",\"#460C5F\",\"#460E61\",\"#470F62\",\"#471163\",\"#471265\",\"#471466\",\"#471567\",\"#471669\",\"#47186A\",\"#48196B\",\"#481A6C\",\"#481C6E\",\"#481D6F\",\"#481E70\",\"#482071\",\"#482172\",\"#482273\",\"#482374\",\"#472575\",\"#472676\",\"#472777\",\"#472878\",\"#472A79\",\"#472B7A\",\"#472C7B\",\"#462D7C\",\"#462F7C\",\"#46307D\",\"#46317E\",\"#45327F\",\"#45347F\",\"#453580\",\"#453681\",\"#443781\",\"#443982\",\"#433A83\",\"#433B83\",\"#433C84\",\"#423D84\",\"#423E85\",\"#424085\",\"#414186\",\"#414286\",\"#404387\",\"#404487\",\"#3F4587\",\"#3F4788\",\"#3E4888\",\"#3E4989\",\"#3D4A89\",\"#3D4B89\",\"#3D4C89\",\"#3C4D8A\",\"#3C4E8A\",\"#3B508A\",\"#3B518A\",\"#3A528B\",\"#3A538B\",\"#39548B\",\"#39558B\",\"#38568B\",\"#38578C\",\"#37588C\",\"#37598C\",\"#365A8C\",\"#365B8C\",\"#355C8C\",\"#355D8C\",\"#345E8D\",\"#345F8D\",\"#33608D\",\"#33618D\",\"#32628D\",\"#32638D\",\"#31648D\",\"#31658D\",\"#31668D\",\"#30678D\",\"#30688D\",\"#2F698D\",\"#2F6A8D\",\"#2E6B8E\",\"#2E6C8E\",\"#2E6D8E\",\"#2D6E8E\",\"#2D6F8E\",\"#2C708E\",\"#2C718E\",\"#2C728E\",\"#2B738E\",\"#2B748E\",\"#2A758E\",\"#2A768E\",\"#2A778E\",\"#29788E\",\"#29798E\",\"#287A8E\",\"#287A8E\",\"#287B8E\",\"#277C8E\",\"#277D8E\",\"#277E8E\",\"#267F8E\",\"#26808E\",\"#26818E\",\"#25828E\",\"#25838D\",\"#24848D\",\"#24858D\",\"#24868D\",\"#23878D\",\"#23888D\",\"#23898D\",\"#22898D\",\"#228A8D\",\"#228B8D\",\"#218C8D\",\"#218D8C\",\"#218E8C\",\"#208F8C\",\"#20908C\",\"#20918C\",\"#1F928C\",\"#1F938B\",\"#1F948B\",\"#1F958B\",\"#1F968B\",\"#1E978A\",\"#1E988A\",\"#1E998A\",\"#1E998A\",\"#1E9A89\",\"#1E9B89\",\"#1E9C89\",\"#1E9D88\",\"#1E9E88\",\"#1E9F88\",\"#1EA087\",\"#1FA187\",\"#1FA286\",\"#1FA386\",\"#20A485\",\"#20A585\",\"#21A685\",\"#21A784\",\"#22A784\",\"#23A883\",\"#23A982\",\"#24AA82\",\"#25AB81\",\"#26AC81\",\"#27AD80\",\"#28AE7F\",\"#29AF7F\",\"#2AB07E\",\"#2BB17D\",\"#2CB17D\",\"#2EB27C\",\"#2FB37B\",\"#30B47A\",\"#32B57A\",\"#33B679\",\"#35B778\",\"#36B877\",\"#38B976\",\"#39B976\",\"#3BBA75\",\"#3DBB74\",\"#3EBC73\",\"#40BD72\",\"#42BE71\",\"#44BE70\",\"#45BF6F\",\"#47C06E\",\"#49C16D\",\"#4BC26C\",\"#4DC26B\",\"#4FC369\",\"#51C468\",\"#53C567\",\"#55C666\",\"#57C665\",\"#59C764\",\"#5BC862\",\"#5EC961\",\"#60C960\",\"#62CA5F\",\"#64CB5D\",\"#67CC5C\",\"#69CC5B\",\"#6BCD59\",\"#6DCE58\",\"#70CE56\",\"#72CF55\",\"#74D054\",\"#77D052\",\"#79D151\",\"#7CD24F\",\"#7ED24E\",\"#81D34C\",\"#83D34B\",\"#86D449\",\"#88D547\",\"#8BD546\",\"#8DD644\",\"#90D643\",\"#92D741\",\"#95D73F\",\"#97D83E\",\"#9AD83C\",\"#9DD93A\",\"#9FD938\",\"#A2DA37\",\"#A5DA35\",\"#A7DB33\",\"#AADB32\",\"#ADDC30\",\"#AFDC2E\",\"#B2DD2C\",\"#B5DD2B\",\"#B7DD29\",\"#BADE27\",\"#BDDE26\",\"#BFDF24\",\"#C2DF22\",\"#C5DF21\",\"#C7E01F\",\"#CAE01E\",\"#CDE01D\",\"#CFE11C\",\"#D2E11B\",\"#D4E11A\",\"#D7E219\",\"#DAE218\",\"#DCE218\",\"#DFE318\",\"#E1E318\",\"#E4E318\",\"#E7E419\",\"#E9E419\",\"#ECE41A\",\"#EEE51B\",\"#F1E51C\",\"#F3E51E\",\"#F6E61F\",\"#F8E621\",\"#FAE622\",\"#FDE724\"]},\"id\":\"eeccc795-8fb2-4062-9b74-d4164cc1445c\",\"type\":\"LinearColorMapper\"},{\"attributes\":{\"fill_alpha\":{\"value\":0.1},\"fill_color\":{\"value\":\"#1f77b4\"},\"line_alpha\":{\"value\":0.1},\"line_color\":{\"value\":\"#1f77b4\"},\"size\":{\"units\":\"screen\",\"value\":20},\"x\":{\"field\":\"yr\"},\"y\":{\"field\":\"mpg\"}},\"id\":\"ea8e841e-a0f8-4c8a-a4fa-9f7a722b1dff\",\"type\":\"Circle\"},{\"attributes\":{},\"id\":\"0e663b40-dda6-4932-b09e-51e0e7b36c39\",\"type\":\"BasicTicker\"},{\"attributes\":{},\"id\":\"7c043899-cfbe-4d91-b160-3194ee7a4ae0\",\"type\":\"BasicTickFormatter\"},{\"attributes\":{\"plot\":null,\"text\":\"\"},\"id\":\"65758a89-d186-4597-87f2-a2279719f5c1\",\"type\":\"Title\"},{\"attributes\":{},\"id\":\"ad3295ea-bd9c-41e8-adc1-2ae64954dd9a\",\"type\":\"LinearScale\"},{\"attributes\":{},\"id\":\"8926b13b-4c5d-4d32-bc27-f5ead7338446\",\"type\":\"LinearScale\"},{\"attributes\":{\"plot\":{\"id\":\"fe4e74c6-fdae-4a6c-90b1-0bbfd806ab75\",\"subtype\":\"Figure\",\"type\":\"Plot\"},\"ticker\":{\"id\":\"a426a425-07bd-4713-9738-c0d1b7e8c62d\",\"type\":\"BasicTicker\"}},\"id\":\"06920231-5894-4f71-9f97-298f56cd6a13\",\"type\":\"Grid\"},{\"attributes\":{\"fill_alpha\":{\"value\":0.6},\"fill_color\":{\"field\":\"weight\",\"transform\":{\"id\":\"eeccc795-8fb2-4062-9b74-d4164cc1445c\",\"type\":\"LinearColorMapper\"}},\"line_alpha\":{\"value\":0.6},\"line_color\":{\"field\":\"weight\",\"transform\":{\"id\":\"eeccc795-8fb2-4062-9b74-d4164cc1445c\",\"type\":\"LinearColorMapper\"}},\"size\":{\"units\":\"screen\",\"value\":20},\"x\":{\"field\":\"yr\"},\"y\":{\"field\":\"mpg\"}},\"id\":\"4da9cbd9-87ea-4510-b3e6-1e783b116352\",\"type\":\"Circle\"}],\"root_ids\":[\"fe4e74c6-fdae-4a6c-90b1-0bbfd806ab75\"]},\"title\":\"Bokeh Application\",\"version\":\"0.12.10\"}};\n",
       "    var render_items = [{\"docid\":\"8ba2f8d2-25e8-4f58-9518-27f6b8c15394\",\"elementid\":\"7dc6ff13-1f72-4249-b62c-df868c5553ee\",\"modelid\":\"fe4e74c6-fdae-4a6c-90b1-0bbfd806ab75\"}];\n",
       "\n",
       "    root.Bokeh.embed.embed_items(docs_json, render_items);\n",
       "  }\n",
       "\n",
       "  if (root.Bokeh !== undefined) {\n",
       "    embed_document(root);\n",
       "  } else {\n",
       "    var attempts = 0;\n",
       "    var timer = setInterval(function(root) {\n",
       "      if (root.Bokeh !== undefined) {\n",
       "        embed_document(root);\n",
       "        clearInterval(timer);\n",
       "      }\n",
       "      attempts++;\n",
       "      if (attempts > 100) {\n",
       "        console.log(\"Bokeh: ERROR: Unable to embed document because BokehJS library is missing\")\n",
       "        clearInterval(timer);\n",
       "      }\n",
       "    }, 10, root)\n",
       "  }\n",
       "})(window);"
      ],
      "application/vnd.bokehjs_exec.v0+json": ""
     },
     "metadata": {
      "application/vnd.bokehjs_exec.v0+json": {
       "id": "fe4e74c6-fdae-4a6c-90b1-0bbfd806ab75"
      }
     },
     "output_type": "display_data"
    }
   ],
   "source": [
    "p.add_layout(color_bar,\"right\")\n",
    "show(p)"
   ]
  },
  {
   "cell_type": "code",
   "execution_count": null,
   "metadata": {},
   "outputs": [],
   "source": []
  }
 ],
 "metadata": {
  "kernelspec": {
   "display_name": "Python [conda root]",
   "language": "python",
   "name": "conda-root-py"
  },
  "language_info": {
   "codemirror_mode": {
    "name": "ipython",
    "version": 3
   },
   "file_extension": ".py",
   "mimetype": "text/x-python",
   "name": "python",
   "nbconvert_exporter": "python",
   "pygments_lexer": "ipython3",
   "version": "3.6.3"
  }
 },
 "nbformat": 4,
 "nbformat_minor": 2
}
