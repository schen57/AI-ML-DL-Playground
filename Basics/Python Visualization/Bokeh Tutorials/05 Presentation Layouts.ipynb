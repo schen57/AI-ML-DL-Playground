{
 "cells": [
  {
   "cell_type": "code",
   "execution_count": 1,
   "metadata": {},
   "outputs": [
    {
     "data": {
      "text/html": [
       "\n",
       "    <div class=\"bk-root\">\n",
       "        <a href=\"https://bokeh.pydata.org\" target=\"_blank\" class=\"bk-logo bk-logo-small bk-logo-notebook\"></a>\n",
       "        <span id=\"57da506a-88ec-4207-86f3-55ba56fb1a92\">Loading BokehJS ...</span>\n",
       "    </div>"
      ]
     },
     "metadata": {},
     "output_type": "display_data"
    },
    {
     "data": {
      "application/javascript": [
       "\n",
       "(function(root) {\n",
       "  function now() {\n",
       "    return new Date();\n",
       "  }\n",
       "\n",
       "  var force = true;\n",
       "\n",
       "  if (typeof (root._bokeh_onload_callbacks) === \"undefined\" || force === true) {\n",
       "    root._bokeh_onload_callbacks = [];\n",
       "    root._bokeh_is_loading = undefined;\n",
       "  }\n",
       "\n",
       "  var JS_MIME_TYPE = 'application/javascript';\n",
       "  var HTML_MIME_TYPE = 'text/html';\n",
       "  var EXEC_MIME_TYPE = 'application/vnd.bokehjs_exec.v0+json';\n",
       "  var CLASS_NAME = 'output_bokeh rendered_html';\n",
       "\n",
       "  /**\n",
       "   * Render data to the DOM node\n",
       "   */\n",
       "  function render(props, node) {\n",
       "    var script = document.createElement(\"script\");\n",
       "    node.appendChild(script);\n",
       "  }\n",
       "\n",
       "  /**\n",
       "   * Handle when an output is cleared or removed\n",
       "   */\n",
       "  function handleClearOutput(event, handle) {\n",
       "    var cell = handle.cell;\n",
       "\n",
       "    var id = cell.output_area._bokeh_element_id;\n",
       "    var server_id = cell.output_area._bokeh_server_id;\n",
       "    // Clean up Bokeh references\n",
       "    if (id !== undefined) {\n",
       "      Bokeh.index[id].model.document.clear();\n",
       "      delete Bokeh.index[id];\n",
       "    }\n",
       "\n",
       "    if (server_id !== undefined) {\n",
       "      // Clean up Bokeh references\n",
       "      var cmd = \"from bokeh.io.state import curstate; print(curstate().uuid_to_server['\" + server_id + \"'].get_sessions()[0].document.roots[0]._id)\";\n",
       "      cell.notebook.kernel.execute(cmd, {\n",
       "        iopub: {\n",
       "          output: function(msg) {\n",
       "            var element_id = msg.content.text.trim();\n",
       "            Bokeh.index[element_id].model.document.clear();\n",
       "            delete Bokeh.index[element_id];\n",
       "          }\n",
       "        }\n",
       "      });\n",
       "      // Destroy server and session\n",
       "      var cmd = \"import bokeh.io.notebook as ion; ion.destroy_server('\" + server_id + \"')\";\n",
       "      cell.notebook.kernel.execute(cmd);\n",
       "    }\n",
       "  }\n",
       "\n",
       "  /**\n",
       "   * Handle when a new output is added\n",
       "   */\n",
       "  function handleAddOutput(event, handle) {\n",
       "    var output_area = handle.output_area;\n",
       "    var output = handle.output;\n",
       "\n",
       "    // limit handleAddOutput to display_data with EXEC_MIME_TYPE content only\n",
       "    if ((output.output_type != \"display_data\") || (!output.data.hasOwnProperty(EXEC_MIME_TYPE))) {\n",
       "      return\n",
       "    }\n",
       "\n",
       "    var toinsert = output_area.element.find(`.${CLASS_NAME.split(' ')[0]}`);\n",
       "\n",
       "    if (output.metadata[EXEC_MIME_TYPE][\"id\"] !== undefined) {\n",
       "      toinsert[0].firstChild.textContent = output.data[JS_MIME_TYPE];\n",
       "      // store reference to embed id on output_area\n",
       "      output_area._bokeh_element_id = output.metadata[EXEC_MIME_TYPE][\"id\"];\n",
       "    }\n",
       "    if (output.metadata[EXEC_MIME_TYPE][\"server_id\"] !== undefined) {\n",
       "      var bk_div = document.createElement(\"div\");\n",
       "      bk_div.innerHTML = output.data[HTML_MIME_TYPE];\n",
       "      var script_attrs = bk_div.children[0].attributes;\n",
       "      for (var i = 0; i < script_attrs.length; i++) {\n",
       "        toinsert[0].firstChild.setAttribute(script_attrs[i].name, script_attrs[i].value);\n",
       "      }\n",
       "      // store reference to server id on output_area\n",
       "      output_area._bokeh_server_id = output.metadata[EXEC_MIME_TYPE][\"server_id\"];\n",
       "    }\n",
       "  }\n",
       "\n",
       "  function register_renderer(events, OutputArea) {\n",
       "\n",
       "    function append_mime(data, metadata, element) {\n",
       "      // create a DOM node to render to\n",
       "      var toinsert = this.create_output_subarea(\n",
       "        metadata,\n",
       "        CLASS_NAME,\n",
       "        EXEC_MIME_TYPE\n",
       "      );\n",
       "      this.keyboard_manager.register_events(toinsert);\n",
       "      // Render to node\n",
       "      var props = {data: data, metadata: metadata[EXEC_MIME_TYPE]};\n",
       "      render(props, toinsert[0]);\n",
       "      element.append(toinsert);\n",
       "      return toinsert\n",
       "    }\n",
       "\n",
       "    /* Handle when an output is cleared or removed */\n",
       "    events.on('clear_output.CodeCell', handleClearOutput);\n",
       "    events.on('delete.Cell', handleClearOutput);\n",
       "\n",
       "    /* Handle when a new output is added */\n",
       "    events.on('output_added.OutputArea', handleAddOutput);\n",
       "\n",
       "    /**\n",
       "     * Register the mime type and append_mime function with output_area\n",
       "     */\n",
       "    OutputArea.prototype.register_mime_type(EXEC_MIME_TYPE, append_mime, {\n",
       "      /* Is output safe? */\n",
       "      safe: true,\n",
       "      /* Index of renderer in `output_area.display_order` */\n",
       "      index: 0\n",
       "    });\n",
       "  }\n",
       "\n",
       "  // register the mime type if in Jupyter Notebook environment and previously unregistered\n",
       "  if (root.Jupyter !== undefined) {\n",
       "    var events = require('base/js/events');\n",
       "    var OutputArea = require('notebook/js/outputarea').OutputArea;\n",
       "\n",
       "    if (OutputArea.prototype.mime_types().indexOf(EXEC_MIME_TYPE) == -1) {\n",
       "      register_renderer(events, OutputArea);\n",
       "    }\n",
       "  }\n",
       "\n",
       "  \n",
       "  if (typeof (root._bokeh_timeout) === \"undefined\" || force === true) {\n",
       "    root._bokeh_timeout = Date.now() + 5000;\n",
       "    root._bokeh_failed_load = false;\n",
       "  }\n",
       "\n",
       "  var NB_LOAD_WARNING = {'data': {'text/html':\n",
       "     \"<div style='background-color: #fdd'>\\n\"+\n",
       "     \"<p>\\n\"+\n",
       "     \"BokehJS does not appear to have successfully loaded. If loading BokehJS from CDN, this \\n\"+\n",
       "     \"may be due to a slow or bad network connection. Possible fixes:\\n\"+\n",
       "     \"</p>\\n\"+\n",
       "     \"<ul>\\n\"+\n",
       "     \"<li>re-rerun `output_notebook()` to attempt to load from CDN again, or</li>\\n\"+\n",
       "     \"<li>use INLINE resources instead, as so:</li>\\n\"+\n",
       "     \"</ul>\\n\"+\n",
       "     \"<code>\\n\"+\n",
       "     \"from bokeh.resources import INLINE\\n\"+\n",
       "     \"output_notebook(resources=INLINE)\\n\"+\n",
       "     \"</code>\\n\"+\n",
       "     \"</div>\"}};\n",
       "\n",
       "  function display_loaded() {\n",
       "    var el = document.getElementById(\"57da506a-88ec-4207-86f3-55ba56fb1a92\");\n",
       "    if (el != null) {\n",
       "      el.textContent = \"BokehJS is loading...\";\n",
       "    }\n",
       "    if (root.Bokeh !== undefined) {\n",
       "      if (el != null) {\n",
       "        el.textContent = \"BokehJS \" + root.Bokeh.version + \" successfully loaded.\";\n",
       "      }\n",
       "    } else if (Date.now() < root._bokeh_timeout) {\n",
       "      setTimeout(display_loaded, 100)\n",
       "    }\n",
       "  }\n",
       "\n",
       "\n",
       "  function run_callbacks() {\n",
       "    try {\n",
       "      root._bokeh_onload_callbacks.forEach(function(callback) { callback() });\n",
       "    }\n",
       "    finally {\n",
       "      delete root._bokeh_onload_callbacks\n",
       "    }\n",
       "    console.info(\"Bokeh: all callbacks have finished\");\n",
       "  }\n",
       "\n",
       "  function load_libs(js_urls, callback) {\n",
       "    root._bokeh_onload_callbacks.push(callback);\n",
       "    if (root._bokeh_is_loading > 0) {\n",
       "      console.log(\"Bokeh: BokehJS is being loaded, scheduling callback at\", now());\n",
       "      return null;\n",
       "    }\n",
       "    if (js_urls == null || js_urls.length === 0) {\n",
       "      run_callbacks();\n",
       "      return null;\n",
       "    }\n",
       "    console.log(\"Bokeh: BokehJS not loaded, scheduling load and callback at\", now());\n",
       "    root._bokeh_is_loading = js_urls.length;\n",
       "    for (var i = 0; i < js_urls.length; i++) {\n",
       "      var url = js_urls[i];\n",
       "      var s = document.createElement('script');\n",
       "      s.src = url;\n",
       "      s.async = false;\n",
       "      s.onreadystatechange = s.onload = function() {\n",
       "        root._bokeh_is_loading--;\n",
       "        if (root._bokeh_is_loading === 0) {\n",
       "          console.log(\"Bokeh: all BokehJS libraries loaded\");\n",
       "          run_callbacks()\n",
       "        }\n",
       "      };\n",
       "      s.onerror = function() {\n",
       "        console.warn(\"failed to load library \" + url);\n",
       "      };\n",
       "      console.log(\"Bokeh: injecting script tag for BokehJS library: \", url);\n",
       "      document.getElementsByTagName(\"head\")[0].appendChild(s);\n",
       "    }\n",
       "  };var element = document.getElementById(\"57da506a-88ec-4207-86f3-55ba56fb1a92\");\n",
       "  if (element == null) {\n",
       "    console.log(\"Bokeh: ERROR: autoload.js configured with elementid '57da506a-88ec-4207-86f3-55ba56fb1a92' but no matching script tag was found. \")\n",
       "    return false;\n",
       "  }\n",
       "\n",
       "  var js_urls = [\"https://cdn.pydata.org/bokeh/release/bokeh-0.12.10.min.js\", \"https://cdn.pydata.org/bokeh/release/bokeh-widgets-0.12.10.min.js\", \"https://cdn.pydata.org/bokeh/release/bokeh-tables-0.12.10.min.js\", \"https://cdn.pydata.org/bokeh/release/bokeh-gl-0.12.10.min.js\"];\n",
       "\n",
       "  var inline_js = [\n",
       "    function(Bokeh) {\n",
       "      Bokeh.set_log_level(\"info\");\n",
       "    },\n",
       "    \n",
       "    function(Bokeh) {\n",
       "      \n",
       "    },\n",
       "    function(Bokeh) {\n",
       "      console.log(\"Bokeh: injecting CSS: https://cdn.pydata.org/bokeh/release/bokeh-0.12.10.min.css\");\n",
       "      Bokeh.embed.inject_css(\"https://cdn.pydata.org/bokeh/release/bokeh-0.12.10.min.css\");\n",
       "      console.log(\"Bokeh: injecting CSS: https://cdn.pydata.org/bokeh/release/bokeh-widgets-0.12.10.min.css\");\n",
       "      Bokeh.embed.inject_css(\"https://cdn.pydata.org/bokeh/release/bokeh-widgets-0.12.10.min.css\");\n",
       "      console.log(\"Bokeh: injecting CSS: https://cdn.pydata.org/bokeh/release/bokeh-tables-0.12.10.min.css\");\n",
       "      Bokeh.embed.inject_css(\"https://cdn.pydata.org/bokeh/release/bokeh-tables-0.12.10.min.css\");\n",
       "    }\n",
       "  ];\n",
       "\n",
       "  function run_inline_js() {\n",
       "    \n",
       "    if ((root.Bokeh !== undefined) || (force === true)) {\n",
       "      for (var i = 0; i < inline_js.length; i++) {\n",
       "        inline_js[i].call(root, root.Bokeh);\n",
       "      }if (force === true) {\n",
       "        display_loaded();\n",
       "      }} else if (Date.now() < root._bokeh_timeout) {\n",
       "      setTimeout(run_inline_js, 100);\n",
       "    } else if (!root._bokeh_failed_load) {\n",
       "      console.log(\"Bokeh: BokehJS failed to load within specified timeout.\");\n",
       "      root._bokeh_failed_load = true;\n",
       "    } else if (force !== true) {\n",
       "      var cell = $(document.getElementById(\"57da506a-88ec-4207-86f3-55ba56fb1a92\")).parents('.cell').data().cell;\n",
       "      cell.output_area.append_execute_result(NB_LOAD_WARNING)\n",
       "    }\n",
       "\n",
       "  }\n",
       "\n",
       "  if (root._bokeh_is_loading === 0) {\n",
       "    console.log(\"Bokeh: BokehJS loaded, going straight to plotting\");\n",
       "    run_inline_js();\n",
       "  } else {\n",
       "    load_libs(js_urls, function() {\n",
       "      console.log(\"Bokeh: BokehJS plotting callback run at\", now());\n",
       "      run_inline_js();\n",
       "    });\n",
       "  }\n",
       "}(window));"
      ],
      "application/vnd.bokehjs_load.v0+json": "\n(function(root) {\n  function now() {\n    return new Date();\n  }\n\n  var force = true;\n\n  if (typeof (root._bokeh_onload_callbacks) === \"undefined\" || force === true) {\n    root._bokeh_onload_callbacks = [];\n    root._bokeh_is_loading = undefined;\n  }\n\n  \n\n  \n  if (typeof (root._bokeh_timeout) === \"undefined\" || force === true) {\n    root._bokeh_timeout = Date.now() + 5000;\n    root._bokeh_failed_load = false;\n  }\n\n  var NB_LOAD_WARNING = {'data': {'text/html':\n     \"<div style='background-color: #fdd'>\\n\"+\n     \"<p>\\n\"+\n     \"BokehJS does not appear to have successfully loaded. If loading BokehJS from CDN, this \\n\"+\n     \"may be due to a slow or bad network connection. Possible fixes:\\n\"+\n     \"</p>\\n\"+\n     \"<ul>\\n\"+\n     \"<li>re-rerun `output_notebook()` to attempt to load from CDN again, or</li>\\n\"+\n     \"<li>use INLINE resources instead, as so:</li>\\n\"+\n     \"</ul>\\n\"+\n     \"<code>\\n\"+\n     \"from bokeh.resources import INLINE\\n\"+\n     \"output_notebook(resources=INLINE)\\n\"+\n     \"</code>\\n\"+\n     \"</div>\"}};\n\n  function display_loaded() {\n    var el = document.getElementById(\"57da506a-88ec-4207-86f3-55ba56fb1a92\");\n    if (el != null) {\n      el.textContent = \"BokehJS is loading...\";\n    }\n    if (root.Bokeh !== undefined) {\n      if (el != null) {\n        el.textContent = \"BokehJS \" + root.Bokeh.version + \" successfully loaded.\";\n      }\n    } else if (Date.now() < root._bokeh_timeout) {\n      setTimeout(display_loaded, 100)\n    }\n  }\n\n\n  function run_callbacks() {\n    try {\n      root._bokeh_onload_callbacks.forEach(function(callback) { callback() });\n    }\n    finally {\n      delete root._bokeh_onload_callbacks\n    }\n    console.info(\"Bokeh: all callbacks have finished\");\n  }\n\n  function load_libs(js_urls, callback) {\n    root._bokeh_onload_callbacks.push(callback);\n    if (root._bokeh_is_loading > 0) {\n      console.log(\"Bokeh: BokehJS is being loaded, scheduling callback at\", now());\n      return null;\n    }\n    if (js_urls == null || js_urls.length === 0) {\n      run_callbacks();\n      return null;\n    }\n    console.log(\"Bokeh: BokehJS not loaded, scheduling load and callback at\", now());\n    root._bokeh_is_loading = js_urls.length;\n    for (var i = 0; i < js_urls.length; i++) {\n      var url = js_urls[i];\n      var s = document.createElement('script');\n      s.src = url;\n      s.async = false;\n      s.onreadystatechange = s.onload = function() {\n        root._bokeh_is_loading--;\n        if (root._bokeh_is_loading === 0) {\n          console.log(\"Bokeh: all BokehJS libraries loaded\");\n          run_callbacks()\n        }\n      };\n      s.onerror = function() {\n        console.warn(\"failed to load library \" + url);\n      };\n      console.log(\"Bokeh: injecting script tag for BokehJS library: \", url);\n      document.getElementsByTagName(\"head\")[0].appendChild(s);\n    }\n  };var element = document.getElementById(\"57da506a-88ec-4207-86f3-55ba56fb1a92\");\n  if (element == null) {\n    console.log(\"Bokeh: ERROR: autoload.js configured with elementid '57da506a-88ec-4207-86f3-55ba56fb1a92' but no matching script tag was found. \")\n    return false;\n  }\n\n  var js_urls = [\"https://cdn.pydata.org/bokeh/release/bokeh-0.12.10.min.js\", \"https://cdn.pydata.org/bokeh/release/bokeh-widgets-0.12.10.min.js\", \"https://cdn.pydata.org/bokeh/release/bokeh-tables-0.12.10.min.js\", \"https://cdn.pydata.org/bokeh/release/bokeh-gl-0.12.10.min.js\"];\n\n  var inline_js = [\n    function(Bokeh) {\n      Bokeh.set_log_level(\"info\");\n    },\n    \n    function(Bokeh) {\n      \n    },\n    function(Bokeh) {\n      console.log(\"Bokeh: injecting CSS: https://cdn.pydata.org/bokeh/release/bokeh-0.12.10.min.css\");\n      Bokeh.embed.inject_css(\"https://cdn.pydata.org/bokeh/release/bokeh-0.12.10.min.css\");\n      console.log(\"Bokeh: injecting CSS: https://cdn.pydata.org/bokeh/release/bokeh-widgets-0.12.10.min.css\");\n      Bokeh.embed.inject_css(\"https://cdn.pydata.org/bokeh/release/bokeh-widgets-0.12.10.min.css\");\n      console.log(\"Bokeh: injecting CSS: https://cdn.pydata.org/bokeh/release/bokeh-tables-0.12.10.min.css\");\n      Bokeh.embed.inject_css(\"https://cdn.pydata.org/bokeh/release/bokeh-tables-0.12.10.min.css\");\n    }\n  ];\n\n  function run_inline_js() {\n    \n    if ((root.Bokeh !== undefined) || (force === true)) {\n      for (var i = 0; i < inline_js.length; i++) {\n        inline_js[i].call(root, root.Bokeh);\n      }if (force === true) {\n        display_loaded();\n      }} else if (Date.now() < root._bokeh_timeout) {\n      setTimeout(run_inline_js, 100);\n    } else if (!root._bokeh_failed_load) {\n      console.log(\"Bokeh: BokehJS failed to load within specified timeout.\");\n      root._bokeh_failed_load = true;\n    } else if (force !== true) {\n      var cell = $(document.getElementById(\"57da506a-88ec-4207-86f3-55ba56fb1a92\")).parents('.cell').data().cell;\n      cell.output_area.append_execute_result(NB_LOAD_WARNING)\n    }\n\n  }\n\n  if (root._bokeh_is_loading === 0) {\n    console.log(\"Bokeh: BokehJS loaded, going straight to plotting\");\n    run_inline_js();\n  } else {\n    load_libs(js_urls, function() {\n      console.log(\"Bokeh: BokehJS plotting callback run at\", now());\n      run_inline_js();\n    });\n  }\n}(window));"
     },
     "metadata": {},
     "output_type": "display_data"
    }
   ],
   "source": [
    "from bokeh.io import output_notebook,show\n",
    "from bokeh.plotting import figure\n",
    "\n",
    "output_notebook()"
   ]
  },
  {
   "cell_type": "markdown",
   "metadata": {},
   "source": [
    "In the previous chapters we started to learn how to create single plots using differnet kinds of data. But we often want to plot more than one thing. Boeh plots can be individually embedded in HTML documents, but it's often easier to combine multiple plots in one of Bokeh's built-in layouts. We will learn how to do that in this chapter\n",
    "\n",
    "The cell below defines a few data variables we will use in examples."
   ]
  },
  {
   "cell_type": "code",
   "execution_count": 2,
   "metadata": {},
   "outputs": [],
   "source": [
    "x=list(range(11))\n",
    "y0,y1,y2,=x,[10 - i for i in x],[abs(i-5) for i in x]"
   ]
  },
  {
   "cell_type": "code",
   "execution_count": 3,
   "metadata": {},
   "outputs": [
    {
     "data": {
      "text/plain": [
       "[0, 1, 2, 3, 4, 5, 6, 7, 8, 9, 10]"
      ]
     },
     "execution_count": 3,
     "metadata": {},
     "output_type": "execute_result"
    }
   ],
   "source": [
    "x"
   ]
  },
  {
   "cell_type": "code",
   "execution_count": 4,
   "metadata": {},
   "outputs": [
    {
     "data": {
      "text/plain": [
       "[0, 1, 2, 3, 4, 5, 6, 7, 8, 9, 10]"
      ]
     },
     "execution_count": 4,
     "metadata": {},
     "output_type": "execute_result"
    }
   ],
   "source": [
    "y0"
   ]
  },
  {
   "cell_type": "code",
   "execution_count": 5,
   "metadata": {},
   "outputs": [
    {
     "data": {
      "text/plain": [
       "[10, 9, 8, 7, 6, 5, 4, 3, 2, 1, 0]"
      ]
     },
     "execution_count": 5,
     "metadata": {},
     "output_type": "execute_result"
    }
   ],
   "source": [
    "y1"
   ]
  },
  {
   "cell_type": "code",
   "execution_count": 6,
   "metadata": {},
   "outputs": [
    {
     "data": {
      "text/plain": [
       "[5, 4, 3, 2, 1, 0, 1, 2, 3, 4, 5]"
      ]
     },
     "execution_count": 6,
     "metadata": {},
     "output_type": "execute_result"
    }
   ],
   "source": [
    "y2"
   ]
  },
  {
   "cell_type": "markdown",
   "metadata": {},
   "source": [
    "# Rows and Columns\n",
    "The bokeh.layouts modules provides the row and column functions to arrange plot objects in vertical or horizontal layouts. Below is an example of three plots arranged in a row."
   ]
  },
  {
   "cell_type": "code",
   "execution_count": 7,
   "metadata": {},
   "outputs": [
    {
     "data": {
      "text/html": [
       "<div style=\"display: table;\"><div style=\"display: table-row;\"><div style=\"display: table-cell;\"><b title=\"bokeh.models.renderers.GlyphRenderer\">GlyphRenderer</b>(</div><div style=\"display: table-cell;\">id&nbsp;=&nbsp;'697ee631-b750-4ad0-8449-89a9b1604dbe', <span id=\"0a51a74c-daee-468f-b99c-70fde581a929\" style=\"cursor: pointer;\">&hellip;)</span></div></div><div class=\"02e9c6a0-a47e-477b-b652-b77d5beee913\" style=\"display: none;\"><div style=\"display: table-cell;\"></div><div style=\"display: table-cell;\">data_source&nbsp;=&nbsp;ColumnDataSource(id='aaaec1fc-1977-4de7-a1f1-969a4c8c060c', ...),</div></div><div class=\"02e9c6a0-a47e-477b-b652-b77d5beee913\" style=\"display: none;\"><div style=\"display: table-cell;\"></div><div style=\"display: table-cell;\">glyph&nbsp;=&nbsp;Circle(id='4900ce4a-03fa-41ac-bd9d-29901c97eee8', ...),</div></div><div class=\"02e9c6a0-a47e-477b-b652-b77d5beee913\" style=\"display: none;\"><div style=\"display: table-cell;\"></div><div style=\"display: table-cell;\">hover_glyph&nbsp;=&nbsp;None,</div></div><div class=\"02e9c6a0-a47e-477b-b652-b77d5beee913\" style=\"display: none;\"><div style=\"display: table-cell;\"></div><div style=\"display: table-cell;\">js_event_callbacks&nbsp;=&nbsp;{},</div></div><div class=\"02e9c6a0-a47e-477b-b652-b77d5beee913\" style=\"display: none;\"><div style=\"display: table-cell;\"></div><div style=\"display: table-cell;\">js_property_callbacks&nbsp;=&nbsp;{},</div></div><div class=\"02e9c6a0-a47e-477b-b652-b77d5beee913\" style=\"display: none;\"><div style=\"display: table-cell;\"></div><div style=\"display: table-cell;\">level&nbsp;=&nbsp;'glyph',</div></div><div class=\"02e9c6a0-a47e-477b-b652-b77d5beee913\" style=\"display: none;\"><div style=\"display: table-cell;\"></div><div style=\"display: table-cell;\">muted&nbsp;=&nbsp;False,</div></div><div class=\"02e9c6a0-a47e-477b-b652-b77d5beee913\" style=\"display: none;\"><div style=\"display: table-cell;\"></div><div style=\"display: table-cell;\">muted_glyph&nbsp;=&nbsp;None,</div></div><div class=\"02e9c6a0-a47e-477b-b652-b77d5beee913\" style=\"display: none;\"><div style=\"display: table-cell;\"></div><div style=\"display: table-cell;\">name&nbsp;=&nbsp;None,</div></div><div class=\"02e9c6a0-a47e-477b-b652-b77d5beee913\" style=\"display: none;\"><div style=\"display: table-cell;\"></div><div style=\"display: table-cell;\">nonselection_glyph&nbsp;=&nbsp;Circle(id='2fed8379-7506-44bc-826f-93d1f69989a0', ...),</div></div><div class=\"02e9c6a0-a47e-477b-b652-b77d5beee913\" style=\"display: none;\"><div style=\"display: table-cell;\"></div><div style=\"display: table-cell;\">selection_glyph&nbsp;=&nbsp;None,</div></div><div class=\"02e9c6a0-a47e-477b-b652-b77d5beee913\" style=\"display: none;\"><div style=\"display: table-cell;\"></div><div style=\"display: table-cell;\">subscribed_events&nbsp;=&nbsp;[],</div></div><div class=\"02e9c6a0-a47e-477b-b652-b77d5beee913\" style=\"display: none;\"><div style=\"display: table-cell;\"></div><div style=\"display: table-cell;\">tags&nbsp;=&nbsp;[],</div></div><div class=\"02e9c6a0-a47e-477b-b652-b77d5beee913\" style=\"display: none;\"><div style=\"display: table-cell;\"></div><div style=\"display: table-cell;\">view&nbsp;=&nbsp;CDSView(id='dc3db237-44bc-42f0-84eb-ee0bddee4037', ...),</div></div><div class=\"02e9c6a0-a47e-477b-b652-b77d5beee913\" style=\"display: none;\"><div style=\"display: table-cell;\"></div><div style=\"display: table-cell;\">visible&nbsp;=&nbsp;True,</div></div><div class=\"02e9c6a0-a47e-477b-b652-b77d5beee913\" style=\"display: none;\"><div style=\"display: table-cell;\"></div><div style=\"display: table-cell;\">x_range_name&nbsp;=&nbsp;'default',</div></div><div class=\"02e9c6a0-a47e-477b-b652-b77d5beee913\" style=\"display: none;\"><div style=\"display: table-cell;\"></div><div style=\"display: table-cell;\">y_range_name&nbsp;=&nbsp;'default')</div></div></div>\n",
       "<script>\n",
       "(function() {\n",
       "  var expanded = false;\n",
       "  var ellipsis = document.getElementById(\"0a51a74c-daee-468f-b99c-70fde581a929\");\n",
       "  ellipsis.addEventListener(\"click\", function() {\n",
       "    var rows = document.getElementsByClassName(\"02e9c6a0-a47e-477b-b652-b77d5beee913\");\n",
       "    for (var i = 0; i < rows.length; i++) {\n",
       "      var el = rows[i];\n",
       "      el.style.display = expanded ? \"none\" : \"table-row\";\n",
       "    }\n",
       "    ellipsis.innerHTML = expanded ? \"&hellip;)\" : \"&lsaquo;&lsaquo;&lsaquo;\";\n",
       "    expanded = !expanded;\n",
       "  });\n",
       "})();\n",
       "</script>\n"
      ],
      "text/plain": [
       "GlyphRenderer(id='697ee631-b750-4ad0-8449-89a9b1604dbe', ...)"
      ]
     },
     "execution_count": 7,
     "metadata": {},
     "output_type": "execute_result"
    }
   ],
   "source": [
    "from bokeh.layouts import row\n",
    "\n",
    "#create a new plot\n",
    "s1=figure(width=250, plot_height=250)\n",
    "s1.circle(x,y0,color=\"navy\",alpha=0.5)\n",
    "\n",
    "#Create another plot\n",
    "s2=figure(plot_width=250,plot_height=250)\n",
    "s2.circle(x,y1,color=\"gray\",alpha=0.5)\n",
    "\n",
    "#create another plot\n",
    "s3=figure(plot_width=250,plot_height=250)\n",
    "s3.circle(x,y2,color=\"red\",alpha=0.5)\n",
    "\n"
   ]
  },
  {
   "cell_type": "code",
   "execution_count": 8,
   "metadata": {},
   "outputs": [
    {
     "data": {
      "text/html": [
       "\n",
       "<div class=\"bk-root\">\n",
       "    <div class=\"bk-plotdiv\" id=\"a6d16b49-bc06-4326-8d2c-7f6ce530b4d8\"></div>\n",
       "</div>"
      ]
     },
     "metadata": {},
     "output_type": "display_data"
    },
    {
     "data": {
      "application/javascript": [
       "(function(root) {\n",
       "  function embed_document(root) {\n",
       "    var docs_json = {\"7aa2da9b-bd7e-401f-bce9-d5bdbb86e819\":{\"roots\":{\"references\":[{\"attributes\":{},\"id\":\"0bc1f083-b161-45ba-bb5c-c962247b0508\",\"type\":\"BasicTickFormatter\"},{\"attributes\":{\"active_drag\":\"auto\",\"active_inspect\":\"auto\",\"active_scroll\":\"auto\",\"active_tap\":\"auto\",\"tools\":[{\"id\":\"070a02d2-4956-4dcf-b6d8-93bbfd7b843a\",\"type\":\"PanTool\"},{\"id\":\"aaddd661-b582-4000-93c0-b87c565aa400\",\"type\":\"WheelZoomTool\"},{\"id\":\"711748f5-8489-4e92-9525-2243930a5e2a\",\"type\":\"BoxZoomTool\"},{\"id\":\"b323f916-62e9-4025-a3a7-abec5bf3f096\",\"type\":\"SaveTool\"},{\"id\":\"a797326f-fc26-4478-97a3-2af0228f3c57\",\"type\":\"ResetTool\"},{\"id\":\"b462f4cf-e695-4266-96dd-ec6c05fa3adf\",\"type\":\"HelpTool\"}]},\"id\":\"4202781b-3f3c-4ada-b88e-121a69453d02\",\"type\":\"Toolbar\"},{\"attributes\":{\"callback\":null},\"id\":\"3524d6d1-34fe-49f6-a522-d3bb7a56446f\",\"type\":\"DataRange1d\"},{\"attributes\":{\"fill_alpha\":{\"value\":0.1},\"fill_color\":{\"value\":\"#1f77b4\"},\"line_alpha\":{\"value\":0.1},\"line_color\":{\"value\":\"#1f77b4\"},\"x\":{\"field\":\"x\"},\"y\":{\"field\":\"y\"}},\"id\":\"2fed8379-7506-44bc-826f-93d1f69989a0\",\"type\":\"Circle\"},{\"attributes\":{\"callback\":null},\"id\":\"cf5a518f-ccdb-4a07-81a5-59ee6481c4ef\",\"type\":\"DataRange1d\"},{\"attributes\":{},\"id\":\"bbcefb0c-3b2f-4e07-adf3-f39c319bbf63\",\"type\":\"LinearScale\"},{\"attributes\":{},\"id\":\"f777a5c9-9ddd-4cbd-b4f1-e8af3b378e08\",\"type\":\"LinearScale\"},{\"attributes\":{\"data_source\":{\"id\":\"75c75e29-92b4-438a-a83a-d5865d5eb9b5\",\"type\":\"ColumnDataSource\"},\"glyph\":{\"id\":\"cecb7822-64a3-4ebe-965b-fd7c256746dc\",\"type\":\"Circle\"},\"hover_glyph\":null,\"muted_glyph\":null,\"nonselection_glyph\":{\"id\":\"d18e6734-b1ae-4141-af74-1fa0190b9896\",\"type\":\"Circle\"},\"selection_glyph\":null,\"view\":{\"id\":\"2d1dcfd5-c590-48c0-bea0-db211ab15995\",\"type\":\"CDSView\"}},\"id\":\"8f61b648-decf-4255-94e7-5608e1d4d725\",\"type\":\"GlyphRenderer\"},{\"attributes\":{\"plot\":{\"id\":\"fac45a6b-dd2c-4665-860d-bd4654d43b9a\",\"subtype\":\"Figure\",\"type\":\"Plot\"},\"ticker\":{\"id\":\"e6c6e5c2-6a45-4a28-934a-352d2523b52f\",\"type\":\"BasicTicker\"}},\"id\":\"a42cc92d-3068-4548-8976-257cee079797\",\"type\":\"Grid\"},{\"attributes\":{\"formatter\":{\"id\":\"b5595c74-e8b8-454b-a12d-195eb4388850\",\"type\":\"BasicTickFormatter\"},\"plot\":{\"id\":\"fac45a6b-dd2c-4665-860d-bd4654d43b9a\",\"subtype\":\"Figure\",\"type\":\"Plot\"},\"ticker\":{\"id\":\"e6c6e5c2-6a45-4a28-934a-352d2523b52f\",\"type\":\"BasicTicker\"}},\"id\":\"718063a1-5244-471a-9c7f-c405570c37e0\",\"type\":\"LinearAxis\"},{\"attributes\":{},\"id\":\"e6c6e5c2-6a45-4a28-934a-352d2523b52f\",\"type\":\"BasicTicker\"},{\"attributes\":{\"dimension\":1,\"plot\":{\"id\":\"fac45a6b-dd2c-4665-860d-bd4654d43b9a\",\"subtype\":\"Figure\",\"type\":\"Plot\"},\"ticker\":{\"id\":\"e3d69d92-b203-41d4-b713-202cdb2afc45\",\"type\":\"BasicTicker\"}},\"id\":\"1ea8754d-8a77-43fc-93f1-b5fe527e1ed2\",\"type\":\"Grid\"},{\"attributes\":{\"data_source\":{\"id\":\"aaaec1fc-1977-4de7-a1f1-969a4c8c060c\",\"type\":\"ColumnDataSource\"},\"glyph\":{\"id\":\"4900ce4a-03fa-41ac-bd9d-29901c97eee8\",\"type\":\"Circle\"},\"hover_glyph\":null,\"muted_glyph\":null,\"nonselection_glyph\":{\"id\":\"2fed8379-7506-44bc-826f-93d1f69989a0\",\"type\":\"Circle\"},\"selection_glyph\":null,\"view\":{\"id\":\"dc3db237-44bc-42f0-84eb-ee0bddee4037\",\"type\":\"CDSView\"}},\"id\":\"697ee631-b750-4ad0-8449-89a9b1604dbe\",\"type\":\"GlyphRenderer\"},{\"attributes\":{\"fill_alpha\":{\"value\":0.5},\"fill_color\":{\"value\":\"red\"},\"line_alpha\":{\"value\":0.5},\"line_color\":{\"value\":\"red\"},\"x\":{\"field\":\"x\"},\"y\":{\"field\":\"y\"}},\"id\":\"4900ce4a-03fa-41ac-bd9d-29901c97eee8\",\"type\":\"Circle\"},{\"attributes\":{\"below\":[{\"id\":\"d8254ed4-7d3c-495f-a060-3c4957b650d3\",\"type\":\"LinearAxis\"}],\"left\":[{\"id\":\"94f15732-bd71-4ffb-b138-0b925fca6ac9\",\"type\":\"LinearAxis\"}],\"plot_height\":250,\"plot_width\":250,\"renderers\":[{\"id\":\"d8254ed4-7d3c-495f-a060-3c4957b650d3\",\"type\":\"LinearAxis\"},{\"id\":\"e133d8c8-0eb1-44d7-b1da-fd4a39a95db3\",\"type\":\"Grid\"},{\"id\":\"94f15732-bd71-4ffb-b138-0b925fca6ac9\",\"type\":\"LinearAxis\"},{\"id\":\"eaf32a05-d3b1-49fd-bf07-10298dc702bb\",\"type\":\"Grid\"},{\"id\":\"3b061a4f-1ec0-48f1-98d5-c91d7a3d1ffa\",\"type\":\"BoxAnnotation\"},{\"id\":\"8f61b648-decf-4255-94e7-5608e1d4d725\",\"type\":\"GlyphRenderer\"}],\"title\":{\"id\":\"dd9dbc43-21d0-4a3d-b380-8fb3b321a406\",\"type\":\"Title\"},\"toolbar\":{\"id\":\"8ab45aa9-0557-467b-83e1-afbc967a902f\",\"type\":\"Toolbar\"},\"x_range\":{\"id\":\"7bd0761b-757f-405f-9063-e08098123e11\",\"type\":\"DataRange1d\"},\"x_scale\":{\"id\":\"a44bb509-8343-4476-953a-74fbdac0d381\",\"type\":\"LinearScale\"},\"y_range\":{\"id\":\"8a37ffd5-37e0-4742-9f9d-43fe621bfac9\",\"type\":\"DataRange1d\"},\"y_scale\":{\"id\":\"86811fc3-f150-4b04-a656-4d319458e7b1\",\"type\":\"LinearScale\"}},\"id\":\"b2a020bb-9274-40dd-9227-a6d8a34833c4\",\"subtype\":\"Figure\",\"type\":\"Plot\"},{\"attributes\":{\"bottom_units\":\"screen\",\"fill_alpha\":{\"value\":0.5},\"fill_color\":{\"value\":\"lightgrey\"},\"left_units\":\"screen\",\"level\":\"overlay\",\"line_alpha\":{\"value\":1.0},\"line_color\":{\"value\":\"black\"},\"line_dash\":[4,4],\"line_width\":{\"value\":2},\"plot\":null,\"render_mode\":\"css\",\"right_units\":\"screen\",\"top_units\":\"screen\"},\"id\":\"5ae50bf4-3345-4542-8024-2f828a1eed14\",\"type\":\"BoxAnnotation\"},{\"attributes\":{\"callback\":null,\"column_names\":[\"x\",\"y\"],\"data\":{\"x\":[0,1,2,3,4,5,6,7,8,9,10],\"y\":[0,1,2,3,4,5,6,7,8,9,10]}},\"id\":\"75c75e29-92b4-438a-a83a-d5865d5eb9b5\",\"type\":\"ColumnDataSource\"},{\"attributes\":{},\"id\":\"070a02d2-4956-4dcf-b6d8-93bbfd7b843a\",\"type\":\"PanTool\"},{\"attributes\":{\"active_drag\":\"auto\",\"active_inspect\":\"auto\",\"active_scroll\":\"auto\",\"active_tap\":\"auto\",\"tools\":[{\"id\":\"ccfbe5b6-7644-4d35-b5b5-a92a9c2d14b1\",\"type\":\"PanTool\"},{\"id\":\"9d7ca80b-7923-4f64-ab6b-984651c35363\",\"type\":\"WheelZoomTool\"},{\"id\":\"d0fb7ed0-967e-4372-88f9-2ce403bdaa09\",\"type\":\"BoxZoomTool\"},{\"id\":\"f0046198-5d90-41a5-996b-809cf8b84edc\",\"type\":\"SaveTool\"},{\"id\":\"9415789e-ac3e-4efa-84db-9a8151596331\",\"type\":\"ResetTool\"},{\"id\":\"bc4f681f-ad54-4a9b-a654-7b7d4e9b7c92\",\"type\":\"HelpTool\"}]},\"id\":\"8ab45aa9-0557-467b-83e1-afbc967a902f\",\"type\":\"Toolbar\"},{\"attributes\":{\"source\":{\"id\":\"aaaec1fc-1977-4de7-a1f1-969a4c8c060c\",\"type\":\"ColumnDataSource\"}},\"id\":\"dc3db237-44bc-42f0-84eb-ee0bddee4037\",\"type\":\"CDSView\"},{\"attributes\":{\"callback\":null},\"id\":\"7bd0761b-757f-405f-9063-e08098123e11\",\"type\":\"DataRange1d\"},{\"attributes\":{},\"id\":\"aaddd661-b582-4000-93c0-b87c565aa400\",\"type\":\"WheelZoomTool\"},{\"attributes\":{},\"id\":\"a44bb509-8343-4476-953a-74fbdac0d381\",\"type\":\"LinearScale\"},{\"attributes\":{\"overlay\":{\"id\":\"5ae50bf4-3345-4542-8024-2f828a1eed14\",\"type\":\"BoxAnnotation\"}},\"id\":\"711748f5-8489-4e92-9525-2243930a5e2a\",\"type\":\"BoxZoomTool\"},{\"attributes\":{},\"id\":\"b323f916-62e9-4025-a3a7-abec5bf3f096\",\"type\":\"SaveTool\"},{\"attributes\":{},\"id\":\"86811fc3-f150-4b04-a656-4d319458e7b1\",\"type\":\"LinearScale\"},{\"attributes\":{\"source\":{\"id\":\"75c75e29-92b4-438a-a83a-d5865d5eb9b5\",\"type\":\"ColumnDataSource\"}},\"id\":\"2d1dcfd5-c590-48c0-bea0-db211ab15995\",\"type\":\"CDSView\"},{\"attributes\":{},\"id\":\"a797326f-fc26-4478-97a3-2af0228f3c57\",\"type\":\"ResetTool\"},{\"attributes\":{\"below\":[{\"id\":\"a6436779-4bc5-4afa-bbc0-46cb1e3d0cdb\",\"type\":\"LinearAxis\"}],\"left\":[{\"id\":\"8c4ae199-df91-45db-987a-5e37f439b8f2\",\"type\":\"LinearAxis\"}],\"plot_height\":250,\"plot_width\":250,\"renderers\":[{\"id\":\"a6436779-4bc5-4afa-bbc0-46cb1e3d0cdb\",\"type\":\"LinearAxis\"},{\"id\":\"50633dc9-117d-4eff-b88c-7d1b9c63bc6e\",\"type\":\"Grid\"},{\"id\":\"8c4ae199-df91-45db-987a-5e37f439b8f2\",\"type\":\"LinearAxis\"},{\"id\":\"9344c9fa-2e2b-4f4f-a7fb-f30895ca0d19\",\"type\":\"Grid\"},{\"id\":\"91736df2-ccb5-481f-9977-db294874aeb2\",\"type\":\"BoxAnnotation\"},{\"id\":\"e61524fd-5f46-4ba6-9186-cfd2f7a4b488\",\"type\":\"GlyphRenderer\"}],\"title\":{\"id\":\"a7f495ea-5042-446b-b47b-cb5957c11a97\",\"type\":\"Title\"},\"toolbar\":{\"id\":\"0772f253-d614-4ea3-bf12-666f65149f88\",\"type\":\"Toolbar\"},\"x_range\":{\"id\":\"0243f273-425c-4ad2-9ff8-35f7d72470ce\",\"type\":\"DataRange1d\"},\"x_scale\":{\"id\":\"eb8569ee-ddc3-4778-bf9e-f2615010991c\",\"type\":\"LinearScale\"},\"y_range\":{\"id\":\"d1301662-0039-4271-8f2a-104915d4362c\",\"type\":\"DataRange1d\"},\"y_scale\":{\"id\":\"50600d26-bd3f-416d-8793-26177ec5ca6b\",\"type\":\"LinearScale\"}},\"id\":\"93c4388d-2295-4441-928b-4e9905ad2127\",\"subtype\":\"Figure\",\"type\":\"Plot\"},{\"attributes\":{},\"id\":\"b462f4cf-e695-4266-96dd-ec6c05fa3adf\",\"type\":\"HelpTool\"},{\"attributes\":{\"formatter\":{\"id\":\"4ff1ff74-d34c-4a05-a43a-85338358a35d\",\"type\":\"BasicTickFormatter\"},\"plot\":{\"id\":\"b2a020bb-9274-40dd-9227-a6d8a34833c4\",\"subtype\":\"Figure\",\"type\":\"Plot\"},\"ticker\":{\"id\":\"a5cceb85-05b6-470b-bfad-4b21274d6329\",\"type\":\"BasicTicker\"}},\"id\":\"d8254ed4-7d3c-495f-a060-3c4957b650d3\",\"type\":\"LinearAxis\"},{\"attributes\":{},\"id\":\"a5cceb85-05b6-470b-bfad-4b21274d6329\",\"type\":\"BasicTicker\"},{\"attributes\":{},\"id\":\"b5595c74-e8b8-454b-a12d-195eb4388850\",\"type\":\"BasicTickFormatter\"},{\"attributes\":{\"plot\":{\"id\":\"b2a020bb-9274-40dd-9227-a6d8a34833c4\",\"subtype\":\"Figure\",\"type\":\"Plot\"},\"ticker\":{\"id\":\"a5cceb85-05b6-470b-bfad-4b21274d6329\",\"type\":\"BasicTicker\"}},\"id\":\"e133d8c8-0eb1-44d7-b1da-fd4a39a95db3\",\"type\":\"Grid\"},{\"attributes\":{\"plot\":null,\"text\":\"\"},\"id\":\"eb0c0db3-c893-4152-aad4-3c534c14db89\",\"type\":\"Title\"},{\"attributes\":{\"formatter\":{\"id\":\"51587a9b-258a-4ae6-a8aa-7760908eb7fe\",\"type\":\"BasicTickFormatter\"},\"plot\":{\"id\":\"b2a020bb-9274-40dd-9227-a6d8a34833c4\",\"subtype\":\"Figure\",\"type\":\"Plot\"},\"ticker\":{\"id\":\"f0ad2383-dc66-4274-8b1e-869a7c8eb6ae\",\"type\":\"BasicTicker\"}},\"id\":\"94f15732-bd71-4ffb-b138-0b925fca6ac9\",\"type\":\"LinearAxis\"},{\"attributes\":{},\"id\":\"f0ad2383-dc66-4274-8b1e-869a7c8eb6ae\",\"type\":\"BasicTicker\"},{\"attributes\":{\"dimension\":1,\"plot\":{\"id\":\"b2a020bb-9274-40dd-9227-a6d8a34833c4\",\"subtype\":\"Figure\",\"type\":\"Plot\"},\"ticker\":{\"id\":\"f0ad2383-dc66-4274-8b1e-869a7c8eb6ae\",\"type\":\"BasicTicker\"}},\"id\":\"eaf32a05-d3b1-49fd-bf07-10298dc702bb\",\"type\":\"Grid\"},{\"attributes\":{\"children\":[{\"id\":\"b2a020bb-9274-40dd-9227-a6d8a34833c4\",\"subtype\":\"Figure\",\"type\":\"Plot\"},{\"id\":\"93c4388d-2295-4441-928b-4e9905ad2127\",\"subtype\":\"Figure\",\"type\":\"Plot\"},{\"id\":\"fac45a6b-dd2c-4665-860d-bd4654d43b9a\",\"subtype\":\"Figure\",\"type\":\"Plot\"}]},\"id\":\"1b4aa7bc-f12c-4bfd-ada5-7a6f6792b9e8\",\"type\":\"Row\"},{\"attributes\":{\"bottom_units\":\"screen\",\"fill_alpha\":{\"value\":0.5},\"fill_color\":{\"value\":\"lightgrey\"},\"left_units\":\"screen\",\"level\":\"overlay\",\"line_alpha\":{\"value\":1.0},\"line_color\":{\"value\":\"black\"},\"line_dash\":[4,4],\"line_width\":{\"value\":2},\"plot\":null,\"render_mode\":\"css\",\"right_units\":\"screen\",\"top_units\":\"screen\"},\"id\":\"3b061a4f-1ec0-48f1-98d5-c91d7a3d1ffa\",\"type\":\"BoxAnnotation\"},{\"attributes\":{\"data_source\":{\"id\":\"b8abb956-484e-4cf9-becd-e850e4621df0\",\"type\":\"ColumnDataSource\"},\"glyph\":{\"id\":\"85680c1b-f7d8-4dc7-8ce2-0a039207c8b9\",\"type\":\"Circle\"},\"hover_glyph\":null,\"muted_glyph\":null,\"nonselection_glyph\":{\"id\":\"0bbcf1d4-1409-4c66-87aa-67b89bb5098d\",\"type\":\"Circle\"},\"selection_glyph\":null,\"view\":{\"id\":\"c16902eb-4d41-47fa-98c4-2084ba9ef149\",\"type\":\"CDSView\"}},\"id\":\"e61524fd-5f46-4ba6-9186-cfd2f7a4b488\",\"type\":\"GlyphRenderer\"},{\"attributes\":{},\"id\":\"ccfbe5b6-7644-4d35-b5b5-a92a9c2d14b1\",\"type\":\"PanTool\"},{\"attributes\":{},\"id\":\"9d7ca80b-7923-4f64-ab6b-984651c35363\",\"type\":\"WheelZoomTool\"},{\"attributes\":{\"overlay\":{\"id\":\"3b061a4f-1ec0-48f1-98d5-c91d7a3d1ffa\",\"type\":\"BoxAnnotation\"}},\"id\":\"d0fb7ed0-967e-4372-88f9-2ce403bdaa09\",\"type\":\"BoxZoomTool\"},{\"attributes\":{},\"id\":\"f0046198-5d90-41a5-996b-809cf8b84edc\",\"type\":\"SaveTool\"},{\"attributes\":{},\"id\":\"9415789e-ac3e-4efa-84db-9a8151596331\",\"type\":\"ResetTool\"},{\"attributes\":{},\"id\":\"bc4f681f-ad54-4a9b-a654-7b7d4e9b7c92\",\"type\":\"HelpTool\"},{\"attributes\":{\"fill_alpha\":{\"value\":0.1},\"fill_color\":{\"value\":\"#1f77b4\"},\"line_alpha\":{\"value\":0.1},\"line_color\":{\"value\":\"#1f77b4\"},\"x\":{\"field\":\"x\"},\"y\":{\"field\":\"y\"}},\"id\":\"d18e6734-b1ae-4141-af74-1fa0190b9896\",\"type\":\"Circle\"},{\"attributes\":{},\"id\":\"3cbaa484-3da8-4933-8d11-12d0cfdfdf84\",\"type\":\"BasicTicker\"},{\"attributes\":{},\"id\":\"936a3d12-3943-4507-a85c-8331205f067d\",\"type\":\"BasicTickFormatter\"},{\"attributes\":{},\"id\":\"e3d69d92-b203-41d4-b713-202cdb2afc45\",\"type\":\"BasicTicker\"},{\"attributes\":{\"formatter\":{\"id\":\"0bc1f083-b161-45ba-bb5c-c962247b0508\",\"type\":\"BasicTickFormatter\"},\"plot\":{\"id\":\"fac45a6b-dd2c-4665-860d-bd4654d43b9a\",\"subtype\":\"Figure\",\"type\":\"Plot\"},\"ticker\":{\"id\":\"e3d69d92-b203-41d4-b713-202cdb2afc45\",\"type\":\"BasicTicker\"}},\"id\":\"81a88008-c17f-402a-9ddc-7e75189964a5\",\"type\":\"LinearAxis\"},{\"attributes\":{\"callback\":null},\"id\":\"8a37ffd5-37e0-4742-9f9d-43fe621bfac9\",\"type\":\"DataRange1d\"},{\"attributes\":{},\"id\":\"4ff1ff74-d34c-4a05-a43a-85338358a35d\",\"type\":\"BasicTickFormatter\"},{\"attributes\":{},\"id\":\"51587a9b-258a-4ae6-a8aa-7760908eb7fe\",\"type\":\"BasicTickFormatter\"},{\"attributes\":{\"callback\":null,\"column_names\":[\"x\",\"y\"],\"data\":{\"x\":[0,1,2,3,4,5,6,7,8,9,10],\"y\":[10,9,8,7,6,5,4,3,2,1,0]}},\"id\":\"b8abb956-484e-4cf9-becd-e850e4621df0\",\"type\":\"ColumnDataSource\"},{\"attributes\":{},\"id\":\"50600d26-bd3f-416d-8793-26177ec5ca6b\",\"type\":\"LinearScale\"},{\"attributes\":{\"active_drag\":\"auto\",\"active_inspect\":\"auto\",\"active_scroll\":\"auto\",\"active_tap\":\"auto\",\"tools\":[{\"id\":\"96366fe1-e12c-4c8a-8adb-ac06b83a2736\",\"type\":\"PanTool\"},{\"id\":\"6ee1ba0e-2157-415c-9661-37d3c76eb158\",\"type\":\"WheelZoomTool\"},{\"id\":\"6b77bb67-be93-452c-8f24-cdfa7976d5f6\",\"type\":\"BoxZoomTool\"},{\"id\":\"2867dfdf-c075-4619-af32-8fcf7046156a\",\"type\":\"SaveTool\"},{\"id\":\"67cf57b8-af39-45cf-bf60-cc844ec9e6e9\",\"type\":\"ResetTool\"},{\"id\":\"12ffac7e-bad2-4c22-bfa4-9ad4cff19fe1\",\"type\":\"HelpTool\"}]},\"id\":\"0772f253-d614-4ea3-bf12-666f65149f88\",\"type\":\"Toolbar\"},{\"attributes\":{\"fill_alpha\":{\"value\":0.5},\"fill_color\":{\"value\":\"navy\"},\"line_alpha\":{\"value\":0.5},\"line_color\":{\"value\":\"navy\"},\"x\":{\"field\":\"x\"},\"y\":{\"field\":\"y\"}},\"id\":\"cecb7822-64a3-4ebe-965b-fd7c256746dc\",\"type\":\"Circle\"},{\"attributes\":{\"fill_alpha\":{\"value\":0.1},\"fill_color\":{\"value\":\"#1f77b4\"},\"line_alpha\":{\"value\":0.1},\"line_color\":{\"value\":\"#1f77b4\"},\"x\":{\"field\":\"x\"},\"y\":{\"field\":\"y\"}},\"id\":\"0bbcf1d4-1409-4c66-87aa-67b89bb5098d\",\"type\":\"Circle\"},{\"attributes\":{\"plot\":{\"id\":\"93c4388d-2295-4441-928b-4e9905ad2127\",\"subtype\":\"Figure\",\"type\":\"Plot\"},\"ticker\":{\"id\":\"345b5018-ec5b-4709-8648-8e7e9ed85c3b\",\"type\":\"BasicTicker\"}},\"id\":\"50633dc9-117d-4eff-b88c-7d1b9c63bc6e\",\"type\":\"Grid\"},{\"attributes\":{\"callback\":null},\"id\":\"0243f273-425c-4ad2-9ff8-35f7d72470ce\",\"type\":\"DataRange1d\"},{\"attributes\":{\"plot\":null,\"text\":\"\"},\"id\":\"dd9dbc43-21d0-4a3d-b380-8fb3b321a406\",\"type\":\"Title\"},{\"attributes\":{\"callback\":null},\"id\":\"d1301662-0039-4271-8f2a-104915d4362c\",\"type\":\"DataRange1d\"},{\"attributes\":{},\"id\":\"eb8569ee-ddc3-4778-bf9e-f2615010991c\",\"type\":\"LinearScale\"},{\"attributes\":{\"formatter\":{\"id\":\"77073363-0bbc-40af-b375-f1dc3c0fd95a\",\"type\":\"BasicTickFormatter\"},\"plot\":{\"id\":\"93c4388d-2295-4441-928b-4e9905ad2127\",\"subtype\":\"Figure\",\"type\":\"Plot\"},\"ticker\":{\"id\":\"345b5018-ec5b-4709-8648-8e7e9ed85c3b\",\"type\":\"BasicTicker\"}},\"id\":\"a6436779-4bc5-4afa-bbc0-46cb1e3d0cdb\",\"type\":\"LinearAxis\"},{\"attributes\":{},\"id\":\"345b5018-ec5b-4709-8648-8e7e9ed85c3b\",\"type\":\"BasicTicker\"},{\"attributes\":{\"formatter\":{\"id\":\"936a3d12-3943-4507-a85c-8331205f067d\",\"type\":\"BasicTickFormatter\"},\"plot\":{\"id\":\"93c4388d-2295-4441-928b-4e9905ad2127\",\"subtype\":\"Figure\",\"type\":\"Plot\"},\"ticker\":{\"id\":\"3cbaa484-3da8-4933-8d11-12d0cfdfdf84\",\"type\":\"BasicTicker\"}},\"id\":\"8c4ae199-df91-45db-987a-5e37f439b8f2\",\"type\":\"LinearAxis\"},{\"attributes\":{\"below\":[{\"id\":\"718063a1-5244-471a-9c7f-c405570c37e0\",\"type\":\"LinearAxis\"}],\"left\":[{\"id\":\"81a88008-c17f-402a-9ddc-7e75189964a5\",\"type\":\"LinearAxis\"}],\"plot_height\":250,\"plot_width\":250,\"renderers\":[{\"id\":\"718063a1-5244-471a-9c7f-c405570c37e0\",\"type\":\"LinearAxis\"},{\"id\":\"a42cc92d-3068-4548-8976-257cee079797\",\"type\":\"Grid\"},{\"id\":\"81a88008-c17f-402a-9ddc-7e75189964a5\",\"type\":\"LinearAxis\"},{\"id\":\"1ea8754d-8a77-43fc-93f1-b5fe527e1ed2\",\"type\":\"Grid\"},{\"id\":\"5ae50bf4-3345-4542-8024-2f828a1eed14\",\"type\":\"BoxAnnotation\"},{\"id\":\"697ee631-b750-4ad0-8449-89a9b1604dbe\",\"type\":\"GlyphRenderer\"}],\"title\":{\"id\":\"eb0c0db3-c893-4152-aad4-3c534c14db89\",\"type\":\"Title\"},\"toolbar\":{\"id\":\"4202781b-3f3c-4ada-b88e-121a69453d02\",\"type\":\"Toolbar\"},\"x_range\":{\"id\":\"3524d6d1-34fe-49f6-a522-d3bb7a56446f\",\"type\":\"DataRange1d\"},\"x_scale\":{\"id\":\"bbcefb0c-3b2f-4e07-adf3-f39c319bbf63\",\"type\":\"LinearScale\"},\"y_range\":{\"id\":\"cf5a518f-ccdb-4a07-81a5-59ee6481c4ef\",\"type\":\"DataRange1d\"},\"y_scale\":{\"id\":\"f777a5c9-9ddd-4cbd-b4f1-e8af3b378e08\",\"type\":\"LinearScale\"}},\"id\":\"fac45a6b-dd2c-4665-860d-bd4654d43b9a\",\"subtype\":\"Figure\",\"type\":\"Plot\"},{\"attributes\":{\"fill_alpha\":{\"value\":0.5},\"line_alpha\":{\"value\":0.5},\"line_color\":{\"value\":\"gray\"},\"x\":{\"field\":\"x\"},\"y\":{\"field\":\"y\"}},\"id\":\"85680c1b-f7d8-4dc7-8ce2-0a039207c8b9\",\"type\":\"Circle\"},{\"attributes\":{\"bottom_units\":\"screen\",\"fill_alpha\":{\"value\":0.5},\"fill_color\":{\"value\":\"lightgrey\"},\"left_units\":\"screen\",\"level\":\"overlay\",\"line_alpha\":{\"value\":1.0},\"line_color\":{\"value\":\"black\"},\"line_dash\":[4,4],\"line_width\":{\"value\":2},\"plot\":null,\"render_mode\":\"css\",\"right_units\":\"screen\",\"top_units\":\"screen\"},\"id\":\"91736df2-ccb5-481f-9977-db294874aeb2\",\"type\":\"BoxAnnotation\"},{\"attributes\":{},\"id\":\"96366fe1-e12c-4c8a-8adb-ac06b83a2736\",\"type\":\"PanTool\"},{\"attributes\":{\"source\":{\"id\":\"b8abb956-484e-4cf9-becd-e850e4621df0\",\"type\":\"ColumnDataSource\"}},\"id\":\"c16902eb-4d41-47fa-98c4-2084ba9ef149\",\"type\":\"CDSView\"},{\"attributes\":{},\"id\":\"6ee1ba0e-2157-415c-9661-37d3c76eb158\",\"type\":\"WheelZoomTool\"},{\"attributes\":{\"overlay\":{\"id\":\"91736df2-ccb5-481f-9977-db294874aeb2\",\"type\":\"BoxAnnotation\"}},\"id\":\"6b77bb67-be93-452c-8f24-cdfa7976d5f6\",\"type\":\"BoxZoomTool\"},{\"attributes\":{},\"id\":\"2867dfdf-c075-4619-af32-8fcf7046156a\",\"type\":\"SaveTool\"},{\"attributes\":{\"dimension\":1,\"plot\":{\"id\":\"93c4388d-2295-4441-928b-4e9905ad2127\",\"subtype\":\"Figure\",\"type\":\"Plot\"},\"ticker\":{\"id\":\"3cbaa484-3da8-4933-8d11-12d0cfdfdf84\",\"type\":\"BasicTicker\"}},\"id\":\"9344c9fa-2e2b-4f4f-a7fb-f30895ca0d19\",\"type\":\"Grid\"},{\"attributes\":{},\"id\":\"67cf57b8-af39-45cf-bf60-cc844ec9e6e9\",\"type\":\"ResetTool\"},{\"attributes\":{},\"id\":\"12ffac7e-bad2-4c22-bfa4-9ad4cff19fe1\",\"type\":\"HelpTool\"},{\"attributes\":{\"callback\":null,\"column_names\":[\"x\",\"y\"],\"data\":{\"x\":[0,1,2,3,4,5,6,7,8,9,10],\"y\":[5,4,3,2,1,0,1,2,3,4,5]}},\"id\":\"aaaec1fc-1977-4de7-a1f1-969a4c8c060c\",\"type\":\"ColumnDataSource\"},{\"attributes\":{},\"id\":\"77073363-0bbc-40af-b375-f1dc3c0fd95a\",\"type\":\"BasicTickFormatter\"},{\"attributes\":{\"plot\":null,\"text\":\"\"},\"id\":\"a7f495ea-5042-446b-b47b-cb5957c11a97\",\"type\":\"Title\"}],\"root_ids\":[\"1b4aa7bc-f12c-4bfd-ada5-7a6f6792b9e8\"]},\"title\":\"Bokeh Application\",\"version\":\"0.12.10\"}};\n",
       "    var render_items = [{\"docid\":\"7aa2da9b-bd7e-401f-bce9-d5bdbb86e819\",\"elementid\":\"a6d16b49-bc06-4326-8d2c-7f6ce530b4d8\",\"modelid\":\"1b4aa7bc-f12c-4bfd-ada5-7a6f6792b9e8\"}];\n",
       "\n",
       "    root.Bokeh.embed.embed_items(docs_json, render_items);\n",
       "  }\n",
       "\n",
       "  if (root.Bokeh !== undefined) {\n",
       "    embed_document(root);\n",
       "  } else {\n",
       "    var attempts = 0;\n",
       "    var timer = setInterval(function(root) {\n",
       "      if (root.Bokeh !== undefined) {\n",
       "        embed_document(root);\n",
       "        clearInterval(timer);\n",
       "      }\n",
       "      attempts++;\n",
       "      if (attempts > 100) {\n",
       "        console.log(\"Bokeh: ERROR: Unable to embed document because BokehJS library is missing\")\n",
       "        clearInterval(timer);\n",
       "      }\n",
       "    }, 10, root)\n",
       "  }\n",
       "})(window);"
      ],
      "application/vnd.bokehjs_exec.v0+json": ""
     },
     "metadata": {
      "application/vnd.bokehjs_exec.v0+json": {
       "id": "1b4aa7bc-f12c-4bfd-ada5-7a6f6792b9e8"
      }
     },
     "output_type": "display_data"
    }
   ],
   "source": [
    "show(row(s1, s2, s3))"
   ]
  },
  {
   "cell_type": "markdown",
   "metadata": {},
   "source": [
    "# Grid Plots\n",
    "Bokeh also provides a gridplot layout in bokeh.layouts for arranging plots in a grid, as show in the example below."
   ]
  },
  {
   "cell_type": "code",
   "execution_count": 9,
   "metadata": {},
   "outputs": [
    {
     "data": {
      "text/html": [
       "<div style=\"display: table;\"><div style=\"display: table-row;\"><div style=\"display: table-cell;\"><b title=\"bokeh.models.renderers.GlyphRenderer\">GlyphRenderer</b>(</div><div style=\"display: table-cell;\">id&nbsp;=&nbsp;'5b803bd7-5e55-44da-a4c5-51c137848687', <span id=\"bb4ea14b-38b0-4c24-a34f-ae2dfc9989e5\" style=\"cursor: pointer;\">&hellip;)</span></div></div><div class=\"74154232-4665-41ff-95bf-8fb2117a5d65\" style=\"display: none;\"><div style=\"display: table-cell;\"></div><div style=\"display: table-cell;\">data_source&nbsp;=&nbsp;ColumnDataSource(id='bd7dca19-bdce-4cdd-aa59-7ca8f6c189f5', ...),</div></div><div class=\"74154232-4665-41ff-95bf-8fb2117a5d65\" style=\"display: none;\"><div style=\"display: table-cell;\"></div><div style=\"display: table-cell;\">glyph&nbsp;=&nbsp;Square(id='23407825-af48-4423-a970-159949c8fc65', ...),</div></div><div class=\"74154232-4665-41ff-95bf-8fb2117a5d65\" style=\"display: none;\"><div style=\"display: table-cell;\"></div><div style=\"display: table-cell;\">hover_glyph&nbsp;=&nbsp;None,</div></div><div class=\"74154232-4665-41ff-95bf-8fb2117a5d65\" style=\"display: none;\"><div style=\"display: table-cell;\"></div><div style=\"display: table-cell;\">js_event_callbacks&nbsp;=&nbsp;{},</div></div><div class=\"74154232-4665-41ff-95bf-8fb2117a5d65\" style=\"display: none;\"><div style=\"display: table-cell;\"></div><div style=\"display: table-cell;\">js_property_callbacks&nbsp;=&nbsp;{},</div></div><div class=\"74154232-4665-41ff-95bf-8fb2117a5d65\" style=\"display: none;\"><div style=\"display: table-cell;\"></div><div style=\"display: table-cell;\">level&nbsp;=&nbsp;'glyph',</div></div><div class=\"74154232-4665-41ff-95bf-8fb2117a5d65\" style=\"display: none;\"><div style=\"display: table-cell;\"></div><div style=\"display: table-cell;\">muted&nbsp;=&nbsp;False,</div></div><div class=\"74154232-4665-41ff-95bf-8fb2117a5d65\" style=\"display: none;\"><div style=\"display: table-cell;\"></div><div style=\"display: table-cell;\">muted_glyph&nbsp;=&nbsp;None,</div></div><div class=\"74154232-4665-41ff-95bf-8fb2117a5d65\" style=\"display: none;\"><div style=\"display: table-cell;\"></div><div style=\"display: table-cell;\">name&nbsp;=&nbsp;None,</div></div><div class=\"74154232-4665-41ff-95bf-8fb2117a5d65\" style=\"display: none;\"><div style=\"display: table-cell;\"></div><div style=\"display: table-cell;\">nonselection_glyph&nbsp;=&nbsp;Square(id='4010ab0b-9c83-44a5-9138-4808f9332034', ...),</div></div><div class=\"74154232-4665-41ff-95bf-8fb2117a5d65\" style=\"display: none;\"><div style=\"display: table-cell;\"></div><div style=\"display: table-cell;\">selection_glyph&nbsp;=&nbsp;None,</div></div><div class=\"74154232-4665-41ff-95bf-8fb2117a5d65\" style=\"display: none;\"><div style=\"display: table-cell;\"></div><div style=\"display: table-cell;\">subscribed_events&nbsp;=&nbsp;[],</div></div><div class=\"74154232-4665-41ff-95bf-8fb2117a5d65\" style=\"display: none;\"><div style=\"display: table-cell;\"></div><div style=\"display: table-cell;\">tags&nbsp;=&nbsp;[],</div></div><div class=\"74154232-4665-41ff-95bf-8fb2117a5d65\" style=\"display: none;\"><div style=\"display: table-cell;\"></div><div style=\"display: table-cell;\">view&nbsp;=&nbsp;CDSView(id='6ea7c80b-18a6-444d-ad09-78fb65681788', ...),</div></div><div class=\"74154232-4665-41ff-95bf-8fb2117a5d65\" style=\"display: none;\"><div style=\"display: table-cell;\"></div><div style=\"display: table-cell;\">visible&nbsp;=&nbsp;True,</div></div><div class=\"74154232-4665-41ff-95bf-8fb2117a5d65\" style=\"display: none;\"><div style=\"display: table-cell;\"></div><div style=\"display: table-cell;\">x_range_name&nbsp;=&nbsp;'default',</div></div><div class=\"74154232-4665-41ff-95bf-8fb2117a5d65\" style=\"display: none;\"><div style=\"display: table-cell;\"></div><div style=\"display: table-cell;\">y_range_name&nbsp;=&nbsp;'default')</div></div></div>\n",
       "<script>\n",
       "(function() {\n",
       "  var expanded = false;\n",
       "  var ellipsis = document.getElementById(\"bb4ea14b-38b0-4c24-a34f-ae2dfc9989e5\");\n",
       "  ellipsis.addEventListener(\"click\", function() {\n",
       "    var rows = document.getElementsByClassName(\"74154232-4665-41ff-95bf-8fb2117a5d65\");\n",
       "    for (var i = 0; i < rows.length; i++) {\n",
       "      var el = rows[i];\n",
       "      el.style.display = expanded ? \"none\" : \"table-row\";\n",
       "    }\n",
       "    ellipsis.innerHTML = expanded ? \"&hellip;)\" : \"&lsaquo;&lsaquo;&lsaquo;\";\n",
       "    expanded = !expanded;\n",
       "  });\n",
       "})();\n",
       "</script>\n"
      ],
      "text/plain": [
       "GlyphRenderer(id='5b803bd7-5e55-44da-a4c5-51c137848687', ...)"
      ]
     },
     "execution_count": 9,
     "metadata": {},
     "output_type": "execute_result"
    }
   ],
   "source": [
    "from bokeh.layouts import gridplot\n",
    "\n",
    "# create a new plot\n",
    "s1 = figure(width=250, plot_height=250)\n",
    "s1.circle(x, y0, size=10, color=\"navy\", alpha=0.5)\n",
    "\n",
    "# create another one\n",
    "s2 = figure(width=250, height=250)\n",
    "s2.triangle(x, y1, size=10, color=\"firebrick\", alpha=0.5)\n",
    "\n",
    "# create and another\n",
    "s3 = figure(width=250, height=250)\n",
    "s3.square(x, y2, size=10, color=\"olive\", alpha=0.5)"
   ]
  },
  {
   "cell_type": "code",
   "execution_count": 13,
   "metadata": {},
   "outputs": [
    {
     "data": {
      "text/html": [
       "\n",
       "<div class=\"bk-root\">\n",
       "    <div class=\"bk-plotdiv\" id=\"3f40cd55-5f65-45f1-94f0-d52181aa2c13\"></div>\n",
       "</div>"
      ]
     },
     "metadata": {},
     "output_type": "display_data"
    },
    {
     "data": {
      "application/javascript": [
       "(function(root) {\n",
       "  function embed_document(root) {\n",
       "    var docs_json = {\"73ece2e1-29fa-49b4-b6b9-a008ab8fbb40\":{\"roots\":{\"references\":[{\"attributes\":{},\"id\":\"290112e4-3bf3-4709-ab8f-d401296f250c\",\"type\":\"BasicTickFormatter\"},{\"attributes\":{},\"id\":\"0a89c8c2-049b-4aeb-82fc-6b7cc2d44743\",\"type\":\"WheelZoomTool\"},{\"attributes\":{},\"id\":\"8312335c-e312-4b04-85a9-3e24244b0eb9\",\"type\":\"PanTool\"},{\"attributes\":{\"bottom_units\":\"screen\",\"fill_alpha\":{\"value\":0.5},\"fill_color\":{\"value\":\"lightgrey\"},\"left_units\":\"screen\",\"level\":\"overlay\",\"line_alpha\":{\"value\":1.0},\"line_color\":{\"value\":\"black\"},\"line_dash\":[4,4],\"line_width\":{\"value\":2},\"plot\":null,\"render_mode\":\"css\",\"right_units\":\"screen\",\"top_units\":\"screen\"},\"id\":\"f80c6045-f92b-4073-b76c-d3febcb38aa3\",\"type\":\"BoxAnnotation\"},{\"attributes\":{},\"id\":\"e520097b-111e-4fed-8862-7c05d92c5516\",\"type\":\"BasicTickFormatter\"},{\"attributes\":{\"overlay\":{\"id\":\"f80c6045-f92b-4073-b76c-d3febcb38aa3\",\"type\":\"BoxAnnotation\"}},\"id\":\"c453ab06-60a6-4999-bbfb-b217ee7bde07\",\"type\":\"BoxZoomTool\"},{\"attributes\":{},\"id\":\"2ad74339-8d1e-4d5e-b304-9d88ff259f17\",\"type\":\"SaveTool\"},{\"attributes\":{},\"id\":\"dc88298b-3c85-449d-9929-b85dd6390c17\",\"type\":\"ResetTool\"},{\"attributes\":{},\"id\":\"07276fc3-d85f-4b4c-8a97-9134023ef8d1\",\"type\":\"HelpTool\"},{\"attributes\":{\"callback\":null,\"column_names\":[\"x\",\"y\"],\"data\":{\"x\":[0,1,2,3,4,5,6,7,8,9,10],\"y\":[5,4,3,2,1,0,1,2,3,4,5]}},\"id\":\"bd7dca19-bdce-4cdd-aa59-7ca8f6c189f5\",\"type\":\"ColumnDataSource\"},{\"attributes\":{},\"id\":\"64b362a8-7ec2-4e26-b88d-52ff2a78f196\",\"type\":\"LinearScale\"},{\"attributes\":{},\"id\":\"da357d98-ea73-460b-abe5-bee8f41b1955\",\"type\":\"BasicTicker\"},{\"attributes\":{\"fill_alpha\":{\"value\":0.1},\"fill_color\":{\"value\":\"#1f77b4\"},\"line_alpha\":{\"value\":0.1},\"line_color\":{\"value\":\"#1f77b4\"},\"size\":{\"units\":\"screen\",\"value\":10},\"x\":{\"field\":\"x\"},\"y\":{\"field\":\"y\"}},\"id\":\"4010ab0b-9c83-44a5-9138-4808f9332034\",\"type\":\"Square\"},{\"attributes\":{\"callback\":null},\"id\":\"1236a48b-1e32-4bac-bb71-264053498fef\",\"type\":\"DataRange1d\"},{\"attributes\":{\"source\":{\"id\":\"bd7dca19-bdce-4cdd-aa59-7ca8f6c189f5\",\"type\":\"ColumnDataSource\"}},\"id\":\"6ea7c80b-18a6-444d-ad09-78fb65681788\",\"type\":\"CDSView\"},{\"attributes\":{\"active_drag\":\"auto\",\"active_inspect\":\"auto\",\"active_scroll\":\"auto\",\"active_tap\":\"auto\",\"tools\":[{\"id\":\"a35dbc15-fdd0-4d4c-ad8b-c0862f631087\",\"type\":\"PanTool\"},{\"id\":\"8e00d229-74f0-44af-9eff-afd117d9c801\",\"type\":\"WheelZoomTool\"},{\"id\":\"60ffdccb-9fa9-4f3f-983b-6e96c1cd8c19\",\"type\":\"BoxZoomTool\"},{\"id\":\"a9e300d3-9ff5-45f9-9ef3-b1f2c76fb69f\",\"type\":\"SaveTool\"},{\"id\":\"eafbec8c-b942-4ecb-9c0b-7f10d7c2f0e2\",\"type\":\"ResetTool\"},{\"id\":\"4b6b0784-60b3-495f-be17-e16dd7a95afc\",\"type\":\"HelpTool\"}]},\"id\":\"9cf62adc-9024-457d-bb19-8a2c1e95b00f\",\"type\":\"Toolbar\"},{\"attributes\":{\"children\":[{\"id\":\"ee774f93-9a10-4334-b226-3f4bfa6bbaaa\",\"type\":\"Row\"},{\"id\":\"9503ad26-93ae-42f1-b46a-9658e51af3c3\",\"type\":\"Row\"}]},\"id\":\"18d32a73-c6f1-44e1-a848-d9e5e93d131f\",\"type\":\"Column\"},{\"attributes\":{},\"id\":\"bb41389d-d349-46de-85c1-8a3665978b9c\",\"type\":\"LinearScale\"},{\"attributes\":{\"children\":[{\"id\":\"74878990-19c5-4f92-b6b8-94791704d6d4\",\"subtype\":\"Figure\",\"type\":\"Plot\"},{\"id\":\"eb0f5c3b-a372-40c9-b513-36bbca4f453f\",\"subtype\":\"Figure\",\"type\":\"Plot\"}]},\"id\":\"ee774f93-9a10-4334-b226-3f4bfa6bbaaa\",\"type\":\"Row\"},{\"attributes\":{\"callback\":null},\"id\":\"357990f1-05a2-4cae-ba7c-25ec2ba1d792\",\"type\":\"DataRange1d\"},{\"attributes\":{\"plot\":{\"id\":\"63783434-e9a1-47e9-8ab9-0b3f8f190dbb\",\"subtype\":\"Figure\",\"type\":\"Plot\"},\"ticker\":{\"id\":\"da357d98-ea73-460b-abe5-bee8f41b1955\",\"type\":\"BasicTicker\"}},\"id\":\"c3b93cda-6cb1-4339-b101-271f13c53dcf\",\"type\":\"Grid\"},{\"attributes\":{\"children\":[{\"id\":\"63783434-e9a1-47e9-8ab9-0b3f8f190dbb\",\"subtype\":\"Figure\",\"type\":\"Plot\"},{\"id\":\"044a83e6-b7e7-4310-8042-6917dae6ab6b\",\"type\":\"Spacer\"}]},\"id\":\"9503ad26-93ae-42f1-b46a-9658e51af3c3\",\"type\":\"Row\"},{\"attributes\":{\"formatter\":{\"id\":\"278ba046-802e-4800-a44f-009a2966426f\",\"type\":\"BasicTickFormatter\"},\"plot\":{\"id\":\"63783434-e9a1-47e9-8ab9-0b3f8f190dbb\",\"subtype\":\"Figure\",\"type\":\"Plot\"},\"ticker\":{\"id\":\"da357d98-ea73-460b-abe5-bee8f41b1955\",\"type\":\"BasicTicker\"}},\"id\":\"ad9664ee-05e3-4a25-829d-b2196438734f\",\"type\":\"LinearAxis\"},{\"attributes\":{\"dimension\":1,\"plot\":{\"id\":\"63783434-e9a1-47e9-8ab9-0b3f8f190dbb\",\"subtype\":\"Figure\",\"type\":\"Plot\"},\"ticker\":{\"id\":\"8c0f44fd-4bf0-4008-af4d-db45d5733fdc\",\"type\":\"BasicTicker\"}},\"id\":\"fcde9711-26e0-4a77-8fc9-7d33ace7f5e6\",\"type\":\"Grid\"},{\"attributes\":{\"formatter\":{\"id\":\"290112e4-3bf3-4709-ab8f-d401296f250c\",\"type\":\"BasicTickFormatter\"},\"plot\":{\"id\":\"63783434-e9a1-47e9-8ab9-0b3f8f190dbb\",\"subtype\":\"Figure\",\"type\":\"Plot\"},\"ticker\":{\"id\":\"8c0f44fd-4bf0-4008-af4d-db45d5733fdc\",\"type\":\"BasicTicker\"}},\"id\":\"66979308-e6b5-4080-b551-8e450c86e91b\",\"type\":\"LinearAxis\"},{\"attributes\":{},\"id\":\"8c0f44fd-4bf0-4008-af4d-db45d5733fdc\",\"type\":\"BasicTicker\"},{\"attributes\":{\"bottom_units\":\"screen\",\"fill_alpha\":{\"value\":0.5},\"fill_color\":{\"value\":\"lightgrey\"},\"left_units\":\"screen\",\"level\":\"overlay\",\"line_alpha\":{\"value\":1.0},\"line_color\":{\"value\":\"black\"},\"line_dash\":[4,4],\"line_width\":{\"value\":2},\"plot\":null,\"render_mode\":\"css\",\"right_units\":\"screen\",\"top_units\":\"screen\"},\"id\":\"a9615a97-3f76-4fd7-bda9-20745ed6e39b\",\"type\":\"BoxAnnotation\"},{\"attributes\":{\"data_source\":{\"id\":\"bd7dca19-bdce-4cdd-aa59-7ca8f6c189f5\",\"type\":\"ColumnDataSource\"},\"glyph\":{\"id\":\"23407825-af48-4423-a970-159949c8fc65\",\"type\":\"Square\"},\"hover_glyph\":null,\"muted_glyph\":null,\"nonselection_glyph\":{\"id\":\"4010ab0b-9c83-44a5-9138-4808f9332034\",\"type\":\"Square\"},\"selection_glyph\":null,\"view\":{\"id\":\"6ea7c80b-18a6-444d-ad09-78fb65681788\",\"type\":\"CDSView\"}},\"id\":\"5b803bd7-5e55-44da-a4c5-51c137848687\",\"type\":\"GlyphRenderer\"},{\"attributes\":{\"callback\":null},\"id\":\"b7e9e6ef-7ea2-4840-abfd-71c60faae970\",\"type\":\"DataRange1d\"},{\"attributes\":{\"source\":{\"id\":\"225b9e31-3861-4942-93c9-3efa78dc2e90\",\"type\":\"ColumnDataSource\"}},\"id\":\"6615f81c-62ab-4a34-80f0-e0b946faec41\",\"type\":\"CDSView\"},{\"attributes\":{\"fill_alpha\":{\"value\":0.5},\"fill_color\":{\"value\":\"olive\"},\"line_alpha\":{\"value\":0.5},\"line_color\":{\"value\":\"olive\"},\"size\":{\"units\":\"screen\",\"value\":10},\"x\":{\"field\":\"x\"},\"y\":{\"field\":\"y\"}},\"id\":\"23407825-af48-4423-a970-159949c8fc65\",\"type\":\"Square\"},{\"attributes\":{},\"id\":\"507fc323-21c5-433e-bdd8-4a1e91b8fbba\",\"type\":\"BasicTickFormatter\"},{\"attributes\":{\"below\":[{\"id\":\"0dc95c87-c063-49f2-a365-4b1bea02351b\",\"type\":\"LinearAxis\"}],\"left\":[{\"id\":\"14caf97a-2c2b-4a64-a3fc-1823082be99d\",\"type\":\"LinearAxis\"}],\"plot_height\":250,\"plot_width\":250,\"renderers\":[{\"id\":\"0dc95c87-c063-49f2-a365-4b1bea02351b\",\"type\":\"LinearAxis\"},{\"id\":\"2062714f-10bd-4654-b916-0051cc1a4d5b\",\"type\":\"Grid\"},{\"id\":\"14caf97a-2c2b-4a64-a3fc-1823082be99d\",\"type\":\"LinearAxis\"},{\"id\":\"cb03c321-fc53-4099-9e83-ef9b4a2426a1\",\"type\":\"Grid\"},{\"id\":\"2a9bc4d4-2587-4bc3-9075-fc1f10aa7e85\",\"type\":\"BoxAnnotation\"},{\"id\":\"e46973b8-a7db-42b8-9720-01b4fa82a598\",\"type\":\"GlyphRenderer\"}],\"title\":{\"id\":\"2ce53631-8910-4865-92ab-099041674425\",\"type\":\"Title\"},\"toolbar\":{\"id\":\"c3083b0e-8f4a-40f4-b93d-274184686713\",\"type\":\"Toolbar\"},\"toolbar_location\":null,\"x_range\":{\"id\":\"060f78a4-678a-47bc-847e-c0e882e866b2\",\"type\":\"DataRange1d\"},\"x_scale\":{\"id\":\"681724ec-3a41-461d-b7fb-676131836184\",\"type\":\"LinearScale\"},\"y_range\":{\"id\":\"de7f9eec-32a2-41a6-af5b-50df2b901168\",\"type\":\"DataRange1d\"},\"y_scale\":{\"id\":\"c2df14eb-ea54-476f-a59c-24fd52945a59\",\"type\":\"LinearScale\"}},\"id\":\"74878990-19c5-4f92-b6b8-94791704d6d4\",\"subtype\":\"Figure\",\"type\":\"Plot\"},{\"attributes\":{},\"id\":\"a35dbc15-fdd0-4d4c-ad8b-c0862f631087\",\"type\":\"PanTool\"},{\"attributes\":{\"callback\":null,\"column_names\":[\"x\",\"y\"],\"data\":{\"x\":[0,1,2,3,4,5,6,7,8,9,10],\"y\":[0,1,2,3,4,5,6,7,8,9,10]}},\"id\":\"225b9e31-3861-4942-93c9-3efa78dc2e90\",\"type\":\"ColumnDataSource\"},{\"attributes\":{\"overlay\":{\"id\":\"a9615a97-3f76-4fd7-bda9-20745ed6e39b\",\"type\":\"BoxAnnotation\"}},\"id\":\"60ffdccb-9fa9-4f3f-983b-6e96c1cd8c19\",\"type\":\"BoxZoomTool\"},{\"attributes\":{\"active_drag\":\"auto\",\"active_inspect\":\"auto\",\"active_scroll\":\"auto\",\"active_tap\":\"auto\",\"tools\":[{\"id\":\"7ce52b8c-dcbc-4f88-b9e9-bb1cf661c964\",\"type\":\"PanTool\"},{\"id\":\"e1d8faa0-5e1d-49d8-83c0-da7d31cd1e80\",\"type\":\"WheelZoomTool\"},{\"id\":\"0ce12574-f2f4-41b4-8338-25ecab1138ca\",\"type\":\"BoxZoomTool\"},{\"id\":\"feee910a-07b1-440a-bf0a-2b8667f9cf7d\",\"type\":\"SaveTool\"},{\"id\":\"0ae4cd31-04ff-4f1b-aee0-0f12577bc875\",\"type\":\"ResetTool\"},{\"id\":\"0a28054d-680e-44c4-a792-d122933c84d8\",\"type\":\"HelpTool\"}]},\"id\":\"c3083b0e-8f4a-40f4-b93d-274184686713\",\"type\":\"Toolbar\"},{\"attributes\":{\"callback\":null},\"id\":\"060f78a4-678a-47bc-847e-c0e882e866b2\",\"type\":\"DataRange1d\"},{\"attributes\":{},\"id\":\"8e00d229-74f0-44af-9eff-afd117d9c801\",\"type\":\"WheelZoomTool\"},{\"attributes\":{\"fill_alpha\":{\"value\":0.1},\"fill_color\":{\"value\":\"#1f77b4\"},\"line_alpha\":{\"value\":0.1},\"line_color\":{\"value\":\"#1f77b4\"},\"size\":{\"units\":\"screen\",\"value\":10},\"x\":{\"field\":\"x\"},\"y\":{\"field\":\"y\"}},\"id\":\"c3f88f4c-ffcf-4632-81d2-69566293796a\",\"type\":\"Circle\"},{\"attributes\":{},\"id\":\"4b6b0784-60b3-495f-be17-e16dd7a95afc\",\"type\":\"HelpTool\"},{\"attributes\":{},\"id\":\"a9e300d3-9ff5-45f9-9ef3-b1f2c76fb69f\",\"type\":\"SaveTool\"},{\"attributes\":{\"callback\":null},\"id\":\"de7f9eec-32a2-41a6-af5b-50df2b901168\",\"type\":\"DataRange1d\"},{\"attributes\":{},\"id\":\"eafbec8c-b942-4ecb-9c0b-7f10d7c2f0e2\",\"type\":\"ResetTool\"},{\"attributes\":{},\"id\":\"681724ec-3a41-461d-b7fb-676131836184\",\"type\":\"LinearScale\"},{\"attributes\":{},\"id\":\"c2df14eb-ea54-476f-a59c-24fd52945a59\",\"type\":\"LinearScale\"},{\"attributes\":{\"plot\":{\"id\":\"74878990-19c5-4f92-b6b8-94791704d6d4\",\"subtype\":\"Figure\",\"type\":\"Plot\"},\"ticker\":{\"id\":\"e256611a-8aec-483d-82c9-12f580ac959c\",\"type\":\"BasicTicker\"}},\"id\":\"2062714f-10bd-4654-b916-0051cc1a4d5b\",\"type\":\"Grid\"},{\"attributes\":{\"formatter\":{\"id\":\"99f4ed77-0036-42c4-9180-b6067bc45bc5\",\"type\":\"BasicTickFormatter\"},\"plot\":{\"id\":\"74878990-19c5-4f92-b6b8-94791704d6d4\",\"subtype\":\"Figure\",\"type\":\"Plot\"},\"ticker\":{\"id\":\"e256611a-8aec-483d-82c9-12f580ac959c\",\"type\":\"BasicTicker\"}},\"id\":\"0dc95c87-c063-49f2-a365-4b1bea02351b\",\"type\":\"LinearAxis\"},{\"attributes\":{\"plot\":null,\"text\":\"\"},\"id\":\"20edba66-fbba-4111-9319-973f34f73b5a\",\"type\":\"Title\"},{\"attributes\":{},\"id\":\"e256611a-8aec-483d-82c9-12f580ac959c\",\"type\":\"BasicTicker\"},{\"attributes\":{},\"id\":\"278ba046-802e-4800-a44f-009a2966426f\",\"type\":\"BasicTickFormatter\"},{\"attributes\":{\"formatter\":{\"id\":\"507fc323-21c5-433e-bdd8-4a1e91b8fbba\",\"type\":\"BasicTickFormatter\"},\"plot\":{\"id\":\"74878990-19c5-4f92-b6b8-94791704d6d4\",\"subtype\":\"Figure\",\"type\":\"Plot\"},\"ticker\":{\"id\":\"4da14586-6775-44d1-a77d-11a66e21fcbd\",\"type\":\"BasicTicker\"}},\"id\":\"14caf97a-2c2b-4a64-a3fc-1823082be99d\",\"type\":\"LinearAxis\"},{\"attributes\":{},\"id\":\"4da14586-6775-44d1-a77d-11a66e21fcbd\",\"type\":\"BasicTicker\"},{\"attributes\":{\"data_source\":{\"id\":\"225b9e31-3861-4942-93c9-3efa78dc2e90\",\"type\":\"ColumnDataSource\"},\"glyph\":{\"id\":\"e1648be9-9c46-4297-8106-0fdd8cc61c85\",\"type\":\"Circle\"},\"hover_glyph\":null,\"muted_glyph\":null,\"nonselection_glyph\":{\"id\":\"c3f88f4c-ffcf-4632-81d2-69566293796a\",\"type\":\"Circle\"},\"selection_glyph\":null,\"view\":{\"id\":\"6615f81c-62ab-4a34-80f0-e0b946faec41\",\"type\":\"CDSView\"}},\"id\":\"e46973b8-a7db-42b8-9720-01b4fa82a598\",\"type\":\"GlyphRenderer\"},{\"attributes\":{\"fill_alpha\":{\"value\":0.5},\"fill_color\":{\"value\":\"navy\"},\"line_alpha\":{\"value\":0.5},\"line_color\":{\"value\":\"navy\"},\"size\":{\"units\":\"screen\",\"value\":10},\"x\":{\"field\":\"x\"},\"y\":{\"field\":\"y\"}},\"id\":\"e1648be9-9c46-4297-8106-0fdd8cc61c85\",\"type\":\"Circle\"},{\"attributes\":{\"below\":[{\"id\":\"673d7b44-f071-4d0b-8f92-fe0aa8225225\",\"type\":\"LinearAxis\"}],\"left\":[{\"id\":\"9828baec-be2c-4f26-a285-cbfbede49c85\",\"type\":\"LinearAxis\"}],\"plot_height\":250,\"plot_width\":250,\"renderers\":[{\"id\":\"673d7b44-f071-4d0b-8f92-fe0aa8225225\",\"type\":\"LinearAxis\"},{\"id\":\"917c5214-dab6-46bd-abbe-5e9568dedbf5\",\"type\":\"Grid\"},{\"id\":\"9828baec-be2c-4f26-a285-cbfbede49c85\",\"type\":\"LinearAxis\"},{\"id\":\"2d59557e-46ed-4a0d-a4cc-6024ac01ed41\",\"type\":\"Grid\"},{\"id\":\"f80c6045-f92b-4073-b76c-d3febcb38aa3\",\"type\":\"BoxAnnotation\"},{\"id\":\"29d9ac18-62e1-4d28-adec-a49f25a789ca\",\"type\":\"GlyphRenderer\"}],\"title\":{\"id\":\"96758157-aa2b-4aa5-88a4-c474574778c5\",\"type\":\"Title\"},\"toolbar\":{\"id\":\"d577e26d-d922-4884-879b-3f8f9d065738\",\"type\":\"Toolbar\"},\"toolbar_location\":null,\"x_range\":{\"id\":\"c9a1307f-9ad1-4259-9d66-fa0bf0359675\",\"type\":\"DataRange1d\"},\"x_scale\":{\"id\":\"e91982c4-bf07-42e9-9eea-5d49c24474c7\",\"type\":\"LinearScale\"},\"y_range\":{\"id\":\"b7e9e6ef-7ea2-4840-abfd-71c60faae970\",\"type\":\"DataRange1d\"},\"y_scale\":{\"id\":\"bbe41d42-f2ca-46a7-9189-a3c2589b610e\",\"type\":\"LinearScale\"}},\"id\":\"eb0f5c3b-a372-40c9-b513-36bbca4f453f\",\"subtype\":\"Figure\",\"type\":\"Plot\"},{\"attributes\":{\"bottom_units\":\"screen\",\"fill_alpha\":{\"value\":0.5},\"fill_color\":{\"value\":\"lightgrey\"},\"left_units\":\"screen\",\"level\":\"overlay\",\"line_alpha\":{\"value\":1.0},\"line_color\":{\"value\":\"black\"},\"line_dash\":[4,4],\"line_width\":{\"value\":2},\"plot\":null,\"render_mode\":\"css\",\"right_units\":\"screen\",\"top_units\":\"screen\"},\"id\":\"2a9bc4d4-2587-4bc3-9075-fc1f10aa7e85\",\"type\":\"BoxAnnotation\"},{\"attributes\":{\"callback\":null},\"id\":\"c9a1307f-9ad1-4259-9d66-fa0bf0359675\",\"type\":\"DataRange1d\"},{\"attributes\":{},\"id\":\"7ce52b8c-dcbc-4f88-b9e9-bb1cf661c964\",\"type\":\"PanTool\"},{\"attributes\":{\"plot\":{\"id\":\"eb0f5c3b-a372-40c9-b513-36bbca4f453f\",\"subtype\":\"Figure\",\"type\":\"Plot\"},\"ticker\":{\"id\":\"c1ecd401-fbba-466b-a14b-59c65d979611\",\"type\":\"BasicTicker\"}},\"id\":\"917c5214-dab6-46bd-abbe-5e9568dedbf5\",\"type\":\"Grid\"},{\"attributes\":{},\"id\":\"e1d8faa0-5e1d-49d8-83c0-da7d31cd1e80\",\"type\":\"WheelZoomTool\"},{\"attributes\":{\"overlay\":{\"id\":\"2a9bc4d4-2587-4bc3-9075-fc1f10aa7e85\",\"type\":\"BoxAnnotation\"}},\"id\":\"0ce12574-f2f4-41b4-8338-25ecab1138ca\",\"type\":\"BoxZoomTool\"},{\"attributes\":{},\"id\":\"feee910a-07b1-440a-bf0a-2b8667f9cf7d\",\"type\":\"SaveTool\"},{\"attributes\":{},\"id\":\"0ae4cd31-04ff-4f1b-aee0-0f12577bc875\",\"type\":\"ResetTool\"},{\"attributes\":{},\"id\":\"0a28054d-680e-44c4-a792-d122933c84d8\",\"type\":\"HelpTool\"},{\"attributes\":{\"callback\":null,\"column_names\":[\"x\",\"y\"],\"data\":{\"x\":[0,1,2,3,4,5,6,7,8,9,10],\"y\":[10,9,8,7,6,5,4,3,2,1,0]}},\"id\":\"779ecc19-86f9-4da7-bf70-924e93b0c13a\",\"type\":\"ColumnDataSource\"},{\"attributes\":{\"plot\":null,\"text\":\"\"},\"id\":\"2ce53631-8910-4865-92ab-099041674425\",\"type\":\"Title\"},{\"attributes\":{},\"id\":\"99f4ed77-0036-42c4-9180-b6067bc45bc5\",\"type\":\"BasicTickFormatter\"},{\"attributes\":{},\"id\":\"e198377f-f21b-4779-b162-09c756190314\",\"type\":\"BasicTickFormatter\"},{\"attributes\":{},\"id\":\"e91982c4-bf07-42e9-9eea-5d49c24474c7\",\"type\":\"LinearScale\"},{\"attributes\":{\"height\":250,\"width\":250},\"id\":\"044a83e6-b7e7-4310-8042-6917dae6ab6b\",\"type\":\"Spacer\"},{\"attributes\":{\"fill_alpha\":{\"value\":0.1},\"fill_color\":{\"value\":\"#1f77b4\"},\"line_alpha\":{\"value\":0.1},\"line_color\":{\"value\":\"#1f77b4\"},\"size\":{\"units\":\"screen\",\"value\":10},\"x\":{\"field\":\"x\"},\"y\":{\"field\":\"y\"}},\"id\":\"8bae2f52-7c5c-4447-9e16-fb6f6d531ba0\",\"type\":\"Triangle\"},{\"attributes\":{\"source\":{\"id\":\"779ecc19-86f9-4da7-bf70-924e93b0c13a\",\"type\":\"ColumnDataSource\"}},\"id\":\"8a1c8f90-8b83-4ebb-b564-393ab0fd52c7\",\"type\":\"CDSView\"},{\"attributes\":{\"dimension\":1,\"plot\":{\"id\":\"74878990-19c5-4f92-b6b8-94791704d6d4\",\"subtype\":\"Figure\",\"type\":\"Plot\"},\"ticker\":{\"id\":\"4da14586-6775-44d1-a77d-11a66e21fcbd\",\"type\":\"BasicTicker\"}},\"id\":\"cb03c321-fc53-4099-9e83-ef9b4a2426a1\",\"type\":\"Grid\"},{\"attributes\":{\"active_drag\":\"auto\",\"active_inspect\":\"auto\",\"active_scroll\":\"auto\",\"active_tap\":\"auto\",\"tools\":[{\"id\":\"8312335c-e312-4b04-85a9-3e24244b0eb9\",\"type\":\"PanTool\"},{\"id\":\"0a89c8c2-049b-4aeb-82fc-6b7cc2d44743\",\"type\":\"WheelZoomTool\"},{\"id\":\"c453ab06-60a6-4999-bbfb-b217ee7bde07\",\"type\":\"BoxZoomTool\"},{\"id\":\"2ad74339-8d1e-4d5e-b304-9d88ff259f17\",\"type\":\"SaveTool\"},{\"id\":\"dc88298b-3c85-449d-9929-b85dd6390c17\",\"type\":\"ResetTool\"},{\"id\":\"07276fc3-d85f-4b4c-8a97-9134023ef8d1\",\"type\":\"HelpTool\"}]},\"id\":\"d577e26d-d922-4884-879b-3f8f9d065738\",\"type\":\"Toolbar\"},{\"attributes\":{\"formatter\":{\"id\":\"e198377f-f21b-4779-b162-09c756190314\",\"type\":\"BasicTickFormatter\"},\"plot\":{\"id\":\"eb0f5c3b-a372-40c9-b513-36bbca4f453f\",\"subtype\":\"Figure\",\"type\":\"Plot\"},\"ticker\":{\"id\":\"c1ecd401-fbba-466b-a14b-59c65d979611\",\"type\":\"BasicTicker\"}},\"id\":\"673d7b44-f071-4d0b-8f92-fe0aa8225225\",\"type\":\"LinearAxis\"},{\"attributes\":{},\"id\":\"bbe41d42-f2ca-46a7-9189-a3c2589b610e\",\"type\":\"LinearScale\"},{\"attributes\":{},\"id\":\"c1ecd401-fbba-466b-a14b-59c65d979611\",\"type\":\"BasicTicker\"},{\"attributes\":{\"formatter\":{\"id\":\"e520097b-111e-4fed-8862-7c05d92c5516\",\"type\":\"BasicTickFormatter\"},\"plot\":{\"id\":\"eb0f5c3b-a372-40c9-b513-36bbca4f453f\",\"subtype\":\"Figure\",\"type\":\"Plot\"},\"ticker\":{\"id\":\"238145b2-0e78-42ff-bf8f-112f4ebc3788\",\"type\":\"BasicTicker\"}},\"id\":\"9828baec-be2c-4f26-a285-cbfbede49c85\",\"type\":\"LinearAxis\"},{\"attributes\":{},\"id\":\"238145b2-0e78-42ff-bf8f-112f4ebc3788\",\"type\":\"BasicTicker\"},{\"attributes\":{\"dimension\":1,\"plot\":{\"id\":\"eb0f5c3b-a372-40c9-b513-36bbca4f453f\",\"subtype\":\"Figure\",\"type\":\"Plot\"},\"ticker\":{\"id\":\"238145b2-0e78-42ff-bf8f-112f4ebc3788\",\"type\":\"BasicTicker\"}},\"id\":\"2d59557e-46ed-4a0d-a4cc-6024ac01ed41\",\"type\":\"Grid\"},{\"attributes\":{\"data_source\":{\"id\":\"779ecc19-86f9-4da7-bf70-924e93b0c13a\",\"type\":\"ColumnDataSource\"},\"glyph\":{\"id\":\"2e47cef2-7d27-4f3b-b4e3-20371a391338\",\"type\":\"Triangle\"},\"hover_glyph\":null,\"muted_glyph\":null,\"nonselection_glyph\":{\"id\":\"8bae2f52-7c5c-4447-9e16-fb6f6d531ba0\",\"type\":\"Triangle\"},\"selection_glyph\":null,\"view\":{\"id\":\"8a1c8f90-8b83-4ebb-b564-393ab0fd52c7\",\"type\":\"CDSView\"}},\"id\":\"29d9ac18-62e1-4d28-adec-a49f25a789ca\",\"type\":\"GlyphRenderer\"},{\"attributes\":{\"fill_alpha\":{\"value\":0.5},\"fill_color\":{\"value\":\"firebrick\"},\"line_alpha\":{\"value\":0.5},\"line_color\":{\"value\":\"firebrick\"},\"size\":{\"units\":\"screen\",\"value\":10},\"x\":{\"field\":\"x\"},\"y\":{\"field\":\"y\"}},\"id\":\"2e47cef2-7d27-4f3b-b4e3-20371a391338\",\"type\":\"Triangle\"},{\"attributes\":{\"below\":[{\"id\":\"ad9664ee-05e3-4a25-829d-b2196438734f\",\"type\":\"LinearAxis\"}],\"left\":[{\"id\":\"66979308-e6b5-4080-b551-8e450c86e91b\",\"type\":\"LinearAxis\"}],\"plot_height\":250,\"plot_width\":250,\"renderers\":[{\"id\":\"ad9664ee-05e3-4a25-829d-b2196438734f\",\"type\":\"LinearAxis\"},{\"id\":\"c3b93cda-6cb1-4339-b101-271f13c53dcf\",\"type\":\"Grid\"},{\"id\":\"66979308-e6b5-4080-b551-8e450c86e91b\",\"type\":\"LinearAxis\"},{\"id\":\"fcde9711-26e0-4a77-8fc9-7d33ace7f5e6\",\"type\":\"Grid\"},{\"id\":\"a9615a97-3f76-4fd7-bda9-20745ed6e39b\",\"type\":\"BoxAnnotation\"},{\"id\":\"5b803bd7-5e55-44da-a4c5-51c137848687\",\"type\":\"GlyphRenderer\"}],\"title\":{\"id\":\"20edba66-fbba-4111-9319-973f34f73b5a\",\"type\":\"Title\"},\"toolbar\":{\"id\":\"9cf62adc-9024-457d-bb19-8a2c1e95b00f\",\"type\":\"Toolbar\"},\"toolbar_location\":null,\"x_range\":{\"id\":\"1236a48b-1e32-4bac-bb71-264053498fef\",\"type\":\"DataRange1d\"},\"x_scale\":{\"id\":\"64b362a8-7ec2-4e26-b88d-52ff2a78f196\",\"type\":\"LinearScale\"},\"y_range\":{\"id\":\"357990f1-05a2-4cae-ba7c-25ec2ba1d792\",\"type\":\"DataRange1d\"},\"y_scale\":{\"id\":\"bb41389d-d349-46de-85c1-8a3665978b9c\",\"type\":\"LinearScale\"}},\"id\":\"63783434-e9a1-47e9-8ab9-0b3f8f190dbb\",\"subtype\":\"Figure\",\"type\":\"Plot\"},{\"attributes\":{\"plot\":null,\"text\":\"\"},\"id\":\"96758157-aa2b-4aa5-88a4-c474574778c5\",\"type\":\"Title\"}],\"root_ids\":[\"18d32a73-c6f1-44e1-a848-d9e5e93d131f\"]},\"title\":\"Bokeh Application\",\"version\":\"0.12.10\"}};\n",
       "    var render_items = [{\"docid\":\"73ece2e1-29fa-49b4-b6b9-a008ab8fbb40\",\"elementid\":\"3f40cd55-5f65-45f1-94f0-d52181aa2c13\",\"modelid\":\"18d32a73-c6f1-44e1-a848-d9e5e93d131f\"}];\n",
       "\n",
       "    root.Bokeh.embed.embed_items(docs_json, render_items);\n",
       "  }\n",
       "\n",
       "  if (root.Bokeh !== undefined) {\n",
       "    embed_document(root);\n",
       "  } else {\n",
       "    var attempts = 0;\n",
       "    var timer = setInterval(function(root) {\n",
       "      if (root.Bokeh !== undefined) {\n",
       "        embed_document(root);\n",
       "        clearInterval(timer);\n",
       "      }\n",
       "      attempts++;\n",
       "      if (attempts > 100) {\n",
       "        console.log(\"Bokeh: ERROR: Unable to embed document because BokehJS library is missing\")\n",
       "        clearInterval(timer);\n",
       "      }\n",
       "    }, 10, root)\n",
       "  }\n",
       "})(window);"
      ],
      "application/vnd.bokehjs_exec.v0+json": ""
     },
     "metadata": {
      "application/vnd.bokehjs_exec.v0+json": {
       "id": "18d32a73-c6f1-44e1-a848-d9e5e93d131f"
      }
     },
     "output_type": "display_data"
    }
   ],
   "source": [
    "# put all the plots in a gridplot\n",
    "p=gridplot([[s1,s2],[s3,None]],toolbar_location=None)\n",
    "\n",
    "show(p)"
   ]
  },
  {
   "cell_type": "code",
   "execution_count": null,
   "metadata": {},
   "outputs": [],
   "source": []
  }
 ],
 "metadata": {
  "kernelspec": {
   "display_name": "Python [conda root]",
   "language": "python",
   "name": "conda-root-py"
  },
  "language_info": {
   "codemirror_mode": {
    "name": "ipython",
    "version": 3
   },
   "file_extension": ".py",
   "mimetype": "text/x-python",
   "name": "python",
   "nbconvert_exporter": "python",
   "pygments_lexer": "ipython3",
   "version": "3.6.3"
  }
 },
 "nbformat": 4,
 "nbformat_minor": 2
}
