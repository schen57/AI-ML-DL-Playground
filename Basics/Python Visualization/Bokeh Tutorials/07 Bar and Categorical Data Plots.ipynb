{
 "cells": [
  {
   "cell_type": "code",
   "execution_count": 1,
   "metadata": {},
   "outputs": [
    {
     "data": {
      "text/html": [
       "\n",
       "    <div class=\"bk-root\">\n",
       "        <a href=\"https://bokeh.pydata.org\" target=\"_blank\" class=\"bk-logo bk-logo-small bk-logo-notebook\"></a>\n",
       "        <span id=\"68537f35-e8eb-47e4-ac42-441e37890f74\">Loading BokehJS ...</span>\n",
       "    </div>"
      ]
     },
     "metadata": {},
     "output_type": "display_data"
    },
    {
     "data": {
      "application/javascript": [
       "\n",
       "(function(root) {\n",
       "  function now() {\n",
       "    return new Date();\n",
       "  }\n",
       "\n",
       "  var force = true;\n",
       "\n",
       "  if (typeof (root._bokeh_onload_callbacks) === \"undefined\" || force === true) {\n",
       "    root._bokeh_onload_callbacks = [];\n",
       "    root._bokeh_is_loading = undefined;\n",
       "  }\n",
       "\n",
       "  var JS_MIME_TYPE = 'application/javascript';\n",
       "  var HTML_MIME_TYPE = 'text/html';\n",
       "  var EXEC_MIME_TYPE = 'application/vnd.bokehjs_exec.v0+json';\n",
       "  var CLASS_NAME = 'output_bokeh rendered_html';\n",
       "\n",
       "  /**\n",
       "   * Render data to the DOM node\n",
       "   */\n",
       "  function render(props, node) {\n",
       "    var script = document.createElement(\"script\");\n",
       "    node.appendChild(script);\n",
       "  }\n",
       "\n",
       "  /**\n",
       "   * Handle when an output is cleared or removed\n",
       "   */\n",
       "  function handleClearOutput(event, handle) {\n",
       "    var cell = handle.cell;\n",
       "\n",
       "    var id = cell.output_area._bokeh_element_id;\n",
       "    var server_id = cell.output_area._bokeh_server_id;\n",
       "    // Clean up Bokeh references\n",
       "    if (id !== undefined) {\n",
       "      Bokeh.index[id].model.document.clear();\n",
       "      delete Bokeh.index[id];\n",
       "    }\n",
       "\n",
       "    if (server_id !== undefined) {\n",
       "      // Clean up Bokeh references\n",
       "      var cmd = \"from bokeh.io.state import curstate; print(curstate().uuid_to_server['\" + server_id + \"'].get_sessions()[0].document.roots[0]._id)\";\n",
       "      cell.notebook.kernel.execute(cmd, {\n",
       "        iopub: {\n",
       "          output: function(msg) {\n",
       "            var element_id = msg.content.text.trim();\n",
       "            Bokeh.index[element_id].model.document.clear();\n",
       "            delete Bokeh.index[element_id];\n",
       "          }\n",
       "        }\n",
       "      });\n",
       "      // Destroy server and session\n",
       "      var cmd = \"import bokeh.io.notebook as ion; ion.destroy_server('\" + server_id + \"')\";\n",
       "      cell.notebook.kernel.execute(cmd);\n",
       "    }\n",
       "  }\n",
       "\n",
       "  /**\n",
       "   * Handle when a new output is added\n",
       "   */\n",
       "  function handleAddOutput(event, handle) {\n",
       "    var output_area = handle.output_area;\n",
       "    var output = handle.output;\n",
       "\n",
       "    // limit handleAddOutput to display_data with EXEC_MIME_TYPE content only\n",
       "    if ((output.output_type != \"display_data\") || (!output.data.hasOwnProperty(EXEC_MIME_TYPE))) {\n",
       "      return\n",
       "    }\n",
       "\n",
       "    var toinsert = output_area.element.find(`.${CLASS_NAME.split(' ')[0]}`);\n",
       "\n",
       "    if (output.metadata[EXEC_MIME_TYPE][\"id\"] !== undefined) {\n",
       "      toinsert[0].firstChild.textContent = output.data[JS_MIME_TYPE];\n",
       "      // store reference to embed id on output_area\n",
       "      output_area._bokeh_element_id = output.metadata[EXEC_MIME_TYPE][\"id\"];\n",
       "    }\n",
       "    if (output.metadata[EXEC_MIME_TYPE][\"server_id\"] !== undefined) {\n",
       "      var bk_div = document.createElement(\"div\");\n",
       "      bk_div.innerHTML = output.data[HTML_MIME_TYPE];\n",
       "      var script_attrs = bk_div.children[0].attributes;\n",
       "      for (var i = 0; i < script_attrs.length; i++) {\n",
       "        toinsert[0].firstChild.setAttribute(script_attrs[i].name, script_attrs[i].value);\n",
       "      }\n",
       "      // store reference to server id on output_area\n",
       "      output_area._bokeh_server_id = output.metadata[EXEC_MIME_TYPE][\"server_id\"];\n",
       "    }\n",
       "  }\n",
       "\n",
       "  function register_renderer(events, OutputArea) {\n",
       "\n",
       "    function append_mime(data, metadata, element) {\n",
       "      // create a DOM node to render to\n",
       "      var toinsert = this.create_output_subarea(\n",
       "        metadata,\n",
       "        CLASS_NAME,\n",
       "        EXEC_MIME_TYPE\n",
       "      );\n",
       "      this.keyboard_manager.register_events(toinsert);\n",
       "      // Render to node\n",
       "      var props = {data: data, metadata: metadata[EXEC_MIME_TYPE]};\n",
       "      render(props, toinsert[0]);\n",
       "      element.append(toinsert);\n",
       "      return toinsert\n",
       "    }\n",
       "\n",
       "    /* Handle when an output is cleared or removed */\n",
       "    events.on('clear_output.CodeCell', handleClearOutput);\n",
       "    events.on('delete.Cell', handleClearOutput);\n",
       "\n",
       "    /* Handle when a new output is added */\n",
       "    events.on('output_added.OutputArea', handleAddOutput);\n",
       "\n",
       "    /**\n",
       "     * Register the mime type and append_mime function with output_area\n",
       "     */\n",
       "    OutputArea.prototype.register_mime_type(EXEC_MIME_TYPE, append_mime, {\n",
       "      /* Is output safe? */\n",
       "      safe: true,\n",
       "      /* Index of renderer in `output_area.display_order` */\n",
       "      index: 0\n",
       "    });\n",
       "  }\n",
       "\n",
       "  // register the mime type if in Jupyter Notebook environment and previously unregistered\n",
       "  if (root.Jupyter !== undefined) {\n",
       "    var events = require('base/js/events');\n",
       "    var OutputArea = require('notebook/js/outputarea').OutputArea;\n",
       "\n",
       "    if (OutputArea.prototype.mime_types().indexOf(EXEC_MIME_TYPE) == -1) {\n",
       "      register_renderer(events, OutputArea);\n",
       "    }\n",
       "  }\n",
       "\n",
       "  \n",
       "  if (typeof (root._bokeh_timeout) === \"undefined\" || force === true) {\n",
       "    root._bokeh_timeout = Date.now() + 5000;\n",
       "    root._bokeh_failed_load = false;\n",
       "  }\n",
       "\n",
       "  var NB_LOAD_WARNING = {'data': {'text/html':\n",
       "     \"<div style='background-color: #fdd'>\\n\"+\n",
       "     \"<p>\\n\"+\n",
       "     \"BokehJS does not appear to have successfully loaded. If loading BokehJS from CDN, this \\n\"+\n",
       "     \"may be due to a slow or bad network connection. Possible fixes:\\n\"+\n",
       "     \"</p>\\n\"+\n",
       "     \"<ul>\\n\"+\n",
       "     \"<li>re-rerun `output_notebook()` to attempt to load from CDN again, or</li>\\n\"+\n",
       "     \"<li>use INLINE resources instead, as so:</li>\\n\"+\n",
       "     \"</ul>\\n\"+\n",
       "     \"<code>\\n\"+\n",
       "     \"from bokeh.resources import INLINE\\n\"+\n",
       "     \"output_notebook(resources=INLINE)\\n\"+\n",
       "     \"</code>\\n\"+\n",
       "     \"</div>\"}};\n",
       "\n",
       "  function display_loaded() {\n",
       "    var el = document.getElementById(\"68537f35-e8eb-47e4-ac42-441e37890f74\");\n",
       "    if (el != null) {\n",
       "      el.textContent = \"BokehJS is loading...\";\n",
       "    }\n",
       "    if (root.Bokeh !== undefined) {\n",
       "      if (el != null) {\n",
       "        el.textContent = \"BokehJS \" + root.Bokeh.version + \" successfully loaded.\";\n",
       "      }\n",
       "    } else if (Date.now() < root._bokeh_timeout) {\n",
       "      setTimeout(display_loaded, 100)\n",
       "    }\n",
       "  }\n",
       "\n",
       "\n",
       "  function run_callbacks() {\n",
       "    try {\n",
       "      root._bokeh_onload_callbacks.forEach(function(callback) { callback() });\n",
       "    }\n",
       "    finally {\n",
       "      delete root._bokeh_onload_callbacks\n",
       "    }\n",
       "    console.info(\"Bokeh: all callbacks have finished\");\n",
       "  }\n",
       "\n",
       "  function load_libs(js_urls, callback) {\n",
       "    root._bokeh_onload_callbacks.push(callback);\n",
       "    if (root._bokeh_is_loading > 0) {\n",
       "      console.log(\"Bokeh: BokehJS is being loaded, scheduling callback at\", now());\n",
       "      return null;\n",
       "    }\n",
       "    if (js_urls == null || js_urls.length === 0) {\n",
       "      run_callbacks();\n",
       "      return null;\n",
       "    }\n",
       "    console.log(\"Bokeh: BokehJS not loaded, scheduling load and callback at\", now());\n",
       "    root._bokeh_is_loading = js_urls.length;\n",
       "    for (var i = 0; i < js_urls.length; i++) {\n",
       "      var url = js_urls[i];\n",
       "      var s = document.createElement('script');\n",
       "      s.src = url;\n",
       "      s.async = false;\n",
       "      s.onreadystatechange = s.onload = function() {\n",
       "        root._bokeh_is_loading--;\n",
       "        if (root._bokeh_is_loading === 0) {\n",
       "          console.log(\"Bokeh: all BokehJS libraries loaded\");\n",
       "          run_callbacks()\n",
       "        }\n",
       "      };\n",
       "      s.onerror = function() {\n",
       "        console.warn(\"failed to load library \" + url);\n",
       "      };\n",
       "      console.log(\"Bokeh: injecting script tag for BokehJS library: \", url);\n",
       "      document.getElementsByTagName(\"head\")[0].appendChild(s);\n",
       "    }\n",
       "  };var element = document.getElementById(\"68537f35-e8eb-47e4-ac42-441e37890f74\");\n",
       "  if (element == null) {\n",
       "    console.log(\"Bokeh: ERROR: autoload.js configured with elementid '68537f35-e8eb-47e4-ac42-441e37890f74' but no matching script tag was found. \")\n",
       "    return false;\n",
       "  }\n",
       "\n",
       "  var js_urls = [\"https://cdn.pydata.org/bokeh/release/bokeh-0.12.10.min.js\", \"https://cdn.pydata.org/bokeh/release/bokeh-widgets-0.12.10.min.js\", \"https://cdn.pydata.org/bokeh/release/bokeh-tables-0.12.10.min.js\", \"https://cdn.pydata.org/bokeh/release/bokeh-gl-0.12.10.min.js\"];\n",
       "\n",
       "  var inline_js = [\n",
       "    function(Bokeh) {\n",
       "      Bokeh.set_log_level(\"info\");\n",
       "    },\n",
       "    \n",
       "    function(Bokeh) {\n",
       "      \n",
       "    },\n",
       "    function(Bokeh) {\n",
       "      console.log(\"Bokeh: injecting CSS: https://cdn.pydata.org/bokeh/release/bokeh-0.12.10.min.css\");\n",
       "      Bokeh.embed.inject_css(\"https://cdn.pydata.org/bokeh/release/bokeh-0.12.10.min.css\");\n",
       "      console.log(\"Bokeh: injecting CSS: https://cdn.pydata.org/bokeh/release/bokeh-widgets-0.12.10.min.css\");\n",
       "      Bokeh.embed.inject_css(\"https://cdn.pydata.org/bokeh/release/bokeh-widgets-0.12.10.min.css\");\n",
       "      console.log(\"Bokeh: injecting CSS: https://cdn.pydata.org/bokeh/release/bokeh-tables-0.12.10.min.css\");\n",
       "      Bokeh.embed.inject_css(\"https://cdn.pydata.org/bokeh/release/bokeh-tables-0.12.10.min.css\");\n",
       "    }\n",
       "  ];\n",
       "\n",
       "  function run_inline_js() {\n",
       "    \n",
       "    if ((root.Bokeh !== undefined) || (force === true)) {\n",
       "      for (var i = 0; i < inline_js.length; i++) {\n",
       "        inline_js[i].call(root, root.Bokeh);\n",
       "      }if (force === true) {\n",
       "        display_loaded();\n",
       "      }} else if (Date.now() < root._bokeh_timeout) {\n",
       "      setTimeout(run_inline_js, 100);\n",
       "    } else if (!root._bokeh_failed_load) {\n",
       "      console.log(\"Bokeh: BokehJS failed to load within specified timeout.\");\n",
       "      root._bokeh_failed_load = true;\n",
       "    } else if (force !== true) {\n",
       "      var cell = $(document.getElementById(\"68537f35-e8eb-47e4-ac42-441e37890f74\")).parents('.cell').data().cell;\n",
       "      cell.output_area.append_execute_result(NB_LOAD_WARNING)\n",
       "    }\n",
       "\n",
       "  }\n",
       "\n",
       "  if (root._bokeh_is_loading === 0) {\n",
       "    console.log(\"Bokeh: BokehJS loaded, going straight to plotting\");\n",
       "    run_inline_js();\n",
       "  } else {\n",
       "    load_libs(js_urls, function() {\n",
       "      console.log(\"Bokeh: BokehJS plotting callback run at\", now());\n",
       "      run_inline_js();\n",
       "    });\n",
       "  }\n",
       "}(window));"
      ],
      "application/vnd.bokehjs_load.v0+json": "\n(function(root) {\n  function now() {\n    return new Date();\n  }\n\n  var force = true;\n\n  if (typeof (root._bokeh_onload_callbacks) === \"undefined\" || force === true) {\n    root._bokeh_onload_callbacks = [];\n    root._bokeh_is_loading = undefined;\n  }\n\n  \n\n  \n  if (typeof (root._bokeh_timeout) === \"undefined\" || force === true) {\n    root._bokeh_timeout = Date.now() + 5000;\n    root._bokeh_failed_load = false;\n  }\n\n  var NB_LOAD_WARNING = {'data': {'text/html':\n     \"<div style='background-color: #fdd'>\\n\"+\n     \"<p>\\n\"+\n     \"BokehJS does not appear to have successfully loaded. If loading BokehJS from CDN, this \\n\"+\n     \"may be due to a slow or bad network connection. Possible fixes:\\n\"+\n     \"</p>\\n\"+\n     \"<ul>\\n\"+\n     \"<li>re-rerun `output_notebook()` to attempt to load from CDN again, or</li>\\n\"+\n     \"<li>use INLINE resources instead, as so:</li>\\n\"+\n     \"</ul>\\n\"+\n     \"<code>\\n\"+\n     \"from bokeh.resources import INLINE\\n\"+\n     \"output_notebook(resources=INLINE)\\n\"+\n     \"</code>\\n\"+\n     \"</div>\"}};\n\n  function display_loaded() {\n    var el = document.getElementById(\"68537f35-e8eb-47e4-ac42-441e37890f74\");\n    if (el != null) {\n      el.textContent = \"BokehJS is loading...\";\n    }\n    if (root.Bokeh !== undefined) {\n      if (el != null) {\n        el.textContent = \"BokehJS \" + root.Bokeh.version + \" successfully loaded.\";\n      }\n    } else if (Date.now() < root._bokeh_timeout) {\n      setTimeout(display_loaded, 100)\n    }\n  }\n\n\n  function run_callbacks() {\n    try {\n      root._bokeh_onload_callbacks.forEach(function(callback) { callback() });\n    }\n    finally {\n      delete root._bokeh_onload_callbacks\n    }\n    console.info(\"Bokeh: all callbacks have finished\");\n  }\n\n  function load_libs(js_urls, callback) {\n    root._bokeh_onload_callbacks.push(callback);\n    if (root._bokeh_is_loading > 0) {\n      console.log(\"Bokeh: BokehJS is being loaded, scheduling callback at\", now());\n      return null;\n    }\n    if (js_urls == null || js_urls.length === 0) {\n      run_callbacks();\n      return null;\n    }\n    console.log(\"Bokeh: BokehJS not loaded, scheduling load and callback at\", now());\n    root._bokeh_is_loading = js_urls.length;\n    for (var i = 0; i < js_urls.length; i++) {\n      var url = js_urls[i];\n      var s = document.createElement('script');\n      s.src = url;\n      s.async = false;\n      s.onreadystatechange = s.onload = function() {\n        root._bokeh_is_loading--;\n        if (root._bokeh_is_loading === 0) {\n          console.log(\"Bokeh: all BokehJS libraries loaded\");\n          run_callbacks()\n        }\n      };\n      s.onerror = function() {\n        console.warn(\"failed to load library \" + url);\n      };\n      console.log(\"Bokeh: injecting script tag for BokehJS library: \", url);\n      document.getElementsByTagName(\"head\")[0].appendChild(s);\n    }\n  };var element = document.getElementById(\"68537f35-e8eb-47e4-ac42-441e37890f74\");\n  if (element == null) {\n    console.log(\"Bokeh: ERROR: autoload.js configured with elementid '68537f35-e8eb-47e4-ac42-441e37890f74' but no matching script tag was found. \")\n    return false;\n  }\n\n  var js_urls = [\"https://cdn.pydata.org/bokeh/release/bokeh-0.12.10.min.js\", \"https://cdn.pydata.org/bokeh/release/bokeh-widgets-0.12.10.min.js\", \"https://cdn.pydata.org/bokeh/release/bokeh-tables-0.12.10.min.js\", \"https://cdn.pydata.org/bokeh/release/bokeh-gl-0.12.10.min.js\"];\n\n  var inline_js = [\n    function(Bokeh) {\n      Bokeh.set_log_level(\"info\");\n    },\n    \n    function(Bokeh) {\n      \n    },\n    function(Bokeh) {\n      console.log(\"Bokeh: injecting CSS: https://cdn.pydata.org/bokeh/release/bokeh-0.12.10.min.css\");\n      Bokeh.embed.inject_css(\"https://cdn.pydata.org/bokeh/release/bokeh-0.12.10.min.css\");\n      console.log(\"Bokeh: injecting CSS: https://cdn.pydata.org/bokeh/release/bokeh-widgets-0.12.10.min.css\");\n      Bokeh.embed.inject_css(\"https://cdn.pydata.org/bokeh/release/bokeh-widgets-0.12.10.min.css\");\n      console.log(\"Bokeh: injecting CSS: https://cdn.pydata.org/bokeh/release/bokeh-tables-0.12.10.min.css\");\n      Bokeh.embed.inject_css(\"https://cdn.pydata.org/bokeh/release/bokeh-tables-0.12.10.min.css\");\n    }\n  ];\n\n  function run_inline_js() {\n    \n    if ((root.Bokeh !== undefined) || (force === true)) {\n      for (var i = 0; i < inline_js.length; i++) {\n        inline_js[i].call(root, root.Bokeh);\n      }if (force === true) {\n        display_loaded();\n      }} else if (Date.now() < root._bokeh_timeout) {\n      setTimeout(run_inline_js, 100);\n    } else if (!root._bokeh_failed_load) {\n      console.log(\"Bokeh: BokehJS failed to load within specified timeout.\");\n      root._bokeh_failed_load = true;\n    } else if (force !== true) {\n      var cell = $(document.getElementById(\"68537f35-e8eb-47e4-ac42-441e37890f74\")).parents('.cell').data().cell;\n      cell.output_area.append_execute_result(NB_LOAD_WARNING)\n    }\n\n  }\n\n  if (root._bokeh_is_loading === 0) {\n    console.log(\"Bokeh: BokehJS loaded, going straight to plotting\");\n    run_inline_js();\n  } else {\n    load_libs(js_urls, function() {\n      console.log(\"Bokeh: BokehJS plotting callback run at\", now());\n      run_inline_js();\n    });\n  }\n}(window));"
     },
     "metadata": {},
     "output_type": "display_data"
    }
   ],
   "source": [
    "from bokeh.io import show,output_notebook\n",
    "from bokeh.plotting import figure \n",
    "\n",
    "output_notebook()\n",
    "\n"
   ]
  },
  {
   "cell_type": "markdown",
   "metadata": {},
   "source": [
    "# Basic Bar Charts\n",
    "Bar charts are a common and important type of plot. Bokeh makes it simple to create all sorts of stacked or nested bar charts, and to deal with categorical data in general.\n",
    "\n",
    "The example below shows a simple bar chart created using the vbar method for drawing vertical bars. (There is a corresponding hbar for horizontal bars.) We also set a few plot properties to make the chart look nicer, see chapter Styling and Theming for information about visual properties."
   ]
  },
  {
   "cell_type": "code",
   "execution_count": 6,
   "metadata": {},
   "outputs": [
    {
     "data": {
      "text/html": [
       "\n",
       "<div class=\"bk-root\">\n",
       "    <div class=\"bk-plotdiv\" id=\"e608f370-ba09-4e5a-af03-0722a3d0d970\"></div>\n",
       "</div>"
      ]
     },
     "metadata": {},
     "output_type": "display_data"
    },
    {
     "data": {
      "application/javascript": [
       "(function(root) {\n",
       "  function embed_document(root) {\n",
       "    var docs_json = {\"13c0f9e9-cf1d-4031-bd69-b8766dc37faf\":{\"roots\":{\"references\":[{\"attributes\":{},\"id\":\"ec98c3f7-b3f8-462a-a386-3719ac48be6d\",\"type\":\"LinearScale\"},{\"attributes\":{\"overlay\":{\"id\":\"3646d1fa-6644-4977-afae-2a28bd43a71f\",\"type\":\"BoxAnnotation\"}},\"id\":\"395ae798-e5f6-44a0-a8dd-b1b04a7fca3d\",\"type\":\"BoxZoomTool\"},{\"attributes\":{},\"id\":\"21a59468-33d3-407f-8fc8-b942be2761a8\",\"type\":\"SaveTool\"},{\"attributes\":{},\"id\":\"62bb347f-e34e-4316-8703-cf80cd7a43d4\",\"type\":\"BasicTickFormatter\"},{\"attributes\":{},\"id\":\"e4200336-f789-4f6d-86cc-544746bd2cc3\",\"type\":\"ResetTool\"},{\"attributes\":{},\"id\":\"db67b8d0-5478-4f71-b6d6-a93ada1a596c\",\"type\":\"HelpTool\"},{\"attributes\":{},\"id\":\"3bddffbf-2fef-4c0e-9011-859c2b78912a\",\"type\":\"CategoricalScale\"},{\"attributes\":{},\"id\":\"57f438fb-8123-4045-a292-c673f5763fac\",\"type\":\"CategoricalTickFormatter\"},{\"attributes\":{\"grid_line_color\":{\"value\":null},\"plot\":{\"id\":\"8ba2e8f9-d88e-42c5-a145-92e8f1604c91\",\"subtype\":\"Figure\",\"type\":\"Plot\"},\"ticker\":{\"id\":\"2e36b3f7-3116-44c5-8f5a-2f9d943a5d25\",\"type\":\"CategoricalTicker\"}},\"id\":\"cf2722c6-9692-43e7-a21c-4c8c2569840e\",\"type\":\"Grid\"},{\"attributes\":{\"source\":{\"id\":\"6536abb8-b33d-4de3-b48d-235d5f1243e7\",\"type\":\"ColumnDataSource\"}},\"id\":\"174f35e9-5d15-446a-8e80-422834c4d83b\",\"type\":\"CDSView\"},{\"attributes\":{\"formatter\":{\"id\":\"62bb347f-e34e-4316-8703-cf80cd7a43d4\",\"type\":\"BasicTickFormatter\"},\"plot\":{\"id\":\"8ba2e8f9-d88e-42c5-a145-92e8f1604c91\",\"subtype\":\"Figure\",\"type\":\"Plot\"},\"ticker\":{\"id\":\"1358c4e3-7521-4818-9c63-31bd24d5caef\",\"type\":\"BasicTicker\"}},\"id\":\"0193f92a-107f-4f69-95bd-c172c0610ffb\",\"type\":\"LinearAxis\"},{\"attributes\":{\"callback\":null,\"start\":0},\"id\":\"28530c63-1809-447d-b729-547afb5d3149\",\"type\":\"DataRange1d\"},{\"attributes\":{\"formatter\":{\"id\":\"57f438fb-8123-4045-a292-c673f5763fac\",\"type\":\"CategoricalTickFormatter\"},\"plot\":{\"id\":\"8ba2e8f9-d88e-42c5-a145-92e8f1604c91\",\"subtype\":\"Figure\",\"type\":\"Plot\"},\"ticker\":{\"id\":\"2e36b3f7-3116-44c5-8f5a-2f9d943a5d25\",\"type\":\"CategoricalTicker\"}},\"id\":\"e4cb3480-da84-46ce-bc78-77e3b699cc79\",\"type\":\"CategoricalAxis\"},{\"attributes\":{},\"id\":\"2e36b3f7-3116-44c5-8f5a-2f9d943a5d25\",\"type\":\"CategoricalTicker\"},{\"attributes\":{\"active_drag\":\"auto\",\"active_inspect\":\"auto\",\"active_scroll\":\"auto\",\"active_tap\":\"auto\",\"tools\":[{\"id\":\"a6334456-d417-4846-961f-931c83b3cb3c\",\"type\":\"PanTool\"},{\"id\":\"0501efba-d168-4506-9a3e-67d15a6834be\",\"type\":\"WheelZoomTool\"},{\"id\":\"395ae798-e5f6-44a0-a8dd-b1b04a7fca3d\",\"type\":\"BoxZoomTool\"},{\"id\":\"21a59468-33d3-407f-8fc8-b942be2761a8\",\"type\":\"SaveTool\"},{\"id\":\"e4200336-f789-4f6d-86cc-544746bd2cc3\",\"type\":\"ResetTool\"},{\"id\":\"db67b8d0-5478-4f71-b6d6-a93ada1a596c\",\"type\":\"HelpTool\"}]},\"id\":\"555e231c-2355-446f-8f0b-4a23a9070846\",\"type\":\"Toolbar\"},{\"attributes\":{},\"id\":\"1358c4e3-7521-4818-9c63-31bd24d5caef\",\"type\":\"BasicTicker\"},{\"attributes\":{\"callback\":null,\"factors\":[\"Apples\",\"Pears\",\"Nectarines\",\"Plums\",\"Grapes\",\"Strawberries\"]},\"id\":\"04da2951-aad1-473b-8bf1-7f0e7db32f30\",\"type\":\"FactorRange\"},{\"attributes\":{\"dimension\":1,\"plot\":{\"id\":\"8ba2e8f9-d88e-42c5-a145-92e8f1604c91\",\"subtype\":\"Figure\",\"type\":\"Plot\"},\"ticker\":{\"id\":\"1358c4e3-7521-4818-9c63-31bd24d5caef\",\"type\":\"BasicTicker\"}},\"id\":\"b33a7ce6-b77e-4e08-ab9f-ddc8b90b3707\",\"type\":\"Grid\"},{\"attributes\":{\"data_source\":{\"id\":\"6536abb8-b33d-4de3-b48d-235d5f1243e7\",\"type\":\"ColumnDataSource\"},\"glyph\":{\"id\":\"5554fbee-f521-4ae3-932d-e82f5472b2ee\",\"type\":\"VBar\"},\"hover_glyph\":null,\"muted_glyph\":null,\"nonselection_glyph\":{\"id\":\"4f6be159-cfbf-4616-8365-75236b1b2f10\",\"type\":\"VBar\"},\"selection_glyph\":null,\"view\":{\"id\":\"174f35e9-5d15-446a-8e80-422834c4d83b\",\"type\":\"CDSView\"}},\"id\":\"356a0993-9b60-46ba-9dd9-cef10e5aef75\",\"type\":\"GlyphRenderer\"},{\"attributes\":{\"fill_alpha\":{\"value\":0.1},\"fill_color\":{\"value\":\"#1f77b4\"},\"line_alpha\":{\"value\":0.1},\"line_color\":{\"value\":\"#1f77b4\"},\"top\":{\"field\":\"top\"},\"width\":{\"value\":0.9},\"x\":{\"field\":\"x\"}},\"id\":\"4f6be159-cfbf-4616-8365-75236b1b2f10\",\"type\":\"VBar\"},{\"attributes\":{\"fill_color\":{\"value\":\"#1f77b4\"},\"line_color\":{\"value\":\"#1f77b4\"},\"top\":{\"field\":\"top\"},\"width\":{\"value\":0.9},\"x\":{\"field\":\"x\"}},\"id\":\"5554fbee-f521-4ae3-932d-e82f5472b2ee\",\"type\":\"VBar\"},{\"attributes\":{\"bottom_units\":\"screen\",\"fill_alpha\":{\"value\":0.5},\"fill_color\":{\"value\":\"lightgrey\"},\"left_units\":\"screen\",\"level\":\"overlay\",\"line_alpha\":{\"value\":1.0},\"line_color\":{\"value\":\"black\"},\"line_dash\":[4,4],\"line_width\":{\"value\":2},\"plot\":null,\"render_mode\":\"css\",\"right_units\":\"screen\",\"top_units\":\"screen\"},\"id\":\"3646d1fa-6644-4977-afae-2a28bd43a71f\",\"type\":\"BoxAnnotation\"},{\"attributes\":{},\"id\":\"a6334456-d417-4846-961f-931c83b3cb3c\",\"type\":\"PanTool\"},{\"attributes\":{\"callback\":null,\"column_names\":[\"x\",\"top\"],\"data\":{\"top\":[5,3,4,2,4,6],\"x\":[\"Apples\",\"Pears\",\"Nectarines\",\"Plums\",\"Grapes\",\"Strawberries\"]}},\"id\":\"6536abb8-b33d-4de3-b48d-235d5f1243e7\",\"type\":\"ColumnDataSource\"},{\"attributes\":{\"below\":[{\"id\":\"e4cb3480-da84-46ce-bc78-77e3b699cc79\",\"type\":\"CategoricalAxis\"}],\"left\":[{\"id\":\"0193f92a-107f-4f69-95bd-c172c0610ffb\",\"type\":\"LinearAxis\"}],\"plot_height\":250,\"renderers\":[{\"id\":\"e4cb3480-da84-46ce-bc78-77e3b699cc79\",\"type\":\"CategoricalAxis\"},{\"id\":\"cf2722c6-9692-43e7-a21c-4c8c2569840e\",\"type\":\"Grid\"},{\"id\":\"0193f92a-107f-4f69-95bd-c172c0610ffb\",\"type\":\"LinearAxis\"},{\"id\":\"b33a7ce6-b77e-4e08-ab9f-ddc8b90b3707\",\"type\":\"Grid\"},{\"id\":\"3646d1fa-6644-4977-afae-2a28bd43a71f\",\"type\":\"BoxAnnotation\"},{\"id\":\"356a0993-9b60-46ba-9dd9-cef10e5aef75\",\"type\":\"GlyphRenderer\"}],\"title\":{\"id\":\"ab82b59b-494c-4b30-bc68-ceb42fa2b1f6\",\"type\":\"Title\"},\"toolbar\":{\"id\":\"555e231c-2355-446f-8f0b-4a23a9070846\",\"type\":\"Toolbar\"},\"x_range\":{\"id\":\"04da2951-aad1-473b-8bf1-7f0e7db32f30\",\"type\":\"FactorRange\"},\"x_scale\":{\"id\":\"3bddffbf-2fef-4c0e-9011-859c2b78912a\",\"type\":\"CategoricalScale\"},\"y_range\":{\"id\":\"28530c63-1809-447d-b729-547afb5d3149\",\"type\":\"DataRange1d\"},\"y_scale\":{\"id\":\"ec98c3f7-b3f8-462a-a386-3719ac48be6d\",\"type\":\"LinearScale\"}},\"id\":\"8ba2e8f9-d88e-42c5-a145-92e8f1604c91\",\"subtype\":\"Figure\",\"type\":\"Plot\"},{\"attributes\":{},\"id\":\"0501efba-d168-4506-9a3e-67d15a6834be\",\"type\":\"WheelZoomTool\"},{\"attributes\":{\"plot\":null,\"text\":\"Fruit Counts\"},\"id\":\"ab82b59b-494c-4b30-bc68-ceb42fa2b1f6\",\"type\":\"Title\"}],\"root_ids\":[\"8ba2e8f9-d88e-42c5-a145-92e8f1604c91\"]},\"title\":\"Bokeh Application\",\"version\":\"0.12.10\"}};\n",
       "    var render_items = [{\"docid\":\"13c0f9e9-cf1d-4031-bd69-b8766dc37faf\",\"elementid\":\"e608f370-ba09-4e5a-af03-0722a3d0d970\",\"modelid\":\"8ba2e8f9-d88e-42c5-a145-92e8f1604c91\"}];\n",
       "\n",
       "    root.Bokeh.embed.embed_items(docs_json, render_items);\n",
       "  }\n",
       "\n",
       "  if (root.Bokeh !== undefined) {\n",
       "    embed_document(root);\n",
       "  } else {\n",
       "    var attempts = 0;\n",
       "    var timer = setInterval(function(root) {\n",
       "      if (root.Bokeh !== undefined) {\n",
       "        embed_document(root);\n",
       "        clearInterval(timer);\n",
       "      }\n",
       "      attempts++;\n",
       "      if (attempts > 100) {\n",
       "        console.log(\"Bokeh: ERROR: Unable to embed document because BokehJS library is missing\")\n",
       "        clearInterval(timer);\n",
       "      }\n",
       "    }, 10, root)\n",
       "  }\n",
       "})(window);"
      ],
      "application/vnd.bokehjs_exec.v0+json": ""
     },
     "metadata": {
      "application/vnd.bokehjs_exec.v0+json": {
       "id": "8ba2e8f9-d88e-42c5-a145-92e8f1604c91"
      }
     },
     "output_type": "display_data"
    }
   ],
   "source": [
    "# Here is a list of the categorical values (or factors)\n",
    "fruits = ['Apples', 'Pears', 'Nectarines', 'Plums', 'Grapes', 'Strawberries']\n",
    "\n",
    "#Set the x_range to the list of categories above\n",
    "p=figure(x_range=fruits, plot_height=250, title=\"Fruit Counts\")\n",
    "\n",
    "#Categorical values used as coordinates \n",
    "p.vbar(x=fruits,top=[5,3,4,2,4,6],width=0.9)\n",
    "\n",
    "#Set some properties to make the plot look better \n",
    "\n",
    "p.xgrid.grid_line_color=None\n",
    "p.y_range.start=0\n",
    "\n",
    "show(p)"
   ]
  },
  {
   "cell_type": "markdown",
   "metadata": {},
   "source": [
    "When we want to create a plot with a categorical range, we pass the ordered list of categorical values to figure, e.g. x_range=['a', 'b', 'c']. In the plot above, we passed the list of fruits as x_range, and we can see those refelected as the x-axis.\n",
    "\n",
    "The vbar glyph method takes an x location for the center of the bar, a top and bottom (which defaults to 0), and a width. When we are using a categorical range as we are here, each category implicitly has width of 1, so setting width=0.9 as we have done here makes the bars shrink away from each other. (Another option would be to add some padding to the range.)"
   ]
  },
  {
   "cell_type": "code",
   "execution_count": 10,
   "metadata": {},
   "outputs": [
    {
     "data": {
      "text/html": [
       "<div>\n",
       "<style scoped>\n",
       "    .dataframe tbody tr th:only-of-type {\n",
       "        vertical-align: middle;\n",
       "    }\n",
       "\n",
       "    .dataframe tbody tr th {\n",
       "        vertical-align: top;\n",
       "    }\n",
       "\n",
       "    .dataframe thead th {\n",
       "        text-align: right;\n",
       "    }\n",
       "</style>\n",
       "<table border=\"1\" class=\"dataframe\">\n",
       "  <thead>\n",
       "    <tr style=\"text-align: right;\">\n",
       "      <th></th>\n",
       "      <th>sepal_length</th>\n",
       "      <th>sepal_width</th>\n",
       "      <th>petal_length</th>\n",
       "      <th>petal_width</th>\n",
       "      <th>species</th>\n",
       "    </tr>\n",
       "  </thead>\n",
       "  <tbody>\n",
       "    <tr>\n",
       "      <th>0</th>\n",
       "      <td>5.1</td>\n",
       "      <td>3.5</td>\n",
       "      <td>1.4</td>\n",
       "      <td>0.2</td>\n",
       "      <td>setosa</td>\n",
       "    </tr>\n",
       "    <tr>\n",
       "      <th>1</th>\n",
       "      <td>4.9</td>\n",
       "      <td>3.0</td>\n",
       "      <td>1.4</td>\n",
       "      <td>0.2</td>\n",
       "      <td>setosa</td>\n",
       "    </tr>\n",
       "    <tr>\n",
       "      <th>2</th>\n",
       "      <td>4.7</td>\n",
       "      <td>3.2</td>\n",
       "      <td>1.3</td>\n",
       "      <td>0.2</td>\n",
       "      <td>setosa</td>\n",
       "    </tr>\n",
       "    <tr>\n",
       "      <th>3</th>\n",
       "      <td>4.6</td>\n",
       "      <td>3.1</td>\n",
       "      <td>1.5</td>\n",
       "      <td>0.2</td>\n",
       "      <td>setosa</td>\n",
       "    </tr>\n",
       "    <tr>\n",
       "      <th>4</th>\n",
       "      <td>5.0</td>\n",
       "      <td>3.6</td>\n",
       "      <td>1.4</td>\n",
       "      <td>0.2</td>\n",
       "      <td>setosa</td>\n",
       "    </tr>\n",
       "  </tbody>\n",
       "</table>\n",
       "</div>"
      ],
      "text/plain": [
       "   sepal_length  sepal_width  petal_length  petal_width species\n",
       "0           5.1          3.5           1.4          0.2  setosa\n",
       "1           4.9          3.0           1.4          0.2  setosa\n",
       "2           4.7          3.2           1.3          0.2  setosa\n",
       "3           4.6          3.1           1.5          0.2  setosa\n",
       "4           5.0          3.6           1.4          0.2  setosa"
      ]
     },
     "execution_count": 10,
     "metadata": {},
     "output_type": "execute_result"
    }
   ],
   "source": [
    "from bokeh.sampledata.iris import flowers as data\n",
    "data.head()"
   ]
  },
  {
   "cell_type": "code",
   "execution_count": 12,
   "metadata": {},
   "outputs": [],
   "source": [
    "import pandas as pd\n",
    "df=data.groupby(\"species\").mean()"
   ]
  },
  {
   "cell_type": "code",
   "execution_count": 25,
   "metadata": {},
   "outputs": [
    {
     "data": {
      "text/html": [
       "<div>\n",
       "<style scoped>\n",
       "    .dataframe tbody tr th:only-of-type {\n",
       "        vertical-align: middle;\n",
       "    }\n",
       "\n",
       "    .dataframe tbody tr th {\n",
       "        vertical-align: top;\n",
       "    }\n",
       "\n",
       "    .dataframe thead th {\n",
       "        text-align: right;\n",
       "    }\n",
       "</style>\n",
       "<table border=\"1\" class=\"dataframe\">\n",
       "  <thead>\n",
       "    <tr style=\"text-align: right;\">\n",
       "      <th>species</th>\n",
       "      <th>setosa</th>\n",
       "      <th>versicolor</th>\n",
       "      <th>virginica</th>\n",
       "    </tr>\n",
       "  </thead>\n",
       "  <tbody>\n",
       "    <tr>\n",
       "      <th>sepal_length</th>\n",
       "      <td>5.006</td>\n",
       "      <td>5.936</td>\n",
       "      <td>6.588</td>\n",
       "    </tr>\n",
       "    <tr>\n",
       "      <th>sepal_width</th>\n",
       "      <td>3.428</td>\n",
       "      <td>2.770</td>\n",
       "      <td>2.974</td>\n",
       "    </tr>\n",
       "    <tr>\n",
       "      <th>petal_length</th>\n",
       "      <td>1.462</td>\n",
       "      <td>4.260</td>\n",
       "      <td>5.552</td>\n",
       "    </tr>\n",
       "    <tr>\n",
       "      <th>petal_width</th>\n",
       "      <td>0.246</td>\n",
       "      <td>1.326</td>\n",
       "      <td>2.026</td>\n",
       "    </tr>\n",
       "  </tbody>\n",
       "</table>\n",
       "</div>"
      ],
      "text/plain": [
       "species       setosa  versicolor  virginica\n",
       "sepal_length   5.006       5.936      6.588\n",
       "sepal_width    3.428       2.770      2.974\n",
       "petal_length   1.462       4.260      5.552\n",
       "petal_width    0.246       1.326      2.026"
      ]
     },
     "execution_count": 25,
     "metadata": {},
     "output_type": "execute_result"
    }
   ],
   "source": [
    "import numpy as np\n",
    "df=df.T.copy() #making a hard copy of the transposed \n",
    "df"
   ]
  },
  {
   "cell_type": "code",
   "execution_count": 34,
   "metadata": {},
   "outputs": [],
   "source": [
    "species=list(df.columns)\n",
    "top=list(df.iloc[2,:])"
   ]
  },
  {
   "cell_type": "code",
   "execution_count": 39,
   "metadata": {},
   "outputs": [
    {
     "data": {
      "text/html": [
       "\n",
       "<div class=\"bk-root\">\n",
       "    <div class=\"bk-plotdiv\" id=\"e26aa8d2-93d0-4243-8cf4-03a76e70c61b\"></div>\n",
       "</div>"
      ]
     },
     "metadata": {},
     "output_type": "display_data"
    },
    {
     "data": {
      "application/javascript": [
       "(function(root) {\n",
       "  function embed_document(root) {\n",
       "    var docs_json = {\"e57ec5ef-cc01-44d3-88c1-fd657f13fa08\":{\"roots\":{\"references\":[{\"attributes\":{},\"id\":\"37401799-254d-4129-a004-4a860ca97f46\",\"type\":\"SaveTool\"},{\"attributes\":{\"data_source\":{\"id\":\"f6918e12-6005-4823-afb0-13f377e7d7ea\",\"type\":\"ColumnDataSource\"},\"glyph\":{\"id\":\"12ee6c0c-ddca-40f2-89e8-bc0796f051a9\",\"type\":\"VBar\"},\"hover_glyph\":null,\"muted_glyph\":null,\"nonselection_glyph\":{\"id\":\"70b8e922-29e9-4bf7-be45-2811259aee8f\",\"type\":\"VBar\"},\"selection_glyph\":null,\"view\":{\"id\":\"471ad81c-811b-4680-a783-d9d108a296d4\",\"type\":\"CDSView\"}},\"id\":\"343197c7-6313-4b15-9c88-f954bd0631f5\",\"type\":\"GlyphRenderer\"},{\"attributes\":{},\"id\":\"8f56454b-9a5d-4762-8b5e-e4816c98e35f\",\"type\":\"LinearScale\"},{\"attributes\":{},\"id\":\"6db688f1-4d08-466c-9f7c-247956a2cb83\",\"type\":\"CategoricalTickFormatter\"},{\"attributes\":{},\"id\":\"0f3a3a68-e295-409e-9a53-f32b75a10d05\",\"type\":\"CategoricalScale\"},{\"attributes\":{\"formatter\":{\"id\":\"6db688f1-4d08-466c-9f7c-247956a2cb83\",\"type\":\"CategoricalTickFormatter\"},\"plot\":{\"id\":\"464a85e5-d554-467f-bbaf-3424c9dea497\",\"subtype\":\"Figure\",\"type\":\"Plot\"},\"ticker\":{\"id\":\"fec0fdb1-baa5-4767-ab57-700ecc449792\",\"type\":\"CategoricalTicker\"}},\"id\":\"ca46b3a5-5987-461a-89ca-b8c6c2fe41ea\",\"type\":\"CategoricalAxis\"},{\"attributes\":{\"fill_alpha\":{\"value\":0.1},\"fill_color\":{\"value\":\"#1f77b4\"},\"line_alpha\":{\"value\":0.1},\"line_color\":{\"value\":\"#1f77b4\"},\"top\":{\"field\":\"top\"},\"width\":{\"value\":0.9},\"x\":{\"field\":\"x\"}},\"id\":\"70b8e922-29e9-4bf7-be45-2811259aee8f\",\"type\":\"VBar\"},{\"attributes\":{\"plot\":null,\"text\":\"Petal Length\"},\"id\":\"48edfd65-1e59-4efa-b344-024e1b79a5dc\",\"type\":\"Title\"},{\"attributes\":{},\"id\":\"e18877bd-9513-44ae-9463-51270d82135a\",\"type\":\"BasicTickFormatter\"},{\"attributes\":{},\"id\":\"fec0fdb1-baa5-4767-ab57-700ecc449792\",\"type\":\"CategoricalTicker\"},{\"attributes\":{},\"id\":\"79e98704-4162-42ca-a79e-42d6050e6b70\",\"type\":\"BasicTicker\"},{\"attributes\":{\"source\":{\"id\":\"f6918e12-6005-4823-afb0-13f377e7d7ea\",\"type\":\"ColumnDataSource\"}},\"id\":\"471ad81c-811b-4680-a783-d9d108a296d4\",\"type\":\"CDSView\"},{\"attributes\":{\"grid_line_color\":{\"value\":null},\"plot\":{\"id\":\"464a85e5-d554-467f-bbaf-3424c9dea497\",\"subtype\":\"Figure\",\"type\":\"Plot\"},\"ticker\":{\"id\":\"fec0fdb1-baa5-4767-ab57-700ecc449792\",\"type\":\"CategoricalTicker\"}},\"id\":\"1f889b23-a9f6-4908-b903-6d5ffbd5f8f4\",\"type\":\"Grid\"},{\"attributes\":{\"callback\":null,\"start\":0},\"id\":\"275aa850-3350-4978-91d0-b513de1e0fc2\",\"type\":\"DataRange1d\"},{\"attributes\":{},\"id\":\"01c24e39-d3e2-4345-94e7-b09ab12d0f31\",\"type\":\"HelpTool\"},{\"attributes\":{},\"id\":\"dbdb125a-4bbc-4e66-9513-a2e2a3a26a56\",\"type\":\"WheelZoomTool\"},{\"attributes\":{\"dimension\":1,\"plot\":{\"id\":\"464a85e5-d554-467f-bbaf-3424c9dea497\",\"subtype\":\"Figure\",\"type\":\"Plot\"},\"ticker\":{\"id\":\"79e98704-4162-42ca-a79e-42d6050e6b70\",\"type\":\"BasicTicker\"}},\"id\":\"1befdfd9-4fa2-4dce-9b6b-4aa9a0ae3683\",\"type\":\"Grid\"},{\"attributes\":{\"bottom_units\":\"screen\",\"fill_alpha\":{\"value\":0.5},\"fill_color\":{\"value\":\"lightgrey\"},\"left_units\":\"screen\",\"level\":\"overlay\",\"line_alpha\":{\"value\":1.0},\"line_color\":{\"value\":\"black\"},\"line_dash\":[4,4],\"line_width\":{\"value\":2},\"plot\":null,\"render_mode\":\"css\",\"right_units\":\"screen\",\"top_units\":\"screen\"},\"id\":\"8e34e60d-5154-4d4f-abed-8cd0414d9cc8\",\"type\":\"BoxAnnotation\"},{\"attributes\":{},\"id\":\"b9944f9b-c73e-42a3-8d6d-e51fb931c96b\",\"type\":\"ResetTool\"},{\"attributes\":{\"fill_color\":{\"value\":\"#1f77b4\"},\"line_color\":{\"value\":\"#1f77b4\"},\"top\":{\"field\":\"top\"},\"width\":{\"value\":0.9},\"x\":{\"field\":\"x\"}},\"id\":\"12ee6c0c-ddca-40f2-89e8-bc0796f051a9\",\"type\":\"VBar\"},{\"attributes\":{\"callback\":null,\"factors\":[\"setosa\",\"versicolor\",\"virginica\"]},\"id\":\"3983f94e-bb85-4a8d-87d3-886fc5c77834\",\"type\":\"FactorRange\"},{\"attributes\":{\"active_drag\":\"auto\",\"active_inspect\":\"auto\",\"active_scroll\":\"auto\",\"active_tap\":\"auto\",\"tools\":[{\"id\":\"0635e2b7-7e59-4408-a417-2e91f401ac3b\",\"type\":\"PanTool\"},{\"id\":\"dbdb125a-4bbc-4e66-9513-a2e2a3a26a56\",\"type\":\"WheelZoomTool\"},{\"id\":\"2afa4f94-90f2-4614-b9b5-104943f988ab\",\"type\":\"BoxZoomTool\"},{\"id\":\"37401799-254d-4129-a004-4a860ca97f46\",\"type\":\"SaveTool\"},{\"id\":\"b9944f9b-c73e-42a3-8d6d-e51fb931c96b\",\"type\":\"ResetTool\"},{\"id\":\"01c24e39-d3e2-4345-94e7-b09ab12d0f31\",\"type\":\"HelpTool\"}]},\"id\":\"fa7ca6ac-6283-4d7d-8f2a-ccee590c5d31\",\"type\":\"Toolbar\"},{\"attributes\":{\"formatter\":{\"id\":\"e18877bd-9513-44ae-9463-51270d82135a\",\"type\":\"BasicTickFormatter\"},\"plot\":{\"id\":\"464a85e5-d554-467f-bbaf-3424c9dea497\",\"subtype\":\"Figure\",\"type\":\"Plot\"},\"ticker\":{\"id\":\"79e98704-4162-42ca-a79e-42d6050e6b70\",\"type\":\"BasicTicker\"}},\"id\":\"43d95775-a6f8-4d15-bc9d-ac3462507c62\",\"type\":\"LinearAxis\"},{\"attributes\":{},\"id\":\"0635e2b7-7e59-4408-a417-2e91f401ac3b\",\"type\":\"PanTool\"},{\"attributes\":{\"below\":[{\"id\":\"ca46b3a5-5987-461a-89ca-b8c6c2fe41ea\",\"type\":\"CategoricalAxis\"}],\"left\":[{\"id\":\"43d95775-a6f8-4d15-bc9d-ac3462507c62\",\"type\":\"LinearAxis\"}],\"plot_height\":250,\"renderers\":[{\"id\":\"ca46b3a5-5987-461a-89ca-b8c6c2fe41ea\",\"type\":\"CategoricalAxis\"},{\"id\":\"1f889b23-a9f6-4908-b903-6d5ffbd5f8f4\",\"type\":\"Grid\"},{\"id\":\"43d95775-a6f8-4d15-bc9d-ac3462507c62\",\"type\":\"LinearAxis\"},{\"id\":\"1befdfd9-4fa2-4dce-9b6b-4aa9a0ae3683\",\"type\":\"Grid\"},{\"id\":\"8e34e60d-5154-4d4f-abed-8cd0414d9cc8\",\"type\":\"BoxAnnotation\"},{\"id\":\"343197c7-6313-4b15-9c88-f954bd0631f5\",\"type\":\"GlyphRenderer\"}],\"title\":{\"id\":\"48edfd65-1e59-4efa-b344-024e1b79a5dc\",\"type\":\"Title\"},\"toolbar\":{\"id\":\"fa7ca6ac-6283-4d7d-8f2a-ccee590c5d31\",\"type\":\"Toolbar\"},\"x_range\":{\"id\":\"3983f94e-bb85-4a8d-87d3-886fc5c77834\",\"type\":\"FactorRange\"},\"x_scale\":{\"id\":\"0f3a3a68-e295-409e-9a53-f32b75a10d05\",\"type\":\"CategoricalScale\"},\"y_range\":{\"id\":\"275aa850-3350-4978-91d0-b513de1e0fc2\",\"type\":\"DataRange1d\"},\"y_scale\":{\"id\":\"8f56454b-9a5d-4762-8b5e-e4816c98e35f\",\"type\":\"LinearScale\"}},\"id\":\"464a85e5-d554-467f-bbaf-3424c9dea497\",\"subtype\":\"Figure\",\"type\":\"Plot\"},{\"attributes\":{\"overlay\":{\"id\":\"8e34e60d-5154-4d4f-abed-8cd0414d9cc8\",\"type\":\"BoxAnnotation\"}},\"id\":\"2afa4f94-90f2-4614-b9b5-104943f988ab\",\"type\":\"BoxZoomTool\"},{\"attributes\":{\"callback\":null,\"column_names\":[\"x\",\"top\"],\"data\":{\"top\":[1.4620000000000002,4.26,5.552],\"x\":[\"setosa\",\"versicolor\",\"virginica\"]}},\"id\":\"f6918e12-6005-4823-afb0-13f377e7d7ea\",\"type\":\"ColumnDataSource\"}],\"root_ids\":[\"464a85e5-d554-467f-bbaf-3424c9dea497\"]},\"title\":\"Bokeh Application\",\"version\":\"0.12.10\"}};\n",
       "    var render_items = [{\"docid\":\"e57ec5ef-cc01-44d3-88c1-fd657f13fa08\",\"elementid\":\"e26aa8d2-93d0-4243-8cf4-03a76e70c61b\",\"modelid\":\"464a85e5-d554-467f-bbaf-3424c9dea497\"}];\n",
       "\n",
       "    root.Bokeh.embed.embed_items(docs_json, render_items);\n",
       "  }\n",
       "\n",
       "  if (root.Bokeh !== undefined) {\n",
       "    embed_document(root);\n",
       "  } else {\n",
       "    var attempts = 0;\n",
       "    var timer = setInterval(function(root) {\n",
       "      if (root.Bokeh !== undefined) {\n",
       "        embed_document(root);\n",
       "        clearInterval(timer);\n",
       "      }\n",
       "      attempts++;\n",
       "      if (attempts > 100) {\n",
       "        console.log(\"Bokeh: ERROR: Unable to embed document because BokehJS library is missing\")\n",
       "        clearInterval(timer);\n",
       "      }\n",
       "    }, 10, root)\n",
       "  }\n",
       "})(window);"
      ],
      "application/vnd.bokehjs_exec.v0+json": ""
     },
     "metadata": {
      "application/vnd.bokehjs_exec.v0+json": {
       "id": "464a85e5-d554-467f-bbaf-3424c9dea497"
      }
     },
     "output_type": "display_data"
    }
   ],
   "source": [
    "p=figure(x_range=species,plot_height=250,title=\"Petal Length\")\n",
    "p.vbar(x=species,top=top,width=0.9)\n",
    "p.xgrid.grid_line_color=None\n",
    "p.y_range.start=0\n",
    "show(p)"
   ]
  },
  {
   "cell_type": "markdown",
   "metadata": {},
   "source": [
    "Since vbar is a glyph method, we can use it with a ColumnDataSource just as we woudl with any other glyph. In the example below, we put the data (including color data) in a ColumnDataSource and use that to drive our plot. We also add a legend, see chapter Adding Annotations.ipynb for more information about legends and other annotations."
   ]
  },
  {
   "cell_type": "code",
   "execution_count": 51,
   "metadata": {},
   "outputs": [
    {
     "data": {
      "text/html": [
       "\n",
       "<div class=\"bk-root\">\n",
       "    <div class=\"bk-plotdiv\" id=\"8b7ac1f1-8321-4637-a78d-08cb62097338\"></div>\n",
       "</div>"
      ]
     },
     "metadata": {},
     "output_type": "display_data"
    },
    {
     "data": {
      "application/javascript": [
       "(function(root) {\n",
       "  function embed_document(root) {\n",
       "    var docs_json = {\"ba1820a9-7d59-4fb6-b07e-845b40f8fdf3\":{\"roots\":{\"references\":[{\"attributes\":{\"dimension\":1,\"plot\":{\"id\":\"1a7b5d9d-4e07-4f8b-bf89-dbceae95be9f\",\"subtype\":\"Figure\",\"type\":\"Plot\"},\"ticker\":{\"id\":\"c1839cf8-987d-40d4-a366-efc106a016a1\",\"type\":\"BasicTicker\"}},\"id\":\"aeef50f0-5a4b-4c23-ab53-035777583b7a\",\"type\":\"Grid\"},{\"attributes\":{\"fill_color\":{\"field\":\"color\"},\"line_color\":{\"field\":\"color\"},\"top\":{\"field\":\"counts\"},\"width\":{\"value\":0.9},\"x\":{\"field\":\"fruits\"}},\"id\":\"09093d81-2924-4302-b61c-5fbe87004148\",\"type\":\"VBar\"},{\"attributes\":{\"callback\":null,\"column_names\":[\"fruits\",\"counts\",\"color\"],\"data\":{\"color\":[\"#3288bd\",\"#99d594\",\"#e6f598\",\"#fee08b\",\"#fc8d59\",\"#d53e4f\"],\"counts\":[5,3,4,2,4,6],\"fruits\":[\"Apples\",\"Pears\",\"Nectarines\",\"Plums\",\"Grapes\",\"Strawberries\"]}},\"id\":\"988ee628-18a0-447d-9989-0f7537b163f2\",\"type\":\"ColumnDataSource\"},{\"attributes\":{\"bottom_units\":\"screen\",\"fill_alpha\":{\"value\":0.5},\"fill_color\":{\"value\":\"lightgrey\"},\"left_units\":\"screen\",\"level\":\"overlay\",\"line_alpha\":{\"value\":1.0},\"line_color\":{\"value\":\"black\"},\"line_dash\":[4,4],\"line_width\":{\"value\":2},\"plot\":null,\"render_mode\":\"css\",\"right_units\":\"screen\",\"top_units\":\"screen\"},\"id\":\"b4b5f3f1-d943-4552-812b-680cf9496180\",\"type\":\"BoxAnnotation\"},{\"attributes\":{},\"id\":\"8e23f27a-0bec-495c-864e-f975ca707b8b\",\"type\":\"BasicTickFormatter\"},{\"attributes\":{},\"id\":\"420c194f-80fa-483c-a9b9-32919845cb06\",\"type\":\"PanTool\"},{\"attributes\":{\"below\":[{\"id\":\"b60a3d70-b388-4757-9af3-abce890a4f79\",\"type\":\"CategoricalAxis\"}],\"left\":[{\"id\":\"46e8c24c-768f-4f93-817c-8b986feabebb\",\"type\":\"LinearAxis\"}],\"plot_height\":250,\"renderers\":[{\"id\":\"b60a3d70-b388-4757-9af3-abce890a4f79\",\"type\":\"CategoricalAxis\"},{\"id\":\"5b4b1fee-3f72-4330-b4cb-28ce6abdbd73\",\"type\":\"Grid\"},{\"id\":\"46e8c24c-768f-4f93-817c-8b986feabebb\",\"type\":\"LinearAxis\"},{\"id\":\"aeef50f0-5a4b-4c23-ab53-035777583b7a\",\"type\":\"Grid\"},{\"id\":\"b4b5f3f1-d943-4552-812b-680cf9496180\",\"type\":\"BoxAnnotation\"},{\"id\":\"d5a53180-f894-486a-a0a8-42833dde6adc\",\"type\":\"Legend\"},{\"id\":\"8302ee75-1b07-4b30-bad5-132b3364fa1a\",\"type\":\"GlyphRenderer\"}],\"title\":{\"id\":\"1f8ddd39-2972-4172-b1b1-e3dc54439cee\",\"type\":\"Title\"},\"toolbar\":{\"id\":\"01862b8e-820b-4360-8744-e3ce32c948bc\",\"type\":\"Toolbar\"},\"x_range\":{\"id\":\"8cf84eff-c28e-40fa-892d-3b826719b618\",\"type\":\"FactorRange\"},\"x_scale\":{\"id\":\"973dcc1f-69a7-47d1-ba63-d6b667efbd59\",\"type\":\"CategoricalScale\"},\"y_range\":{\"id\":\"0129f7f7-2e74-4d75-8f56-a8f7fe877eee\",\"type\":\"Range1d\"},\"y_scale\":{\"id\":\"3d2fa82c-07b2-4b25-8ee4-e360a1d1c429\",\"type\":\"LinearScale\"}},\"id\":\"1a7b5d9d-4e07-4f8b-bf89-dbceae95be9f\",\"subtype\":\"Figure\",\"type\":\"Plot\"},{\"attributes\":{\"data_source\":{\"id\":\"988ee628-18a0-447d-9989-0f7537b163f2\",\"type\":\"ColumnDataSource\"},\"glyph\":{\"id\":\"09093d81-2924-4302-b61c-5fbe87004148\",\"type\":\"VBar\"},\"hover_glyph\":null,\"muted_glyph\":null,\"nonselection_glyph\":{\"id\":\"9064a47c-dd80-4823-af69-12275f455f9f\",\"type\":\"VBar\"},\"selection_glyph\":null,\"view\":{\"id\":\"0de64ffa-af43-4926-90ba-24c7b33abd84\",\"type\":\"CDSView\"}},\"id\":\"8302ee75-1b07-4b30-bad5-132b3364fa1a\",\"type\":\"GlyphRenderer\"},{\"attributes\":{},\"id\":\"c0164020-938d-40d0-b456-b50d63aa9efb\",\"type\":\"WheelZoomTool\"},{\"attributes\":{\"plot\":null,\"text\":\"Fruit Counts\"},\"id\":\"1f8ddd39-2972-4172-b1b1-e3dc54439cee\",\"type\":\"Title\"},{\"attributes\":{\"overlay\":{\"id\":\"b4b5f3f1-d943-4552-812b-680cf9496180\",\"type\":\"BoxAnnotation\"}},\"id\":\"7082efa8-cf23-45c3-b4cd-bcc656ee1373\",\"type\":\"BoxZoomTool\"},{\"attributes\":{},\"id\":\"3d2fa82c-07b2-4b25-8ee4-e360a1d1c429\",\"type\":\"LinearScale\"},{\"attributes\":{\"callback\":null,\"factors\":[\"Apples\",\"Pears\",\"Nectarines\",\"Plums\",\"Grapes\",\"Strawberries\"]},\"id\":\"8cf84eff-c28e-40fa-892d-3b826719b618\",\"type\":\"FactorRange\"},{\"attributes\":{},\"id\":\"12c7fb2c-62ee-4222-a2d2-65bdf34ca7f2\",\"type\":\"SaveTool\"},{\"attributes\":{\"active_drag\":\"auto\",\"active_inspect\":\"auto\",\"active_scroll\":\"auto\",\"active_tap\":\"auto\",\"tools\":[{\"id\":\"420c194f-80fa-483c-a9b9-32919845cb06\",\"type\":\"PanTool\"},{\"id\":\"c0164020-938d-40d0-b456-b50d63aa9efb\",\"type\":\"WheelZoomTool\"},{\"id\":\"7082efa8-cf23-45c3-b4cd-bcc656ee1373\",\"type\":\"BoxZoomTool\"},{\"id\":\"12c7fb2c-62ee-4222-a2d2-65bdf34ca7f2\",\"type\":\"SaveTool\"},{\"id\":\"ce7129dc-176f-46e5-a2ad-2081bc77922b\",\"type\":\"ResetTool\"},{\"id\":\"16af7f40-864d-4f4f-adc0-524473948a82\",\"type\":\"HelpTool\"}]},\"id\":\"01862b8e-820b-4360-8744-e3ce32c948bc\",\"type\":\"Toolbar\"},{\"attributes\":{},\"id\":\"ce7129dc-176f-46e5-a2ad-2081bc77922b\",\"type\":\"ResetTool\"},{\"attributes\":{\"grid_line_color\":{\"value\":null},\"plot\":{\"id\":\"1a7b5d9d-4e07-4f8b-bf89-dbceae95be9f\",\"subtype\":\"Figure\",\"type\":\"Plot\"},\"ticker\":{\"id\":\"3b42b192-b4e9-4a4a-b04f-3b824f09e279\",\"type\":\"CategoricalTicker\"}},\"id\":\"5b4b1fee-3f72-4330-b4cb-28ce6abdbd73\",\"type\":\"Grid\"},{\"attributes\":{},\"id\":\"16af7f40-864d-4f4f-adc0-524473948a82\",\"type\":\"HelpTool\"},{\"attributes\":{},\"id\":\"973dcc1f-69a7-47d1-ba63-d6b667efbd59\",\"type\":\"CategoricalScale\"},{\"attributes\":{\"callback\":null,\"end\":9},\"id\":\"0129f7f7-2e74-4d75-8f56-a8f7fe877eee\",\"type\":\"Range1d\"},{\"attributes\":{\"items\":[{\"id\":\"48dae0a9-603c-41ce-9dff-7a89ba84d72a\",\"type\":\"LegendItem\"}],\"location\":\"top_center\",\"orientation\":\"horizontal\",\"plot\":{\"id\":\"1a7b5d9d-4e07-4f8b-bf89-dbceae95be9f\",\"subtype\":\"Figure\",\"type\":\"Plot\"}},\"id\":\"d5a53180-f894-486a-a0a8-42833dde6adc\",\"type\":\"Legend\"},{\"attributes\":{\"formatter\":{\"id\":\"8e23f27a-0bec-495c-864e-f975ca707b8b\",\"type\":\"BasicTickFormatter\"},\"plot\":{\"id\":\"1a7b5d9d-4e07-4f8b-bf89-dbceae95be9f\",\"subtype\":\"Figure\",\"type\":\"Plot\"},\"ticker\":{\"id\":\"c1839cf8-987d-40d4-a366-efc106a016a1\",\"type\":\"BasicTicker\"}},\"id\":\"46e8c24c-768f-4f93-817c-8b986feabebb\",\"type\":\"LinearAxis\"},{\"attributes\":{},\"id\":\"d3e57b4c-1b85-4de5-8f39-3fa47ca3c6b3\",\"type\":\"CategoricalTickFormatter\"},{\"attributes\":{\"formatter\":{\"id\":\"d3e57b4c-1b85-4de5-8f39-3fa47ca3c6b3\",\"type\":\"CategoricalTickFormatter\"},\"plot\":{\"id\":\"1a7b5d9d-4e07-4f8b-bf89-dbceae95be9f\",\"subtype\":\"Figure\",\"type\":\"Plot\"},\"ticker\":{\"id\":\"3b42b192-b4e9-4a4a-b04f-3b824f09e279\",\"type\":\"CategoricalTicker\"}},\"id\":\"b60a3d70-b388-4757-9af3-abce890a4f79\",\"type\":\"CategoricalAxis\"},{\"attributes\":{\"source\":{\"id\":\"988ee628-18a0-447d-9989-0f7537b163f2\",\"type\":\"ColumnDataSource\"}},\"id\":\"0de64ffa-af43-4926-90ba-24c7b33abd84\",\"type\":\"CDSView\"},{\"attributes\":{},\"id\":\"3b42b192-b4e9-4a4a-b04f-3b824f09e279\",\"type\":\"CategoricalTicker\"},{\"attributes\":{\"fill_alpha\":{\"value\":0.1},\"fill_color\":{\"value\":\"#1f77b4\"},\"line_alpha\":{\"value\":0.1},\"line_color\":{\"value\":\"#1f77b4\"},\"top\":{\"field\":\"counts\"},\"width\":{\"value\":0.9},\"x\":{\"field\":\"fruits\"}},\"id\":\"9064a47c-dd80-4823-af69-12275f455f9f\",\"type\":\"VBar\"},{\"attributes\":{\"label\":{\"field\":\"fruits\"},\"renderers\":[{\"id\":\"8302ee75-1b07-4b30-bad5-132b3364fa1a\",\"type\":\"GlyphRenderer\"}]},\"id\":\"48dae0a9-603c-41ce-9dff-7a89ba84d72a\",\"type\":\"LegendItem\"},{\"attributes\":{},\"id\":\"c1839cf8-987d-40d4-a366-efc106a016a1\",\"type\":\"BasicTicker\"}],\"root_ids\":[\"1a7b5d9d-4e07-4f8b-bf89-dbceae95be9f\"]},\"title\":\"Bokeh Application\",\"version\":\"0.12.10\"}};\n",
       "    var render_items = [{\"docid\":\"ba1820a9-7d59-4fb6-b07e-845b40f8fdf3\",\"elementid\":\"8b7ac1f1-8321-4637-a78d-08cb62097338\",\"modelid\":\"1a7b5d9d-4e07-4f8b-bf89-dbceae95be9f\"}];\n",
       "\n",
       "    root.Bokeh.embed.embed_items(docs_json, render_items);\n",
       "  }\n",
       "\n",
       "  if (root.Bokeh !== undefined) {\n",
       "    embed_document(root);\n",
       "  } else {\n",
       "    var attempts = 0;\n",
       "    var timer = setInterval(function(root) {\n",
       "      if (root.Bokeh !== undefined) {\n",
       "        embed_document(root);\n",
       "        clearInterval(timer);\n",
       "      }\n",
       "      attempts++;\n",
       "      if (attempts > 100) {\n",
       "        console.log(\"Bokeh: ERROR: Unable to embed document because BokehJS library is missing\")\n",
       "        clearInterval(timer);\n",
       "      }\n",
       "    }, 10, root)\n",
       "  }\n",
       "})(window);"
      ],
      "application/vnd.bokehjs_exec.v0+json": ""
     },
     "metadata": {
      "application/vnd.bokehjs_exec.v0+json": {
       "id": "1a7b5d9d-4e07-4f8b-bf89-dbceae95be9f"
      }
     },
     "output_type": "display_data"
    }
   ],
   "source": [
    "\n",
    "from bokeh.models import ColumnDataSource\n",
    "from bokeh.palettes import Spectral6\n",
    "\n",
    "fruits = ['Apples', 'Pears', 'Nectarines', 'Plums', 'Grapes', 'Strawberries']\n",
    "counts = [5, 3, 4, 2, 4, 6]\n",
    "\n",
    "source = ColumnDataSource(data=dict(fruits=fruits, counts=counts, color=Spectral6))\n",
    "\n",
    "p = figure(x_range=fruits, plot_height=250, y_range=(0, 9), title=\"Fruit Counts\")\n",
    "p.vbar(x='fruits', top='counts', width=0.9, color='color', legend=\"fruits\", source=source)\n",
    "\n",
    "p.xgrid.grid_line_color = None\n",
    "p.legend.orientation = \"horizontal\"\n",
    "p.legend.location = \"top_center\"\n",
    "\n",
    "show(p)"
   ]
  },
  {
   "cell_type": "code",
   "execution_count": 52,
   "metadata": {},
   "outputs": [
    {
     "data": {
      "text/html": [
       "<div>\n",
       "<style scoped>\n",
       "    .dataframe tbody tr th:only-of-type {\n",
       "        vertical-align: middle;\n",
       "    }\n",
       "\n",
       "    .dataframe tbody tr th {\n",
       "        vertical-align: top;\n",
       "    }\n",
       "\n",
       "    .dataframe thead th {\n",
       "        text-align: right;\n",
       "    }\n",
       "</style>\n",
       "<table border=\"1\" class=\"dataframe\">\n",
       "  <thead>\n",
       "    <tr style=\"text-align: right;\">\n",
       "      <th></th>\n",
       "      <th>sepal_length</th>\n",
       "      <th>sepal_width</th>\n",
       "      <th>petal_length</th>\n",
       "      <th>petal_width</th>\n",
       "    </tr>\n",
       "    <tr>\n",
       "      <th>species</th>\n",
       "      <th></th>\n",
       "      <th></th>\n",
       "      <th></th>\n",
       "      <th></th>\n",
       "    </tr>\n",
       "  </thead>\n",
       "  <tbody>\n",
       "    <tr>\n",
       "      <th>setosa</th>\n",
       "      <td>5.006</td>\n",
       "      <td>3.428</td>\n",
       "      <td>1.462</td>\n",
       "      <td>0.246</td>\n",
       "    </tr>\n",
       "    <tr>\n",
       "      <th>versicolor</th>\n",
       "      <td>5.936</td>\n",
       "      <td>2.770</td>\n",
       "      <td>4.260</td>\n",
       "      <td>1.326</td>\n",
       "    </tr>\n",
       "    <tr>\n",
       "      <th>virginica</th>\n",
       "      <td>6.588</td>\n",
       "      <td>2.974</td>\n",
       "      <td>5.552</td>\n",
       "      <td>2.026</td>\n",
       "    </tr>\n",
       "  </tbody>\n",
       "</table>\n",
       "</div>"
      ],
      "text/plain": [
       "            sepal_length  sepal_width  petal_length  petal_width\n",
       "species                                                         \n",
       "setosa             5.006        3.428         1.462        0.246\n",
       "versicolor         5.936        2.770         4.260        1.326\n",
       "virginica          6.588        2.974         5.552        2.026"
      ]
     },
     "execution_count": 52,
     "metadata": {},
     "output_type": "execute_result"
    }
   ],
   "source": [
    "df.T"
   ]
  },
  {
   "cell_type": "code",
   "execution_count": 65,
   "metadata": {},
   "outputs": [
    {
     "data": {
      "text/html": [
       "<div>\n",
       "<style scoped>\n",
       "    .dataframe tbody tr th:only-of-type {\n",
       "        vertical-align: middle;\n",
       "    }\n",
       "\n",
       "    .dataframe tbody tr th {\n",
       "        vertical-align: top;\n",
       "    }\n",
       "\n",
       "    .dataframe thead th {\n",
       "        text-align: right;\n",
       "    }\n",
       "</style>\n",
       "<table border=\"1\" class=\"dataframe\">\n",
       "  <thead>\n",
       "    <tr style=\"text-align: right;\">\n",
       "      <th></th>\n",
       "      <th>sepal_lenghth</th>\n",
       "      <th>species</th>\n",
       "    </tr>\n",
       "    <tr>\n",
       "      <th>species</th>\n",
       "      <th></th>\n",
       "      <th></th>\n",
       "    </tr>\n",
       "  </thead>\n",
       "  <tbody>\n",
       "    <tr>\n",
       "      <th>setosa</th>\n",
       "      <td>5.006</td>\n",
       "      <td>setosa</td>\n",
       "    </tr>\n",
       "    <tr>\n",
       "      <th>versicolor</th>\n",
       "      <td>5.936</td>\n",
       "      <td>versicolor</td>\n",
       "    </tr>\n",
       "    <tr>\n",
       "      <th>virginica</th>\n",
       "      <td>6.588</td>\n",
       "      <td>virginica</td>\n",
       "    </tr>\n",
       "  </tbody>\n",
       "</table>\n",
       "</div>"
      ],
      "text/plain": [
       "            sepal_lenghth     species\n",
       "species                              \n",
       "setosa              5.006      setosa\n",
       "versicolor          5.936  versicolor\n",
       "virginica           6.588   virginica"
      ]
     },
     "execution_count": 65,
     "metadata": {},
     "output_type": "execute_result"
    }
   ],
   "source": [
    "test=pd.DataFrame({\"species\":df.T.index,\"sepal_lenghth\":df.T.iloc[:,0]})\n",
    "test"
   ]
  },
  {
   "cell_type": "code",
   "execution_count": 76,
   "metadata": {},
   "outputs": [
    {
     "data": {
      "text/html": [
       "\n",
       "<div class=\"bk-root\">\n",
       "    <div class=\"bk-plotdiv\" id=\"e7cfe1b5-714b-4e8d-bf1e-5d257d0d991b\"></div>\n",
       "</div>"
      ]
     },
     "metadata": {},
     "output_type": "display_data"
    },
    {
     "data": {
      "application/javascript": [
       "(function(root) {\n",
       "  function embed_document(root) {\n",
       "    var docs_json = {\"25f03479-9596-4a93-ac55-3a73275baee0\":{\"roots\":{\"references\":[{\"attributes\":{},\"id\":\"c6d9f118-572e-4377-973e-4e5fa8d452a4\",\"type\":\"HelpTool\"},{\"attributes\":{\"callback\":null,\"column_names\":[\"species\",\"sepal_length\"],\"data\":{\"sepal_length\":{\"__ndarray__\":\"nxov3SQGFEBYObTIdr4XQCUxCKwcWhpA\",\"dtype\":\"float64\",\"shape\":[3]},\"species\":[\"setosa\",\"versicolor\",\"virginica\"]}},\"id\":\"fce2762b-b108-4bb3-b424-8ed9f6239403\",\"type\":\"ColumnDataSource\"},{\"attributes\":{},\"id\":\"53b3b9a5-3e11-4085-94aa-b50004106628\",\"type\":\"LinearScale\"},{\"attributes\":{\"fill_color\":{\"value\":\"#1f77b4\"},\"line_color\":{\"value\":\"#1f77b4\"},\"top\":{\"field\":\"sepal_length\"},\"width\":{\"value\":0.9},\"x\":{\"field\":\"species\"}},\"id\":\"edede760-a1f4-4e4f-958c-6c22fcd631d1\",\"type\":\"VBar\"},{\"attributes\":{\"below\":[{\"id\":\"dbbb8b5f-5398-4ca4-92b4-da553d43fcb3\",\"type\":\"CategoricalAxis\"}],\"left\":[{\"id\":\"2bbf891f-7c8c-4b42-8d52-77fcbf4eeb70\",\"type\":\"LinearAxis\"}],\"plot_height\":250,\"renderers\":[{\"id\":\"dbbb8b5f-5398-4ca4-92b4-da553d43fcb3\",\"type\":\"CategoricalAxis\"},{\"id\":\"2257b1ff-39ca-469b-89c1-4c85bd337754\",\"type\":\"Grid\"},{\"id\":\"2bbf891f-7c8c-4b42-8d52-77fcbf4eeb70\",\"type\":\"LinearAxis\"},{\"id\":\"1d171bd3-2ef3-441e-b903-967ba3334a28\",\"type\":\"Grid\"},{\"id\":\"6e329d78-5258-4f38-9a6d-93f7e9f40980\",\"type\":\"BoxAnnotation\"},{\"id\":\"fece293e-31de-416b-81ef-2f93bdfc8efa\",\"type\":\"Legend\"},{\"id\":\"92fe1d9d-0150-4df0-bb31-a29c46e4512b\",\"type\":\"GlyphRenderer\"}],\"title\":{\"id\":\"e37e1320-5fd4-4fe0-9f34-016682af0ee2\",\"type\":\"Title\"},\"toolbar\":{\"id\":\"7931fb6a-67bb-4f7a-a398-3404c9408a52\",\"type\":\"Toolbar\"},\"x_range\":{\"id\":\"dd652e85-207e-491c-8571-4637596d0e68\",\"type\":\"FactorRange\"},\"x_scale\":{\"id\":\"8e7679fb-fd91-4c7c-833a-e787a8e99bf9\",\"type\":\"CategoricalScale\"},\"y_range\":{\"id\":\"8163b777-309a-4c97-848f-f6ba4062ed1e\",\"type\":\"Range1d\"},\"y_scale\":{\"id\":\"53b3b9a5-3e11-4085-94aa-b50004106628\",\"type\":\"LinearScale\"}},\"id\":\"407d6f32-3c85-4ef7-b50a-b7a3eee20508\",\"subtype\":\"Figure\",\"type\":\"Plot\"},{\"attributes\":{},\"id\":\"d6ab0fbd-8777-451f-9a39-40ad8eb84a74\",\"type\":\"PanTool\"},{\"attributes\":{\"fill_alpha\":{\"value\":0.1},\"fill_color\":{\"value\":\"#1f77b4\"},\"line_alpha\":{\"value\":0.1},\"line_color\":{\"value\":\"#1f77b4\"},\"top\":{\"field\":\"sepal_length\"},\"width\":{\"value\":0.9},\"x\":{\"field\":\"species\"}},\"id\":\"8523d5fe-16c2-42b0-a172-255eaefd842d\",\"type\":\"VBar\"},{\"attributes\":{\"overlay\":{\"id\":\"6e329d78-5258-4f38-9a6d-93f7e9f40980\",\"type\":\"BoxAnnotation\"}},\"id\":\"c820c8ae-78cf-4126-a3a9-c318c067981f\",\"type\":\"BoxZoomTool\"},{\"attributes\":{\"formatter\":{\"id\":\"a2ae824c-8430-4fa4-b774-193a0ef71344\",\"type\":\"BasicTickFormatter\"},\"plot\":{\"id\":\"407d6f32-3c85-4ef7-b50a-b7a3eee20508\",\"subtype\":\"Figure\",\"type\":\"Plot\"},\"ticker\":{\"id\":\"18ca2310-4f7b-4502-a707-9488dccbe816\",\"type\":\"BasicTicker\"}},\"id\":\"2bbf891f-7c8c-4b42-8d52-77fcbf4eeb70\",\"type\":\"LinearAxis\"},{\"attributes\":{},\"id\":\"18ca2310-4f7b-4502-a707-9488dccbe816\",\"type\":\"BasicTicker\"},{\"attributes\":{\"plot\":null,\"text\":\"Sepal_length\"},\"id\":\"e37e1320-5fd4-4fe0-9f34-016682af0ee2\",\"type\":\"Title\"},{\"attributes\":{},\"id\":\"a328b5ee-d5f2-4711-b039-98f893fc27d5\",\"type\":\"ResetTool\"},{\"attributes\":{\"callback\":null,\"factors\":[\"setosa\",\"versicolor\",\"virginica\"]},\"id\":\"dd652e85-207e-491c-8571-4637596d0e68\",\"type\":\"FactorRange\"},{\"attributes\":{},\"id\":\"1a4cc90e-baf5-48e1-92cb-e8233202543b\",\"type\":\"WheelZoomTool\"},{\"attributes\":{},\"id\":\"aa4377a0-9094-44d9-bd61-da80aad7869f\",\"type\":\"CategoricalTickFormatter\"},{\"attributes\":{\"dimension\":1,\"plot\":{\"id\":\"407d6f32-3c85-4ef7-b50a-b7a3eee20508\",\"subtype\":\"Figure\",\"type\":\"Plot\"},\"ticker\":{\"id\":\"18ca2310-4f7b-4502-a707-9488dccbe816\",\"type\":\"BasicTicker\"}},\"id\":\"1d171bd3-2ef3-441e-b903-967ba3334a28\",\"type\":\"Grid\"},{\"attributes\":{},\"id\":\"a2ae824c-8430-4fa4-b774-193a0ef71344\",\"type\":\"BasicTickFormatter\"},{\"attributes\":{\"active_drag\":\"auto\",\"active_inspect\":\"auto\",\"active_scroll\":\"auto\",\"active_tap\":\"auto\",\"tools\":[{\"id\":\"d6ab0fbd-8777-451f-9a39-40ad8eb84a74\",\"type\":\"PanTool\"},{\"id\":\"1a4cc90e-baf5-48e1-92cb-e8233202543b\",\"type\":\"WheelZoomTool\"},{\"id\":\"c820c8ae-78cf-4126-a3a9-c318c067981f\",\"type\":\"BoxZoomTool\"},{\"id\":\"b7c7e59e-2416-4bec-b9df-aeb635ee2a9e\",\"type\":\"SaveTool\"},{\"id\":\"a328b5ee-d5f2-4711-b039-98f893fc27d5\",\"type\":\"ResetTool\"},{\"id\":\"c6d9f118-572e-4377-973e-4e5fa8d452a4\",\"type\":\"HelpTool\"}]},\"id\":\"7931fb6a-67bb-4f7a-a398-3404c9408a52\",\"type\":\"Toolbar\"},{\"attributes\":{\"bottom_units\":\"screen\",\"fill_alpha\":{\"value\":0.5},\"fill_color\":{\"value\":\"lightgrey\"},\"left_units\":\"screen\",\"level\":\"overlay\",\"line_alpha\":{\"value\":1.0},\"line_color\":{\"value\":\"black\"},\"line_dash\":[4,4],\"line_width\":{\"value\":2},\"plot\":null,\"render_mode\":\"css\",\"right_units\":\"screen\",\"top_units\":\"screen\"},\"id\":\"6e329d78-5258-4f38-9a6d-93f7e9f40980\",\"type\":\"BoxAnnotation\"},{\"attributes\":{},\"id\":\"8e7679fb-fd91-4c7c-833a-e787a8e99bf9\",\"type\":\"CategoricalScale\"},{\"attributes\":{\"data_source\":{\"id\":\"fce2762b-b108-4bb3-b424-8ed9f6239403\",\"type\":\"ColumnDataSource\"},\"glyph\":{\"id\":\"edede760-a1f4-4e4f-958c-6c22fcd631d1\",\"type\":\"VBar\"},\"hover_glyph\":null,\"muted_glyph\":null,\"nonselection_glyph\":{\"id\":\"8523d5fe-16c2-42b0-a172-255eaefd842d\",\"type\":\"VBar\"},\"selection_glyph\":null,\"view\":{\"id\":\"8017e9d2-fcac-4c38-b0e0-e7017e8e85ac\",\"type\":\"CDSView\"}},\"id\":\"92fe1d9d-0150-4df0-bb31-a29c46e4512b\",\"type\":\"GlyphRenderer\"},{\"attributes\":{\"label\":{\"field\":\"species\"},\"renderers\":[{\"id\":\"92fe1d9d-0150-4df0-bb31-a29c46e4512b\",\"type\":\"GlyphRenderer\"}]},\"id\":\"e10f881f-de39-430d-a689-5435ff0751e4\",\"type\":\"LegendItem\"},{\"attributes\":{\"callback\":null,\"end\":7},\"id\":\"8163b777-309a-4c97-848f-f6ba4062ed1e\",\"type\":\"Range1d\"},{\"attributes\":{},\"id\":\"dd096e6a-91ad-4b8f-950c-708ac1556446\",\"type\":\"CategoricalTicker\"},{\"attributes\":{\"plot\":{\"id\":\"407d6f32-3c85-4ef7-b50a-b7a3eee20508\",\"subtype\":\"Figure\",\"type\":\"Plot\"},\"ticker\":{\"id\":\"dd096e6a-91ad-4b8f-950c-708ac1556446\",\"type\":\"CategoricalTicker\"}},\"id\":\"2257b1ff-39ca-469b-89c1-4c85bd337754\",\"type\":\"Grid\"},{\"attributes\":{\"formatter\":{\"id\":\"aa4377a0-9094-44d9-bd61-da80aad7869f\",\"type\":\"CategoricalTickFormatter\"},\"plot\":{\"id\":\"407d6f32-3c85-4ef7-b50a-b7a3eee20508\",\"subtype\":\"Figure\",\"type\":\"Plot\"},\"ticker\":{\"id\":\"dd096e6a-91ad-4b8f-950c-708ac1556446\",\"type\":\"CategoricalTicker\"}},\"id\":\"dbbb8b5f-5398-4ca4-92b4-da553d43fcb3\",\"type\":\"CategoricalAxis\"},{\"attributes\":{\"items\":[{\"id\":\"e10f881f-de39-430d-a689-5435ff0751e4\",\"type\":\"LegendItem\"}],\"plot\":{\"id\":\"407d6f32-3c85-4ef7-b50a-b7a3eee20508\",\"subtype\":\"Figure\",\"type\":\"Plot\"}},\"id\":\"fece293e-31de-416b-81ef-2f93bdfc8efa\",\"type\":\"Legend\"},{\"attributes\":{},\"id\":\"b7c7e59e-2416-4bec-b9df-aeb635ee2a9e\",\"type\":\"SaveTool\"},{\"attributes\":{\"source\":{\"id\":\"fce2762b-b108-4bb3-b424-8ed9f6239403\",\"type\":\"ColumnDataSource\"}},\"id\":\"8017e9d2-fcac-4c38-b0e0-e7017e8e85ac\",\"type\":\"CDSView\"}],\"root_ids\":[\"407d6f32-3c85-4ef7-b50a-b7a3eee20508\"]},\"title\":\"Bokeh Application\",\"version\":\"0.12.10\"}};\n",
       "    var render_items = [{\"docid\":\"25f03479-9596-4a93-ac55-3a73275baee0\",\"elementid\":\"e7cfe1b5-714b-4e8d-bf1e-5d257d0d991b\",\"modelid\":\"407d6f32-3c85-4ef7-b50a-b7a3eee20508\"}];\n",
       "\n",
       "    root.Bokeh.embed.embed_items(docs_json, render_items);\n",
       "  }\n",
       "\n",
       "  if (root.Bokeh !== undefined) {\n",
       "    embed_document(root);\n",
       "  } else {\n",
       "    var attempts = 0;\n",
       "    var timer = setInterval(function(root) {\n",
       "      if (root.Bokeh !== undefined) {\n",
       "        embed_document(root);\n",
       "        clearInterval(timer);\n",
       "      }\n",
       "      attempts++;\n",
       "      if (attempts > 100) {\n",
       "        console.log(\"Bokeh: ERROR: Unable to embed document because BokehJS library is missing\")\n",
       "        clearInterval(timer);\n",
       "      }\n",
       "    }, 10, root)\n",
       "  }\n",
       "})(window);"
      ],
      "application/vnd.bokehjs_exec.v0+json": ""
     },
     "metadata": {
      "application/vnd.bokehjs_exec.v0+json": {
       "id": "407d6f32-3c85-4ef7-b50a-b7a3eee20508"
      }
     },
     "output_type": "display_data"
    }
   ],
   "source": [
    "from bokeh.models import ColumnDataSource\n",
    "\n",
    "\n",
    "source=ColumnDataSource(data=dict(species=test.iloc[:,1],\n",
    "                                  sepal_length=test.iloc[:,0]))\n",
    "p=figure(x_range=species,plot_height=250,\n",
    "         y_range=(0,7),title='Sepal_length')\n",
    "p.vbar(x=\"species\",top=\"sepal_length\",width=0.9,\n",
    "       legend='species',source=source)\n",
    "show(p)"
   ]
  },
  {
   "cell_type": "markdown",
   "metadata": {},
   "source": [
    "# Stacked Bars"
   ]
  },
  {
   "cell_type": "code",
   "execution_count": 84,
   "metadata": {},
   "outputs": [
    {
     "data": {
      "text/html": [
       "\n",
       "<div class=\"bk-root\">\n",
       "    <div class=\"bk-plotdiv\" id=\"6405ebff-cb79-432f-8475-9747b0787fac\"></div>\n",
       "</div>"
      ]
     },
     "metadata": {},
     "output_type": "display_data"
    },
    {
     "data": {
      "application/javascript": [
       "(function(root) {\n",
       "  function embed_document(root) {\n",
       "    var docs_json = {\"26eac798-ccc6-481d-a2b9-20f5d523c394\":{\"roots\":{\"references\":[{\"attributes\":{\"fill_alpha\":{\"value\":0.1},\"fill_color\":{\"value\":\"#1f77b4\"},\"height\":{\"value\":0.9},\"left\":{\"expr\":{\"id\":\"e44340ea-08d3-46ae-8a95-76d2f62ca3c1\",\"type\":\"Stack\"}},\"line_alpha\":{\"value\":0.1},\"line_color\":{\"value\":\"#1f77b4\"},\"right\":{\"expr\":{\"id\":\"1bbe9c8d-0a49-4c2a-b1dc-1d0f2d1ef7c1\",\"type\":\"Stack\"}},\"y\":{\"field\":\"fruits\"}},\"id\":\"07f5ccfa-9a61-4c3b-8d7f-c2da6209138f\",\"type\":\"HBar\"},{\"attributes\":{},\"id\":\"84adcf1c-011d-43a3-9655-8bde16a9df5d\",\"type\":\"WheelZoomTool\"},{\"attributes\":{\"plot\":{\"id\":\"c4c3cfec-4467-49c9-bd7a-90047357a11c\",\"subtype\":\"Figure\",\"type\":\"Plot\"},\"ticker\":{\"id\":\"49bcb638-2e9c-47e0-a5ee-c0368f1ee8bc\",\"type\":\"BasicTicker\"}},\"id\":\"40acdcf7-876e-47ee-8e4f-0ffa5f2e8a47\",\"type\":\"Grid\"},{\"attributes\":{\"overlay\":{\"id\":\"21ea51e7-db8f-42f2-afd6-49f70ec4b7a2\",\"type\":\"BoxAnnotation\"}},\"id\":\"02dd96d9-a703-4d71-982d-b190bd4b08c8\",\"type\":\"BoxZoomTool\"},{\"attributes\":{\"data_source\":{\"id\":\"fdf8db14-917f-4c7a-855d-7779858041e1\",\"type\":\"ColumnDataSource\"},\"glyph\":{\"id\":\"80f10cba-721d-4d27-afc8-fa32ac2ea393\",\"type\":\"HBar\"},\"hover_glyph\":null,\"muted_glyph\":null,\"nonselection_glyph\":{\"id\":\"07f5ccfa-9a61-4c3b-8d7f-c2da6209138f\",\"type\":\"HBar\"},\"selection_glyph\":null,\"view\":{\"id\":\"5c028431-c451-4dfb-8e1d-352b94a898ac\",\"type\":\"CDSView\"}},\"id\":\"18defc2b-8415-4d9f-8244-18a14d719ce9\",\"type\":\"GlyphRenderer\"},{\"attributes\":{},\"id\":\"088409ff-bd17-46a9-9461-89714c5e420d\",\"type\":\"SaveTool\"},{\"attributes\":{\"bottom_units\":\"screen\",\"fill_alpha\":{\"value\":0.5},\"fill_color\":{\"value\":\"lightgrey\"},\"left_units\":\"screen\",\"level\":\"overlay\",\"line_alpha\":{\"value\":1.0},\"line_color\":{\"value\":\"black\"},\"line_dash\":[4,4],\"line_width\":{\"value\":2},\"plot\":null,\"render_mode\":\"css\",\"right_units\":\"screen\",\"top_units\":\"screen\"},\"id\":\"21ea51e7-db8f-42f2-afd6-49f70ec4b7a2\",\"type\":\"BoxAnnotation\"},{\"attributes\":{\"label\":{\"value\":\"2016 exports\"},\"renderers\":[{\"id\":\"9af19326-10a4-4830-aeaa-a079c65346a6\",\"type\":\"GlyphRenderer\"}]},\"id\":\"eba12309-3abf-4ab6-a674-d64166bf061a\",\"type\":\"LegendItem\"},{\"attributes\":{},\"id\":\"cfaa7524-2ad1-4a95-9385-da2bf6df6e82\",\"type\":\"ResetTool\"},{\"attributes\":{\"fields\":[]},\"id\":\"e44340ea-08d3-46ae-8a95-76d2f62ca3c1\",\"type\":\"Stack\"},{\"attributes\":{\"fill_color\":{\"value\":\"#a8ddb5\"},\"height\":{\"value\":0.9},\"left\":{\"expr\":{\"id\":\"6b20faec-6939-4d7a-9094-6b82e57352f5\",\"type\":\"Stack\"}},\"line_color\":{\"value\":\"#a8ddb5\"},\"right\":{\"expr\":{\"id\":\"270662f5-bbe1-4fbb-a4ce-fa214f787241\",\"type\":\"Stack\"}},\"y\":{\"field\":\"fruits\"}},\"id\":\"974a8822-f25a-4a5c-b6f7-d543f23562dc\",\"type\":\"HBar\"},{\"attributes\":{\"fields\":[\"2015\",\"2016\"]},\"id\":\"87ebed22-29a2-4da4-9a15-9ced6aea1b5b\",\"type\":\"Stack\"},{\"attributes\":{},\"id\":\"09497654-aad3-4994-8d3f-9ec2bdf964c4\",\"type\":\"CategoricalTickFormatter\"},{\"attributes\":{\"fields\":[\"2015\",\"2016\"]},\"id\":\"da4a372b-a2d8-46ef-88a1-a8bb79e04511\",\"type\":\"Stack\"},{\"attributes\":{\"label\":{\"value\":\"2015 imports\"},\"renderers\":[{\"id\":\"18defc2b-8415-4d9f-8244-18a14d719ce9\",\"type\":\"GlyphRenderer\"}]},\"id\":\"04ef764b-eb4d-42c8-aa74-1cc177c585ff\",\"type\":\"LegendItem\"},{\"attributes\":{\"fields\":[\"2015\",\"2016\"]},\"id\":\"270662f5-bbe1-4fbb-a4ce-fa214f787241\",\"type\":\"Stack\"},{\"attributes\":{\"fields\":[\"2015\",\"2016\"]},\"id\":\"f3d7906f-fa36-426a-872d-504ed71f638c\",\"type\":\"Stack\"},{\"attributes\":{},\"id\":\"6aac3627-f873-4050-be72-7e5e98cf0e82\",\"type\":\"LinearScale\"},{\"attributes\":{\"fill_color\":{\"value\":\"#e34a33\"},\"height\":{\"value\":0.9},\"left\":{\"expr\":{\"id\":\"e44340ea-08d3-46ae-8a95-76d2f62ca3c1\",\"type\":\"Stack\"}},\"line_color\":{\"value\":\"#e34a33\"},\"right\":{\"expr\":{\"id\":\"1bbe9c8d-0a49-4c2a-b1dc-1d0f2d1ef7c1\",\"type\":\"Stack\"}},\"y\":{\"field\":\"fruits\"}},\"id\":\"80f10cba-721d-4d27-afc8-fa32ac2ea393\",\"type\":\"HBar\"},{\"attributes\":{\"source\":{\"id\":\"fdf8db14-917f-4c7a-855d-7779858041e1\",\"type\":\"ColumnDataSource\"}},\"id\":\"5c028431-c451-4dfb-8e1d-352b94a898ac\",\"type\":\"CDSView\"},{\"attributes\":{},\"id\":\"14bdb5d6-a273-43cf-b5b8-6c467a9c39cb\",\"type\":\"HelpTool\"},{\"attributes\":{\"fill_alpha\":{\"value\":0.1},\"fill_color\":{\"value\":\"#1f77b4\"},\"height\":{\"value\":0.9},\"left\":{\"expr\":{\"id\":\"6b20faec-6939-4d7a-9094-6b82e57352f5\",\"type\":\"Stack\"}},\"line_alpha\":{\"value\":0.1},\"line_color\":{\"value\":\"#1f77b4\"},\"right\":{\"expr\":{\"id\":\"270662f5-bbe1-4fbb-a4ce-fa214f787241\",\"type\":\"Stack\"}},\"y\":{\"field\":\"fruits\"}},\"id\":\"283d8b4b-c531-453e-935f-6da89fa05d3a\",\"type\":\"HBar\"},{\"attributes\":{\"fill_color\":{\"value\":\"#fdbb84\"},\"height\":{\"value\":0.9},\"left\":{\"expr\":{\"id\":\"823d5cd2-5d50-454f-9f50-03d5fd405fb1\",\"type\":\"Stack\"}},\"line_color\":{\"value\":\"#fdbb84\"},\"right\":{\"expr\":{\"id\":\"f3d7906f-fa36-426a-872d-504ed71f638c\",\"type\":\"Stack\"}},\"y\":{\"field\":\"fruits\"}},\"id\":\"0a130c01-ed9b-4d98-88f5-b94dbe01fd9b\",\"type\":\"HBar\"},{\"attributes\":{\"fields\":[\"2015\",\"2016\",\"2017\"]},\"id\":\"f4d87852-e4b8-4745-bbb8-3c5613d885ce\",\"type\":\"Stack\"},{\"attributes\":{\"items\":[{\"id\":\"4b4862e3-8a8e-4fbd-a08b-1905f6dcc423\",\"type\":\"LegendItem\"},{\"id\":\"eba12309-3abf-4ab6-a674-d64166bf061a\",\"type\":\"LegendItem\"},{\"id\":\"c179eda4-2c7f-42f9-8a9a-6367b29025ae\",\"type\":\"LegendItem\"},{\"id\":\"04ef764b-eb4d-42c8-aa74-1cc177c585ff\",\"type\":\"LegendItem\"},{\"id\":\"1f9c2e4b-c1b7-48a5-b61b-275688c759ab\",\"type\":\"LegendItem\"},{\"id\":\"921986b4-f1f4-40bd-86e7-8c5702d9e67b\",\"type\":\"LegendItem\"}],\"location\":\"center_left\",\"plot\":{\"id\":\"c4c3cfec-4467-49c9-bd7a-90047357a11c\",\"subtype\":\"Figure\",\"type\":\"Plot\"}},\"id\":\"c63d407a-8ffb-45f8-85dd-1acc9654f9be\",\"type\":\"Legend\"},{\"attributes\":{\"fill_alpha\":{\"value\":0.1},\"fill_color\":{\"value\":\"#1f77b4\"},\"height\":{\"value\":0.9},\"left\":{\"expr\":{\"id\":\"823d5cd2-5d50-454f-9f50-03d5fd405fb1\",\"type\":\"Stack\"}},\"line_alpha\":{\"value\":0.1},\"line_color\":{\"value\":\"#1f77b4\"},\"right\":{\"expr\":{\"id\":\"f3d7906f-fa36-426a-872d-504ed71f638c\",\"type\":\"Stack\"}},\"y\":{\"field\":\"fruits\"}},\"id\":\"1fd97f17-a68b-448c-9335-6f2322da2f5c\",\"type\":\"HBar\"},{\"attributes\":{\"fields\":[\"2015\"]},\"id\":\"1bbe9c8d-0a49-4c2a-b1dc-1d0f2d1ef7c1\",\"type\":\"Stack\"},{\"attributes\":{\"data_source\":{\"id\":\"ecb51114-ff34-4a7d-8713-8306c4f0ac41\",\"type\":\"ColumnDataSource\"},\"glyph\":{\"id\":\"974a8822-f25a-4a5c-b6f7-d543f23562dc\",\"type\":\"HBar\"},\"hover_glyph\":null,\"muted_glyph\":null,\"nonselection_glyph\":{\"id\":\"283d8b4b-c531-453e-935f-6da89fa05d3a\",\"type\":\"HBar\"},\"selection_glyph\":null,\"view\":{\"id\":\"bc5fd8ef-50e9-49e2-b6d8-1fc1a8b062c5\",\"type\":\"CDSView\"}},\"id\":\"9af19326-10a4-4830-aeaa-a079c65346a6\",\"type\":\"GlyphRenderer\"},{\"attributes\":{\"label\":{\"value\":\"2015 exports\"},\"renderers\":[{\"id\":\"58b76c9e-26fc-4c7d-a2dd-d6c36e450220\",\"type\":\"GlyphRenderer\"}]},\"id\":\"4b4862e3-8a8e-4fbd-a08b-1905f6dcc423\",\"type\":\"LegendItem\"},{\"attributes\":{\"label\":{\"value\":\"2016 imports\"},\"renderers\":[{\"id\":\"ea66e8de-14af-4b7f-82d7-1ae1d2ec0bbe\",\"type\":\"GlyphRenderer\"}]},\"id\":\"1f9c2e4b-c1b7-48a5-b61b-275688c759ab\",\"type\":\"LegendItem\"},{\"attributes\":{\"fill_color\":{\"value\":\"#43a2ca\"},\"height\":{\"value\":0.9},\"left\":{\"expr\":{\"id\":\"882a6ab9-369c-4ac2-932d-82f0294b0bdc\",\"type\":\"Stack\"}},\"line_color\":{\"value\":\"#43a2ca\"},\"right\":{\"expr\":{\"id\":\"612ef95c-6c9d-46fb-afac-ed7f22302d3a\",\"type\":\"Stack\"}},\"y\":{\"field\":\"fruits\"}},\"id\":\"e3e47c25-3a91-4034-ae5b-c7b1302331eb\",\"type\":\"HBar\"},{\"attributes\":{\"source\":{\"id\":\"ecb51114-ff34-4a7d-8713-8306c4f0ac41\",\"type\":\"ColumnDataSource\"}},\"id\":\"bc5fd8ef-50e9-49e2-b6d8-1fc1a8b062c5\",\"type\":\"CDSView\"},{\"attributes\":{\"data_source\":{\"id\":\"fdf8db14-917f-4c7a-855d-7779858041e1\",\"type\":\"ColumnDataSource\"},\"glyph\":{\"id\":\"0a130c01-ed9b-4d98-88f5-b94dbe01fd9b\",\"type\":\"HBar\"},\"hover_glyph\":null,\"muted_glyph\":null,\"nonselection_glyph\":{\"id\":\"1fd97f17-a68b-448c-9335-6f2322da2f5c\",\"type\":\"HBar\"},\"selection_glyph\":null,\"view\":{\"id\":\"a2866b08-d428-48f5-afd7-ee3be02649ca\",\"type\":\"CDSView\"}},\"id\":\"ea66e8de-14af-4b7f-82d7-1ae1d2ec0bbe\",\"type\":\"GlyphRenderer\"},{\"attributes\":{\"fill_alpha\":{\"value\":0.1},\"fill_color\":{\"value\":\"#1f77b4\"},\"height\":{\"value\":0.9},\"left\":{\"expr\":{\"id\":\"882a6ab9-369c-4ac2-932d-82f0294b0bdc\",\"type\":\"Stack\"}},\"line_alpha\":{\"value\":0.1},\"line_color\":{\"value\":\"#1f77b4\"},\"right\":{\"expr\":{\"id\":\"612ef95c-6c9d-46fb-afac-ed7f22302d3a\",\"type\":\"Stack\"}},\"y\":{\"field\":\"fruits\"}},\"id\":\"2b3ffc02-bd53-475d-9ebc-771e8f907ee7\",\"type\":\"HBar\"},{\"attributes\":{\"fill_color\":{\"value\":\"#e0f3db\"},\"height\":{\"value\":0.9},\"left\":{\"expr\":{\"id\":\"87ebed22-29a2-4da4-9a15-9ced6aea1b5b\",\"type\":\"Stack\"}},\"line_color\":{\"value\":\"#e0f3db\"},\"right\":{\"expr\":{\"id\":\"f4d87852-e4b8-4745-bbb8-3c5613d885ce\",\"type\":\"Stack\"}},\"y\":{\"field\":\"fruits\"}},\"id\":\"c52c0cab-2283-4219-9034-e0a1b8ce38f9\",\"type\":\"HBar\"},{\"attributes\":{\"source\":{\"id\":\"fdf8db14-917f-4c7a-855d-7779858041e1\",\"type\":\"ColumnDataSource\"}},\"id\":\"a2866b08-d428-48f5-afd7-ee3be02649ca\",\"type\":\"CDSView\"},{\"attributes\":{\"fields\":[\"2015\",\"2016\",\"2017\"]},\"id\":\"2fc601fe-fec7-4485-9ff4-9c624a4492f7\",\"type\":\"Stack\"},{\"attributes\":{\"fill_alpha\":{\"value\":0.1},\"fill_color\":{\"value\":\"#1f77b4\"},\"height\":{\"value\":0.9},\"left\":{\"expr\":{\"id\":\"87ebed22-29a2-4da4-9a15-9ced6aea1b5b\",\"type\":\"Stack\"}},\"line_alpha\":{\"value\":0.1},\"line_color\":{\"value\":\"#1f77b4\"},\"right\":{\"expr\":{\"id\":\"f4d87852-e4b8-4745-bbb8-3c5613d885ce\",\"type\":\"Stack\"}},\"y\":{\"field\":\"fruits\"}},\"id\":\"74b486dd-0a92-4ebf-b757-b58f809d0894\",\"type\":\"HBar\"},{\"attributes\":{\"fill_color\":{\"value\":\"#fee8c8\"},\"height\":{\"value\":0.9},\"left\":{\"expr\":{\"id\":\"da4a372b-a2d8-46ef-88a1-a8bb79e04511\",\"type\":\"Stack\"}},\"line_color\":{\"value\":\"#fee8c8\"},\"right\":{\"expr\":{\"id\":\"2fc601fe-fec7-4485-9ff4-9c624a4492f7\",\"type\":\"Stack\"}},\"y\":{\"field\":\"fruits\"}},\"id\":\"ff730143-f166-49e4-a0b2-ec42b67eb892\",\"type\":\"HBar\"},{\"attributes\":{\"data_source\":{\"id\":\"ecb51114-ff34-4a7d-8713-8306c4f0ac41\",\"type\":\"ColumnDataSource\"},\"glyph\":{\"id\":\"e3e47c25-3a91-4034-ae5b-c7b1302331eb\",\"type\":\"HBar\"},\"hover_glyph\":null,\"muted_glyph\":null,\"nonselection_glyph\":{\"id\":\"2b3ffc02-bd53-475d-9ebc-771e8f907ee7\",\"type\":\"HBar\"},\"selection_glyph\":null,\"view\":{\"id\":\"835cb9ea-020f-45a0-b309-f14582986392\",\"type\":\"CDSView\"}},\"id\":\"58b76c9e-26fc-4c7d-a2dd-d6c36e450220\",\"type\":\"GlyphRenderer\"},{\"attributes\":{\"label\":{\"value\":\"2017 exports\"},\"renderers\":[{\"id\":\"95713fbd-612b-4865-9eb3-1ab49d6271fd\",\"type\":\"GlyphRenderer\"}]},\"id\":\"c179eda4-2c7f-42f9-8a9a-6367b29025ae\",\"type\":\"LegendItem\"},{\"attributes\":{\"fill_alpha\":{\"value\":0.1},\"fill_color\":{\"value\":\"#1f77b4\"},\"height\":{\"value\":0.9},\"left\":{\"expr\":{\"id\":\"da4a372b-a2d8-46ef-88a1-a8bb79e04511\",\"type\":\"Stack\"}},\"line_alpha\":{\"value\":0.1},\"line_color\":{\"value\":\"#1f77b4\"},\"right\":{\"expr\":{\"id\":\"2fc601fe-fec7-4485-9ff4-9c624a4492f7\",\"type\":\"Stack\"}},\"y\":{\"field\":\"fruits\"}},\"id\":\"99a0b6c2-ca76-4741-b997-febd4ce878e1\",\"type\":\"HBar\"},{\"attributes\":{\"source\":{\"id\":\"ecb51114-ff34-4a7d-8713-8306c4f0ac41\",\"type\":\"ColumnDataSource\"}},\"id\":\"9669b442-c133-417a-88fb-bb023b6b6cab\",\"type\":\"CDSView\"},{\"attributes\":{\"fields\":[\"2015\"]},\"id\":\"823d5cd2-5d50-454f-9f50-03d5fd405fb1\",\"type\":\"Stack\"},{\"attributes\":{\"data_source\":{\"id\":\"fdf8db14-917f-4c7a-855d-7779858041e1\",\"type\":\"ColumnDataSource\"},\"glyph\":{\"id\":\"ff730143-f166-49e4-a0b2-ec42b67eb892\",\"type\":\"HBar\"},\"hover_glyph\":null,\"muted_glyph\":null,\"nonselection_glyph\":{\"id\":\"99a0b6c2-ca76-4741-b997-febd4ce878e1\",\"type\":\"HBar\"},\"selection_glyph\":null,\"view\":{\"id\":\"50d24913-25fc-4681-b146-c157b5dff705\",\"type\":\"CDSView\"}},\"id\":\"5af90abc-9699-4819-972c-1ef9cc5585d9\",\"type\":\"GlyphRenderer\"},{\"attributes\":{\"source\":{\"id\":\"fdf8db14-917f-4c7a-855d-7779858041e1\",\"type\":\"ColumnDataSource\"}},\"id\":\"50d24913-25fc-4681-b146-c157b5dff705\",\"type\":\"CDSView\"},{\"attributes\":{\"active_drag\":\"auto\",\"active_inspect\":\"auto\",\"active_scroll\":\"auto\",\"active_tap\":\"auto\",\"tools\":[{\"id\":\"f2c79025-f997-49be-8584-1bab28d18948\",\"type\":\"PanTool\"},{\"id\":\"84adcf1c-011d-43a3-9655-8bde16a9df5d\",\"type\":\"WheelZoomTool\"},{\"id\":\"02dd96d9-a703-4d71-982d-b190bd4b08c8\",\"type\":\"BoxZoomTool\"},{\"id\":\"088409ff-bd17-46a9-9461-89714c5e420d\",\"type\":\"SaveTool\"},{\"id\":\"cfaa7524-2ad1-4a95-9385-da2bf6df6e82\",\"type\":\"ResetTool\"},{\"id\":\"14bdb5d6-a273-43cf-b5b8-6c467a9c39cb\",\"type\":\"HelpTool\"}]},\"id\":\"1521a928-f4b1-4e56-bd63-090774f10a87\",\"type\":\"Toolbar\"},{\"attributes\":{\"label\":{\"value\":\"2017 imports\"},\"renderers\":[{\"id\":\"5af90abc-9699-4819-972c-1ef9cc5585d9\",\"type\":\"GlyphRenderer\"}]},\"id\":\"921986b4-f1f4-40bd-86e7-8c5702d9e67b\",\"type\":\"LegendItem\"},{\"attributes\":{\"formatter\":{\"id\":\"09497654-aad3-4994-8d3f-9ec2bdf964c4\",\"type\":\"CategoricalTickFormatter\"},\"plot\":{\"id\":\"c4c3cfec-4467-49c9-bd7a-90047357a11c\",\"subtype\":\"Figure\",\"type\":\"Plot\"},\"ticker\":{\"id\":\"e7b40fdb-99eb-4e25-a9b2-c8277d358007\",\"type\":\"CategoricalTicker\"}},\"id\":\"ee2dd5fe-7c43-44db-9400-24708f15761a\",\"type\":\"CategoricalAxis\"},{\"attributes\":{},\"id\":\"49bcb638-2e9c-47e0-a5ee-c0368f1ee8bc\",\"type\":\"BasicTicker\"},{\"attributes\":{\"plot\":null,\"text\":\"Fruit import/export, by year\"},\"id\":\"7fc6f51a-3dbf-4147-815f-15bbbaae6155\",\"type\":\"Title\"},{\"attributes\":{},\"id\":\"43997838-5b45-4ec4-8595-e0015a37d5f6\",\"type\":\"BasicTickFormatter\"},{\"attributes\":{\"fields\":[\"2015\"]},\"id\":\"6b20faec-6939-4d7a-9094-6b82e57352f5\",\"type\":\"Stack\"},{\"attributes\":{\"fields\":[\"2015\"]},\"id\":\"612ef95c-6c9d-46fb-afac-ed7f22302d3a\",\"type\":\"Stack\"},{\"attributes\":{\"callback\":null,\"end\":16,\"start\":-16},\"id\":\"2c6fce33-de58-4128-9554-b1a09fb6b555\",\"type\":\"Range1d\"},{\"attributes\":{\"fields\":[]},\"id\":\"882a6ab9-369c-4ac2-932d-82f0294b0bdc\",\"type\":\"Stack\"},{\"attributes\":{},\"id\":\"f2c79025-f997-49be-8584-1bab28d18948\",\"type\":\"PanTool\"},{\"attributes\":{\"formatter\":{\"id\":\"43997838-5b45-4ec4-8595-e0015a37d5f6\",\"type\":\"BasicTickFormatter\"},\"plot\":{\"id\":\"c4c3cfec-4467-49c9-bd7a-90047357a11c\",\"subtype\":\"Figure\",\"type\":\"Plot\"},\"ticker\":{\"id\":\"49bcb638-2e9c-47e0-a5ee-c0368f1ee8bc\",\"type\":\"BasicTicker\"}},\"id\":\"fd9a5398-cef9-4dfd-825c-fc586166fefb\",\"type\":\"LinearAxis\"},{\"attributes\":{\"callback\":null,\"column_names\":[\"fruits\",\"2015\",\"2016\",\"2017\"],\"data\":{\"2015\":[2,1,4,3,2,4],\"2016\":[5,3,4,2,4,6],\"2017\":[3,2,4,4,5,3],\"fruits\":[\"Apples\",\"Pears\",\"Nectarines\",\"Plums\",\"Grapes\",\"Strawberries\"]}},\"id\":\"ecb51114-ff34-4a7d-8713-8306c4f0ac41\",\"type\":\"ColumnDataSource\"},{\"attributes\":{\"data_source\":{\"id\":\"ecb51114-ff34-4a7d-8713-8306c4f0ac41\",\"type\":\"ColumnDataSource\"},\"glyph\":{\"id\":\"c52c0cab-2283-4219-9034-e0a1b8ce38f9\",\"type\":\"HBar\"},\"hover_glyph\":null,\"muted_glyph\":null,\"nonselection_glyph\":{\"id\":\"74b486dd-0a92-4ebf-b757-b58f809d0894\",\"type\":\"HBar\"},\"selection_glyph\":null,\"view\":{\"id\":\"9669b442-c133-417a-88fb-bb023b6b6cab\",\"type\":\"CDSView\"}},\"id\":\"95713fbd-612b-4865-9eb3-1ab49d6271fd\",\"type\":\"GlyphRenderer\"},{\"attributes\":{\"below\":[{\"id\":\"fd9a5398-cef9-4dfd-825c-fc586166fefb\",\"type\":\"LinearAxis\"}],\"left\":[{\"id\":\"ee2dd5fe-7c43-44db-9400-24708f15761a\",\"type\":\"CategoricalAxis\"}],\"plot_height\":250,\"renderers\":[{\"id\":\"fd9a5398-cef9-4dfd-825c-fc586166fefb\",\"type\":\"LinearAxis\"},{\"id\":\"40acdcf7-876e-47ee-8e4f-0ffa5f2e8a47\",\"type\":\"Grid\"},{\"id\":\"ee2dd5fe-7c43-44db-9400-24708f15761a\",\"type\":\"CategoricalAxis\"},{\"id\":\"7b50a93e-0e39-4839-9703-0e706a60ce21\",\"type\":\"Grid\"},{\"id\":\"21ea51e7-db8f-42f2-afd6-49f70ec4b7a2\",\"type\":\"BoxAnnotation\"},{\"id\":\"c63d407a-8ffb-45f8-85dd-1acc9654f9be\",\"type\":\"Legend\"},{\"id\":\"58b76c9e-26fc-4c7d-a2dd-d6c36e450220\",\"type\":\"GlyphRenderer\"},{\"id\":\"9af19326-10a4-4830-aeaa-a079c65346a6\",\"type\":\"GlyphRenderer\"},{\"id\":\"95713fbd-612b-4865-9eb3-1ab49d6271fd\",\"type\":\"GlyphRenderer\"},{\"id\":\"18defc2b-8415-4d9f-8244-18a14d719ce9\",\"type\":\"GlyphRenderer\"},{\"id\":\"ea66e8de-14af-4b7f-82d7-1ae1d2ec0bbe\",\"type\":\"GlyphRenderer\"},{\"id\":\"5af90abc-9699-4819-972c-1ef9cc5585d9\",\"type\":\"GlyphRenderer\"}],\"title\":{\"id\":\"7fc6f51a-3dbf-4147-815f-15bbbaae6155\",\"type\":\"Title\"},\"toolbar\":{\"id\":\"1521a928-f4b1-4e56-bd63-090774f10a87\",\"type\":\"Toolbar\"},\"x_range\":{\"id\":\"2c6fce33-de58-4128-9554-b1a09fb6b555\",\"type\":\"Range1d\"},\"x_scale\":{\"id\":\"6aac3627-f873-4050-be72-7e5e98cf0e82\",\"type\":\"LinearScale\"},\"y_range\":{\"id\":\"97ec75e0-49e5-4708-87af-d8d020f4a5cb\",\"type\":\"FactorRange\"},\"y_scale\":{\"id\":\"384c62e6-5f78-489f-b330-60841d020e5c\",\"type\":\"CategoricalScale\"}},\"id\":\"c4c3cfec-4467-49c9-bd7a-90047357a11c\",\"subtype\":\"Figure\",\"type\":\"Plot\"},{\"attributes\":{\"dimension\":1,\"grid_line_color\":{\"value\":null},\"plot\":{\"id\":\"c4c3cfec-4467-49c9-bd7a-90047357a11c\",\"subtype\":\"Figure\",\"type\":\"Plot\"},\"ticker\":{\"id\":\"e7b40fdb-99eb-4e25-a9b2-c8277d358007\",\"type\":\"CategoricalTicker\"}},\"id\":\"7b50a93e-0e39-4839-9703-0e706a60ce21\",\"type\":\"Grid\"},{\"attributes\":{},\"id\":\"384c62e6-5f78-489f-b330-60841d020e5c\",\"type\":\"CategoricalScale\"},{\"attributes\":{\"callback\":null,\"factors\":[\"Apples\",\"Pears\",\"Nectarines\",\"Plums\",\"Grapes\",\"Strawberries\"],\"range_padding\":0.15},\"id\":\"97ec75e0-49e5-4708-87af-d8d020f4a5cb\",\"type\":\"FactorRange\"},{\"attributes\":{\"callback\":null,\"column_names\":[\"fruits\",\"2015\",\"2016\",\"2017\"],\"data\":{\"2015\":[-1,0,-1,-3,-2,-1],\"2016\":[-2,-1,-3,-1,-2,-2],\"2017\":[-1,-2,-1,0,-2,-2],\"fruits\":[\"Apples\",\"Pears\",\"Nectarines\",\"Plums\",\"Grapes\",\"Strawberries\"]}},\"id\":\"fdf8db14-917f-4c7a-855d-7779858041e1\",\"type\":\"ColumnDataSource\"},{\"attributes\":{},\"id\":\"e7b40fdb-99eb-4e25-a9b2-c8277d358007\",\"type\":\"CategoricalTicker\"},{\"attributes\":{\"source\":{\"id\":\"ecb51114-ff34-4a7d-8713-8306c4f0ac41\",\"type\":\"ColumnDataSource\"}},\"id\":\"835cb9ea-020f-45a0-b309-f14582986392\",\"type\":\"CDSView\"}],\"root_ids\":[\"c4c3cfec-4467-49c9-bd7a-90047357a11c\"]},\"title\":\"Bokeh Application\",\"version\":\"0.12.10\"}};\n",
       "    var render_items = [{\"docid\":\"26eac798-ccc6-481d-a2b9-20f5d523c394\",\"elementid\":\"6405ebff-cb79-432f-8475-9747b0787fac\",\"modelid\":\"c4c3cfec-4467-49c9-bd7a-90047357a11c\"}];\n",
       "\n",
       "    root.Bokeh.embed.embed_items(docs_json, render_items);\n",
       "  }\n",
       "\n",
       "  if (root.Bokeh !== undefined) {\n",
       "    embed_document(root);\n",
       "  } else {\n",
       "    var attempts = 0;\n",
       "    var timer = setInterval(function(root) {\n",
       "      if (root.Bokeh !== undefined) {\n",
       "        embed_document(root);\n",
       "        clearInterval(timer);\n",
       "      }\n",
       "      attempts++;\n",
       "      if (attempts > 100) {\n",
       "        console.log(\"Bokeh: ERROR: Unable to embed document because BokehJS library is missing\")\n",
       "        clearInterval(timer);\n",
       "      }\n",
       "    }, 10, root)\n",
       "  }\n",
       "})(window);"
      ],
      "application/vnd.bokehjs_exec.v0+json": ""
     },
     "metadata": {
      "application/vnd.bokehjs_exec.v0+json": {
       "id": "c4c3cfec-4467-49c9-bd7a-90047357a11c"
      }
     },
     "output_type": "display_data"
    }
   ],
   "source": [
    "from bokeh.palettes import GnBu3, OrRd3\n",
    "years = ['2015', '2016', '2017']\n",
    "\n",
    "exports = {'fruits' : fruits,\n",
    "           '2015'   : [2, 1, 4, 3, 2, 4],\n",
    "           '2016'   : [5, 3, 4, 2, 4, 6],\n",
    "           '2017'   : [3, 2, 4, 4, 5, 3]}\n",
    "imports = {'fruits' : fruits,\n",
    "           '2015'   : [-1, 0, -1, -3, -2, -1],\n",
    "           '2016'   : [-2, -1, -3, -1, -2, -2],\n",
    "           '2017'   : [-1, -2, -1, 0, -2, -2]}\n",
    "\n",
    "p=figure(y_range=fruits,plot_height=250,x_range=(-16,16),title=\"Fruit import/export, by year\")\n",
    "\n",
    "p.hbar_stack(years,y='fruits',height=0.9,color=GnBu3,source=ColumnDataSource(exports),\n",
    "            legend=['%s exports' % x for x in years])\n",
    "p.hbar_stack(years,y='fruits',height=0.9,color=OrRd3,source=ColumnDataSource(imports),\n",
    "            legend=['%s imports'% x for x in years])\n",
    "\n",
    "p.y_range.range_padding=0.15\n",
    "p.ygrid.grid_line_color=None\n",
    "p.legend.location='center_left'\n",
    "\n",
    "show(p)"
   ]
  },
  {
   "cell_type": "code",
   "execution_count": 88,
   "metadata": {},
   "outputs": [
    {
     "data": {
      "text/html": [
       "\n",
       "<div class=\"bk-root\">\n",
       "    <div class=\"bk-plotdiv\" id=\"25660096-d747-4e5d-8280-2350b08ccde7\"></div>\n",
       "</div>"
      ]
     },
     "metadata": {},
     "output_type": "display_data"
    },
    {
     "data": {
      "application/javascript": [
       "(function(root) {\n",
       "  function embed_document(root) {\n",
       "    var docs_json = {\"759cbe34-29ab-4ab3-8ee8-ecbc921ac6ca\":{\"roots\":{\"references\":[{\"attributes\":{\"below\":[{\"id\":\"88cc4d8a-9aa0-4025-a2f7-d34cd3a5355d\",\"type\":\"CategoricalAxis\"}],\"left\":[{\"id\":\"4e9d7bf3-d3ad-420e-af56-f047bf064401\",\"type\":\"LinearAxis\"}],\"plot_height\":250,\"renderers\":[{\"id\":\"88cc4d8a-9aa0-4025-a2f7-d34cd3a5355d\",\"type\":\"CategoricalAxis\"},{\"id\":\"9262a145-330c-48dc-b9eb-412f11e18f7e\",\"type\":\"Grid\"},{\"id\":\"4e9d7bf3-d3ad-420e-af56-f047bf064401\",\"type\":\"LinearAxis\"},{\"id\":\"27356770-64c2-4736-9873-084fa5a89ae8\",\"type\":\"Grid\"},{\"id\":\"547f2c50-fc03-4911-b914-776d2fa3ef5c\",\"type\":\"BoxAnnotation\"},{\"id\":\"d7ed46bf-6995-4d80-949f-3fb101ac98c9\",\"type\":\"Legend\"},{\"id\":\"a576e5df-2d39-486e-8961-f2662cfd1da6\",\"type\":\"GlyphRenderer\"},{\"id\":\"498f3dc0-bd5e-4372-824d-942942d40a51\",\"type\":\"GlyphRenderer\"},{\"id\":\"c741284b-ca0e-46a1-ae46-b0c184bdf200\",\"type\":\"GlyphRenderer\"}],\"title\":{\"id\":\"86cc2d55-2b5a-40d2-9013-c418ef871c0c\",\"type\":\"Title\"},\"toolbar\":{\"id\":\"17240057-70a0-41c3-ba3f-a9f7febb52db\",\"type\":\"Toolbar\"},\"x_range\":{\"id\":\"cf302eb4-43de-4b7f-9d19-2630ce60a8ed\",\"type\":\"FactorRange\"},\"x_scale\":{\"id\":\"ab2cb097-c833-4303-9174-d843a50b2bfe\",\"type\":\"CategoricalScale\"},\"y_range\":{\"id\":\"b7247626-fa40-4417-879d-d854e1c8f70b\",\"type\":\"Range1d\"},\"y_scale\":{\"id\":\"f0003670-92bb-4433-b899-210ade7c44f4\",\"type\":\"LinearScale\"}},\"id\":\"9e40a1f0-a3a1-402d-8d9c-6e8e913c5adf\",\"subtype\":\"Figure\",\"type\":\"Plot\"},{\"attributes\":{\"fields\":[\"2015\",\"2016\"]},\"id\":\"e44b622d-23a5-48e8-b95a-f4547b2c0f47\",\"type\":\"Stack\"},{\"attributes\":{},\"id\":\"9b245b7f-7a58-494f-9706-b65d7a8da496\",\"type\":\"HelpTool\"},{\"attributes\":{\"dimension\":1,\"plot\":{\"id\":\"9e40a1f0-a3a1-402d-8d9c-6e8e913c5adf\",\"subtype\":\"Figure\",\"type\":\"Plot\"},\"ticker\":{\"id\":\"f3c10b6b-5b72-48d0-85b8-c6a87af2543f\",\"type\":\"BasicTicker\"}},\"id\":\"27356770-64c2-4736-9873-084fa5a89ae8\",\"type\":\"Grid\"},{\"attributes\":{},\"id\":\"f0003670-92bb-4433-b899-210ade7c44f4\",\"type\":\"LinearScale\"},{\"attributes\":{\"fields\":[\"2015\"]},\"id\":\"942f847a-1e9f-4d42-91e6-69ab43d7af51\",\"type\":\"Stack\"},{\"attributes\":{\"data_source\":{\"id\":\"11794b06-59c9-4db1-aacc-d7a074fa80c2\",\"type\":\"ColumnDataSource\"},\"glyph\":{\"id\":\"2b694b1f-b98d-4d30-bd67-13bd30d5ca59\",\"type\":\"VBar\"},\"hover_glyph\":null,\"muted_glyph\":null,\"nonselection_glyph\":{\"id\":\"eb55e6b3-2940-4c34-a179-9936ca05d871\",\"type\":\"VBar\"},\"selection_glyph\":null,\"view\":{\"id\":\"f4b5f777-0397-42be-89f6-19f9382f2545\",\"type\":\"CDSView\"}},\"id\":\"a576e5df-2d39-486e-8961-f2662cfd1da6\",\"type\":\"GlyphRenderer\"},{\"attributes\":{\"fields\":[\"2015\"]},\"id\":\"5ce911eb-9d4f-4a2b-bd7a-fd6fde7c65b3\",\"type\":\"Stack\"},{\"attributes\":{},\"id\":\"ab2cb097-c833-4303-9174-d843a50b2bfe\",\"type\":\"CategoricalScale\"},{\"attributes\":{\"fields\":[\"2015\",\"2016\",\"2017\"]},\"id\":\"7761e7a8-93d1-4304-a3b5-5fdc01e22dfd\",\"type\":\"Stack\"},{\"attributes\":{\"formatter\":{\"id\":\"0dec0361-3207-4b1b-88ef-36c3ec629933\",\"type\":\"BasicTickFormatter\"},\"plot\":{\"id\":\"9e40a1f0-a3a1-402d-8d9c-6e8e913c5adf\",\"subtype\":\"Figure\",\"type\":\"Plot\"},\"ticker\":{\"id\":\"f3c10b6b-5b72-48d0-85b8-c6a87af2543f\",\"type\":\"BasicTicker\"}},\"id\":\"4e9d7bf3-d3ad-420e-af56-f047bf064401\",\"type\":\"LinearAxis\"},{\"attributes\":{},\"id\":\"c700b900-bbee-42c1-92fc-d5565765feae\",\"type\":\"ResetTool\"},{\"attributes\":{},\"id\":\"741c3172-f617-4dfd-9559-187a5fb04ae5\",\"type\":\"CategoricalTickFormatter\"},{\"attributes\":{},\"id\":\"c92c3e62-b194-4c83-944f-d886f4b5693b\",\"type\":\"SaveTool\"},{\"attributes\":{\"overlay\":{\"id\":\"547f2c50-fc03-4911-b914-776d2fa3ef5c\",\"type\":\"BoxAnnotation\"}},\"id\":\"f43e29ed-1808-4a5c-a5bc-016eaff4cf7e\",\"type\":\"BoxZoomTool\"},{\"attributes\":{\"callback\":null,\"factors\":[\"Apples\",\"Pears\",\"Nectarines\",\"Plums\",\"Grapes\",\"Strawberries\"],\"range_padding\":0.15},\"id\":\"cf302eb4-43de-4b7f-9d19-2630ce60a8ed\",\"type\":\"FactorRange\"},{\"attributes\":{},\"id\":\"2910cd24-89d3-4a7c-b876-bfacca163a04\",\"type\":\"WheelZoomTool\"},{\"attributes\":{\"data_source\":{\"id\":\"11794b06-59c9-4db1-aacc-d7a074fa80c2\",\"type\":\"ColumnDataSource\"},\"glyph\":{\"id\":\"dbeb1b4b-e0e8-46fd-b690-68b3bffd0ca7\",\"type\":\"VBar\"},\"hover_glyph\":null,\"muted_glyph\":null,\"nonselection_glyph\":{\"id\":\"04d677d3-ae5c-42f3-a538-d9c6c8516575\",\"type\":\"VBar\"},\"selection_glyph\":null,\"view\":{\"id\":\"e2a1f6c7-4305-44a9-8d92-93b02dab89c1\",\"type\":\"CDSView\"}},\"id\":\"c741284b-ca0e-46a1-ae46-b0c184bdf200\",\"type\":\"GlyphRenderer\"},{\"attributes\":{\"bottom\":{\"expr\":{\"id\":\"3a37d256-ec39-40e7-911e-59a9361765d9\",\"type\":\"Stack\"}},\"fill_alpha\":{\"value\":0.1},\"fill_color\":{\"value\":\"#1f77b4\"},\"line_alpha\":{\"value\":0.1},\"line_color\":{\"value\":\"#1f77b4\"},\"top\":{\"expr\":{\"id\":\"5ce911eb-9d4f-4a2b-bd7a-fd6fde7c65b3\",\"type\":\"Stack\"}},\"width\":{\"value\":0.9},\"x\":{\"field\":\"fruits\"}},\"id\":\"eb55e6b3-2940-4c34-a179-9936ca05d871\",\"type\":\"VBar\"},{\"attributes\":{},\"id\":\"0dec0361-3207-4b1b-88ef-36c3ec629933\",\"type\":\"BasicTickFormatter\"},{\"attributes\":{\"bottom\":{\"expr\":{\"id\":\"e44b622d-23a5-48e8-b95a-f4547b2c0f47\",\"type\":\"Stack\"}},\"fill_color\":{\"value\":\"#e0f3db\"},\"line_color\":{\"value\":\"#e0f3db\"},\"top\":{\"expr\":{\"id\":\"7761e7a8-93d1-4304-a3b5-5fdc01e22dfd\",\"type\":\"Stack\"}},\"width\":{\"value\":0.9},\"x\":{\"field\":\"fruits\"}},\"id\":\"dbeb1b4b-e0e8-46fd-b690-68b3bffd0ca7\",\"type\":\"VBar\"},{\"attributes\":{\"label\":{\"value\":\"2017 export\"},\"renderers\":[{\"id\":\"c741284b-ca0e-46a1-ae46-b0c184bdf200\",\"type\":\"GlyphRenderer\"}]},\"id\":\"778f0ead-5e5b-4505-b98c-c8e36f4603c7\",\"type\":\"LegendItem\"},{\"attributes\":{\"bottom\":{\"expr\":{\"id\":\"3a37d256-ec39-40e7-911e-59a9361765d9\",\"type\":\"Stack\"}},\"fill_color\":{\"value\":\"#43a2ca\"},\"line_color\":{\"value\":\"#43a2ca\"},\"top\":{\"expr\":{\"id\":\"5ce911eb-9d4f-4a2b-bd7a-fd6fde7c65b3\",\"type\":\"Stack\"}},\"width\":{\"value\":0.9},\"x\":{\"field\":\"fruits\"}},\"id\":\"2b694b1f-b98d-4d30-bd67-13bd30d5ca59\",\"type\":\"VBar\"},{\"attributes\":{\"callback\":null,\"end\":16,\"start\":-16},\"id\":\"b7247626-fa40-4417-879d-d854e1c8f70b\",\"type\":\"Range1d\"},{\"attributes\":{\"source\":{\"id\":\"11794b06-59c9-4db1-aacc-d7a074fa80c2\",\"type\":\"ColumnDataSource\"}},\"id\":\"e2a1f6c7-4305-44a9-8d92-93b02dab89c1\",\"type\":\"CDSView\"},{\"attributes\":{},\"id\":\"f3c10b6b-5b72-48d0-85b8-c6a87af2543f\",\"type\":\"BasicTicker\"},{\"attributes\":{\"fields\":[\"2015\",\"2016\"]},\"id\":\"663df52e-6ed4-4f34-bf26-6b75c195571c\",\"type\":\"Stack\"},{\"attributes\":{\"data_source\":{\"id\":\"11794b06-59c9-4db1-aacc-d7a074fa80c2\",\"type\":\"ColumnDataSource\"},\"glyph\":{\"id\":\"0646ee38-aebb-4291-8a28-f544cb5a07e2\",\"type\":\"VBar\"},\"hover_glyph\":null,\"muted_glyph\":null,\"nonselection_glyph\":{\"id\":\"2f20531a-f6a9-4813-8d0a-d2c42295725b\",\"type\":\"VBar\"},\"selection_glyph\":null,\"view\":{\"id\":\"4728a3b9-4e49-4b94-bb1e-d1085b2bab79\",\"type\":\"CDSView\"}},\"id\":\"498f3dc0-bd5e-4372-824d-942942d40a51\",\"type\":\"GlyphRenderer\"},{\"attributes\":{\"items\":[{\"id\":\"5f5588df-b47c-445e-a19b-a412fa7ee132\",\"type\":\"LegendItem\"},{\"id\":\"02f115d2-3140-4155-a5eb-3dd3657c20be\",\"type\":\"LegendItem\"},{\"id\":\"778f0ead-5e5b-4505-b98c-c8e36f4603c7\",\"type\":\"LegendItem\"}],\"plot\":{\"id\":\"9e40a1f0-a3a1-402d-8d9c-6e8e913c5adf\",\"subtype\":\"Figure\",\"type\":\"Plot\"}},\"id\":\"d7ed46bf-6995-4d80-949f-3fb101ac98c9\",\"type\":\"Legend\"},{\"attributes\":{\"source\":{\"id\":\"11794b06-59c9-4db1-aacc-d7a074fa80c2\",\"type\":\"ColumnDataSource\"}},\"id\":\"f4b5f777-0397-42be-89f6-19f9382f2545\",\"type\":\"CDSView\"},{\"attributes\":{\"formatter\":{\"id\":\"741c3172-f617-4dfd-9559-187a5fb04ae5\",\"type\":\"CategoricalTickFormatter\"},\"plot\":{\"id\":\"9e40a1f0-a3a1-402d-8d9c-6e8e913c5adf\",\"subtype\":\"Figure\",\"type\":\"Plot\"},\"ticker\":{\"id\":\"2f79a21e-5fc9-4965-bfab-5a1990afca07\",\"type\":\"CategoricalTicker\"}},\"id\":\"88cc4d8a-9aa0-4025-a2f7-d34cd3a5355d\",\"type\":\"CategoricalAxis\"},{\"attributes\":{\"plot\":null,\"text\":\"Fruit Import/Export by year\"},\"id\":\"86cc2d55-2b5a-40d2-9013-c418ef871c0c\",\"type\":\"Title\"},{\"attributes\":{\"bottom_units\":\"screen\",\"fill_alpha\":{\"value\":0.5},\"fill_color\":{\"value\":\"lightgrey\"},\"left_units\":\"screen\",\"level\":\"overlay\",\"line_alpha\":{\"value\":1.0},\"line_color\":{\"value\":\"black\"},\"line_dash\":[4,4],\"line_width\":{\"value\":2},\"plot\":null,\"render_mode\":\"css\",\"right_units\":\"screen\",\"top_units\":\"screen\"},\"id\":\"547f2c50-fc03-4911-b914-776d2fa3ef5c\",\"type\":\"BoxAnnotation\"},{\"attributes\":{},\"id\":\"2f79a21e-5fc9-4965-bfab-5a1990afca07\",\"type\":\"CategoricalTicker\"},{\"attributes\":{\"bottom\":{\"expr\":{\"id\":\"942f847a-1e9f-4d42-91e6-69ab43d7af51\",\"type\":\"Stack\"}},\"fill_alpha\":{\"value\":0.1},\"fill_color\":{\"value\":\"#1f77b4\"},\"line_alpha\":{\"value\":0.1},\"line_color\":{\"value\":\"#1f77b4\"},\"top\":{\"expr\":{\"id\":\"663df52e-6ed4-4f34-bf26-6b75c195571c\",\"type\":\"Stack\"}},\"width\":{\"value\":0.9},\"x\":{\"field\":\"fruits\"}},\"id\":\"2f20531a-f6a9-4813-8d0a-d2c42295725b\",\"type\":\"VBar\"},{\"attributes\":{\"fields\":[]},\"id\":\"3a37d256-ec39-40e7-911e-59a9361765d9\",\"type\":\"Stack\"},{\"attributes\":{},\"id\":\"ae26529f-c2fb-433d-801d-b2ac58c8e6ed\",\"type\":\"PanTool\"},{\"attributes\":{\"grid_line_color\":{\"value\":null},\"plot\":{\"id\":\"9e40a1f0-a3a1-402d-8d9c-6e8e913c5adf\",\"subtype\":\"Figure\",\"type\":\"Plot\"},\"ticker\":{\"id\":\"2f79a21e-5fc9-4965-bfab-5a1990afca07\",\"type\":\"CategoricalTicker\"}},\"id\":\"9262a145-330c-48dc-b9eb-412f11e18f7e\",\"type\":\"Grid\"},{\"attributes\":{\"active_drag\":\"auto\",\"active_inspect\":\"auto\",\"active_scroll\":\"auto\",\"active_tap\":\"auto\",\"tools\":[{\"id\":\"ae26529f-c2fb-433d-801d-b2ac58c8e6ed\",\"type\":\"PanTool\"},{\"id\":\"2910cd24-89d3-4a7c-b876-bfacca163a04\",\"type\":\"WheelZoomTool\"},{\"id\":\"f43e29ed-1808-4a5c-a5bc-016eaff4cf7e\",\"type\":\"BoxZoomTool\"},{\"id\":\"c92c3e62-b194-4c83-944f-d886f4b5693b\",\"type\":\"SaveTool\"},{\"id\":\"c700b900-bbee-42c1-92fc-d5565765feae\",\"type\":\"ResetTool\"},{\"id\":\"9b245b7f-7a58-494f-9706-b65d7a8da496\",\"type\":\"HelpTool\"}]},\"id\":\"17240057-70a0-41c3-ba3f-a9f7febb52db\",\"type\":\"Toolbar\"},{\"attributes\":{\"label\":{\"value\":\"2016 export\"},\"renderers\":[{\"id\":\"498f3dc0-bd5e-4372-824d-942942d40a51\",\"type\":\"GlyphRenderer\"}]},\"id\":\"02f115d2-3140-4155-a5eb-3dd3657c20be\",\"type\":\"LegendItem\"},{\"attributes\":{\"callback\":null,\"column_names\":[\"fruits\",\"2015\",\"2016\",\"2017\"],\"data\":{\"2015\":[-1,0,-1,-3,-2,-1],\"2016\":[-2,-1,-3,-1,-2,-2],\"2017\":[-1,-2,-1,0,-2,-2],\"fruits\":[\"Apples\",\"Pears\",\"Nectarines\",\"Plums\",\"Grapes\",\"Strawberries\"]}},\"id\":\"11794b06-59c9-4db1-aacc-d7a074fa80c2\",\"type\":\"ColumnDataSource\"},{\"attributes\":{\"bottom\":{\"expr\":{\"id\":\"942f847a-1e9f-4d42-91e6-69ab43d7af51\",\"type\":\"Stack\"}},\"fill_color\":{\"value\":\"#a8ddb5\"},\"line_color\":{\"value\":\"#a8ddb5\"},\"top\":{\"expr\":{\"id\":\"663df52e-6ed4-4f34-bf26-6b75c195571c\",\"type\":\"Stack\"}},\"width\":{\"value\":0.9},\"x\":{\"field\":\"fruits\"}},\"id\":\"0646ee38-aebb-4291-8a28-f544cb5a07e2\",\"type\":\"VBar\"},{\"attributes\":{\"source\":{\"id\":\"11794b06-59c9-4db1-aacc-d7a074fa80c2\",\"type\":\"ColumnDataSource\"}},\"id\":\"4728a3b9-4e49-4b94-bb1e-d1085b2bab79\",\"type\":\"CDSView\"},{\"attributes\":{\"label\":{\"value\":\"2015 export\"},\"renderers\":[{\"id\":\"a576e5df-2d39-486e-8961-f2662cfd1da6\",\"type\":\"GlyphRenderer\"}]},\"id\":\"5f5588df-b47c-445e-a19b-a412fa7ee132\",\"type\":\"LegendItem\"},{\"attributes\":{\"bottom\":{\"expr\":{\"id\":\"e44b622d-23a5-48e8-b95a-f4547b2c0f47\",\"type\":\"Stack\"}},\"fill_alpha\":{\"value\":0.1},\"fill_color\":{\"value\":\"#1f77b4\"},\"line_alpha\":{\"value\":0.1},\"line_color\":{\"value\":\"#1f77b4\"},\"top\":{\"expr\":{\"id\":\"7761e7a8-93d1-4304-a3b5-5fdc01e22dfd\",\"type\":\"Stack\"}},\"width\":{\"value\":0.9},\"x\":{\"field\":\"fruits\"}},\"id\":\"04d677d3-ae5c-42f3-a538-d9c6c8516575\",\"type\":\"VBar\"}],\"root_ids\":[\"9e40a1f0-a3a1-402d-8d9c-6e8e913c5adf\"]},\"title\":\"Bokeh Application\",\"version\":\"0.12.10\"}};\n",
       "    var render_items = [{\"docid\":\"759cbe34-29ab-4ab3-8ee8-ecbc921ac6ca\",\"elementid\":\"25660096-d747-4e5d-8280-2350b08ccde7\",\"modelid\":\"9e40a1f0-a3a1-402d-8d9c-6e8e913c5adf\"}];\n",
       "\n",
       "    root.Bokeh.embed.embed_items(docs_json, render_items);\n",
       "  }\n",
       "\n",
       "  if (root.Bokeh !== undefined) {\n",
       "    embed_document(root);\n",
       "  } else {\n",
       "    var attempts = 0;\n",
       "    var timer = setInterval(function(root) {\n",
       "      if (root.Bokeh !== undefined) {\n",
       "        embed_document(root);\n",
       "        clearInterval(timer);\n",
       "      }\n",
       "      attempts++;\n",
       "      if (attempts > 100) {\n",
       "        console.log(\"Bokeh: ERROR: Unable to embed document because BokehJS library is missing\")\n",
       "        clearInterval(timer);\n",
       "      }\n",
       "    }, 10, root)\n",
       "  }\n",
       "})(window);"
      ],
      "application/vnd.bokehjs_exec.v0+json": ""
     },
     "metadata": {
      "application/vnd.bokehjs_exec.v0+json": {
       "id": "9e40a1f0-a3a1-402d-8d9c-6e8e913c5adf"
      }
     },
     "output_type": "display_data"
    }
   ],
   "source": [
    "p=figure(x_range=fruits,plot_height=250,y_range=(-16,16),title=\"Fruit Import/Export by year\")\n",
    "p.vbar_stack(years,x='fruits',width=0.9,color=GnBu3,source=ColumnDataSource(imports),\n",
    "            legend=['%s export' % x for x in years])\n",
    "p.x_range.range_padding=0.15\n",
    "p.xgrid.grid_line_color=None\n",
    "show(p)"
   ]
  },
  {
   "cell_type": "code",
   "execution_count": null,
   "metadata": {},
   "outputs": [],
   "source": []
  }
 ],
 "metadata": {
  "kernelspec": {
   "display_name": "Python [conda root]",
   "language": "python",
   "name": "conda-root-py"
  },
  "language_info": {
   "codemirror_mode": {
    "name": "ipython",
    "version": 3
   },
   "file_extension": ".py",
   "mimetype": "text/x-python",
   "name": "python",
   "nbconvert_exporter": "python",
   "pygments_lexer": "ipython3",
   "version": "3.6.3"
  }
 },
 "nbformat": 4,
 "nbformat_minor": 2
}
