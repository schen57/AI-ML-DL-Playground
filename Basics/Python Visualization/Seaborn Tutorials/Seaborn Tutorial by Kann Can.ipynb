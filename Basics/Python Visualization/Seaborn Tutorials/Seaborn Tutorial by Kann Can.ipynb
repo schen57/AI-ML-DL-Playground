{
 "cells": [
  {
   "cell_type": "markdown",
   "metadata": {},
   "source": [
    "It seems that by the way Kaan Can is organizing the notebook, he writes out all the things that he wants answered from the dataset. "
   ]
  },
  {
   "cell_type": "code",
   "execution_count": 1,
   "metadata": {},
   "outputs": [],
   "source": [
    "import numpy as np\n",
    "import pandas as pd\n",
    "import seaborn as sns\n",
    "import matplotlib.pyplot as plt\n",
    "from collections import Counter\n",
    "%matplotlib inline"
   ]
  },
  {
   "cell_type": "code",
   "execution_count": 3,
   "metadata": {},
   "outputs": [
    {
     "name": "stdout",
     "output_type": "stream",
     "text": [
      "MedianHouseholdIncome2015.csv\n",
      "PercentOver25CompletedHighSchool.csv\n",
      "PercentagePeopleBelowPovertyLevel.csv\n",
      "PoliceKillingsUS.csv\n",
      "Seaborn Tutorial by Kann Can.ipynb\n",
      "ShareRaceByCity.csv\n",
      "\n"
     ]
    }
   ],
   "source": [
    "from subprocess import check_output\n",
    "print(check_output(['ls','../Seaborn Tutorials']).decode(\"utf8\"))"
   ]
  },
  {
   "cell_type": "code",
   "execution_count": 8,
   "metadata": {},
   "outputs": [],
   "source": [
    "# Read dates \n",
    "median_house_hold_in_come=pd.read_csv(\"../Seaborn Tutorials/MedianHouseholdIncome2015.csv\",\n",
    "                                     encoding=\"windows-1252\")\n",
    "percentage_people_below_poverty_level=pd.read_csv(\"../Seaborn Tutorials/PercentagePeopleBelowPovertyLevel.csv\",\n",
    "                                     encoding=\"windows-1252\")\n",
    "percent_over_25_completed_highSchool = pd.read_csv('../Seaborn Tutorials/PercentOver25CompletedHighSchool.csv', encoding=\"windows-1252\")\n",
    "share_race_city = pd.read_csv('../Seaborn Tutorials/ShareRaceByCity.csv', encoding=\"windows-1252\")\n",
    "kill = pd.read_csv('../Seaborn Tutorials/PoliceKillingsUS.csv', encoding=\"windows-1252\")\n",
    "\n",
    "# What's with the encoding of windows-1252"
   ]
  },
  {
   "cell_type": "code",
   "execution_count": null,
   "metadata": {},
   "outputs": [],
   "source": []
  }
 ],
 "metadata": {
  "kernelspec": {
   "display_name": "Python [conda root]",
   "language": "python",
   "name": "conda-root-py"
  },
  "language_info": {
   "codemirror_mode": {
    "name": "ipython",
    "version": 3
   },
   "file_extension": ".py",
   "mimetype": "text/x-python",
   "name": "python",
   "nbconvert_exporter": "python",
   "pygments_lexer": "ipython3",
   "version": "3.6.3"
  }
 },
 "nbformat": 4,
 "nbformat_minor": 2
}
