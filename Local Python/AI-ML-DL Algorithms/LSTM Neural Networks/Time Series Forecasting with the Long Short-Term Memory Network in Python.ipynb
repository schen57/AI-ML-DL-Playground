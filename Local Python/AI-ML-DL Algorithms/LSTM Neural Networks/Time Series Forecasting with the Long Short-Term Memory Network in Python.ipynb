{
 "cells": [
  {
   "cell_type": "markdown",
   "metadata": {},
   "source": [
    "# Time Series Forecasting with the Long Short-Term Memory Network in Python\n",
    "\n",
    "Original LInk is here: https://machinelearningmastery.com/time-series-forecasting-long-short-term-memory-network-python/ \n"
   ]
  },
  {
   "cell_type": "markdown",
   "metadata": {},
   "source": [
    "RNN has the promise of learning long sequences of observations. \n",
    "t seems a perfect match for time series forecasting, and in fact, it may be.\n",
    "\n",
    "In this tutorial, you will discover how to develop an LSTM forecast model for a one-step univariate time series forecasting problem."
   ]
  },
  {
   "cell_type": "markdown",
   "metadata": {},
   "source": [
    "Goal of this tutorial:\n",
    "\n",
    "1. How to develop a baseline of performance for a forecast problem\n",
    "2. How to design a robust test harness for one-step time series forecasting\n",
    "3. How to prepare data, develop, and evaluate an LSTM recurrent neural network for the time series forecasting"
   ]
  },
  {
   "cell_type": "markdown",
   "metadata": {},
   "source": [
    "Tutorial overview:\n",
    "\n",
    "1. Shampoo Sales Dataset\n",
    "2. Test Setup\n",
    "3. Persistence MOdel Forecast\n",
    "4. LSTM Data Preparation\n",
    "5. LSTM Model Development\n",
    "6. LSTM Forecast\n",
    "7. Complete LSTM Example\n",
    "8. Develop a Robust Result\n",
    "9. Tutorial Extensions"
   ]
  },
  {
   "cell_type": "markdown",
   "metadata": {},
   "source": [
    "# 1 Shampoo Sales Dataset"
   ]
  },
  {
   "cell_type": "code",
   "execution_count": 1,
   "metadata": {},
   "outputs": [],
   "source": [
    "# Digression of strptime investigation\n",
    "# Syntax: time.strptime(string[, format])\n",
    "# string − This is the time in string format which would be parsed based on the given format.\n",
    "# format − This is the directive which would be used to parse the given string.\n",
    "\n",
    "\n",
    "# Format specifies how the string should be parsed \n",
    "# %m stands for month while %M stands for minutes\n",
    "# %d is day of the month"
   ]
  },
  {
   "cell_type": "code",
   "execution_count": 2,
   "metadata": {
    "scrolled": false
   },
   "outputs": [
    {
     "data": {
      "text/plain": [
       "Month\n",
       "2017-01-01    266.0\n",
       "2017-01-02    145.9\n",
       "2017-01-03    183.1\n",
       "2017-01-04    119.3\n",
       "2017-01-05    180.3\n",
       "Name: Sales of shampoo over a three year period, dtype: float64"
      ]
     },
     "execution_count": 2,
     "metadata": {},
     "output_type": "execute_result"
    }
   ],
   "source": [
    "# Load and plot\n",
    "from pandas import read_csv\n",
    "from pandas import datetime\n",
    "import pandas as pd\n",
    "from matplotlib import pyplot\n",
    "import matplotlib.pyplot as plt\n",
    "%matplotlib inline\n",
    "\n",
    "# Load dataset and writing the custom parser\n",
    "def parser(x):\n",
    "    return datetime.strptime(x, '%m/%d/%y')\n",
    "\n",
    "# Man gotta figure out the strptime function to see how it actually works \n",
    "\n",
    "# Date_parser always get called to pass a function understand the dates\n",
    "series=read_csv(\"/Users/shengyuchen/Dropbox/Engagement - Business/My Hub/AI:ML:DL Playground/Local Python/AI-ML-DL Algorithms/LSTM Neural Networks/shampoo-sales.csv\",header=0,parse_dates=[0],index_col=0,squeeze=True,date_parser=parser)\n",
    "series.head()\n"
   ]
  },
  {
   "cell_type": "code",
   "execution_count": 4,
   "metadata": {},
   "outputs": [
    {
     "data": {
      "text/plain": [
       "Month\n",
       "2017-01-01    266.0\n",
       "2017-01-02    145.9\n",
       "2017-01-03    183.1\n",
       "2017-01-04    119.3\n",
       "2017-01-05    180.3\n",
       "2017-01-06    168.5\n",
       "2017-01-07    231.8\n",
       "2017-01-08    224.5\n",
       "2017-01-09    192.8\n",
       "2017-01-10    122.9\n",
       "2017-01-11    336.5\n",
       "2017-01-12    185.9\n",
       "2017-02-01    194.3\n",
       "2017-02-02    149.5\n",
       "2017-02-03    210.1\n",
       "2017-02-04    273.3\n",
       "2017-02-05    191.4\n",
       "2017-02-06    287.0\n",
       "2017-02-07    226.0\n",
       "2017-02-08    303.6\n",
       "2017-02-09    289.9\n",
       "2017-02-10    421.6\n",
       "2017-02-11    264.5\n",
       "2017-02-12    342.3\n",
       "2017-03-01    339.7\n",
       "2017-03-02    440.4\n",
       "2017-03-03    315.9\n",
       "2017-03-04    439.3\n",
       "2017-03-05    401.3\n",
       "2017-03-06    437.4\n",
       "2017-03-07    575.5\n",
       "2017-03-08    407.6\n",
       "2017-03-09    682.0\n",
       "2017-03-10    475.3\n",
       "2017-03-11    581.3\n",
       "2017-03-12    646.9\n",
       "Name: Sales of shampoo over a three year period, dtype: float64"
      ]
     },
     "execution_count": 4,
     "metadata": {},
     "output_type": "execute_result"
    }
   ],
   "source": [
    "series"
   ]
  },
  {
   "cell_type": "code",
   "execution_count": 10,
   "metadata": {},
   "outputs": [
    {
     "data": {
      "image/png": "[encoded data removed]",
      "text/plain": [
       "<matplotlib.figure.Figure at 0x116d039e8>"
      ]
     },
     "metadata": {},
     "output_type": "display_data"
    }
   ],
   "source": [
    "# Line plot\n",
    "series.plot()\n",
    "plt.xticks(rotation=90)\n",
    "pyplot.show()\n",
    "# The reason this chart doesn't match up with what's provided because python\n",
    "# Understands time now and there are missing data for several points across multiple dates\n",
    "# I guess I will have to try differently to reproduce this"
   ]
  },
  {
   "cell_type": "code",
   "execution_count": 18,
   "metadata": {},
   "outputs": [],
   "source": [
    "filename=\"/Users/shengyuchen/Dropbox/Engagement - Business/My Hub/AI:ML:DL Playground/Local Python/AI-ML-DL Algorithms/LSTM Neural Networks/shampoo-sales.csv\"\n",
    "def parser(x):\n",
    "    return datetime.strptime('190'+x, '%Y-%b') # String manpuation\n",
    "series=read_csv(filename, header=0,parse_dates=[0],index_col=0,squeeze=True)\n",
    "\n",
    "# If the parsed data only contains one column then return a Series\n"
   ]
  },
  {
   "cell_type": "code",
   "execution_count": 27,
   "metadata": {},
   "outputs": [],
   "source": [
    "labels=pd.date_range(start=\"1901-1-1\",periods=len(series),freq=\"MS\")\n",
    "# Man this frequency is tricky. If just say M, it means month end.....\n",
    "labels\n",
    "series.index=labels"
   ]
  },
  {
   "cell_type": "code",
   "execution_count": 28,
   "metadata": {},
   "outputs": [
    {
     "data": {
      "image/png": "[encoded data removed]",
      "text/plain": [
       "<matplotlib.figure.Figure at 0x11a8a8eb8>"
      ]
     },
     "metadata": {},
     "output_type": "display_data"
    }
   ],
   "source": [
    "series.plot()\n",
    "pyplot.show()\n",
    "# Now this fully replicates what this guy has"
   ]
  },
  {
   "cell_type": "markdown",
   "metadata": {},
   "source": [
    "# 2 Experimental Test Setup\n",
    "\n",
    "1. Spliting the dataset into two parts: one training and one test\n",
    "2. The first two years of data will be taken for the training dataset and the remaining one year of data will be for test set"
   ]
  },
  {
   "cell_type": "code",
   "execution_count": 29,
   "metadata": {},
   "outputs": [],
   "source": [
    "X=series.values\n",
    "train,test=X[0:-12],X[-12:]"
   ]
  },
  {
   "cell_type": "markdown",
   "metadata": {},
   "source": [
    "#### Import things about how the model is to be trained\n",
    "A rolling forecast scenario will be used. It is also called the walk forward model validation. Each time step of the test dataset will be walked one aat a time. A model will be used to make a forecast for the time step. Then the actual expected value from the test set will be taken and made available to the next time step"
   ]
  },
  {
   "cell_type": "markdown",
   "metadata": {},
   "source": [
    "This mimics a real-world scenario where new Shampoo Sales observations would be available each month and used in the forecasting of the following month.\n",
    "\n",
    "Finally, all forecasts on the test dataset will be collected and an error score calculated to summarize the skill of the model. The RMSE is used as it punishes large errors and results in a score that is in the same units as the forecast data, namely monthly shampoo sales."
   ]
  },
  {
   "cell_type": "markdown",
   "metadata": {},
   "source": [
    "#### Test code\n",
    "from sklearn.metrics import mean_squared_error\n",
    "\n",
    "\n",
    "import numpy as np\n",
    "\n",
    "\n",
    "rmse=np.sqrt(mean_squared_error(test,predictions))\n",
    "\n",
    "\n",
    "print(\"RMSE: %.3f\" %rmse) # This really mimics the way in SAS how RMSE is handled"
   ]
  },
  {
   "cell_type": "markdown",
   "metadata": {},
   "source": [
    "# 3 Persistence Model Forecast \n",
    "A good baseline forecast for a time series with a linear increasing trend is a persistence forecast. \n",
    "\n",
    "The persistence forecast is where the observation from the prior time step is used to predict the observation at the current time step\n",
    "\n",
    "This can be implemented by taking the last observation from the training data and histroy accumulated by walk forward validation and use that to predict the current time step"
   ]
  },
  {
   "cell_type": "markdown",
   "metadata": {},
   "source": [
    "We can accumulate all predictions in an array so that they can be directly compared to the test dataset"
   ]
  },
  {
   "cell_type": "code",
   "execution_count": 35,
   "metadata": {},
   "outputs": [
    {
     "name": "stdout",
     "output_type": "stream",
     "text": [
      "RMSE: 136.761\n"
     ]
    },
    {
     "data": {
      "image/png": "[encoded data removed]",
      "text/plain": [
       "<matplotlib.figure.Figure at 0x1a1c737be0>"
      ]
     },
     "metadata": {},
     "output_type": "display_data"
    }
   ],
   "source": [
    "# Contiue from the above\n",
    "# Walk forward validation\n",
    "history = [ x for x in train]\n",
    "predictions=list()\n",
    "for i in range(len(test)):\n",
    "    #make prediction\n",
    "    predictions.append(history[-1])\n",
    "    # Observation\n",
    "    history.append(test[i])\n",
    "# report performance\n",
    "rmse=np.sqrt(mean_squared_error(test,predictions))\n",
    "print(\"RMSE: %.3f\" % rmse)\n",
    "#plotting this out\n",
    "plt.plot(test)\n",
    "plt.plot(predictions)\n",
    "plt.show()\n",
    "# This is simply the result of shifting the curve forward by 1 period"
   ]
  },
  {
   "cell_type": "markdown",
   "metadata": {},
   "source": [
    "# 4 LSTM Data Preparation\n",
    "Before actually fitting the LSTM model to the dataset, we need to transform the data.\n",
    "\n",
    "Here there are 3 things that need to be taken care of:\n",
    "\n",
    "1. Transform the time series into a supervised learning problem\n",
    "2. Transform the time series data so that it is stationary\n",
    "3. Transform the observations to have a specific scale"
   ]
  },
  {
   "cell_type": "markdown",
   "metadata": {},
   "source": [
    "### Transforming time series into a supervised learning problem \n",
    "\n",
    "The LSTM model in Keras assumes that the data is divided into input(X) and output(y)\n",
    "\n",
    "For the time series problem, this can be achieved by using the observation from the alst time step as input and the observation at the curretn time step as the output. \n",
    "\n",
    "We can achive this through using the shift() function in pandas. we would shift the time series by 1 place then the current time series as it stands is the output. \n",
    "\n",
    "We can then concatenate the two series together to create DF for supervised learning. The pushed down series will have a new position at the top with no value. A Nan value will be used here. We can use 0 to replace Nan. The LSTM model then has to learn as the start of the series as a month with zero sales on this dataset has not been observed. "
   ]
  },
  {
   "cell_type": "code",
   "execution_count": 46,
   "metadata": {},
   "outputs": [
    {
     "data": {
      "text/html": [
       "<div>\n",
       "<style scoped>\n",
       "    .dataframe tbody tr th:only-of-type {\n",
       "        vertical-align: middle;\n",
       "    }\n",
       "\n",
       "    .dataframe tbody tr th {\n",
       "        vertical-align: top;\n",
       "    }\n",
       "\n",
       "    .dataframe thead th {\n",
       "        text-align: right;\n",
       "    }\n",
       "</style>\n",
       "<table border=\"1\" class=\"dataframe\">\n",
       "  <thead>\n",
       "    <tr style=\"text-align: right;\">\n",
       "      <th></th>\n",
       "      <th>0</th>\n",
       "    </tr>\n",
       "  </thead>\n",
       "  <tbody>\n",
       "    <tr>\n",
       "      <th>0</th>\n",
       "      <td>NaN</td>\n",
       "    </tr>\n",
       "    <tr>\n",
       "      <th>1</th>\n",
       "      <td>266.0</td>\n",
       "    </tr>\n",
       "    <tr>\n",
       "      <th>2</th>\n",
       "      <td>145.9</td>\n",
       "    </tr>\n",
       "    <tr>\n",
       "      <th>3</th>\n",
       "      <td>183.1</td>\n",
       "    </tr>\n",
       "    <tr>\n",
       "      <th>4</th>\n",
       "      <td>119.3</td>\n",
       "    </tr>\n",
       "    <tr>\n",
       "      <th>5</th>\n",
       "      <td>180.3</td>\n",
       "    </tr>\n",
       "    <tr>\n",
       "      <th>6</th>\n",
       "      <td>168.5</td>\n",
       "    </tr>\n",
       "    <tr>\n",
       "      <th>7</th>\n",
       "      <td>231.8</td>\n",
       "    </tr>\n",
       "    <tr>\n",
       "      <th>8</th>\n",
       "      <td>224.5</td>\n",
       "    </tr>\n",
       "    <tr>\n",
       "      <th>9</th>\n",
       "      <td>192.8</td>\n",
       "    </tr>\n",
       "  </tbody>\n",
       "</table>\n",
       "</div>"
      ],
      "text/plain": [
       "       0\n",
       "0    NaN\n",
       "1  266.0\n",
       "2  145.9\n",
       "3  183.1\n",
       "4  119.3\n",
       "5  180.3\n",
       "6  168.5\n",
       "7  231.8\n",
       "8  224.5\n",
       "9  192.8"
      ]
     },
     "execution_count": 46,
     "metadata": {},
     "output_type": "execute_result"
    }
   ],
   "source": [
    "pd.DataFrame(X).shift(1)[:10]\n",
    "# So shift basically takes the input array and shift them down by specified\n",
    "# number of rows in the table"
   ]
  },
  {
   "cell_type": "code",
   "execution_count": 54,
   "metadata": {},
   "outputs": [],
   "source": [
    "# Helper function that takes numpy array of the raw time series and a lag or number of shifted series to create \n",
    "# and use as inputs\n",
    "def timeseries_to_supervised(data,lag=1):\n",
    "    df=pd.DataFrame(data)\n",
    "    columns=[df.shift(i) for i in range(1,lag+1)] # depends on how many lags are required\n",
    "    columns.append(df) # Appending list to each other \n",
    "    df=pd.concat(columns,axis=1)\n",
    "    df.fillna(0,inplace=True) #takes care of the Nan value\n",
    "    return df"
   ]
  },
  {
   "cell_type": "code",
   "execution_count": 57,
   "metadata": {},
   "outputs": [
    {
     "data": {
      "text/html": [
       "<div>\n",
       "<style scoped>\n",
       "    .dataframe tbody tr th:only-of-type {\n",
       "        vertical-align: middle;\n",
       "    }\n",
       "\n",
       "    .dataframe tbody tr th {\n",
       "        vertical-align: top;\n",
       "    }\n",
       "\n",
       "    .dataframe thead th {\n",
       "        text-align: right;\n",
       "    }\n",
       "</style>\n",
       "<table border=\"1\" class=\"dataframe\">\n",
       "  <thead>\n",
       "    <tr style=\"text-align: right;\">\n",
       "      <th></th>\n",
       "      <th>0</th>\n",
       "      <th>0</th>\n",
       "    </tr>\n",
       "  </thead>\n",
       "  <tbody>\n",
       "    <tr>\n",
       "      <th>0</th>\n",
       "      <td>0.0</td>\n",
       "      <td>266.0</td>\n",
       "    </tr>\n",
       "    <tr>\n",
       "      <th>1</th>\n",
       "      <td>266.0</td>\n",
       "      <td>145.9</td>\n",
       "    </tr>\n",
       "    <tr>\n",
       "      <th>2</th>\n",
       "      <td>145.9</td>\n",
       "      <td>183.1</td>\n",
       "    </tr>\n",
       "    <tr>\n",
       "      <th>3</th>\n",
       "      <td>183.1</td>\n",
       "      <td>119.3</td>\n",
       "    </tr>\n",
       "    <tr>\n",
       "      <th>4</th>\n",
       "      <td>119.3</td>\n",
       "      <td>180.3</td>\n",
       "    </tr>\n",
       "  </tbody>\n",
       "</table>\n",
       "</div>"
      ],
      "text/plain": [
       "       0      0\n",
       "0    0.0  266.0\n",
       "1  266.0  145.9\n",
       "2  145.9  183.1\n",
       "3  183.1  119.3\n",
       "4  119.3  180.3"
      ]
     },
     "execution_count": 57,
     "metadata": {},
     "output_type": "execute_result"
    }
   ],
   "source": [
    "# Testing the function with Shampoo dataset and convert this into a supervised learning problem\n",
    "from pandas import read_csv\n",
    "from pandas import datetime\n",
    "from pandas import concat\n",
    "\n",
    "supervised=timeseries_to_supervised(X,1)\n",
    "supervised.head()"
   ]
  },
  {
   "cell_type": "code",
   "execution_count": null,
   "metadata": {},
   "outputs": [],
   "source": []
  }
 ],
 "metadata": {
  "kernelspec": {
   "display_name": "Python [conda root]",
   "language": "python",
   "name": "conda-root-py"
  },
  "language_info": {
   "codemirror_mode": {
    "name": "ipython",
    "version": 3
   },
   "file_extension": ".py",
   "mimetype": "text/x-python",
   "name": "python",
   "nbconvert_exporter": "python",
   "pygments_lexer": "ipython3",
   "version": "3.6.3"
  }
 },
 "nbformat": 4,
 "nbformat_minor": 2
}
