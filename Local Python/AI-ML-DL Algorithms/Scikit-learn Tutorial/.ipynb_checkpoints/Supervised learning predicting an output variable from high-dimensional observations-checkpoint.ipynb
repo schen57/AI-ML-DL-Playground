{
 "cells": [
  {
   "cell_type": "markdown",
   "metadata": {},
   "source": [
    "### The problem solved in supervised learning.\n",
    "\n",
    "All supervised estimators in scikit learn implementes a fit(X,y) method to fit the method to fit the model and a predict(x) method that given unlabeled observations x, returns predicted labels y.\n",
    "\n"
   ]
  },
  {
   "cell_type": "markdown",
   "metadata": {},
   "source": [
    "# Nearest neighbor and the curse of dimensionality\n",
    "\n"
   ]
  },
  {
   "cell_type": "code",
   "execution_count": 1,
   "metadata": {},
   "outputs": [
    {
     "data": {
      "text/plain": [
       "array([0, 1, 2])"
      ]
     },
     "execution_count": 1,
     "metadata": {},
     "output_type": "execute_result"
    }
   ],
   "source": [
    "import numpy as np\n",
    "from sklearn import datasets\n",
    "iris=datasets.load_iris()\n",
    "iris_X=iris.data\n",
    "iris_y=iris.target\n",
    "np.unique(iris_y)"
   ]
  },
  {
   "cell_type": "markdown",
   "metadata": {},
   "source": [
    "### K nearest neighbors classifier\n",
    "\n",
    "The simplest possible classifier is the nearest neighbor: given a new observation, find in the training set the observation with the closest feature vector. \n",
    "\n",
    "This is a classifier. KNN is a classifier. "
   ]
  },
  {
   "cell_type": "code",
   "execution_count": 2,
   "metadata": {},
   "outputs": [],
   "source": [
    "np.random.seed(0)\n",
    "indices=np.random.permutation(len(iris_X))\n",
    "iris_X_train=iris_X[indices[:-10]]\n",
    "iris_y_train=iris_y[indices[:-10]]\n",
    "iris_X_test=iris_X[indices[-10:]]\n",
    "iris_y_test=iris_y[indices[-10:]]"
   ]
  },
  {
   "cell_type": "code",
   "execution_count": null,
   "metadata": {},
   "outputs": [],
   "source": [
    "# Create and fit the nearest neighbor classifier\n",
    "from sklearn.neighbors import KNeighborsClassifier\n",
    "knn=KneighborsClassifier()\n"
   ]
  }
 ],
 "metadata": {
  "kernelspec": {
   "display_name": "Python [conda root]",
   "language": "python",
   "name": "conda-root-py"
  },
  "language_info": {
   "codemirror_mode": {
    "name": "ipython",
    "version": 3
   },
   "file_extension": ".py",
   "mimetype": "text/x-python",
   "name": "python",
   "nbconvert_exporter": "python",
   "pygments_lexer": "ipython3",
   "version": "3.6.4"
  }
 },
 "nbformat": 4,
 "nbformat_minor": 2
}
