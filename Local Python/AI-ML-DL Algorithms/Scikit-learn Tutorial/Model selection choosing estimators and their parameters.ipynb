{
 "cells": [
  {
   "cell_type": "markdown",
   "metadata": {},
   "source": [
    "Original link to the tutorial is here: http://scikit-learn.org/stable/tutorial/statistical_inference/model_selection.html#model-selection-choosing-estimators-and-their-parameters"
   ]
  },
  {
   "cell_type": "markdown",
   "metadata": {},
   "source": [
    "# Score and cross-validated scores"
   ]
  },
  {
   "cell_type": "code",
   "execution_count": 2,
   "metadata": {},
   "outputs": [
    {
     "data": {
      "text/plain": [
       "0.97999999999999998"
      ]
     },
     "execution_count": 2,
     "metadata": {},
     "output_type": "execute_result"
    }
   ],
   "source": [
    "from sklearn import datasets,svm\n",
    "digits=datasets.load_digits()\n",
    "X_digits=digits.data\n",
    "y_digits=digits.target\n",
    "svc=svm.SVC(C=1, kernel=\"linear\")\n",
    "svc.fit(X_digits[:-100],y_digits[:-100]).score(X_digits[-100:],y_digits[-100:])"
   ]
  },
  {
   "cell_type": "markdown",
   "metadata": {},
   "source": [
    "To get a better measure of prediction accuracy (which we can use as a proxy for goodness of fit of the model), we can successively split the data in folds that we use for training and testing:"
   ]
  },
  {
   "cell_type": "code",
   "execution_count": 3,
   "metadata": {},
   "outputs": [],
   "source": [
    "import numpy as np\n",
    "X_folds=np.array_split(X_digits,3)\n",
    "y_folds=np.array_split(y_digits,3)\n"
   ]
  },
  {
   "cell_type": "code",
   "execution_count": 5,
   "metadata": {},
   "outputs": [
    {
     "data": {
      "text/plain": [
       "[array([[  0.,   0.,   5., ...,   0.,   0.,   0.],\n",
       "        [  0.,   0.,   0., ...,  10.,   0.,   0.],\n",
       "        [  0.,   0.,   0., ...,  16.,   9.,   0.],\n",
       "        ..., \n",
       "        [  0.,   0.,   5., ...,  16.,  11.,   2.],\n",
       "        [  0.,   0.,   6., ...,   0.,   0.,   0.],\n",
       "        [  0.,   0.,   0., ...,  12.,   0.,   0.]]),\n",
       " array([[  0.,   0.,   1., ...,  16.,  16.,   8.],\n",
       "        [  0.,   0.,  10., ...,  16.,  16.,   9.],\n",
       "        [  0.,   0.,   6., ...,  16.,  15.,   3.],\n",
       "        ..., \n",
       "        [  0.,   1.,  13., ...,   0.,   0.,   0.],\n",
       "        [  0.,   1.,   7., ...,  12.,   2.,   0.],\n",
       "        [  0.,   0.,  13., ...,   0.,   0.,   0.]]),\n",
       " array([[  0.,   0.,   0., ...,   9.,   0.,   0.],\n",
       "        [  0.,   0.,   7., ...,   8.,   0.,   0.],\n",
       "        [  0.,   0.,  12., ...,   0.,   0.,   0.],\n",
       "        ..., \n",
       "        [  0.,   0.,   1., ...,   6.,   0.,   0.],\n",
       "        [  0.,   0.,   2., ...,  12.,   0.,   0.],\n",
       "        [  0.,   0.,  10., ...,  12.,   1.,   0.]])]"
      ]
     },
     "execution_count": 5,
     "metadata": {},
     "output_type": "execute_result"
    }
   ],
   "source": [
    "X_folds #splits the array into set number of arrays \n",
    "# This is a numpy method"
   ]
  },
  {
   "cell_type": "code",
   "execution_count": 8,
   "metadata": {},
   "outputs": [
    {
     "name": "stdout",
     "output_type": "stream",
     "text": [
      "[0.93489148580968284, 0.95659432387312182, 0.93989983305509184]\n"
     ]
    }
   ],
   "source": [
    "scores=list()\n",
    "for k in range(3):\n",
    "    # We use list to copy, in order to pop later on\n",
    "    X_train=list(X_folds)\n",
    "    X_test=X_train.pop(k)\n",
    "    X_train=np.concatenate(X_train)\n",
    "    y_train=list(y_folds)\n",
    "    y_test=y_train.pop(k)\n",
    "    y_train=np.concatenate(y_train)\n",
    "    scores.append(svc.fit(X_train,y_train).score(X_test,y_test))\n",
    "print(scores)"
   ]
  },
  {
   "cell_type": "markdown",
   "metadata": {},
   "source": [
    "# Cross validation generators \n",
    "Doing the same using inbuilt Scikit learn specific cross validation methods/classes. \n",
    "\n",
    "This example uses the split method."
   ]
  },
  {
   "cell_type": "code",
   "execution_count": null,
   "metadata": {},
   "outputs": [],
   "source": [
    "from sklearn.model_selection import KFold, cross_val_score\n",
    "X=[\"a\",]"
   ]
  }
 ],
 "metadata": {
  "kernelspec": {
   "display_name": "Python [conda root]",
   "language": "python",
   "name": "conda-root-py"
  },
  "language_info": {
   "codemirror_mode": {
    "name": "ipython",
    "version": 3
   },
   "file_extension": ".py",
   "mimetype": "text/x-python",
   "name": "python",
   "nbconvert_exporter": "python",
   "pygments_lexer": "ipython3",
   "version": "3.6.4"
  }
 },
 "nbformat": 4,
 "nbformat_minor": 2
}
