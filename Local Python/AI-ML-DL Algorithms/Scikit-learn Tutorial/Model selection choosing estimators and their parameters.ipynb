{
 "cells": [
  {
   "cell_type": "markdown",
   "metadata": {},
   "source": [
    "Original link to the tutorial is here: http://scikit-learn.org/stable/tutorial/statistical_inference/model_selection.html#model-selection-choosing-estimators-and-their-parameters"
   ]
  },
  {
   "cell_type": "markdown",
   "metadata": {},
   "source": [
    "# Score and cross-validated scores"
   ]
  },
  {
   "cell_type": "code",
   "execution_count": 1,
   "metadata": {},
   "outputs": [
    {
     "data": {
      "text/plain": [
       "0.97999999999999998"
      ]
     },
     "execution_count": 1,
     "metadata": {},
     "output_type": "execute_result"
    }
   ],
   "source": [
    "from sklearn import datasets,svm\n",
    "digits=datasets.load_digits()\n",
    "X_digits=digits.data\n",
    "y_digits=digits.target\n",
    "svc=svm.SVC(C=1, kernel=\"linear\")\n",
    "svc.fit(X_digits[:-100],y_digits[:-100]).score(X_digits[-100:],y_digits[-100:])"
   ]
  },
  {
   "cell_type": "markdown",
   "metadata": {},
   "source": [
    "To get a better measure of prediction accuracy (which we can use as a proxy for goodness of fit of the model), we can successively split the data in folds that we use for training and testing:"
   ]
  },
  {
   "cell_type": "code",
   "execution_count": 2,
   "metadata": {},
   "outputs": [],
   "source": [
    "import numpy as np\n",
    "X_folds=np.array_split(X_digits,3)\n",
    "y_folds=np.array_split(y_digits,3)\n"
   ]
  },
  {
   "cell_type": "code",
   "execution_count": 3,
   "metadata": {},
   "outputs": [
    {
     "data": {
      "text/plain": [
       "[array([[  0.,   0.,   5., ...,   0.,   0.,   0.],\n",
       "        [  0.,   0.,   0., ...,  10.,   0.,   0.],\n",
       "        [  0.,   0.,   0., ...,  16.,   9.,   0.],\n",
       "        ..., \n",
       "        [  0.,   0.,   5., ...,  16.,  11.,   2.],\n",
       "        [  0.,   0.,   6., ...,   0.,   0.,   0.],\n",
       "        [  0.,   0.,   0., ...,  12.,   0.,   0.]]),\n",
       " array([[  0.,   0.,   1., ...,  16.,  16.,   8.],\n",
       "        [  0.,   0.,  10., ...,  16.,  16.,   9.],\n",
       "        [  0.,   0.,   6., ...,  16.,  15.,   3.],\n",
       "        ..., \n",
       "        [  0.,   1.,  13., ...,   0.,   0.,   0.],\n",
       "        [  0.,   1.,   7., ...,  12.,   2.,   0.],\n",
       "        [  0.,   0.,  13., ...,   0.,   0.,   0.]]),\n",
       " array([[  0.,   0.,   0., ...,   9.,   0.,   0.],\n",
       "        [  0.,   0.,   7., ...,   8.,   0.,   0.],\n",
       "        [  0.,   0.,  12., ...,   0.,   0.,   0.],\n",
       "        ..., \n",
       "        [  0.,   0.,   1., ...,   6.,   0.,   0.],\n",
       "        [  0.,   0.,   2., ...,  12.,   0.,   0.],\n",
       "        [  0.,   0.,  10., ...,  12.,   1.,   0.]])]"
      ]
     },
     "execution_count": 3,
     "metadata": {},
     "output_type": "execute_result"
    }
   ],
   "source": [
    "X_folds #splits the array into set number of arrays \n",
    "# This is a numpy method"
   ]
  },
  {
   "cell_type": "code",
   "execution_count": 4,
   "metadata": {},
   "outputs": [
    {
     "name": "stdout",
     "output_type": "stream",
     "text": [
      "[0.93489148580968284, 0.95659432387312182, 0.93989983305509184]\n"
     ]
    }
   ],
   "source": [
    "scores=list()\n",
    "for k in range(3):\n",
    "    # We use list to copy, in order to pop later on\n",
    "    X_train=list(X_folds)\n",
    "    X_test=X_train.pop(k)\n",
    "    X_train=np.concatenate(X_train)\n",
    "    y_train=list(y_folds)\n",
    "    y_test=y_train.pop(k)\n",
    "    y_train=np.concatenate(y_train)\n",
    "    scores.append(svc.fit(X_train,y_train).score(X_test,y_test))\n",
    "print(scores)"
   ]
  },
  {
   "cell_type": "markdown",
   "metadata": {},
   "source": [
    "# Cross validation generators \n",
    "Doing the same using inbuilt Scikit learn specific cross validation methods/classes. \n",
    "\n",
    "This example uses the split method."
   ]
  },
  {
   "cell_type": "code",
   "execution_count": 5,
   "metadata": {},
   "outputs": [
    {
     "name": "stdout",
     "output_type": "stream",
     "text": [
      "Train: [2 3 4 5] | test: [0 1]\n",
      "Train: [0 1 4 5] | test: [2 3]\n",
      "Train: [0 1 2 3] | test: [4 5]\n"
     ]
    }
   ],
   "source": [
    "from sklearn.model_selection import KFold, cross_val_score\n",
    "X=[\"a\",\"a\",\"b\",\"c\",\"c\",\"c\"]\n",
    "k_fold=KFold(n_splits=3)\n",
    "for train_indices,test_indices in k_fold.split(X):\n",
    "    print(\"Train: %s | test: %s\" % (train_indices,test_indices))"
   ]
  },
  {
   "cell_type": "code",
   "execution_count": 6,
   "metadata": {},
   "outputs": [],
   "source": [
    "# Applying the train test split using the cross validated generators \n",
    "# Applying 10 fold Cross validation\n",
    "k_fold=KFold(n_splits=10)\n",
    "x=[round(svc.fit(X_digits[train],y_digits[train]).score(X_digits[test],y_digits[test]),2)\n",
    "for train,test in k_fold.split(X_digits)]"
   ]
  },
  {
   "cell_type": "code",
   "execution_count": 7,
   "metadata": {},
   "outputs": [
    {
     "data": {
      "text/plain": [
       "[0.93999999999999995,\n",
       " 0.98999999999999999,\n",
       " 0.93000000000000005,\n",
       " 0.96999999999999997,\n",
       " 0.95999999999999996,\n",
       " 0.98999999999999999,\n",
       " 0.96999999999999997,\n",
       " 0.98999999999999999,\n",
       " 0.93000000000000005,\n",
       " 0.96999999999999997]"
      ]
     },
     "execution_count": 7,
     "metadata": {},
     "output_type": "execute_result"
    },
    {
     "data": {
      "image/png": "[encoded data removed]",
      "text/plain": [
       "<matplotlib.figure.Figure at 0x1095ed9e8>"
      ]
     },
     "metadata": {},
     "output_type": "display_data"
    }
   ],
   "source": [
    "import matplotlib.pyplot as plt\n",
    "%matplotlib inline\n",
    "plt.plot(x);\n",
    "x"
   ]
  },
  {
   "cell_type": "markdown",
   "metadata": {},
   "source": [
    "Alternatively, the cross validation score can be directly calculated using the cross_val_score helper. Given an estimator selected, the cross validation object and the input dataset, the cross_val_score splits the data repeatedly into training and testing set, trains the estimator using the training set and computes the scores based on the testing set for each iteration of cross validation. "
   ]
  },
  {
   "cell_type": "code",
   "execution_count": 8,
   "metadata": {},
   "outputs": [
    {
     "data": {
      "text/plain": [
       "array([ 0.93888889,  0.99444444,  0.93333333,  0.96666667,  0.96111111,\n",
       "        0.98888889,  0.96666667,  0.98882682,  0.93296089,  0.96648045])"
      ]
     },
     "execution_count": 8,
     "metadata": {},
     "output_type": "execute_result"
    }
   ],
   "source": [
    "cross_val_score(svc ,X_digits,y_digits,cv=k_fold,n_jobs=-1) #this is the esitmator\n",
    "#cv indicates the cross validation methods\n",
    "# n_jobs=-1 means that the computation will be dispatched on all the CPUs of the computer\n",
    "# Alternatively the scoring argument can be provided to specify an alternative scoring method\n"
   ]
  },
  {
   "cell_type": "code",
   "execution_count": 9,
   "metadata": {},
   "outputs": [
    {
     "data": {
      "text/plain": [
       "array([ 0.94423954,  0.99411765,  0.94752137,  0.97047619,  0.96459384,\n",
       "        0.98918129,  0.96713352,  0.98947368,  0.93755025,  0.96780702])"
      ]
     },
     "execution_count": 9,
     "metadata": {},
     "output_type": "execute_result"
    }
   ],
   "source": [
    "cross_val_score(svc,X_digits,y_digits,cv=k_fold,n_jobs=-1,scoring=\"precision_macro\")"
   ]
  },
  {
   "cell_type": "markdown",
   "metadata": {},
   "source": [
    "### Different types of cross validation generators\n",
    "1. KFold: Splits it into k folds and trains on k-1\n",
    "2. StratifiedKFold: Same as Kfold but preserves the clas distribution within each fold\n",
    "3. GroupKFold: This ensures that the same group is not in both testing and training set \n",
    "4. ShuffleSplit: Generates train/test indicies based on random permutation\n",
    "5. StratifiedShuffleSplit: Same as shufflesplit but preserves the class distribution\n",
    "6. GroupShuffleSplit: \n",
    "7. LeaveOneGroupOut: Takes a group array to group observations\n",
    "8. LeavePGroupOut\n",
    "9. LeaveOneOut:\n",
    "10. LeavePOut"
   ]
  },
  {
   "cell_type": "markdown",
   "metadata": {},
   "source": [
    "In SVC, the C parameter represents the penalty parameter for SVM"
   ]
  },
  {
   "cell_type": "markdown",
   "metadata": {},
   "source": [
    "# Grid search and cross validated estimators \n",
    "\n",
    "## Grid Search\n",
    "\n",
    "Scikit-learn provides an object that given data, computes the score during the fit of an estimator on a parameter grid and chooses parameters to maximize the cross vlidation score. "
   ]
  },
  {
   "cell_type": "code",
   "execution_count": 10,
   "metadata": {},
   "outputs": [],
   "source": [
    "from sklearn.model_selection import GridSearchCV, cross_val_score\n",
    "Cs=np.logspace(-6,-1,10)\n",
    "clf=GridSearchCV(estimator=svc,param_grid=dict(C=Cs),\n",
    "                n_jobs=-1)"
   ]
  },
  {
   "cell_type": "code",
   "execution_count": 11,
   "metadata": {},
   "outputs": [
    {
     "data": {
      "text/plain": [
       "GridSearchCV(cv=None, error_score='raise',\n",
       "       estimator=SVC(C=1, cache_size=200, class_weight=None, coef0=0.0,\n",
       "  decision_function_shape='ovr', degree=3, gamma='auto', kernel='linear',\n",
       "  max_iter=-1, probability=False, random_state=None, shrinking=True,\n",
       "  tol=0.001, verbose=False),\n",
       "       fit_params=None, iid=True, n_jobs=-1,\n",
       "       param_grid={'C': array([  1.00000e-06,   3.59381e-06,   1.29155e-05,   4.64159e-05,\n",
       "         1.66810e-04,   5.99484e-04,   2.15443e-03,   7.74264e-03,\n",
       "         2.78256e-02,   1.00000e-01])},\n",
       "       pre_dispatch='2*n_jobs', refit=True, return_train_score='warn',\n",
       "       scoring=None, verbose=0)"
      ]
     },
     "execution_count": 11,
     "metadata": {},
     "output_type": "execute_result"
    }
   ],
   "source": [
    "clf.fit(X_digits[:1000],y_digits[:1000])"
   ]
  },
  {
   "cell_type": "code",
   "execution_count": 12,
   "metadata": {},
   "outputs": [
    {
     "data": {
      "text/plain": [
       "0.92500000000000004"
      ]
     },
     "execution_count": 12,
     "metadata": {},
     "output_type": "execute_result"
    }
   ],
   "source": [
    "clf.best_score_ # Retrieving the best CV score"
   ]
  },
  {
   "cell_type": "code",
   "execution_count": 13,
   "metadata": {},
   "outputs": [
    {
     "data": {
      "text/plain": [
       "0.0077426368268112772"
      ]
     },
     "execution_count": 13,
     "metadata": {},
     "output_type": "execute_result"
    }
   ],
   "source": [
    "clf.best_estimator_.C # Retrieving the estimator that produces the best CV score"
   ]
  },
  {
   "cell_type": "code",
   "execution_count": 14,
   "metadata": {},
   "outputs": [
    {
     "data": {
      "text/plain": [
       "0.94353826850690092"
      ]
     },
     "execution_count": 14,
     "metadata": {},
     "output_type": "execute_result"
    }
   ],
   "source": [
    "# Prediction performance on test set\n",
    "clf.score(X_digits[1000:],y_digits[1000:])"
   ]
  },
  {
   "cell_type": "markdown",
   "metadata": {},
   "source": [
    "By default the grid search uses 3 fold cross validation but if it detects that a classifier is passed rather than the regressor, it uses the stratified 3 fold. "
   ]
  },
  {
   "cell_type": "markdown",
   "metadata": {},
   "source": [
    "## Cross validated esitmators \n",
    "Cross validation to set a parameter can be done more efficiently on an algo by algo basis. This is why for certain estimators, scikit learn exposes cross-validation: evaluating estimator performance estimators that set their parameter automatically by cross validation>"
   ]
  },
  {
   "cell_type": "code",
   "execution_count": 15,
   "metadata": {},
   "outputs": [],
   "source": [
    "from sklearn import linear_model, datasets\n",
    "lasso=linear_model.LassoCV()\n",
    "diabetes=datasets.load_diabetes()\n",
    "X_diabetes=diabetes.data\n",
    "y_diabetes=diabetes.target"
   ]
  },
  {
   "cell_type": "code",
   "execution_count": 16,
   "metadata": {},
   "outputs": [
    {
     "data": {
      "text/plain": [
       "LassoCV(alphas=None, copy_X=True, cv=None, eps=0.001, fit_intercept=True,\n",
       "    max_iter=1000, n_alphas=100, n_jobs=1, normalize=False, positive=False,\n",
       "    precompute='auto', random_state=None, selection='cyclic', tol=0.0001,\n",
       "    verbose=False)"
      ]
     },
     "execution_count": 16,
     "metadata": {},
     "output_type": "execute_result"
    }
   ],
   "source": [
    "lasso.fit(X_diabetes,y_diabetes)"
   ]
  },
  {
   "cell_type": "code",
   "execution_count": 17,
   "metadata": {},
   "outputs": [
    {
     "data": {
      "text/plain": [
       "0.012291895087486173"
      ]
     },
     "execution_count": 17,
     "metadata": {},
     "output_type": "execute_result"
    }
   ],
   "source": [
    "lasso.alpha_"
   ]
  },
  {
   "cell_type": "code",
   "execution_count": 21,
   "metadata": {},
   "outputs": [],
   "source": [
    "# Grid search to find the best alphas for the lasso using GridSearch\n",
    "from sklearn import datasets\n",
    "from sklearn.linear_model import LassoCV\n",
    "from sklearn.linear_model import Lasso\n",
    "from sklearn.model_selection import KFold\n",
    "from sklearn.model_selection import GridSearchCV\n",
    "\n",
    "diabetes=datasets.load_diabetes()\n",
    "X=diabetes.data[:150]\n",
    "y=diabetes.target[:150]\n",
    "\n",
    "lasso=Lasso(random_state=0) # How is this different from the LassoCV?\n",
    "alphas=np.logspace(-4,-0.5,30)"
   ]
  },
  {
   "cell_type": "code",
   "execution_count": 22,
   "metadata": {},
   "outputs": [
    {
     "data": {
      "text/plain": [
       "GridSearchCV(cv=3, error_score='raise',\n",
       "       estimator=Lasso(alpha=1.0, copy_X=True, fit_intercept=True, max_iter=1000,\n",
       "   normalize=False, positive=False, precompute=False, random_state=0,\n",
       "   selection='cyclic', tol=0.0001, warm_start=False),\n",
       "       fit_params=None, iid=True, n_jobs=1,\n",
       "       param_grid=[{'alpha': array([  1.00000e-04,   1.32035e-04,   1.74333e-04,   2.30181e-04,\n",
       "         3.03920e-04,   4.01281e-04,   5.29832e-04,   6.99564e-04,\n",
       "         9.23671e-04,   1.21957e-03,   1.61026e-03,   2.12611e-03,\n",
       "         2.80722e-03,   3.70651e-03,   4.89390e-03,   6.46167e-03,\n",
       "         8...   7.88046e-02,   1.04050e-01,   1.37382e-01,   1.81393e-01,\n",
       "         2.39503e-01,   3.16228e-01])}],\n",
       "       pre_dispatch='2*n_jobs', refit=False, return_train_score='warn',\n",
       "       scoring=None, verbose=0)"
      ]
     },
     "execution_count": 22,
     "metadata": {},
     "output_type": "execute_result"
    }
   ],
   "source": [
    "tuned_parameters=[{\"alpha\":alphas}]\n",
    "n_folds=3\n",
    "\n",
    "clf=GridSearchCV(lasso,tuned_parameters,cv=n_folds,refit=False)\n",
    "clf.fit(X,y)"
   ]
  },
  {
   "cell_type": "code",
   "execution_count": 23,
   "metadata": {},
   "outputs": [],
   "source": [
    "scores=clf.cv_results_[\"mean_test_score\"]\n",
    "scores_std=clf.cv_results_[\"std_test_score\"]"
   ]
  },
  {
   "cell_type": "code",
   "execution_count": 24,
   "metadata": {},
   "outputs": [
    {
     "data": {
      "text/plain": [
       "array([ 0.34908311,  0.34919799,  0.34934947,  0.34954908,  0.34981211,\n",
       "        0.35015826,  0.35061336,  0.35121121,  0.35199462,  0.35301935,\n",
       "        0.35435493,  0.35608875,  0.35832605,  0.36119022,  0.36479555,\n",
       "        0.36855937,  0.37102098,  0.37373637,  0.37536354,  0.37701536,\n",
       "        0.37935476,  0.38233056,  0.38443899,  0.3865947 ,  0.38753399,\n",
       "        0.38591916,  0.38284243,  0.37482125,  0.35843308,  0.33333268])"
      ]
     },
     "execution_count": 24,
     "metadata": {},
     "output_type": "execute_result"
    }
   ],
   "source": [
    "scores"
   ]
  },
  {
   "cell_type": "code",
   "execution_count": 25,
   "metadata": {},
   "outputs": [
    {
     "data": {
      "text/plain": [
       "array([ 0.17451241,  0.17448011,  0.1744375 ,  0.1743812 ,  0.17430675,\n",
       "        0.1742083 ,  0.17407837,  0.17390614,  0.17367848,  0.17337632,\n",
       "        0.17297589,  0.17244278,  0.17173247,  0.17078123,  0.16949033,\n",
       "        0.16846833,  0.16992247,  0.17138926,  0.17153247,  0.17130395,\n",
       "        0.1705762 ,  0.16916414,  0.16609894,  0.16221667,  0.15727615,\n",
       "        0.15191842,  0.14319706,  0.13466461,  0.12712241,  0.12229845])"
      ]
     },
     "execution_count": 25,
     "metadata": {},
     "output_type": "execute_result"
    }
   ],
   "source": [
    "scores_std"
   ]
  },
  {
   "cell_type": "code",
   "execution_count": null,
   "metadata": {},
   "outputs": [],
   "source": []
  }
 ],
 "metadata": {
  "kernelspec": {
   "display_name": "Python [conda root]",
   "language": "python",
   "name": "conda-root-py"
  },
  "language_info": {
   "codemirror_mode": {
    "name": "ipython",
    "version": 3
   },
   "file_extension": ".py",
   "mimetype": "text/x-python",
   "name": "python",
   "nbconvert_exporter": "python",
   "pygments_lexer": "ipython3",
   "version": "3.6.4"
  }
 },
 "nbformat": 4,
 "nbformat_minor": 2
}
