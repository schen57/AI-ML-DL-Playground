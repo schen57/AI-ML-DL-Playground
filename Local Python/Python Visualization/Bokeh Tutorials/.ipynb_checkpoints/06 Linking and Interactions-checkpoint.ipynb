{
 "cells": [
  {
   "cell_type": "code",
   "execution_count": 2,
   "metadata": {},
   "outputs": [
    {
     "data": {
      "text/html": [
       "\n",
       "    <div class=\"bk-root\">\n",
       "        <a href=\"https://bokeh.pydata.org\" target=\"_blank\" class=\"bk-logo bk-logo-small bk-logo-notebook\"></a>\n",
       "        <span id=\"aecfa697-2e6e-4ee5-bca3-b4f1df7aaf4a\">Loading BokehJS ...</span>\n",
       "    </div>"
      ]
     },
     "metadata": {},
     "output_type": "display_data"
    },
    {
     "data": {
      "application/javascript": [
       "\n",
       "(function(root) {\n",
       "  function now() {\n",
       "    return new Date();\n",
       "  }\n",
       "\n",
       "  var force = true;\n",
       "\n",
       "  if (typeof (root._bokeh_onload_callbacks) === \"undefined\" || force === true) {\n",
       "    root._bokeh_onload_callbacks = [];\n",
       "    root._bokeh_is_loading = undefined;\n",
       "  }\n",
       "\n",
       "  var JS_MIME_TYPE = 'application/javascript';\n",
       "  var HTML_MIME_TYPE = 'text/html';\n",
       "  var EXEC_MIME_TYPE = 'application/vnd.bokehjs_exec.v0+json';\n",
       "  var CLASS_NAME = 'output_bokeh rendered_html';\n",
       "\n",
       "  /**\n",
       "   * Render data to the DOM node\n",
       "   */\n",
       "  function render(props, node) {\n",
       "    var script = document.createElement(\"script\");\n",
       "    node.appendChild(script);\n",
       "  }\n",
       "\n",
       "  /**\n",
       "   * Handle when an output is cleared or removed\n",
       "   */\n",
       "  function handleClearOutput(event, handle) {\n",
       "    var cell = handle.cell;\n",
       "\n",
       "    var id = cell.output_area._bokeh_element_id;\n",
       "    var server_id = cell.output_area._bokeh_server_id;\n",
       "    // Clean up Bokeh references\n",
       "    if (id !== undefined) {\n",
       "      Bokeh.index[id].model.document.clear();\n",
       "      delete Bokeh.index[id];\n",
       "    }\n",
       "\n",
       "    if (server_id !== undefined) {\n",
       "      // Clean up Bokeh references\n",
       "      var cmd = \"from bokeh.io.state import curstate; print(curstate().uuid_to_server['\" + server_id + \"'].get_sessions()[0].document.roots[0]._id)\";\n",
       "      cell.notebook.kernel.execute(cmd, {\n",
       "        iopub: {\n",
       "          output: function(msg) {\n",
       "            var element_id = msg.content.text.trim();\n",
       "            Bokeh.index[element_id].model.document.clear();\n",
       "            delete Bokeh.index[element_id];\n",
       "          }\n",
       "        }\n",
       "      });\n",
       "      // Destroy server and session\n",
       "      var cmd = \"import bokeh.io.notebook as ion; ion.destroy_server('\" + server_id + \"')\";\n",
       "      cell.notebook.kernel.execute(cmd);\n",
       "    }\n",
       "  }\n",
       "\n",
       "  /**\n",
       "   * Handle when a new output is added\n",
       "   */\n",
       "  function handleAddOutput(event, handle) {\n",
       "    var output_area = handle.output_area;\n",
       "    var output = handle.output;\n",
       "\n",
       "    // limit handleAddOutput to display_data with EXEC_MIME_TYPE content only\n",
       "    if ((output.output_type != \"display_data\") || (!output.data.hasOwnProperty(EXEC_MIME_TYPE))) {\n",
       "      return\n",
       "    }\n",
       "\n",
       "    var toinsert = output_area.element.find(`.${CLASS_NAME.split(' ')[0]}`);\n",
       "\n",
       "    if (output.metadata[EXEC_MIME_TYPE][\"id\"] !== undefined) {\n",
       "      toinsert[0].firstChild.textContent = output.data[JS_MIME_TYPE];\n",
       "      // store reference to embed id on output_area\n",
       "      output_area._bokeh_element_id = output.metadata[EXEC_MIME_TYPE][\"id\"];\n",
       "    }\n",
       "    if (output.metadata[EXEC_MIME_TYPE][\"server_id\"] !== undefined) {\n",
       "      var bk_div = document.createElement(\"div\");\n",
       "      bk_div.innerHTML = output.data[HTML_MIME_TYPE];\n",
       "      var script_attrs = bk_div.children[0].attributes;\n",
       "      for (var i = 0; i < script_attrs.length; i++) {\n",
       "        toinsert[0].firstChild.setAttribute(script_attrs[i].name, script_attrs[i].value);\n",
       "      }\n",
       "      // store reference to server id on output_area\n",
       "      output_area._bokeh_server_id = output.metadata[EXEC_MIME_TYPE][\"server_id\"];\n",
       "    }\n",
       "  }\n",
       "\n",
       "  function register_renderer(events, OutputArea) {\n",
       "\n",
       "    function append_mime(data, metadata, element) {\n",
       "      // create a DOM node to render to\n",
       "      var toinsert = this.create_output_subarea(\n",
       "        metadata,\n",
       "        CLASS_NAME,\n",
       "        EXEC_MIME_TYPE\n",
       "      );\n",
       "      this.keyboard_manager.register_events(toinsert);\n",
       "      // Render to node\n",
       "      var props = {data: data, metadata: metadata[EXEC_MIME_TYPE]};\n",
       "      render(props, toinsert[0]);\n",
       "      element.append(toinsert);\n",
       "      return toinsert\n",
       "    }\n",
       "\n",
       "    /* Handle when an output is cleared or removed */\n",
       "    events.on('clear_output.CodeCell', handleClearOutput);\n",
       "    events.on('delete.Cell', handleClearOutput);\n",
       "\n",
       "    /* Handle when a new output is added */\n",
       "    events.on('output_added.OutputArea', handleAddOutput);\n",
       "\n",
       "    /**\n",
       "     * Register the mime type and append_mime function with output_area\n",
       "     */\n",
       "    OutputArea.prototype.register_mime_type(EXEC_MIME_TYPE, append_mime, {\n",
       "      /* Is output safe? */\n",
       "      safe: true,\n",
       "      /* Index of renderer in `output_area.display_order` */\n",
       "      index: 0\n",
       "    });\n",
       "  }\n",
       "\n",
       "  // register the mime type if in Jupyter Notebook environment and previously unregistered\n",
       "  if (root.Jupyter !== undefined) {\n",
       "    var events = require('base/js/events');\n",
       "    var OutputArea = require('notebook/js/outputarea').OutputArea;\n",
       "\n",
       "    if (OutputArea.prototype.mime_types().indexOf(EXEC_MIME_TYPE) == -1) {\n",
       "      register_renderer(events, OutputArea);\n",
       "    }\n",
       "  }\n",
       "\n",
       "  \n",
       "  if (typeof (root._bokeh_timeout) === \"undefined\" || force === true) {\n",
       "    root._bokeh_timeout = Date.now() + 5000;\n",
       "    root._bokeh_failed_load = false;\n",
       "  }\n",
       "\n",
       "  var NB_LOAD_WARNING = {'data': {'text/html':\n",
       "     \"<div style='background-color: #fdd'>\\n\"+\n",
       "     \"<p>\\n\"+\n",
       "     \"BokehJS does not appear to have successfully loaded. If loading BokehJS from CDN, this \\n\"+\n",
       "     \"may be due to a slow or bad network connection. Possible fixes:\\n\"+\n",
       "     \"</p>\\n\"+\n",
       "     \"<ul>\\n\"+\n",
       "     \"<li>re-rerun `output_notebook()` to attempt to load from CDN again, or</li>\\n\"+\n",
       "     \"<li>use INLINE resources instead, as so:</li>\\n\"+\n",
       "     \"</ul>\\n\"+\n",
       "     \"<code>\\n\"+\n",
       "     \"from bokeh.resources import INLINE\\n\"+\n",
       "     \"output_notebook(resources=INLINE)\\n\"+\n",
       "     \"</code>\\n\"+\n",
       "     \"</div>\"}};\n",
       "\n",
       "  function display_loaded() {\n",
       "    var el = document.getElementById(\"aecfa697-2e6e-4ee5-bca3-b4f1df7aaf4a\");\n",
       "    if (el != null) {\n",
       "      el.textContent = \"BokehJS is loading...\";\n",
       "    }\n",
       "    if (root.Bokeh !== undefined) {\n",
       "      if (el != null) {\n",
       "        el.textContent = \"BokehJS \" + root.Bokeh.version + \" successfully loaded.\";\n",
       "      }\n",
       "    } else if (Date.now() < root._bokeh_timeout) {\n",
       "      setTimeout(display_loaded, 100)\n",
       "    }\n",
       "  }\n",
       "\n",
       "\n",
       "  function run_callbacks() {\n",
       "    try {\n",
       "      root._bokeh_onload_callbacks.forEach(function(callback) { callback() });\n",
       "    }\n",
       "    finally {\n",
       "      delete root._bokeh_onload_callbacks\n",
       "    }\n",
       "    console.info(\"Bokeh: all callbacks have finished\");\n",
       "  }\n",
       "\n",
       "  function load_libs(js_urls, callback) {\n",
       "    root._bokeh_onload_callbacks.push(callback);\n",
       "    if (root._bokeh_is_loading > 0) {\n",
       "      console.log(\"Bokeh: BokehJS is being loaded, scheduling callback at\", now());\n",
       "      return null;\n",
       "    }\n",
       "    if (js_urls == null || js_urls.length === 0) {\n",
       "      run_callbacks();\n",
       "      return null;\n",
       "    }\n",
       "    console.log(\"Bokeh: BokehJS not loaded, scheduling load and callback at\", now());\n",
       "    root._bokeh_is_loading = js_urls.length;\n",
       "    for (var i = 0; i < js_urls.length; i++) {\n",
       "      var url = js_urls[i];\n",
       "      var s = document.createElement('script');\n",
       "      s.src = url;\n",
       "      s.async = false;\n",
       "      s.onreadystatechange = s.onload = function() {\n",
       "        root._bokeh_is_loading--;\n",
       "        if (root._bokeh_is_loading === 0) {\n",
       "          console.log(\"Bokeh: all BokehJS libraries loaded\");\n",
       "          run_callbacks()\n",
       "        }\n",
       "      };\n",
       "      s.onerror = function() {\n",
       "        console.warn(\"failed to load library \" + url);\n",
       "      };\n",
       "      console.log(\"Bokeh: injecting script tag for BokehJS library: \", url);\n",
       "      document.getElementsByTagName(\"head\")[0].appendChild(s);\n",
       "    }\n",
       "  };var element = document.getElementById(\"aecfa697-2e6e-4ee5-bca3-b4f1df7aaf4a\");\n",
       "  if (element == null) {\n",
       "    console.log(\"Bokeh: ERROR: autoload.js configured with elementid 'aecfa697-2e6e-4ee5-bca3-b4f1df7aaf4a' but no matching script tag was found. \")\n",
       "    return false;\n",
       "  }\n",
       "\n",
       "  var js_urls = [\"https://cdn.pydata.org/bokeh/release/bokeh-0.12.10.min.js\", \"https://cdn.pydata.org/bokeh/release/bokeh-widgets-0.12.10.min.js\", \"https://cdn.pydata.org/bokeh/release/bokeh-tables-0.12.10.min.js\", \"https://cdn.pydata.org/bokeh/release/bokeh-gl-0.12.10.min.js\"];\n",
       "\n",
       "  var inline_js = [\n",
       "    function(Bokeh) {\n",
       "      Bokeh.set_log_level(\"info\");\n",
       "    },\n",
       "    \n",
       "    function(Bokeh) {\n",
       "      \n",
       "    },\n",
       "    function(Bokeh) {\n",
       "      console.log(\"Bokeh: injecting CSS: https://cdn.pydata.org/bokeh/release/bokeh-0.12.10.min.css\");\n",
       "      Bokeh.embed.inject_css(\"https://cdn.pydata.org/bokeh/release/bokeh-0.12.10.min.css\");\n",
       "      console.log(\"Bokeh: injecting CSS: https://cdn.pydata.org/bokeh/release/bokeh-widgets-0.12.10.min.css\");\n",
       "      Bokeh.embed.inject_css(\"https://cdn.pydata.org/bokeh/release/bokeh-widgets-0.12.10.min.css\");\n",
       "      console.log(\"Bokeh: injecting CSS: https://cdn.pydata.org/bokeh/release/bokeh-tables-0.12.10.min.css\");\n",
       "      Bokeh.embed.inject_css(\"https://cdn.pydata.org/bokeh/release/bokeh-tables-0.12.10.min.css\");\n",
       "    }\n",
       "  ];\n",
       "\n",
       "  function run_inline_js() {\n",
       "    \n",
       "    if ((root.Bokeh !== undefined) || (force === true)) {\n",
       "      for (var i = 0; i < inline_js.length; i++) {\n",
       "        inline_js[i].call(root, root.Bokeh);\n",
       "      }if (force === true) {\n",
       "        display_loaded();\n",
       "      }} else if (Date.now() < root._bokeh_timeout) {\n",
       "      setTimeout(run_inline_js, 100);\n",
       "    } else if (!root._bokeh_failed_load) {\n",
       "      console.log(\"Bokeh: BokehJS failed to load within specified timeout.\");\n",
       "      root._bokeh_failed_load = true;\n",
       "    } else if (force !== true) {\n",
       "      var cell = $(document.getElementById(\"aecfa697-2e6e-4ee5-bca3-b4f1df7aaf4a\")).parents('.cell').data().cell;\n",
       "      cell.output_area.append_execute_result(NB_LOAD_WARNING)\n",
       "    }\n",
       "\n",
       "  }\n",
       "\n",
       "  if (root._bokeh_is_loading === 0) {\n",
       "    console.log(\"Bokeh: BokehJS loaded, going straight to plotting\");\n",
       "    run_inline_js();\n",
       "  } else {\n",
       "    load_libs(js_urls, function() {\n",
       "      console.log(\"Bokeh: BokehJS plotting callback run at\", now());\n",
       "      run_inline_js();\n",
       "    });\n",
       "  }\n",
       "}(window));"
      ],
      "application/vnd.bokehjs_load.v0+json": "\n(function(root) {\n  function now() {\n    return new Date();\n  }\n\n  var force = true;\n\n  if (typeof (root._bokeh_onload_callbacks) === \"undefined\" || force === true) {\n    root._bokeh_onload_callbacks = [];\n    root._bokeh_is_loading = undefined;\n  }\n\n  \n\n  \n  if (typeof (root._bokeh_timeout) === \"undefined\" || force === true) {\n    root._bokeh_timeout = Date.now() + 5000;\n    root._bokeh_failed_load = false;\n  }\n\n  var NB_LOAD_WARNING = {'data': {'text/html':\n     \"<div style='background-color: #fdd'>\\n\"+\n     \"<p>\\n\"+\n     \"BokehJS does not appear to have successfully loaded. If loading BokehJS from CDN, this \\n\"+\n     \"may be due to a slow or bad network connection. Possible fixes:\\n\"+\n     \"</p>\\n\"+\n     \"<ul>\\n\"+\n     \"<li>re-rerun `output_notebook()` to attempt to load from CDN again, or</li>\\n\"+\n     \"<li>use INLINE resources instead, as so:</li>\\n\"+\n     \"</ul>\\n\"+\n     \"<code>\\n\"+\n     \"from bokeh.resources import INLINE\\n\"+\n     \"output_notebook(resources=INLINE)\\n\"+\n     \"</code>\\n\"+\n     \"</div>\"}};\n\n  function display_loaded() {\n    var el = document.getElementById(\"aecfa697-2e6e-4ee5-bca3-b4f1df7aaf4a\");\n    if (el != null) {\n      el.textContent = \"BokehJS is loading...\";\n    }\n    if (root.Bokeh !== undefined) {\n      if (el != null) {\n        el.textContent = \"BokehJS \" + root.Bokeh.version + \" successfully loaded.\";\n      }\n    } else if (Date.now() < root._bokeh_timeout) {\n      setTimeout(display_loaded, 100)\n    }\n  }\n\n\n  function run_callbacks() {\n    try {\n      root._bokeh_onload_callbacks.forEach(function(callback) { callback() });\n    }\n    finally {\n      delete root._bokeh_onload_callbacks\n    }\n    console.info(\"Bokeh: all callbacks have finished\");\n  }\n\n  function load_libs(js_urls, callback) {\n    root._bokeh_onload_callbacks.push(callback);\n    if (root._bokeh_is_loading > 0) {\n      console.log(\"Bokeh: BokehJS is being loaded, scheduling callback at\", now());\n      return null;\n    }\n    if (js_urls == null || js_urls.length === 0) {\n      run_callbacks();\n      return null;\n    }\n    console.log(\"Bokeh: BokehJS not loaded, scheduling load and callback at\", now());\n    root._bokeh_is_loading = js_urls.length;\n    for (var i = 0; i < js_urls.length; i++) {\n      var url = js_urls[i];\n      var s = document.createElement('script');\n      s.src = url;\n      s.async = false;\n      s.onreadystatechange = s.onload = function() {\n        root._bokeh_is_loading--;\n        if (root._bokeh_is_loading === 0) {\n          console.log(\"Bokeh: all BokehJS libraries loaded\");\n          run_callbacks()\n        }\n      };\n      s.onerror = function() {\n        console.warn(\"failed to load library \" + url);\n      };\n      console.log(\"Bokeh: injecting script tag for BokehJS library: \", url);\n      document.getElementsByTagName(\"head\")[0].appendChild(s);\n    }\n  };var element = document.getElementById(\"aecfa697-2e6e-4ee5-bca3-b4f1df7aaf4a\");\n  if (element == null) {\n    console.log(\"Bokeh: ERROR: autoload.js configured with elementid 'aecfa697-2e6e-4ee5-bca3-b4f1df7aaf4a' but no matching script tag was found. \")\n    return false;\n  }\n\n  var js_urls = [\"https://cdn.pydata.org/bokeh/release/bokeh-0.12.10.min.js\", \"https://cdn.pydata.org/bokeh/release/bokeh-widgets-0.12.10.min.js\", \"https://cdn.pydata.org/bokeh/release/bokeh-tables-0.12.10.min.js\", \"https://cdn.pydata.org/bokeh/release/bokeh-gl-0.12.10.min.js\"];\n\n  var inline_js = [\n    function(Bokeh) {\n      Bokeh.set_log_level(\"info\");\n    },\n    \n    function(Bokeh) {\n      \n    },\n    function(Bokeh) {\n      console.log(\"Bokeh: injecting CSS: https://cdn.pydata.org/bokeh/release/bokeh-0.12.10.min.css\");\n      Bokeh.embed.inject_css(\"https://cdn.pydata.org/bokeh/release/bokeh-0.12.10.min.css\");\n      console.log(\"Bokeh: injecting CSS: https://cdn.pydata.org/bokeh/release/bokeh-widgets-0.12.10.min.css\");\n      Bokeh.embed.inject_css(\"https://cdn.pydata.org/bokeh/release/bokeh-widgets-0.12.10.min.css\");\n      console.log(\"Bokeh: injecting CSS: https://cdn.pydata.org/bokeh/release/bokeh-tables-0.12.10.min.css\");\n      Bokeh.embed.inject_css(\"https://cdn.pydata.org/bokeh/release/bokeh-tables-0.12.10.min.css\");\n    }\n  ];\n\n  function run_inline_js() {\n    \n    if ((root.Bokeh !== undefined) || (force === true)) {\n      for (var i = 0; i < inline_js.length; i++) {\n        inline_js[i].call(root, root.Bokeh);\n      }if (force === true) {\n        display_loaded();\n      }} else if (Date.now() < root._bokeh_timeout) {\n      setTimeout(run_inline_js, 100);\n    } else if (!root._bokeh_failed_load) {\n      console.log(\"Bokeh: BokehJS failed to load within specified timeout.\");\n      root._bokeh_failed_load = true;\n    } else if (force !== true) {\n      var cell = $(document.getElementById(\"aecfa697-2e6e-4ee5-bca3-b4f1df7aaf4a\")).parents('.cell').data().cell;\n      cell.output_area.append_execute_result(NB_LOAD_WARNING)\n    }\n\n  }\n\n  if (root._bokeh_is_loading === 0) {\n    console.log(\"Bokeh: BokehJS loaded, going straight to plotting\");\n    run_inline_js();\n  } else {\n    load_libs(js_urls, function() {\n      console.log(\"Bokeh: BokehJS plotting callback run at\", now());\n      run_inline_js();\n    });\n  }\n}(window));"
     },
     "metadata": {},
     "output_type": "display_data"
    }
   ],
   "source": [
    "from bokeh.io import output_notebook, show\n",
    "from bokeh.plotting import figure\n",
    "output_notebook()"
   ]
  },
  {
   "cell_type": "markdown",
   "metadata": {},
   "source": [
    "Now that we know from the previous chapter how multiple plots can be placed together in a layout, we can start to look at how different plots can be linked togeher, or how plots can be linked to widgets.\n",
    "\n",
    "# Linked Interactions\n",
    "\n",
    "It is possible to link various interactions between different Bokeh plots. For instance, the ranges of two (or more) plots can be linked, so that when one of the plots is panned (or zoomed, or otherwise has its range changed) the other plots will update in unison. It is also possible to link selections between two plots, so that when items are selected on one plot, the corresponding items on the second plot also become selected.\n",
    "\n",
    "# Linked Panning\n",
    "Linked panning (when multiple plots have ranges that stay in sync) is simple to spell with Bokeh. You simply share the appropriate range objects between two (or more) plots. The example below shows how to accomplish this by linking the ranges of three plots in various ways:"
   ]
  },
  {
   "cell_type": "code",
   "execution_count": 3,
   "metadata": {},
   "outputs": [
    {
     "data": {
      "text/html": [
       "\n",
       "<div class=\"bk-root\">\n",
       "    <div class=\"bk-plotdiv\" id=\"e1c1c2de-6406-4caf-990b-475bd9722cbf\"></div>\n",
       "</div>"
      ]
     },
     "metadata": {},
     "output_type": "display_data"
    },
    {
     "data": {
      "application/javascript": [
       "(function(root) {\n",
       "  function embed_document(root) {\n",
       "    var docs_json = {\"310574df-30df-4565-bd53-ba0375aa188c\":{\"roots\":{\"references\":[{\"attributes\":{\"formatter\":{\"id\":\"59311ce9-65cd-45b0-9533-cf6639d8b253\",\"type\":\"BasicTickFormatter\"},\"plot\":{\"id\":\"d167e36c-299f-4193-a7bb-1c56739f630c\",\"subtype\":\"Figure\",\"type\":\"Plot\"},\"ticker\":{\"id\":\"8d0741cf-7171-4cd6-b754-f240ae542927\",\"type\":\"BasicTicker\"}},\"id\":\"881c4e65-7cc5-427f-ae08-e092e0d1a2db\",\"type\":\"LinearAxis\"},{\"attributes\":{\"callback\":null,\"column_names\":[\"x\",\"y\"],\"data\":{\"x\":[0,1,2,3,4,5,6,7,8,9,10],\"y\":[5,4,3,2,1,0,1,2,3,4,5]}},\"id\":\"22847663-aeea-4f51-ab4b-13583bada3f5\",\"type\":\"ColumnDataSource\"},{\"attributes\":{},\"id\":\"840e2fa4-ed1b-4214-a336-845716253142\",\"type\":\"LinearScale\"},{\"attributes\":{},\"id\":\"11893c0f-5220-4b1a-8175-81264802bb1b\",\"type\":\"BasicTickFormatter\"},{\"attributes\":{\"active_drag\":\"auto\",\"active_inspect\":\"auto\",\"active_scroll\":\"auto\",\"active_tap\":\"auto\",\"tools\":[{\"id\":\"b972d79b-77d4-4b17-84a9-e935aa2357e3\",\"type\":\"PanTool\"},{\"id\":\"3093a6f2-6b3c-4726-85de-5bdf0b4bc4cb\",\"type\":\"WheelZoomTool\"}]},\"id\":\"9d3e8489-a80f-4384-a911-343d2988f43d\",\"type\":\"Toolbar\"},{\"attributes\":{},\"id\":\"8d0741cf-7171-4cd6-b754-f240ae542927\",\"type\":\"BasicTicker\"},{\"attributes\":{},\"id\":\"cdf9f505-e3d4-4ae2-8fec-507f9208dc59\",\"type\":\"BasicTickFormatter\"},{\"attributes\":{},\"id\":\"ca6a7654-f627-444f-b9de-b484177149d9\",\"type\":\"LinearScale\"},{\"attributes\":{\"formatter\":{\"id\":\"59b46b92-fea3-451b-bde2-4588cf855b33\",\"type\":\"BasicTickFormatter\"},\"plot\":{\"id\":\"b37a3bb4-0a86-4e00-a4de-f98fc1b3a907\",\"subtype\":\"Figure\",\"type\":\"Plot\"},\"ticker\":{\"id\":\"7bab78e3-5074-4ce4-be65-9c2f4c0d620f\",\"type\":\"BasicTicker\"}},\"id\":\"c02b6f40-6ac9-47e8-9c9e-41b6e4763459\",\"type\":\"LinearAxis\"},{\"attributes\":{\"fill_color\":{\"value\":\"firebrick\"},\"line_color\":{\"value\":\"firebrick\"},\"size\":{\"units\":\"screen\",\"value\":10},\"x\":{\"field\":\"x\"},\"y\":{\"field\":\"y\"}},\"id\":\"838b2b50-ae97-488f-82a1-c2d0ad748a2d\",\"type\":\"Triangle\"},{\"attributes\":{\"plot\":{\"id\":\"b37a3bb4-0a86-4e00-a4de-f98fc1b3a907\",\"subtype\":\"Figure\",\"type\":\"Plot\"},\"ticker\":{\"id\":\"7bab78e3-5074-4ce4-be65-9c2f4c0d620f\",\"type\":\"BasicTicker\"}},\"id\":\"c1a6e47c-6163-4155-998e-d760cfd1054e\",\"type\":\"Grid\"},{\"attributes\":{},\"id\":\"7bab78e3-5074-4ce4-be65-9c2f4c0d620f\",\"type\":\"BasicTicker\"},{\"attributes\":{\"formatter\":{\"id\":\"d5c7bb3d-9894-409e-86af-6727674a91c7\",\"type\":\"BasicTickFormatter\"},\"plot\":{\"id\":\"b37a3bb4-0a86-4e00-a4de-f98fc1b3a907\",\"subtype\":\"Figure\",\"type\":\"Plot\"},\"ticker\":{\"id\":\"fae005d6-0180-4f52-8bcf-24e225987a60\",\"type\":\"BasicTicker\"}},\"id\":\"3e8a31a6-9c49-44b6-a679-02500219d3c0\",\"type\":\"LinearAxis\"},{\"attributes\":{},\"id\":\"fae005d6-0180-4f52-8bcf-24e225987a60\",\"type\":\"BasicTicker\"},{\"attributes\":{\"dimension\":1,\"plot\":{\"id\":\"b37a3bb4-0a86-4e00-a4de-f98fc1b3a907\",\"subtype\":\"Figure\",\"type\":\"Plot\"},\"ticker\":{\"id\":\"fae005d6-0180-4f52-8bcf-24e225987a60\",\"type\":\"BasicTicker\"}},\"id\":\"11c559eb-bb18-4d21-9194-80100fa95ffa\",\"type\":\"Grid\"},{\"attributes\":{\"formatter\":{\"id\":\"fd0e9c2c-debf-458a-8b69-ad0b7f46c718\",\"type\":\"BasicTickFormatter\"},\"plot\":{\"id\":\"d167e36c-299f-4193-a7bb-1c56739f630c\",\"subtype\":\"Figure\",\"type\":\"Plot\"},\"ticker\":{\"id\":\"c9ea24d0-cafb-4f1d-8398-e80e9bb57b65\",\"type\":\"BasicTicker\"}},\"id\":\"bea6f771-2ac1-4e3c-b40e-e9c094c92219\",\"type\":\"LinearAxis\"},{\"attributes\":{},\"id\":\"b972d79b-77d4-4b17-84a9-e935aa2357e3\",\"type\":\"PanTool\"},{\"attributes\":{\"sizing_mode\":\"scale_width\",\"toolbar_location\":\"above\",\"tools\":[{\"id\":\"20ddfaf7-3a95-4f9f-a116-387f978349f9\",\"type\":\"PanTool\"},{\"id\":\"0fe4c547-0a7e-4cf9-b780-79310b4a5bf1\",\"type\":\"WheelZoomTool\"},{\"id\":\"b972d79b-77d4-4b17-84a9-e935aa2357e3\",\"type\":\"PanTool\"},{\"id\":\"3093a6f2-6b3c-4726-85de-5bdf0b4bc4cb\",\"type\":\"WheelZoomTool\"},{\"id\":\"ca06cd70-a734-4761-9ede-1ac4a1eafb87\",\"type\":\"PanTool\"},{\"id\":\"a316e961-6e76-47f0-bc0a-39714c8bb693\",\"type\":\"WheelZoomTool\"}]},\"id\":\"83a9e74e-8ee3-400c-8464-ad487d11c2bc\",\"type\":\"ToolbarBox\"},{\"attributes\":{},\"id\":\"3093a6f2-6b3c-4726-85de-5bdf0b4bc4cb\",\"type\":\"WheelZoomTool\"},{\"attributes\":{\"fill_alpha\":{\"value\":0.1},\"fill_color\":{\"value\":\"#1f77b4\"},\"line_alpha\":{\"value\":0.1},\"line_color\":{\"value\":\"#1f77b4\"},\"size\":{\"units\":\"screen\",\"value\":10},\"x\":{\"field\":\"x\"},\"y\":{\"field\":\"y\"}},\"id\":\"a1512a80-d48e-4f06-aee1-0d46e6d1c743\",\"type\":\"Circle\"},{\"attributes\":{\"fill_alpha\":{\"value\":0.1},\"fill_color\":{\"value\":\"#1f77b4\"},\"line_alpha\":{\"value\":0.1},\"line_color\":{\"value\":\"#1f77b4\"},\"size\":{\"units\":\"screen\",\"value\":10},\"x\":{\"field\":\"x\"},\"y\":{\"field\":\"y\"}},\"id\":\"f852ca45-01c6-4fb5-b476-9782c4803e2c\",\"type\":\"Triangle\"},{\"attributes\":{\"plot\":null,\"text\":\"\"},\"id\":\"881ef3d9-195e-459a-9b5d-ff626cd21394\",\"type\":\"Title\"},{\"attributes\":{\"data_source\":{\"id\":\"22847663-aeea-4f51-ab4b-13583bada3f5\",\"type\":\"ColumnDataSource\"},\"glyph\":{\"id\":\"838b2b50-ae97-488f-82a1-c2d0ad748a2d\",\"type\":\"Triangle\"},\"hover_glyph\":null,\"muted_glyph\":null,\"nonselection_glyph\":{\"id\":\"f852ca45-01c6-4fb5-b476-9782c4803e2c\",\"type\":\"Triangle\"},\"selection_glyph\":null,\"view\":{\"id\":\"9bad5517-7c84-41cb-acb8-90f5623ba4cd\",\"type\":\"CDSView\"}},\"id\":\"f07d48c4-9177-4671-be33-02d770305ba8\",\"type\":\"GlyphRenderer\"},{\"attributes\":{},\"id\":\"ff889634-d785-4e03-aee2-f5516374953a\",\"type\":\"LinearScale\"},{\"attributes\":{\"source\":{\"id\":\"22847663-aeea-4f51-ab4b-13583bada3f5\",\"type\":\"ColumnDataSource\"}},\"id\":\"9bad5517-7c84-41cb-acb8-90f5623ba4cd\",\"type\":\"CDSView\"},{\"attributes\":{\"plot\":{\"id\":\"d167e36c-299f-4193-a7bb-1c56739f630c\",\"subtype\":\"Figure\",\"type\":\"Plot\"},\"ticker\":{\"id\":\"8d0741cf-7171-4cd6-b754-f240ae542927\",\"type\":\"BasicTicker\"}},\"id\":\"c214c62d-5ada-4af7-a253-5d75ddcb3f70\",\"type\":\"Grid\"},{\"attributes\":{\"callback\":null,\"column_names\":[\"x\",\"y\"],\"data\":{\"x\":[0,1,2,3,4,5,6,7,8,9,10],\"y\":[5,4,3,2,1,0,1,2,3,4,5]}},\"id\":\"0ff11149-d3bf-47d5-bee9-0c86594e5c0e\",\"type\":\"ColumnDataSource\"},{\"attributes\":{\"plot\":null,\"text\":\"\"},\"id\":\"0be67fb3-ae11-4945-985c-e6a93ba56fa7\",\"type\":\"Title\"},{\"attributes\":{},\"id\":\"59b46b92-fea3-451b-bde2-4588cf855b33\",\"type\":\"BasicTickFormatter\"},{\"attributes\":{\"active_drag\":\"auto\",\"active_inspect\":\"auto\",\"active_scroll\":\"auto\",\"active_tap\":\"auto\",\"tools\":[{\"id\":\"ca06cd70-a734-4761-9ede-1ac4a1eafb87\",\"type\":\"PanTool\"},{\"id\":\"a316e961-6e76-47f0-bc0a-39714c8bb693\",\"type\":\"WheelZoomTool\"}]},\"id\":\"1c5087d9-349a-4a77-a048-71b5bdd0cf0e\",\"type\":\"Toolbar\"},{\"attributes\":{},\"id\":\"d5c7bb3d-9894-409e-86af-6727674a91c7\",\"type\":\"BasicTickFormatter\"},{\"attributes\":{},\"id\":\"c9ea24d0-cafb-4f1d-8398-e80e9bb57b65\",\"type\":\"BasicTicker\"},{\"attributes\":{\"children\":[{\"id\":\"8529f836-84d7-4970-89b0-12aaa4ccfd4d\",\"subtype\":\"Figure\",\"type\":\"Plot\"},{\"id\":\"b37a3bb4-0a86-4e00-a4de-f98fc1b3a907\",\"subtype\":\"Figure\",\"type\":\"Plot\"},{\"id\":\"d167e36c-299f-4193-a7bb-1c56739f630c\",\"subtype\":\"Figure\",\"type\":\"Plot\"}]},\"id\":\"d40eb63c-9de5-47f6-8ccc-6dc394515fee\",\"type\":\"Row\"},{\"attributes\":{\"fill_color\":{\"value\":\"olive\"},\"line_color\":{\"value\":\"olive\"},\"size\":{\"units\":\"screen\",\"value\":10},\"x\":{\"field\":\"x\"},\"y\":{\"field\":\"y\"}},\"id\":\"8d93082b-88f4-4e44-b0fb-b3585a264bb5\",\"type\":\"Square\"},{\"attributes\":{\"dimension\":1,\"plot\":{\"id\":\"d167e36c-299f-4193-a7bb-1c56739f630c\",\"subtype\":\"Figure\",\"type\":\"Plot\"},\"ticker\":{\"id\":\"c9ea24d0-cafb-4f1d-8398-e80e9bb57b65\",\"type\":\"BasicTicker\"}},\"id\":\"bef61914-ecc6-4247-beef-4a7944812342\",\"type\":\"Grid\"},{\"attributes\":{},\"id\":\"ca06cd70-a734-4761-9ede-1ac4a1eafb87\",\"type\":\"PanTool\"},{\"attributes\":{\"children\":[{\"id\":\"d40eb63c-9de5-47f6-8ccc-6dc394515fee\",\"type\":\"Row\"}]},\"id\":\"41bb0c85-c689-4b08-8f4b-d5accd43245b\",\"type\":\"Column\"},{\"attributes\":{},\"id\":\"a316e961-6e76-47f0-bc0a-39714c8bb693\",\"type\":\"WheelZoomTool\"},{\"attributes\":{\"fill_alpha\":{\"value\":0.1},\"fill_color\":{\"value\":\"#1f77b4\"},\"line_alpha\":{\"value\":0.1},\"line_color\":{\"value\":\"#1f77b4\"},\"size\":{\"units\":\"screen\",\"value\":10},\"x\":{\"field\":\"x\"},\"y\":{\"field\":\"y\"}},\"id\":\"4a1464f6-02f5-478a-9caa-c32252730fb2\",\"type\":\"Square\"},{\"attributes\":{\"data_source\":{\"id\":\"0ff11149-d3bf-47d5-bee9-0c86594e5c0e\",\"type\":\"ColumnDataSource\"},\"glyph\":{\"id\":\"8d93082b-88f4-4e44-b0fb-b3585a264bb5\",\"type\":\"Square\"},\"hover_glyph\":null,\"muted_glyph\":null,\"nonselection_glyph\":{\"id\":\"4a1464f6-02f5-478a-9caa-c32252730fb2\",\"type\":\"Square\"},\"selection_glyph\":null,\"view\":{\"id\":\"23c338ae-c12c-4f7f-ae7c-0e97ddb1cb9b\",\"type\":\"CDSView\"}},\"id\":\"27aa1808-1d87-46c5-925e-e6d78aed3e2d\",\"type\":\"GlyphRenderer\"},{\"attributes\":{\"source\":{\"id\":\"0ff11149-d3bf-47d5-bee9-0c86594e5c0e\",\"type\":\"ColumnDataSource\"}},\"id\":\"23c338ae-c12c-4f7f-ae7c-0e97ddb1cb9b\",\"type\":\"CDSView\"},{\"attributes\":{\"plot\":null,\"text\":\"\"},\"id\":\"89c3f2f9-dbd4-43c9-80bc-0a61eb81af2c\",\"type\":\"Title\"},{\"attributes\":{},\"id\":\"07cbeee9-bbab-4821-a8b3-1f6074b8a34a\",\"type\":\"LinearScale\"},{\"attributes\":{\"source\":{\"id\":\"d7c10468-38b2-444d-99b2-98c2139e3169\",\"type\":\"ColumnDataSource\"}},\"id\":\"c8cc5859-0042-448a-b8b3-9c35fe385743\",\"type\":\"CDSView\"},{\"attributes\":{},\"id\":\"59311ce9-65cd-45b0-9533-cf6639d8b253\",\"type\":\"BasicTickFormatter\"},{\"attributes\":{},\"id\":\"fd0e9c2c-debf-458a-8b69-ad0b7f46c718\",\"type\":\"BasicTickFormatter\"},{\"attributes\":{\"children\":[{\"id\":\"83a9e74e-8ee3-400c-8464-ad487d11c2bc\",\"type\":\"ToolbarBox\"},{\"id\":\"41bb0c85-c689-4b08-8f4b-d5accd43245b\",\"type\":\"Column\"}]},\"id\":\"4f3a2beb-14b3-4052-9196-4b0b698eab1e\",\"type\":\"Column\"},{\"attributes\":{\"below\":[{\"id\":\"0113d3f8-8a71-4772-ad27-71868845a63a\",\"type\":\"LinearAxis\"}],\"left\":[{\"id\":\"3409f3e2-d149-4892-a6d2-b4462ed054b1\",\"type\":\"LinearAxis\"}],\"plot_height\":250,\"plot_width\":250,\"renderers\":[{\"id\":\"0113d3f8-8a71-4772-ad27-71868845a63a\",\"type\":\"LinearAxis\"},{\"id\":\"c55ae45c-4b8f-41e7-af20-4df4fc31410d\",\"type\":\"Grid\"},{\"id\":\"3409f3e2-d149-4892-a6d2-b4462ed054b1\",\"type\":\"LinearAxis\"},{\"id\":\"ad5c1fda-ae69-4b48-81a5-62187a24d5e3\",\"type\":\"Grid\"},{\"id\":\"8a2ef3a8-4bc8-41a0-960c-0b844522ffd2\",\"type\":\"GlyphRenderer\"}],\"title\":{\"id\":\"881ef3d9-195e-459a-9b5d-ff626cd21394\",\"type\":\"Title\"},\"toolbar\":{\"id\":\"7a13f26d-9054-4db9-9fcb-d736d8b92da5\",\"type\":\"Toolbar\"},\"toolbar_location\":null,\"x_range\":{\"id\":\"4aea5fb2-95e2-4f07-a959-3c1277ae4d53\",\"type\":\"DataRange1d\"},\"x_scale\":{\"id\":\"61868eed-696b-41a3-ba7e-84a1a0df58fb\",\"type\":\"LinearScale\"},\"y_range\":{\"id\":\"7d5ff9a6-51a0-4f01-9651-ab86520b4b2a\",\"type\":\"DataRange1d\"},\"y_scale\":{\"id\":\"1b7968e7-124e-4ebd-bd67-4177232cdc3d\",\"type\":\"LinearScale\"}},\"id\":\"8529f836-84d7-4970-89b0-12aaa4ccfd4d\",\"subtype\":\"Figure\",\"type\":\"Plot\"},{\"attributes\":{\"active_drag\":\"auto\",\"active_inspect\":\"auto\",\"active_scroll\":\"auto\",\"active_tap\":\"auto\",\"tools\":[{\"id\":\"20ddfaf7-3a95-4f9f-a116-387f978349f9\",\"type\":\"PanTool\"},{\"id\":\"0fe4c547-0a7e-4cf9-b780-79310b4a5bf1\",\"type\":\"WheelZoomTool\"}]},\"id\":\"7a13f26d-9054-4db9-9fcb-d736d8b92da5\",\"type\":\"Toolbar\"},{\"attributes\":{\"fill_color\":{\"value\":\"navy\"},\"line_color\":{\"value\":\"navy\"},\"size\":{\"units\":\"screen\",\"value\":10},\"x\":{\"field\":\"x\"},\"y\":{\"field\":\"y\"}},\"id\":\"401c7e9e-c47b-4cba-8f2e-17dc210aa425\",\"type\":\"Circle\"},{\"attributes\":{\"callback\":null},\"id\":\"4aea5fb2-95e2-4f07-a959-3c1277ae4d53\",\"type\":\"DataRange1d\"},{\"attributes\":{\"callback\":null},\"id\":\"7d5ff9a6-51a0-4f01-9651-ab86520b4b2a\",\"type\":\"DataRange1d\"},{\"attributes\":{\"data_source\":{\"id\":\"d7c10468-38b2-444d-99b2-98c2139e3169\",\"type\":\"ColumnDataSource\"},\"glyph\":{\"id\":\"401c7e9e-c47b-4cba-8f2e-17dc210aa425\",\"type\":\"Circle\"},\"hover_glyph\":null,\"muted_glyph\":null,\"nonselection_glyph\":{\"id\":\"a1512a80-d48e-4f06-aee1-0d46e6d1c743\",\"type\":\"Circle\"},\"selection_glyph\":null,\"view\":{\"id\":\"c8cc5859-0042-448a-b8b3-9c35fe385743\",\"type\":\"CDSView\"}},\"id\":\"8a2ef3a8-4bc8-41a0-960c-0b844522ffd2\",\"type\":\"GlyphRenderer\"},{\"attributes\":{\"callback\":null,\"column_names\":[\"x\",\"y\"],\"data\":{\"x\":[0,1,2,3,4,5,6,7,8,9,10],\"y\":[0,1,2,3,4,5,6,7,8,9,10]}},\"id\":\"d7c10468-38b2-444d-99b2-98c2139e3169\",\"type\":\"ColumnDataSource\"},{\"attributes\":{},\"id\":\"61868eed-696b-41a3-ba7e-84a1a0df58fb\",\"type\":\"LinearScale\"},{\"attributes\":{},\"id\":\"1b7968e7-124e-4ebd-bd67-4177232cdc3d\",\"type\":\"LinearScale\"},{\"attributes\":{\"formatter\":{\"id\":\"11893c0f-5220-4b1a-8175-81264802bb1b\",\"type\":\"BasicTickFormatter\"},\"plot\":{\"id\":\"8529f836-84d7-4970-89b0-12aaa4ccfd4d\",\"subtype\":\"Figure\",\"type\":\"Plot\"},\"ticker\":{\"id\":\"fbaad20a-1015-41b9-b253-17af0de769a3\",\"type\":\"BasicTicker\"}},\"id\":\"0113d3f8-8a71-4772-ad27-71868845a63a\",\"type\":\"LinearAxis\"},{\"attributes\":{},\"id\":\"fbaad20a-1015-41b9-b253-17af0de769a3\",\"type\":\"BasicTicker\"},{\"attributes\":{\"plot\":{\"id\":\"8529f836-84d7-4970-89b0-12aaa4ccfd4d\",\"subtype\":\"Figure\",\"type\":\"Plot\"},\"ticker\":{\"id\":\"fbaad20a-1015-41b9-b253-17af0de769a3\",\"type\":\"BasicTicker\"}},\"id\":\"c55ae45c-4b8f-41e7-af20-4df4fc31410d\",\"type\":\"Grid\"},{\"attributes\":{\"formatter\":{\"id\":\"cdf9f505-e3d4-4ae2-8fec-507f9208dc59\",\"type\":\"BasicTickFormatter\"},\"plot\":{\"id\":\"8529f836-84d7-4970-89b0-12aaa4ccfd4d\",\"subtype\":\"Figure\",\"type\":\"Plot\"},\"ticker\":{\"id\":\"f89c21b2-13bb-4a5d-ba5a-6a7e60500359\",\"type\":\"BasicTicker\"}},\"id\":\"3409f3e2-d149-4892-a6d2-b4462ed054b1\",\"type\":\"LinearAxis\"},{\"attributes\":{},\"id\":\"f89c21b2-13bb-4a5d-ba5a-6a7e60500359\",\"type\":\"BasicTicker\"},{\"attributes\":{\"dimension\":1,\"plot\":{\"id\":\"8529f836-84d7-4970-89b0-12aaa4ccfd4d\",\"subtype\":\"Figure\",\"type\":\"Plot\"},\"ticker\":{\"id\":\"f89c21b2-13bb-4a5d-ba5a-6a7e60500359\",\"type\":\"BasicTicker\"}},\"id\":\"ad5c1fda-ae69-4b48-81a5-62187a24d5e3\",\"type\":\"Grid\"},{\"attributes\":{},\"id\":\"0fe4c547-0a7e-4cf9-b780-79310b4a5bf1\",\"type\":\"WheelZoomTool\"},{\"attributes\":{},\"id\":\"20ddfaf7-3a95-4f9f-a116-387f978349f9\",\"type\":\"PanTool\"},{\"attributes\":{\"below\":[{\"id\":\"881c4e65-7cc5-427f-ae08-e092e0d1a2db\",\"type\":\"LinearAxis\"}],\"left\":[{\"id\":\"bea6f771-2ac1-4e3c-b40e-e9c094c92219\",\"type\":\"LinearAxis\"}],\"plot_height\":250,\"plot_width\":250,\"renderers\":[{\"id\":\"881c4e65-7cc5-427f-ae08-e092e0d1a2db\",\"type\":\"LinearAxis\"},{\"id\":\"c214c62d-5ada-4af7-a253-5d75ddcb3f70\",\"type\":\"Grid\"},{\"id\":\"bea6f771-2ac1-4e3c-b40e-e9c094c92219\",\"type\":\"LinearAxis\"},{\"id\":\"bef61914-ecc6-4247-beef-4a7944812342\",\"type\":\"Grid\"},{\"id\":\"27aa1808-1d87-46c5-925e-e6d78aed3e2d\",\"type\":\"GlyphRenderer\"}],\"title\":{\"id\":\"89c3f2f9-dbd4-43c9-80bc-0a61eb81af2c\",\"type\":\"Title\"},\"toolbar\":{\"id\":\"1c5087d9-349a-4a77-a048-71b5bdd0cf0e\",\"type\":\"Toolbar\"},\"toolbar_location\":null,\"x_range\":{\"id\":\"4aea5fb2-95e2-4f07-a959-3c1277ae4d53\",\"type\":\"DataRange1d\"},\"x_scale\":{\"id\":\"ff889634-d785-4e03-aee2-f5516374953a\",\"type\":\"LinearScale\"},\"y_range\":{\"id\":\"7d5ff9a6-51a0-4f01-9651-ab86520b4b2a\",\"type\":\"DataRange1d\"},\"y_scale\":{\"id\":\"07cbeee9-bbab-4821-a8b3-1f6074b8a34a\",\"type\":\"LinearScale\"}},\"id\":\"d167e36c-299f-4193-a7bb-1c56739f630c\",\"subtype\":\"Figure\",\"type\":\"Plot\"},{\"attributes\":{\"below\":[{\"id\":\"c02b6f40-6ac9-47e8-9c9e-41b6e4763459\",\"type\":\"LinearAxis\"}],\"left\":[{\"id\":\"3e8a31a6-9c49-44b6-a679-02500219d3c0\",\"type\":\"LinearAxis\"}],\"plot_height\":250,\"plot_width\":250,\"renderers\":[{\"id\":\"c02b6f40-6ac9-47e8-9c9e-41b6e4763459\",\"type\":\"LinearAxis\"},{\"id\":\"c1a6e47c-6163-4155-998e-d760cfd1054e\",\"type\":\"Grid\"},{\"id\":\"3e8a31a6-9c49-44b6-a679-02500219d3c0\",\"type\":\"LinearAxis\"},{\"id\":\"11c559eb-bb18-4d21-9194-80100fa95ffa\",\"type\":\"Grid\"},{\"id\":\"f07d48c4-9177-4671-be33-02d770305ba8\",\"type\":\"GlyphRenderer\"}],\"title\":{\"id\":\"0be67fb3-ae11-4945-985c-e6a93ba56fa7\",\"type\":\"Title\"},\"toolbar\":{\"id\":\"9d3e8489-a80f-4384-a911-343d2988f43d\",\"type\":\"Toolbar\"},\"toolbar_location\":null,\"x_range\":{\"id\":\"4aea5fb2-95e2-4f07-a959-3c1277ae4d53\",\"type\":\"DataRange1d\"},\"x_scale\":{\"id\":\"840e2fa4-ed1b-4214-a336-845716253142\",\"type\":\"LinearScale\"},\"y_range\":{\"id\":\"7d5ff9a6-51a0-4f01-9651-ab86520b4b2a\",\"type\":\"DataRange1d\"},\"y_scale\":{\"id\":\"ca6a7654-f627-444f-b9de-b484177149d9\",\"type\":\"LinearScale\"}},\"id\":\"b37a3bb4-0a86-4e00-a4de-f98fc1b3a907\",\"subtype\":\"Figure\",\"type\":\"Plot\"}],\"root_ids\":[\"4f3a2beb-14b3-4052-9196-4b0b698eab1e\"]},\"title\":\"Bokeh Application\",\"version\":\"0.12.10\"}};\n",
       "    var render_items = [{\"docid\":\"310574df-30df-4565-bd53-ba0375aa188c\",\"elementid\":\"e1c1c2de-6406-4caf-990b-475bd9722cbf\",\"modelid\":\"4f3a2beb-14b3-4052-9196-4b0b698eab1e\"}];\n",
       "\n",
       "    root.Bokeh.embed.embed_items(docs_json, render_items);\n",
       "  }\n",
       "\n",
       "  if (root.Bokeh !== undefined) {\n",
       "    embed_document(root);\n",
       "  } else {\n",
       "    var attempts = 0;\n",
       "    var timer = setInterval(function(root) {\n",
       "      if (root.Bokeh !== undefined) {\n",
       "        embed_document(root);\n",
       "        clearInterval(timer);\n",
       "      }\n",
       "      attempts++;\n",
       "      if (attempts > 100) {\n",
       "        console.log(\"Bokeh: ERROR: Unable to embed document because BokehJS library is missing\")\n",
       "        clearInterval(timer);\n",
       "      }\n",
       "    }, 10, root)\n",
       "  }\n",
       "})(window);"
      ],
      "application/vnd.bokehjs_exec.v0+json": ""
     },
     "metadata": {
      "application/vnd.bokehjs_exec.v0+json": {
       "id": "4f3a2beb-14b3-4052-9196-4b0b698eab1e"
      }
     },
     "output_type": "display_data"
    }
   ],
   "source": [
    "from bokeh.layouts import gridplot\n",
    "x=list(range(11))\n",
    "y0,y1,y2=x,[10-i for i in x], [abs(5-i) for i in x]\n",
    "plot_options=dict(width=250,plot_height=250,tools=\"pan,wheel_zoom\")\n",
    "\n",
    "#create a new plot\n",
    "s1=figure(**plot_options)\n",
    "s1.circle(x,y0,size=10,color=\"navy\")\n",
    "\n",
    "#create a new plot and share both ranges\n",
    "s2=figure(x_range=s1.x_range,y_range=s1.y_range, **plot_options)\n",
    "s2.triangle(x,y2,size=10,color=\"firebrick\")\n",
    "\n",
    "#create yet another plot that share the same range\n",
    "s3=figure(x_range=s1.x_range,y_range=s1.y_range,**plot_options)\n",
    "s3.square(x,y2,size=10,color=\"olive\")\n",
    "\n",
    "p=gridplot([[s1,s2,s3]])\n",
    "\n",
    "show(p)"
   ]
  },
  {
   "cell_type": "code",
   "execution_count": 4,
   "metadata": {},
   "outputs": [
    {
     "data": {
      "text/html": [
       "\n",
       "<div class=\"bk-root\">\n",
       "    <div class=\"bk-plotdiv\" id=\"0fec7be8-e9ec-4887-b38f-179382f6d6d1\"></div>\n",
       "</div>"
      ]
     },
     "metadata": {},
     "output_type": "display_data"
    },
    {
     "data": {
      "application/javascript": [
       "(function(root) {\n",
       "  function embed_document(root) {\n",
       "    var docs_json = {\"6cdba7cf-1abd-4cc2-bd9f-735684324a70\":{\"roots\":{\"references\":[{\"attributes\":{\"active_drag\":\"auto\",\"active_inspect\":\"auto\",\"active_scroll\":\"auto\",\"active_tap\":\"auto\",\"tools\":[{\"id\":\"f71bc196-92f4-467f-857a-3ea386dd2a20\",\"type\":\"PanTool\"},{\"id\":\"f1025d8b-1c77-4bfe-856a-ea9d85f002e7\",\"type\":\"WheelZoomTool\"}]},\"id\":\"6e6ee9da-268f-4915-b72f-d3d6374c6924\",\"type\":\"Toolbar\"},{\"attributes\":{\"formatter\":{\"id\":\"6bd58e4c-d651-4054-a43c-61f22aa170a5\",\"type\":\"BasicTickFormatter\"},\"plot\":{\"id\":\"617ebd2e-766f-4260-a69b-fadf50fc3962\",\"subtype\":\"Figure\",\"type\":\"Plot\"},\"ticker\":{\"id\":\"9833c128-ee19-4904-a4de-30d2fe81255b\",\"type\":\"BasicTicker\"}},\"id\":\"bf463a42-2d74-463f-b465-3c849301ff04\",\"type\":\"LinearAxis\"},{\"attributes\":{},\"id\":\"ced97586-2452-4013-b188-513866693e96\",\"type\":\"BasicTicker\"},{\"attributes\":{\"children\":[{\"id\":\"945f1ba2-2f99-4dbd-8a4a-ab976498f855\",\"type\":\"Row\"}]},\"id\":\"d6d0fe81-d044-4396-843c-27f923afcf82\",\"type\":\"Column\"},{\"attributes\":{},\"id\":\"f71bc196-92f4-467f-857a-3ea386dd2a20\",\"type\":\"PanTool\"},{\"attributes\":{},\"id\":\"4b024e52-f5a2-4ffa-9e1d-c1b5892fb36d\",\"type\":\"LinearScale\"},{\"attributes\":{\"callback\":null},\"id\":\"bf4af285-7eba-4b4c-8c92-6c2078d49863\",\"type\":\"DataRange1d\"},{\"attributes\":{},\"id\":\"6101a9b8-0db8-4a6a-814f-37fefc90a20c\",\"type\":\"LinearScale\"},{\"attributes\":{\"plot\":{\"id\":\"617ebd2e-766f-4260-a69b-fadf50fc3962\",\"subtype\":\"Figure\",\"type\":\"Plot\"},\"ticker\":{\"id\":\"9833c128-ee19-4904-a4de-30d2fe81255b\",\"type\":\"BasicTicker\"}},\"id\":\"1084b9af-9c23-4234-9b76-42d523bc5f66\",\"type\":\"Grid\"},{\"attributes\":{\"plot\":{\"id\":\"5ac77192-195d-483a-be45-f002a18fcd0a\",\"subtype\":\"Figure\",\"type\":\"Plot\"},\"ticker\":{\"id\":\"ced97586-2452-4013-b188-513866693e96\",\"type\":\"BasicTicker\"}},\"id\":\"cd838207-9eb3-4352-881d-d18ad590c6e8\",\"type\":\"Grid\"},{\"attributes\":{\"active_drag\":\"auto\",\"active_inspect\":\"auto\",\"active_scroll\":\"auto\",\"active_tap\":\"auto\",\"tools\":[{\"id\":\"41e5f103-fa11-4ab7-9cb4-aba3b4a37ac5\",\"type\":\"PanTool\"},{\"id\":\"b016f804-5ada-4981-a936-6037993613a5\",\"type\":\"WheelZoomTool\"}]},\"id\":\"ebcb7feb-700c-405a-ac26-33d2d947b729\",\"type\":\"Toolbar\"},{\"attributes\":{\"formatter\":{\"id\":\"11fd511d-ab91-4d9b-840e-a644c3e7fa1e\",\"type\":\"BasicTickFormatter\"},\"plot\":{\"id\":\"5ac77192-195d-483a-be45-f002a18fcd0a\",\"subtype\":\"Figure\",\"type\":\"Plot\"},\"ticker\":{\"id\":\"ced97586-2452-4013-b188-513866693e96\",\"type\":\"BasicTicker\"}},\"id\":\"26b7a087-2a9f-44bc-adf4-64626f59cb39\",\"type\":\"LinearAxis\"},{\"attributes\":{},\"id\":\"8430b0dc-ff18-4b74-a147-638902c1da1b\",\"type\":\"LinearScale\"},{\"attributes\":{},\"id\":\"6bd58e4c-d651-4054-a43c-61f22aa170a5\",\"type\":\"BasicTickFormatter\"},{\"attributes\":{},\"id\":\"003abd75-e958-4571-8aaa-fea8b9aacbde\",\"type\":\"BasicTicker\"},{\"attributes\":{\"line_alpha\":{\"value\":0.1},\"line_color\":{\"value\":\"#1f77b4\"},\"x\":{\"field\":\"x\"},\"y\":{\"field\":\"y\"}},\"id\":\"3bf844fa-0e74-4d07-ab8f-52949accab14\",\"type\":\"Line\"},{\"attributes\":{\"fill_alpha\":{\"value\":0.1},\"fill_color\":{\"value\":\"#1f77b4\"},\"line_alpha\":{\"value\":0.1},\"line_color\":{\"value\":\"#1f77b4\"},\"x\":{\"field\":\"x\"},\"y\":{\"field\":\"y\"}},\"id\":\"e6b058a4-9ba7-4e99-96f8-a1fa5f867bb3\",\"type\":\"Circle\"},{\"attributes\":{\"formatter\":{\"id\":\"bbe89b25-b323-4a87-b425-6c33df2ba0c3\",\"type\":\"BasicTickFormatter\"},\"plot\":{\"id\":\"617ebd2e-766f-4260-a69b-fadf50fc3962\",\"subtype\":\"Figure\",\"type\":\"Plot\"},\"ticker\":{\"id\":\"003abd75-e958-4571-8aaa-fea8b9aacbde\",\"type\":\"BasicTicker\"}},\"id\":\"678d096f-02ce-46b6-b6fa-9ca96ac21d96\",\"type\":\"LinearAxis\"},{\"attributes\":{\"data_source\":{\"id\":\"02397848-f294-419b-ae17-61c900c08f78\",\"type\":\"ColumnDataSource\"},\"glyph\":{\"id\":\"40dbe1d2-592e-4cba-ba7c-4bbaf4ac26e3\",\"type\":\"Line\"},\"hover_glyph\":null,\"muted_glyph\":null,\"nonselection_glyph\":{\"id\":\"3bf844fa-0e74-4d07-ab8f-52949accab14\",\"type\":\"Line\"},\"selection_glyph\":null,\"view\":{\"id\":\"fbe93341-2deb-4bfc-bdfc-82e7e382b94c\",\"type\":\"CDSView\"}},\"id\":\"491def6f-4e4f-420b-aac1-cbb2c4afd12c\",\"type\":\"GlyphRenderer\"},{\"attributes\":{\"fill_color\":{\"value\":\"#1f77b4\"},\"line_color\":{\"value\":\"#1f77b4\"},\"x\":{\"field\":\"x\"},\"y\":{\"field\":\"y\"}},\"id\":\"e61a08b1-d7cf-41df-9764-5a20cfe5d8d0\",\"type\":\"Circle\"},{\"attributes\":{\"dimension\":1,\"plot\":{\"id\":\"617ebd2e-766f-4260-a69b-fadf50fc3962\",\"subtype\":\"Figure\",\"type\":\"Plot\"},\"ticker\":{\"id\":\"003abd75-e958-4571-8aaa-fea8b9aacbde\",\"type\":\"BasicTicker\"}},\"id\":\"a1d0f468-7e41-48b0-9bef-4bc9a043d52b\",\"type\":\"Grid\"},{\"attributes\":{\"formatter\":{\"id\":\"7679a23a-867a-47ba-80ac-bbae26201bb7\",\"type\":\"BasicTickFormatter\"},\"plot\":{\"id\":\"5ac77192-195d-483a-be45-f002a18fcd0a\",\"subtype\":\"Figure\",\"type\":\"Plot\"},\"ticker\":{\"id\":\"53aae593-341c-4816-8646-0d6a95b1f11e\",\"type\":\"BasicTicker\"}},\"id\":\"ac2f1e71-4c36-41fe-8382-759ed49479fc\",\"type\":\"LinearAxis\"},{\"attributes\":{\"plot\":null,\"text\":\"Random plots\"},\"id\":\"343e80b4-8637-4d01-91c3-3c1caf97bd39\",\"type\":\"Title\"},{\"attributes\":{\"source\":{\"id\":\"02397848-f294-419b-ae17-61c900c08f78\",\"type\":\"ColumnDataSource\"}},\"id\":\"fbe93341-2deb-4bfc-bdfc-82e7e382b94c\",\"type\":\"CDSView\"},{\"attributes\":{\"callback\":null,\"column_names\":[\"x\",\"y\"],\"data\":{\"x\":{\"__ndarray__\":\"vuWkhUXr7j/SCuo8J13ZPzrGIemOhe0/Vx+ZUWTD5D9QW2FiuaSyP6byMVRDceA/mJLDHgkZwT+OHbOndrndP0hJvceHk8I/57ALXjJd7D8=\",\"dtype\":\"float64\",\"shape\":[10]},\"y\":{\"__ndarray__\":\"otoH2DCR6D/qRyFbeDLePyzme7WPR+c/LDY2AXm75z88aXPUrh3mP/3pu3K61uM/MCK45Zt36D+V3tp9t/XsP9wZdxlW+tI/LLsFjaeUxT8=\",\"dtype\":\"float64\",\"shape\":[10]}}},\"id\":\"92ca11c3-0ba7-4c97-aea0-432e2ad37bba\",\"type\":\"ColumnDataSource\"},{\"attributes\":{},\"id\":\"bbe89b25-b323-4a87-b425-6c33df2ba0c3\",\"type\":\"BasicTickFormatter\"},{\"attributes\":{},\"id\":\"b016f804-5ada-4981-a936-6037993613a5\",\"type\":\"WheelZoomTool\"},{\"attributes\":{\"sizing_mode\":\"scale_width\",\"toolbar_location\":\"above\",\"tools\":[{\"id\":\"f71bc196-92f4-467f-857a-3ea386dd2a20\",\"type\":\"PanTool\"},{\"id\":\"f1025d8b-1c77-4bfe-856a-ea9d85f002e7\",\"type\":\"WheelZoomTool\"},{\"id\":\"41e5f103-fa11-4ab7-9cb4-aba3b4a37ac5\",\"type\":\"PanTool\"},{\"id\":\"b016f804-5ada-4981-a936-6037993613a5\",\"type\":\"WheelZoomTool\"}]},\"id\":\"b51d4783-722a-47a5-8462-ce30c16ae09f\",\"type\":\"ToolbarBox\"},{\"attributes\":{},\"id\":\"41e5f103-fa11-4ab7-9cb4-aba3b4a37ac5\",\"type\":\"PanTool\"},{\"attributes\":{\"children\":[{\"id\":\"617ebd2e-766f-4260-a69b-fadf50fc3962\",\"subtype\":\"Figure\",\"type\":\"Plot\"},{\"id\":\"5ac77192-195d-483a-be45-f002a18fcd0a\",\"subtype\":\"Figure\",\"type\":\"Plot\"}]},\"id\":\"945f1ba2-2f99-4dbd-8a4a-ab976498f855\",\"type\":\"Row\"},{\"attributes\":{\"dimension\":1,\"plot\":{\"id\":\"5ac77192-195d-483a-be45-f002a18fcd0a\",\"subtype\":\"Figure\",\"type\":\"Plot\"},\"ticker\":{\"id\":\"53aae593-341c-4816-8646-0d6a95b1f11e\",\"type\":\"BasicTicker\"}},\"id\":\"7d308b57-a0d6-465d-8b84-a7f4bb55bc12\",\"type\":\"Grid\"},{\"attributes\":{\"line_color\":{\"value\":\"#1f77b4\"},\"x\":{\"field\":\"x\"},\"y\":{\"field\":\"y\"}},\"id\":\"40dbe1d2-592e-4cba-ba7c-4bbaf4ac26e3\",\"type\":\"Line\"},{\"attributes\":{},\"id\":\"53aae593-341c-4816-8646-0d6a95b1f11e\",\"type\":\"BasicTicker\"},{\"attributes\":{\"source\":{\"id\":\"92ca11c3-0ba7-4c97-aea0-432e2ad37bba\",\"type\":\"ColumnDataSource\"}},\"id\":\"b4ec1945-9033-4bb2-8fbe-bca55c9b458d\",\"type\":\"CDSView\"},{\"attributes\":{\"data_source\":{\"id\":\"92ca11c3-0ba7-4c97-aea0-432e2ad37bba\",\"type\":\"ColumnDataSource\"},\"glyph\":{\"id\":\"e61a08b1-d7cf-41df-9764-5a20cfe5d8d0\",\"type\":\"Circle\"},\"hover_glyph\":null,\"muted_glyph\":null,\"nonselection_glyph\":{\"id\":\"e6b058a4-9ba7-4e99-96f8-a1fa5f867bb3\",\"type\":\"Circle\"},\"selection_glyph\":null,\"view\":{\"id\":\"b4ec1945-9033-4bb2-8fbe-bca55c9b458d\",\"type\":\"CDSView\"}},\"id\":\"c09a128a-2845-471b-b766-79f003ea1019\",\"type\":\"GlyphRenderer\"},{\"attributes\":{},\"id\":\"11fd511d-ab91-4d9b-840e-a644c3e7fa1e\",\"type\":\"BasicTickFormatter\"},{\"attributes\":{\"plot\":null,\"text\":\"Random plots\"},\"id\":\"1af29f17-928c-45ba-8afa-55fafc90a174\",\"type\":\"Title\"},{\"attributes\":{\"below\":[{\"id\":\"26b7a087-2a9f-44bc-adf4-64626f59cb39\",\"type\":\"LinearAxis\"}],\"left\":[{\"id\":\"ac2f1e71-4c36-41fe-8382-759ed49479fc\",\"type\":\"LinearAxis\"}],\"plot_height\":250,\"plot_width\":250,\"renderers\":[{\"id\":\"26b7a087-2a9f-44bc-adf4-64626f59cb39\",\"type\":\"LinearAxis\"},{\"id\":\"cd838207-9eb3-4352-881d-d18ad590c6e8\",\"type\":\"Grid\"},{\"id\":\"ac2f1e71-4c36-41fe-8382-759ed49479fc\",\"type\":\"LinearAxis\"},{\"id\":\"7d308b57-a0d6-465d-8b84-a7f4bb55bc12\",\"type\":\"Grid\"},{\"id\":\"c09a128a-2845-471b-b766-79f003ea1019\",\"type\":\"GlyphRenderer\"}],\"title\":{\"id\":\"343e80b4-8637-4d01-91c3-3c1caf97bd39\",\"type\":\"Title\"},\"toolbar\":{\"id\":\"ebcb7feb-700c-405a-ac26-33d2d947b729\",\"type\":\"Toolbar\"},\"toolbar_location\":null,\"x_range\":{\"id\":\"5be20b43-0e0a-45ba-baaf-f68b51cce53e\",\"type\":\"DataRange1d\"},\"x_scale\":{\"id\":\"3ffd65da-6330-4e45-bc06-60f05f715f27\",\"type\":\"LinearScale\"},\"y_range\":{\"id\":\"bf4af285-7eba-4b4c-8c92-6c2078d49863\",\"type\":\"DataRange1d\"},\"y_scale\":{\"id\":\"8430b0dc-ff18-4b74-a147-638902c1da1b\",\"type\":\"LinearScale\"}},\"id\":\"5ac77192-195d-483a-be45-f002a18fcd0a\",\"subtype\":\"Figure\",\"type\":\"Plot\"},{\"attributes\":{\"below\":[{\"id\":\"bf463a42-2d74-463f-b465-3c849301ff04\",\"type\":\"LinearAxis\"}],\"left\":[{\"id\":\"678d096f-02ce-46b6-b6fa-9ca96ac21d96\",\"type\":\"LinearAxis\"}],\"plot_height\":250,\"plot_width\":250,\"renderers\":[{\"id\":\"bf463a42-2d74-463f-b465-3c849301ff04\",\"type\":\"LinearAxis\"},{\"id\":\"1084b9af-9c23-4234-9b76-42d523bc5f66\",\"type\":\"Grid\"},{\"id\":\"678d096f-02ce-46b6-b6fa-9ca96ac21d96\",\"type\":\"LinearAxis\"},{\"id\":\"a1d0f468-7e41-48b0-9bef-4bc9a043d52b\",\"type\":\"Grid\"},{\"id\":\"491def6f-4e4f-420b-aac1-cbb2c4afd12c\",\"type\":\"GlyphRenderer\"}],\"title\":{\"id\":\"1af29f17-928c-45ba-8afa-55fafc90a174\",\"type\":\"Title\"},\"toolbar\":{\"id\":\"6e6ee9da-268f-4915-b72f-d3d6374c6924\",\"type\":\"Toolbar\"},\"toolbar_location\":null,\"x_range\":{\"id\":\"5be20b43-0e0a-45ba-baaf-f68b51cce53e\",\"type\":\"DataRange1d\"},\"x_scale\":{\"id\":\"4b024e52-f5a2-4ffa-9e1d-c1b5892fb36d\",\"type\":\"LinearScale\"},\"y_range\":{\"id\":\"bf4af285-7eba-4b4c-8c92-6c2078d49863\",\"type\":\"DataRange1d\"},\"y_scale\":{\"id\":\"6101a9b8-0db8-4a6a-814f-37fefc90a20c\",\"type\":\"LinearScale\"}},\"id\":\"617ebd2e-766f-4260-a69b-fadf50fc3962\",\"subtype\":\"Figure\",\"type\":\"Plot\"},{\"attributes\":{},\"id\":\"f1025d8b-1c77-4bfe-856a-ea9d85f002e7\",\"type\":\"WheelZoomTool\"},{\"attributes\":{},\"id\":\"7679a23a-867a-47ba-80ac-bbae26201bb7\",\"type\":\"BasicTickFormatter\"},{\"attributes\":{\"callback\":null,\"column_names\":[\"x\",\"y\"],\"data\":{\"x\":{\"__ndarray__\":\"vuWkhUXr7j/SCuo8J13ZPzrGIemOhe0/Vx+ZUWTD5D9QW2FiuaSyP6byMVRDceA/mJLDHgkZwT+OHbOndrndP0hJvceHk8I/57ALXjJd7D8=\",\"dtype\":\"float64\",\"shape\":[10]},\"y\":{\"__ndarray__\":\"+N/Gd09v6D/AxeMmQ1LkP5BVzFrDbuw/MJgbJq6H5D+c65EfY+/eP5BUbbWXGaU/aqdg9BvF3T+Zk37VIyviP9C6ycvIaeE/3JH8NRyC4z8=\",\"dtype\":\"float64\",\"shape\":[10]}}},\"id\":\"02397848-f294-419b-ae17-61c900c08f78\",\"type\":\"ColumnDataSource\"},{\"attributes\":{\"children\":[{\"id\":\"b51d4783-722a-47a5-8462-ce30c16ae09f\",\"type\":\"ToolbarBox\"},{\"id\":\"d6d0fe81-d044-4396-843c-27f923afcf82\",\"type\":\"Column\"}]},\"id\":\"2b23e7c5-e2dd-4cd0-87e7-3c4466cdfc67\",\"type\":\"Column\"},{\"attributes\":{\"callback\":null},\"id\":\"5be20b43-0e0a-45ba-baaf-f68b51cce53e\",\"type\":\"DataRange1d\"},{\"attributes\":{},\"id\":\"3ffd65da-6330-4e45-bc06-60f05f715f27\",\"type\":\"LinearScale\"},{\"attributes\":{},\"id\":\"9833c128-ee19-4904-a4de-30d2fe81255b\",\"type\":\"BasicTicker\"}],\"root_ids\":[\"2b23e7c5-e2dd-4cd0-87e7-3c4466cdfc67\"]},\"title\":\"Bokeh Application\",\"version\":\"0.12.10\"}};\n",
       "    var render_items = [{\"docid\":\"6cdba7cf-1abd-4cc2-bd9f-735684324a70\",\"elementid\":\"0fec7be8-e9ec-4887-b38f-179382f6d6d1\",\"modelid\":\"2b23e7c5-e2dd-4cd0-87e7-3c4466cdfc67\"}];\n",
       "\n",
       "    root.Bokeh.embed.embed_items(docs_json, render_items);\n",
       "  }\n",
       "\n",
       "  if (root.Bokeh !== undefined) {\n",
       "    embed_document(root);\n",
       "  } else {\n",
       "    var attempts = 0;\n",
       "    var timer = setInterval(function(root) {\n",
       "      if (root.Bokeh !== undefined) {\n",
       "        embed_document(root);\n",
       "        clearInterval(timer);\n",
       "      }\n",
       "      attempts++;\n",
       "      if (attempts > 100) {\n",
       "        console.log(\"Bokeh: ERROR: Unable to embed document because BokehJS library is missing\")\n",
       "        clearInterval(timer);\n",
       "      }\n",
       "    }, 10, root)\n",
       "  }\n",
       "})(window);"
      ],
      "application/vnd.bokehjs_exec.v0+json": ""
     },
     "metadata": {
      "application/vnd.bokehjs_exec.v0+json": {
       "id": "2b23e7c5-e2dd-4cd0-87e7-3c4466cdfc67"
      }
     },
     "output_type": "display_data"
    }
   ],
   "source": [
    "import numpy as np\n",
    "x=np.random.random(10)\n",
    "y0=np.random.random(10)\n",
    "y1=np.random.random(10)\n",
    "\n",
    "plot_options=dict(width=250,plot_height=250,\n",
    "                  tools=\"pan,wheel_zoom\",title='Random plots')\n",
    "\n",
    "#create a plot\n",
    "a1=figure(**plot_options)\n",
    "a1.line(x,y0)\n",
    "\n",
    "#create a second plot\n",
    "a2=figure(x_range=a1.x_range,y_range=a1.y_range,**plot_options)\n",
    "a2.circle(x,y1)\n",
    "\n",
    "p=gridplot([[a1,a2]])\n",
    "\n",
    "show(p)"
   ]
  },
  {
   "cell_type": "markdown",
   "metadata": {},
   "source": [
    "# Linked Brunshing \n",
    "Linking selections is accomplished in a similar way, by sharing data sources between plots. Note that normally with bokeh.plotting and bokeh.charts creating a default data source for simple plots is handled automatically. However to share a data source, we must create them by hand and pass them explicitly. This is illustrated in the example below:"
   ]
  },
  {
   "cell_type": "code",
   "execution_count": 5,
   "metadata": {},
   "outputs": [],
   "source": [
    "from bokeh.models import ColumnDataSource\n",
    "\n",
    "x=list(range(-20,21))\n",
    "y0,y1=[abs(xx) for xx in x],[xx**2 for xx in x]\n",
    "\n",
    "#create a column data source for the plots to share \n",
    "source=ColumnDataSource(data=dict(x=x,y0=y0,y1=y1))"
   ]
  },
  {
   "cell_type": "code",
   "execution_count": 6,
   "metadata": {},
   "outputs": [],
   "source": [
    "TOOLS=\"box_select,lasso_select,help\""
   ]
  },
  {
   "cell_type": "code",
   "execution_count": 7,
   "metadata": {},
   "outputs": [
    {
     "data": {
      "text/html": [
       "\n",
       "<div class=\"bk-root\">\n",
       "    <div class=\"bk-plotdiv\" id=\"bd254be0-e4e3-475f-bbaf-b3ed07cc9efd\"></div>\n",
       "</div>"
      ]
     },
     "metadata": {},
     "output_type": "display_data"
    },
    {
     "data": {
      "application/javascript": [
       "(function(root) {\n",
       "  function embed_document(root) {\n",
       "    var docs_json = {\"912b68f2-7068-4e55-9fa4-bbe5001c06c0\":{\"roots\":{\"references\":[{\"attributes\":{\"below\":[{\"id\":\"26d69453-b87c-4486-aabe-7fab06d6185d\",\"type\":\"LinearAxis\"}],\"left\":[{\"id\":\"36bd404d-5764-4ba7-9072-a5a977f44c33\",\"type\":\"LinearAxis\"}],\"plot_height\":300,\"plot_width\":300,\"renderers\":[{\"id\":\"26d69453-b87c-4486-aabe-7fab06d6185d\",\"type\":\"LinearAxis\"},{\"id\":\"b043e961-bedf-424b-a039-14dc4940c777\",\"type\":\"Grid\"},{\"id\":\"36bd404d-5764-4ba7-9072-a5a977f44c33\",\"type\":\"LinearAxis\"},{\"id\":\"b620e7c5-ebb4-41ae-8145-5396329bfa6f\",\"type\":\"Grid\"},{\"id\":\"8d3200f3-fd06-4753-9d76-655bec416c07\",\"type\":\"BoxAnnotation\"},{\"id\":\"eb7a758a-aad6-47ed-bab5-c08d634b8f07\",\"type\":\"PolyAnnotation\"},{\"id\":\"a9417a2c-19d4-4966-9b44-97c8971693a7\",\"type\":\"GlyphRenderer\"}],\"title\":{\"id\":\"c9b49da1-73cc-41c0-9bf7-a591f69fd7f1\",\"type\":\"Title\"},\"toolbar\":{\"id\":\"ff92c754-154f-4338-8605-94ed6a412bc2\",\"type\":\"Toolbar\"},\"toolbar_location\":null,\"x_range\":{\"id\":\"a5bb6efa-0120-4e31-a513-27fcd8a84a3f\",\"type\":\"DataRange1d\"},\"x_scale\":{\"id\":\"1e0de937-65f8-4a60-91be-613b28158c0e\",\"type\":\"LinearScale\"},\"y_range\":{\"id\":\"59cd946a-6457-4e49-bdff-743b25b179f2\",\"type\":\"DataRange1d\"},\"y_scale\":{\"id\":\"6c5ef4a6-0cc9-4ef9-8c43-dd5541383e3a\",\"type\":\"LinearScale\"}},\"id\":\"c6f9fe53-6ebb-4c0b-b78c-94d09ec51728\",\"subtype\":\"Figure\",\"type\":\"Plot\"},{\"attributes\":{\"sizing_mode\":\"scale_width\",\"toolbar_location\":\"above\",\"tools\":[{\"id\":\"2fbe7136-5228-4306-a7c5-71c6ccb32f9e\",\"type\":\"BoxSelectTool\"},{\"id\":\"bdf306ee-376f-4b99-a59c-732567dfc10c\",\"type\":\"LassoSelectTool\"},{\"id\":\"02db605b-5d50-42f3-8e79-f949db82c996\",\"type\":\"HelpTool\"},{\"id\":\"c208d075-c7a3-4776-acb3-2301c9300623\",\"type\":\"BoxSelectTool\"},{\"id\":\"4e956994-3d2f-47cb-8dff-839e98e6be24\",\"type\":\"LassoSelectTool\"},{\"id\":\"a8cf7ec8-c9a9-41c1-8da2-d3ee592404f4\",\"type\":\"HelpTool\"}]},\"id\":\"3e0483b7-24ad-4bdd-b948-208cbd201103\",\"type\":\"ToolbarBox\"},{\"attributes\":{},\"id\":\"8ffd9ecc-2eaf-432f-8146-d6603f7dd864\",\"type\":\"BasicTickFormatter\"},{\"attributes\":{\"data_source\":{\"id\":\"03ab429e-a3ef-4ec3-96b2-be0acee2a279\",\"type\":\"ColumnDataSource\"},\"glyph\":{\"id\":\"86688bd9-7426-44ef-a2a2-4ea9cd7c4291\",\"type\":\"Circle\"},\"hover_glyph\":null,\"muted_glyph\":null,\"nonselection_glyph\":{\"id\":\"193a183d-fdd0-42d8-b6c8-5ed32f346a13\",\"type\":\"Circle\"},\"selection_glyph\":null,\"view\":{\"id\":\"d82f67cf-2171-4cf1-8187-6b9e9159cd5b\",\"type\":\"CDSView\"}},\"id\":\"2bb9bd2a-26da-4a78-b424-fffdb1c0ac45\",\"type\":\"GlyphRenderer\"},{\"attributes\":{\"source\":{\"id\":\"03ab429e-a3ef-4ec3-96b2-be0acee2a279\",\"type\":\"ColumnDataSource\"}},\"id\":\"d82f67cf-2171-4cf1-8187-6b9e9159cd5b\",\"type\":\"CDSView\"},{\"attributes\":{\"fill_alpha\":{\"value\":0.1},\"fill_color\":{\"value\":\"#1f77b4\"},\"line_alpha\":{\"value\":0.1},\"line_color\":{\"value\":\"#1f77b4\"},\"x\":{\"field\":\"x\"},\"y\":{\"field\":\"y1\"}},\"id\":\"193a183d-fdd0-42d8-b6c8-5ed32f346a13\",\"type\":\"Circle\"},{\"attributes\":{\"formatter\":{\"id\":\"0bd58ac4-8b4b-447a-b617-49105ad0a792\",\"type\":\"BasicTickFormatter\"},\"plot\":{\"id\":\"c6f9fe53-6ebb-4c0b-b78c-94d09ec51728\",\"subtype\":\"Figure\",\"type\":\"Plot\"},\"ticker\":{\"id\":\"514fdeaf-117f-43a1-badc-53abe4b128d7\",\"type\":\"BasicTicker\"}},\"id\":\"26d69453-b87c-4486-aabe-7fab06d6185d\",\"type\":\"LinearAxis\"},{\"attributes\":{},\"id\":\"5459b466-0245-4211-9dca-24b754033097\",\"type\":\"BasicTickFormatter\"},{\"attributes\":{\"plot\":null,\"text\":\"\"},\"id\":\"35b28cdd-8ca8-4e3e-951d-74ca37834912\",\"type\":\"Title\"},{\"attributes\":{\"children\":[{\"id\":\"a54d30b6-e1fc-4b71-b12c-980de131cb3d\",\"type\":\"Row\"}]},\"id\":\"c7f76191-1131-4e0c-9dd4-c21dbe79c2ce\",\"type\":\"Column\"},{\"attributes\":{\"formatter\":{\"id\":\"5459b466-0245-4211-9dca-24b754033097\",\"type\":\"BasicTickFormatter\"},\"plot\":{\"id\":\"1f0809e3-dbbc-476e-87c8-a1af8aeeb2d8\",\"subtype\":\"Figure\",\"type\":\"Plot\"},\"ticker\":{\"id\":\"1911c7c9-8c5a-4581-874a-f75d7cad38d0\",\"type\":\"BasicTicker\"}},\"id\":\"a9e7e96c-be25-41a8-a976-facc0c26413e\",\"type\":\"LinearAxis\"},{\"attributes\":{},\"id\":\"bf0a9cb3-3af4-4ddd-a5af-e2b8efd6cf71\",\"type\":\"BasicTickFormatter\"},{\"attributes\":{\"callback\":null,\"overlay\":{\"id\":\"8d3200f3-fd06-4753-9d76-655bec416c07\",\"type\":\"BoxAnnotation\"},\"renderers\":[{\"id\":\"a9417a2c-19d4-4966-9b44-97c8971693a7\",\"type\":\"GlyphRenderer\"}]},\"id\":\"2fbe7136-5228-4306-a7c5-71c6ccb32f9e\",\"type\":\"BoxSelectTool\"},{\"attributes\":{\"children\":[{\"id\":\"3e0483b7-24ad-4bdd-b948-208cbd201103\",\"type\":\"ToolbarBox\"},{\"id\":\"c7f76191-1131-4e0c-9dd4-c21dbe79c2ce\",\"type\":\"Column\"}]},\"id\":\"a3db7e9d-54ca-4ec5-9d4d-db9b021b7195\",\"type\":\"Column\"},{\"attributes\":{},\"id\":\"0bd58ac4-8b4b-447a-b617-49105ad0a792\",\"type\":\"BasicTickFormatter\"},{\"attributes\":{\"fill_color\":{\"value\":\"#1f77b4\"},\"line_color\":{\"value\":\"#1f77b4\"},\"x\":{\"field\":\"x\"},\"y\":{\"field\":\"y0\"}},\"id\":\"6cb2b9a0-dd86-469b-8817-38b304045397\",\"type\":\"Circle\"},{\"attributes\":{},\"id\":\"1911c7c9-8c5a-4581-874a-f75d7cad38d0\",\"type\":\"BasicTicker\"},{\"attributes\":{\"bottom_units\":\"screen\",\"fill_alpha\":{\"value\":0.5},\"fill_color\":{\"value\":\"lightgrey\"},\"left_units\":\"screen\",\"level\":\"overlay\",\"line_alpha\":{\"value\":1.0},\"line_color\":{\"value\":\"black\"},\"line_dash\":[4,4],\"line_width\":{\"value\":2},\"plot\":null,\"render_mode\":\"css\",\"right_units\":\"screen\",\"top_units\":\"screen\"},\"id\":\"8d3200f3-fd06-4753-9d76-655bec416c07\",\"type\":\"BoxAnnotation\"},{\"attributes\":{\"formatter\":{\"id\":\"bf0a9cb3-3af4-4ddd-a5af-e2b8efd6cf71\",\"type\":\"BasicTickFormatter\"},\"plot\":{\"id\":\"1f0809e3-dbbc-476e-87c8-a1af8aeeb2d8\",\"subtype\":\"Figure\",\"type\":\"Plot\"},\"ticker\":{\"id\":\"68d73d6d-91b8-4ca9-a27f-fcc8e701f149\",\"type\":\"BasicTicker\"}},\"id\":\"5e62e16a-9042-467c-940f-21dfc19b5c55\",\"type\":\"LinearAxis\"},{\"attributes\":{\"callback\":null},\"id\":\"075696cc-de07-4235-bb7e-905e6c4adc9f\",\"type\":\"DataRange1d\"},{\"attributes\":{\"fill_alpha\":{\"value\":0.5},\"fill_color\":{\"value\":\"lightgrey\"},\"level\":\"overlay\",\"line_alpha\":{\"value\":1.0},\"line_color\":{\"value\":\"black\"},\"line_dash\":[4,4],\"line_width\":{\"value\":2},\"plot\":null,\"xs_units\":\"screen\",\"ys_units\":\"screen\"},\"id\":\"6ff1d585-5fee-47e4-be18-0e5fea598f92\",\"type\":\"PolyAnnotation\"},{\"attributes\":{},\"id\":\"02db605b-5d50-42f3-8e79-f949db82c996\",\"type\":\"HelpTool\"},{\"attributes\":{\"bottom_units\":\"screen\",\"fill_alpha\":{\"value\":0.5},\"fill_color\":{\"value\":\"lightgrey\"},\"left_units\":\"screen\",\"level\":\"overlay\",\"line_alpha\":{\"value\":1.0},\"line_color\":{\"value\":\"black\"},\"line_dash\":[4,4],\"line_width\":{\"value\":2},\"plot\":null,\"render_mode\":\"css\",\"right_units\":\"screen\",\"top_units\":\"screen\"},\"id\":\"61ceb452-46dd-4622-9b39-3a7b1a42371e\",\"type\":\"BoxAnnotation\"},{\"attributes\":{},\"id\":\"d67baca8-dcc9-41c7-9171-4b09f4c0e4b0\",\"type\":\"LinearScale\"},{\"attributes\":{\"children\":[{\"id\":\"c6f9fe53-6ebb-4c0b-b78c-94d09ec51728\",\"subtype\":\"Figure\",\"type\":\"Plot\"},{\"id\":\"1f0809e3-dbbc-476e-87c8-a1af8aeeb2d8\",\"subtype\":\"Figure\",\"type\":\"Plot\"}]},\"id\":\"a54d30b6-e1fc-4b71-b12c-980de131cb3d\",\"type\":\"Row\"},{\"attributes\":{\"callback\":null},\"id\":\"81e368ac-b9dd-4127-9403-57bd317e9d1e\",\"type\":\"DataRange1d\"},{\"attributes\":{},\"id\":\"ae4ba994-2fdd-4246-83db-6d2e2c57e00a\",\"type\":\"LinearScale\"},{\"attributes\":{\"below\":[{\"id\":\"a9e7e96c-be25-41a8-a976-facc0c26413e\",\"type\":\"LinearAxis\"}],\"left\":[{\"id\":\"5e62e16a-9042-467c-940f-21dfc19b5c55\",\"type\":\"LinearAxis\"}],\"plot_height\":300,\"plot_width\":300,\"renderers\":[{\"id\":\"a9e7e96c-be25-41a8-a976-facc0c26413e\",\"type\":\"LinearAxis\"},{\"id\":\"e10e2a60-1001-4989-b4c5-c0481de73568\",\"type\":\"Grid\"},{\"id\":\"5e62e16a-9042-467c-940f-21dfc19b5c55\",\"type\":\"LinearAxis\"},{\"id\":\"0264f192-3719-4d8a-9fb5-d6f2a27661a2\",\"type\":\"Grid\"},{\"id\":\"61ceb452-46dd-4622-9b39-3a7b1a42371e\",\"type\":\"BoxAnnotation\"},{\"id\":\"6ff1d585-5fee-47e4-be18-0e5fea598f92\",\"type\":\"PolyAnnotation\"},{\"id\":\"2bb9bd2a-26da-4a78-b424-fffdb1c0ac45\",\"type\":\"GlyphRenderer\"}],\"title\":{\"id\":\"35b28cdd-8ca8-4e3e-951d-74ca37834912\",\"type\":\"Title\"},\"toolbar\":{\"id\":\"1d11f80c-857f-420a-a196-08c490b17fb9\",\"type\":\"Toolbar\"},\"toolbar_location\":null,\"x_range\":{\"id\":\"81e368ac-b9dd-4127-9403-57bd317e9d1e\",\"type\":\"DataRange1d\"},\"x_scale\":{\"id\":\"d67baca8-dcc9-41c7-9171-4b09f4c0e4b0\",\"type\":\"LinearScale\"},\"y_range\":{\"id\":\"075696cc-de07-4235-bb7e-905e6c4adc9f\",\"type\":\"DataRange1d\"},\"y_scale\":{\"id\":\"ae4ba994-2fdd-4246-83db-6d2e2c57e00a\",\"type\":\"LinearScale\"}},\"id\":\"1f0809e3-dbbc-476e-87c8-a1af8aeeb2d8\",\"subtype\":\"Figure\",\"type\":\"Plot\"},{\"attributes\":{\"source\":{\"id\":\"03ab429e-a3ef-4ec3-96b2-be0acee2a279\",\"type\":\"ColumnDataSource\"}},\"id\":\"a48cc2ac-dc37-4768-a606-704f7785d4dc\",\"type\":\"CDSView\"},{\"attributes\":{},\"id\":\"a8cf7ec8-c9a9-41c1-8da2-d3ee592404f4\",\"type\":\"HelpTool\"},{\"attributes\":{\"dimension\":1,\"plot\":{\"id\":\"c6f9fe53-6ebb-4c0b-b78c-94d09ec51728\",\"subtype\":\"Figure\",\"type\":\"Plot\"},\"ticker\":{\"id\":\"1584c0ef-5768-4639-b4c3-ba7d163264f9\",\"type\":\"BasicTicker\"}},\"id\":\"b620e7c5-ebb4-41ae-8145-5396329bfa6f\",\"type\":\"Grid\"},{\"attributes\":{\"plot\":{\"id\":\"1f0809e3-dbbc-476e-87c8-a1af8aeeb2d8\",\"subtype\":\"Figure\",\"type\":\"Plot\"},\"ticker\":{\"id\":\"1911c7c9-8c5a-4581-874a-f75d7cad38d0\",\"type\":\"BasicTicker\"}},\"id\":\"e10e2a60-1001-4989-b4c5-c0481de73568\",\"type\":\"Grid\"},{\"attributes\":{},\"id\":\"1584c0ef-5768-4639-b4c3-ba7d163264f9\",\"type\":\"BasicTicker\"},{\"attributes\":{\"callback\":null,\"overlay\":{\"id\":\"6ff1d585-5fee-47e4-be18-0e5fea598f92\",\"type\":\"PolyAnnotation\"}},\"id\":\"4e956994-3d2f-47cb-8dff-839e98e6be24\",\"type\":\"LassoSelectTool\"},{\"attributes\":{\"fill_color\":{\"value\":\"#1f77b4\"},\"line_color\":{\"value\":\"#1f77b4\"},\"x\":{\"field\":\"x\"},\"y\":{\"field\":\"y1\"}},\"id\":\"86688bd9-7426-44ef-a2a2-4ea9cd7c4291\",\"type\":\"Circle\"},{\"attributes\":{\"dimension\":1,\"plot\":{\"id\":\"1f0809e3-dbbc-476e-87c8-a1af8aeeb2d8\",\"subtype\":\"Figure\",\"type\":\"Plot\"},\"ticker\":{\"id\":\"68d73d6d-91b8-4ca9-a27f-fcc8e701f149\",\"type\":\"BasicTicker\"}},\"id\":\"0264f192-3719-4d8a-9fb5-d6f2a27661a2\",\"type\":\"Grid\"},{\"attributes\":{\"plot\":{\"id\":\"c6f9fe53-6ebb-4c0b-b78c-94d09ec51728\",\"subtype\":\"Figure\",\"type\":\"Plot\"},\"ticker\":{\"id\":\"514fdeaf-117f-43a1-badc-53abe4b128d7\",\"type\":\"BasicTicker\"}},\"id\":\"b043e961-bedf-424b-a039-14dc4940c777\",\"type\":\"Grid\"},{\"attributes\":{},\"id\":\"6c5ef4a6-0cc9-4ef9-8c43-dd5541383e3a\",\"type\":\"LinearScale\"},{\"attributes\":{\"fill_alpha\":{\"value\":0.1},\"fill_color\":{\"value\":\"#1f77b4\"},\"line_alpha\":{\"value\":0.1},\"line_color\":{\"value\":\"#1f77b4\"},\"x\":{\"field\":\"x\"},\"y\":{\"field\":\"y0\"}},\"id\":\"96663a32-8c22-4822-83a0-2367647e8c20\",\"type\":\"Circle\"},{\"attributes\":{},\"id\":\"1e0de937-65f8-4a60-91be-613b28158c0e\",\"type\":\"LinearScale\"},{\"attributes\":{\"callback\":null,\"overlay\":{\"id\":\"eb7a758a-aad6-47ed-bab5-c08d634b8f07\",\"type\":\"PolyAnnotation\"}},\"id\":\"bdf306ee-376f-4b99-a59c-732567dfc10c\",\"type\":\"LassoSelectTool\"},{\"attributes\":{\"plot\":null,\"text\":\"\"},\"id\":\"c9b49da1-73cc-41c0-9bf7-a591f69fd7f1\",\"type\":\"Title\"},{\"attributes\":{},\"id\":\"68d73d6d-91b8-4ca9-a27f-fcc8e701f149\",\"type\":\"BasicTicker\"},{\"attributes\":{\"data_source\":{\"id\":\"03ab429e-a3ef-4ec3-96b2-be0acee2a279\",\"type\":\"ColumnDataSource\"},\"glyph\":{\"id\":\"6cb2b9a0-dd86-469b-8817-38b304045397\",\"type\":\"Circle\"},\"hover_glyph\":null,\"muted_glyph\":null,\"nonselection_glyph\":{\"id\":\"96663a32-8c22-4822-83a0-2367647e8c20\",\"type\":\"Circle\"},\"selection_glyph\":null,\"view\":{\"id\":\"a48cc2ac-dc37-4768-a606-704f7785d4dc\",\"type\":\"CDSView\"}},\"id\":\"a9417a2c-19d4-4966-9b44-97c8971693a7\",\"type\":\"GlyphRenderer\"},{\"attributes\":{\"callback\":null,\"overlay\":{\"id\":\"61ceb452-46dd-4622-9b39-3a7b1a42371e\",\"type\":\"BoxAnnotation\"},\"renderers\":[{\"id\":\"2bb9bd2a-26da-4a78-b424-fffdb1c0ac45\",\"type\":\"GlyphRenderer\"}]},\"id\":\"c208d075-c7a3-4776-acb3-2301c9300623\",\"type\":\"BoxSelectTool\"},{\"attributes\":{\"callback\":null,\"column_names\":[\"x\",\"y0\",\"y1\"],\"data\":{\"x\":[-20,-19,-18,-17,-16,-15,-14,-13,-12,-11,-10,-9,-8,-7,-6,-5,-4,-3,-2,-1,0,1,2,3,4,5,6,7,8,9,10,11,12,13,14,15,16,17,18,19,20],\"y0\":[20,19,18,17,16,15,14,13,12,11,10,9,8,7,6,5,4,3,2,1,0,1,2,3,4,5,6,7,8,9,10,11,12,13,14,15,16,17,18,19,20],\"y1\":[400,361,324,289,256,225,196,169,144,121,100,81,64,49,36,25,16,9,4,1,0,1,4,9,16,25,36,49,64,81,100,121,144,169,196,225,256,289,324,361,400]}},\"id\":\"03ab429e-a3ef-4ec3-96b2-be0acee2a279\",\"type\":\"ColumnDataSource\"},{\"attributes\":{\"fill_alpha\":{\"value\":0.5},\"fill_color\":{\"value\":\"lightgrey\"},\"level\":\"overlay\",\"line_alpha\":{\"value\":1.0},\"line_color\":{\"value\":\"black\"},\"line_dash\":[4,4],\"line_width\":{\"value\":2},\"plot\":null,\"xs_units\":\"screen\",\"ys_units\":\"screen\"},\"id\":\"eb7a758a-aad6-47ed-bab5-c08d634b8f07\",\"type\":\"PolyAnnotation\"},{\"attributes\":{\"active_drag\":\"auto\",\"active_inspect\":\"auto\",\"active_scroll\":\"auto\",\"active_tap\":\"auto\",\"tools\":[{\"id\":\"2fbe7136-5228-4306-a7c5-71c6ccb32f9e\",\"type\":\"BoxSelectTool\"},{\"id\":\"bdf306ee-376f-4b99-a59c-732567dfc10c\",\"type\":\"LassoSelectTool\"},{\"id\":\"02db605b-5d50-42f3-8e79-f949db82c996\",\"type\":\"HelpTool\"}]},\"id\":\"ff92c754-154f-4338-8605-94ed6a412bc2\",\"type\":\"Toolbar\"},{\"attributes\":{},\"id\":\"514fdeaf-117f-43a1-badc-53abe4b128d7\",\"type\":\"BasicTicker\"},{\"attributes\":{\"callback\":null},\"id\":\"a5bb6efa-0120-4e31-a513-27fcd8a84a3f\",\"type\":\"DataRange1d\"},{\"attributes\":{\"formatter\":{\"id\":\"8ffd9ecc-2eaf-432f-8146-d6603f7dd864\",\"type\":\"BasicTickFormatter\"},\"plot\":{\"id\":\"c6f9fe53-6ebb-4c0b-b78c-94d09ec51728\",\"subtype\":\"Figure\",\"type\":\"Plot\"},\"ticker\":{\"id\":\"1584c0ef-5768-4639-b4c3-ba7d163264f9\",\"type\":\"BasicTicker\"}},\"id\":\"36bd404d-5764-4ba7-9072-a5a977f44c33\",\"type\":\"LinearAxis\"},{\"attributes\":{\"active_drag\":\"auto\",\"active_inspect\":\"auto\",\"active_scroll\":\"auto\",\"active_tap\":\"auto\",\"tools\":[{\"id\":\"c208d075-c7a3-4776-acb3-2301c9300623\",\"type\":\"BoxSelectTool\"},{\"id\":\"4e956994-3d2f-47cb-8dff-839e98e6be24\",\"type\":\"LassoSelectTool\"},{\"id\":\"a8cf7ec8-c9a9-41c1-8da2-d3ee592404f4\",\"type\":\"HelpTool\"}]},\"id\":\"1d11f80c-857f-420a-a196-08c490b17fb9\",\"type\":\"Toolbar\"},{\"attributes\":{\"callback\":null},\"id\":\"59cd946a-6457-4e49-bdff-743b25b179f2\",\"type\":\"DataRange1d\"}],\"root_ids\":[\"a3db7e9d-54ca-4ec5-9d4d-db9b021b7195\"]},\"title\":\"Bokeh Application\",\"version\":\"0.12.10\"}};\n",
       "    var render_items = [{\"docid\":\"912b68f2-7068-4e55-9fa4-bbe5001c06c0\",\"elementid\":\"bd254be0-e4e3-475f-bbaf-b3ed07cc9efd\",\"modelid\":\"a3db7e9d-54ca-4ec5-9d4d-db9b021b7195\"}];\n",
       "\n",
       "    root.Bokeh.embed.embed_items(docs_json, render_items);\n",
       "  }\n",
       "\n",
       "  if (root.Bokeh !== undefined) {\n",
       "    embed_document(root);\n",
       "  } else {\n",
       "    var attempts = 0;\n",
       "    var timer = setInterval(function(root) {\n",
       "      if (root.Bokeh !== undefined) {\n",
       "        embed_document(root);\n",
       "        clearInterval(timer);\n",
       "      }\n",
       "      attempts++;\n",
       "      if (attempts > 100) {\n",
       "        console.log(\"Bokeh: ERROR: Unable to embed document because BokehJS library is missing\")\n",
       "        clearInterval(timer);\n",
       "      }\n",
       "    }, 10, root)\n",
       "  }\n",
       "})(window);"
      ],
      "application/vnd.bokehjs_exec.v0+json": ""
     },
     "metadata": {
      "application/vnd.bokehjs_exec.v0+json": {
       "id": "a3db7e9d-54ca-4ec5-9d4d-db9b021b7195"
      }
     },
     "output_type": "display_data"
    }
   ],
   "source": [
    "left=figure(tools=TOOLS,width=300,height=300)\n",
    "left.circle('x','y0',source=source)\n",
    "\n",
    "right=figure(tools=TOOLS,width=300,height=300)\n",
    "right.circle('x','y1',source=source)\n",
    "\n",
    "p=gridplot([[left,right]])\n",
    "\n",
    "show(p)"
   ]
  },
  {
   "cell_type": "code",
   "execution_count": 8,
   "metadata": {},
   "outputs": [],
   "source": [
    "x=list(range(30))\n",
    "y0=np.random.randn(30)\n",
    "y1=np.random.randn(30)*10\n",
    "source=ColumnDataSource(data=dict(x=x,y0=y0,y1=y1))"
   ]
  },
  {
   "cell_type": "code",
   "execution_count": 11,
   "metadata": {},
   "outputs": [
    {
     "data": {
      "text/html": [
       "\n",
       "<div class=\"bk-root\">\n",
       "    <div class=\"bk-plotdiv\" id=\"3ddd566c-7e45-43ba-8b76-a5cee8d48a95\"></div>\n",
       "</div>"
      ]
     },
     "metadata": {},
     "output_type": "display_data"
    },
    {
     "data": {
      "application/javascript": [
       "(function(root) {\n",
       "  function embed_document(root) {\n",
       "    var docs_json = {\"9210a51a-2aa6-4280-9511-65516bfc6f2b\":{\"roots\":{\"references\":[{\"attributes\":{\"plot\":{\"id\":\"44c51f3d-c781-4936-adbf-d8f93eb9905e\",\"subtype\":\"Figure\",\"type\":\"Plot\"},\"ticker\":{\"id\":\"ba476dec-6b5d-40f1-b712-214d9d36fcbe\",\"type\":\"BasicTicker\"}},\"id\":\"e9b6d285-1099-41ff-a286-c9ba1cb1accf\",\"type\":\"Grid\"},{\"attributes\":{\"callback\":null,\"overlay\":{\"id\":\"606f6dfc-ca9a-4750-bfa7-6d3a5bad0f96\",\"type\":\"BoxAnnotation\"},\"renderers\":[{\"id\":\"44c09707-01d6-4b35-a166-4f5fee2ce7e8\",\"type\":\"GlyphRenderer\"}]},\"id\":\"7d367459-aecf-4014-85e3-efa58a2afc6b\",\"type\":\"BoxSelectTool\"},{\"attributes\":{},\"id\":\"ba476dec-6b5d-40f1-b712-214d9d36fcbe\",\"type\":\"BasicTicker\"},{\"attributes\":{\"callback\":null,\"column_names\":[\"x\",\"y0\",\"y1\"],\"data\":{\"x\":[0,1,2,3,4,5,6,7,8,9,10,11,12,13,14,15,16,17,18,19,20,21,22,23,24,25,26,27,28,29],\"y0\":{\"__ndarray__\":\"LsbyVmY1OL+6JpdLxo3ZvxZ219NltvY/cAY6YSQQAMCb8Ulw0V/tP93pqlj4HuO/aFifosSO2b+bxcXzhfDov5uLOC3IKO8/+4qMcTqxtr87OuIB/i+1vxKNoSb0+vc/9laX3cjV8j+c3EfA+c/HPx8/ydLuVOY/cw+Stien4L8a94lIYwbhP0EpPePKU/W/u2XzD2+25r/dBddlwQvwv8y5i2+CTOU/um4xUYUt9r9z6eMGFRDvv7LduUXjnuY/7kPeA3SS379mwrYM3p37P4SLoTPrj+o/WbHDPAt+4b989e/nn6XnPz1K505Wi/U/\",\"dtype\":\"float64\",\"shape\":[30]},\"y1\":{\"__ndarray__\":\"IzjLaAaGFsCj+I9DZm8qwOJhUgAEBCpAOcwhjoct8j+EBFqydCkZwAZzBZMZdQdAqvUSLV4P279GHSLu0gUmwH5z4Y9nrRDAZJXad+qPBcCU85rneeopwLq29MIHSCFAt2BDQLBJIsB3yx4wSXEsQEL9WcEjHgLA0UeEteUENEDREi14ad4PwPIeKMzEZhvALtCrl8nK9z/4T8JLoWAgwMNVK9+bSQlAieRYwOUbEkA63ucLTgjtv/Ip/nqowSDAysibzsSqFsC2uolQa+omQHLR5RYz8ypAehSc/brM4b+glt0VGw4SwHAKHqg+EyPA\",\"dtype\":\"float64\",\"shape\":[30]}}},\"id\":\"0e01b32f-487d-4b72-9141-2b2470429f2a\",\"type\":\"ColumnDataSource\"},{\"attributes\":{\"formatter\":{\"id\":\"950e2c48-b968-4959-a05d-f18e05cdc127\",\"type\":\"BasicTickFormatter\"},\"plot\":{\"id\":\"44c51f3d-c781-4936-adbf-d8f93eb9905e\",\"subtype\":\"Figure\",\"type\":\"Plot\"},\"ticker\":{\"id\":\"4b1f39a9-98af-4193-b144-119b4f2af038\",\"type\":\"BasicTicker\"}},\"id\":\"6c70b46a-b3ea-4bd6-9dae-1aa7f52c42b8\",\"type\":\"LinearAxis\"},{\"attributes\":{},\"id\":\"4b1f39a9-98af-4193-b144-119b4f2af038\",\"type\":\"BasicTicker\"},{\"attributes\":{\"sizing_mode\":\"scale_width\",\"toolbar_location\":\"above\",\"tools\":[{\"id\":\"4e5ee490-8b56-4584-a1e1-053e63317720\",\"type\":\"BoxSelectTool\"},{\"id\":\"66a9bdcd-d452-4d6c-a911-5733729c7434\",\"type\":\"LassoSelectTool\"},{\"id\":\"6dd84332-1888-4088-859d-84eff48b5f22\",\"type\":\"HelpTool\"},{\"id\":\"7d367459-aecf-4014-85e3-efa58a2afc6b\",\"type\":\"BoxSelectTool\"},{\"id\":\"869018fd-ce8a-4ff5-8466-406edd94394a\",\"type\":\"LassoSelectTool\"},{\"id\":\"c762fafd-cde1-4590-858f-89ec8d0fff7c\",\"type\":\"HelpTool\"}]},\"id\":\"1113ac6c-9690-4d85-b699-cc7820d5d11f\",\"type\":\"ToolbarBox\"},{\"attributes\":{\"below\":[{\"id\":\"1bc65973-3a98-4e72-a65b-1b7db05c9d40\",\"type\":\"LinearAxis\"}],\"left\":[{\"id\":\"6c70b46a-b3ea-4bd6-9dae-1aa7f52c42b8\",\"type\":\"LinearAxis\"}],\"plot_height\":300,\"plot_width\":300,\"renderers\":[{\"id\":\"1bc65973-3a98-4e72-a65b-1b7db05c9d40\",\"type\":\"LinearAxis\"},{\"id\":\"e9b6d285-1099-41ff-a286-c9ba1cb1accf\",\"type\":\"Grid\"},{\"id\":\"6c70b46a-b3ea-4bd6-9dae-1aa7f52c42b8\",\"type\":\"LinearAxis\"},{\"id\":\"569b7868-2ca5-41b0-bd87-43a1adc938f9\",\"type\":\"Grid\"},{\"id\":\"606f6dfc-ca9a-4750-bfa7-6d3a5bad0f96\",\"type\":\"BoxAnnotation\"},{\"id\":\"d40708c2-5461-470c-945e-4bb7e0e5a8e5\",\"type\":\"PolyAnnotation\"},{\"id\":\"44c09707-01d6-4b35-a166-4f5fee2ce7e8\",\"type\":\"GlyphRenderer\"}],\"title\":{\"id\":\"829651df-287a-459b-ab58-e38f4336bf2e\",\"type\":\"Title\"},\"toolbar\":{\"id\":\"f33d8a7b-5812-487b-9785-1e4f19d41e10\",\"type\":\"Toolbar\"},\"toolbar_location\":null,\"x_range\":{\"id\":\"15791300-4374-42ff-b150-c0eb4a75fe68\",\"type\":\"DataRange1d\"},\"x_scale\":{\"id\":\"c2a89e86-d849-4b8b-94a0-003806cd7049\",\"type\":\"LinearScale\"},\"y_range\":{\"id\":\"601f31a6-38ae-4a28-a426-eb93d27fdf8c\",\"type\":\"DataRange1d\"},\"y_scale\":{\"id\":\"acc87fc0-9b7a-4c95-89b2-74f1c7ed3c61\",\"type\":\"LinearScale\"}},\"id\":\"44c51f3d-c781-4936-adbf-d8f93eb9905e\",\"subtype\":\"Figure\",\"type\":\"Plot\"},{\"attributes\":{\"bottom_units\":\"screen\",\"fill_alpha\":{\"value\":0.5},\"fill_color\":{\"value\":\"lightgrey\"},\"left_units\":\"screen\",\"level\":\"overlay\",\"line_alpha\":{\"value\":1.0},\"line_color\":{\"value\":\"black\"},\"line_dash\":[4,4],\"line_width\":{\"value\":2},\"plot\":null,\"render_mode\":\"css\",\"right_units\":\"screen\",\"top_units\":\"screen\"},\"id\":\"606f6dfc-ca9a-4750-bfa7-6d3a5bad0f96\",\"type\":\"BoxAnnotation\"},{\"attributes\":{\"below\":[{\"id\":\"7332dd7e-b757-4581-a465-f99950ec5ae5\",\"type\":\"LinearAxis\"}],\"left\":[{\"id\":\"842cd065-562c-43e9-af2c-2d2c7b621c38\",\"type\":\"LinearAxis\"}],\"plot_height\":300,\"plot_width\":300,\"renderers\":[{\"id\":\"7332dd7e-b757-4581-a465-f99950ec5ae5\",\"type\":\"LinearAxis\"},{\"id\":\"5d74bab7-015d-4d0f-a9dd-6db32844ee53\",\"type\":\"Grid\"},{\"id\":\"842cd065-562c-43e9-af2c-2d2c7b621c38\",\"type\":\"LinearAxis\"},{\"id\":\"99272211-112f-4ebf-8588-c64cd7a4bd1f\",\"type\":\"Grid\"},{\"id\":\"bf28ab73-4665-4fc8-a844-3467a3cf5e84\",\"type\":\"BoxAnnotation\"},{\"id\":\"1f8c901c-94cf-44a6-bbd9-724aafccf54a\",\"type\":\"PolyAnnotation\"},{\"id\":\"23c67f4d-7609-462c-9398-092d5cf21609\",\"type\":\"GlyphRenderer\"}],\"title\":{\"id\":\"f6a992ff-4874-4bce-926e-0c7f8498e5b3\",\"type\":\"Title\"},\"toolbar\":{\"id\":\"32460042-8239-41dd-b811-c0524daaa13f\",\"type\":\"Toolbar\"},\"toolbar_location\":null,\"x_range\":{\"id\":\"5ac061bd-ab65-4b6e-8fe2-bfaae4c9d884\",\"type\":\"DataRange1d\"},\"x_scale\":{\"id\":\"8fe47999-851d-48b3-bfde-89b1efc75282\",\"type\":\"LinearScale\"},\"y_range\":{\"id\":\"9368b4d2-13f8-468b-9fa4-5dab91330ee5\",\"type\":\"DataRange1d\"},\"y_scale\":{\"id\":\"66982365-cfde-4679-a399-682fc01c8283\",\"type\":\"LinearScale\"}},\"id\":\"e7edfce4-728b-42c2-8b4f-62a330415059\",\"subtype\":\"Figure\",\"type\":\"Plot\"},{\"attributes\":{\"fill_alpha\":{\"value\":0.1},\"fill_color\":{\"value\":\"#1f77b4\"},\"line_alpha\":{\"value\":0.1},\"line_color\":{\"value\":\"#1f77b4\"},\"x\":{\"field\":\"x\"},\"y\":{\"field\":\"y1\"}},\"id\":\"d7edd525-b512-4e86-b8fa-ac746493c589\",\"type\":\"Circle\"},{\"attributes\":{\"callback\":null,\"overlay\":{\"id\":\"d40708c2-5461-470c-945e-4bb7e0e5a8e5\",\"type\":\"PolyAnnotation\"}},\"id\":\"869018fd-ce8a-4ff5-8466-406edd94394a\",\"type\":\"LassoSelectTool\"},{\"attributes\":{},\"id\":\"6dd84332-1888-4088-859d-84eff48b5f22\",\"type\":\"HelpTool\"},{\"attributes\":{},\"id\":\"c762fafd-cde1-4590-858f-89ec8d0fff7c\",\"type\":\"HelpTool\"},{\"attributes\":{\"data_source\":{\"id\":\"0e01b32f-487d-4b72-9141-2b2470429f2a\",\"type\":\"ColumnDataSource\"},\"glyph\":{\"id\":\"38158f32-b5dc-45dd-bc35-a0554646f049\",\"type\":\"Circle\"},\"hover_glyph\":null,\"muted_glyph\":null,\"nonselection_glyph\":{\"id\":\"a2b5beb4-7251-4d74-a888-da86efebc59f\",\"type\":\"Circle\"},\"selection_glyph\":null,\"view\":{\"id\":\"aba28f6d-9d73-4fe5-a7f7-bfb035a3ed99\",\"type\":\"CDSView\"}},\"id\":\"23c67f4d-7609-462c-9398-092d5cf21609\",\"type\":\"GlyphRenderer\"},{\"attributes\":{\"children\":[{\"id\":\"e7edfce4-728b-42c2-8b4f-62a330415059\",\"subtype\":\"Figure\",\"type\":\"Plot\"},{\"id\":\"44c51f3d-c781-4936-adbf-d8f93eb9905e\",\"subtype\":\"Figure\",\"type\":\"Plot\"}]},\"id\":\"0a9a8dca-661b-4984-a8fb-e82cc2a29832\",\"type\":\"Row\"},{\"attributes\":{\"source\":{\"id\":\"0e01b32f-487d-4b72-9141-2b2470429f2a\",\"type\":\"ColumnDataSource\"}},\"id\":\"45353306-37c6-4d0c-a57d-225e49ca5dc9\",\"type\":\"CDSView\"},{\"attributes\":{\"source\":{\"id\":\"0e01b32f-487d-4b72-9141-2b2470429f2a\",\"type\":\"ColumnDataSource\"}},\"id\":\"aba28f6d-9d73-4fe5-a7f7-bfb035a3ed99\",\"type\":\"CDSView\"},{\"attributes\":{\"fill_alpha\":{\"value\":0.5},\"fill_color\":{\"value\":\"lightgrey\"},\"level\":\"overlay\",\"line_alpha\":{\"value\":1.0},\"line_color\":{\"value\":\"black\"},\"line_dash\":[4,4],\"line_width\":{\"value\":2},\"plot\":null,\"xs_units\":\"screen\",\"ys_units\":\"screen\"},\"id\":\"d40708c2-5461-470c-945e-4bb7e0e5a8e5\",\"type\":\"PolyAnnotation\"},{\"attributes\":{\"dimension\":1,\"plot\":{\"id\":\"44c51f3d-c781-4936-adbf-d8f93eb9905e\",\"subtype\":\"Figure\",\"type\":\"Plot\"},\"ticker\":{\"id\":\"4b1f39a9-98af-4193-b144-119b4f2af038\",\"type\":\"BasicTicker\"}},\"id\":\"569b7868-2ca5-41b0-bd87-43a1adc938f9\",\"type\":\"Grid\"},{\"attributes\":{\"data_source\":{\"id\":\"0e01b32f-487d-4b72-9141-2b2470429f2a\",\"type\":\"ColumnDataSource\"},\"glyph\":{\"id\":\"9f429afc-f08f-48d0-966b-5f9ad7bcf77f\",\"type\":\"Circle\"},\"hover_glyph\":null,\"muted_glyph\":null,\"nonselection_glyph\":{\"id\":\"d7edd525-b512-4e86-b8fa-ac746493c589\",\"type\":\"Circle\"},\"selection_glyph\":null,\"view\":{\"id\":\"45353306-37c6-4d0c-a57d-225e49ca5dc9\",\"type\":\"CDSView\"}},\"id\":\"44c09707-01d6-4b35-a166-4f5fee2ce7e8\",\"type\":\"GlyphRenderer\"},{\"attributes\":{\"fill_color\":{\"value\":\"#1f77b4\"},\"line_color\":{\"value\":\"#1f77b4\"},\"x\":{\"field\":\"x\"},\"y\":{\"field\":\"y1\"}},\"id\":\"9f429afc-f08f-48d0-966b-5f9ad7bcf77f\",\"type\":\"Circle\"},{\"attributes\":{\"active_drag\":\"auto\",\"active_inspect\":\"auto\",\"active_scroll\":\"auto\",\"active_tap\":\"auto\",\"tools\":[{\"id\":\"7d367459-aecf-4014-85e3-efa58a2afc6b\",\"type\":\"BoxSelectTool\"},{\"id\":\"869018fd-ce8a-4ff5-8466-406edd94394a\",\"type\":\"LassoSelectTool\"},{\"id\":\"c762fafd-cde1-4590-858f-89ec8d0fff7c\",\"type\":\"HelpTool\"}]},\"id\":\"f33d8a7b-5812-487b-9785-1e4f19d41e10\",\"type\":\"Toolbar\"},{\"attributes\":{\"children\":[{\"id\":\"1113ac6c-9690-4d85-b699-cc7820d5d11f\",\"type\":\"ToolbarBox\"},{\"id\":\"c46349c4-3bd8-4b8e-9dd9-fb1c3cde3522\",\"type\":\"Column\"}]},\"id\":\"16e71c4a-369c-457d-9491-e88537ef3fe2\",\"type\":\"Column\"},{\"attributes\":{\"bottom_units\":\"screen\",\"fill_alpha\":{\"value\":0.5},\"fill_color\":{\"value\":\"lightgrey\"},\"left_units\":\"screen\",\"level\":\"overlay\",\"line_alpha\":{\"value\":1.0},\"line_color\":{\"value\":\"black\"},\"line_dash\":[4,4],\"line_width\":{\"value\":2},\"plot\":null,\"render_mode\":\"css\",\"right_units\":\"screen\",\"top_units\":\"screen\"},\"id\":\"bf28ab73-4665-4fc8-a844-3467a3cf5e84\",\"type\":\"BoxAnnotation\"},{\"attributes\":{\"formatter\":{\"id\":\"2050caa3-5994-4ed9-83a6-25388383ebd4\",\"type\":\"BasicTickFormatter\"},\"plot\":{\"id\":\"44c51f3d-c781-4936-adbf-d8f93eb9905e\",\"subtype\":\"Figure\",\"type\":\"Plot\"},\"ticker\":{\"id\":\"ba476dec-6b5d-40f1-b712-214d9d36fcbe\",\"type\":\"BasicTicker\"}},\"id\":\"1bc65973-3a98-4e72-a65b-1b7db05c9d40\",\"type\":\"LinearAxis\"},{\"attributes\":{},\"id\":\"2050caa3-5994-4ed9-83a6-25388383ebd4\",\"type\":\"BasicTickFormatter\"},{\"attributes\":{\"callback\":null},\"id\":\"5ac061bd-ab65-4b6e-8fe2-bfaae4c9d884\",\"type\":\"DataRange1d\"},{\"attributes\":{\"plot\":null,\"text\":\"\"},\"id\":\"829651df-287a-459b-ab58-e38f4336bf2e\",\"type\":\"Title\"},{\"attributes\":{\"plot\":null,\"text\":\"\"},\"id\":\"f6a992ff-4874-4bce-926e-0c7f8498e5b3\",\"type\":\"Title\"},{\"attributes\":{\"active_drag\":\"auto\",\"active_inspect\":\"auto\",\"active_scroll\":\"auto\",\"active_tap\":\"auto\",\"tools\":[{\"id\":\"4e5ee490-8b56-4584-a1e1-053e63317720\",\"type\":\"BoxSelectTool\"},{\"id\":\"66a9bdcd-d452-4d6c-a911-5733729c7434\",\"type\":\"LassoSelectTool\"},{\"id\":\"6dd84332-1888-4088-859d-84eff48b5f22\",\"type\":\"HelpTool\"}]},\"id\":\"32460042-8239-41dd-b811-c0524daaa13f\",\"type\":\"Toolbar\"},{\"attributes\":{},\"id\":\"950e2c48-b968-4959-a05d-f18e05cdc127\",\"type\":\"BasicTickFormatter\"},{\"attributes\":{\"fill_color\":{\"value\":\"#1f77b4\"},\"line_color\":{\"value\":\"#1f77b4\"},\"x\":{\"field\":\"x\"},\"y\":{\"field\":\"y0\"}},\"id\":\"38158f32-b5dc-45dd-bc35-a0554646f049\",\"type\":\"Circle\"},{\"attributes\":{},\"id\":\"2f77932f-71e6-4707-b602-f86699f382f7\",\"type\":\"BasicTicker\"},{\"attributes\":{\"callback\":null},\"id\":\"601f31a6-38ae-4a28-a426-eb93d27fdf8c\",\"type\":\"DataRange1d\"},{\"attributes\":{},\"id\":\"f7fc9faf-7ba7-4836-91c7-906255d3d9e8\",\"type\":\"BasicTickFormatter\"},{\"attributes\":{},\"id\":\"acc87fc0-9b7a-4c95-89b2-74f1c7ed3c61\",\"type\":\"LinearScale\"},{\"attributes\":{\"plot\":{\"id\":\"e7edfce4-728b-42c2-8b4f-62a330415059\",\"subtype\":\"Figure\",\"type\":\"Plot\"},\"ticker\":{\"id\":\"2f77932f-71e6-4707-b602-f86699f382f7\",\"type\":\"BasicTicker\"}},\"id\":\"5d74bab7-015d-4d0f-a9dd-6db32844ee53\",\"type\":\"Grid\"},{\"attributes\":{},\"id\":\"66982365-cfde-4679-a399-682fc01c8283\",\"type\":\"LinearScale\"},{\"attributes\":{},\"id\":\"8fe47999-851d-48b3-bfde-89b1efc75282\",\"type\":\"LinearScale\"},{\"attributes\":{\"callback\":null,\"overlay\":{\"id\":\"bf28ab73-4665-4fc8-a844-3467a3cf5e84\",\"type\":\"BoxAnnotation\"},\"renderers\":[{\"id\":\"23c67f4d-7609-462c-9398-092d5cf21609\",\"type\":\"GlyphRenderer\"}]},\"id\":\"4e5ee490-8b56-4584-a1e1-053e63317720\",\"type\":\"BoxSelectTool\"},{\"attributes\":{},\"id\":\"6f1f8cfd-7d8f-4367-ac65-fc55bd20835c\",\"type\":\"BasicTickFormatter\"},{\"attributes\":{\"callback\":null},\"id\":\"15791300-4374-42ff-b150-c0eb4a75fe68\",\"type\":\"DataRange1d\"},{\"attributes\":{\"callback\":null},\"id\":\"9368b4d2-13f8-468b-9fa4-5dab91330ee5\",\"type\":\"DataRange1d\"},{\"attributes\":{\"fill_alpha\":{\"value\":0.1},\"fill_color\":{\"value\":\"#1f77b4\"},\"line_alpha\":{\"value\":0.1},\"line_color\":{\"value\":\"#1f77b4\"},\"x\":{\"field\":\"x\"},\"y\":{\"field\":\"y0\"}},\"id\":\"a2b5beb4-7251-4d74-a888-da86efebc59f\",\"type\":\"Circle\"},{\"attributes\":{\"callback\":null,\"overlay\":{\"id\":\"1f8c901c-94cf-44a6-bbd9-724aafccf54a\",\"type\":\"PolyAnnotation\"}},\"id\":\"66a9bdcd-d452-4d6c-a911-5733729c7434\",\"type\":\"LassoSelectTool\"},{\"attributes\":{\"children\":[{\"id\":\"0a9a8dca-661b-4984-a8fb-e82cc2a29832\",\"type\":\"Row\"}]},\"id\":\"c46349c4-3bd8-4b8e-9dd9-fb1c3cde3522\",\"type\":\"Column\"},{\"attributes\":{\"formatter\":{\"id\":\"6f1f8cfd-7d8f-4367-ac65-fc55bd20835c\",\"type\":\"BasicTickFormatter\"},\"plot\":{\"id\":\"e7edfce4-728b-42c2-8b4f-62a330415059\",\"subtype\":\"Figure\",\"type\":\"Plot\"},\"ticker\":{\"id\":\"2f77932f-71e6-4707-b602-f86699f382f7\",\"type\":\"BasicTicker\"}},\"id\":\"7332dd7e-b757-4581-a465-f99950ec5ae5\",\"type\":\"LinearAxis\"},{\"attributes\":{},\"id\":\"c2a89e86-d849-4b8b-94a0-003806cd7049\",\"type\":\"LinearScale\"},{\"attributes\":{\"formatter\":{\"id\":\"f7fc9faf-7ba7-4836-91c7-906255d3d9e8\",\"type\":\"BasicTickFormatter\"},\"plot\":{\"id\":\"e7edfce4-728b-42c2-8b4f-62a330415059\",\"subtype\":\"Figure\",\"type\":\"Plot\"},\"ticker\":{\"id\":\"1840f588-afb0-425e-8361-2786075518af\",\"type\":\"BasicTicker\"}},\"id\":\"842cd065-562c-43e9-af2c-2d2c7b621c38\",\"type\":\"LinearAxis\"},{\"attributes\":{\"dimension\":1,\"plot\":{\"id\":\"e7edfce4-728b-42c2-8b4f-62a330415059\",\"subtype\":\"Figure\",\"type\":\"Plot\"},\"ticker\":{\"id\":\"1840f588-afb0-425e-8361-2786075518af\",\"type\":\"BasicTicker\"}},\"id\":\"99272211-112f-4ebf-8588-c64cd7a4bd1f\",\"type\":\"Grid\"},{\"attributes\":{},\"id\":\"1840f588-afb0-425e-8361-2786075518af\",\"type\":\"BasicTicker\"},{\"attributes\":{\"fill_alpha\":{\"value\":0.5},\"fill_color\":{\"value\":\"lightgrey\"},\"level\":\"overlay\",\"line_alpha\":{\"value\":1.0},\"line_color\":{\"value\":\"black\"},\"line_dash\":[4,4],\"line_width\":{\"value\":2},\"plot\":null,\"xs_units\":\"screen\",\"ys_units\":\"screen\"},\"id\":\"1f8c901c-94cf-44a6-bbd9-724aafccf54a\",\"type\":\"PolyAnnotation\"}],\"root_ids\":[\"16e71c4a-369c-457d-9491-e88537ef3fe2\"]},\"title\":\"Bokeh Application\",\"version\":\"0.12.10\"}};\n",
       "    var render_items = [{\"docid\":\"9210a51a-2aa6-4280-9511-65516bfc6f2b\",\"elementid\":\"3ddd566c-7e45-43ba-8b76-a5cee8d48a95\",\"modelid\":\"16e71c4a-369c-457d-9491-e88537ef3fe2\"}];\n",
       "\n",
       "    root.Bokeh.embed.embed_items(docs_json, render_items);\n",
       "  }\n",
       "\n",
       "  if (root.Bokeh !== undefined) {\n",
       "    embed_document(root);\n",
       "  } else {\n",
       "    var attempts = 0;\n",
       "    var timer = setInterval(function(root) {\n",
       "      if (root.Bokeh !== undefined) {\n",
       "        embed_document(root);\n",
       "        clearInterval(timer);\n",
       "      }\n",
       "      attempts++;\n",
       "      if (attempts > 100) {\n",
       "        console.log(\"Bokeh: ERROR: Unable to embed document because BokehJS library is missing\")\n",
       "        clearInterval(timer);\n",
       "      }\n",
       "    }, 10, root)\n",
       "  }\n",
       "})(window);"
      ],
      "application/vnd.bokehjs_exec.v0+json": ""
     },
     "metadata": {
      "application/vnd.bokehjs_exec.v0+json": {
       "id": "16e71c4a-369c-457d-9491-e88537ef3fe2"
      }
     },
     "output_type": "display_data"
    }
   ],
   "source": [
    "left=figure(tools=\"box_select,lasso_select,help\",plot_height=300,plot_width=300)\n",
    "left.circle('x','y0',source=source)\n",
    "\n",
    "right=figure(tools=\"box_select,lasso_select,help\",plot_height=300,plot_width=300)\n",
    "right.circle('x','y1',source=source)\n",
    "\n",
    "p=gridplot([[left,right]])\n",
    "show(p)"
   ]
  },
  {
   "cell_type": "markdown",
   "metadata": {},
   "source": [
    "# Hover Tools\n",
    "Bokeh has a Hover Tool that allows additional information to be displayed in a popup whenever the user hovers over a specific glyph. Basic hover tool configuration amounts to providing a list of (name, format) tuples. The full details can be found in the User's Guide here.\n",
    "\n",
    "The example below shows some basic usage of the Hover tool with a circle glyph, using hover information defined in utils.py:"
   ]
  },
  {
   "cell_type": "code",
   "execution_count": 12,
   "metadata": {},
   "outputs": [],
   "source": [
    "from bokeh.models import HoverTool\n",
    "source=ColumnDataSource(\n",
    "    data=dict(\n",
    "        x=[1,2,3,4,5],\n",
    "        y=[2,5,8,2,7],\n",
    "        desc=[\"a\",\"b\",\"c\",\"d\",\"e\"]\n",
    "    )\n",
    ")"
   ]
  },
  {
   "cell_type": "code",
   "execution_count": 13,
   "metadata": {},
   "outputs": [],
   "source": [
    "hover=HoverTool(\n",
    "tooltips=[\n",
    "    (\"index\",\"$index\"),\n",
    "    (\"(x,y)\",\"($x,$y)\"),\n",
    "    (\"desc\",\"@desc\")\n",
    "])\n",
    "\n"
   ]
  },
  {
   "cell_type": "code",
   "execution_count": 15,
   "metadata": {},
   "outputs": [
    {
     "data": {
      "text/html": [
       "\n",
       "<div class=\"bk-root\">\n",
       "    <div class=\"bk-plotdiv\" id=\"7653bc90-e6db-4453-970d-50f45c3b6e21\"></div>\n",
       "</div>"
      ]
     },
     "metadata": {},
     "output_type": "display_data"
    },
    {
     "data": {
      "application/javascript": [
       "(function(root) {\n",
       "  function embed_document(root) {\n",
       "    var docs_json = {\"d1008bc0-0977-4ab3-b18c-ec5ed8625597\":{\"roots\":{\"references\":[{\"attributes\":{\"source\":{\"id\":\"41f9dad5-3d86-4dab-8426-2e7144b33409\",\"type\":\"ColumnDataSource\"}},\"id\":\"21ff50e3-8a1c-4587-8e94-44fb8de1ba28\",\"type\":\"CDSView\"},{\"attributes\":{},\"id\":\"e77c5f9f-2443-4169-a11c-13e606c15c4c\",\"type\":\"BasicTickFormatter\"},{\"attributes\":{\"callback\":null},\"id\":\"d6056814-c481-49d9-9885-e19bc1efc686\",\"type\":\"DataRange1d\"},{\"attributes\":{},\"id\":\"2139a3fa-9336-459d-a69e-87ef07c0d4b5\",\"type\":\"BasicTickFormatter\"},{\"attributes\":{\"callback\":null},\"id\":\"dbef91f8-0958-4923-b20f-a97deed2459c\",\"type\":\"DataRange1d\"},{\"attributes\":{},\"id\":\"ae57e7e0-ab02-4ee3-91d2-88fad8bfc40f\",\"type\":\"LinearScale\"},{\"attributes\":{\"fill_color\":{\"value\":\"#1f77b4\"},\"line_color\":{\"value\":\"#1f77b4\"},\"size\":{\"units\":\"screen\",\"value\":20},\"x\":{\"field\":\"x\"},\"y\":{\"field\":\"y\"}},\"id\":\"69966af3-e273-4273-a774-ae3138a3dd85\",\"type\":\"Circle\"},{\"attributes\":{},\"id\":\"ffcf3779-5cef-4bb2-9a18-f902831afa11\",\"type\":\"LinearScale\"},{\"attributes\":{\"plot\":{\"id\":\"88082ee7-1688-478d-b92d-d9466c70aaff\",\"subtype\":\"Figure\",\"type\":\"Plot\"},\"ticker\":{\"id\":\"9448059b-1363-4880-90b6-ebe0fd7c69f8\",\"type\":\"BasicTicker\"}},\"id\":\"b71d00fa-1004-4eaf-8b59-e79530056b4c\",\"type\":\"Grid\"},{\"attributes\":{\"formatter\":{\"id\":\"e77c5f9f-2443-4169-a11c-13e606c15c4c\",\"type\":\"BasicTickFormatter\"},\"plot\":{\"id\":\"88082ee7-1688-478d-b92d-d9466c70aaff\",\"subtype\":\"Figure\",\"type\":\"Plot\"},\"ticker\":{\"id\":\"9448059b-1363-4880-90b6-ebe0fd7c69f8\",\"type\":\"BasicTicker\"}},\"id\":\"652ce1ba-b56d-4d4e-8287-5e55174feba1\",\"type\":\"LinearAxis\"},{\"attributes\":{},\"id\":\"9448059b-1363-4880-90b6-ebe0fd7c69f8\",\"type\":\"BasicTicker\"},{\"attributes\":{\"callback\":null,\"column_names\":[\"x\",\"y\",\"desc\"],\"data\":{\"desc\":[\"a\",\"b\",\"c\",\"d\",\"e\"],\"x\":[1,2,3,4,5],\"y\":[2,5,8,2,7]}},\"id\":\"41f9dad5-3d86-4dab-8426-2e7144b33409\",\"type\":\"ColumnDataSource\"},{\"attributes\":{\"below\":[{\"id\":\"652ce1ba-b56d-4d4e-8287-5e55174feba1\",\"type\":\"LinearAxis\"}],\"left\":[{\"id\":\"841032ed-e44d-4a0c-b68d-3b4cd3f720d2\",\"type\":\"LinearAxis\"}],\"plot_height\":300,\"plot_width\":300,\"renderers\":[{\"id\":\"652ce1ba-b56d-4d4e-8287-5e55174feba1\",\"type\":\"LinearAxis\"},{\"id\":\"b71d00fa-1004-4eaf-8b59-e79530056b4c\",\"type\":\"Grid\"},{\"id\":\"841032ed-e44d-4a0c-b68d-3b4cd3f720d2\",\"type\":\"LinearAxis\"},{\"id\":\"f8340c3b-e19a-475f-b1c5-a31e19a81b2d\",\"type\":\"Grid\"},{\"id\":\"b602af1b-f785-4d53-92b0-c6e7178bb03f\",\"type\":\"GlyphRenderer\"}],\"title\":{\"id\":\"2279e222-d302-4a16-b2e7-33fc67bdf102\",\"type\":\"Title\"},\"toolbar\":{\"id\":\"5bb53d01-292e-4340-9766-6c04eba0e9de\",\"type\":\"Toolbar\"},\"x_range\":{\"id\":\"d6056814-c481-49d9-9885-e19bc1efc686\",\"type\":\"DataRange1d\"},\"x_scale\":{\"id\":\"ae57e7e0-ab02-4ee3-91d2-88fad8bfc40f\",\"type\":\"LinearScale\"},\"y_range\":{\"id\":\"dbef91f8-0958-4923-b20f-a97deed2459c\",\"type\":\"DataRange1d\"},\"y_scale\":{\"id\":\"ffcf3779-5cef-4bb2-9a18-f902831afa11\",\"type\":\"LinearScale\"}},\"id\":\"88082ee7-1688-478d-b92d-d9466c70aaff\",\"subtype\":\"Figure\",\"type\":\"Plot\"},{\"attributes\":{\"formatter\":{\"id\":\"2139a3fa-9336-459d-a69e-87ef07c0d4b5\",\"type\":\"BasicTickFormatter\"},\"plot\":{\"id\":\"88082ee7-1688-478d-b92d-d9466c70aaff\",\"subtype\":\"Figure\",\"type\":\"Plot\"},\"ticker\":{\"id\":\"0cc7f40c-45e6-4dfe-bfb9-87a0f1439299\",\"type\":\"BasicTicker\"}},\"id\":\"841032ed-e44d-4a0c-b68d-3b4cd3f720d2\",\"type\":\"LinearAxis\"},{\"attributes\":{},\"id\":\"0cc7f40c-45e6-4dfe-bfb9-87a0f1439299\",\"type\":\"BasicTicker\"},{\"attributes\":{\"dimension\":1,\"plot\":{\"id\":\"88082ee7-1688-478d-b92d-d9466c70aaff\",\"subtype\":\"Figure\",\"type\":\"Plot\"},\"ticker\":{\"id\":\"0cc7f40c-45e6-4dfe-bfb9-87a0f1439299\",\"type\":\"BasicTicker\"}},\"id\":\"f8340c3b-e19a-475f-b1c5-a31e19a81b2d\",\"type\":\"Grid\"},{\"attributes\":{\"plot\":null,\"text\":\"Mouse over the dots\"},\"id\":\"2279e222-d302-4a16-b2e7-33fc67bdf102\",\"type\":\"Title\"},{\"attributes\":{\"callback\":null,\"tooltips\":[[\"index\",\"$index\"],[\"(x,y)\",\"($x,$y)\"],[\"desc\",\"@desc\"]]},\"id\":\"55f50cda-c605-4882-ae63-b92471d8f062\",\"type\":\"HoverTool\"},{\"attributes\":{\"fill_alpha\":{\"value\":0.1},\"fill_color\":{\"value\":\"#1f77b4\"},\"line_alpha\":{\"value\":0.1},\"line_color\":{\"value\":\"#1f77b4\"},\"size\":{\"units\":\"screen\",\"value\":20},\"x\":{\"field\":\"x\"},\"y\":{\"field\":\"y\"}},\"id\":\"065697a5-7f6d-4a6c-8aca-442674cec325\",\"type\":\"Circle\"},{\"attributes\":{\"data_source\":{\"id\":\"41f9dad5-3d86-4dab-8426-2e7144b33409\",\"type\":\"ColumnDataSource\"},\"glyph\":{\"id\":\"69966af3-e273-4273-a774-ae3138a3dd85\",\"type\":\"Circle\"},\"hover_glyph\":null,\"muted_glyph\":null,\"nonselection_glyph\":{\"id\":\"065697a5-7f6d-4a6c-8aca-442674cec325\",\"type\":\"Circle\"},\"selection_glyph\":null,\"view\":{\"id\":\"21ff50e3-8a1c-4587-8e94-44fb8de1ba28\",\"type\":\"CDSView\"}},\"id\":\"b602af1b-f785-4d53-92b0-c6e7178bb03f\",\"type\":\"GlyphRenderer\"},{\"attributes\":{\"active_drag\":\"auto\",\"active_inspect\":\"auto\",\"active_scroll\":\"auto\",\"active_tap\":\"auto\",\"tools\":[{\"id\":\"55f50cda-c605-4882-ae63-b92471d8f062\",\"type\":\"HoverTool\"}]},\"id\":\"5bb53d01-292e-4340-9766-6c04eba0e9de\",\"type\":\"Toolbar\"}],\"root_ids\":[\"88082ee7-1688-478d-b92d-d9466c70aaff\"]},\"title\":\"Bokeh Application\",\"version\":\"0.12.10\"}};\n",
       "    var render_items = [{\"docid\":\"d1008bc0-0977-4ab3-b18c-ec5ed8625597\",\"elementid\":\"7653bc90-e6db-4453-970d-50f45c3b6e21\",\"modelid\":\"88082ee7-1688-478d-b92d-d9466c70aaff\"}];\n",
       "\n",
       "    root.Bokeh.embed.embed_items(docs_json, render_items);\n",
       "  }\n",
       "\n",
       "  if (root.Bokeh !== undefined) {\n",
       "    embed_document(root);\n",
       "  } else {\n",
       "    var attempts = 0;\n",
       "    var timer = setInterval(function(root) {\n",
       "      if (root.Bokeh !== undefined) {\n",
       "        embed_document(root);\n",
       "        clearInterval(timer);\n",
       "      }\n",
       "      attempts++;\n",
       "      if (attempts > 100) {\n",
       "        console.log(\"Bokeh: ERROR: Unable to embed document because BokehJS library is missing\")\n",
       "        clearInterval(timer);\n",
       "      }\n",
       "    }, 10, root)\n",
       "  }\n",
       "})(window);"
      ],
      "application/vnd.bokehjs_exec.v0+json": ""
     },
     "metadata": {
      "application/vnd.bokehjs_exec.v0+json": {
       "id": "88082ee7-1688-478d-b92d-d9466c70aaff"
      }
     },
     "output_type": "display_data"
    }
   ],
   "source": [
    "p=figure(plot_width=300,plot_height=300,tools=[hover],\n",
    "        title=\"Mouse over the dots\")\n",
    "p.circle(\"x\",\"y\",size=20,source=source)\n",
    "show(p)"
   ]
  },
  {
   "cell_type": "markdown",
   "metadata": {},
   "source": [
    "# Widgets \n",
    "Bokeh supports direct integration with a small basic widget set. Thse can be used in conjunction with a Bokeh Server, or with CustomJS models to add more interactive capability to your documents. You can see a complete list, with example code in the Adding Widgets section of the User's Guide.\n",
    "\n",
    "To use the widgets, include them in a layout like you would a plot object:"
   ]
  },
  {
   "cell_type": "code",
   "execution_count": 16,
   "metadata": {},
   "outputs": [
    {
     "data": {
      "text/html": [
       "\n",
       "<div class=\"bk-root\">\n",
       "    <div class=\"bk-plotdiv\" id=\"f09e8a48-caae-487a-b64c-b05293520955\"></div>\n",
       "</div>"
      ]
     },
     "metadata": {},
     "output_type": "display_data"
    },
    {
     "data": {
      "application/javascript": [
       "(function(root) {\n",
       "  function embed_document(root) {\n",
       "    var docs_json = {\"e9d45b20-e9f1-4bb0-a67b-3f6661b0b168\":{\"roots\":{\"references\":[{\"attributes\":{\"children\":[{\"id\":\"6da60190-5285-498d-b78a-b9e81d415bfb\",\"type\":\"Slider\"}]},\"id\":\"8e029613-bbbc-47b5-96a2-a03199f02097\",\"type\":\"WidgetBox\"},{\"attributes\":{\"callback\":null,\"end\":10,\"start\":0,\"step\":0.1,\"title\":\"foo\",\"value\":1},\"id\":\"6da60190-5285-498d-b78a-b9e81d415bfb\",\"type\":\"Slider\"}],\"root_ids\":[\"8e029613-bbbc-47b5-96a2-a03199f02097\"]},\"title\":\"Bokeh Application\",\"version\":\"0.12.10\"}};\n",
       "    var render_items = [{\"docid\":\"e9d45b20-e9f1-4bb0-a67b-3f6661b0b168\",\"elementid\":\"f09e8a48-caae-487a-b64c-b05293520955\",\"modelid\":\"8e029613-bbbc-47b5-96a2-a03199f02097\"}];\n",
       "\n",
       "    root.Bokeh.embed.embed_items(docs_json, render_items);\n",
       "  }\n",
       "\n",
       "  if (root.Bokeh !== undefined) {\n",
       "    embed_document(root);\n",
       "  } else {\n",
       "    var attempts = 0;\n",
       "    var timer = setInterval(function(root) {\n",
       "      if (root.Bokeh !== undefined) {\n",
       "        embed_document(root);\n",
       "        clearInterval(timer);\n",
       "      }\n",
       "      attempts++;\n",
       "      if (attempts > 100) {\n",
       "        console.log(\"Bokeh: ERROR: Unable to embed document because BokehJS library is missing\")\n",
       "        clearInterval(timer);\n",
       "      }\n",
       "    }, 10, root)\n",
       "  }\n",
       "})(window);"
      ],
      "application/vnd.bokehjs_exec.v0+json": ""
     },
     "metadata": {
      "application/vnd.bokehjs_exec.v0+json": {
       "id": "8e029613-bbbc-47b5-96a2-a03199f02097"
      }
     },
     "output_type": "display_data"
    }
   ],
   "source": [
    "from bokeh.layouts import widgetbox\n",
    "from bokeh.models.widgets import Slider\n",
    "\n",
    "slider=Slider(start=0,end=10,value=1,step=0.1,title=\"foo\")\n",
    "show(widgetbox(slider))"
   ]
  },
  {
   "cell_type": "code",
   "execution_count": 17,
   "metadata": {},
   "outputs": [
    {
     "data": {
      "text/html": [
       "\n",
       "<div class=\"bk-root\">\n",
       "    <div class=\"bk-plotdiv\" id=\"c71efb24-5276-4749-afb8-ade167d2628d\"></div>\n",
       "</div>"
      ]
     },
     "metadata": {},
     "output_type": "display_data"
    },
    {
     "data": {
      "application/javascript": [
       "(function(root) {\n",
       "  function embed_document(root) {\n",
       "    var docs_json = {\"4fb06af0-b04f-430d-960c-122951d18e0a\":{\"roots\":{\"references\":[{\"attributes\":{\"active_drag\":\"auto\",\"active_inspect\":\"auto\",\"active_scroll\":\"auto\",\"active_tap\":\"auto\",\"tools\":[{\"id\":\"d84865d6-4dc9-490e-b542-f3fd20df97fa\",\"type\":\"TapTool\"}]},\"id\":\"016b97f2-674e-4160-98df-c57daba1b8e8\",\"type\":\"Toolbar\"},{\"attributes\":{},\"id\":\"5a54d93a-0dc8-43c8-878b-e75bb6a4027d\",\"type\":\"BasicTickFormatter\"},{\"attributes\":{},\"id\":\"9e126b0a-1f82-4b40-83d9-792103c032cd\",\"type\":\"BasicTicker\"},{\"attributes\":{\"plot\":{\"id\":\"a655a7b2-0faf-4aab-a4f0-0c6211d1829c\",\"subtype\":\"Figure\",\"type\":\"Plot\"},\"ticker\":{\"id\":\"a25b2616-04e8-4469-acf5-c363d49d709f\",\"type\":\"BasicTicker\"}},\"id\":\"d8d64a92-db3c-4b5d-87f2-4eaeb0b91b9e\",\"type\":\"Grid\"},{\"attributes\":{},\"id\":\"521e2e3a-63d8-4e33-8ffb-e962cbad8765\",\"type\":\"LinearScale\"},{\"attributes\":{},\"id\":\"776de172-c7a5-4e37-a544-0a81fc7e3e1c\",\"type\":\"BasicTickFormatter\"},{\"attributes\":{\"fill_alpha\":{\"value\":0.1},\"fill_color\":{\"value\":\"#1f77b4\"},\"line_alpha\":{\"value\":0.1},\"line_color\":{\"value\":\"#1f77b4\"},\"size\":{\"units\":\"screen\",\"value\":20},\"x\":{\"field\":\"x\"},\"y\":{\"field\":\"y\"}},\"id\":\"faf27986-4d7a-454b-99f9-bca08e240018\",\"type\":\"Circle\"},{\"attributes\":{\"callback\":null},\"id\":\"bf64a67a-bf17-4148-a693-4ba13d5db110\",\"type\":\"DataRange1d\"},{\"attributes\":{\"plot\":null,\"text\":\"\"},\"id\":\"31d797ed-674a-4923-8b2d-8ce3f59b34b9\",\"type\":\"Title\"},{\"attributes\":{\"callback\":{\"id\":\"00f1260c-b9a4-41c8-b9e1-c827b3079205\",\"type\":\"CustomJS\"}},\"id\":\"d84865d6-4dc9-490e-b542-f3fd20df97fa\",\"type\":\"TapTool\"},{\"attributes\":{\"formatter\":{\"id\":\"776de172-c7a5-4e37-a544-0a81fc7e3e1c\",\"type\":\"BasicTickFormatter\"},\"plot\":{\"id\":\"a655a7b2-0faf-4aab-a4f0-0c6211d1829c\",\"subtype\":\"Figure\",\"type\":\"Plot\"},\"ticker\":{\"id\":\"9e126b0a-1f82-4b40-83d9-792103c032cd\",\"type\":\"BasicTicker\"}},\"id\":\"05974c6e-fd2e-4df3-9928-c8f30a3bb04d\",\"type\":\"LinearAxis\"},{\"attributes\":{},\"id\":\"a25b2616-04e8-4469-acf5-c363d49d709f\",\"type\":\"BasicTicker\"},{\"attributes\":{\"dimension\":1,\"plot\":{\"id\":\"a655a7b2-0faf-4aab-a4f0-0c6211d1829c\",\"subtype\":\"Figure\",\"type\":\"Plot\"},\"ticker\":{\"id\":\"9e126b0a-1f82-4b40-83d9-792103c032cd\",\"type\":\"BasicTicker\"}},\"id\":\"052d67f4-3424-4946-95e4-ec058745c4f5\",\"type\":\"Grid\"},{\"attributes\":{\"source\":{\"id\":\"567c2e80-01ab-4cb1-8943-c3395c2af1e6\",\"type\":\"ColumnDataSource\"}},\"id\":\"e30173eb-3d6f-444d-a040-110ed1bc80dc\",\"type\":\"CDSView\"},{\"attributes\":{\"fill_color\":{\"value\":\"#1f77b4\"},\"line_color\":{\"value\":\"#1f77b4\"},\"size\":{\"units\":\"screen\",\"value\":20},\"x\":{\"field\":\"x\"},\"y\":{\"field\":\"y\"}},\"id\":\"04071a34-7225-459e-9e14-0604e705e8bf\",\"type\":\"Circle\"},{\"attributes\":{\"formatter\":{\"id\":\"5a54d93a-0dc8-43c8-878b-e75bb6a4027d\",\"type\":\"BasicTickFormatter\"},\"plot\":{\"id\":\"a655a7b2-0faf-4aab-a4f0-0c6211d1829c\",\"subtype\":\"Figure\",\"type\":\"Plot\"},\"ticker\":{\"id\":\"a25b2616-04e8-4469-acf5-c363d49d709f\",\"type\":\"BasicTicker\"}},\"id\":\"8d57d499-e291-422a-bcf1-c7efb62a4696\",\"type\":\"LinearAxis\"},{\"attributes\":{\"data_source\":{\"id\":\"567c2e80-01ab-4cb1-8943-c3395c2af1e6\",\"type\":\"ColumnDataSource\"},\"glyph\":{\"id\":\"04071a34-7225-459e-9e14-0604e705e8bf\",\"type\":\"Circle\"},\"hover_glyph\":null,\"muted_glyph\":null,\"nonselection_glyph\":{\"id\":\"faf27986-4d7a-454b-99f9-bca08e240018\",\"type\":\"Circle\"},\"selection_glyph\":null,\"view\":{\"id\":\"e30173eb-3d6f-444d-a040-110ed1bc80dc\",\"type\":\"CDSView\"}},\"id\":\"5d037d80-e73b-4dd2-8744-caa332a50fc4\",\"type\":\"GlyphRenderer\"},{\"attributes\":{\"code\":\"alert('hello world)\"},\"id\":\"00f1260c-b9a4-41c8-b9e1-c827b3079205\",\"type\":\"CustomJS\"},{\"attributes\":{},\"id\":\"e52527ff-547f-4067-862d-55043c20eec5\",\"type\":\"LinearScale\"},{\"attributes\":{\"callback\":null},\"id\":\"047dfc0a-869d-4b7a-b4e8-2bcb0a615ff6\",\"type\":\"DataRange1d\"},{\"attributes\":{\"callback\":null,\"column_names\":[\"x\",\"y\"],\"data\":{\"x\":[1,2,3,4,5],\"y\":[2,5,8,2,7]}},\"id\":\"567c2e80-01ab-4cb1-8943-c3395c2af1e6\",\"type\":\"ColumnDataSource\"},{\"attributes\":{\"below\":[{\"id\":\"8d57d499-e291-422a-bcf1-c7efb62a4696\",\"type\":\"LinearAxis\"}],\"left\":[{\"id\":\"05974c6e-fd2e-4df3-9928-c8f30a3bb04d\",\"type\":\"LinearAxis\"}],\"plot_height\":300,\"renderers\":[{\"id\":\"8d57d499-e291-422a-bcf1-c7efb62a4696\",\"type\":\"LinearAxis\"},{\"id\":\"d8d64a92-db3c-4b5d-87f2-4eaeb0b91b9e\",\"type\":\"Grid\"},{\"id\":\"05974c6e-fd2e-4df3-9928-c8f30a3bb04d\",\"type\":\"LinearAxis\"},{\"id\":\"052d67f4-3424-4946-95e4-ec058745c4f5\",\"type\":\"Grid\"},{\"id\":\"5d037d80-e73b-4dd2-8744-caa332a50fc4\",\"type\":\"GlyphRenderer\"}],\"title\":{\"id\":\"31d797ed-674a-4923-8b2d-8ce3f59b34b9\",\"type\":\"Title\"},\"toolbar\":{\"id\":\"016b97f2-674e-4160-98df-c57daba1b8e8\",\"type\":\"Toolbar\"},\"x_range\":{\"id\":\"bf64a67a-bf17-4148-a693-4ba13d5db110\",\"type\":\"DataRange1d\"},\"x_scale\":{\"id\":\"521e2e3a-63d8-4e33-8ffb-e962cbad8765\",\"type\":\"LinearScale\"},\"y_range\":{\"id\":\"047dfc0a-869d-4b7a-b4e8-2bcb0a615ff6\",\"type\":\"DataRange1d\"},\"y_scale\":{\"id\":\"e52527ff-547f-4067-862d-55043c20eec5\",\"type\":\"LinearScale\"}},\"id\":\"a655a7b2-0faf-4aab-a4f0-0c6211d1829c\",\"subtype\":\"Figure\",\"type\":\"Plot\"}],\"root_ids\":[\"a655a7b2-0faf-4aab-a4f0-0c6211d1829c\"]},\"title\":\"Bokeh Application\",\"version\":\"0.12.10\"}};\n",
       "    var render_items = [{\"docid\":\"4fb06af0-b04f-430d-960c-122951d18e0a\",\"elementid\":\"c71efb24-5276-4749-afb8-ade167d2628d\",\"modelid\":\"a655a7b2-0faf-4aab-a4f0-0c6211d1829c\"}];\n",
       "\n",
       "    root.Bokeh.embed.embed_items(docs_json, render_items);\n",
       "  }\n",
       "\n",
       "  if (root.Bokeh !== undefined) {\n",
       "    embed_document(root);\n",
       "  } else {\n",
       "    var attempts = 0;\n",
       "    var timer = setInterval(function(root) {\n",
       "      if (root.Bokeh !== undefined) {\n",
       "        embed_document(root);\n",
       "        clearInterval(timer);\n",
       "      }\n",
       "      attempts++;\n",
       "      if (attempts > 100) {\n",
       "        console.log(\"Bokeh: ERROR: Unable to embed document because BokehJS library is missing\")\n",
       "        clearInterval(timer);\n",
       "      }\n",
       "    }, 10, root)\n",
       "  }\n",
       "})(window);"
      ],
      "application/vnd.bokehjs_exec.v0+json": ""
     },
     "metadata": {
      "application/vnd.bokehjs_exec.v0+json": {
       "id": "a655a7b2-0faf-4aab-a4f0-0c6211d1829c"
      }
     },
     "output_type": "display_data"
    }
   ],
   "source": [
    "from bokeh.models import TapTool,CustomJS,ColumnDataSource\n",
    "callback=CustomJS(code=\"alert('hello world)\")\n",
    "tap=TapTool(callback=callback)\n",
    "p=figure(plot_width=600,plot_height=300,tools=[tap])\n",
    "p.circle(x=[1,2,3,4,5],y=[2,5,8,2,7],size=20)\n",
    "show(p)"
   ]
  },
  {
   "cell_type": "markdown",
   "metadata": {},
   "source": [
    "# Lots of places to add callbaccks\n",
    "Widgets - Button, Toggle, Dropdown, TextInput, AutocompleteInput, Select, Multiselect, Slider, (DateRangeSlider), DatePicker,\n",
    "Tools - TapTool, BoxSelectTool, HoverTool,\n",
    "Selection - ColumnDataSource, AjaxDataSource, BlazeDataSource, ServerDataSource\n",
    "Ranges - Range1d, DataRange1d, FactorRange\n",
    "\n",
    "# Callbacks for widgets\n",
    "Widgets that have values associated can have small JavaScript actions attached to them. These actions (also referred to as \"callbacks\") are executed whenever the widget's value is changed. In order to make it easier to refer to specific Bokeh models (e.g., a data source, or a glyhph) from JavaScript, the CustomJS obejct also accepts a dictionary of \"args\" that map names to Python Bokeh models. The corresponding JavaScript models are made available automaticaly to the CustomJS code.\n",
    "\n",
    "And example below shows an action attached to a slider that updates a data source whenever the slider is moved:"
   ]
  },
  {
   "cell_type": "code",
   "execution_count": 30,
   "metadata": {},
   "outputs": [
    {
     "data": {
      "text/html": [
       "\n",
       "<div class=\"bk-root\">\n",
       "    <div class=\"bk-plotdiv\" id=\"3b714b28-501d-42b8-8a9d-20399b6b4081\"></div>\n",
       "</div>"
      ]
     },
     "metadata": {},
     "output_type": "display_data"
    },
    {
     "data": {
      "application/javascript": [
       "(function(root) {\n",
       "  function embed_document(root) {\n",
       "    var docs_json = {\"bbc05eb5-a42d-47d0-b52c-7f4fce940f96\":{\"roots\":{\"references\":[{\"attributes\":{},\"id\":\"e8005b64-c38b-4ad5-b227-0c0af3a6b76a\",\"type\":\"LinearScale\"},{\"attributes\":{\"source\":{\"id\":\"a8a92c33-0066-4771-be70-6e7686a85718\",\"type\":\"ColumnDataSource\"}},\"id\":\"e467ca6f-7795-4908-b7bd-dced58610e79\",\"type\":\"CDSView\"},{\"attributes\":{\"data_source\":{\"id\":\"a8a92c33-0066-4771-be70-6e7686a85718\",\"type\":\"ColumnDataSource\"},\"glyph\":{\"id\":\"89c2c2be-2edd-4e2d-ba8f-169ab5f48a3f\",\"type\":\"Line\"},\"hover_glyph\":null,\"muted_glyph\":null,\"nonselection_glyph\":{\"id\":\"4c82c4b4-1980-4464-b94e-186aefe09acc\",\"type\":\"Line\"},\"selection_glyph\":null,\"view\":{\"id\":\"e467ca6f-7795-4908-b7bd-dced58610e79\",\"type\":\"CDSView\"}},\"id\":\"99f359e6-1544-4405-b01a-c402faf5b2e2\",\"type\":\"GlyphRenderer\"},{\"attributes\":{},\"id\":\"cd18feef-c3ef-49e6-9f9f-d48297a657c8\",\"type\":\"BasicTicker\"},{\"attributes\":{\"args\":{\"slider\":{\"id\":\"9215d06c-6f3a-47b6-9c49-d50e4cfb35e8\",\"type\":\"Slider\"},\"source\":{\"id\":\"a8a92c33-0066-4771-be70-6e7686a85718\",\"type\":\"ColumnDataSource\"}},\"code\":\"\\n    var data = source.get('data');\\n    var f = slider.value;\\n    x = data['x']\\n    y = data['y']\\n    for (i = 0; i < x.length; i++) {\\n        y[i] = Math.pow(x[i], f)\\n    }\\n    source.change.emit();\\n\"},\"id\":\"7b17c877-af7d-4fbd-8f68-20e77782b077\",\"type\":\"CustomJS\"},{\"attributes\":{\"bottom_units\":\"screen\",\"fill_alpha\":{\"value\":0.5},\"fill_color\":{\"value\":\"lightgrey\"},\"left_units\":\"screen\",\"level\":\"overlay\",\"line_alpha\":{\"value\":1.0},\"line_color\":{\"value\":\"black\"},\"line_dash\":[4,4],\"line_width\":{\"value\":2},\"plot\":null,\"render_mode\":\"css\",\"right_units\":\"screen\",\"top_units\":\"screen\"},\"id\":\"ff9f9b48-a571-44f8-93d6-4604f7fac136\",\"type\":\"BoxAnnotation\"},{\"attributes\":{\"dimension\":1,\"plot\":{\"id\":\"dab32573-e7b8-434f-b9ab-4e6f396c5c55\",\"subtype\":\"Figure\",\"type\":\"Plot\"},\"ticker\":{\"id\":\"cd18feef-c3ef-49e6-9f9f-d48297a657c8\",\"type\":\"BasicTicker\"}},\"id\":\"0ceb4a41-3fcd-4e8d-9329-1c4da21c4933\",\"type\":\"Grid\"},{\"attributes\":{},\"id\":\"5c97223d-2b54-488e-9260-95e582ad7208\",\"type\":\"PanTool\"},{\"attributes\":{\"active_drag\":\"auto\",\"active_inspect\":\"auto\",\"active_scroll\":\"auto\",\"active_tap\":\"auto\",\"tools\":[{\"id\":\"5c97223d-2b54-488e-9260-95e582ad7208\",\"type\":\"PanTool\"},{\"id\":\"0b2f562f-2e48-4fdf-b65f-a813668f557f\",\"type\":\"WheelZoomTool\"},{\"id\":\"9841876d-79c9-408a-8c92-61e11c6b92fd\",\"type\":\"BoxZoomTool\"},{\"id\":\"fa84da9c-0e61-46ed-8813-df3753a3f974\",\"type\":\"SaveTool\"},{\"id\":\"993ac686-e354-4ced-a3a5-fc9c0f79bc16\",\"type\":\"ResetTool\"},{\"id\":\"c9295088-f072-4336-bfec-4115e42450b0\",\"type\":\"HelpTool\"}]},\"id\":\"80640266-c0ae-4238-a1b8-b711e89bb3de\",\"type\":\"Toolbar\"},{\"attributes\":{},\"id\":\"b23f4a50-5a45-455d-9000-66e5c510bd83\",\"type\":\"LinearScale\"},{\"attributes\":{},\"id\":\"336fbd5e-3ee7-4bb4-af68-7b56d0d55568\",\"type\":\"BasicTickFormatter\"},{\"attributes\":{\"below\":[{\"id\":\"dc2c5a0f-bb9b-4b39-8988-ce0ac8b912f3\",\"type\":\"LinearAxis\"}],\"left\":[{\"id\":\"dfc0d74b-a19d-46fc-8271-29c06a283cf1\",\"type\":\"LinearAxis\"}],\"plot_height\":400,\"plot_width\":400,\"renderers\":[{\"id\":\"dc2c5a0f-bb9b-4b39-8988-ce0ac8b912f3\",\"type\":\"LinearAxis\"},{\"id\":\"ffa80db0-439e-4689-9500-5321c4b2a763\",\"type\":\"Grid\"},{\"id\":\"dfc0d74b-a19d-46fc-8271-29c06a283cf1\",\"type\":\"LinearAxis\"},{\"id\":\"0ceb4a41-3fcd-4e8d-9329-1c4da21c4933\",\"type\":\"Grid\"},{\"id\":\"ff9f9b48-a571-44f8-93d6-4604f7fac136\",\"type\":\"BoxAnnotation\"},{\"id\":\"99f359e6-1544-4405-b01a-c402faf5b2e2\",\"type\":\"GlyphRenderer\"}],\"title\":{\"id\":\"8ff48e77-fa12-4e45-88ce-ba283a5cd535\",\"type\":\"Title\"},\"toolbar\":{\"id\":\"80640266-c0ae-4238-a1b8-b711e89bb3de\",\"type\":\"Toolbar\"},\"x_range\":{\"id\":\"11e995a3-e946-4944-8836-768de7cfedec\",\"type\":\"DataRange1d\"},\"x_scale\":{\"id\":\"b23f4a50-5a45-455d-9000-66e5c510bd83\",\"type\":\"LinearScale\"},\"y_range\":{\"id\":\"102381b4-9719-45d7-a9d6-90fbc8978ec8\",\"type\":\"DataRange1d\"},\"y_scale\":{\"id\":\"e8005b64-c38b-4ad5-b227-0c0af3a6b76a\",\"type\":\"LinearScale\"}},\"id\":\"dab32573-e7b8-434f-b9ab-4e6f396c5c55\",\"subtype\":\"Figure\",\"type\":\"Plot\"},{\"attributes\":{},\"id\":\"0b2f562f-2e48-4fdf-b65f-a813668f557f\",\"type\":\"WheelZoomTool\"},{\"attributes\":{},\"id\":\"080a1af8-dc08-4a96-8665-bc90486abb3c\",\"type\":\"BasicTicker\"},{\"attributes\":{\"overlay\":{\"id\":\"ff9f9b48-a571-44f8-93d6-4604f7fac136\",\"type\":\"BoxAnnotation\"}},\"id\":\"9841876d-79c9-408a-8c92-61e11c6b92fd\",\"type\":\"BoxZoomTool\"},{\"attributes\":{\"callback\":null,\"column_names\":[\"x\",\"y\"],\"data\":{\"x\":[0.0,0.005,0.01,0.015,0.02,0.025,0.03,0.035,0.04,0.045,0.05,0.055,0.06,0.065,0.07,0.075,0.08,0.085,0.09,0.095,0.1,0.105,0.11,0.115,0.12,0.125,0.13,0.135,0.14,0.145,0.15,0.155,0.16,0.165,0.17,0.17500000000000002,0.18,0.185,0.19,0.195,0.2,0.20500000000000002,0.21,0.215,0.22,0.225,0.23,0.23500000000000001,0.24,0.245,0.25,0.255,0.26,0.265,0.27,0.275,0.28,0.28500000000000003,0.29,0.295,0.3,0.305,0.31,0.315,0.32,0.325,0.33,0.335,0.34,0.34500000000000003,0.35000000000000003,0.355,0.36,0.365,0.37,0.375,0.38,0.385,0.39,0.395,0.4,0.405,0.41000000000000003,0.41500000000000004,0.42,0.425,0.43,0.435,0.44,0.445,0.45,0.455,0.46,0.465,0.47000000000000003,0.47500000000000003,0.48,0.485,0.49,0.495,0.5,0.505,0.51,0.515,0.52,0.525,0.53,0.535,0.54,0.545,0.55,0.555,0.56,0.5650000000000001,0.5700000000000001,0.5750000000000001,0.58,0.585,0.59,0.595,0.6,0.605,0.61,0.615,0.62,0.625,0.63,0.635,0.64,0.645,0.65,0.655,0.66,0.665,0.67,0.675,0.68,0.685,0.6900000000000001,0.6950000000000001,0.7000000000000001,0.705,0.71,0.715,0.72,0.725,0.73,0.735,0.74,0.745,0.75,0.755,0.76,0.765,0.77,0.775,0.78,0.785,0.79,0.795,0.8,0.805,0.81,0.8150000000000001,0.8200000000000001,0.8250000000000001,0.8300000000000001,0.835,0.84,0.845,0.85,0.855,0.86,0.865,0.87,0.875,0.88,0.885,0.89,0.895,0.9,0.905,0.91,0.915,0.92,0.925,0.93,0.935,0.9400000000000001,0.9450000000000001,0.9500000000000001,0.9550000000000001,0.96,0.965,0.97,0.975,0.98,0.985,0.99,0.995,1.0],\"y\":[0.0,0.005,0.01,0.015,0.02,0.025,0.03,0.035,0.04,0.045,0.05,0.055,0.06,0.065,0.07,0.075,0.08,0.085,0.09,0.095,0.1,0.105,0.11,0.115,0.12,0.125,0.13,0.135,0.14,0.145,0.15,0.155,0.16,0.165,0.17,0.17500000000000002,0.18,0.185,0.19,0.195,0.2,0.20500000000000002,0.21,0.215,0.22,0.225,0.23,0.23500000000000001,0.24,0.245,0.25,0.255,0.26,0.265,0.27,0.275,0.28,0.28500000000000003,0.29,0.295,0.3,0.305,0.31,0.315,0.32,0.325,0.33,0.335,0.34,0.34500000000000003,0.35000000000000003,0.355,0.36,0.365,0.37,0.375,0.38,0.385,0.39,0.395,0.4,0.405,0.41000000000000003,0.41500000000000004,0.42,0.425,0.43,0.435,0.44,0.445,0.45,0.455,0.46,0.465,0.47000000000000003,0.47500000000000003,0.48,0.485,0.49,0.495,0.5,0.505,0.51,0.515,0.52,0.525,0.53,0.535,0.54,0.545,0.55,0.555,0.56,0.5650000000000001,0.5700000000000001,0.5750000000000001,0.58,0.585,0.59,0.595,0.6,0.605,0.61,0.615,0.62,0.625,0.63,0.635,0.64,0.645,0.65,0.655,0.66,0.665,0.67,0.675,0.68,0.685,0.6900000000000001,0.6950000000000001,0.7000000000000001,0.705,0.71,0.715,0.72,0.725,0.73,0.735,0.74,0.745,0.75,0.755,0.76,0.765,0.77,0.775,0.78,0.785,0.79,0.795,0.8,0.805,0.81,0.8150000000000001,0.8200000000000001,0.8250000000000001,0.8300000000000001,0.835,0.84,0.845,0.85,0.855,0.86,0.865,0.87,0.875,0.88,0.885,0.89,0.895,0.9,0.905,0.91,0.915,0.92,0.925,0.93,0.935,0.9400000000000001,0.9450000000000001,0.9500000000000001,0.9550000000000001,0.96,0.965,0.97,0.975,0.98,0.985,0.99,0.995,1.0]}},\"id\":\"a8a92c33-0066-4771-be70-6e7686a85718\",\"type\":\"ColumnDataSource\"},{\"attributes\":{\"callback\":null,\"end\":6,\"js_property_callbacks\":{\"change:value\":[{\"id\":\"7b17c877-af7d-4fbd-8f68-20e77782b077\",\"type\":\"CustomJS\"}]},\"start\":0.1,\"step\":0.1,\"title\":\"power\",\"value\":1},\"id\":\"9215d06c-6f3a-47b6-9c49-d50e4cfb35e8\",\"type\":\"Slider\"},{\"attributes\":{},\"id\":\"fa84da9c-0e61-46ed-8813-df3753a3f974\",\"type\":\"SaveTool\"},{\"attributes\":{\"line_alpha\":{\"value\":0.6},\"line_color\":{\"value\":\"#1f77b4\"},\"line_width\":{\"value\":3},\"x\":{\"field\":\"x\"},\"y\":{\"field\":\"y\"}},\"id\":\"89c2c2be-2edd-4e2d-ba8f-169ab5f48a3f\",\"type\":\"Line\"},{\"attributes\":{\"plot\":{\"id\":\"dab32573-e7b8-434f-b9ab-4e6f396c5c55\",\"subtype\":\"Figure\",\"type\":\"Plot\"},\"ticker\":{\"id\":\"080a1af8-dc08-4a96-8665-bc90486abb3c\",\"type\":\"BasicTicker\"}},\"id\":\"ffa80db0-439e-4689-9500-5321c4b2a763\",\"type\":\"Grid\"},{\"attributes\":{},\"id\":\"993ac686-e354-4ced-a3a5-fc9c0f79bc16\",\"type\":\"ResetTool\"},{\"attributes\":{},\"id\":\"c9295088-f072-4336-bfec-4115e42450b0\",\"type\":\"HelpTool\"},{\"attributes\":{\"formatter\":{\"id\":\"98a9a922-49d9-492c-ae92-129ed181f767\",\"type\":\"BasicTickFormatter\"},\"plot\":{\"id\":\"dab32573-e7b8-434f-b9ab-4e6f396c5c55\",\"subtype\":\"Figure\",\"type\":\"Plot\"},\"ticker\":{\"id\":\"cd18feef-c3ef-49e6-9f9f-d48297a657c8\",\"type\":\"BasicTicker\"}},\"id\":\"dfc0d74b-a19d-46fc-8271-29c06a283cf1\",\"type\":\"LinearAxis\"},{\"attributes\":{\"children\":[{\"id\":\"4a637b2d-4967-4982-9752-9c9f51047597\",\"type\":\"WidgetBox\"},{\"id\":\"dab32573-e7b8-434f-b9ab-4e6f396c5c55\",\"subtype\":\"Figure\",\"type\":\"Plot\"}]},\"id\":\"4f50769b-5261-4eb7-960b-3074a6992cb2\",\"type\":\"Column\"},{\"attributes\":{\"callback\":null},\"id\":\"102381b4-9719-45d7-a9d6-90fbc8978ec8\",\"type\":\"DataRange1d\"},{\"attributes\":{\"plot\":null,\"text\":\"\"},\"id\":\"8ff48e77-fa12-4e45-88ce-ba283a5cd535\",\"type\":\"Title\"},{\"attributes\":{},\"id\":\"98a9a922-49d9-492c-ae92-129ed181f767\",\"type\":\"BasicTickFormatter\"},{\"attributes\":{\"callback\":null},\"id\":\"11e995a3-e946-4944-8836-768de7cfedec\",\"type\":\"DataRange1d\"},{\"attributes\":{\"line_alpha\":{\"value\":0.1},\"line_color\":{\"value\":\"#1f77b4\"},\"line_width\":{\"value\":3},\"x\":{\"field\":\"x\"},\"y\":{\"field\":\"y\"}},\"id\":\"4c82c4b4-1980-4464-b94e-186aefe09acc\",\"type\":\"Line\"},{\"attributes\":{\"children\":[{\"id\":\"9215d06c-6f3a-47b6-9c49-d50e4cfb35e8\",\"type\":\"Slider\"}]},\"id\":\"4a637b2d-4967-4982-9752-9c9f51047597\",\"type\":\"WidgetBox\"},{\"attributes\":{\"formatter\":{\"id\":\"336fbd5e-3ee7-4bb4-af68-7b56d0d55568\",\"type\":\"BasicTickFormatter\"},\"plot\":{\"id\":\"dab32573-e7b8-434f-b9ab-4e6f396c5c55\",\"subtype\":\"Figure\",\"type\":\"Plot\"},\"ticker\":{\"id\":\"080a1af8-dc08-4a96-8665-bc90486abb3c\",\"type\":\"BasicTicker\"}},\"id\":\"dc2c5a0f-bb9b-4b39-8988-ce0ac8b912f3\",\"type\":\"LinearAxis\"}],\"root_ids\":[\"4f50769b-5261-4eb7-960b-3074a6992cb2\"]},\"title\":\"Bokeh Application\",\"version\":\"0.12.10\"}};\n",
       "    var render_items = [{\"docid\":\"bbc05eb5-a42d-47d0-b52c-7f4fce940f96\",\"elementid\":\"3b714b28-501d-42b8-8a9d-20399b6b4081\",\"modelid\":\"4f50769b-5261-4eb7-960b-3074a6992cb2\"}];\n",
       "\n",
       "    root.Bokeh.embed.embed_items(docs_json, render_items);\n",
       "  }\n",
       "\n",
       "  if (root.Bokeh !== undefined) {\n",
       "    embed_document(root);\n",
       "  } else {\n",
       "    var attempts = 0;\n",
       "    var timer = setInterval(function(root) {\n",
       "      if (root.Bokeh !== undefined) {\n",
       "        embed_document(root);\n",
       "        clearInterval(timer);\n",
       "      }\n",
       "      attempts++;\n",
       "      if (attempts > 100) {\n",
       "        console.log(\"Bokeh: ERROR: Unable to embed document because BokehJS library is missing\")\n",
       "        clearInterval(timer);\n",
       "      }\n",
       "    }, 10, root)\n",
       "  }\n",
       "})(window);"
      ],
      "application/vnd.bokehjs_exec.v0+json": ""
     },
     "metadata": {
      "application/vnd.bokehjs_exec.v0+json": {
       "id": "4f50769b-5261-4eb7-960b-3074a6992cb2"
      }
     },
     "output_type": "display_data"
    }
   ],
   "source": [
    "from bokeh.layouts import column\n",
    "from bokeh.models import CustomJS, ColumnDataSource, Slider\n",
    "\n",
    "x = [x*0.005 for x in range(0, 201)]\n",
    "\n",
    "source = ColumnDataSource(data=dict(x=x, y=x))\n",
    "\n",
    "plot = figure(plot_width=400, plot_height=400)\n",
    "plot.line('x', 'y', source=source, line_width=3, line_alpha=0.6)\n",
    "\n",
    "slider = Slider(start=0.1, end=6, value=1, step=.1, title=\"power\")\n",
    "\n",
    "update_curve = CustomJS(args=dict(source=source, slider=slider), code=\"\"\"\n",
    "    var data = source.get('data');\n",
    "    var f = slider.value;\n",
    "    x = data['x']\n",
    "    y = data['y']\n",
    "    for (i = 0; i < x.length; i++) {\n",
    "        y[i] = Math.pow(x[i], f)\n",
    "    }\n",
    "    source.change.emit();\n",
    "\"\"\")\n",
    "slider.js_on_change('value', update_curve)\n",
    "\n",
    "\n",
    "show(column(slider, plot))"
   ]
  },
  {
   "cell_type": "markdown",
   "metadata": {},
   "source": [
    "# Calbacks for selections\n",
    "It's also possible to make JavaScript actions that execute whenever a user selection (e.g., box, point, lasso) changes. This is done by attaching the same kind of CustomJS object to whatever data source the selection is made on.\n",
    "\n",
    "The example below is a bit more sophisticated, and demonstrates updating one glyph's data source in response to another glyph's selection:"
   ]
  },
  {
   "cell_type": "code",
   "execution_count": 35,
   "metadata": {},
   "outputs": [
    {
     "data": {
      "text/html": [
       "\n",
       "<div class=\"bk-root\">\n",
       "    <div class=\"bk-plotdiv\" id=\"05de42b9-6424-4d50-ab0c-67b765705217\"></div>\n",
       "</div>"
      ]
     },
     "metadata": {},
     "output_type": "display_data"
    },
    {
     "data": {
      "application/javascript": [
       "(function(root) {\n",
       "  function embed_document(root) {\n",
       "    var docs_json = {\"51855a94-1ad2-49d5-afeb-eaf26ad92539\":{\"roots\":{\"references\":[{\"attributes\":{\"callback\":null,\"overlay\":{\"id\":\"e94faae0-af3b-44f0-8022-8803cade6d74\",\"type\":\"PolyAnnotation\"}},\"id\":\"89c00b64-1ecd-4028-82d3-62f5ff40127b\",\"type\":\"LassoSelectTool\"},{\"attributes\":{\"callback\":{\"id\":\"4fa241b0-639b-450a-8759-9168c3531719\",\"type\":\"CustomJS\"},\"column_names\":[\"x\",\"y\",\"color\"],\"data\":{\"color\":[\"navy\",\"navy\",\"navy\",\"navy\",\"navy\",\"navy\",\"navy\",\"navy\",\"navy\",\"navy\",\"navy\",\"navy\",\"navy\",\"navy\",\"navy\",\"navy\",\"navy\",\"navy\",\"navy\",\"navy\",\"navy\",\"navy\",\"navy\",\"navy\",\"navy\",\"navy\",\"navy\",\"navy\",\"navy\",\"navy\",\"navy\",\"navy\",\"navy\",\"navy\",\"navy\",\"navy\",\"navy\",\"navy\",\"navy\",\"navy\",\"navy\",\"navy\",\"navy\",\"navy\",\"navy\",\"navy\",\"navy\",\"navy\",\"navy\",\"navy\",\"navy\",\"navy\",\"navy\",\"navy\",\"navy\",\"navy\",\"navy\",\"navy\",\"navy\",\"navy\",\"navy\",\"navy\",\"navy\",\"navy\",\"navy\",\"navy\",\"navy\",\"navy\",\"navy\",\"navy\",\"navy\",\"navy\",\"navy\",\"navy\",\"navy\",\"navy\",\"navy\",\"navy\",\"navy\",\"navy\",\"navy\",\"navy\",\"navy\",\"navy\",\"navy\",\"navy\",\"navy\",\"navy\",\"navy\",\"navy\",\"navy\",\"navy\",\"navy\",\"navy\",\"navy\",\"navy\",\"navy\",\"navy\",\"navy\",\"navy\",\"navy\",\"navy\",\"navy\",\"navy\",\"navy\",\"navy\",\"navy\",\"navy\",\"navy\",\"navy\",\"navy\",\"navy\",\"navy\",\"navy\",\"navy\",\"navy\",\"navy\",\"navy\",\"navy\",\"navy\",\"navy\",\"navy\",\"navy\",\"navy\",\"navy\",\"navy\",\"navy\",\"navy\",\"navy\",\"navy\",\"navy\",\"navy\",\"navy\",\"navy\",\"navy\",\"navy\",\"navy\",\"navy\",\"navy\",\"navy\",\"navy\",\"navy\",\"navy\",\"navy\",\"navy\",\"navy\",\"navy\",\"navy\",\"navy\",\"navy\",\"navy\",\"navy\",\"navy\",\"navy\",\"navy\",\"navy\",\"navy\",\"navy\",\"navy\",\"navy\",\"navy\",\"navy\",\"navy\",\"navy\",\"navy\",\"navy\",\"navy\",\"navy\",\"navy\",\"navy\",\"navy\",\"navy\",\"navy\",\"navy\",\"navy\",\"navy\",\"navy\",\"navy\",\"navy\",\"navy\",\"navy\",\"navy\",\"navy\",\"navy\",\"navy\",\"navy\",\"navy\",\"navy\",\"navy\",\"navy\",\"navy\",\"navy\",\"navy\",\"navy\",\"navy\",\"navy\",\"navy\",\"navy\",\"navy\",\"navy\",\"navy\",\"navy\",\"navy\",\"navy\",\"navy\",\"navy\",\"navy\",\"navy\",\"navy\",\"navy\",\"navy\",\"navy\",\"navy\",\"navy\",\"navy\",\"navy\",\"navy\",\"navy\",\"navy\",\"navy\",\"navy\",\"navy\",\"navy\",\"navy\",\"navy\",\"navy\",\"navy\",\"navy\",\"navy\",\"navy\",\"navy\",\"navy\",\"navy\",\"navy\",\"navy\",\"navy\",\"navy\",\"navy\",\"navy\",\"navy\",\"navy\",\"navy\",\"navy\",\"navy\",\"navy\",\"navy\",\"navy\",\"navy\",\"navy\",\"navy\",\"navy\",\"navy\",\"navy\",\"navy\",\"navy\",\"navy\",\"navy\",\"navy\",\"navy\",\"navy\",\"navy\",\"navy\",\"navy\",\"navy\",\"navy\",\"navy\",\"navy\",\"navy\",\"navy\",\"navy\",\"navy\",\"navy\",\"navy\",\"navy\",\"navy\",\"navy\",\"navy\",\"navy\",\"navy\",\"navy\",\"navy\",\"navy\",\"navy\",\"navy\",\"navy\",\"navy\",\"navy\",\"navy\",\"navy\",\"navy\",\"navy\",\"navy\",\"navy\",\"navy\",\"navy\",\"navy\",\"navy\",\"navy\",\"navy\",\"navy\",\"navy\",\"navy\",\"navy\",\"navy\",\"navy\",\"navy\",\"navy\",\"navy\",\"navy\",\"navy\",\"navy\",\"navy\",\"navy\",\"navy\",\"navy\",\"navy\",\"navy\",\"navy\",\"navy\",\"navy\",\"navy\",\"navy\",\"navy\",\"navy\",\"navy\",\"navy\",\"navy\",\"navy\",\"navy\",\"navy\",\"navy\",\"navy\",\"navy\",\"navy\",\"navy\",\"navy\",\"navy\",\"navy\",\"navy\",\"navy\",\"navy\",\"navy\",\"navy\",\"navy\",\"navy\",\"navy\",\"navy\",\"navy\",\"navy\",\"navy\",\"navy\",\"navy\",\"navy\",\"navy\",\"navy\",\"navy\",\"navy\",\"navy\",\"navy\",\"navy\",\"navy\",\"navy\",\"navy\",\"navy\",\"navy\",\"navy\",\"navy\",\"navy\",\"navy\",\"navy\",\"navy\",\"navy\",\"navy\",\"navy\",\"navy\",\"navy\",\"navy\",\"navy\",\"navy\",\"navy\",\"navy\",\"navy\",\"navy\",\"navy\",\"navy\",\"navy\",\"navy\",\"navy\",\"navy\",\"navy\",\"navy\",\"navy\",\"navy\",\"navy\",\"navy\",\"navy\",\"navy\",\"navy\",\"navy\",\"navy\",\"navy\",\"navy\",\"navy\",\"navy\",\"navy\",\"navy\",\"navy\",\"navy\",\"navy\",\"navy\",\"navy\",\"navy\",\"navy\",\"navy\",\"navy\",\"navy\",\"navy\",\"navy\",\"navy\",\"navy\",\"navy\",\"navy\",\"navy\",\"navy\",\"navy\",\"navy\",\"navy\",\"navy\",\"navy\",\"navy\",\"navy\",\"navy\",\"navy\",\"navy\",\"navy\",\"navy\",\"navy\",\"navy\",\"navy\",\"navy\",\"navy\",\"navy\",\"navy\",\"navy\",\"navy\",\"navy\",\"navy\",\"navy\",\"navy\",\"navy\",\"navy\",\"navy\",\"navy\",\"navy\",\"navy\",\"navy\",\"navy\",\"navy\",\"navy\",\"navy\",\"navy\",\"navy\",\"navy\",\"navy\",\"navy\",\"navy\",\"navy\",\"navy\",\"navy\",\"navy\",\"navy\",\"navy\",\"navy\",\"navy\",\"navy\",\"navy\",\"navy\",\"navy\",\"navy\",\"navy\",\"navy\",\"navy\",\"navy\",\"navy\",\"navy\",\"navy\",\"navy\",\"navy\",\"navy\",\"navy\",\"navy\",\"navy\",\"navy\",\"navy\",\"navy\",\"navy\",\"navy\",\"navy\",\"navy\",\"navy\"],\"x\":[0.2539071911560091,0.9842796454306334,0.19670982082152633,0.44611106297251535,0.7597129603614731,0.76975929962014,0.04885904964659582,0.06943241094145913,0.013404745415251162,0.4150054344517,0.43898999572409736,0.3098100147747853,0.5191531725523528,0.43606582626076273,0.45270719974253926,0.21636312280808723,0.7226502038768425,0.7024167996177999,0.1898186990578249,0.6979622174454465,0.6628580723144463,0.7879860172595435,0.29607916656580835,0.56172673969605,0.8828783539030935,0.6488559297089045,0.5722376479096789,0.028136133551055265,0.7926834194559178,0.7473588370298918,0.4384503577381347,0.43310045471281267,0.31180886602058844,0.4099902317058588,0.8421686738198988,0.7111548600047741,0.276748863182232,0.7519301571686532,0.6657193308271022,0.3117550254120369,0.6626825846947428,0.9955385023272929,0.8655349416900189,0.9887876326295971,0.9381801676518097,0.8891193135695223,0.4102412112384013,0.43009347394679165,0.017129810479975527,0.323666535523748,0.9553169928035379,0.05805166316705257,0.11683501976213595,0.9125460469628262,0.09559965404157311,0.06411567745944591,0.5602550510984462,0.028336725916077832,0.2635517721827634,0.08517766148315387,0.15369111174078642,0.25535965371023306,0.6413563164407678,0.935771871095298,0.8284714187887422,0.06078043179445225,0.626090731181268,0.09779744234084309,0.554679914187898,0.8698032836965502,0.7780082704068964,0.6959326923382143,0.25318201605769697,0.5582300316746873,0.18056126980922438,0.3256402090866497,0.7590553946711363,0.17074119045493485,0.5937066976368126,0.8871599266234408,0.2685171409680869,0.17073038785503103,0.5419114779165151,0.45114125592906673,0.4504584330663578,0.7823251948485873,0.19779148335615582,0.9248143307952245,0.999172941723373,0.17708920613921753,0.12341622046172185,0.3660937750493105,0.31027585666122837,0.1079501077933096,0.4902259324598418,0.8590233446787402,0.131543074962707,0.42279993366664315,0.7986335140544326,0.5250996619514299,0.26297865983166013,0.9032870528138958,0.9754358866944514,0.4583487602764914,0.7705500200310521,0.8984229415890421,0.22839996062872836,0.9399737831261441,0.5412407992837083,0.030831473918389696,0.2815999755317038,0.9683388158080252,0.7169073146297918,0.05083079263428092,0.22553576786888585,0.35111509990146295,0.45552394850850797,0.13333070093696897,0.4456308313579146,0.628467678257656,0.9933584819252449,0.5294371240846477,0.6815897828463097,0.4815300430731875,0.9648152783128724,0.08930717235253094,0.08286465006377064,0.5576697924277992,0.8854636725653815,0.0021930977018724818,0.12007022248447363,0.7013411283039022,0.45733721651670767,0.5475463428460122,0.04350819936125072,0.9012320384255824,0.01690030623886274,0.2588943922150496,0.3318301768518528,0.7915815887183277,0.577618476991963,0.4035553128763102,0.34201054054069235,0.24508174075820677,0.343827539216797,0.630818159340987,0.8408328942414504,0.7402224463805905,0.9187684707832756,0.4784969800928036,0.7351841792355426,0.43072390607289723,0.8017478069133381,0.8481884306496233,0.7166215833922477,0.13801568529461605,0.9230280511997724,0.18020233226040994,0.22846745244316657,0.15401086472326353,0.49100925971943754,0.22054938228589216,0.40538388579342655,0.5288605883334607,0.9885497583885755,0.547743123521065,0.16833095565821088,0.628628441306152,0.7835441139750284,0.23516980805851662,0.8338647339813221,0.8795357899959709,0.7021519607730049,0.9590955089672012,0.8607618242180727,0.3707277263808689,0.6067595830193687,0.9927311887602263,0.8856683483926232,0.8607796868256196,0.4101529147972529,0.22312571315105456,0.6133373807222402,0.5179647460735787,0.25694706359773567,0.016959615109837234,0.8341448064906777,0.5373187999472944,0.06677171343994348,0.013603184660995638,0.9838878220664947,0.4608470672593389,0.284137875829088,0.4239232051064983,0.46670014712241514,0.4875636789725126,0.05003332989315912,0.3961814387272309,0.3356383414056133,0.005950042148862411,0.5535680557670881,0.4728629297367828,0.9442759525282303,0.8247334060805196,0.9010950909276302,0.10858269012835153,0.2904266102584583,0.9132790540942158,0.7428801369005322,0.7007656280699657,0.3634019157925381,0.244247987784742,0.2834805596147134,0.07995867686063285,0.05880170105865545,0.7886090692225929,0.8756412867804523,0.4713326102905704,0.4619627544509275,0.8931700147908075,0.27064624090207157,0.5454794200290546,0.720955022805798,0.33609142442509354,0.5466112759352743,0.8713068393362428,0.5327450130061925,0.07539007517154528,0.26777142922257846,0.6891207170032674,0.5078660563800351,0.23675853181335926,0.7759506010027515,0.17721189371348778,0.3484581197707124,0.8829190915144306,0.1081252514437262,0.5983197641258022,0.5736673511068973,0.4234173037596479,0.020775778864293604,0.8090409802418808,0.49626694282235095,0.7258185841287872,0.2714164917396843,0.047080484001774,0.23146721660126457,0.7308209580107862,0.42108831512970224,0.4901401724194745,0.6580981605375267,0.40280556765643605,0.1387030492584591,0.3256901751502963,0.6736135282804103,0.8897716226927511,0.44646156561009986,0.30261026047987927,0.6870597600883186,0.5421298375318122,0.9804844303023434,0.8591817264467427,0.5515191968462267,0.004048551317307525,0.6011010377587394,0.6403780241145542,0.11159200006175429,0.9148530531734371,0.38430487040667605,0.13766243440724424,0.9172026712695253,0.9964109180083839,0.24132300630854164,0.9454283698639712,0.5261035755677647,0.6351153212288193,0.04877405598522555,0.8407824494658055,0.21677670425247553,0.4703073053519863,0.4455358550001626,0.10393095690922838,0.6567648782172848,0.06055913270343516,0.038228198209555586,0.5805270026909706,0.4378945118320726,0.07935195669271877,0.49204520735565016,0.8567194612188009,0.5150626854041346,0.6746433137325408,0.39693338249682053,0.09598107644933618,0.44027635065560167,0.7381690952831036,0.0392844822731061,0.39897174932159873,0.3933172615156967,0.9128025307359868,0.2106077257373551,0.6284813458057945,0.6541883116292361,0.6994441455248682,0.19646013276398722,0.7229114628672065,0.8122206745444637,0.9292361812661183,0.6061074709884313,0.8116185522226915,0.4599193741181504,0.9391298983558778,0.7661359303576938,0.6993053757851345,0.9582462035425862,0.5083296119274002,0.2149411816020257,0.536913503872646,0.8998646887924909,0.5425983468036706,0.7556269585659205,0.8815857775803373,0.8718402144208562,0.3643146980050268,0.9615687475324698,0.044332281161096665,0.25714577937108696,0.9745290214102988,0.0884688113948866,0.03413888467941839,0.30018361152250594,0.3113663198457499,0.8363128478674663,0.2191820704598687,0.431413498547236,0.17689243439547653,0.5295474575024395,0.4685042606890276,0.8037811369997718,0.38196103781335133,0.026354270987298367,0.15318162811325498,0.870896654696581,0.7981672907502092,0.2819794197161648,0.41831029938245157,0.7554978572608504,0.38412899297418956,0.3584009191184727,0.011759725315394709,0.1287359460378401,0.2817860142203227,0.8966636493591317,0.5163488971976627,0.2999683370255479,0.865615031839223,0.5598926754103929,0.626423113594138,0.001723920337679541,0.027285841285820678,0.5467591757314266,0.2097128685588503,0.0769996842838937,0.8875783387234363,0.27908447821212445,0.7957729699614243,0.8359167520354414,0.2962442735301658,0.044135983090472064,0.8890061245627079,0.9755431019589798,0.7010307935204676,0.8601490583728663,0.5527083757824436,0.18843124958477553,0.015296112744891177,0.5087876403021467,0.7890859961191702,0.06287554785732596,0.7790608069249133,0.289731903697915,0.70768911694352,0.6882947164848418,0.3530317622721766,0.1580112044731753,0.5995344623803295,0.912722128479887,0.30421195928306555,0.7422992821357799,0.7315293521548706,0.052805968488829236,0.8609579115756986,0.6538404878319513,0.1110658858301089,0.3308723493939659,0.0723566442174789,0.03143056441364034,0.5309192924451793,0.5072925010453133,0.7337265197111613,0.0666666220850588,0.46516702558391276,0.7130583280834843,0.5402664979717166,0.5394335914240648,0.46806750422430543,0.9930966596199955,0.6390373645538849,0.31727612823839013,0.26392368769649677,0.12763593046906985,0.8771746416361257,0.03450359410834869,0.6221616597130799,0.30581734183960774,0.2105591492430774,0.681065873819039,0.332679308153358,0.05610947180025827,0.8580060339326899,0.32713435373530986,0.7354472833438934,0.5278615821601225,0.26418156950906146,0.9500708452827279,0.4459505577183196,0.9989653560399516,0.2202418787705025,0.4144165412173577,0.11518095141129203,0.847216785542753,0.6408456807052759,0.48334857196861647,0.04788949665276998,0.7824125486722793,0.23648675500342775,0.295109801613864,0.32424520005592083,0.3943285557760836,0.60682889667259,0.030266055387468405,0.42247189354313985,0.5386748744974114,0.6886777191122125,0.3772877403537709,0.4096466011590306,0.4934017217636093,0.9294619962859397,0.5989280972247389,0.3782360602248924,0.6492753076554574,0.3606366341870957,0.7559666388467438,0.35366402388766394,0.5741317172114591,0.06851776808169807,0.16799550532028018,0.39929896379347707,0.8106112352552477,0.07801888585699324,0.11390157168346571,0.2499671199520126,0.2144255660803236,0.31143515782320697,0.8143597177377998,0.2903356085371248,0.3547010075972218,0.015396590290514656,0.5266585899525942,0.545067738852928,0.6346342619929282,0.18407364601000065,0.728044221090849,0.4933198374096883,0.23077541600336415,0.039038421002391854,0.4464769474496577,0.7605162253779655,0.2049686813158248,0.2753451488844675,0.48342521952066086,0.14755480188150105,0.27885214625369537,0.4033607781428262,0.40211270135614763,0.1359877209756628,0.39726337871089834,0.894588297886742,0.5512547492409834,0.4629213028458852,0.11396550726226629,0.4170670426914732,0.12499901811987002,0.8053408272745871,0.4145818872120871,0.1763058105727302,0.0014374250686184364,0.9298250669082693,0.4289308256684009,0.271268022235689],\"y\":[0.8118112372483124,0.30320680444840475,0.8409883259837433,0.3057770306519333,0.808793162196446,0.41692747842171995,0.9569605278566394,0.4648736490566683,0.37119728415905895,0.4441698259136343,0.5990538613138847,0.5263416949822904,0.395073702758163,0.322639425378344,0.40513043335110854,0.4950970908123117,0.49118342939215187,0.04278274039771546,0.6651871998182626,0.48382402149998616,0.9772505318938479,0.8456360716320995,0.37264919239372296,0.9437900606313119,0.7606264041418699,0.09593429116574714,0.2784595719072075,0.15771126629310017,0.8050356677042734,0.04100608933342065,0.8035939442637128,0.1771969434102123,0.8102014452052702,0.44966361855842496,0.688299325036712,0.9612690423324621,0.658145851665693,0.6788377124526133,0.6295424320310394,0.8085178783515659,0.027010560612726553,0.15016246491691665,0.3237349034723941,0.47815793263237694,0.8281336676986888,0.2911906873651491,0.7768839786681236,0.8244303330006635,0.7879870155650661,0.03176661558822924,0.03576299284213913,0.17613243990039051,0.7345639452745857,0.6707515093628524,0.8535095250792816,0.36898735198185384,0.23971890015942243,0.012910567371382187,0.2022600638485511,0.2773397262121595,0.5589052156602804,0.20732531092939444,0.18322108314072516,0.17993287514005585,0.06880673148742888,0.07498488372040679,0.4344366678457712,0.4935470745167636,0.693248798397996,0.16252842975388992,0.6297189610389131,0.34701939301155404,0.4015401249017495,0.779787531190795,0.2934533082704015,0.8700983485496082,0.3653312065247275,0.1605815400459618,0.9843503284892058,0.40163132928410317,0.7655250611119359,0.6943318396573034,0.15777971384067135,0.23047080215832128,0.5371231097636612,0.07253740462697611,0.4970791634610111,0.6069146211169135,0.05483606673918706,0.9282934775705142,0.8811591662632129,0.8881804941531519,0.9739205830861041,0.7549325258787605,0.0943440217791488,0.5754301427637905,0.3806847875065926,0.591515888763176,0.3015597898572948,0.8512851296936796,0.892514962773119,0.6647033023082503,0.51832052896279,0.5635497365862636,0.9609833134031155,0.5957570833061895,0.09734050422311025,0.3326323049171226,0.22981409954239218,0.6193534739259573,0.8703987905914584,0.7932205815790982,0.08798336856209132,0.6227466833768063,0.42217462583961096,0.4214141947669101,0.6793494475146644,0.9221967976135278,0.06601151965225482,0.8357287832493329,0.04480593630150753,0.7182735759775959,0.8063000858235142,0.7467141836646267,0.732172197247019,0.05997751396565287,0.5627595849138038,0.217273171648244,0.6530900867634644,0.9053152122870357,0.2712988574827072,0.2924269652064666,0.9188012586579826,0.5247571862303605,0.21280547459140808,0.9186957731407002,0.23804484379085877,0.8599468365650479,0.5057622195647633,0.519805372926224,0.5694590626258178,0.3317138172309916,0.23830491972082057,0.13559684563106622,0.08658549734456722,0.5259541009837431,0.43837975065775747,0.817587175227242,0.30554121079301355,0.7885650509738765,0.7091314133955975,0.59425077069556,0.9229441830745297,0.7316623455097524,0.58754095004105,0.6156189211972203,0.4559159225624979,0.7707859306977546,0.1389750712004425,0.26036672770777436,0.24535192681183426,0.7386634536625111,0.11720087760778619,0.6595804997669912,0.6409360431626788,0.5921095932038758,0.09078324800074544,0.2483197321543783,0.9870789611780844,0.3405387952289338,0.4308880612229187,0.12371835897448913,0.309963073727769,0.6875276678827336,0.4739571246838169,0.11079927932726363,0.4010911447720331,0.4371995442263522,0.7820502522465129,0.7653725714263573,0.7571425063566414,0.43276107172275424,0.7405970153629857,0.23529179971825998,0.8837745412999614,0.5341150351935778,0.23567156986925442,0.20209589190937438,0.5787920999261087,0.8467938301937327,0.6205562001555013,0.3674086216059864,0.3263881039167783,0.33446255722809404,0.13479511781751685,0.0319141015813591,0.9172302166310929,0.6097897829992908,0.8636565236416364,0.05149823714283064,0.23857914488516363,0.5039629689468013,0.8029592099067931,0.9339005962979862,0.4382045434625854,0.5008713037954681,0.96508447195422,0.3539781116003762,0.7178852197459614,0.7177334955349854,0.2772844602150688,0.6750654449495566,0.7488765129932529,0.6198488932731784,0.19209305163270596,0.7671291067203043,0.3838794335968331,0.030992348344272558,0.15169959720262316,0.7335581255751868,0.06700629554132154,0.29317254252272607,0.9621763818791482,0.6425390099088614,0.7573462813088576,0.6984150587051101,0.6382465996101067,0.1577122448522471,0.635514779753217,0.7912220419628077,0.9684464471357738,0.1507686009205106,0.3906694957530916,0.82790591086981,0.7732254638977057,0.46742281282362974,0.15782981075227176,0.18980065220041997,0.4967396082498844,0.5943516139170494,0.3679405921609483,0.17284394242083134,0.03487995479403816,0.11969441384801138,0.5432688878691795,0.6968046235137345,0.7842282762094013,0.8675932360968718,0.4066708362621525,0.13409054554174682,0.24612842275991476,0.27849840352873634,0.14009573740784576,0.5010794443583506,0.5063321980764418,0.811135867002365,0.38881445343026355,0.014838314631060001,0.08912033703879318,0.2442022094914167,0.4888274971721853,0.42872860303602955,0.9292025507305339,0.8278289820495124,0.675107031052272,0.4343538788276009,0.5681903497060514,0.2598752833382588,0.3010910739107442,0.2026659592358797,0.5768724900163872,0.9441079357244966,0.7183067271276724,0.6512923091189031,0.8421549420178619,0.07520142708200461,0.7188958690096098,0.0778453506061636,0.8774163360492016,0.09796084003236016,0.27908371551276234,0.7507461253838189,0.6482824083586589,0.6897144567426857,0.005305220370797503,0.5204007520060406,0.1794072236626698,0.39538891746037064,0.8832633554269508,0.675652633618321,0.0047598980423974036,0.509187797217233,0.4900879822781472,0.840057537304587,0.1198582344166379,0.6398742214152349,0.8608908485241037,0.6637415342716486,0.02156244073841418,0.6440777173914206,0.2998449603519536,0.4060951873368691,0.978322884376594,0.21394542850886233,0.8071381414789355,0.9945043104911949,0.4922501436062946,0.06424373378425607,0.5183166431725291,0.4302208301865783,0.6090389457753764,0.4398453067670146,0.1567997381299563,0.2396559205998846,0.8812389284507699,0.11392806896945717,0.38288586277620185,0.5599294245503528,0.215909750633268,0.25204128526883063,0.4761501490868878,0.5488937856005626,0.8611465697502104,0.10126040119602064,0.4815448533262807,0.6263996389848937,0.9554134366659888,0.11018595388718422,0.9511295873536566,0.28619493275262997,0.4923224108525671,0.8417104867030707,0.45336107846582585,0.4446624886385988,0.09680911738214049,0.40952771545932165,0.36670026310443404,0.9754036232188021,0.9124460191078343,0.8915551881434243,0.6237798187079009,0.40939966541905604,0.40149943240532915,0.021967491587481014,0.028325855673764666,0.34624489691758953,0.7213106756896659,0.0979671452243367,0.21904880263644044,0.70343054722663,0.21567356849373243,0.5818220866986155,0.10305298372762794,0.7443226383256186,0.7090124660020263,0.5282670699163607,0.6124384465814097,0.05686121361076579,0.19022162738160098,0.5278605884071739,0.36387674991056906,0.25122509262290027,0.042370458146057444,0.060847194237266145,0.8551888966338027,0.007046103071045362,0.09957886688972661,0.7657269990849902,0.5889032999379911,0.9004689177512574,0.4492602815285963,0.10311860174481546,0.43116751189215163,0.9890376610626229,0.7026319941463024,0.8147521061318644,0.48776000369152905,0.9287928375200083,0.15199620487025933,0.05993574995412376,0.7290847159143505,0.1045566971382047,0.10194780649220925,0.5478441661030745,0.9215162439837813,0.7532990253409135,0.41199765817344336,0.4642489100657301,0.9545003826921168,0.6904005084515243,0.13357680555825313,0.3118016519233948,0.7309157972964903,0.650139602719513,0.6479099709995347,0.8570432808192724,0.7048765193453903,0.3837132558472046,0.1819597607012604,0.25162071187003476,0.15236429690672149,0.3294863209602078,0.8560619824333788,0.551787111910449,0.32251865122775125,0.7980653201812932,0.9832691998930183,0.5926522756432571,0.371771285566296,0.0024007120179028174,0.2893839810561645,0.694078506220011,0.5959501196995716,0.9639636744673166,0.16055764506801395,0.6191938804153501,0.6395783396287273,0.5668854515364627,0.8335142608660676,0.3223857303947085,0.7555689260518094,0.054766228833298625,0.07717263138873909,0.8955963581065786,0.738880075715921,0.6434612827646011,0.8680113047899073,0.43327009216631907,0.0043551669826510375,0.6778652610170551,0.7384166415331743,0.32178275280523294,0.9312148854959255,0.7471817595053857,0.5587823276541541,0.06703943885096264,0.4455363214914634,0.558561096973521,0.2825793767270429,0.1148817417737642,0.8072507408843538,0.08091282058172722,0.8581910339089426,0.8823611253129799,0.9592989269739423,0.4697722326912135,0.998193446819419,0.8488599673494113,0.4355600117816867,0.8468163014741716,0.7357449913775728,0.13681248562415682,0.9111176578104634,0.015662023408257175,0.49361650266745716,0.03322242905513817,0.06268616336240618,0.8127445686773296,0.28251184760710013,0.44341902559987656,0.5594415332225324,0.7113865589212633,0.7311689902803447,0.46725937167348863,0.9721429225805875,0.5046684624652359,0.664223597003643,0.23095297777302815,0.2625552739518614,0.4732916624038964,0.8185641838065221,0.6659757150883163,0.7668139081051764,0.8602338343326879,0.39179115220206984,0.9052521352227044,0.7541958542674418,0.32410246446603264,0.6102467665662337,0.5731985577459614,0.7291747763200707,0.32274943554359037,0.4248373999978239,0.00018870177615004646,0.8822542626446589,0.573001053193683,0.8335138988579699,0.7838428667960312,0.24477903531232337,0.24268331536780618,0.4764643688020983,0.15204556098153432,0.6428694576813494,0.42761665714375485,0.16278918599844694,0.5403339191878956,0.03654388878421222,0.1268925292544636,0.3541330226218652,0.8423703702380754]}},\"id\":\"8f22c7f9-42cf-4a77-bcbb-e812f111db38\",\"type\":\"ColumnDataSource\"},{\"attributes\":{\"data_source\":{\"id\":\"8f22c7f9-42cf-4a77-bcbb-e812f111db38\",\"type\":\"ColumnDataSource\"},\"glyph\":{\"id\":\"bfc115bb-8461-470c-b93a-50cbe776dc22\",\"type\":\"Circle\"},\"hover_glyph\":null,\"muted_glyph\":null,\"nonselection_glyph\":{\"id\":\"52872cd2-0bd4-47f8-8ced-a15bccb49718\",\"type\":\"Circle\"},\"selection_glyph\":null,\"view\":{\"id\":\"a514fea1-ff15-4a19-bd45-bebdff590c6a\",\"type\":\"CDSView\"}},\"id\":\"8ff72617-cdf1-4613-b83c-3a281b5bad78\",\"type\":\"GlyphRenderer\"},{\"attributes\":{\"formatter\":{\"id\":\"b58e5cb0-d6cc-478c-8e9a-049a8a57bb06\",\"type\":\"BasicTickFormatter\"},\"plot\":{\"id\":\"efe4ea86-81d8-482f-87bf-a3c93467af71\",\"subtype\":\"Figure\",\"type\":\"Plot\"},\"ticker\":{\"id\":\"eafc2437-b6eb-4ce2-b63c-3cd669940880\",\"type\":\"BasicTicker\"}},\"id\":\"50950228-26fd-46fd-af0a-bd5929f81e76\",\"type\":\"LinearAxis\"},{\"attributes\":{},\"id\":\"ae226b6c-792f-4be2-8a69-a656feb1e27c\",\"type\":\"LinearScale\"},{\"attributes\":{\"fill_alpha\":{\"value\":0.4},\"fill_color\":{\"field\":\"color\"},\"line_alpha\":{\"value\":0.4},\"line_color\":{\"field\":\"color\"},\"size\":{\"units\":\"screen\",\"value\":8},\"x\":{\"field\":\"x\"},\"y\":{\"field\":\"y\"}},\"id\":\"bfc115bb-8461-470c-b93a-50cbe776dc22\",\"type\":\"Circle\"},{\"attributes\":{\"active_drag\":\"auto\",\"active_inspect\":\"auto\",\"active_scroll\":\"auto\",\"active_tap\":\"auto\",\"tools\":[{\"id\":\"89c00b64-1ecd-4028-82d3-62f5ff40127b\",\"type\":\"LassoSelectTool\"}]},\"id\":\"a5bbd0c9-d126-4f9c-877b-bf0d988d710d\",\"type\":\"Toolbar\"},{\"attributes\":{\"source\":{\"id\":\"8f22c7f9-42cf-4a77-bcbb-e812f111db38\",\"type\":\"ColumnDataSource\"}},\"id\":\"a514fea1-ff15-4a19-bd45-bebdff590c6a\",\"type\":\"CDSView\"},{\"attributes\":{\"data_source\":{\"id\":\"ec9aaa45-f037-46ec-bbd8-52e5dffa2cce\",\"type\":\"ColumnDataSource\"},\"glyph\":{\"id\":\"d2ea5977-53da-45eb-9579-3e5b1d64f181\",\"type\":\"Line\"},\"hover_glyph\":null,\"muted_glyph\":null,\"nonselection_glyph\":{\"id\":\"9a5a5f36-95ab-47ce-8a55-c55f2f1a9a53\",\"type\":\"Line\"},\"selection_glyph\":null,\"view\":{\"id\":\"95ce02fb-03b0-4f18-b6fa-5515d20e8d3f\",\"type\":\"CDSView\"}},\"id\":\"41eb313e-d176-49b2-8cdf-ad94a6bcdc7f\",\"type\":\"GlyphRenderer\"},{\"attributes\":{},\"id\":\"8587492d-4a7f-4146-94d3-fc140359b007\",\"type\":\"LinearScale\"},{\"attributes\":{\"callback\":null},\"id\":\"3324f598-b155-49ca-9c0a-aa7490bb4fa3\",\"type\":\"DataRange1d\"},{\"attributes\":{\"callback\":null},\"id\":\"919f79a0-2c92-45c6-a150-c360dc1feae0\",\"type\":\"DataRange1d\"},{\"attributes\":{\"args\":{\"s2\":{\"id\":\"ec9aaa45-f037-46ec-bbd8-52e5dffa2cce\",\"type\":\"ColumnDataSource\"}},\"code\":\"\\n    var inds = cb_obj.get('selected')['1d'].indices;\\n    var d = cb_obj.get('data');\\n    var ym = 0\\n    \\n    if (inds.length == 0) { return; }\\n    \\n    for (i = 0; i < d['color'].length; i++) {\\n        d['color'][i] = \\\"navy\\\"\\n    }\\n    for (i = 0; i < inds.length; i++) {\\n        d['color'][inds[i]] = \\\"firebrick\\\"\\n        ym += d['y'][inds[i]]\\n    }\\n    \\n    ym /= inds.length\\n    s2.get('data')['ym'] = [ym, ym]\\n    \\n    cb_obj.trigger('change');\\n    s2.trigger('change');\\n\"},\"id\":\"4fa241b0-639b-450a-8759-9168c3531719\",\"type\":\"CustomJS\"},{\"attributes\":{},\"id\":\"eafc2437-b6eb-4ce2-b63c-3cd669940880\",\"type\":\"BasicTicker\"},{\"attributes\":{},\"id\":\"b58e5cb0-d6cc-478c-8e9a-049a8a57bb06\",\"type\":\"BasicTickFormatter\"},{\"attributes\":{\"plot\":{\"id\":\"efe4ea86-81d8-482f-87bf-a3c93467af71\",\"subtype\":\"Figure\",\"type\":\"Plot\"},\"ticker\":{\"id\":\"eafc2437-b6eb-4ce2-b63c-3cd669940880\",\"type\":\"BasicTicker\"}},\"id\":\"014d97d4-745a-4744-aff1-c6d19b11e9a6\",\"type\":\"Grid\"},{\"attributes\":{\"callback\":null,\"column_names\":[\"xm\",\"ym\"],\"data\":{\"xm\":[0,1],\"ym\":[0.5,0.5]}},\"id\":\"ec9aaa45-f037-46ec-bbd8-52e5dffa2cce\",\"type\":\"ColumnDataSource\"},{\"attributes\":{},\"id\":\"ad00e118-d28e-43b4-9aca-0f116561a7ac\",\"type\":\"BasicTicker\"},{\"attributes\":{\"fill_alpha\":{\"value\":0.5},\"fill_color\":{\"value\":\"lightgrey\"},\"level\":\"overlay\",\"line_alpha\":{\"value\":1.0},\"line_color\":{\"value\":\"black\"},\"line_dash\":[4,4],\"line_width\":{\"value\":2},\"plot\":null,\"xs_units\":\"screen\",\"ys_units\":\"screen\"},\"id\":\"e94faae0-af3b-44f0-8022-8803cade6d74\",\"type\":\"PolyAnnotation\"},{\"attributes\":{\"line_alpha\":{\"value\":0.6},\"line_color\":{\"value\":\"orange\"},\"line_width\":{\"value\":5},\"x\":{\"field\":\"xm\"},\"y\":{\"field\":\"ym\"}},\"id\":\"d2ea5977-53da-45eb-9579-3e5b1d64f181\",\"type\":\"Line\"},{\"attributes\":{\"dimension\":1,\"plot\":{\"id\":\"efe4ea86-81d8-482f-87bf-a3c93467af71\",\"subtype\":\"Figure\",\"type\":\"Plot\"},\"ticker\":{\"id\":\"ad00e118-d28e-43b4-9aca-0f116561a7ac\",\"type\":\"BasicTicker\"}},\"id\":\"4cc30e0a-8c23-43d7-9406-21439e44a839\",\"type\":\"Grid\"},{\"attributes\":{\"formatter\":{\"id\":\"6288d726-b5d6-4120-926a-9097545fb4c0\",\"type\":\"BasicTickFormatter\"},\"plot\":{\"id\":\"efe4ea86-81d8-482f-87bf-a3c93467af71\",\"subtype\":\"Figure\",\"type\":\"Plot\"},\"ticker\":{\"id\":\"ad00e118-d28e-43b4-9aca-0f116561a7ac\",\"type\":\"BasicTicker\"}},\"id\":\"a02b2e98-961c-47c5-904f-70fc3ff43789\",\"type\":\"LinearAxis\"},{\"attributes\":{\"source\":{\"id\":\"ec9aaa45-f037-46ec-bbd8-52e5dffa2cce\",\"type\":\"ColumnDataSource\"}},\"id\":\"95ce02fb-03b0-4f18-b6fa-5515d20e8d3f\",\"type\":\"CDSView\"},{\"attributes\":{},\"id\":\"6288d726-b5d6-4120-926a-9097545fb4c0\",\"type\":\"BasicTickFormatter\"},{\"attributes\":{\"below\":[{\"id\":\"50950228-26fd-46fd-af0a-bd5929f81e76\",\"type\":\"LinearAxis\"}],\"left\":[{\"id\":\"a02b2e98-961c-47c5-904f-70fc3ff43789\",\"type\":\"LinearAxis\"}],\"plot_height\":400,\"plot_width\":400,\"renderers\":[{\"id\":\"50950228-26fd-46fd-af0a-bd5929f81e76\",\"type\":\"LinearAxis\"},{\"id\":\"014d97d4-745a-4744-aff1-c6d19b11e9a6\",\"type\":\"Grid\"},{\"id\":\"a02b2e98-961c-47c5-904f-70fc3ff43789\",\"type\":\"LinearAxis\"},{\"id\":\"4cc30e0a-8c23-43d7-9406-21439e44a839\",\"type\":\"Grid\"},{\"id\":\"e94faae0-af3b-44f0-8022-8803cade6d74\",\"type\":\"PolyAnnotation\"},{\"id\":\"8ff72617-cdf1-4613-b83c-3a281b5bad78\",\"type\":\"GlyphRenderer\"},{\"id\":\"41eb313e-d176-49b2-8cdf-ad94a6bcdc7f\",\"type\":\"GlyphRenderer\"}],\"title\":{\"id\":\"b65cbfe4-2df0-4b71-9205-d70d48a794eb\",\"type\":\"Title\"},\"toolbar\":{\"id\":\"a5bbd0c9-d126-4f9c-877b-bf0d988d710d\",\"type\":\"Toolbar\"},\"x_range\":{\"id\":\"919f79a0-2c92-45c6-a150-c360dc1feae0\",\"type\":\"DataRange1d\"},\"x_scale\":{\"id\":\"ae226b6c-792f-4be2-8a69-a656feb1e27c\",\"type\":\"LinearScale\"},\"y_range\":{\"id\":\"3324f598-b155-49ca-9c0a-aa7490bb4fa3\",\"type\":\"DataRange1d\"},\"y_scale\":{\"id\":\"8587492d-4a7f-4146-94d3-fc140359b007\",\"type\":\"LinearScale\"}},\"id\":\"efe4ea86-81d8-482f-87bf-a3c93467af71\",\"subtype\":\"Figure\",\"type\":\"Plot\"},{\"attributes\":{\"line_alpha\":{\"value\":0.1},\"line_color\":{\"value\":\"#1f77b4\"},\"line_width\":{\"value\":5},\"x\":{\"field\":\"xm\"},\"y\":{\"field\":\"ym\"}},\"id\":\"9a5a5f36-95ab-47ce-8a55-c55f2f1a9a53\",\"type\":\"Line\"},{\"attributes\":{\"fill_alpha\":{\"value\":0.1},\"fill_color\":{\"value\":\"#1f77b4\"},\"line_alpha\":{\"value\":0.1},\"line_color\":{\"value\":\"#1f77b4\"},\"size\":{\"units\":\"screen\",\"value\":8},\"x\":{\"field\":\"x\"},\"y\":{\"field\":\"y\"}},\"id\":\"52872cd2-0bd4-47f8-8ced-a15bccb49718\",\"type\":\"Circle\"},{\"attributes\":{\"plot\":null,\"text\":\"Select Here\"},\"id\":\"b65cbfe4-2df0-4b71-9205-d70d48a794eb\",\"type\":\"Title\"}],\"root_ids\":[\"efe4ea86-81d8-482f-87bf-a3c93467af71\"]},\"title\":\"Bokeh Application\",\"version\":\"0.12.10\"}};\n",
       "    var render_items = [{\"docid\":\"51855a94-1ad2-49d5-afeb-eaf26ad92539\",\"elementid\":\"05de42b9-6424-4d50-ab0c-67b765705217\",\"modelid\":\"efe4ea86-81d8-482f-87bf-a3c93467af71\"}];\n",
       "\n",
       "    root.Bokeh.embed.embed_items(docs_json, render_items);\n",
       "  }\n",
       "\n",
       "  if (root.Bokeh !== undefined) {\n",
       "    embed_document(root);\n",
       "  } else {\n",
       "    var attempts = 0;\n",
       "    var timer = setInterval(function(root) {\n",
       "      if (root.Bokeh !== undefined) {\n",
       "        embed_document(root);\n",
       "        clearInterval(timer);\n",
       "      }\n",
       "      attempts++;\n",
       "      if (attempts > 100) {\n",
       "        console.log(\"Bokeh: ERROR: Unable to embed document because BokehJS library is missing\")\n",
       "        clearInterval(timer);\n",
       "      }\n",
       "    }, 10, root)\n",
       "  }\n",
       "})(window);"
      ],
      "application/vnd.bokehjs_exec.v0+json": ""
     },
     "metadata": {
      "application/vnd.bokehjs_exec.v0+json": {
       "id": "efe4ea86-81d8-482f-87bf-a3c93467af71"
      }
     },
     "output_type": "display_data"
    }
   ],
   "source": [
    "from random import random\n",
    "\n",
    "x = [random() for x in range(500)]\n",
    "y = [random() for y in range(500)]\n",
    "color = [\"navy\"] * len(x)\n",
    "\n",
    "s = ColumnDataSource(data=dict(x=x, y=y, color=color))\n",
    "p = figure(plot_width=400, plot_height=400, tools=\"lasso_select\", title=\"Select Here\")\n",
    "p.circle('x', 'y', color='color', size=8, source=s, alpha=0.4)\n",
    "\n",
    "s2 = ColumnDataSource(data=dict(xm=[0,1],ym=[0.5, 0.5]))\n",
    "p.line(x='xm', y='ym', color=\"orange\", line_width=5, alpha=0.6, source=s2)\n",
    "\n",
    "s.callback = CustomJS(args=dict(s2=s2), code=\"\"\"\n",
    "    var inds = cb_obj.get('selected')['1d'].indices;\n",
    "    var d = cb_obj.get('data');\n",
    "    var ym = 0\n",
    "    \n",
    "    if (inds.length == 0) { return; }\n",
    "    \n",
    "    for (i = 0; i < d['color'].length; i++) {\n",
    "        d['color'][i] = \"navy\"\n",
    "    }\n",
    "    for (i = 0; i < inds.length; i++) {\n",
    "        d['color'][inds[i]] = \"firebrick\"\n",
    "        ym += d['y'][inds[i]]\n",
    "    }\n",
    "    \n",
    "    ym /= inds.length\n",
    "    s2.get('data')['ym'] = [ym, ym]\n",
    "    \n",
    "    cb_obj.trigger('change');\n",
    "    s2.trigger('change');\n",
    "\"\"\")\n",
    "\n",
    "show(p)\n"
   ]
  },
  {
   "cell_type": "code",
   "execution_count": null,
   "metadata": {},
   "outputs": [],
   "source": []
  }
 ],
 "metadata": {
  "kernelspec": {
   "display_name": "Python [conda root]",
   "language": "python",
   "name": "conda-root-py"
  },
  "language_info": {
   "codemirror_mode": {
    "name": "ipython",
    "version": 3
   },
   "file_extension": ".py",
   "mimetype": "text/x-python",
   "name": "python",
   "nbconvert_exporter": "python",
   "pygments_lexer": "ipython3",
   "version": "3.6.3"
  }
 },
 "nbformat": 4,
 "nbformat_minor": 2
}
