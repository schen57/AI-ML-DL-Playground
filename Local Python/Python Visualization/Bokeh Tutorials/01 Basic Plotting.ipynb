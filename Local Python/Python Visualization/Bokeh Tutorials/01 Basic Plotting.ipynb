{
 "cells": [
  {
   "cell_type": "markdown",
   "metadata": {},
   "source": [
    "# Base Plotting\n",
    "This section of the tutorial covers the bokeh.plotting interface. This interface is a \"mid-level\" interface, and the main idea can be described by the statement:\n",
    "\n",
    "Starting from simple default figures (with sensible default tools, grids and axes), add markers and other shapes whose visual attributes are tied to directly data.\n",
    "\n",
    "We will see that it is possible to customize and change all of the defaults, but having them means that it is possible to get up and running very quickly."
   ]
  },
  {
   "cell_type": "markdown",
   "metadata": {},
   "source": [
    "# Imports and Setup\n",
    "When using the bokeh.plotting interface, there are a few common imports:\n",
    "\n",
    "Use the figure function to create new plot objects to work with.\n",
    "Call the functions output_file, output_notebook, and output_server (possibly in combination) to tell Bokeh how to display or save output.\n",
    "Execute show and save to display or save plots and layouts."
   ]
  },
  {
   "cell_type": "code",
   "execution_count": 2,
   "metadata": {},
   "outputs": [],
   "source": [
    "from bokeh.io import output_notebook, show\n",
    "from bokeh.plotting import figure"
   ]
  },
  {
   "cell_type": "code",
   "execution_count": 3,
   "metadata": {},
   "outputs": [
    {
     "data": {
      "text/html": [
       "\n",
       "    <div class=\"bk-root\">\n",
       "        <a href=\"https://bokeh.pydata.org\" target=\"_blank\" class=\"bk-logo bk-logo-small bk-logo-notebook\"></a>\n",
       "        <span id=\"9c260996-bd4b-43e4-b03b-8e7bb24eed8a\">Loading BokehJS ...</span>\n",
       "    </div>"
      ]
     },
     "metadata": {},
     "output_type": "display_data"
    },
    {
     "data": {
      "application/javascript": [
       "\n",
       "(function(root) {\n",
       "  function now() {\n",
       "    return new Date();\n",
       "  }\n",
       "\n",
       "  var force = true;\n",
       "\n",
       "  if (typeof (root._bokeh_onload_callbacks) === \"undefined\" || force === true) {\n",
       "    root._bokeh_onload_callbacks = [];\n",
       "    root._bokeh_is_loading = undefined;\n",
       "  }\n",
       "\n",
       "  var JS_MIME_TYPE = 'application/javascript';\n",
       "  var HTML_MIME_TYPE = 'text/html';\n",
       "  var EXEC_MIME_TYPE = 'application/vnd.bokehjs_exec.v0+json';\n",
       "  var CLASS_NAME = 'output_bokeh rendered_html';\n",
       "\n",
       "  /**\n",
       "   * Render data to the DOM node\n",
       "   */\n",
       "  function render(props, node) {\n",
       "    var script = document.createElement(\"script\");\n",
       "    node.appendChild(script);\n",
       "  }\n",
       "\n",
       "  /**\n",
       "   * Handle when an output is cleared or removed\n",
       "   */\n",
       "  function handleClearOutput(event, handle) {\n",
       "    var cell = handle.cell;\n",
       "\n",
       "    var id = cell.output_area._bokeh_element_id;\n",
       "    var server_id = cell.output_area._bokeh_server_id;\n",
       "    // Clean up Bokeh references\n",
       "    if (id !== undefined) {\n",
       "      Bokeh.index[id].model.document.clear();\n",
       "      delete Bokeh.index[id];\n",
       "    }\n",
       "\n",
       "    if (server_id !== undefined) {\n",
       "      // Clean up Bokeh references\n",
       "      var cmd = \"from bokeh.io.state import curstate; print(curstate().uuid_to_server['\" + server_id + \"'].get_sessions()[0].document.roots[0]._id)\";\n",
       "      cell.notebook.kernel.execute(cmd, {\n",
       "        iopub: {\n",
       "          output: function(msg) {\n",
       "            var element_id = msg.content.text.trim();\n",
       "            Bokeh.index[element_id].model.document.clear();\n",
       "            delete Bokeh.index[element_id];\n",
       "          }\n",
       "        }\n",
       "      });\n",
       "      // Destroy server and session\n",
       "      var cmd = \"import bokeh.io.notebook as ion; ion.destroy_server('\" + server_id + \"')\";\n",
       "      cell.notebook.kernel.execute(cmd);\n",
       "    }\n",
       "  }\n",
       "\n",
       "  /**\n",
       "   * Handle when a new output is added\n",
       "   */\n",
       "  function handleAddOutput(event, handle) {\n",
       "    var output_area = handle.output_area;\n",
       "    var output = handle.output;\n",
       "\n",
       "    // limit handleAddOutput to display_data with EXEC_MIME_TYPE content only\n",
       "    if ((output.output_type != \"display_data\") || (!output.data.hasOwnProperty(EXEC_MIME_TYPE))) {\n",
       "      return\n",
       "    }\n",
       "\n",
       "    var toinsert = output_area.element.find(`.${CLASS_NAME.split(' ')[0]}`);\n",
       "\n",
       "    if (output.metadata[EXEC_MIME_TYPE][\"id\"] !== undefined) {\n",
       "      toinsert[0].firstChild.textContent = output.data[JS_MIME_TYPE];\n",
       "      // store reference to embed id on output_area\n",
       "      output_area._bokeh_element_id = output.metadata[EXEC_MIME_TYPE][\"id\"];\n",
       "    }\n",
       "    if (output.metadata[EXEC_MIME_TYPE][\"server_id\"] !== undefined) {\n",
       "      var bk_div = document.createElement(\"div\");\n",
       "      bk_div.innerHTML = output.data[HTML_MIME_TYPE];\n",
       "      var script_attrs = bk_div.children[0].attributes;\n",
       "      for (var i = 0; i < script_attrs.length; i++) {\n",
       "        toinsert[0].firstChild.setAttribute(script_attrs[i].name, script_attrs[i].value);\n",
       "      }\n",
       "      // store reference to server id on output_area\n",
       "      output_area._bokeh_server_id = output.metadata[EXEC_MIME_TYPE][\"server_id\"];\n",
       "    }\n",
       "  }\n",
       "\n",
       "  function register_renderer(events, OutputArea) {\n",
       "\n",
       "    function append_mime(data, metadata, element) {\n",
       "      // create a DOM node to render to\n",
       "      var toinsert = this.create_output_subarea(\n",
       "        metadata,\n",
       "        CLASS_NAME,\n",
       "        EXEC_MIME_TYPE\n",
       "      );\n",
       "      this.keyboard_manager.register_events(toinsert);\n",
       "      // Render to node\n",
       "      var props = {data: data, metadata: metadata[EXEC_MIME_TYPE]};\n",
       "      render(props, toinsert[0]);\n",
       "      element.append(toinsert);\n",
       "      return toinsert\n",
       "    }\n",
       "\n",
       "    /* Handle when an output is cleared or removed */\n",
       "    events.on('clear_output.CodeCell', handleClearOutput);\n",
       "    events.on('delete.Cell', handleClearOutput);\n",
       "\n",
       "    /* Handle when a new output is added */\n",
       "    events.on('output_added.OutputArea', handleAddOutput);\n",
       "\n",
       "    /**\n",
       "     * Register the mime type and append_mime function with output_area\n",
       "     */\n",
       "    OutputArea.prototype.register_mime_type(EXEC_MIME_TYPE, append_mime, {\n",
       "      /* Is output safe? */\n",
       "      safe: true,\n",
       "      /* Index of renderer in `output_area.display_order` */\n",
       "      index: 0\n",
       "    });\n",
       "  }\n",
       "\n",
       "  // register the mime type if in Jupyter Notebook environment and previously unregistered\n",
       "  if (root.Jupyter !== undefined) {\n",
       "    var events = require('base/js/events');\n",
       "    var OutputArea = require('notebook/js/outputarea').OutputArea;\n",
       "\n",
       "    if (OutputArea.prototype.mime_types().indexOf(EXEC_MIME_TYPE) == -1) {\n",
       "      register_renderer(events, OutputArea);\n",
       "    }\n",
       "  }\n",
       "\n",
       "  \n",
       "  if (typeof (root._bokeh_timeout) === \"undefined\" || force === true) {\n",
       "    root._bokeh_timeout = Date.now() + 5000;\n",
       "    root._bokeh_failed_load = false;\n",
       "  }\n",
       "\n",
       "  var NB_LOAD_WARNING = {'data': {'text/html':\n",
       "     \"<div style='background-color: #fdd'>\\n\"+\n",
       "     \"<p>\\n\"+\n",
       "     \"BokehJS does not appear to have successfully loaded. If loading BokehJS from CDN, this \\n\"+\n",
       "     \"may be due to a slow or bad network connection. Possible fixes:\\n\"+\n",
       "     \"</p>\\n\"+\n",
       "     \"<ul>\\n\"+\n",
       "     \"<li>re-rerun `output_notebook()` to attempt to load from CDN again, or</li>\\n\"+\n",
       "     \"<li>use INLINE resources instead, as so:</li>\\n\"+\n",
       "     \"</ul>\\n\"+\n",
       "     \"<code>\\n\"+\n",
       "     \"from bokeh.resources import INLINE\\n\"+\n",
       "     \"output_notebook(resources=INLINE)\\n\"+\n",
       "     \"</code>\\n\"+\n",
       "     \"</div>\"}};\n",
       "\n",
       "  function display_loaded() {\n",
       "    var el = document.getElementById(\"9c260996-bd4b-43e4-b03b-8e7bb24eed8a\");\n",
       "    if (el != null) {\n",
       "      el.textContent = \"BokehJS is loading...\";\n",
       "    }\n",
       "    if (root.Bokeh !== undefined) {\n",
       "      if (el != null) {\n",
       "        el.textContent = \"BokehJS \" + root.Bokeh.version + \" successfully loaded.\";\n",
       "      }\n",
       "    } else if (Date.now() < root._bokeh_timeout) {\n",
       "      setTimeout(display_loaded, 100)\n",
       "    }\n",
       "  }\n",
       "\n",
       "\n",
       "  function run_callbacks() {\n",
       "    try {\n",
       "      root._bokeh_onload_callbacks.forEach(function(callback) { callback() });\n",
       "    }\n",
       "    finally {\n",
       "      delete root._bokeh_onload_callbacks\n",
       "    }\n",
       "    console.info(\"Bokeh: all callbacks have finished\");\n",
       "  }\n",
       "\n",
       "  function load_libs(js_urls, callback) {\n",
       "    root._bokeh_onload_callbacks.push(callback);\n",
       "    if (root._bokeh_is_loading > 0) {\n",
       "      console.log(\"Bokeh: BokehJS is being loaded, scheduling callback at\", now());\n",
       "      return null;\n",
       "    }\n",
       "    if (js_urls == null || js_urls.length === 0) {\n",
       "      run_callbacks();\n",
       "      return null;\n",
       "    }\n",
       "    console.log(\"Bokeh: BokehJS not loaded, scheduling load and callback at\", now());\n",
       "    root._bokeh_is_loading = js_urls.length;\n",
       "    for (var i = 0; i < js_urls.length; i++) {\n",
       "      var url = js_urls[i];\n",
       "      var s = document.createElement('script');\n",
       "      s.src = url;\n",
       "      s.async = false;\n",
       "      s.onreadystatechange = s.onload = function() {\n",
       "        root._bokeh_is_loading--;\n",
       "        if (root._bokeh_is_loading === 0) {\n",
       "          console.log(\"Bokeh: all BokehJS libraries loaded\");\n",
       "          run_callbacks()\n",
       "        }\n",
       "      };\n",
       "      s.onerror = function() {\n",
       "        console.warn(\"failed to load library \" + url);\n",
       "      };\n",
       "      console.log(\"Bokeh: injecting script tag for BokehJS library: \", url);\n",
       "      document.getElementsByTagName(\"head\")[0].appendChild(s);\n",
       "    }\n",
       "  };var element = document.getElementById(\"9c260996-bd4b-43e4-b03b-8e7bb24eed8a\");\n",
       "  if (element == null) {\n",
       "    console.log(\"Bokeh: ERROR: autoload.js configured with elementid '9c260996-bd4b-43e4-b03b-8e7bb24eed8a' but no matching script tag was found. \")\n",
       "    return false;\n",
       "  }\n",
       "\n",
       "  var js_urls = [\"https://cdn.pydata.org/bokeh/release/bokeh-0.12.10.min.js\", \"https://cdn.pydata.org/bokeh/release/bokeh-widgets-0.12.10.min.js\", \"https://cdn.pydata.org/bokeh/release/bokeh-tables-0.12.10.min.js\", \"https://cdn.pydata.org/bokeh/release/bokeh-gl-0.12.10.min.js\"];\n",
       "\n",
       "  var inline_js = [\n",
       "    function(Bokeh) {\n",
       "      Bokeh.set_log_level(\"info\");\n",
       "    },\n",
       "    \n",
       "    function(Bokeh) {\n",
       "      \n",
       "    },\n",
       "    function(Bokeh) {\n",
       "      console.log(\"Bokeh: injecting CSS: https://cdn.pydata.org/bokeh/release/bokeh-0.12.10.min.css\");\n",
       "      Bokeh.embed.inject_css(\"https://cdn.pydata.org/bokeh/release/bokeh-0.12.10.min.css\");\n",
       "      console.log(\"Bokeh: injecting CSS: https://cdn.pydata.org/bokeh/release/bokeh-widgets-0.12.10.min.css\");\n",
       "      Bokeh.embed.inject_css(\"https://cdn.pydata.org/bokeh/release/bokeh-widgets-0.12.10.min.css\");\n",
       "      console.log(\"Bokeh: injecting CSS: https://cdn.pydata.org/bokeh/release/bokeh-tables-0.12.10.min.css\");\n",
       "      Bokeh.embed.inject_css(\"https://cdn.pydata.org/bokeh/release/bokeh-tables-0.12.10.min.css\");\n",
       "    }\n",
       "  ];\n",
       "\n",
       "  function run_inline_js() {\n",
       "    \n",
       "    if ((root.Bokeh !== undefined) || (force === true)) {\n",
       "      for (var i = 0; i < inline_js.length; i++) {\n",
       "        inline_js[i].call(root, root.Bokeh);\n",
       "      }if (force === true) {\n",
       "        display_loaded();\n",
       "      }} else if (Date.now() < root._bokeh_timeout) {\n",
       "      setTimeout(run_inline_js, 100);\n",
       "    } else if (!root._bokeh_failed_load) {\n",
       "      console.log(\"Bokeh: BokehJS failed to load within specified timeout.\");\n",
       "      root._bokeh_failed_load = true;\n",
       "    } else if (force !== true) {\n",
       "      var cell = $(document.getElementById(\"9c260996-bd4b-43e4-b03b-8e7bb24eed8a\")).parents('.cell').data().cell;\n",
       "      cell.output_area.append_execute_result(NB_LOAD_WARNING)\n",
       "    }\n",
       "\n",
       "  }\n",
       "\n",
       "  if (root._bokeh_is_loading === 0) {\n",
       "    console.log(\"Bokeh: BokehJS loaded, going straight to plotting\");\n",
       "    run_inline_js();\n",
       "  } else {\n",
       "    load_libs(js_urls, function() {\n",
       "      console.log(\"Bokeh: BokehJS plotting callback run at\", now());\n",
       "      run_inline_js();\n",
       "    });\n",
       "  }\n",
       "}(window));"
      ],
      "application/vnd.bokehjs_load.v0+json": "\n(function(root) {\n  function now() {\n    return new Date();\n  }\n\n  var force = true;\n\n  if (typeof (root._bokeh_onload_callbacks) === \"undefined\" || force === true) {\n    root._bokeh_onload_callbacks = [];\n    root._bokeh_is_loading = undefined;\n  }\n\n  \n\n  \n  if (typeof (root._bokeh_timeout) === \"undefined\" || force === true) {\n    root._bokeh_timeout = Date.now() + 5000;\n    root._bokeh_failed_load = false;\n  }\n\n  var NB_LOAD_WARNING = {'data': {'text/html':\n     \"<div style='background-color: #fdd'>\\n\"+\n     \"<p>\\n\"+\n     \"BokehJS does not appear to have successfully loaded. If loading BokehJS from CDN, this \\n\"+\n     \"may be due to a slow or bad network connection. Possible fixes:\\n\"+\n     \"</p>\\n\"+\n     \"<ul>\\n\"+\n     \"<li>re-rerun `output_notebook()` to attempt to load from CDN again, or</li>\\n\"+\n     \"<li>use INLINE resources instead, as so:</li>\\n\"+\n     \"</ul>\\n\"+\n     \"<code>\\n\"+\n     \"from bokeh.resources import INLINE\\n\"+\n     \"output_notebook(resources=INLINE)\\n\"+\n     \"</code>\\n\"+\n     \"</div>\"}};\n\n  function display_loaded() {\n    var el = document.getElementById(\"9c260996-bd4b-43e4-b03b-8e7bb24eed8a\");\n    if (el != null) {\n      el.textContent = \"BokehJS is loading...\";\n    }\n    if (root.Bokeh !== undefined) {\n      if (el != null) {\n        el.textContent = \"BokehJS \" + root.Bokeh.version + \" successfully loaded.\";\n      }\n    } else if (Date.now() < root._bokeh_timeout) {\n      setTimeout(display_loaded, 100)\n    }\n  }\n\n\n  function run_callbacks() {\n    try {\n      root._bokeh_onload_callbacks.forEach(function(callback) { callback() });\n    }\n    finally {\n      delete root._bokeh_onload_callbacks\n    }\n    console.info(\"Bokeh: all callbacks have finished\");\n  }\n\n  function load_libs(js_urls, callback) {\n    root._bokeh_onload_callbacks.push(callback);\n    if (root._bokeh_is_loading > 0) {\n      console.log(\"Bokeh: BokehJS is being loaded, scheduling callback at\", now());\n      return null;\n    }\n    if (js_urls == null || js_urls.length === 0) {\n      run_callbacks();\n      return null;\n    }\n    console.log(\"Bokeh: BokehJS not loaded, scheduling load and callback at\", now());\n    root._bokeh_is_loading = js_urls.length;\n    for (var i = 0; i < js_urls.length; i++) {\n      var url = js_urls[i];\n      var s = document.createElement('script');\n      s.src = url;\n      s.async = false;\n      s.onreadystatechange = s.onload = function() {\n        root._bokeh_is_loading--;\n        if (root._bokeh_is_loading === 0) {\n          console.log(\"Bokeh: all BokehJS libraries loaded\");\n          run_callbacks()\n        }\n      };\n      s.onerror = function() {\n        console.warn(\"failed to load library \" + url);\n      };\n      console.log(\"Bokeh: injecting script tag for BokehJS library: \", url);\n      document.getElementsByTagName(\"head\")[0].appendChild(s);\n    }\n  };var element = document.getElementById(\"9c260996-bd4b-43e4-b03b-8e7bb24eed8a\");\n  if (element == null) {\n    console.log(\"Bokeh: ERROR: autoload.js configured with elementid '9c260996-bd4b-43e4-b03b-8e7bb24eed8a' but no matching script tag was found. \")\n    return false;\n  }\n\n  var js_urls = [\"https://cdn.pydata.org/bokeh/release/bokeh-0.12.10.min.js\", \"https://cdn.pydata.org/bokeh/release/bokeh-widgets-0.12.10.min.js\", \"https://cdn.pydata.org/bokeh/release/bokeh-tables-0.12.10.min.js\", \"https://cdn.pydata.org/bokeh/release/bokeh-gl-0.12.10.min.js\"];\n\n  var inline_js = [\n    function(Bokeh) {\n      Bokeh.set_log_level(\"info\");\n    },\n    \n    function(Bokeh) {\n      \n    },\n    function(Bokeh) {\n      console.log(\"Bokeh: injecting CSS: https://cdn.pydata.org/bokeh/release/bokeh-0.12.10.min.css\");\n      Bokeh.embed.inject_css(\"https://cdn.pydata.org/bokeh/release/bokeh-0.12.10.min.css\");\n      console.log(\"Bokeh: injecting CSS: https://cdn.pydata.org/bokeh/release/bokeh-widgets-0.12.10.min.css\");\n      Bokeh.embed.inject_css(\"https://cdn.pydata.org/bokeh/release/bokeh-widgets-0.12.10.min.css\");\n      console.log(\"Bokeh: injecting CSS: https://cdn.pydata.org/bokeh/release/bokeh-tables-0.12.10.min.css\");\n      Bokeh.embed.inject_css(\"https://cdn.pydata.org/bokeh/release/bokeh-tables-0.12.10.min.css\");\n    }\n  ];\n\n  function run_inline_js() {\n    \n    if ((root.Bokeh !== undefined) || (force === true)) {\n      for (var i = 0; i < inline_js.length; i++) {\n        inline_js[i].call(root, root.Bokeh);\n      }if (force === true) {\n        display_loaded();\n      }} else if (Date.now() < root._bokeh_timeout) {\n      setTimeout(run_inline_js, 100);\n    } else if (!root._bokeh_failed_load) {\n      console.log(\"Bokeh: BokehJS failed to load within specified timeout.\");\n      root._bokeh_failed_load = true;\n    } else if (force !== true) {\n      var cell = $(document.getElementById(\"9c260996-bd4b-43e4-b03b-8e7bb24eed8a\")).parents('.cell').data().cell;\n      cell.output_area.append_execute_result(NB_LOAD_WARNING)\n    }\n\n  }\n\n  if (root._bokeh_is_loading === 0) {\n    console.log(\"Bokeh: BokehJS loaded, going straight to plotting\");\n    run_inline_js();\n  } else {\n    load_libs(js_urls, function() {\n      console.log(\"Bokeh: BokehJS plotting callback run at\", now());\n      run_inline_js();\n    });\n  }\n}(window));"
     },
     "metadata": {},
     "output_type": "display_data"
    }
   ],
   "source": [
    "output_notebook()"
   ]
  },
  {
   "cell_type": "markdown",
   "metadata": {},
   "source": [
    "# Some basic scatter plots"
   ]
  },
  {
   "cell_type": "code",
   "execution_count": 4,
   "metadata": {},
   "outputs": [
    {
     "data": {
      "text/html": [
       "\n",
       "<div class=\"bk-root\">\n",
       "    <div class=\"bk-plotdiv\" id=\"a51f87ac-0a3f-4142-b8a7-2906ca186f4b\"></div>\n",
       "</div>"
      ]
     },
     "metadata": {},
     "output_type": "display_data"
    },
    {
     "data": {
      "application/javascript": [
       "(function(root) {\n",
       "  function embed_document(root) {\n",
       "    var docs_json = {\"e56ba2c2-f6f4-46ec-aadf-93a0161b3f61\":{\"roots\":{\"references\":[{\"attributes\":{},\"id\":\"5eba787c-a1ff-4aaa-8a97-135b0a5fa7ae\",\"type\":\"LinearScale\"},{\"attributes\":{\"plot\":null,\"text\":\"\"},\"id\":\"efd0076f-6f4d-464a-b6d2-aa1bd79f05ff\",\"type\":\"Title\"},{\"attributes\":{},\"id\":\"e91c9462-2d9f-4f27-b47c-546ff8f8203f\",\"type\":\"LinearScale\"},{\"attributes\":{},\"id\":\"0e4ebb5e-58ac-486d-815c-b2294f61e42e\",\"type\":\"HelpTool\"},{\"attributes\":{\"formatter\":{\"id\":\"b112e213-11c7-44d1-b644-65c4300e3d57\",\"type\":\"BasicTickFormatter\"},\"plot\":{\"id\":\"f8710fc8-378b-4707-bf4b-5d4228298dd6\",\"subtype\":\"Figure\",\"type\":\"Plot\"},\"ticker\":{\"id\":\"45cf7eb6-4b54-4077-9060-0c8c29e84ff7\",\"type\":\"BasicTicker\"}},\"id\":\"424ef0e2-ef20-4b54-8f4a-b6276d547c8a\",\"type\":\"LinearAxis\"},{\"attributes\":{\"source\":{\"id\":\"061f777e-5285-4ab0-9692-5dc508723f12\",\"type\":\"ColumnDataSource\"}},\"id\":\"144729d9-cd1c-4e0a-865a-8ca81e3bb090\",\"type\":\"CDSView\"},{\"attributes\":{},\"id\":\"b112e213-11c7-44d1-b644-65c4300e3d57\",\"type\":\"BasicTickFormatter\"},{\"attributes\":{},\"id\":\"45cf7eb6-4b54-4077-9060-0c8c29e84ff7\",\"type\":\"BasicTicker\"},{\"attributes\":{},\"id\":\"dba1133e-4636-4d8b-9871-09a63bc3a03a\",\"type\":\"BasicTickFormatter\"},{\"attributes\":{\"fill_alpha\":{\"value\":0.1},\"fill_color\":{\"value\":\"#1f77b4\"},\"line_alpha\":{\"value\":0.1},\"line_color\":{\"value\":\"#1f77b4\"},\"size\":{\"units\":\"screen\",\"value\":15},\"x\":{\"field\":\"x\"},\"y\":{\"field\":\"y\"}},\"id\":\"03c4dd3e-a9f2-4abc-bf79-ca980f142322\",\"type\":\"Circle\"},{\"attributes\":{\"plot\":{\"id\":\"f8710fc8-378b-4707-bf4b-5d4228298dd6\",\"subtype\":\"Figure\",\"type\":\"Plot\"},\"ticker\":{\"id\":\"45cf7eb6-4b54-4077-9060-0c8c29e84ff7\",\"type\":\"BasicTicker\"}},\"id\":\"248b85d2-7e27-4037-9b31-64e5fcee830f\",\"type\":\"Grid\"},{\"attributes\":{\"formatter\":{\"id\":\"dba1133e-4636-4d8b-9871-09a63bc3a03a\",\"type\":\"BasicTickFormatter\"},\"plot\":{\"id\":\"f8710fc8-378b-4707-bf4b-5d4228298dd6\",\"subtype\":\"Figure\",\"type\":\"Plot\"},\"ticker\":{\"id\":\"a89b3245-7057-42b8-ad33-19a9d1e66993\",\"type\":\"BasicTicker\"}},\"id\":\"775be04a-99d3-4be4-9507-3cf378a4c93c\",\"type\":\"LinearAxis\"},{\"attributes\":{\"data_source\":{\"id\":\"061f777e-5285-4ab0-9692-5dc508723f12\",\"type\":\"ColumnDataSource\"},\"glyph\":{\"id\":\"9e4055ba-829f-4a49-8034-de117e7fd0d1\",\"type\":\"Circle\"},\"hover_glyph\":null,\"muted_glyph\":null,\"nonselection_glyph\":{\"id\":\"03c4dd3e-a9f2-4abc-bf79-ca980f142322\",\"type\":\"Circle\"},\"selection_glyph\":null,\"view\":{\"id\":\"144729d9-cd1c-4e0a-865a-8ca81e3bb090\",\"type\":\"CDSView\"}},\"id\":\"7a89cc17-81fc-4b6c-ac2b-2b7cc39878f7\",\"type\":\"GlyphRenderer\"},{\"attributes\":{\"bottom_units\":\"screen\",\"fill_alpha\":{\"value\":0.5},\"fill_color\":{\"value\":\"lightgrey\"},\"left_units\":\"screen\",\"level\":\"overlay\",\"line_alpha\":{\"value\":1.0},\"line_color\":{\"value\":\"black\"},\"line_dash\":[4,4],\"line_width\":{\"value\":2},\"plot\":null,\"render_mode\":\"css\",\"right_units\":\"screen\",\"top_units\":\"screen\"},\"id\":\"bce47868-5669-4e49-813e-6daab427b5a3\",\"type\":\"BoxAnnotation\"},{\"attributes\":{},\"id\":\"16462f93-6a1f-4b35-860a-c2e0aec73be2\",\"type\":\"SaveTool\"},{\"attributes\":{},\"id\":\"e017ed18-9594-4878-856f-408ea9de09c9\",\"type\":\"ResetTool\"},{\"attributes\":{},\"id\":\"a89b3245-7057-42b8-ad33-19a9d1e66993\",\"type\":\"BasicTicker\"},{\"attributes\":{\"below\":[{\"id\":\"424ef0e2-ef20-4b54-8f4a-b6276d547c8a\",\"type\":\"LinearAxis\"}],\"left\":[{\"id\":\"775be04a-99d3-4be4-9507-3cf378a4c93c\",\"type\":\"LinearAxis\"}],\"plot_height\":400,\"plot_width\":400,\"renderers\":[{\"id\":\"424ef0e2-ef20-4b54-8f4a-b6276d547c8a\",\"type\":\"LinearAxis\"},{\"id\":\"248b85d2-7e27-4037-9b31-64e5fcee830f\",\"type\":\"Grid\"},{\"id\":\"775be04a-99d3-4be4-9507-3cf378a4c93c\",\"type\":\"LinearAxis\"},{\"id\":\"b7c95d9d-ee35-47e7-8a8f-9a6fed77ebfd\",\"type\":\"Grid\"},{\"id\":\"bce47868-5669-4e49-813e-6daab427b5a3\",\"type\":\"BoxAnnotation\"},{\"id\":\"7a89cc17-81fc-4b6c-ac2b-2b7cc39878f7\",\"type\":\"GlyphRenderer\"}],\"title\":{\"id\":\"efd0076f-6f4d-464a-b6d2-aa1bd79f05ff\",\"type\":\"Title\"},\"toolbar\":{\"id\":\"50cb8ea0-58f3-4e9d-873d-b0066a542a21\",\"type\":\"Toolbar\"},\"x_range\":{\"id\":\"0f82b097-f62c-4510-b7a8-6201643c3ec5\",\"type\":\"DataRange1d\"},\"x_scale\":{\"id\":\"5eba787c-a1ff-4aaa-8a97-135b0a5fa7ae\",\"type\":\"LinearScale\"},\"y_range\":{\"id\":\"57ab3c62-722a-4f33-b23b-c016f45b9092\",\"type\":\"DataRange1d\"},\"y_scale\":{\"id\":\"e91c9462-2d9f-4f27-b47c-546ff8f8203f\",\"type\":\"LinearScale\"}},\"id\":\"f8710fc8-378b-4707-bf4b-5d4228298dd6\",\"subtype\":\"Figure\",\"type\":\"Plot\"},{\"attributes\":{\"dimension\":1,\"plot\":{\"id\":\"f8710fc8-378b-4707-bf4b-5d4228298dd6\",\"subtype\":\"Figure\",\"type\":\"Plot\"},\"ticker\":{\"id\":\"a89b3245-7057-42b8-ad33-19a9d1e66993\",\"type\":\"BasicTicker\"}},\"id\":\"b7c95d9d-ee35-47e7-8a8f-9a6fed77ebfd\",\"type\":\"Grid\"},{\"attributes\":{\"callback\":null,\"column_names\":[\"x\",\"y\"],\"data\":{\"x\":[1,2,3,4,5],\"y\":[6,7,2,4,5]}},\"id\":\"061f777e-5285-4ab0-9692-5dc508723f12\",\"type\":\"ColumnDataSource\"},{\"attributes\":{\"overlay\":{\"id\":\"bce47868-5669-4e49-813e-6daab427b5a3\",\"type\":\"BoxAnnotation\"}},\"id\":\"0a9bbe8f-b57c-46a4-bce2-41d391495fa8\",\"type\":\"BoxZoomTool\"},{\"attributes\":{\"active_drag\":\"auto\",\"active_inspect\":\"auto\",\"active_scroll\":\"auto\",\"active_tap\":\"auto\",\"tools\":[{\"id\":\"a97f024f-4b41-439c-8ba7-9df99893a5a4\",\"type\":\"PanTool\"},{\"id\":\"4730264c-96a7-45a7-8e7b-afa38f993fb8\",\"type\":\"WheelZoomTool\"},{\"id\":\"0a9bbe8f-b57c-46a4-bce2-41d391495fa8\",\"type\":\"BoxZoomTool\"},{\"id\":\"16462f93-6a1f-4b35-860a-c2e0aec73be2\",\"type\":\"SaveTool\"},{\"id\":\"e017ed18-9594-4878-856f-408ea9de09c9\",\"type\":\"ResetTool\"},{\"id\":\"0e4ebb5e-58ac-486d-815c-b2294f61e42e\",\"type\":\"HelpTool\"}]},\"id\":\"50cb8ea0-58f3-4e9d-873d-b0066a542a21\",\"type\":\"Toolbar\"},{\"attributes\":{\"fill_alpha\":{\"value\":0.5},\"fill_color\":{\"value\":\"orange\"},\"line_color\":{\"value\":\"navy\"},\"size\":{\"units\":\"screen\",\"value\":15},\"x\":{\"field\":\"x\"},\"y\":{\"field\":\"y\"}},\"id\":\"9e4055ba-829f-4a49-8034-de117e7fd0d1\",\"type\":\"Circle\"},{\"attributes\":{},\"id\":\"a97f024f-4b41-439c-8ba7-9df99893a5a4\",\"type\":\"PanTool\"},{\"attributes\":{\"callback\":null},\"id\":\"0f82b097-f62c-4510-b7a8-6201643c3ec5\",\"type\":\"DataRange1d\"},{\"attributes\":{},\"id\":\"4730264c-96a7-45a7-8e7b-afa38f993fb8\",\"type\":\"WheelZoomTool\"},{\"attributes\":{\"callback\":null},\"id\":\"57ab3c62-722a-4f33-b23b-c016f45b9092\",\"type\":\"DataRange1d\"}],\"root_ids\":[\"f8710fc8-378b-4707-bf4b-5d4228298dd6\"]},\"title\":\"Bokeh Application\",\"version\":\"0.12.10\"}};\n",
       "    var render_items = [{\"docid\":\"e56ba2c2-f6f4-46ec-aadf-93a0161b3f61\",\"elementid\":\"a51f87ac-0a3f-4142-b8a7-2906ca186f4b\",\"modelid\":\"f8710fc8-378b-4707-bf4b-5d4228298dd6\"}];\n",
       "\n",
       "    root.Bokeh.embed.embed_items(docs_json, render_items);\n",
       "  }\n",
       "\n",
       "  if (root.Bokeh !== undefined) {\n",
       "    embed_document(root);\n",
       "  } else {\n",
       "    var attempts = 0;\n",
       "    var timer = setInterval(function(root) {\n",
       "      if (root.Bokeh !== undefined) {\n",
       "        embed_document(root);\n",
       "        clearInterval(timer);\n",
       "      }\n",
       "      attempts++;\n",
       "      if (attempts > 100) {\n",
       "        console.log(\"Bokeh: ERROR: Unable to embed document because BokehJS library is missing\")\n",
       "        clearInterval(timer);\n",
       "      }\n",
       "    }, 10, root)\n",
       "  }\n",
       "})(window);"
      ],
      "application/vnd.bokehjs_exec.v0+json": ""
     },
     "metadata": {
      "application/vnd.bokehjs_exec.v0+json": {
       "id": "f8710fc8-378b-4707-bf4b-5d4228298dd6"
      }
     },
     "output_type": "display_data"
    }
   ],
   "source": [
    "#Create a new plot with default tools, using figure\n",
    "p=figure(plot_width=400,plot_height=400)\n",
    "\n",
    "#add circle renderer with a size color and alpha\n",
    "p.circle([1, 2, 3, 4, 5], [6, 7, 2, 4, 5],size=15,line_color=\"navy\",\n",
    "        fill_color=\"orange\",fill_alpha=0.5)\n",
    "\n",
    "show(p)"
   ]
  },
  {
   "cell_type": "code",
   "execution_count": 15,
   "metadata": {},
   "outputs": [
    {
     "data": {
      "text/html": [
       "\n",
       "<div class=\"bk-root\">\n",
       "    <div class=\"bk-plotdiv\" id=\"f4fbe790-9559-4470-8fce-4db4dca9555c\"></div>\n",
       "</div>"
      ]
     },
     "metadata": {},
     "output_type": "display_data"
    },
    {
     "data": {
      "application/javascript": [
       "(function(root) {\n",
       "  function embed_document(root) {\n",
       "    var docs_json = {\"a3967553-f780-4365-a116-fa057dfe82da\":{\"roots\":{\"references\":[{\"attributes\":{\"bottom_units\":\"screen\",\"fill_alpha\":{\"value\":0.5},\"fill_color\":{\"value\":\"lightgrey\"},\"left_units\":\"screen\",\"level\":\"overlay\",\"line_alpha\":{\"value\":1.0},\"line_color\":{\"value\":\"black\"},\"line_dash\":[4,4],\"line_width\":{\"value\":2},\"plot\":null,\"render_mode\":\"css\",\"right_units\":\"screen\",\"top_units\":\"screen\"},\"id\":\"3a267086-23d2-4222-b7c8-fc5107777c58\",\"type\":\"BoxAnnotation\"},{\"attributes\":{},\"id\":\"07a7c844-82a7-4077-9b9c-14c2153b9ef3\",\"type\":\"PanTool\"},{\"attributes\":{\"source\":{\"id\":\"3653cdc3-8ba6-4dae-9d65-ae50f3961ae4\",\"type\":\"ColumnDataSource\"}},\"id\":\"ff6e25ad-a163-4c4c-b2c7-98a09a2bff93\",\"type\":\"CDSView\"},{\"attributes\":{\"data_source\":{\"id\":\"3653cdc3-8ba6-4dae-9d65-ae50f3961ae4\",\"type\":\"ColumnDataSource\"},\"glyph\":{\"id\":\"e9c494a4-f3aa-4653-a920-68e8f6291dfe\",\"type\":\"Circle\"},\"hover_glyph\":null,\"muted_glyph\":null,\"nonselection_glyph\":{\"id\":\"1a0aa535-1196-43f3-850a-fb08a4545c96\",\"type\":\"Circle\"},\"selection_glyph\":null,\"view\":{\"id\":\"ff6e25ad-a163-4c4c-b2c7-98a09a2bff93\",\"type\":\"CDSView\"}},\"id\":\"4f344c57-f939-42b0-876a-9a5bf22dbe1f\",\"type\":\"GlyphRenderer\"},{\"attributes\":{\"below\":[{\"id\":\"eacfb2ba-93a9-4eb7-8b9f-381d4066dd26\",\"type\":\"LinearAxis\"}],\"left\":[{\"id\":\"80146ebd-06ed-4e57-b33e-b997463c1c0a\",\"type\":\"LinearAxis\"}],\"plot_height\":400,\"plot_width\":400,\"renderers\":[{\"id\":\"eacfb2ba-93a9-4eb7-8b9f-381d4066dd26\",\"type\":\"LinearAxis\"},{\"id\":\"3a779c05-29c5-4716-ab74-7e67ca1280a0\",\"type\":\"Grid\"},{\"id\":\"80146ebd-06ed-4e57-b33e-b997463c1c0a\",\"type\":\"LinearAxis\"},{\"id\":\"32ae9108-d9f3-4334-a179-9ff07aff775b\",\"type\":\"Grid\"},{\"id\":\"3a267086-23d2-4222-b7c8-fc5107777c58\",\"type\":\"BoxAnnotation\"},{\"id\":\"4f344c57-f939-42b0-876a-9a5bf22dbe1f\",\"type\":\"GlyphRenderer\"}],\"title\":{\"id\":\"ee15f6aa-59ca-4796-86ec-71719d38a4be\",\"type\":\"Title\"},\"toolbar\":{\"id\":\"90ac2f1b-3c79-4e6a-95d2-96d2d95677dc\",\"type\":\"Toolbar\"},\"x_range\":{\"id\":\"867c0f80-1bc0-4f8f-bcff-79e7d9c0b98e\",\"type\":\"DataRange1d\"},\"x_scale\":{\"id\":\"dee112ca-90cc-4e99-81da-aa992083c472\",\"type\":\"LinearScale\"},\"y_range\":{\"id\":\"313d000f-b3d4-4605-9f1f-7006b71f0eb5\",\"type\":\"DataRange1d\"},\"y_scale\":{\"id\":\"b9612e67-8d82-47a8-940c-a8d5e84a3c8a\",\"type\":\"LinearScale\"}},\"id\":\"cbbddec9-7b57-4cae-b934-acc7b3602c4d\",\"subtype\":\"Figure\",\"type\":\"Plot\"},{\"attributes\":{},\"id\":\"7bf80a9e-5e6c-4131-b8dc-5a63214b6064\",\"type\":\"WheelZoomTool\"},{\"attributes\":{\"active_drag\":\"auto\",\"active_inspect\":\"auto\",\"active_scroll\":\"auto\",\"active_tap\":\"auto\",\"tools\":[{\"id\":\"07a7c844-82a7-4077-9b9c-14c2153b9ef3\",\"type\":\"PanTool\"},{\"id\":\"7bf80a9e-5e6c-4131-b8dc-5a63214b6064\",\"type\":\"WheelZoomTool\"},{\"id\":\"df417b88-ab0c-454f-968e-66adb60dc523\",\"type\":\"BoxZoomTool\"},{\"id\":\"6d780c4c-983f-4c17-bcbb-a1f1acd80fb4\",\"type\":\"SaveTool\"},{\"id\":\"89c35e4b-4591-4559-969a-4bb886c77b85\",\"type\":\"ResetTool\"},{\"id\":\"8ee35480-db36-4acc-94cc-fe982c76318d\",\"type\":\"HelpTool\"}]},\"id\":\"90ac2f1b-3c79-4e6a-95d2-96d2d95677dc\",\"type\":\"Toolbar\"},{\"attributes\":{\"overlay\":{\"id\":\"3a267086-23d2-4222-b7c8-fc5107777c58\",\"type\":\"BoxAnnotation\"}},\"id\":\"df417b88-ab0c-454f-968e-66adb60dc523\",\"type\":\"BoxZoomTool\"},{\"attributes\":{\"callback\":null},\"id\":\"867c0f80-1bc0-4f8f-bcff-79e7d9c0b98e\",\"type\":\"DataRange1d\"},{\"attributes\":{},\"id\":\"6d780c4c-983f-4c17-bcbb-a1f1acd80fb4\",\"type\":\"SaveTool\"},{\"attributes\":{\"fill_alpha\":{\"value\":0.1},\"fill_color\":{\"value\":\"#1f77b4\"},\"line_alpha\":{\"value\":0.1},\"line_color\":{\"value\":\"#1f77b4\"},\"radius\":{\"units\":\"data\",\"value\":1},\"x\":{\"field\":\"x\"},\"y\":{\"field\":\"y\"}},\"id\":\"1a0aa535-1196-43f3-850a-fb08a4545c96\",\"type\":\"Circle\"},{\"attributes\":{\"callback\":null},\"id\":\"313d000f-b3d4-4605-9f1f-7006b71f0eb5\",\"type\":\"DataRange1d\"},{\"attributes\":{\"plot\":null,\"text\":\"\"},\"id\":\"ee15f6aa-59ca-4796-86ec-71719d38a4be\",\"type\":\"Title\"},{\"attributes\":{},\"id\":\"dee112ca-90cc-4e99-81da-aa992083c472\",\"type\":\"LinearScale\"},{\"attributes\":{},\"id\":\"89c35e4b-4591-4559-969a-4bb886c77b85\",\"type\":\"ResetTool\"},{\"attributes\":{},\"id\":\"b9612e67-8d82-47a8-940c-a8d5e84a3c8a\",\"type\":\"LinearScale\"},{\"attributes\":{},\"id\":\"8baa8746-a899-499b-9785-109463d86c0d\",\"type\":\"BasicTickFormatter\"},{\"attributes\":{\"plot\":{\"id\":\"cbbddec9-7b57-4cae-b934-acc7b3602c4d\",\"subtype\":\"Figure\",\"type\":\"Plot\"},\"ticker\":{\"id\":\"842da94f-85cc-442b-9c84-96ba0d5e971f\",\"type\":\"BasicTicker\"}},\"id\":\"3a779c05-29c5-4716-ab74-7e67ca1280a0\",\"type\":\"Grid\"},{\"attributes\":{\"formatter\":{\"id\":\"c68c2002-2e6e-4b67-93ef-5060ca1ee14e\",\"type\":\"BasicTickFormatter\"},\"plot\":{\"id\":\"cbbddec9-7b57-4cae-b934-acc7b3602c4d\",\"subtype\":\"Figure\",\"type\":\"Plot\"},\"ticker\":{\"id\":\"842da94f-85cc-442b-9c84-96ba0d5e971f\",\"type\":\"BasicTicker\"}},\"id\":\"eacfb2ba-93a9-4eb7-8b9f-381d4066dd26\",\"type\":\"LinearAxis\"},{\"attributes\":{},\"id\":\"842da94f-85cc-442b-9c84-96ba0d5e971f\",\"type\":\"BasicTicker\"},{\"attributes\":{\"formatter\":{\"id\":\"8baa8746-a899-499b-9785-109463d86c0d\",\"type\":\"BasicTickFormatter\"},\"plot\":{\"id\":\"cbbddec9-7b57-4cae-b934-acc7b3602c4d\",\"subtype\":\"Figure\",\"type\":\"Plot\"},\"ticker\":{\"id\":\"30d284ea-d0be-47ee-b84b-3c9a853fe828\",\"type\":\"BasicTicker\"}},\"id\":\"80146ebd-06ed-4e57-b33e-b997463c1c0a\",\"type\":\"LinearAxis\"},{\"attributes\":{},\"id\":\"30d284ea-d0be-47ee-b84b-3c9a853fe828\",\"type\":\"BasicTicker\"},{\"attributes\":{},\"id\":\"8ee35480-db36-4acc-94cc-fe982c76318d\",\"type\":\"HelpTool\"},{\"attributes\":{\"dimension\":1,\"plot\":{\"id\":\"cbbddec9-7b57-4cae-b934-acc7b3602c4d\",\"subtype\":\"Figure\",\"type\":\"Plot\"},\"ticker\":{\"id\":\"30d284ea-d0be-47ee-b84b-3c9a853fe828\",\"type\":\"BasicTicker\"}},\"id\":\"32ae9108-d9f3-4334-a179-9ff07aff775b\",\"type\":\"Grid\"},{\"attributes\":{\"callback\":null,\"column_names\":[\"x\",\"y\"],\"data\":{\"x\":{\"__ndarray__\":\"lej2k541I0DHconxqggeQGC+bxORjSNAazUNeoceIUA4sqF3tQvzP1rA2kRigvM/UVMWySrU8z+wPhjU3ioRQL7l0FDSfyBAWZ/3M+5mEkBsmJ7rWr4hQOq/IEPvayNAnVBpYjWIG0DwUx2ySxUYQAF6aMrJayNA\",\"dtype\":\"float64\",\"shape\":[15]},\"y\":{\"__ndarray__\":\"xtHsujosF0DL9LwjXI4WQEq69Tt8ehpAmVCvoemUHUDaylHphPggQJ6GvGdWehlAG/oLJ1/QFUBz41rgA84YQKqSi5dYvg1AmG/dEL6dAECmc7k4LTTlP7524W4HTxVAnPcf5tvJ9T/MpAU4MkUDQArba+eqNx5A\",\"dtype\":\"float64\",\"shape\":[15]}}},\"id\":\"3653cdc3-8ba6-4dae-9d65-ae50f3961ae4\",\"type\":\"ColumnDataSource\"},{\"attributes\":{},\"id\":\"c68c2002-2e6e-4b67-93ef-5060ca1ee14e\",\"type\":\"BasicTickFormatter\"},{\"attributes\":{\"fill_alpha\":{\"value\":0.3},\"fill_color\":{\"value\":\"navy\"},\"line_color\":{\"value\":null},\"radius\":{\"units\":\"data\",\"value\":1},\"x\":{\"field\":\"x\"},\"y\":{\"field\":\"y\"}},\"id\":\"e9c494a4-f3aa-4653-a920-68e8f6291dfe\",\"type\":\"Circle\"}],\"root_ids\":[\"cbbddec9-7b57-4cae-b934-acc7b3602c4d\"]},\"title\":\"Bokeh Application\",\"version\":\"0.12.10\"}};\n",
       "    var render_items = [{\"docid\":\"a3967553-f780-4365-a116-fa057dfe82da\",\"elementid\":\"f4fbe790-9559-4470-8fce-4db4dca9555c\",\"modelid\":\"cbbddec9-7b57-4cae-b934-acc7b3602c4d\"}];\n",
       "\n",
       "    root.Bokeh.embed.embed_items(docs_json, render_items);\n",
       "  }\n",
       "\n",
       "  if (root.Bokeh !== undefined) {\n",
       "    embed_document(root);\n",
       "  } else {\n",
       "    var attempts = 0;\n",
       "    var timer = setInterval(function(root) {\n",
       "      if (root.Bokeh !== undefined) {\n",
       "        embed_document(root);\n",
       "        clearInterval(timer);\n",
       "      }\n",
       "      attempts++;\n",
       "      if (attempts > 100) {\n",
       "        console.log(\"Bokeh: ERROR: Unable to embed document because BokehJS library is missing\")\n",
       "        clearInterval(timer);\n",
       "      }\n",
       "    }, 10, root)\n",
       "  }\n",
       "})(window);"
      ],
      "application/vnd.bokehjs_exec.v0+json": ""
     },
     "metadata": {
      "application/vnd.bokehjs_exec.v0+json": {
       "id": "cbbddec9-7b57-4cae-b934-acc7b3602c4d"
      }
     },
     "output_type": "display_data"
    }
   ],
   "source": [
    "import numpy as np\n",
    "x=np.random.random(15)*10\n",
    "y=np.random.random(15)*10\n",
    "p=figure(plot_width=400,plot_height=400)\n",
    "p.circle(x,y,radius=1,fill_color=\"navy\",line_color=None,fill_alpha=.3)\n",
    "show(p)"
   ]
  },
  {
   "cell_type": "code",
   "execution_count": 16,
   "metadata": {},
   "outputs": [
    {
     "data": {
      "text/html": [
       "\n",
       "<div class=\"bk-root\">\n",
       "    <div class=\"bk-plotdiv\" id=\"021729a1-b7c9-46eb-a023-f59d949a396e\"></div>\n",
       "</div>"
      ]
     },
     "metadata": {},
     "output_type": "display_data"
    },
    {
     "data": {
      "application/javascript": [
       "(function(root) {\n",
       "  function embed_document(root) {\n",
       "    var docs_json = {\"472c3ebd-30c5-4f48-b56b-b16ad7678bec\":{\"roots\":{\"references\":[{\"attributes\":{\"dimension\":1,\"plot\":{\"id\":\"ff057efd-46dd-4c13-84b9-ba001043ee59\",\"subtype\":\"Figure\",\"type\":\"Plot\"},\"ticker\":{\"id\":\"72a83a08-3f60-46cb-aef8-0af32b338f12\",\"type\":\"BasicTicker\"}},\"id\":\"af813b98-2988-4903-9fca-b6b32543e784\",\"type\":\"Grid\"},{\"attributes\":{\"source\":{\"id\":\"779fe9bf-c1ba-44f8-b75e-65b740305218\",\"type\":\"ColumnDataSource\"}},\"id\":\"c45aed41-d323-40a5-b71d-add29796082d\",\"type\":\"CDSView\"},{\"attributes\":{},\"id\":\"3552e37f-d9f7-4f2e-9496-262b27999e40\",\"type\":\"BasicTicker\"},{\"attributes\":{},\"id\":\"3e70a635-2e70-4cb0-935d-23df9fddd641\",\"type\":\"LinearScale\"},{\"attributes\":{\"plot\":null,\"text\":\"\"},\"id\":\"e11df28d-515c-4a65-a771-19e3a7f4a523\",\"type\":\"Title\"},{\"attributes\":{\"fill_alpha\":{\"value\":0.1},\"fill_color\":{\"value\":\"#1f77b4\"},\"line_alpha\":{\"value\":0.1},\"line_color\":{\"value\":\"#1f77b4\"},\"size\":{\"field\":\"size\",\"units\":\"screen\"},\"x\":{\"field\":\"x\"},\"y\":{\"field\":\"y\"}},\"id\":\"a60df3e9-c4e8-4a3e-a290-aa255d9a47f7\",\"type\":\"Square\"},{\"attributes\":{\"below\":[{\"id\":\"c01e7197-cfd7-49b9-bed1-5d04d706c500\",\"type\":\"LinearAxis\"}],\"left\":[{\"id\":\"37ebea11-2880-4dcf-9400-af68fc690f9c\",\"type\":\"LinearAxis\"}],\"plot_height\":400,\"plot_width\":400,\"renderers\":[{\"id\":\"c01e7197-cfd7-49b9-bed1-5d04d706c500\",\"type\":\"LinearAxis\"},{\"id\":\"f985f7ac-19e4-42e7-8960-e5ef864c4dda\",\"type\":\"Grid\"},{\"id\":\"37ebea11-2880-4dcf-9400-af68fc690f9c\",\"type\":\"LinearAxis\"},{\"id\":\"af813b98-2988-4903-9fca-b6b32543e784\",\"type\":\"Grid\"},{\"id\":\"fc61c14d-a175-445c-bbfd-9d64dc4014f8\",\"type\":\"BoxAnnotation\"},{\"id\":\"1768cea4-dac0-4276-80b5-69c82ad79932\",\"type\":\"GlyphRenderer\"}],\"title\":{\"id\":\"e11df28d-515c-4a65-a771-19e3a7f4a523\",\"type\":\"Title\"},\"toolbar\":{\"id\":\"24b5bfee-c878-49c0-b3ac-5c9677d8deaf\",\"type\":\"Toolbar\"},\"x_range\":{\"id\":\"27f76bce-0b72-4abd-9ff3-2e47ea6f10cc\",\"type\":\"DataRange1d\"},\"x_scale\":{\"id\":\"3e70a635-2e70-4cb0-935d-23df9fddd641\",\"type\":\"LinearScale\"},\"y_range\":{\"id\":\"53bb853a-2e6b-457f-b868-962fd2bf51a5\",\"type\":\"DataRange1d\"},\"y_scale\":{\"id\":\"397b9a1a-563a-4760-8550-a19d830a4c93\",\"type\":\"LinearScale\"}},\"id\":\"ff057efd-46dd-4c13-84b9-ba001043ee59\",\"subtype\":\"Figure\",\"type\":\"Plot\"},{\"attributes\":{\"plot\":{\"id\":\"ff057efd-46dd-4c13-84b9-ba001043ee59\",\"subtype\":\"Figure\",\"type\":\"Plot\"},\"ticker\":{\"id\":\"3552e37f-d9f7-4f2e-9496-262b27999e40\",\"type\":\"BasicTicker\"}},\"id\":\"f985f7ac-19e4-42e7-8960-e5ef864c4dda\",\"type\":\"Grid\"},{\"attributes\":{\"callback\":null},\"id\":\"27f76bce-0b72-4abd-9ff3-2e47ea6f10cc\",\"type\":\"DataRange1d\"},{\"attributes\":{\"active_drag\":\"auto\",\"active_inspect\":\"auto\",\"active_scroll\":\"auto\",\"active_tap\":\"auto\",\"tools\":[{\"id\":\"51fa29fc-e63b-46e0-9184-11f524d4cef0\",\"type\":\"PanTool\"},{\"id\":\"8e221dbf-8af3-4191-8532-70171c7dc6f4\",\"type\":\"WheelZoomTool\"},{\"id\":\"a3c11cf1-4674-44ba-aed1-3e4308d99c85\",\"type\":\"BoxZoomTool\"},{\"id\":\"9918e927-52f3-4154-99ef-c2a8656e70a0\",\"type\":\"SaveTool\"},{\"id\":\"b0f908ef-3960-4c3c-94ad-86cb5708ed53\",\"type\":\"ResetTool\"},{\"id\":\"f07e7cd6-1edc-4a88-b4df-4a092f3eb1b7\",\"type\":\"HelpTool\"}]},\"id\":\"24b5bfee-c878-49c0-b3ac-5c9677d8deaf\",\"type\":\"Toolbar\"},{\"attributes\":{\"fill_alpha\":{\"value\":0.6},\"fill_color\":{\"value\":\"firebrick\"},\"line_alpha\":{\"value\":0.6},\"line_color\":{\"value\":\"firebrick\"},\"size\":{\"field\":\"size\",\"units\":\"screen\"},\"x\":{\"field\":\"x\"},\"y\":{\"field\":\"y\"}},\"id\":\"4cdf6f5f-d2fd-472e-8aff-c73c196da1fe\",\"type\":\"Square\"},{\"attributes\":{},\"id\":\"f07e7cd6-1edc-4a88-b4df-4a092f3eb1b7\",\"type\":\"HelpTool\"},{\"attributes\":{},\"id\":\"9918e927-52f3-4154-99ef-c2a8656e70a0\",\"type\":\"SaveTool\"},{\"attributes\":{\"formatter\":{\"id\":\"d1e42c75-167f-483c-a8ef-390babd0d16b\",\"type\":\"BasicTickFormatter\"},\"plot\":{\"id\":\"ff057efd-46dd-4c13-84b9-ba001043ee59\",\"subtype\":\"Figure\",\"type\":\"Plot\"},\"ticker\":{\"id\":\"3552e37f-d9f7-4f2e-9496-262b27999e40\",\"type\":\"BasicTicker\"}},\"id\":\"c01e7197-cfd7-49b9-bed1-5d04d706c500\",\"type\":\"LinearAxis\"},{\"attributes\":{},\"id\":\"b0f908ef-3960-4c3c-94ad-86cb5708ed53\",\"type\":\"ResetTool\"},{\"attributes\":{\"bottom_units\":\"screen\",\"fill_alpha\":{\"value\":0.5},\"fill_color\":{\"value\":\"lightgrey\"},\"left_units\":\"screen\",\"level\":\"overlay\",\"line_alpha\":{\"value\":1.0},\"line_color\":{\"value\":\"black\"},\"line_dash\":[4,4],\"line_width\":{\"value\":2},\"plot\":null,\"render_mode\":\"css\",\"right_units\":\"screen\",\"top_units\":\"screen\"},\"id\":\"fc61c14d-a175-445c-bbfd-9d64dc4014f8\",\"type\":\"BoxAnnotation\"},{\"attributes\":{\"overlay\":{\"id\":\"fc61c14d-a175-445c-bbfd-9d64dc4014f8\",\"type\":\"BoxAnnotation\"}},\"id\":\"a3c11cf1-4674-44ba-aed1-3e4308d99c85\",\"type\":\"BoxZoomTool\"},{\"attributes\":{},\"id\":\"d1e42c75-167f-483c-a8ef-390babd0d16b\",\"type\":\"BasicTickFormatter\"},{\"attributes\":{},\"id\":\"3ac4c4c8-1881-40c0-bf48-ef4e5876a665\",\"type\":\"BasicTickFormatter\"},{\"attributes\":{\"data_source\":{\"id\":\"779fe9bf-c1ba-44f8-b75e-65b740305218\",\"type\":\"ColumnDataSource\"},\"glyph\":{\"id\":\"4cdf6f5f-d2fd-472e-8aff-c73c196da1fe\",\"type\":\"Square\"},\"hover_glyph\":null,\"muted_glyph\":null,\"nonselection_glyph\":{\"id\":\"a60df3e9-c4e8-4a3e-a290-aa255d9a47f7\",\"type\":\"Square\"},\"selection_glyph\":null,\"view\":{\"id\":\"c45aed41-d323-40a5-b71d-add29796082d\",\"type\":\"CDSView\"}},\"id\":\"1768cea4-dac0-4276-80b5-69c82ad79932\",\"type\":\"GlyphRenderer\"},{\"attributes\":{},\"id\":\"51fa29fc-e63b-46e0-9184-11f524d4cef0\",\"type\":\"PanTool\"},{\"attributes\":{\"formatter\":{\"id\":\"3ac4c4c8-1881-40c0-bf48-ef4e5876a665\",\"type\":\"BasicTickFormatter\"},\"plot\":{\"id\":\"ff057efd-46dd-4c13-84b9-ba001043ee59\",\"subtype\":\"Figure\",\"type\":\"Plot\"},\"ticker\":{\"id\":\"72a83a08-3f60-46cb-aef8-0af32b338f12\",\"type\":\"BasicTicker\"}},\"id\":\"37ebea11-2880-4dcf-9400-af68fc690f9c\",\"type\":\"LinearAxis\"},{\"attributes\":{},\"id\":\"72a83a08-3f60-46cb-aef8-0af32b338f12\",\"type\":\"BasicTicker\"},{\"attributes\":{\"callback\":null,\"column_names\":[\"x\",\"y\",\"size\"],\"data\":{\"size\":[10,15,20,25,30],\"x\":[1,2,3,4,5],\"y\":[6,7,2,4,5]}},\"id\":\"779fe9bf-c1ba-44f8-b75e-65b740305218\",\"type\":\"ColumnDataSource\"},{\"attributes\":{\"callback\":null},\"id\":\"53bb853a-2e6b-457f-b868-962fd2bf51a5\",\"type\":\"DataRange1d\"},{\"attributes\":{},\"id\":\"397b9a1a-563a-4760-8550-a19d830a4c93\",\"type\":\"LinearScale\"},{\"attributes\":{},\"id\":\"8e221dbf-8af3-4191-8532-70171c7dc6f4\",\"type\":\"WheelZoomTool\"}],\"root_ids\":[\"ff057efd-46dd-4c13-84b9-ba001043ee59\"]},\"title\":\"Bokeh Application\",\"version\":\"0.12.10\"}};\n",
       "    var render_items = [{\"docid\":\"472c3ebd-30c5-4f48-b56b-b16ad7678bec\",\"elementid\":\"021729a1-b7c9-46eb-a023-f59d949a396e\",\"modelid\":\"ff057efd-46dd-4c13-84b9-ba001043ee59\"}];\n",
       "\n",
       "    root.Bokeh.embed.embed_items(docs_json, render_items);\n",
       "  }\n",
       "\n",
       "  if (root.Bokeh !== undefined) {\n",
       "    embed_document(root);\n",
       "  } else {\n",
       "    var attempts = 0;\n",
       "    var timer = setInterval(function(root) {\n",
       "      if (root.Bokeh !== undefined) {\n",
       "        embed_document(root);\n",
       "        clearInterval(timer);\n",
       "      }\n",
       "      attempts++;\n",
       "      if (attempts > 100) {\n",
       "        console.log(\"Bokeh: ERROR: Unable to embed document because BokehJS library is missing\")\n",
       "        clearInterval(timer);\n",
       "      }\n",
       "    }, 10, root)\n",
       "  }\n",
       "})(window);"
      ],
      "application/vnd.bokehjs_exec.v0+json": ""
     },
     "metadata": {
      "application/vnd.bokehjs_exec.v0+json": {
       "id": "ff057efd-46dd-4c13-84b9-ba001043ee59"
      }
     },
     "output_type": "display_data"
    }
   ],
   "source": [
    "# Create a new plot using figure\n",
    "p=figure(plot_width=400,plot_height=400)\n",
    "p.square([1, 2, 3, 4, 5], [6, 7, 2, 4, 5], size=[10, 15, 20, 25, 30], color=\"firebrick\", alpha=0.6)\n",
    "show(p)"
   ]
  },
  {
   "cell_type": "markdown",
   "metadata": {},
   "source": [
    "Note that in the example above, we are also specifying different sizes for each individual marker. In general, all of a glyph's properties can be \"vectorized\" in this fashion. Also note that we have passed color as a shorthand to set both the line and fill colors easily at the same time. This is a convenience specific to bokeh.plotting.\n",
    "\n",
    "There are many marker types available in Bokeh, you can see details and example plots for all of them in the reference guide by clicking on entries in the list below:\n",
    "\n",
    "1. asterisk()\n",
    "2. circle()\n",
    "3. circle_cross()\n",
    "4. circle_x()\n",
    "5. cross()\n",
    "6. diamond()\n",
    "7. diamond_cross()\n",
    "8. inverted_triangle()\n",
    "9. square()\n",
    "10. square_cross()\n",
    "11. square_x()\n",
    "12. triangle()\n",
    "13. x()"
   ]
  },
  {
   "cell_type": "code",
   "execution_count": 23,
   "metadata": {},
   "outputs": [
    {
     "data": {
      "text/html": [
       "\n",
       "<div class=\"bk-root\">\n",
       "    <div class=\"bk-plotdiv\" id=\"2a179169-b07f-424c-8645-3035f3de2c84\"></div>\n",
       "</div>"
      ]
     },
     "metadata": {},
     "output_type": "display_data"
    },
    {
     "data": {
      "application/javascript": [
       "(function(root) {\n",
       "  function embed_document(root) {\n",
       "    var docs_json = {\"961629a3-8d1e-4dfd-949b-4fd70ca09c1d\":{\"roots\":{\"references\":[{\"attributes\":{\"data_source\":{\"id\":\"bebb07cb-2baa-45f7-9899-f9abf3b0ab8f\",\"type\":\"ColumnDataSource\"},\"glyph\":{\"id\":\"af56b87b-1fce-4a59-aeec-09a011e2563b\",\"type\":\"X\"},\"hover_glyph\":null,\"muted_glyph\":null,\"nonselection_glyph\":{\"id\":\"7b1a78cc-c430-489e-8609-c5aae3edafe0\",\"type\":\"X\"},\"selection_glyph\":null,\"view\":{\"id\":\"6012817c-c393-449e-864f-d167f7ea6efa\",\"type\":\"CDSView\"}},\"id\":\"21b496f1-1fa4-4e4e-9f74-9b558862766e\",\"type\":\"GlyphRenderer\"},{\"attributes\":{},\"id\":\"884f1430-6449-4aa4-aa92-0d279e8c3716\",\"type\":\"PanTool\"},{\"attributes\":{\"plot\":{\"id\":\"5ee43a01-655b-4d7e-aec1-797b3354887a\",\"subtype\":\"Figure\",\"type\":\"Plot\"},\"ticker\":{\"id\":\"ca696a60-ccc6-410d-8001-58e5d41d33f7\",\"type\":\"BasicTicker\"}},\"id\":\"565ca80e-ef55-407f-a2c8-8464dbbb95a9\",\"type\":\"Grid\"},{\"attributes\":{\"callback\":null,\"column_names\":[\"x\",\"y\"],\"data\":{\"x\":{\"__ndarray__\":\"lej2k541I0DHconxqggeQGC+bxORjSNAazUNeoceIUA4sqF3tQvzP1rA2kRigvM/UVMWySrU8z+wPhjU3ioRQL7l0FDSfyBAWZ/3M+5mEkBsmJ7rWr4hQOq/IEPvayNAnVBpYjWIG0DwUx2ySxUYQAF6aMrJayNA\",\"dtype\":\"float64\",\"shape\":[15]},\"y\":{\"__ndarray__\":\"xtHsujosF0DL9LwjXI4WQEq69Tt8ehpAmVCvoemUHUDaylHphPggQJ6GvGdWehlAG/oLJ1/QFUBz41rgA84YQKqSi5dYvg1AmG/dEL6dAECmc7k4LTTlP7524W4HTxVAnPcf5tvJ9T/MpAU4MkUDQArba+eqNx5A\",\"dtype\":\"float64\",\"shape\":[15]}}},\"id\":\"bebb07cb-2baa-45f7-9899-f9abf3b0ab8f\",\"type\":\"ColumnDataSource\"},{\"attributes\":{\"bottom_units\":\"screen\",\"fill_alpha\":{\"value\":0.5},\"fill_color\":{\"value\":\"lightgrey\"},\"left_units\":\"screen\",\"level\":\"overlay\",\"line_alpha\":{\"value\":1.0},\"line_color\":{\"value\":\"black\"},\"line_dash\":[4,4],\"line_width\":{\"value\":2},\"plot\":null,\"render_mode\":\"css\",\"right_units\":\"screen\",\"top_units\":\"screen\"},\"id\":\"e55c74fc-1c80-41c5-88a6-90470fb6362d\",\"type\":\"BoxAnnotation\"},{\"attributes\":{},\"id\":\"55db653a-5f00-42dd-9503-ad866b04a2d0\",\"type\":\"LinearScale\"},{\"attributes\":{},\"id\":\"d3b03f21-d518-4d37-91cb-53161e7fd162\",\"type\":\"BasicTicker\"},{\"attributes\":{},\"id\":\"ed7dcf43-5ae8-4b67-b1d3-fe1d46e0b18f\",\"type\":\"LinearScale\"},{\"attributes\":{\"callback\":null},\"id\":\"926c2858-7848-4cf4-89b6-e85f1f5feecd\",\"type\":\"DataRange1d\"},{\"attributes\":{\"plot\":null,\"text\":\"Different Plots\"},\"id\":\"11703e80-ebc7-4fc5-8362-9a13536c3aa9\",\"type\":\"Title\"},{\"attributes\":{\"formatter\":{\"id\":\"45a51672-e187-42e7-a83d-48fdcfed0101\",\"type\":\"BasicTickFormatter\"},\"plot\":{\"id\":\"5ee43a01-655b-4d7e-aec1-797b3354887a\",\"subtype\":\"Figure\",\"type\":\"Plot\"},\"ticker\":{\"id\":\"ca696a60-ccc6-410d-8001-58e5d41d33f7\",\"type\":\"BasicTicker\"}},\"id\":\"bb84e00e-4f37-49a9-b0f2-a62466eee17b\",\"type\":\"LinearAxis\"},{\"attributes\":{\"active_drag\":\"auto\",\"active_inspect\":\"auto\",\"active_scroll\":\"auto\",\"active_tap\":\"auto\",\"tools\":[{\"id\":\"884f1430-6449-4aa4-aa92-0d279e8c3716\",\"type\":\"PanTool\"},{\"id\":\"fcd34a6d-29c6-48c0-beb1-6a1e5749ed53\",\"type\":\"WheelZoomTool\"},{\"id\":\"58caf9f6-f821-44a0-a658-2ff8df62004e\",\"type\":\"BoxZoomTool\"},{\"id\":\"67055b62-5905-4133-929a-a26f92cd346f\",\"type\":\"SaveTool\"},{\"id\":\"752dffff-ceb2-4ca4-b0c9-2dec316613c9\",\"type\":\"ResetTool\"},{\"id\":\"347b9089-8a69-4496-89d9-30f7360d601a\",\"type\":\"HelpTool\"}]},\"id\":\"88eb1918-8892-457e-b1d7-2523d656bc32\",\"type\":\"Toolbar\"},{\"attributes\":{\"fill_alpha\":{\"value\":0.1},\"fill_color\":{\"value\":\"#1f77b4\"},\"line_alpha\":{\"value\":0.1},\"line_color\":{\"value\":\"#1f77b4\"},\"size\":{\"units\":\"screen\",\"value\":20},\"x\":{\"field\":\"x\"},\"y\":{\"field\":\"y\"}},\"id\":\"7b1a78cc-c430-489e-8609-c5aae3edafe0\",\"type\":\"X\"},{\"attributes\":{\"callback\":null},\"id\":\"a9a0c36c-15f0-4fe1-bb31-d998a50bb595\",\"type\":\"DataRange1d\"},{\"attributes\":{},\"id\":\"347b9089-8a69-4496-89d9-30f7360d601a\",\"type\":\"HelpTool\"},{\"attributes\":{\"formatter\":{\"id\":\"8b5a6936-df78-4142-bdef-0d7d3b7f8542\",\"type\":\"BasicTickFormatter\"},\"plot\":{\"id\":\"5ee43a01-655b-4d7e-aec1-797b3354887a\",\"subtype\":\"Figure\",\"type\":\"Plot\"},\"ticker\":{\"id\":\"d3b03f21-d518-4d37-91cb-53161e7fd162\",\"type\":\"BasicTicker\"}},\"id\":\"b709e312-21e9-4418-b6be-14ea67ed3781\",\"type\":\"LinearAxis\"},{\"attributes\":{\"below\":[{\"id\":\"bb84e00e-4f37-49a9-b0f2-a62466eee17b\",\"type\":\"LinearAxis\"}],\"left\":[{\"id\":\"b709e312-21e9-4418-b6be-14ea67ed3781\",\"type\":\"LinearAxis\"}],\"plot_height\":500,\"plot_width\":500,\"renderers\":[{\"id\":\"bb84e00e-4f37-49a9-b0f2-a62466eee17b\",\"type\":\"LinearAxis\"},{\"id\":\"565ca80e-ef55-407f-a2c8-8464dbbb95a9\",\"type\":\"Grid\"},{\"id\":\"b709e312-21e9-4418-b6be-14ea67ed3781\",\"type\":\"LinearAxis\"},{\"id\":\"3fa3421b-802d-4c10-83b4-3b127312c04f\",\"type\":\"Grid\"},{\"id\":\"e55c74fc-1c80-41c5-88a6-90470fb6362d\",\"type\":\"BoxAnnotation\"},{\"id\":\"21b496f1-1fa4-4e4e-9f74-9b558862766e\",\"type\":\"GlyphRenderer\"}],\"title\":{\"id\":\"11703e80-ebc7-4fc5-8362-9a13536c3aa9\",\"type\":\"Title\"},\"toolbar\":{\"id\":\"88eb1918-8892-457e-b1d7-2523d656bc32\",\"type\":\"Toolbar\"},\"x_range\":{\"id\":\"a9a0c36c-15f0-4fe1-bb31-d998a50bb595\",\"type\":\"DataRange1d\"},\"x_scale\":{\"id\":\"55db653a-5f00-42dd-9503-ad866b04a2d0\",\"type\":\"LinearScale\"},\"y_range\":{\"id\":\"926c2858-7848-4cf4-89b6-e85f1f5feecd\",\"type\":\"DataRange1d\"},\"y_scale\":{\"id\":\"ed7dcf43-5ae8-4b67-b1d3-fe1d46e0b18f\",\"type\":\"LinearScale\"}},\"id\":\"5ee43a01-655b-4d7e-aec1-797b3354887a\",\"subtype\":\"Figure\",\"type\":\"Plot\"},{\"attributes\":{},\"id\":\"752dffff-ceb2-4ca4-b0c9-2dec316613c9\",\"type\":\"ResetTool\"},{\"attributes\":{\"source\":{\"id\":\"bebb07cb-2baa-45f7-9899-f9abf3b0ab8f\",\"type\":\"ColumnDataSource\"}},\"id\":\"6012817c-c393-449e-864f-d167f7ea6efa\",\"type\":\"CDSView\"},{\"attributes\":{},\"id\":\"67055b62-5905-4133-929a-a26f92cd346f\",\"type\":\"SaveTool\"},{\"attributes\":{},\"id\":\"ca696a60-ccc6-410d-8001-58e5d41d33f7\",\"type\":\"BasicTicker\"},{\"attributes\":{\"fill_alpha\":{\"value\":0.3},\"fill_color\":{\"value\":\"black\"},\"size\":{\"units\":\"screen\",\"value\":20},\"x\":{\"field\":\"x\"},\"y\":{\"field\":\"y\"}},\"id\":\"af56b87b-1fce-4a59-aeec-09a011e2563b\",\"type\":\"X\"},{\"attributes\":{},\"id\":\"45a51672-e187-42e7-a83d-48fdcfed0101\",\"type\":\"BasicTickFormatter\"},{\"attributes\":{\"dimension\":1,\"plot\":{\"id\":\"5ee43a01-655b-4d7e-aec1-797b3354887a\",\"subtype\":\"Figure\",\"type\":\"Plot\"},\"ticker\":{\"id\":\"d3b03f21-d518-4d37-91cb-53161e7fd162\",\"type\":\"BasicTicker\"}},\"id\":\"3fa3421b-802d-4c10-83b4-3b127312c04f\",\"type\":\"Grid\"},{\"attributes\":{\"overlay\":{\"id\":\"e55c74fc-1c80-41c5-88a6-90470fb6362d\",\"type\":\"BoxAnnotation\"}},\"id\":\"58caf9f6-f821-44a0-a658-2ff8df62004e\",\"type\":\"BoxZoomTool\"},{\"attributes\":{},\"id\":\"8b5a6936-df78-4142-bdef-0d7d3b7f8542\",\"type\":\"BasicTickFormatter\"},{\"attributes\":{},\"id\":\"fcd34a6d-29c6-48c0-beb1-6a1e5749ed53\",\"type\":\"WheelZoomTool\"}],\"root_ids\":[\"5ee43a01-655b-4d7e-aec1-797b3354887a\"]},\"title\":\"Bokeh Application\",\"version\":\"0.12.10\"}};\n",
       "    var render_items = [{\"docid\":\"961629a3-8d1e-4dfd-949b-4fd70ca09c1d\",\"elementid\":\"2a179169-b07f-424c-8645-3035f3de2c84\",\"modelid\":\"5ee43a01-655b-4d7e-aec1-797b3354887a\"}];\n",
       "\n",
       "    root.Bokeh.embed.embed_items(docs_json, render_items);\n",
       "  }\n",
       "\n",
       "  if (root.Bokeh !== undefined) {\n",
       "    embed_document(root);\n",
       "  } else {\n",
       "    var attempts = 0;\n",
       "    var timer = setInterval(function(root) {\n",
       "      if (root.Bokeh !== undefined) {\n",
       "        embed_document(root);\n",
       "        clearInterval(timer);\n",
       "      }\n",
       "      attempts++;\n",
       "      if (attempts > 100) {\n",
       "        console.log(\"Bokeh: ERROR: Unable to embed document because BokehJS library is missing\")\n",
       "        clearInterval(timer);\n",
       "      }\n",
       "    }, 10, root)\n",
       "  }\n",
       "})(window);"
      ],
      "application/vnd.bokehjs_exec.v0+json": ""
     },
     "metadata": {
      "application/vnd.bokehjs_exec.v0+json": {
       "id": "5ee43a01-655b-4d7e-aec1-797b3354887a"
      }
     },
     "output_type": "display_data"
    }
   ],
   "source": [
    "p=figure(plot_width=500,plot_height=500,title=\"Different Plots\")\n",
    "p.x(x,y,color=\"black\", fill_alpha=0.3,size=20)\n",
    "show(p)"
   ]
  },
  {
   "cell_type": "markdown",
   "metadata": {},
   "source": [
    "# Basic Line Plots"
   ]
  },
  {
   "cell_type": "code",
   "execution_count": 25,
   "metadata": {},
   "outputs": [
    {
     "data": {
      "text/html": [
       "\n",
       "<div class=\"bk-root\">\n",
       "    <div class=\"bk-plotdiv\" id=\"5fdd50cb-fece-4bdc-9fad-ca4423dd2122\"></div>\n",
       "</div>"
      ]
     },
     "metadata": {},
     "output_type": "display_data"
    },
    {
     "data": {
      "application/javascript": [
       "(function(root) {\n",
       "  function embed_document(root) {\n",
       "    var docs_json = {\"5f51d59f-754a-4189-b83b-c4928865985d\":{\"roots\":{\"references\":[{\"attributes\":{\"below\":[{\"id\":\"4c31dc42-88a6-4a33-90cb-9e4db1285bfa\",\"type\":\"LinearAxis\"}],\"left\":[{\"id\":\"4b49c35d-b6e2-490e-8bf3-0308078a8e68\",\"type\":\"LinearAxis\"}],\"plot_height\":400,\"plot_width\":400,\"renderers\":[{\"id\":\"4c31dc42-88a6-4a33-90cb-9e4db1285bfa\",\"type\":\"LinearAxis\"},{\"id\":\"c3b14bbf-0646-4fda-b324-3ca1015a3a79\",\"type\":\"Grid\"},{\"id\":\"4b49c35d-b6e2-490e-8bf3-0308078a8e68\",\"type\":\"LinearAxis\"},{\"id\":\"4c4626db-3caf-405c-9743-cf868c76fc15\",\"type\":\"Grid\"},{\"id\":\"ec1eee37-c972-4385-b6eb-04043ce1c0c3\",\"type\":\"BoxAnnotation\"},{\"id\":\"279de108-ddb2-445f-b9e1-8f643170d60d\",\"type\":\"GlyphRenderer\"}],\"title\":{\"id\":\"8ecf8bb1-25c3-4406-8a10-36e116dad2e0\",\"type\":\"Title\"},\"toolbar\":{\"id\":\"d20d897f-ad49-459e-8bea-30d182742043\",\"type\":\"Toolbar\"},\"x_range\":{\"id\":\"85d00484-412d-487b-9968-6304ee7bb179\",\"type\":\"DataRange1d\"},\"x_scale\":{\"id\":\"f58f93c0-b7d7-4b89-9a63-5ec2458764d6\",\"type\":\"LinearScale\"},\"y_range\":{\"id\":\"799d6c35-d19a-4b2d-89ba-2a7c5850b0c9\",\"type\":\"DataRange1d\"},\"y_scale\":{\"id\":\"402e646a-7cde-4e17-a762-f67047d994fa\",\"type\":\"LinearScale\"}},\"id\":\"542d065e-6078-4b83-be26-b40350f1e376\",\"subtype\":\"Figure\",\"type\":\"Plot\"},{\"attributes\":{},\"id\":\"5f339b9e-4843-46b8-84d6-23a7b300212e\",\"type\":\"ResetTool\"},{\"attributes\":{\"bottom_units\":\"screen\",\"fill_alpha\":{\"value\":0.5},\"fill_color\":{\"value\":\"lightgrey\"},\"left_units\":\"screen\",\"level\":\"overlay\",\"line_alpha\":{\"value\":1.0},\"line_color\":{\"value\":\"black\"},\"line_dash\":[4,4],\"line_width\":{\"value\":2},\"plot\":null,\"render_mode\":\"css\",\"right_units\":\"screen\",\"top_units\":\"screen\"},\"id\":\"ec1eee37-c972-4385-b6eb-04043ce1c0c3\",\"type\":\"BoxAnnotation\"},{\"attributes\":{},\"id\":\"439b83af-b6bc-4da0-a6d9-8487ace5bc48\",\"type\":\"BasicTicker\"},{\"attributes\":{\"line_alpha\":{\"value\":0.1},\"line_color\":{\"value\":\"#1f77b4\"},\"line_width\":{\"value\":3},\"x\":{\"field\":\"x\"},\"y\":{\"field\":\"y\"}},\"id\":\"66ac8a65-e930-4cb7-9306-4e7417c8acdf\",\"type\":\"Line\"},{\"attributes\":{\"plot\":null,\"text\":\"My Line Plot\"},\"id\":\"8ecf8bb1-25c3-4406-8a10-36e116dad2e0\",\"type\":\"Title\"},{\"attributes\":{\"callback\":null,\"column_names\":[\"x\",\"y\"],\"data\":{\"x\":{\"__ndarray__\":\"lej2k541I0DHconxqggeQGC+bxORjSNAazUNeoceIUA4sqF3tQvzP1rA2kRigvM/UVMWySrU8z+wPhjU3ioRQL7l0FDSfyBAWZ/3M+5mEkBsmJ7rWr4hQOq/IEPvayNAnVBpYjWIG0DwUx2ySxUYQAF6aMrJayNA\",\"dtype\":\"float64\",\"shape\":[15]},\"y\":{\"__ndarray__\":\"xtHsujosF0DL9LwjXI4WQEq69Tt8ehpAmVCvoemUHUDaylHphPggQJ6GvGdWehlAG/oLJ1/QFUBz41rgA84YQKqSi5dYvg1AmG/dEL6dAECmc7k4LTTlP7524W4HTxVAnPcf5tvJ9T/MpAU4MkUDQArba+eqNx5A\",\"dtype\":\"float64\",\"shape\":[15]}}},\"id\":\"a8e7767a-c55c-4c23-b3c6-43649aba2233\",\"type\":\"ColumnDataSource\"},{\"attributes\":{\"formatter\":{\"id\":\"9df842df-424a-488c-85eb-b6a714a3573d\",\"type\":\"BasicTickFormatter\"},\"plot\":{\"id\":\"542d065e-6078-4b83-be26-b40350f1e376\",\"subtype\":\"Figure\",\"type\":\"Plot\"},\"ticker\":{\"id\":\"5332ada8-9a4b-4e44-90b1-8595251b1f72\",\"type\":\"BasicTicker\"}},\"id\":\"4c31dc42-88a6-4a33-90cb-9e4db1285bfa\",\"type\":\"LinearAxis\"},{\"attributes\":{},\"id\":\"5332ada8-9a4b-4e44-90b1-8595251b1f72\",\"type\":\"BasicTicker\"},{\"attributes\":{},\"id\":\"5172dfb0-b543-4940-80ba-d2c06489f392\",\"type\":\"HelpTool\"},{\"attributes\":{},\"id\":\"402e646a-7cde-4e17-a762-f67047d994fa\",\"type\":\"LinearScale\"},{\"attributes\":{\"data_source\":{\"id\":\"a8e7767a-c55c-4c23-b3c6-43649aba2233\",\"type\":\"ColumnDataSource\"},\"glyph\":{\"id\":\"9420accd-5017-4d52-8c1e-0121e2129696\",\"type\":\"Line\"},\"hover_glyph\":null,\"muted_glyph\":null,\"nonselection_glyph\":{\"id\":\"66ac8a65-e930-4cb7-9306-4e7417c8acdf\",\"type\":\"Line\"},\"selection_glyph\":null,\"view\":{\"id\":\"cfd6066c-b49b-4afc-99e2-8bf536c6fc65\",\"type\":\"CDSView\"}},\"id\":\"279de108-ddb2-445f-b9e1-8f643170d60d\",\"type\":\"GlyphRenderer\"},{\"attributes\":{},\"id\":\"fb3a469c-a9e4-42c8-822d-f77a0a34f0c5\",\"type\":\"BasicTickFormatter\"},{\"attributes\":{\"overlay\":{\"id\":\"ec1eee37-c972-4385-b6eb-04043ce1c0c3\",\"type\":\"BoxAnnotation\"}},\"id\":\"e01f5380-2a77-4580-9c11-eb3e92a4e2bc\",\"type\":\"BoxZoomTool\"},{\"attributes\":{\"formatter\":{\"id\":\"fb3a469c-a9e4-42c8-822d-f77a0a34f0c5\",\"type\":\"BasicTickFormatter\"},\"plot\":{\"id\":\"542d065e-6078-4b83-be26-b40350f1e376\",\"subtype\":\"Figure\",\"type\":\"Plot\"},\"ticker\":{\"id\":\"439b83af-b6bc-4da0-a6d9-8487ace5bc48\",\"type\":\"BasicTicker\"}},\"id\":\"4b49c35d-b6e2-490e-8bf3-0308078a8e68\",\"type\":\"LinearAxis\"},{\"attributes\":{\"active_drag\":\"auto\",\"active_inspect\":\"auto\",\"active_scroll\":\"auto\",\"active_tap\":\"auto\",\"tools\":[{\"id\":\"cb2b3ea5-6bc1-4ca8-9523-f07358c189b8\",\"type\":\"PanTool\"},{\"id\":\"43efa7ca-f258-4dc0-b225-0dc398c1c088\",\"type\":\"WheelZoomTool\"},{\"id\":\"e01f5380-2a77-4580-9c11-eb3e92a4e2bc\",\"type\":\"BoxZoomTool\"},{\"id\":\"5175955d-4306-4bac-8cfd-09b2243a030f\",\"type\":\"SaveTool\"},{\"id\":\"5f339b9e-4843-46b8-84d6-23a7b300212e\",\"type\":\"ResetTool\"},{\"id\":\"5172dfb0-b543-4940-80ba-d2c06489f392\",\"type\":\"HelpTool\"}]},\"id\":\"d20d897f-ad49-459e-8bea-30d182742043\",\"type\":\"Toolbar\"},{\"attributes\":{},\"id\":\"cb2b3ea5-6bc1-4ca8-9523-f07358c189b8\",\"type\":\"PanTool\"},{\"attributes\":{\"plot\":{\"id\":\"542d065e-6078-4b83-be26-b40350f1e376\",\"subtype\":\"Figure\",\"type\":\"Plot\"},\"ticker\":{\"id\":\"5332ada8-9a4b-4e44-90b1-8595251b1f72\",\"type\":\"BasicTicker\"}},\"id\":\"c3b14bbf-0646-4fda-b324-3ca1015a3a79\",\"type\":\"Grid\"},{\"attributes\":{},\"id\":\"43efa7ca-f258-4dc0-b225-0dc398c1c088\",\"type\":\"WheelZoomTool\"},{\"attributes\":{\"line_color\":{\"value\":\"#1f77b4\"},\"line_width\":{\"value\":3},\"x\":{\"field\":\"x\"},\"y\":{\"field\":\"y\"}},\"id\":\"9420accd-5017-4d52-8c1e-0121e2129696\",\"type\":\"Line\"},{\"attributes\":{\"callback\":null},\"id\":\"85d00484-412d-487b-9968-6304ee7bb179\",\"type\":\"DataRange1d\"},{\"attributes\":{},\"id\":\"f58f93c0-b7d7-4b89-9a63-5ec2458764d6\",\"type\":\"LinearScale\"},{\"attributes\":{},\"id\":\"9df842df-424a-488c-85eb-b6a714a3573d\",\"type\":\"BasicTickFormatter\"},{\"attributes\":{\"source\":{\"id\":\"a8e7767a-c55c-4c23-b3c6-43649aba2233\",\"type\":\"ColumnDataSource\"}},\"id\":\"cfd6066c-b49b-4afc-99e2-8bf536c6fc65\",\"type\":\"CDSView\"},{\"attributes\":{\"callback\":null},\"id\":\"799d6c35-d19a-4b2d-89ba-2a7c5850b0c9\",\"type\":\"DataRange1d\"},{\"attributes\":{},\"id\":\"5175955d-4306-4bac-8cfd-09b2243a030f\",\"type\":\"SaveTool\"},{\"attributes\":{\"dimension\":1,\"plot\":{\"id\":\"542d065e-6078-4b83-be26-b40350f1e376\",\"subtype\":\"Figure\",\"type\":\"Plot\"},\"ticker\":{\"id\":\"439b83af-b6bc-4da0-a6d9-8487ace5bc48\",\"type\":\"BasicTicker\"}},\"id\":\"4c4626db-3caf-405c-9743-cf868c76fc15\",\"type\":\"Grid\"}],\"root_ids\":[\"542d065e-6078-4b83-be26-b40350f1e376\"]},\"title\":\"Bokeh Application\",\"version\":\"0.12.10\"}};\n",
       "    var render_items = [{\"docid\":\"5f51d59f-754a-4189-b83b-c4928865985d\",\"elementid\":\"5fdd50cb-fece-4bdc-9fad-ca4423dd2122\",\"modelid\":\"542d065e-6078-4b83-be26-b40350f1e376\"}];\n",
       "\n",
       "    root.Bokeh.embed.embed_items(docs_json, render_items);\n",
       "  }\n",
       "\n",
       "  if (root.Bokeh !== undefined) {\n",
       "    embed_document(root);\n",
       "  } else {\n",
       "    var attempts = 0;\n",
       "    var timer = setInterval(function(root) {\n",
       "      if (root.Bokeh !== undefined) {\n",
       "        embed_document(root);\n",
       "        clearInterval(timer);\n",
       "      }\n",
       "      attempts++;\n",
       "      if (attempts > 100) {\n",
       "        console.log(\"Bokeh: ERROR: Unable to embed document because BokehJS library is missing\")\n",
       "        clearInterval(timer);\n",
       "      }\n",
       "    }, 10, root)\n",
       "  }\n",
       "})(window);"
      ],
      "application/vnd.bokehjs_exec.v0+json": ""
     },
     "metadata": {
      "application/vnd.bokehjs_exec.v0+json": {
       "id": "542d065e-6078-4b83-be26-b40350f1e376"
      }
     },
     "output_type": "display_data"
    }
   ],
   "source": [
    "# Create a new plot (with a title) using figure\n",
    "p=figure(plot_width=400,plot_height=400,title=\"My Line Plot\")\n",
    "\n",
    "#add a line renderer\n",
    "p.line(x,y,line_width=3)\n",
    "show(p)"
   ]
  },
  {
   "cell_type": "markdown",
   "metadata": {},
   "source": [
    "# Images \n",
    "This shows how to use the image_rgba method to display raw rgba data "
   ]
  },
  {
   "cell_type": "code",
   "execution_count": 27,
   "metadata": {},
   "outputs": [],
   "source": [
    "from __future__ import division\n",
    "import numpy as np\n",
    "\n",
    "#set up some data \n",
    "N=20\n",
    "img=np.empty((N,N),dtype=np.uint32)\n",
    "view=img.view(dtype=np.uint8).reshape((N,N,4))"
   ]
  },
  {
   "cell_type": "code",
   "execution_count": 32,
   "metadata": {},
   "outputs": [
    {
     "data": {
      "text/html": [
       "\n",
       "<div class=\"bk-root\">\n",
       "    <div class=\"bk-plotdiv\" id=\"c6f64669-14d2-41c5-a01b-44c83c4c8357\"></div>\n",
       "</div>"
      ]
     },
     "metadata": {},
     "output_type": "display_data"
    },
    {
     "data": {
      "application/javascript": [
       "(function(root) {\n",
       "  function embed_document(root) {\n",
       "    var docs_json = {\"7c545c32-b1bc-45ad-bd8b-14bd04a16d85\":{\"roots\":{\"references\":[{\"attributes\":{\"active_drag\":\"auto\",\"active_inspect\":\"auto\",\"active_scroll\":\"auto\",\"active_tap\":\"auto\",\"tools\":[{\"id\":\"487a9552-60e4-4882-8591-9dc82f698ee2\",\"type\":\"PanTool\"},{\"id\":\"a25b10b1-fb8c-4c44-8908-5d01dfc50f23\",\"type\":\"WheelZoomTool\"},{\"id\":\"c7a75e1b-5d03-4f10-a035-98ac42af4608\",\"type\":\"BoxZoomTool\"},{\"id\":\"96ba56d8-be74-4be2-b025-4b179135a77c\",\"type\":\"SaveTool\"},{\"id\":\"5f965ebe-674d-4e91-9e77-5be3b29f60da\",\"type\":\"ResetTool\"},{\"id\":\"019ee387-65fc-4595-af14-b9cabe392f73\",\"type\":\"HelpTool\"}]},\"id\":\"8f2e4a3b-8971-4693-89b2-0f7faf12f624\",\"type\":\"Toolbar\"},{\"attributes\":{\"dh\":{\"field\":\"dh\",\"units\":\"data\"},\"dw\":{\"field\":\"dw\",\"units\":\"data\"},\"image\":{\"field\":\"image\"},\"x\":{\"field\":\"x\"},\"y\":{\"field\":\"y\"}},\"id\":\"ece45869-b611-450b-8ed3-b376e5747080\",\"type\":\"ImageRGBA\"},{\"attributes\":{\"bottom_units\":\"screen\",\"fill_alpha\":{\"value\":0.5},\"fill_color\":{\"value\":\"lightgrey\"},\"left_units\":\"screen\",\"level\":\"overlay\",\"line_alpha\":{\"value\":1.0},\"line_color\":{\"value\":\"black\"},\"line_dash\":[4,4],\"line_width\":{\"value\":2},\"plot\":null,\"render_mode\":\"css\",\"right_units\":\"screen\",\"top_units\":\"screen\"},\"id\":\"f6e1a665-1dab-4e40-abe9-1beeeb762deb\",\"type\":\"BoxAnnotation\"},{\"attributes\":{\"plot\":null,\"text\":\"\"},\"id\":\"c93b91e4-7086-42cc-bed2-733a1f201807\",\"type\":\"Title\"},{\"attributes\":{},\"id\":\"76e3435f-32bd-45a6-b0f6-5941c4f90084\",\"type\":\"LinearScale\"},{\"attributes\":{},\"id\":\"019ee387-65fc-4595-af14-b9cabe392f73\",\"type\":\"HelpTool\"},{\"attributes\":{},\"id\":\"d37c4ced-6be5-41b0-8bbf-e5f73e95bd85\",\"type\":\"BasicTickFormatter\"},{\"attributes\":{},\"id\":\"ed90a860-e93d-457a-b76b-1a81152c8a21\",\"type\":\"BasicTicker\"},{\"attributes\":{},\"id\":\"95d594d0-3a26-431e-8aa2-43faa069f470\",\"type\":\"BasicTickFormatter\"},{\"attributes\":{\"data_source\":{\"id\":\"12e357b0-8d15-413b-a5bc-10f25712e4de\",\"type\":\"ColumnDataSource\"},\"glyph\":{\"id\":\"af0736f1-d315-4200-ad7b-ef6cc186e4b7\",\"type\":\"ImageRGBA\"},\"hover_glyph\":null,\"muted_glyph\":null,\"nonselection_glyph\":{\"id\":\"ece45869-b611-450b-8ed3-b376e5747080\",\"type\":\"ImageRGBA\"},\"selection_glyph\":null,\"view\":{\"id\":\"aa1b41a3-63e6-42bb-869b-4eb8b0170463\",\"type\":\"CDSView\"}},\"id\":\"5aa02bda-7ca0-4982-bf6a-2b72e9384ed9\",\"type\":\"GlyphRenderer\"},{\"attributes\":{\"callback\":null,\"end\":10},\"id\":\"3d68d0f0-2993-4459-b010-ef30437b447b\",\"type\":\"Range1d\"},{\"attributes\":{},\"id\":\"46962cea-6631-4b1d-9a4b-f3c0055c5802\",\"type\":\"BasicTicker\"},{\"attributes\":{},\"id\":\"c8235df4-b11a-4c18-a54a-8dd36684c767\",\"type\":\"LinearScale\"},{\"attributes\":{\"dh\":{\"field\":\"dh\",\"units\":\"data\"},\"dw\":{\"field\":\"dw\",\"units\":\"data\"},\"image\":{\"field\":\"image\"},\"x\":{\"field\":\"x\"},\"y\":{\"field\":\"y\"}},\"id\":\"af0736f1-d315-4200-ad7b-ef6cc186e4b7\",\"type\":\"ImageRGBA\"},{\"attributes\":{\"source\":{\"id\":\"12e357b0-8d15-413b-a5bc-10f25712e4de\",\"type\":\"ColumnDataSource\"}},\"id\":\"aa1b41a3-63e6-42bb-869b-4eb8b0170463\",\"type\":\"CDSView\"},{\"attributes\":{\"plot\":{\"id\":\"b61cd3bc-0d89-4edb-824d-3ba8affdda1c\",\"subtype\":\"Figure\",\"type\":\"Plot\"},\"ticker\":{\"id\":\"ed90a860-e93d-457a-b76b-1a81152c8a21\",\"type\":\"BasicTicker\"}},\"id\":\"f0f027d0-98a1-49cc-8594-284bd27fc08f\",\"type\":\"Grid\"},{\"attributes\":{\"below\":[{\"id\":\"cf601333-f0d9-4f9f-82e0-41b0efe7571b\",\"type\":\"LinearAxis\"}],\"left\":[{\"id\":\"f526a7f8-452d-47fd-a6ae-47bcdedc16b3\",\"type\":\"LinearAxis\"}],\"renderers\":[{\"id\":\"cf601333-f0d9-4f9f-82e0-41b0efe7571b\",\"type\":\"LinearAxis\"},{\"id\":\"f0f027d0-98a1-49cc-8594-284bd27fc08f\",\"type\":\"Grid\"},{\"id\":\"f526a7f8-452d-47fd-a6ae-47bcdedc16b3\",\"type\":\"LinearAxis\"},{\"id\":\"5022ae51-02ad-4026-aa3e-b8c3626b5344\",\"type\":\"Grid\"},{\"id\":\"f6e1a665-1dab-4e40-abe9-1beeeb762deb\",\"type\":\"BoxAnnotation\"},{\"id\":\"5aa02bda-7ca0-4982-bf6a-2b72e9384ed9\",\"type\":\"GlyphRenderer\"}],\"title\":{\"id\":\"c93b91e4-7086-42cc-bed2-733a1f201807\",\"type\":\"Title\"},\"toolbar\":{\"id\":\"8f2e4a3b-8971-4693-89b2-0f7faf12f624\",\"type\":\"Toolbar\"},\"x_range\":{\"id\":\"01a0c47a-0e14-4696-90dc-c1581d1e6ce8\",\"type\":\"Range1d\"},\"x_scale\":{\"id\":\"c8235df4-b11a-4c18-a54a-8dd36684c767\",\"type\":\"LinearScale\"},\"y_range\":{\"id\":\"3d68d0f0-2993-4459-b010-ef30437b447b\",\"type\":\"Range1d\"},\"y_scale\":{\"id\":\"76e3435f-32bd-45a6-b0f6-5941c4f90084\",\"type\":\"LinearScale\"}},\"id\":\"b61cd3bc-0d89-4edb-824d-3ba8affdda1c\",\"subtype\":\"Figure\",\"type\":\"Plot\"},{\"attributes\":{},\"id\":\"5f965ebe-674d-4e91-9e77-5be3b29f60da\",\"type\":\"ResetTool\"},{\"attributes\":{\"formatter\":{\"id\":\"95d594d0-3a26-431e-8aa2-43faa069f470\",\"type\":\"BasicTickFormatter\"},\"plot\":{\"id\":\"b61cd3bc-0d89-4edb-824d-3ba8affdda1c\",\"subtype\":\"Figure\",\"type\":\"Plot\"},\"ticker\":{\"id\":\"ed90a860-e93d-457a-b76b-1a81152c8a21\",\"type\":\"BasicTicker\"}},\"id\":\"cf601333-f0d9-4f9f-82e0-41b0efe7571b\",\"type\":\"LinearAxis\"},{\"attributes\":{},\"id\":\"487a9552-60e4-4882-8591-9dc82f698ee2\",\"type\":\"PanTool\"},{\"attributes\":{\"dimension\":1,\"plot\":{\"id\":\"b61cd3bc-0d89-4edb-824d-3ba8affdda1c\",\"subtype\":\"Figure\",\"type\":\"Plot\"},\"ticker\":{\"id\":\"46962cea-6631-4b1d-9a4b-f3c0055c5802\",\"type\":\"BasicTicker\"}},\"id\":\"5022ae51-02ad-4026-aa3e-b8c3626b5344\",\"type\":\"Grid\"},{\"attributes\":{\"callback\":null,\"column_names\":[\"image\",\"x\",\"y\",\"dw\",\"dh\"],\"data\":{\"dh\":[10],\"dw\":[10],\"image\":[{\"__ndarray__\":\"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\",\"dtype\":\"uint32\",\"shape\":[20,20]}],\"x\":[0],\"y\":[0]}},\"id\":\"12e357b0-8d15-413b-a5bc-10f25712e4de\",\"type\":\"ColumnDataSource\"},{\"attributes\":{},\"id\":\"a25b10b1-fb8c-4c44-8908-5d01dfc50f23\",\"type\":\"WheelZoomTool\"},{\"attributes\":{\"formatter\":{\"id\":\"d37c4ced-6be5-41b0-8bbf-e5f73e95bd85\",\"type\":\"BasicTickFormatter\"},\"plot\":{\"id\":\"b61cd3bc-0d89-4edb-824d-3ba8affdda1c\",\"subtype\":\"Figure\",\"type\":\"Plot\"},\"ticker\":{\"id\":\"46962cea-6631-4b1d-9a4b-f3c0055c5802\",\"type\":\"BasicTicker\"}},\"id\":\"f526a7f8-452d-47fd-a6ae-47bcdedc16b3\",\"type\":\"LinearAxis\"},{\"attributes\":{\"overlay\":{\"id\":\"f6e1a665-1dab-4e40-abe9-1beeeb762deb\",\"type\":\"BoxAnnotation\"}},\"id\":\"c7a75e1b-5d03-4f10-a035-98ac42af4608\",\"type\":\"BoxZoomTool\"},{\"attributes\":{\"callback\":null,\"end\":10},\"id\":\"01a0c47a-0e14-4696-90dc-c1581d1e6ce8\",\"type\":\"Range1d\"},{\"attributes\":{},\"id\":\"96ba56d8-be74-4be2-b025-4b179135a77c\",\"type\":\"SaveTool\"}],\"root_ids\":[\"b61cd3bc-0d89-4edb-824d-3ba8affdda1c\"]},\"title\":\"Bokeh Application\",\"version\":\"0.12.10\"}};\n",
       "    var render_items = [{\"docid\":\"7c545c32-b1bc-45ad-bd8b-14bd04a16d85\",\"elementid\":\"c6f64669-14d2-41c5-a01b-44c83c4c8357\",\"modelid\":\"b61cd3bc-0d89-4edb-824d-3ba8affdda1c\"}];\n",
       "\n",
       "    root.Bokeh.embed.embed_items(docs_json, render_items);\n",
       "  }\n",
       "\n",
       "  if (root.Bokeh !== undefined) {\n",
       "    embed_document(root);\n",
       "  } else {\n",
       "    var attempts = 0;\n",
       "    var timer = setInterval(function(root) {\n",
       "      if (root.Bokeh !== undefined) {\n",
       "        embed_document(root);\n",
       "        clearInterval(timer);\n",
       "      }\n",
       "      attempts++;\n",
       "      if (attempts > 100) {\n",
       "        console.log(\"Bokeh: ERROR: Unable to embed document because BokehJS library is missing\")\n",
       "        clearInterval(timer);\n",
       "      }\n",
       "    }, 10, root)\n",
       "  }\n",
       "})(window);"
      ],
      "application/vnd.bokehjs_exec.v0+json": ""
     },
     "metadata": {
      "application/vnd.bokehjs_exec.v0+json": {
       "id": "b61cd3bc-0d89-4edb-824d-3ba8affdda1c"
      }
     },
     "output_type": "display_data"
    }
   ],
   "source": [
    "for i in range(N):\n",
    "    for j in range(N):\n",
    "        view[i,j,1]=int(i/N*255) \n",
    "        view[i,j,3]=158\n",
    "        view[i,j,2]=int(j/N*255)\n",
    "        view[i,j,3]=255\n",
    "        \n",
    "#Create a new plot with a fixed range using figure\n",
    "p=figure(x_range=[0,10],y_range=[0,10])\n",
    "\n",
    "#Add an RGBA image renderer \n",
    "p.image_rgba(image=[img],x=[0],y=[0],dw=[10],dh=[10])\n",
    "show(p)"
   ]
  },
  {
   "cell_type": "markdown",
   "metadata": {},
   "source": [
    "# Plots with Multiple Glyphs\n",
    "It is possible to combine more than one glyph on a single figure. You just need to call multiple glyph methods on one figure object:\n"
   ]
  },
  {
   "cell_type": "code",
   "execution_count": 34,
   "metadata": {},
   "outputs": [
    {
     "data": {
      "text/html": [
       "\n",
       "<div class=\"bk-root\">\n",
       "    <div class=\"bk-plotdiv\" id=\"0104171c-eda0-4839-ad04-fe400dca3e03\"></div>\n",
       "</div>"
      ]
     },
     "metadata": {},
     "output_type": "display_data"
    },
    {
     "data": {
      "application/javascript": [
       "(function(root) {\n",
       "  function embed_document(root) {\n",
       "    var docs_json = {\"12a0a8f1-776b-4c25-b50c-ff91ff1fd604\":{\"roots\":{\"references\":[{\"attributes\":{},\"id\":\"f1174d5a-23d0-4136-bf53-ac99fd79f430\",\"type\":\"BasicTicker\"},{\"attributes\":{\"fill_color\":{\"value\":\"white\"},\"line_color\":{\"value\":\"#1f77b4\"},\"size\":{\"units\":\"screen\",\"value\":8},\"x\":{\"field\":\"x\"},\"y\":{\"field\":\"y\"}},\"id\":\"2edf059e-7603-4611-ab67-2058e87edb69\",\"type\":\"Circle\"},{\"attributes\":{\"line_alpha\":{\"value\":0.1},\"line_color\":{\"value\":\"#1f77b4\"},\"line_width\":{\"value\":2},\"x\":{\"field\":\"x\"},\"y\":{\"field\":\"y\"}},\"id\":\"f5bc6ed9-9b29-4927-aeda-121ad9d882bf\",\"type\":\"Line\"},{\"attributes\":{},\"id\":\"d97160a4-f86b-4ef9-9ef0-5c487e65ba15\",\"type\":\"PanTool\"},{\"attributes\":{\"bottom_units\":\"screen\",\"fill_alpha\":{\"value\":0.5},\"fill_color\":{\"value\":\"lightgrey\"},\"left_units\":\"screen\",\"level\":\"overlay\",\"line_alpha\":{\"value\":1.0},\"line_color\":{\"value\":\"black\"},\"line_dash\":[4,4],\"line_width\":{\"value\":2},\"plot\":null,\"render_mode\":\"css\",\"right_units\":\"screen\",\"top_units\":\"screen\"},\"id\":\"2b68fedf-0277-40b8-857a-696fa60c6d97\",\"type\":\"BoxAnnotation\"},{\"attributes\":{},\"id\":\"1fd0351c-140f-4243-a1e0-9e3daeaa47b6\",\"type\":\"BasicTicker\"},{\"attributes\":{\"data_source\":{\"id\":\"9c60eadd-417a-4f42-b064-d90376499a67\",\"type\":\"ColumnDataSource\"},\"glyph\":{\"id\":\"2edf059e-7603-4611-ab67-2058e87edb69\",\"type\":\"Circle\"},\"hover_glyph\":null,\"muted_glyph\":null,\"nonselection_glyph\":{\"id\":\"5ca42a8b-c35b-4acd-be65-6dff3eb887d0\",\"type\":\"Circle\"},\"selection_glyph\":null,\"view\":{\"id\":\"e932002e-11ed-4180-8707-28415e394dca\",\"type\":\"CDSView\"}},\"id\":\"cc213b0f-a533-45e2-b198-e2942d825c18\",\"type\":\"GlyphRenderer\"},{\"attributes\":{\"formatter\":{\"id\":\"ebedf2e9-afaf-4fa7-b9c9-c93dbf682c39\",\"type\":\"BasicTickFormatter\"},\"plot\":{\"id\":\"8013196d-7be8-4101-aa49-254a30db7d46\",\"subtype\":\"Figure\",\"type\":\"Plot\"},\"ticker\":{\"id\":\"1fd0351c-140f-4243-a1e0-9e3daeaa47b6\",\"type\":\"BasicTicker\"}},\"id\":\"a0a3a81d-c9fb-4224-9373-9de9edfa4ff8\",\"type\":\"LinearAxis\"},{\"attributes\":{\"callback\":null},\"id\":\"ac0fc0df-4753-45a5-923b-f076c8b11dcd\",\"type\":\"DataRange1d\"},{\"attributes\":{\"plot\":{\"id\":\"8013196d-7be8-4101-aa49-254a30db7d46\",\"subtype\":\"Figure\",\"type\":\"Plot\"},\"ticker\":{\"id\":\"f1174d5a-23d0-4136-bf53-ac99fd79f430\",\"type\":\"BasicTicker\"}},\"id\":\"a57ea1f6-fc30-4592-9aa6-4d8c92a79210\",\"type\":\"Grid\"},{\"attributes\":{\"below\":[{\"id\":\"893c4874-efbf-4545-8cc3-916d6e4576e2\",\"type\":\"LinearAxis\"}],\"left\":[{\"id\":\"a0a3a81d-c9fb-4224-9373-9de9edfa4ff8\",\"type\":\"LinearAxis\"}],\"plot_height\":400,\"plot_width\":400,\"renderers\":[{\"id\":\"893c4874-efbf-4545-8cc3-916d6e4576e2\",\"type\":\"LinearAxis\"},{\"id\":\"a57ea1f6-fc30-4592-9aa6-4d8c92a79210\",\"type\":\"Grid\"},{\"id\":\"a0a3a81d-c9fb-4224-9373-9de9edfa4ff8\",\"type\":\"LinearAxis\"},{\"id\":\"aec9f836-0861-4197-9c39-ad07d2610096\",\"type\":\"Grid\"},{\"id\":\"2b68fedf-0277-40b8-857a-696fa60c6d97\",\"type\":\"BoxAnnotation\"},{\"id\":\"c36ec5f7-6fa9-4b46-a52d-84f7be24d489\",\"type\":\"GlyphRenderer\"},{\"id\":\"cc213b0f-a533-45e2-b198-e2942d825c18\",\"type\":\"GlyphRenderer\"}],\"title\":{\"id\":\"57cf8d88-624b-4a59-9a80-a5c02e55ab39\",\"type\":\"Title\"},\"toolbar\":{\"id\":\"4b49daea-3419-4b9c-b452-155502e07bde\",\"type\":\"Toolbar\"},\"x_range\":{\"id\":\"81541f96-3a17-4b99-8c16-e69122a04ac1\",\"type\":\"DataRange1d\"},\"x_scale\":{\"id\":\"32c7a094-f3cb-4b6e-99eb-a03916465d42\",\"type\":\"LinearScale\"},\"y_range\":{\"id\":\"ac0fc0df-4753-45a5-923b-f076c8b11dcd\",\"type\":\"DataRange1d\"},\"y_scale\":{\"id\":\"08ef44ec-3ffa-4c36-8f1f-aad654f3ec3b\",\"type\":\"LinearScale\"}},\"id\":\"8013196d-7be8-4101-aa49-254a30db7d46\",\"subtype\":\"Figure\",\"type\":\"Plot\"},{\"attributes\":{\"active_drag\":\"auto\",\"active_inspect\":\"auto\",\"active_scroll\":\"auto\",\"active_tap\":\"auto\",\"tools\":[{\"id\":\"d97160a4-f86b-4ef9-9ef0-5c487e65ba15\",\"type\":\"PanTool\"},{\"id\":\"aa2024e5-e147-4afe-8780-5717fd6ff3d3\",\"type\":\"WheelZoomTool\"},{\"id\":\"242feac7-87f6-4a72-95f2-1860e1293f7e\",\"type\":\"BoxZoomTool\"},{\"id\":\"c92551bc-f4b3-4286-ae47-035cf920fe3b\",\"type\":\"SaveTool\"},{\"id\":\"4ae78229-eb0f-4b30-a3f2-11b45db487d8\",\"type\":\"ResetTool\"},{\"id\":\"d41a1934-2b87-458e-a38c-0c522b4659fb\",\"type\":\"HelpTool\"}]},\"id\":\"4b49daea-3419-4b9c-b452-155502e07bde\",\"type\":\"Toolbar\"},{\"attributes\":{\"source\":{\"id\":\"9c60eadd-417a-4f42-b064-d90376499a67\",\"type\":\"ColumnDataSource\"}},\"id\":\"e932002e-11ed-4180-8707-28415e394dca\",\"type\":\"CDSView\"},{\"attributes\":{\"dimension\":1,\"plot\":{\"id\":\"8013196d-7be8-4101-aa49-254a30db7d46\",\"subtype\":\"Figure\",\"type\":\"Plot\"},\"ticker\":{\"id\":\"1fd0351c-140f-4243-a1e0-9e3daeaa47b6\",\"type\":\"BasicTicker\"}},\"id\":\"aec9f836-0861-4197-9c39-ad07d2610096\",\"type\":\"Grid\"},{\"attributes\":{\"line_color\":{\"value\":\"#1f77b4\"},\"line_width\":{\"value\":2},\"x\":{\"field\":\"x\"},\"y\":{\"field\":\"y\"}},\"id\":\"b651e004-772c-467e-be7e-a3982f1f14eb\",\"type\":\"Line\"},{\"attributes\":{\"source\":{\"id\":\"580744dc-39bd-4a4a-9ab4-3648c56a92f4\",\"type\":\"ColumnDataSource\"}},\"id\":\"c2a18749-ee2d-40fd-b760-ff771c6ec301\",\"type\":\"CDSView\"},{\"attributes\":{\"callback\":null,\"column_names\":[\"x\",\"y\"],\"data\":{\"x\":[1,2,3,4,5],\"y\":[6,7,8,7,3]}},\"id\":\"580744dc-39bd-4a4a-9ab4-3648c56a92f4\",\"type\":\"ColumnDataSource\"},{\"attributes\":{\"plot\":null,\"text\":\"\"},\"id\":\"57cf8d88-624b-4a59-9a80-a5c02e55ab39\",\"type\":\"Title\"},{\"attributes\":{},\"id\":\"4ae78229-eb0f-4b30-a3f2-11b45db487d8\",\"type\":\"ResetTool\"},{\"attributes\":{\"callback\":null},\"id\":\"81541f96-3a17-4b99-8c16-e69122a04ac1\",\"type\":\"DataRange1d\"},{\"attributes\":{},\"id\":\"a6653a42-a639-4f4f-b612-c237622147a0\",\"type\":\"BasicTickFormatter\"},{\"attributes\":{\"fill_alpha\":{\"value\":0.1},\"fill_color\":{\"value\":\"#1f77b4\"},\"line_alpha\":{\"value\":0.1},\"line_color\":{\"value\":\"#1f77b4\"},\"size\":{\"units\":\"screen\",\"value\":8},\"x\":{\"field\":\"x\"},\"y\":{\"field\":\"y\"}},\"id\":\"5ca42a8b-c35b-4acd-be65-6dff3eb887d0\",\"type\":\"Circle\"},{\"attributes\":{},\"id\":\"08ef44ec-3ffa-4c36-8f1f-aad654f3ec3b\",\"type\":\"LinearScale\"},{\"attributes\":{},\"id\":\"d41a1934-2b87-458e-a38c-0c522b4659fb\",\"type\":\"HelpTool\"},{\"attributes\":{\"formatter\":{\"id\":\"a6653a42-a639-4f4f-b612-c237622147a0\",\"type\":\"BasicTickFormatter\"},\"plot\":{\"id\":\"8013196d-7be8-4101-aa49-254a30db7d46\",\"subtype\":\"Figure\",\"type\":\"Plot\"},\"ticker\":{\"id\":\"f1174d5a-23d0-4136-bf53-ac99fd79f430\",\"type\":\"BasicTicker\"}},\"id\":\"893c4874-efbf-4545-8cc3-916d6e4576e2\",\"type\":\"LinearAxis\"},{\"attributes\":{\"data_source\":{\"id\":\"580744dc-39bd-4a4a-9ab4-3648c56a92f4\",\"type\":\"ColumnDataSource\"},\"glyph\":{\"id\":\"b651e004-772c-467e-be7e-a3982f1f14eb\",\"type\":\"Line\"},\"hover_glyph\":null,\"muted_glyph\":null,\"nonselection_glyph\":{\"id\":\"f5bc6ed9-9b29-4927-aeda-121ad9d882bf\",\"type\":\"Line\"},\"selection_glyph\":null,\"view\":{\"id\":\"c2a18749-ee2d-40fd-b760-ff771c6ec301\",\"type\":\"CDSView\"}},\"id\":\"c36ec5f7-6fa9-4b46-a52d-84f7be24d489\",\"type\":\"GlyphRenderer\"},{\"attributes\":{},\"id\":\"c92551bc-f4b3-4286-ae47-035cf920fe3b\",\"type\":\"SaveTool\"},{\"attributes\":{},\"id\":\"32c7a094-f3cb-4b6e-99eb-a03916465d42\",\"type\":\"LinearScale\"},{\"attributes\":{\"overlay\":{\"id\":\"2b68fedf-0277-40b8-857a-696fa60c6d97\",\"type\":\"BoxAnnotation\"}},\"id\":\"242feac7-87f6-4a72-95f2-1860e1293f7e\",\"type\":\"BoxZoomTool\"},{\"attributes\":{\"callback\":null,\"column_names\":[\"x\",\"y\"],\"data\":{\"x\":[1,2,3,4,5],\"y\":[6,7,8,7,3]}},\"id\":\"9c60eadd-417a-4f42-b064-d90376499a67\",\"type\":\"ColumnDataSource\"},{\"attributes\":{},\"id\":\"aa2024e5-e147-4afe-8780-5717fd6ff3d3\",\"type\":\"WheelZoomTool\"},{\"attributes\":{},\"id\":\"ebedf2e9-afaf-4fa7-b9c9-c93dbf682c39\",\"type\":\"BasicTickFormatter\"}],\"root_ids\":[\"8013196d-7be8-4101-aa49-254a30db7d46\"]},\"title\":\"Bokeh Application\",\"version\":\"0.12.10\"}};\n",
       "    var render_items = [{\"docid\":\"12a0a8f1-776b-4c25-b50c-ff91ff1fd604\",\"elementid\":\"0104171c-eda0-4839-ad04-fe400dca3e03\",\"modelid\":\"8013196d-7be8-4101-aa49-254a30db7d46\"}];\n",
       "\n",
       "    root.Bokeh.embed.embed_items(docs_json, render_items);\n",
       "  }\n",
       "\n",
       "  if (root.Bokeh !== undefined) {\n",
       "    embed_document(root);\n",
       "  } else {\n",
       "    var attempts = 0;\n",
       "    var timer = setInterval(function(root) {\n",
       "      if (root.Bokeh !== undefined) {\n",
       "        embed_document(root);\n",
       "        clearInterval(timer);\n",
       "      }\n",
       "      attempts++;\n",
       "      if (attempts > 100) {\n",
       "        console.log(\"Bokeh: ERROR: Unable to embed document because BokehJS library is missing\")\n",
       "        clearInterval(timer);\n",
       "      }\n",
       "    }, 10, root)\n",
       "  }\n",
       "})(window);"
      ],
      "application/vnd.bokehjs_exec.v0+json": ""
     },
     "metadata": {
      "application/vnd.bokehjs_exec.v0+json": {
       "id": "8013196d-7be8-4101-aa49-254a30db7d46"
      }
     },
     "output_type": "display_data"
    }
   ],
   "source": [
    "x=[1,2,3,4,5]\n",
    "y=[6,7,8,7,3]\n",
    "\n",
    "#Create a new plot with figure\n",
    "p=figure(plot_width=400,plot_height=400)\n",
    "\n",
    "#Adding both a line and circles on the same poot\n",
    "p.line(x,y,line_width=2)\n",
    "p.circle(x,y,fill_color=\"white\",size=8)\n",
    "\n",
    "show(p)"
   ]
  },
  {
   "cell_type": "code",
   "execution_count": 40,
   "metadata": {},
   "outputs": [
    {
     "data": {
      "text/html": [
       "\n",
       "<div class=\"bk-root\">\n",
       "    <div class=\"bk-plotdiv\" id=\"d1236bfc-5c76-4398-8bf3-7514208f92ca\"></div>\n",
       "</div>"
      ]
     },
     "metadata": {},
     "output_type": "display_data"
    },
    {
     "data": {
      "application/javascript": [
       "(function(root) {\n",
       "  function embed_document(root) {\n",
       "    var docs_json = {\"f9c081fb-7fd8-42b8-a8a4-af799dc2cc3b\":{\"roots\":{\"references\":[{\"attributes\":{\"plot\":{\"id\":\"47ba2561-0b6d-4a39-851e-def6f3396ef8\",\"subtype\":\"Figure\",\"type\":\"Plot\"},\"ticker\":{\"id\":\"9ffd1800-5d00-470e-abf1-23b89b4bc249\",\"type\":\"BasicTicker\"}},\"id\":\"f71d0298-5060-4c32-9134-d3614ceb19a5\",\"type\":\"Grid\"},{\"attributes\":{\"bottom_units\":\"screen\",\"fill_alpha\":{\"value\":0.5},\"fill_color\":{\"value\":\"lightgrey\"},\"left_units\":\"screen\",\"level\":\"overlay\",\"line_alpha\":{\"value\":1.0},\"line_color\":{\"value\":\"black\"},\"line_dash\":[4,4],\"line_width\":{\"value\":2},\"plot\":null,\"render_mode\":\"css\",\"right_units\":\"screen\",\"top_units\":\"screen\"},\"id\":\"27763342-5c07-47bd-b893-7dd98865eea6\",\"type\":\"BoxAnnotation\"},{\"attributes\":{\"line_color\":{\"value\":\"orange\"},\"x\":{\"field\":\"x\"},\"y\":{\"field\":\"y\"}},\"id\":\"c24b05df-8eef-4a0b-b25e-daa999ac9e63\",\"type\":\"Line\"},{\"attributes\":{\"data_source\":{\"id\":\"e5627450-5be2-4a57-8b85-fb70c29e9554\",\"type\":\"ColumnDataSource\"},\"glyph\":{\"id\":\"c24b05df-8eef-4a0b-b25e-daa999ac9e63\",\"type\":\"Line\"},\"hover_glyph\":null,\"muted_glyph\":null,\"nonselection_glyph\":{\"id\":\"61ac2449-a9f5-4095-aa9b-1e2335f8bcea\",\"type\":\"Line\"},\"selection_glyph\":null,\"view\":{\"id\":\"08b2df83-4f2f-437d-98d0-e79731a5c554\",\"type\":\"CDSView\"}},\"id\":\"7700971f-7123-4e8a-a31e-d2d462e9aa67\",\"type\":\"GlyphRenderer\"},{\"attributes\":{\"source\":{\"id\":\"e5627450-5be2-4a57-8b85-fb70c29e9554\",\"type\":\"ColumnDataSource\"}},\"id\":\"08b2df83-4f2f-437d-98d0-e79731a5c554\",\"type\":\"CDSView\"},{\"attributes\":{},\"id\":\"e6985884-adb9-4da2-b355-f3957501c085\",\"type\":\"PanTool\"},{\"attributes\":{\"plot\":null,\"text\":\"\"},\"id\":\"60a00827-31ea-45b0-b239-d265624dae7a\",\"type\":\"Title\"},{\"attributes\":{\"data_source\":{\"id\":\"8f096034-f4fc-4837-a55c-542220bc7f69\",\"type\":\"ColumnDataSource\"},\"glyph\":{\"id\":\"56c6d503-a7f2-4874-a8e1-ece75bd25c43\",\"type\":\"Square\"},\"hover_glyph\":null,\"muted_glyph\":null,\"nonselection_glyph\":{\"id\":\"8d050bf9-47a3-4312-b243-e6080c6c9b84\",\"type\":\"Square\"},\"selection_glyph\":null,\"view\":{\"id\":\"f406dc7c-aa83-40fe-a93a-070f6c64f69c\",\"type\":\"CDSView\"}},\"id\":\"b35424fa-5c83-44f2-aadb-aa3d6f8106ef\",\"type\":\"GlyphRenderer\"},{\"attributes\":{},\"id\":\"6b17aa4b-e841-409d-9198-a1a89e79a65c\",\"type\":\"SaveTool\"},{\"attributes\":{\"fill_alpha\":{\"value\":0.1},\"fill_color\":{\"value\":\"#1f77b4\"},\"line_alpha\":{\"value\":0.1},\"line_color\":{\"value\":\"#1f77b4\"},\"size\":{\"units\":\"screen\",\"value\":8},\"x\":{\"field\":\"x\"},\"y\":{\"field\":\"y\"}},\"id\":\"8d050bf9-47a3-4312-b243-e6080c6c9b84\",\"type\":\"Square\"},{\"attributes\":{},\"id\":\"8389da1d-d57d-455d-a559-6f7b1eca8c0d\",\"type\":\"LinearScale\"},{\"attributes\":{\"source\":{\"id\":\"8f096034-f4fc-4837-a55c-542220bc7f69\",\"type\":\"ColumnDataSource\"}},\"id\":\"f406dc7c-aa83-40fe-a93a-070f6c64f69c\",\"type\":\"CDSView\"},{\"attributes\":{\"callback\":null},\"id\":\"5bc0f57b-8516-4147-8aa2-9781282f7ed5\",\"type\":\"DataRange1d\"},{\"attributes\":{},\"id\":\"6840f701-535d-44dc-9560-b2eb4032f3fa\",\"type\":\"ResetTool\"},{\"attributes\":{},\"id\":\"c298854a-fb19-4d8a-93e7-aee1f8fd8ed4\",\"type\":\"LinearScale\"},{\"attributes\":{\"callback\":null,\"column_names\":[\"x\",\"y\"],\"data\":{\"x\":{\"__ndarray__\":\"jwHNLUKB7T94jX9rw6XoP+ScXytaCuQ/SGQUxwMV1T88/76jf9rUP2Hnl3bl7uY/t/Ka59U47z+7UvahoQ/sP+R/5ANn48E/PYKgegRR6j8=\",\"dtype\":\"float64\",\"shape\":[10]},\"y\":{\"__ndarray__\":\"GFVlM+C3sj8Ce9PkRxDfP/hwMNm6O7A/JlQU9vO91T9An2e63RzoP4hnpfWGUN4/TMzm5FJ15z9Uq6HaGI3AP/jPxxHfcLk/LLUEIU1w2z8=\",\"dtype\":\"float64\",\"shape\":[10]}}},\"id\":\"8f096034-f4fc-4837-a55c-542220bc7f69\",\"type\":\"ColumnDataSource\"},{\"attributes\":{\"fill_color\":{\"value\":\"white\"},\"line_color\":{\"value\":\"#1f77b4\"},\"size\":{\"units\":\"screen\",\"value\":8},\"x\":{\"field\":\"x\"},\"y\":{\"field\":\"y\"}},\"id\":\"56c6d503-a7f2-4874-a8e1-ece75bd25c43\",\"type\":\"Square\"},{\"attributes\":{\"callback\":null,\"column_names\":[\"x\",\"y\"],\"data\":{\"x\":{\"__ndarray__\":\"jwHNLUKB7T94jX9rw6XoP+ScXytaCuQ/SGQUxwMV1T88/76jf9rUP2Hnl3bl7uY/t/Ka59U47z+7UvahoQ/sP+R/5ANn48E/PYKgegRR6j8=\",\"dtype\":\"float64\",\"shape\":[10]},\"y\":{\"__ndarray__\":\"GFVlM+C3sj8Ce9PkRxDfP/hwMNm6O7A/JlQU9vO91T9An2e63RzoP4hnpfWGUN4/TMzm5FJ15z9Uq6HaGI3AP/jPxxHfcLk/LLUEIU1w2z8=\",\"dtype\":\"float64\",\"shape\":[10]}}},\"id\":\"e5627450-5be2-4a57-8b85-fb70c29e9554\",\"type\":\"ColumnDataSource\"},{\"attributes\":{\"below\":[{\"id\":\"fab92875-e8ea-43f9-ae87-905b5e350b53\",\"type\":\"LinearAxis\"}],\"left\":[{\"id\":\"ec8cd033-1bba-4e26-ae74-dc4bd031b0d7\",\"type\":\"LinearAxis\"}],\"plot_height\":500,\"plot_width\":500,\"renderers\":[{\"id\":\"fab92875-e8ea-43f9-ae87-905b5e350b53\",\"type\":\"LinearAxis\"},{\"id\":\"f71d0298-5060-4c32-9134-d3614ceb19a5\",\"type\":\"Grid\"},{\"id\":\"ec8cd033-1bba-4e26-ae74-dc4bd031b0d7\",\"type\":\"LinearAxis\"},{\"id\":\"0d051f37-357d-408c-b898-bcf0dfaaedde\",\"type\":\"Grid\"},{\"id\":\"27763342-5c07-47bd-b893-7dd98865eea6\",\"type\":\"BoxAnnotation\"},{\"id\":\"7700971f-7123-4e8a-a31e-d2d462e9aa67\",\"type\":\"GlyphRenderer\"},{\"id\":\"b35424fa-5c83-44f2-aadb-aa3d6f8106ef\",\"type\":\"GlyphRenderer\"}],\"title\":{\"id\":\"60a00827-31ea-45b0-b239-d265624dae7a\",\"type\":\"Title\"},\"toolbar\":{\"id\":\"0538374c-2cd0-4cb7-81c3-565b2d856745\",\"type\":\"Toolbar\"},\"x_range\":{\"id\":\"36f2f298-87b6-4373-bac9-aafd7ae97ec9\",\"type\":\"DataRange1d\"},\"x_scale\":{\"id\":\"c298854a-fb19-4d8a-93e7-aee1f8fd8ed4\",\"type\":\"LinearScale\"},\"y_range\":{\"id\":\"5bc0f57b-8516-4147-8aa2-9781282f7ed5\",\"type\":\"DataRange1d\"},\"y_scale\":{\"id\":\"8389da1d-d57d-455d-a559-6f7b1eca8c0d\",\"type\":\"LinearScale\"}},\"id\":\"47ba2561-0b6d-4a39-851e-def6f3396ef8\",\"subtype\":\"Figure\",\"type\":\"Plot\"},{\"attributes\":{\"callback\":null},\"id\":\"36f2f298-87b6-4373-bac9-aafd7ae97ec9\",\"type\":\"DataRange1d\"},{\"attributes\":{\"active_drag\":\"auto\",\"active_inspect\":\"auto\",\"active_scroll\":\"auto\",\"active_tap\":\"auto\",\"tools\":[{\"id\":\"e6985884-adb9-4da2-b355-f3957501c085\",\"type\":\"PanTool\"},{\"id\":\"31efb61a-9427-4123-bda0-11de66c101f5\",\"type\":\"WheelZoomTool\"},{\"id\":\"422e0e3d-47de-4d56-8afa-ac38eadb79df\",\"type\":\"BoxZoomTool\"},{\"id\":\"6b17aa4b-e841-409d-9198-a1a89e79a65c\",\"type\":\"SaveTool\"},{\"id\":\"6840f701-535d-44dc-9560-b2eb4032f3fa\",\"type\":\"ResetTool\"},{\"id\":\"a206327c-3292-4699-a506-ba50d42f30f5\",\"type\":\"HelpTool\"}]},\"id\":\"0538374c-2cd0-4cb7-81c3-565b2d856745\",\"type\":\"Toolbar\"},{\"attributes\":{\"overlay\":{\"id\":\"27763342-5c07-47bd-b893-7dd98865eea6\",\"type\":\"BoxAnnotation\"}},\"id\":\"422e0e3d-47de-4d56-8afa-ac38eadb79df\",\"type\":\"BoxZoomTool\"},{\"attributes\":{},\"id\":\"df21db70-0f4d-4e41-9244-0c42bedfc9b6\",\"type\":\"BasicTickFormatter\"},{\"attributes\":{},\"id\":\"47af147b-68c5-4bc9-a917-b24a2095073d\",\"type\":\"BasicTicker\"},{\"attributes\":{},\"id\":\"a206327c-3292-4699-a506-ba50d42f30f5\",\"type\":\"HelpTool\"},{\"attributes\":{\"line_alpha\":{\"value\":0.1},\"line_color\":{\"value\":\"#1f77b4\"},\"x\":{\"field\":\"x\"},\"y\":{\"field\":\"y\"}},\"id\":\"61ac2449-a9f5-4095-aa9b-1e2335f8bcea\",\"type\":\"Line\"},{\"attributes\":{},\"id\":\"f4b71477-1416-4f8b-83fc-c46efc190336\",\"type\":\"BasicTickFormatter\"},{\"attributes\":{},\"id\":\"31efb61a-9427-4123-bda0-11de66c101f5\",\"type\":\"WheelZoomTool\"},{\"attributes\":{\"dimension\":1,\"plot\":{\"id\":\"47ba2561-0b6d-4a39-851e-def6f3396ef8\",\"subtype\":\"Figure\",\"type\":\"Plot\"},\"ticker\":{\"id\":\"47af147b-68c5-4bc9-a917-b24a2095073d\",\"type\":\"BasicTicker\"}},\"id\":\"0d051f37-357d-408c-b898-bcf0dfaaedde\",\"type\":\"Grid\"},{\"attributes\":{\"formatter\":{\"id\":\"df21db70-0f4d-4e41-9244-0c42bedfc9b6\",\"type\":\"BasicTickFormatter\"},\"plot\":{\"id\":\"47ba2561-0b6d-4a39-851e-def6f3396ef8\",\"subtype\":\"Figure\",\"type\":\"Plot\"},\"ticker\":{\"id\":\"47af147b-68c5-4bc9-a917-b24a2095073d\",\"type\":\"BasicTicker\"}},\"id\":\"ec8cd033-1bba-4e26-ae74-dc4bd031b0d7\",\"type\":\"LinearAxis\"},{\"attributes\":{},\"id\":\"9ffd1800-5d00-470e-abf1-23b89b4bc249\",\"type\":\"BasicTicker\"},{\"attributes\":{\"formatter\":{\"id\":\"f4b71477-1416-4f8b-83fc-c46efc190336\",\"type\":\"BasicTickFormatter\"},\"plot\":{\"id\":\"47ba2561-0b6d-4a39-851e-def6f3396ef8\",\"subtype\":\"Figure\",\"type\":\"Plot\"},\"ticker\":{\"id\":\"9ffd1800-5d00-470e-abf1-23b89b4bc249\",\"type\":\"BasicTicker\"}},\"id\":\"fab92875-e8ea-43f9-ae87-905b5e350b53\",\"type\":\"LinearAxis\"}],\"root_ids\":[\"47ba2561-0b6d-4a39-851e-def6f3396ef8\"]},\"title\":\"Bokeh Application\",\"version\":\"0.12.10\"}};\n",
       "    var render_items = [{\"docid\":\"f9c081fb-7fd8-42b8-a8a4-af799dc2cc3b\",\"elementid\":\"d1236bfc-5c76-4398-8bf3-7514208f92ca\",\"modelid\":\"47ba2561-0b6d-4a39-851e-def6f3396ef8\"}];\n",
       "\n",
       "    root.Bokeh.embed.embed_items(docs_json, render_items);\n",
       "  }\n",
       "\n",
       "  if (root.Bokeh !== undefined) {\n",
       "    embed_document(root);\n",
       "  } else {\n",
       "    var attempts = 0;\n",
       "    var timer = setInterval(function(root) {\n",
       "      if (root.Bokeh !== undefined) {\n",
       "        embed_document(root);\n",
       "        clearInterval(timer);\n",
       "      }\n",
       "      attempts++;\n",
       "      if (attempts > 100) {\n",
       "        console.log(\"Bokeh: ERROR: Unable to embed document because BokehJS library is missing\")\n",
       "        clearInterval(timer);\n",
       "      }\n",
       "    }, 10, root)\n",
       "  }\n",
       "})(window);"
      ],
      "application/vnd.bokehjs_exec.v0+json": ""
     },
     "metadata": {
      "application/vnd.bokehjs_exec.v0+json": {
       "id": "47ba2561-0b6d-4a39-851e-def6f3396ef8"
      }
     },
     "output_type": "display_data"
    }
   ],
   "source": [
    "x=np.random.random(10)\n",
    "y=np.random.random(10)\n",
    "p=figure(plot_width=500,plot_height=500)\n",
    "p.line(x,y,color=\"orange\")\n",
    "p.square(x,y,fill_color=\"white\",size=8\n",
    "        )\n",
    "show(p)"
   ]
  },
  {
   "cell_type": "code",
   "execution_count": null,
   "metadata": {},
   "outputs": [],
   "source": []
  }
 ],
 "metadata": {
  "kernelspec": {
   "display_name": "Python [conda root]",
   "language": "python",
   "name": "conda-root-py"
  },
  "language_info": {
   "codemirror_mode": {
    "name": "ipython",
    "version": 3
   },
   "file_extension": ".py",
   "mimetype": "text/x-python",
   "name": "python",
   "nbconvert_exporter": "python",
   "pygments_lexer": "ipython3",
   "version": "3.6.3"
  }
 },
 "nbformat": 4,
 "nbformat_minor": 2
}
